{
 "cells": [
  {
   "cell_type": "markdown",
   "metadata": {},
   "source": [
    "# Make Machine Learning with Flask Part II: document your API\n",
    "\n",
    "In this second part we are asking you to create an HTML page at the index of your website in order to serve a documentation about your API.\n",
    "\n",
    "You should work in the same folder as the previous exercice.\n",
    "\n",
    "You are free to build your documentation as you wish. But remember that your end user should understand:\n",
    "\n",
    "- which endpoint to call to make a prediction,\n",
    "- what are the parameters he needs to inform,\n",
    "- what is a response type,\n",
    "- what kind of error you handle,\n",
    "- any informations you think to be suitable to give him.\n",
    "\n",
    "Remember: you can create HTML templates 😉."
   ]
  },
  {
   "cell_type": "markdown",
   "metadata": {},
   "source": [
    "Here is an example:\n",
    "\n",
    "<img src=\"https://full-stack-assets.s3.eu-west-3.amazonaws.com/images/M09-D04-Ex02-API_doc_example.png\" alt=\"API documentation example\">"
   ]
  }
 ],
 "metadata": {
  "kernelspec": {
   "display_name": "Python 3",
   "language": "python",
   "name": "python3"
  },
  "language_info": {
   "codemirror_mode": {
    "name": "ipython",
    "version": 3
   },
   "file_extension": ".py",
   "mimetype": "text/x-python",
   "name": "python",
   "nbconvert_exporter": "python",
   "pygments_lexer": "ipython3",
   "version": "3.7.6"
  }
 },
 "nbformat": 4,
 "nbformat_minor": 4
}
