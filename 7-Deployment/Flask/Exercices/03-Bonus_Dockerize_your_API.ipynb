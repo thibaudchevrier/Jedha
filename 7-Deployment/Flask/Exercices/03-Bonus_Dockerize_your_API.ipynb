{
 "cells": [
  {
   "cell_type": "markdown",
   "metadata": {},
   "source": [
    "# BONUS – Make Machine Learning with Flask Part III: dockerize your API\n",
    "\n",
    "This a bonus exercise. You must have completed part I and part II before starting this one.\n",
    "\n",
    "In this exercise, you have to build a `Dockerfile` so as to run your API inside a Docker.\n",
    "\n",
    "You will need to:\n",
    "\n",
    "- create your own `Dockerfile`,\n",
    "- add the parameter `host` to `app.run()` (in your `app.py`) in order to listen to all IP connections – more documentation about it <a href=\"https://flask.palletsprojects.com/en/1.1.x/quickstart/\" target=\"_blank\">here</a> (hint: look for _Externally Visible Server_).\n",
    "\n",
    "Finally, build and run your Docker image. If everything went well you should access to your documentation on `http://0.0.0.0/` and your endpoint to `http://0.0.0.0/predict` – or something similar."
   ]
  }
 ],
 "metadata": {
  "kernelspec": {
   "display_name": "Python 3",
   "language": "python",
   "name": "python3"
  },
  "language_info": {
   "codemirror_mode": {
    "name": "ipython",
    "version": 3
   },
   "file_extension": ".py",
   "mimetype": "text/x-python",
   "name": "python",
   "nbconvert_exporter": "python",
   "pygments_lexer": "ipython3",
   "version": "3.7.6"
  }
 },
 "nbformat": 4,
 "nbformat_minor": 4
}
