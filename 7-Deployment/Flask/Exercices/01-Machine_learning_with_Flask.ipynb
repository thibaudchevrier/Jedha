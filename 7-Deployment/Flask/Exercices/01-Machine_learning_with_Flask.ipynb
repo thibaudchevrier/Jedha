{
 "cells": [
  {
   "cell_type": "markdown",
   "metadata": {},
   "source": [
    "# Make Machine Learning with Flask Part I\n",
    "\n",
    "This exercise is in two parts:\n",
    "\n",
    "- the first one aims to build an API around a linear regression model,\n",
    "- the second one will ask you to create a documentation for your future users.\n",
    "\n",
    "We are going to use the dataset `Salary_Data.csv`.\n",
    "\n",
    "1. Setup your virtual environment and create a new folder.\n",
    "\n",
    "2. Create a new file `train.py` and add code to:\n",
    "    - load your data\n",
    "    - train your model\n",
    "    - save it once the model is fitted\n",
    "\n",
    "\n",
    "3. Create the Flask application `app.py` where we asked you to:\n",
    "    - create a endpoint `/predict` accepting POST method\n",
    "    - parameters should be send in JSON format, it is up to you too which parameters it should contain\n",
    "    - you can choose how the user should send you data input\n",
    "\n",
    "\n",
    "4. Create a `test.py` file in order to test some requests to your API using `requests` library. Your should test at least:\n",
    "    - one good call\n",
    "    - one wrong call (wrong key, wrong data format,...)\n",
    "\n",
    "> Of course you can create as many tests as you want. If you test something and you code didn't return anything or crash, maybe you can take sometime to find how to handle this case."
   ]
  }
 ],
 "metadata": {
  "kernelspec": {
   "display_name": "Python 3",
   "language": "python",
   "name": "python3"
  },
  "language_info": {
   "codemirror_mode": {
    "name": "ipython",
    "version": 3
   },
   "file_extension": ".py",
   "mimetype": "text/x-python",
   "name": "python",
   "nbconvert_exporter": "python",
   "pygments_lexer": "ipython3",
   "version": "3.7.6"
  }
 },
 "nbformat": 4,
 "nbformat_minor": 4
}
