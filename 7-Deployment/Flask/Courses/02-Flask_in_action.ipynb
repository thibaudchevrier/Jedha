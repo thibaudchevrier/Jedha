{
 "cells": [
  {
   "cell_type": "markdown",
   "metadata": {},
   "source": [
    "# Flask in action 🎬"
   ]
  },
  {
   "cell_type": "markdown",
   "metadata": {},
   "source": [
    "## What you will learn in this course 🤔\n",
    "\n",
    "So far, you have a broad idea about API. In this lecture we are going to learn how to use Flask in order to build a simple API. We will review:\n",
    "\n",
    "* How to build Flask application\n",
    "* How to build routes\n",
    "* How to response\n",
    "* How to return data in JSON format"
   ]
  },
  {
   "cell_type": "markdown",
   "metadata": {},
   "source": [
    "## Prerequisites\n",
    "\n",
    "We use an IDE that is to say a text editor in order to create and edit our files. We recommend you to install <a href=\"https://code.visualstudio.com/\" target=\"_blank\">VSCode</a>. It is free, open-source, available for all platforms and really easy to use.\n",
    "\n",
    "You will need also to use a _terminal_ in order to run Flask server.\n",
    "\n",
    "We strongly advise you to use Flask on your local machine with a virtual environment. To do so, make sure you have `virtualenv` already installed. Otherwise, in a terminal:\n",
    "\n",
    "```shell\n",
    "$ pip install virtualenv\n",
    "```\n",
    "\n",
    "Then create a directory: \n",
    "\n",
    "```shell\n",
    "$ mkdir my_flask_app\n",
    "$ cd my_flask_app\n",
    "```\n",
    "\n",
    "Then create a virtual environment within this directory: \n",
    "\n",
    "```shell\n",
    "$ virtualenv virt\n",
    "```\n",
    "\n",
    "And to activate it:\n",
    "\n",
    "```shell\n",
    "$ source virt/bin/activate\n",
    "```\n",
    "\n",
    "> NB: In some shell, you could see a `(virt)` next to your username.\n",
    "\n",
    "You can now run:\n",
    "\n",
    "```shell\n",
    "$ pip install flask\n",
    "```\n",
    "\n",
    "This will install Flask within your virtual environment. Once you are done playing around with the tool, you can do: \n",
    "\n",
    "```shell \n",
    "$ deactivate\n",
    "```\n",
    "\n",
    "This will deactivate your environment."
   ]
  },
  {
   "cell_type": "markdown",
   "metadata": {},
   "source": [
    "## Quickstart\n",
    "\n",
    "Create a new `app.py` file, you can add the following code:\n",
    "\n",
    "```python\n",
    "from flask import Flask\n",
    "\n",
    "app = Flask(__name__)\n",
    "\n",
    "@app.route(\"/\")\n",
    "def index():\n",
    "     return \"Hello World!\"\n",
    " \n",
    "if __name__ == \"__main__\":\n",
    "    app.run(debug=True)\n",
    "```"
   ]
  },
  {
   "cell_type": "markdown",
   "metadata": {},
   "source": [
    "This code may be scary at first sight, but there is nothing complicated about it. Let's go line-by-line:\n",
    "\n",
    "1. `From flask import Flask`: first, we import Flask like any other libraries.\n",
    "2. `app = Flask(__name__)` : here, we create an instance of the `Flask` class to which we pass the `__name__` parameter, which is used to determine the name of the application according to how it is started (as an application or as a module of an application). If the application is started as a main application `__name__` will be equal to `\"__main__\"`. In the other case, it will have the name of the file from which it is imported.\n",
    "3. `@app.route(\"/\"):` is what we call a _decorator_. In Flask it allows you to define the URL for a request. Anything below this decorator will define what to do to the URL we defined in the `.route()` method: this is also called a view. In this case, in our example, every time we go to the root URL, we have a `index()` function that will return \"Hello World!\".\n",
    "4. `if __name__ = \"__main__\":`: this code – and what is underneath, send a message to Python that you are running this application if it is not a module of another application, but a full-fledged application.\n",
    "\n",
    "These 4 points cover almost everything we need to know about Python. If this is not clear yet, do not worry, it is normal. We will explain more in the following parts."
   ]
  },
  {
   "cell_type": "markdown",
   "metadata": {},
   "source": [
    "### Running a FLASK application\n",
    "\n",
    "Save the code from above. To run it on your console use:\n",
    "\n",
    "```shell\n",
    "$ python app.py\n",
    "```\n",
    "\n",
    "You should have the following output:\n",
    "\n",
    "```shell\n",
    " * Running on http://127.0.0.1:5000/ (Press CTRL+C to quit)\n",
    " * Restarting with stat\n",
    " * Debugger is active!\n",
    " * Debugger PIN: 618-045-329\n",
    "```\n",
    "\n",
    "If the URLs or PINs are not the same it doesn't matter, the important thing is that you go to the URL above. Copy it to your web browser. You should see this:\n",
    "\n",
    "![](https://full-stack-assets.s3.eu-west-3.amazonaws.com/images/M09-D04-L01-001.png)\n",
    "\n",
    "Each time you change and save your code, you will be able to refresh the page to see the changes."
   ]
  },
  {
   "cell_type": "markdown",
   "metadata": {},
   "source": [
    "## The routes\n",
    "\n",
    "### What is a route?\n",
    "\n",
    "Roughly speaking, a route is only a URL leading to a function execution.\n",
    "\n",
    "In Flask, routes are decorators wrapping a function where you define what you want to do. Routes therefore allow you to build HTTP requests. In other worlds, they define the URL of these HTTP requests.\n",
    "\n",
    "```python\n",
    "@app.route(\"/about\")\n",
    "def about():\n",
    "    return \"The about page\"\n",
    "```\n",
    "\n",
    "You can copy/paste this code into your `app.py` under the function `index()`. Every time we go to the URL with `/about`, the function will return `\"The about page\"` string.\n",
    "\n",
    "Go to this URL – <a href=\"http://127.0.0.1:5000/about\" target=\"_blank\">http://127.0.0.1:5000/about</a>, and guess what you should see. 😉"
   ]
  },
  {
   "cell_type": "markdown",
   "metadata": {},
   "source": [
    "### Go to a specific URL\n",
    "\n",
    "In a Flask application, it is possible to reach a URL without necessarily specifying the exact URL of the application. This is very handy because you will not always have the URL of your local computer (which we mentioned above) and it allows you to create hyperlinks between your pages easily.\n",
    "\n",
    "For this, you can use the `url_for()` function. For example:\n",
    "\n",
    "```python\n",
    "# We need to import url_for from Flask\n",
    "from flask import Flask, url_for\n",
    "\n",
    "...\n",
    "\n",
    "@app.route(\"/url_for_about\")\n",
    "def urls():\n",
    "    return \"{}\".format(url_for(\"about\"))\n",
    "\n",
    "...\n",
    "```\n",
    "\n",
    "This function returns the URL of the _about_ page we coded previously."
   ]
  },
  {
   "cell_type": "markdown",
   "metadata": {},
   "source": [
    "### HTTP methods\n",
    "\n",
    "You can specify which HTTP methods you allow to be used to call your route. By default, routes respond only to GET requests. You can therefore add the POST method as follows:\n",
    "\n",
    "```python\n",
    "@app.route('/greetings, methods=[\"GET\", \"POST\"]')\n",
    "def greetings():\n",
    "    ...\n",
    "```\n",
    "\n",
    "You can determine the request via Flask's `request` module and thus apply different actions depending on whether the request is a POST or a GET:\n",
    "\n",
    "```python\n",
    "# We import request from Flask\n",
    "from flask import Flask, url_for, request\n",
    "\n",
    "...\n",
    "\n",
    "@app.route(\"/greetings\", methods=[\"GET\", \"POST\"])\n",
    "def greetings():\n",
    "    if request.method == \"POST\":\n",
    "        # Let's do something with this POST request\n",
    "    else:\n",
    "        # Let's do something with this GET request\n",
    "\n",
    "...\n",
    "```\n",
    "\n",
    "Here, we haven't completed the code yet. We are going to see in the next section how to retrieve the content for a POST request."
   ]
  },
  {
   "cell_type": "markdown",
   "metadata": {},
   "source": [
    "## Accessing data and response\n",
    "\n",
    "In an API, you can define how your endpoint must be requested (which route, which methods) then you need to access the data the client is providing."
   ]
  },
  {
   "cell_type": "markdown",
   "metadata": {},
   "source": [
    "We will use the `request` attribute that you can use to access elements from the query. This is very useful, especially when you need to access elements from a form:\n",
    "\n",
    "```python\n",
    "# We import jsonfiy from Flask\n",
    "from flask import Flask, url_for, request, jsonify\n",
    "\n",
    "...\n",
    "\n",
    "@app.route(\"/greetings\", methods=[\"POST\", \"GET\"])\n",
    "def greetings():\n",
    "    if request.method == \"POST\" and request.is_json:\n",
    "        json_data = request.get_json()\n",
    "        if \"firstName\" in json_data.keys() and \"lastName\" in json_data.keys():\n",
    "            response = {\n",
    "                \"msg\": f\"Welcome {json_data['firstName']} {json_data['lastName']}\"\n",
    "            }\n",
    "            return jsonify(response), 200\n",
    "    else:\n",
    "        return jsonify({\"msg\": \"I don't know you but you are welcome too!\"}), 200\n",
    "\n",
    "...\n",
    "```\n",
    "\n",
    "Here we have created a route to greet a user depending on the request is a GET or POST. We are going to dive deeper in the code meaning in few lines, but first: do you remember how to request this endpoint with POST method?\n",
    "\n",
    "Requesting the GET method is easy: just put `http://127.0.0.1:5000/greetings` in your browser. But what about the POST method?\n",
    "\n",
    "You can use `requests` library _(do not confused with `request` from Flask)_:"
   ]
  },
  {
   "cell_type": "code",
   "execution_count": 1,
   "metadata": {},
   "outputs": [
    {
     "data": {
      "text/plain": [
       "{'msg': 'Welcome Obi Wan Kenobi'}"
      ]
     },
     "execution_count": 1,
     "metadata": {},
     "output_type": "execute_result"
    }
   ],
   "source": [
    "import requests\n",
    "\n",
    "response = requests.post(\"http://127.0.0.1:5000/greetings\", json={\"firstName\": \"Obi Wan\", \"lastName\": \"Kenobi\"})\n",
    "response.json()"
   ]
  },
  {
   "cell_type": "markdown",
   "metadata": {},
   "source": [
    "> Be sure your Flask server is running while executing this cell.\n",
    "\n",
    "You can also use `curl` in your terminal:\n",
    "\n",
    "```shell\n",
    "$ curl -i -H \"Content-Type: application/json\" -X POST -d '{\"firstName\": \"Obi Wan\", \"lastName\": \"Kenobi\"}' http://localhost:5000/greetings\n",
    "\n",
    "HTTP/1.0 200 OK\n",
    "Content-Type: application/json\n",
    "Content-Length: 38\n",
    "Server: Werkzeug/1.0.1 Python/3.8.6\n",
    "Date: Mon, 07 Dec 2020 14:03:29 GMT\n",
    "\n",
    "{\n",
    "  \"msg\": \"Welcome Obi Wan Kenobi\"\n",
    "}\n",
    "```"
   ]
  },
  {
   "cell_type": "markdown",
   "metadata": {},
   "source": [
    "Okay? Let's pause a little bit to dissect the code we just tested:\n",
    "\n",
    "- `if request.method == \"POST\" and request.is_json:`: we had `request.is_json` to test that the data send is in JSON format _(specified by `-H \"Content-Type: application/json\"` in the `curl`)_. Otherwise we return \"I don't know you but you are welcome too!\".\n",
    "- `json_data = request.get_json()`: since we are certain we have JSON content, we use `.get_json()` which returns the JSON as dictionnary.\n",
    "- `if \"firstName\" in json_data.keys() and \"lastName\" in json_data.keys():`: we make sure the two keys `firstName` and `lastName` are present. It is important to assert our input to avoid any crash. You can do it manually – like we do, or use <a href=\"https://flask.palletsprojects.com/en/1.1.x/patterns/wtforms/\" target=\"_blank\">WTForms</a> to check form or <a href=\"https://marshmallow.readthedocs.io/en/stable/\" target=\"_blank\">Marhsmallow</a> for other serialization.\n",
    "- `response = {\"msg\": f\"Welcome {json_data['firstName']} {json_data['lastName']}\"}`: you may noticed, we do not return a simple string anymore but a dictionnary _serialized_ (i.e. converted) into JSON format.\n",
    "- `return jsonify(response), 200`: here we serialize our `response` dictionnary into a JSON format. Have you spotted the `200`? It is the <a href=\"https://en.wikipedia.org/wiki/List_of_HTTP_status_codes\" target=\"_blank\">status code</a> for our response. It means everything is okay."
   ]
  },
  {
   "cell_type": "markdown",
   "metadata": {},
   "source": [
    "## Wrapping up\n",
    "\n",
    "Congratulations! You created your first API returning JSON datas. We saw how to create a basic application, how to run a server, how to create a route, how to specify a HTTP method, how to retrieve data for POST method (for example) and finally how to return a JSON response.\n",
    "\n",
    "You have a better understanding on how API work under the hood. In the next step, we are going much further by serving one machine learning model with our API.\n",
    "\n",
    "## Resources 📚\n",
    "\n",
    "* <a href=\"https://flask.palletsprojects.com/en/1.1.x/installation/\" target=\"_blink\">Creating your virtual environment</a>\n",
    "- <a href=\"http://pycoder.net/bospy/presentation.html\" target=\"_blank\">A presentation with more advanced concept and hints</a>"
   ]
  }
 ],
 "metadata": {
  "kernelspec": {
   "display_name": "Python 3",
   "language": "python",
   "name": "python3"
  },
  "language_info": {
   "codemirror_mode": {
    "name": "ipython",
    "version": 3
   },
   "file_extension": ".py",
   "mimetype": "text/x-python",
   "name": "python",
   "nbconvert_exporter": "python",
   "pygments_lexer": "ipython3",
   "version": "3.7.6"
  }
 },
 "nbformat": 4,
 "nbformat_minor": 4
}
