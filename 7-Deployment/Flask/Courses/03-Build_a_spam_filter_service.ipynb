{
 "cells": [
  {
   "cell_type": "markdown",
   "metadata": {},
   "source": [
    "# Build a spam filter service\n",
    "\n",
    "It is time to build your own API service. In the following lecture we are going to build a spam filter similar to <a href=\"https://www.oopspam.com/\" target=\"_blank\">oopspam</a>.\n",
    "\n",
    "For this purpose, we are going to train our own model to detect spam and then create an API using <a href=\"https://flask.palletsprojects.com/en/1.1.x/\" target=\"_blank\">Flask</a> to serve it to end users."
   ]
  },
  {
   "cell_type": "markdown",
   "metadata": {},
   "source": [
    "## Creating our spam filter\n",
    "\n",
    "This chapter is splitted into two steps. The first one is ☝️ training our model so we can save it for later. Then, we need to ✌️ build our API around our fitted model and the job is done!\n",
    "\n",
    "You will see: we leave out a lot of steps for brevity. For example, you can take your time and explore the dataset furthermore if you want. We focus on the second part which is our focus in this course."
   ]
  },
  {
   "cell_type": "markdown",
   "metadata": {},
   "source": [
    "### ☝️ Training\n",
    "\n",
    "In order to create our spam filter we are using a simple dataset called `spam_dataset.py`. You will find it in the resources. It consists of two columns: `email` and `label`. `label` column contains only `0` for non-spam email and `1` for spam email. Texts in `email` look like:\n",
    "\n",
    "- Non-spam:\n",
    "\n",
    "```\n",
    "john p looney wrote the only way you can resolve this to my knowledge is to download the original libvorbis rpm and the new one remove the old one then do rpm uvh libvorbis rpm then assumes that you want both versions installed at the same time and does so why you can t do this after you have one library already installed is beyond me does using the oldpackage flag help your pain or is your pain caused by obsoletes flags cheers waider waider url yes it is very personal of me irish linux users group ilug url url for un subscription information list maintainer listmaster url \n",
    "```\n",
    "\n",
    "- Spam:\n",
    "\n",
    "```\n",
    "important information the new domain names are finally available to the general public at discount prices now you can register one of the exciting new biz or info domain names as well as the original com and net names for just number number these brand new domain extensions were recently approved by icann and have the same rights as the original com and net domain names the biggest benefit is of course that the biz and info domain names are currently more available i e it will be much easier to register an attractive and easy to remember domain name for the same price visit url today for more info register your domain name today for just number number at url registration fees include full access to an easy to use control panel to manage your domain name in the future sincerely domain administrator affordable domains to remove your email address from further promotional mailings from this company click here url enumber numberffronumber numberbzkfnumberlignnumber numberdbtenumberzhwolnumber\n",
    "```\n",
    "\n",
    "It is a binary classification problem. We are going to feed a logistic regression model in order to predict if the text is a spam or not."
   ]
  },
  {
   "cell_type": "markdown",
   "metadata": {},
   "source": [
    "In a new `training.py` file, we are going to put the following code:\n",
    "\n",
    "```python\n",
    "import os\n",
    "import joblib\n",
    "import pandas as pd\n",
    "from sklearn.model_selection import train_test_split\n",
    "from sklearn.pipeline import Pipeline\n",
    "from sklearn.feature_extraction.text import CountVectorizer\n",
    "from sklearn.linear_model import LogisticRegression\n",
    "from sklearn.metrics import accuracy_score\n",
    "\n",
    "DATASET_PATH = \"datas/spam_dataset.csv\"\n",
    "MODELS_FOLDER = \"models\"\n",
    "\n",
    "# Load CSV file\n",
    "df = pd.read_csv(DATASET_PATH)\n",
    "# Get X and y\n",
    "X = df[\"email\"]\n",
    "y = df[\"label\"]\n",
    "# Split dataset into train set and test set\n",
    "X_train, X_test, y_train, y_test = train_test_split(X, y, random_state=42)\n",
    "# Build a pipeline with our CountVectorizer and our LogisticRegression model\n",
    "classifier = Pipeline([(\"vectorizer\", CountVectorizer()), (\"classifier\", LogisticRegression(solver=\"liblinear\"))])\n",
    "# Fit our classifier\n",
    "classifier.fit(X_train, y_train)\n",
    "# Compute accuracy on test set\n",
    "accuracy = accuracy_score(classifier.predict(X_test), y_test)\n",
    "print(\"Accuracy: \", accuracy)\n",
    "# Save our model with joblib\n",
    "joblib.dump(classifier, os.path.join(MODELS_FOLDER, \"spam_classifier.joblib\"))\n",
    "```\n",
    "\n",
    "You may not be too much lost with what you see. The accuracy is 0.992. Not too bad. 🤓"
   ]
  },
  {
   "cell_type": "markdown",
   "metadata": {},
   "source": [
    "The most important thing to notice is the last line:\n",
    "\n",
    "```python\n",
    "joblib.dump(classifier, os.path.join(MODELS_FOLDER, \"spam_classifier.joblib\"))\n",
    "```\n",
    "\n",
    "What does it do? It exports our `classifier` _sklearn pipeline object_ into a file so we can use it later on with our API! We saved it in `models/spam_classifier.joblib`. You can read more about this in <a href=\"https://scikit-learn.org/stable/modules/model_persistence.html\" target=\"_blank\">sklearn documentation</a>.\n",
    "\n",
    "> It doesn't matter which extension you put at the end of the file by the way. 😉\n",
    "\n",
    "Thus ends training part!"
   ]
  },
  {
   "cell_type": "markdown",
   "metadata": {},
   "source": [
    "### ✌️ Building the API\n",
    "\n",
    "Your folder should look something like this:\n",
    "\n",
    "```\n",
    ".\n",
    "├── app.py                       ← You are going to create this one\n",
    "├── datas\n",
    "│   └── spam_dataset.csv\n",
    "├── models\n",
    "│   └── spam_classifier.joblib\n",
    "├── requirements.txt             ← Maybe you don't have this one 😙\n",
    "└── train.py\n",
    "```\n",
    "\n",
    "If you haven't created the `app.py` file, do it. Let's think about what we are going to code: we want to create an endpoint `/spam` which accept POST method with the mandatory key `email` pointing to the mail content already preprocessed. We put this `email` data into our loaded model and return the ouput as JSON format.\n",
    "\n",
    "Here is a proposition of code:\n",
    "\n",
    "```python\n",
    "from flask import Flask, request, jsonify\n",
    "import joblib\n",
    "\n",
    "app = Flask(__name__)\n",
    "\n",
    "\n",
    "@app.route(\"/spam\", methods=[\"POST\"])\n",
    "def index():\n",
    "    # Check if request has a JSON content\n",
    "    if request.json:\n",
    "        # Get the JSON as dictionnary\n",
    "        req = request.get_json()\n",
    "        # Check mandatory key\n",
    "        if \"email\" in req.keys():\n",
    "            # Load model\n",
    "            classifier = joblib.load(\"models/spam_classifier.joblib\")\n",
    "            # Predict\n",
    "            prediction = classifier.predict([req[\"email\"]])\n",
    "            # Return the result as JSON but first we need to transform the\n",
    "            # result so as to be serializable by jsonify()\n",
    "            prediction = str(prediction[0])\n",
    "            return jsonify({\"predict\": prediction}), 200\n",
    "    return jsonify({\"msg\": \"Error: not a JSON or no email key in your request\"})\n",
    "\n",
    "\n",
    "if __name__ == \"__main__\":\n",
    "    app.run(debug=True)\n",
    "```\n",
    "\n",
    "We can test our API, using `requests` (do not forget to start the Flask server):"
   ]
  },
  {
   "cell_type": "code",
   "execution_count": 1,
   "metadata": {},
   "outputs": [],
   "source": [
    "import requests"
   ]
  },
  {
   "cell_type": "code",
   "execution_count": 5,
   "metadata": {},
   "outputs": [
    {
     "data": {
      "text/plain": [
       "{'predict': '0'}"
      ]
     },
     "execution_count": 5,
     "metadata": {},
     "output_type": "execute_result"
    }
   ],
   "source": [
    "response_non_spam = requests.post(\"http://127.0.0.1:5000/spam\", json={\"email\": \"url url date not supplied neil sandman gaiman has won his lawsuit against todd spawn mcfarlane vindicated in his assertion that mcfarlane breached his contracts stole his characters and used his name mcfarlane looked down somberly as the verdict was read as the judge polled the individual jury members he looked at their faces link number discuss number _thanks gnat number _ number url number url number url\"})\n",
    "response_non_spam.json()"
   ]
  },
  {
   "cell_type": "markdown",
   "metadata": {},
   "source": [
    "The API returns `0` meaning, the text we sent is not a spam!"
   ]
  },
  {
   "cell_type": "code",
   "execution_count": 6,
   "metadata": {},
   "outputs": [
    {
     "data": {
      "text/plain": [
       "{'predict': '1'}"
      ]
     },
     "execution_count": 6,
     "metadata": {},
     "output_type": "execute_result"
    }
   ],
   "source": [
    "response_spam = requests.post(\"http://127.0.0.1:5000/spam\", json={\"email\": \"hi zzzz url today hyperlink hyperlink ________________________________________________________________________________________ if you would not like to get more spacial offers from us please hyperlink click here and you request will be honored immediately ________________________________________________________________________________________ egfbehkrtejpgtuyveahpeibbraqstvnwa\"})\n",
    "response_spam.json()"
   ]
  },
  {
   "cell_type": "markdown",
   "metadata": {},
   "source": [
    "On the contrary, this email seems to be a spam.\n",
    "\n",
    "Of course, this API is very basic. We could improve it in multiple ways: add probabilities with the response, allowing to predict batches of emails, better error message and so on. You can play with the code and try to improve it by yourself as we stay there for brievity.\n",
    "\n",
    "## Wrapping up\n",
    "\n",
    "Finally in this walkthrough we wrapped our model into an API and request it. There are some important steps to remember:\n",
    "\n",
    "- train and save your model (with `joblib` as we did, or `pickle`),\n",
    "- create an endpoint, load datas and your model, assert everything is valid before going further,\n",
    "- make a prediction,\n",
    "- return the answer in JSON response.\n",
    "\n",
    "And voilà! 👏"
   ]
  }
 ],
 "metadata": {
  "kernelspec": {
   "display_name": "Python 3",
   "language": "python",
   "name": "python3"
  },
  "language_info": {
   "codemirror_mode": {
    "name": "ipython",
    "version": 3
   },
   "file_extension": ".py",
   "mimetype": "text/x-python",
   "name": "python",
   "nbconvert_exporter": "python",
   "pygments_lexer": "ipython3",
   "version": "3.7.6"
  }
 },
 "nbformat": 4,
 "nbformat_minor": 4
}
