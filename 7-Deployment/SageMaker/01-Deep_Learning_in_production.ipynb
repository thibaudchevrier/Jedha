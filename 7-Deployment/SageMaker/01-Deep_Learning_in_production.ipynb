{
 "cells": [
  {
   "cell_type": "markdown",
   "metadata": {},
   "source": [
    "# Deep Learning in production\n",
    "\n",
    "We have seen how to push in production a machine learning model. Now, you have to push a deep learning model into production.\n",
    "\n",
    "It is up to you to choose which model you would like to use on this <a href=\"https://www.kaggle.com/prasunroy/natural-images\" target=\"_blank\">Natural images dataset</a>.\n",
    "\n",
    "As a reminder, here are the steps:\n",
    "\n",
    "1. Train your image classifier, you can take the opportunity to use MLFlow so as to track your experimentations,\n",
    "2. Deploy it to SageMaker,\n",
    "3. Start making inferences on test images."
   ]
  }
 ],
 "metadata": {
  "kernelspec": {
   "display_name": "Python 3",
   "language": "python",
   "name": "python3"
  },
  "language_info": {
   "codemirror_mode": {
    "name": "ipython",
    "version": 3
   },
   "file_extension": ".py",
   "mimetype": "text/x-python",
   "name": "python",
   "nbconvert_exporter": "python",
   "pygments_lexer": "ipython3",
   "version": "3.7.6"
  }
 },
 "nbformat": 4,
 "nbformat_minor": 4
}
