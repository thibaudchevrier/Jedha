{
 "cells": [
  {
   "cell_type": "markdown",
   "metadata": {},
   "source": [
    "# Deploy ML models to SageMaker with MLflow \n",
    "\n",
    "## What you'll learn in this course \n",
    "\n",
    "Serving models locally is fine but they won't be available once you'll turn your computer off. In this course, you'll learn:\n",
    "\n",
    "* Set up your aws cli to prepare for deployment \n",
    "* Build Push your docker image to ECR \n",
    "* Create a SageMaker API endpoint and use it "
   ]
  },
  {
   "cell_type": "markdown",
   "metadata": {},
   "source": [
    "## Prepare your environment ☄️☄️\n",
    "\n",
    "Before diving into mlflow, you will need to setup up your environment to make sure everything is correct. Here is the process: \n",
    "\n",
    "1. Make sure you have Docker installed \n",
    "2. Make sure boto3 is installed: `pip install boto3`\n",
    "3. install `aws cli` and set a region and default credentials\n",
    "4. Log in to ecr and register your container url to Docker\n",
    "5. Make sure your `conda.yml` file has a version of sklearn that is not set. Especially `sklearn=0.23.xx` does not work"
   ]
  },
  {
   "cell_type": "markdown",
   "metadata": {},
   "source": [
    "### Have Boto3 installed \n",
    "\n",
    "Simply run `pip install boto3`"
   ]
  },
  {
   "cell_type": "markdown",
   "metadata": {},
   "source": [
    "### Install AWS cli \n",
    "\n",
    "Now that you need to install aws cli to setup a region and default credential. To install aws cli, follow this link: \n",
    "\n",
    "* [aws cli linux](https://docs.aws.amazon.com/cli/latest/userguide/install-cliv2-linux.html)\n",
    "* [aws cli for mac](https://docs.aws.amazon.com/cli/latest/userguide/install-cliv2-mac.html)\n",
    "* [aws cli for windows](https://docs.aws.amazon.com/cli/latest/userguide/install-cliv2-windows.html)\n",
    "\n",
    "\n",
    "Once you have it installed, you can go to your terminal and run:\n",
    "\n",
    "```shell \n",
    "aws --version\n",
    "```\n",
    "\n",
    "You should get the following output: \n",
    "\n",
    "```shell \n",
    "aws-cli/2.0.22 Python/3.7.4 Darwin/19.5.0 botocore/2.0.0dev26\n",
    "```\n",
    "\n",
    "### Setup aws creds & region \n",
    "\n",
    "For mlflow to work, you will need to setup aws credentials and region. Here are the commands: \n",
    "\n",
    "* `aws configure set aws_access_key_id ACCESS_KEY`\n",
    "* `aws configure set aws_secret_access_key SECRET_KEY`\n",
    "* `aws configure set default.region REGION`\n",
    "\n",
    "Replace with your credentials and region you want your model to be deploy. "
   ]
  },
  {
   "cell_type": "markdown",
   "metadata": {},
   "source": [
    "### Create an ECR registry \n",
    "\n",
    "Now go to AWS and create an ECR registry. Once you are done, you should be able to click on `view push commands` \n",
    "\n",
    "\n",
    "![](https://full-stack-assets.s3.eu-west-3.amazonaws.com/images/view-push-command-ecr.png)\n",
    "\n"
   ]
  },
  {
   "cell_type": "markdown",
   "metadata": {},
   "source": [
    "Then run ONLY THE FIRST command on your terminal \n",
    "\n",
    "![](https://full-stack-assets.s3.eu-west-3.amazonaws.com/images/login-ecr-docker.png)"
   ]
  },
  {
   "cell_type": "markdown",
   "metadata": {},
   "source": [
    "### Verify your `conda.yaml` file \n",
    "\n",
    "One final thing is to verify your `conda.yaml` file. For example, `sklearn=0.23.1` doesn't work. You should instead have `sklearn` instead. "
   ]
  },
  {
   "cell_type": "markdown",
   "metadata": {},
   "source": [
    "## Create an execution role \n",
    "\n",
    "If you want your the deployment to work, you will need to create a role with AMAZON_SAGEMAKER_FULL_ACCESS \n",
    "\n",
    "![](https://full-stack-assets.s3.eu-west-3.amazonaws.com/images/ecr_execution_role.png)"
   ]
  },
  {
   "cell_type": "markdown",
   "metadata": {},
   "source": [
    "Copy the ARN as you will need to use it later on for deployment. "
   ]
  },
  {
   "cell_type": "markdown",
   "metadata": {},
   "source": [
    "## Deploy to SageMaker \n",
    "\n",
    "Now that everything is prepared, you can go to your project and add the following code:"
   ]
  },
  {
   "cell_type": "code",
   "execution_count": null,
   "metadata": {},
   "outputs": [],
   "source": [
    "# Region where you want your model to be deployed\n",
    "region = \"REGION_NAME\"\n",
    "\n",
    "# Get it from Mlflow \n",
    "run_id = \"MLFLOW_RUN_ID\"\n",
    "model_uri = \"runs:/\" + run_id + \"/model\"\n",
    "execution_role=\"ARN_ROLE_FOR_SAGEMAKER\"\n",
    "instance_type=\"INSTANCE_TYPE\"\n",
    "\n",
    "# Get it directly from AWS\n",
    "image_ecr_url = \"ECR_IMAGE_URL\""
   ]
  },
  {
   "cell_type": "markdown",
   "metadata": {},
   "source": [
    "Every variables should now be easy to fill out except `instance_type`. You can choose all the instance type from this list: \n",
    "\n",
    "* [Supported Instance Type for a given region](https://docs.aws.amazon.com/sagemaker/latest/dg/instance-types-az.html)\n",
    "\n",
    "NB: Check the [AWS Free tier](https://aws.amazon.com/fr/free/?all-free-tier.sort-by=item.additionalFields.SortRank&all-free-tier.sort-order=asc), if you want to make you won't be charged for using instances. "
   ]
  },
  {
   "cell_type": "markdown",
   "metadata": {},
   "source": [
    "Now finally we can run the following command to deploy your ML model to SageMaker"
   ]
  },
  {
   "cell_type": "code",
   "execution_count": null,
   "metadata": {},
   "outputs": [],
   "source": [
    "import mlflow.sagemaker as mfs\n",
    "# Define an app\n",
    "app_name = \"iris\"\n",
    "mfs.deploy(\n",
    "        app_name=app_name, \n",
    "        model_uri=model_uri, \n",
    "        image_url=image_ecr_url, \n",
    "        region_name=region, \n",
    "        mode=\"replace\", \n",
    "        execution_role_arn=execution_role,\n",
    "        instance_type=instance_type)"
   ]
  },
  {
   "cell_type": "markdown",
   "metadata": {},
   "source": [
    "## Use your deployed model \n",
    "\n",
    "Now you can use your deploy model! You first need to prepare your data the following way:"
   ]
  },
  {
   "cell_type": "code",
   "execution_count": null,
   "metadata": {},
   "outputs": [],
   "source": [
    "# Format input for API \n",
    "input_json = X_test.to_json(orient=\"split\")"
   ]
  },
  {
   "cell_type": "markdown",
   "metadata": {},
   "source": [
    "And let's create the following function: "
   ]
  },
  {
   "cell_type": "code",
   "execution_count": null,
   "metadata": {},
   "outputs": [],
   "source": [
    "# Use the API endpoint\n",
    "import json\n",
    "import boto3\n",
    "\n",
    "def query_endpoint(app_name, input_json):\n",
    "\n",
    "    client = boto3.session.Session().client(\"sagemaker-runtime\", region)\n",
    "    \n",
    "    response = client.invoke_endpoint(\n",
    "        EndpointName=app_name,\n",
    "        Body=input_json,\n",
    "        ContentType='application/json; format=pandas-split',\n",
    "    )\n",
    "    preds = response['Body'].read().decode(\"ascii\")\n",
    "    preds = json.loads(preds)\n",
    "    print(\"Received response: {}\".format(preds))\n",
    "\n",
    "    return preds"
   ]
  },
  {
   "cell_type": "markdown",
   "metadata": {},
   "source": [
    "Use the function: "
   ]
  },
  {
   "cell_type": "code",
   "execution_count": null,
   "metadata": {},
   "outputs": [],
   "source": [
    "# Evaluate the input by posting it to the deployed model\n",
    "prediction1 = query_endpoint(app_name=app_name, input_json=input_json)"
   ]
  },
  {
   "cell_type": "markdown",
   "metadata": {},
   "source": [
    "## Delete the app \n",
    "\n",
    "To make you are not overcharged, delete your app"
   ]
  },
  {
   "cell_type": "code",
   "execution_count": null,
   "metadata": {},
   "outputs": [],
   "source": [
    "# Delete app \n",
    "import mlflow.sagemaker as mfs\n",
    "app_name = \"iris\"\n",
    "# Specify the archive=False option to delete any SageMaker models and configurations\n",
    "# associated with the specified application\n",
    "mfs.delete(app_name=app_name, region_name=region, archive=False)"
   ]
  },
  {
   "cell_type": "markdown",
   "metadata": {},
   "source": [
    "## Resources \n",
    "\n",
    "* [Set up AWS authentication for SageMaker deployment](https://docs.databricks.com/administration-guide/cloud-configurations/aws/sagemaker.html)\n",
    "\n",
    "* [MLflow Quick Start Part 2: Serving Models via Amazon SageMaker](https://docs.databricks.com/_static/notebooks/mlflow/mlflow-quick-start-deployment-aws.html)\n",
    "\n",
    "* [Installing the AWS CLI version 2](https://docs.aws.amazon.com/cli/latest/userguide/install-cliv2.html)\n",
    "\n",
    "* [Installing the AWS CLI version 2 on Windows](https://docs.aws.amazon.com/cli/latest/userguide/install-cliv2-windows.html)\n",
    "\n",
    "* [Docker Desktop overview](https://docs.docker.com/desktop/)\n",
    "\n",
    "* [Offre gratuite d'AWS](https://aws.amazon.com/fr/free/?all-free-tier.sort-by=item.additionalFields.SortRank&all-free-tier.sort-order=asc)\n",
    "\n",
    "* [Supported Instance Types and Availability Zones](https://docs.aws.amazon.com/sagemaker/latest/dg/instance-types-az.html)"
   ]
  },
  {
   "cell_type": "code",
   "execution_count": null,
   "metadata": {},
   "outputs": [],
   "source": []
  }
 ],
 "metadata": {
  "kernelspec": {
   "display_name": "Python 3",
   "language": "python",
   "name": "python3"
  },
  "language_info": {
   "codemirror_mode": {
    "name": "ipython",
    "version": 3
   },
   "file_extension": ".py",
   "mimetype": "text/x-python",
   "name": "python",
   "nbconvert_exporter": "python",
   "pygments_lexer": "ipython3",
   "version": "3.9.2"
  }
 },
 "nbformat": 4,
 "nbformat_minor": 2
}
