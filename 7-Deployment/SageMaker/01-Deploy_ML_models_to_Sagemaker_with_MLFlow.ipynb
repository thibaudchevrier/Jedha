{
 "cells": [
  {
   "cell_type": "markdown",
   "metadata": {},
   "source": [
    "# Deploy ML models to SageMaker with MLFlow \n",
    "\n",
    "We have gone through a lot of different solutions to put our machine learning model into production. But we haven't yet explored many of the solutions available today: the _cloud_.\n",
    "\n",
    "Cloud solutions can represent a perfect fit for you needs. Most of them are easy to set up, as you will realize soon enough, but there are not free of charge. You should not neglect this factor when thinking about your deployment solution.\n",
    "\n",
    "Otherwise, cloud solutions offer you a lot of really useful features. In this chapter, you will understand how to scale your models using cloud services as well as monitor them. Let's get started! ✊\n",
    "\n",
    "## What you will learn in this course\n",
    "\n",
    "Serving models locally is fine but they won't be available once you will turn your computer off. In this course, you will learn to push your ML model into development on <a href=\"https://aws.amazon.com/sagemaker/\" target=\"_blank\">AWS Sagemaker</a>.\n",
    "\n",
    "This lecture is going to re-use some knowledge you acquired during the previous days. Here are the important steps we are going through:\n",
    "\n",
    "- ⓵ Setup our environment using <a href=\"https://docs.conda.io/en/latest/\" target=\"_blank\">Conda</a> and some CLI tools\n",
    "- ⓶ Create what we need in AWS\n",
    "- ⓷ Training and logging our model with MLFlow\n",
    "- ⓸ Pushing our model into production on Sagemaker\n",
    "- ⓹ Requesting our model"
   ]
  },
  {
   "cell_type": "markdown",
   "metadata": {},
   "source": [
    "## ⓵ Prepare your environment with Conda\n",
    "\n",
    "We already have seen how to create a virtual environment using `virtualenv`. But it isn't the only tool to build and manage your environment. You can use Conda to do so. We assume you have <a href=\"https://docs.anaconda.com/anaconda/install/\" target=\"_blank\">Anaconda</a> already setup on your machine.\n",
    "\n",
    "### Start a new environment\n",
    "\n",
    "In your terminal (MacOS, Linux) or Anaconda Powershell Prompt (Windows) create a new environment for this project:\n",
    "\n",
    "```shell\n",
    "$ conda create -n mlflow\n",
    "```\n",
    "\n",
    "You can name it as you want. Here we named it `mlflow`. To activate it, enter:\n",
    "\n",
    "```shell\n",
    "$ conda activate mlflow\n",
    "```\n",
    "\n",
    "You should see `(mlflow)` at the line beginning of your line.\n",
    "\n",
    "### Setup MLFlow\n",
    "\n",
    "All those steps should be done inside your activated conda environment (we name ours: `mlflow`).\n",
    "\n",
    "#### On Windows\n",
    "\n",
    "As for now, if you want to be able to execute `mlflow ui` you need to follow those steps. In your Anaconda Powershell Prompt, we first install all dependencies using conda:\n",
    "\n",
    "```shell\n",
    "$ conda install -c conda-forge mlflow --only-deps\n",
    "```\n",
    "\n",
    "Once it finishes, we setup MLFlow with `pip`:\n",
    "\n",
    "```shell\n",
    "$ pip install mlflow\n",
    "```\n",
    "\n",
    "And you are done!\n",
    "\n",
    "#### On MacOS or Linux\n",
    "\n",
    "Installing on MacOS or Linux is pretty straightforward and should not be a problem for you:\n",
    "\n",
    "```shell\n",
    "$ conda install -c conda-forge mlflow\n",
    "```\n",
    "\n",
    "Accept and you should be good to go!\n",
    "\n",
    "### Check MLFlow\n",
    "\n",
    "You can check if everything wen't well:\n",
    "\n",
    "```shell\n",
    "$ mlflow --version\n",
    "mlflow, version 1.12.0\n",
    "```\n",
    "\n",
    "### Installing other dependencies\n",
    "\n",
    "We are going to need `sklearn` and `boto3`. While your environment is activated:\n",
    "\n",
    "```shell\n",
    "$ pip install sklearn boto3\n",
    "```\n",
    "\n",
    "> If you need to install a library in your environment you can install it either with `conda install` or with the good ol' `pip install`. Sometimes `conda` brings more packages and less overhead with installment than `pip`.\n",
    "\n",
    "### Install AWS CLI \n",
    "\n",
    "You need to install <a href=\"https://aws.amazon.com/cli/\" target=\"_blank\">AWS CLI</a> to setup a region and default credential. To install AWS CLI, follow one of these links: \n",
    "\n",
    "- <a href=\"https://docs.aws.amazon.com/cli/latest/userguide/install-cliv2-linux.html\" target=\"_blank\">AWS CLI Linux</a>\n",
    "- <a href=\"https://docs.aws.amazon.com/cli/latest/userguide/install-cliv2-mac.html\" target=\"_blank\">AWS CLI for Mac</a>\n",
    "- <a href=\"https://docs.aws.amazon.com/cli/latest/userguide/install-cliv2-windows.html\" target=\"_blank\">AWS CLI for Windows</a>\n",
    "\n",
    "Once you have it installed, you can go to your terminal and run:\n",
    "\n",
    "```shell \n",
    "$ aws --version\n",
    "```\n",
    "\n",
    "You should get the following output: \n",
    "\n",
    "```shell \n",
    "aws-cli/2.0.22 Python/3.7.4 Darwin/19.5.0 botocore/2.0.0dev26\n",
    "```\n",
    "\n",
    "### Setup AWS creds & region \n",
    "\n",
    "For MLFlow to work, you will need to setup AWS credentials and region. Here are the commands: \n",
    "\n",
    "```shell\n",
    "$ aws configure set aws_access_key_id ACCESS_KEY\n",
    "$ aws configure set aws_secret_access_key SECRET_KEY\n",
    "$ aws configure set default.region REGION\n",
    "```\n",
    "\n",
    "Replace with your credentials and the region you want your model to be deployed (we use `eu-west-3`).\n",
    "\n",
    "An we are done setting up our environment and tools!"
   ]
  },
  {
   "cell_type": "markdown",
   "metadata": {},
   "source": [
    "## ⓶ Configuring AWS\n",
    "\n",
    "### Create an execution role \n",
    "\n",
    "If you want a working deployment, you will need to create a role with _AMAZON_SAGEMAKER_FULL_ACCESS_.\n",
    "\n",
    "<img src=\"https://full-stack-assets.s3.eu-west-3.amazonaws.com/images/ecr_execution_role.png\" alt=\"IAM role\" width=700>\n",
    "\n",
    "Copy the ARN, and keep it aside. We will need to use it for deployment later on."
   ]
  },
  {
   "cell_type": "markdown",
   "metadata": {},
   "source": [
    "## ⓷ Training and logging our model with MLFlow\n",
    "\n",
    "We have already coded the training process for you. It should not be too unfamiliar to you so we won't go in further explanations:"
   ]
  },
  {
   "cell_type": "code",
   "execution_count": null,
   "metadata": {},
   "outputs": [],
   "source": [
    "import pandas as pd\n",
    "import mlflow\n",
    "import mlflow.sklearn\n",
    "from sklearn.datasets import load_iris\n",
    "from sklearn.linear_model import LogisticRegression\n",
    "from sklearn.model_selection import train_test_split\n",
    "\n",
    "iris = load_iris()\n",
    "\n",
    "X = pd.DataFrame(data = iris[\"data\"], columns= iris[\"feature_names\"])\n",
    "y = pd.DataFrame(data = iris[\"target\"], columns=[\"target\"])\n",
    "\n",
    "X_train, X_test, y_train, y_test = train_test_split(X, y)\n",
    "\n",
    "with mlflow.start_run():\n",
    "    # Specified Parameters \n",
    "    c = 0.5\n",
    "\n",
    "    # Instanciate and fit the model \n",
    "    lr = LogisticRegression(C=c)\n",
    "    lr.fit(X_train.values, y_train.values)\n",
    "\n",
    "    # Store metrics \n",
    "    predicted_qualities = lr.predict(X_test.values)\n",
    "    accuracy = lr.score(X_test.values, y_test.values)\n",
    "\n",
    "    # Print results \n",
    "    print(\"LogisticRegression model\")\n",
    "    print(\"Accuracy: {}\".format(accuracy))\n",
    "\n",
    "    # Log Metric \n",
    "    mlflow.log_metric(\"Accuracy\", accuracy)\n",
    "\n",
    "    # Log Param\n",
    "    mlflow.log_param(\"C\", c)\n",
    "    \n",
    "    # Log model\n",
    "    mlflow.sklearn.log_model(lr, \"model\")"
   ]
  },
  {
   "cell_type": "markdown",
   "metadata": {},
   "source": [
    "Start MLFlow UI, you should see at least one line corresponding to this new model, click on it, you access a page with the run ID on the top (which we are going to use in few steps):\n",
    "\n",
    "<img src=\"https://full-stack-assets.s3.eu-west-3.amazonaws.com/images/FULL_STACK_12_WEEK/M09/M09-D05-00-01-Run_id.png\" alt=\"Run ID\" width=700>"
   ]
  },
  {
   "cell_type": "markdown",
   "metadata": {},
   "source": [
    "## ⓸ Deploy to SageMaker \n",
    "\n",
    "### Pushing the Docker environment\n",
    "\n",
    "Before pushing our model into production we need to create the execution environment. Hopefully for us, we don't have to hassle because MLFlow do the job for us.\n",
    "\n",
    "Enter the following line in you terminal:\n",
    "\n",
    "```shell\n",
    "$ mlflow sagemaker build-and-push-container\n",
    "```\n",
    "\n",
    "Wait until it finish by pushing the Docker image to ECR. It can take a while so take a break! ☕️\n",
    "\n",
    "### Get ECR ARN\n",
    "\n",
    "Now go to <a href=\"https://aws.amazon.com/\" target=\"_blank\">AWS</a> and click on the new registry created by MLFLow – it should be something like _mlflow-pyfunc_.\n",
    "\n",
    "<img src=\"https://full-stack-assets.s3.eu-west-3.amazonaws.com/images/FULL_STACK_12_WEEK/M09/M09-D05-00-01-ECR_registry.png\" alt=\"ECR View\" width=700>\n",
    "\n",
    "Then copy the URI of our Docker image:\n",
    "\n",
    "<img src=\"https://full-stack-assets.s3.eu-west-3.amazonaws.com/images/FULL_STACK_12_WEEK/M09/M09-D05-00-01-Copy_URI.png\" alt=\"Copy URI\" width=700>\n",
    "\n",
    "You can fill the variable `image_ecr_url` with this Docker image URI:"
   ]
  },
  {
   "cell_type": "code",
   "execution_count": null,
   "metadata": {},
   "outputs": [],
   "source": [
    "app_name = \"iris\"\n",
    "\n",
    "# Region where you want your model to be deployed\n",
    "region = \"eu-west-3\"\n",
    "\n",
    "# You can change the instance type\n",
    "instance_type = \"ml.t2.medium\"\n",
    "\n",
    "# Get it from Mlflow\n",
    "run_id = \"\"\n",
    "model_uri = \"runs:/\" + run_id + \"/model\"\n",
    "\n",
    "# Put your AWS Role ARN\n",
    "execution_role = \"arn:aws:iam::802836651515:role/SagemakerFullAccess\"\n",
    "\n",
    "# Put the image URI took from AWS ECR\n",
    "image_ecr_url = \"802836651515.dkr.ecr.eu-west-3.amazonaws.com/mlflow-pyfunc:1.13.1\""
   ]
  },
  {
   "cell_type": "markdown",
   "metadata": {},
   "source": [
    "Be sure to fill the last cell with:\n",
    "\n",
    "- `run_id`: the run ID from MLFlow UI,\n",
    "- `execution_role`: the ARN of our IAM role we created before,\n",
    "- `image_ecr_url`: the URI we copied just now.\n",
    "\n",
    "We set the most basic instance type. You can change for <a href=\"https://aws.amazon.com/releasenotes/sagemaker-instance-types-in-paris-eu-west-3/\" target=\"_blank\">better instances</a> if you need to.\n",
    "\n",
    "> Check the <a href=\"https://aws.amazon.com/fr/free/?all-free-tier.sort-by=item.additionalFields.SortRank&all-free-tier.sort-order=asc\" target=\"_blank\">AWS Free tier</a>, if you want to make you won't be charged for using instances. "
   ]
  },
  {
   "cell_type": "markdown",
   "metadata": {},
   "source": [
    "Finally, we can run the following command to deploy your ML model to SageMaker:"
   ]
  },
  {
   "cell_type": "code",
   "execution_count": null,
   "metadata": {},
   "outputs": [],
   "source": [
    "# Create a SageMaker app \n",
    "import mlflow.sagemaker as mfs\n",
    "\n",
    "mfs.deploy(\n",
    "    app_name=app_name,\n",
    "    model_uri=model_uri,\n",
    "    image_url=image_ecr_url,\n",
    "    region_name=region,\n",
    "    mode=\"replace\",\n",
    "    execution_role_arn=execution_role,\n",
    "    instance_type=instance_type\n",
    ")"
   ]
  },
  {
   "cell_type": "markdown",
   "metadata": {},
   "source": [
    "## ⓹ Use your deployed model \n",
    "\n",
    "Now you can use your deploy model. You first need to prepare your data the following way:"
   ]
  },
  {
   "cell_type": "code",
   "execution_count": null,
   "metadata": {},
   "outputs": [],
   "source": [
    "# Format input for API \n",
    "input_json = X_test.to_json(orient=\"split\")"
   ]
  },
  {
   "cell_type": "markdown",
   "metadata": {},
   "source": [
    "And let's create the following function: "
   ]
  },
  {
   "cell_type": "code",
   "execution_count": 4,
   "metadata": {},
   "outputs": [],
   "source": [
    "# Use the API endpoint\n",
    "import json\n",
    "import boto3\n",
    "\n",
    "def query_endpoint(app_name, input_json):\n",
    "    # Instanciate a client in order to access Sagemaker\n",
    "    client = boto3.session.Session().client(\"sagemaker-runtime\", region)\n",
    "    # Call our Iris endpoint\n",
    "    response = client.invoke_endpoint(\n",
    "        EndpointName=app_name,\n",
    "        Body=input_json,\n",
    "        ContentType='application/json; format=pandas-split',\n",
    "    )\n",
    "    # We get the answer\n",
    "    preds = response['Body'].read().decode(\"ascii\")\n",
    "    preds = json.loads(preds)\n",
    "    print(\"Received response: {}\".format(preds))\n",
    "\n",
    "    return preds"
   ]
  },
  {
   "cell_type": "markdown",
   "metadata": {},
   "source": [
    "Use the function: "
   ]
  },
  {
   "cell_type": "code",
   "execution_count": 3,
   "metadata": {},
   "outputs": [
    {
     "ename": "NameError",
     "evalue": "name 'input_json' is not defined",
     "output_type": "error",
     "traceback": [
      "\u001b[1;31m---------------------------------------------------------------------------\u001b[0m",
      "\u001b[1;31mNameError\u001b[0m                                 Traceback (most recent call last)",
      "\u001b[1;32m<ipython-input-3-66aa75c240df>\u001b[0m in \u001b[0;36m<module>\u001b[1;34m\u001b[0m\n\u001b[0;32m      1\u001b[0m \u001b[1;31m# Evaluate the input by posting it to the deployed model\u001b[0m\u001b[1;33m\u001b[0m\u001b[1;33m\u001b[0m\u001b[1;33m\u001b[0m\u001b[0m\n\u001b[1;32m----> 2\u001b[1;33m \u001b[0mprediction1\u001b[0m \u001b[1;33m=\u001b[0m \u001b[0mquery_endpoint\u001b[0m\u001b[1;33m(\u001b[0m\u001b[0mapp_name\u001b[0m\u001b[1;33m=\u001b[0m\u001b[1;34m\"iris\"\u001b[0m\u001b[1;33m,\u001b[0m \u001b[0minput_json\u001b[0m\u001b[1;33m=\u001b[0m\u001b[0minput_json\u001b[0m\u001b[1;33m)\u001b[0m\u001b[1;33m\u001b[0m\u001b[1;33m\u001b[0m\u001b[0m\n\u001b[0m",
      "\u001b[1;31mNameError\u001b[0m: name 'input_json' is not defined"
     ]
    }
   ],
   "source": [
    "# Evaluate the input by posting it to the deployed model\n",
    "prediction1 = query_endpoint(app_name=app_name, input_json=input_json)"
   ]
  },
  {
   "cell_type": "markdown",
   "metadata": {},
   "source": [
    "## Delete the app \n",
    "\n",
    "Delete your app when you have finished:"
   ]
  },
  {
   "cell_type": "code",
   "execution_count": null,
   "metadata": {},
   "outputs": [],
   "source": [
    "# Delete app\n",
    "import mlflow.sagemaker as mfs\n",
    "\n",
    "app_name = \"iris\"\n",
    "\n",
    "# Specify the archive=False option to delete any SageMaker models and configurations\n",
    "# associated with the specified application\n",
    "mfs.delete(app_name=app_name, region_name=region, archive=False)"
   ]
  },
  {
   "cell_type": "markdown",
   "metadata": {},
   "source": [
    "Once you are done, you should clear also the ECR and your S3 (MLFlow use it to upload your model)."
   ]
  },
  {
   "cell_type": "markdown",
   "metadata": {},
   "source": [
    "## Resources \n",
    "\n",
    "- <a href=\"https://zestedesavoir.com/tutoriels/1448/installer-un-environnement-de-developpement-python-avec-conda/\" target=\"_blank\">🇫🇷 Installer un environnement avec Conda</a>\n",
    "* <a href=\"https://docs.databricks.com/administration-guide/cloud-configurations/aws/sagemaker.html\" target=\"_blank\">Set up AWS authentication for SageMaker deployment</a>\n",
    "* <a href=\"https://docs.databricks.com/_static/notebooks/mlflow/mlflow-quick-start-deployment-aws.html\" target=\"_blank\">MLflow Quick Start Part 2: Serving Models via Amazon SageMaker</a>\n",
    "* <a href=\"https://docs.aws.amazon.com/cli/latest/userguide/install-cliv2.html\" target=\"_blank\">Installing the AWS CLI version 2</a>\n",
    "* <a href=\"https://docs.aws.amazon.com/cli/latest/userguide/install-cliv2-windows.html\" target=\"_blank\">Installing the AWS CLI version 2 on Windows</a>"
   ]
  }
 ],
 "metadata": {
  "kernelspec": {
   "display_name": "Python 3",
   "language": "python",
   "name": "python3"
  },
  "language_info": {
   "codemirror_mode": {
    "name": "ipython",
    "version": 3
   },
   "file_extension": ".py",
   "mimetype": "text/x-python",
   "name": "python",
   "nbconvert_exporter": "python",
   "pygments_lexer": "ipython3",
   "version": "3.8.6"
  }
 },
 "nbformat": 4,
 "nbformat_minor": 4
}
