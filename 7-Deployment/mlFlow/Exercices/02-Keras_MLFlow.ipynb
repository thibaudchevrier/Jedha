{
 "cells": [
  {
   "cell_type": "markdown",
   "metadata": {},
   "source": [
    "# Keras MLFlow\n",
    "\n",
    "This exercise will let you build your first MLFlow project on your own:\n",
    "\n",
    "Go to <a href=\"https://github.com/Charlestng/keras_mlflow_exercise_jedha\" target=\"_blank\">https://github.com/Charlestng/keras_mlflow_exercise_jedha</a> and clone the repository, the YAML file and MLmodel file are already prepared for you. You just have to edit the script. When you are done push your project to your Github and run it using: \n",
    "\n",
    "```shell\n",
    "mlflow run github_url\n",
    "```"
   ]
  }
 ],
 "metadata": {
  "kernelspec": {
   "display_name": "Python 3",
   "language": "python",
   "name": "python3"
  },
  "language_info": {
   "codemirror_mode": {
    "name": "ipython",
    "version": 3
   },
   "file_extension": ".py",
   "mimetype": "text/x-python",
   "name": "python",
   "nbconvert_exporter": "python",
   "pygments_lexer": "ipython3",
   "version": "3.7.6"
  }
 },
 "nbformat": 4,
 "nbformat_minor": 4
}
