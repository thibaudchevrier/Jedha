{
 "cells": [
  {
   "cell_type": "markdown",
   "metadata": {},
   "source": [
    "# MLFlow Tracking \n",
    "\n",
    "<img src=\"https://full-stack-assets.s3.eu-west-3.amazonaws.com/images/mlflow-tracking.png\" width=600>\n",
    "\n",
    "## What you will learn in this course\n",
    "\n",
    "Let's start by the simplest part of the API: Tracking. In this course, you will learn:\n",
    "\n",
    "* How to install MLFlow\n",
    "* What is MLFlow Tracking \n",
    "* How to monitor your ML workflow\n",
    "* Visualise it with MLFlow UI"
   ]
  },
  {
   "cell_type": "markdown",
   "metadata": {},
   "source": [
    "## Setup the environment\n",
    "\n",
    "We already have seen how to create a virtual environment using `virtualenv`. But it isn't the only tool to build and manage your environment. You can use Conda to do so. We assume you have <a href=\"https://docs.anaconda.com/anaconda/install/\" target=\"_blank\">Anaconda</a> already setup on your machine.\n",
    "\n",
    "You can refer to the last lecture _Setup Conda environment_ for more details about Conda.\n",
    "\n",
    "### Start a new environment\n",
    "\n",
    "In your terminal (MacOS, Linux) or Anaconda Powershell Prompt (Windows) create a new environment for this project:\n",
    "\n",
    "```shell\n",
    "$ conda create -n mlflow\n",
    "```\n",
    "\n",
    "You can name it as you want. Here we named it `mlflow`. To activate it, enter:\n",
    "\n",
    "```shell\n",
    "$ conda activate mlflow\n",
    "```\n",
    "\n",
    "You should see `(mlflow)` at the line beginning of your line.\n",
    "\n",
    "### Setup MLFlow\n",
    "\n",
    "All those steps should be done inside your activated conda environment.\n",
    "\n",
    "#### On Windows\n",
    "\n",
    "As for now, if you want to be able to execute `mlflow ui` you need to follow those steps. In your Anaconda Powershell Prompt, we first install all dependencies using conda:\n",
    "\n",
    "```shell\n",
    "$ conda install -c conda-forge mlflow --only-deps\n",
    "```\n",
    "\n",
    "Once it finishes, we setup MLFlow with `pip`:\n",
    "\n",
    "```shell\n",
    "$ pip install mlflow\n",
    "```\n",
    "\n",
    "And you are done!\n",
    "\n",
    "#### On MacOS or Linux\n",
    "\n",
    "Installing on MacOS or Linux is pretty straightforward and should not be a problem for you:\n",
    "\n",
    "```shell\n",
    "$ conda install -c conda-forge mlflow\n",
    "```\n",
    "\n",
    "Accept and you should be good to go!\n",
    "\n",
    "### Check MLFlow\n",
    "\n",
    "You can check if everything wen't well:\n",
    "\n",
    "```shell\n",
    "$ mlflow --version\n",
    "mlflow, version 1.12.0\n",
    "```"
   ]
  },
  {
   "cell_type": "markdown",
   "metadata": {},
   "source": [
    "## What is MLFlow Tracking?\n",
    "\n",
    "MLFlow tracking is here to help you to: \n",
    "\n",
    "* Monitor your ML trainings,\n",
    "* Log parameters for hyper-parameter tuning,\n",
    "* Log metrics for assessing for model performance.\n",
    "\n",
    "When you are working in teams, an MLFlow tracking server is setup and all data scientists logs into it when they are building their models.\n",
    "\n",
    "In our case, we will use our local computer to monitor our project."
   ]
  },
  {
   "cell_type": "markdown",
   "metadata": {},
   "source": [
    "## Use MLFlow Tracking \n",
    "\n",
    "### Our project\n",
    "\n",
    "Let's start by simply loading <a href=\"https://scikit-learn.org/stable/modules/generated/sklearn.datasets.load_iris.html#sklearn.datasets.load_iris\" target=\"_blank\">some data</a> from `sklearn`:"
   ]
  },
  {
   "cell_type": "code",
   "execution_count": 2,
   "metadata": {},
   "outputs": [
    {
     "data": {
      "text/html": [
       "<div>\n",
       "<style scoped>\n",
       "    .dataframe tbody tr th:only-of-type {\n",
       "        vertical-align: middle;\n",
       "    }\n",
       "\n",
       "    .dataframe tbody tr th {\n",
       "        vertical-align: top;\n",
       "    }\n",
       "\n",
       "    .dataframe thead th {\n",
       "        text-align: right;\n",
       "    }\n",
       "</style>\n",
       "<table border=\"1\" class=\"dataframe\">\n",
       "  <thead>\n",
       "    <tr style=\"text-align: right;\">\n",
       "      <th></th>\n",
       "      <th>sepal length (cm)</th>\n",
       "      <th>sepal width (cm)</th>\n",
       "      <th>petal length (cm)</th>\n",
       "      <th>petal width (cm)</th>\n",
       "    </tr>\n",
       "  </thead>\n",
       "  <tbody>\n",
       "    <tr>\n",
       "      <th>33</th>\n",
       "      <td>5.5</td>\n",
       "      <td>4.2</td>\n",
       "      <td>1.4</td>\n",
       "      <td>0.2</td>\n",
       "    </tr>\n",
       "    <tr>\n",
       "      <th>42</th>\n",
       "      <td>4.4</td>\n",
       "      <td>3.2</td>\n",
       "      <td>1.3</td>\n",
       "      <td>0.2</td>\n",
       "    </tr>\n",
       "    <tr>\n",
       "      <th>82</th>\n",
       "      <td>5.8</td>\n",
       "      <td>2.7</td>\n",
       "      <td>3.9</td>\n",
       "      <td>1.2</td>\n",
       "    </tr>\n",
       "    <tr>\n",
       "      <th>15</th>\n",
       "      <td>5.7</td>\n",
       "      <td>4.4</td>\n",
       "      <td>1.5</td>\n",
       "      <td>0.4</td>\n",
       "    </tr>\n",
       "    <tr>\n",
       "      <th>75</th>\n",
       "      <td>6.6</td>\n",
       "      <td>3.0</td>\n",
       "      <td>4.4</td>\n",
       "      <td>1.4</td>\n",
       "    </tr>\n",
       "  </tbody>\n",
       "</table>\n",
       "</div>"
      ],
      "text/plain": [
       "    sepal length (cm)  sepal width (cm)  petal length (cm)  petal width (cm)\n",
       "33                5.5               4.2                1.4               0.2\n",
       "42                4.4               3.2                1.3               0.2\n",
       "82                5.8               2.7                3.9               1.2\n",
       "15                5.7               4.4                1.5               0.4\n",
       "75                6.6               3.0                4.4               1.4"
      ]
     },
     "execution_count": 2,
     "metadata": {},
     "output_type": "execute_result"
    }
   ],
   "source": [
    "import pandas as pd\n",
    "from sklearn.datasets import load_iris\n",
    "from sklearn.linear_model import LogisticRegression\n",
    "from sklearn.model_selection import train_test_split\n",
    "\n",
    "# Load Iris dataset\n",
    "iris = load_iris()\n",
    "\n",
    "# Split dataset into X features and Target variable\n",
    "X = pd.DataFrame(data = iris[\"data\"], columns= iris[\"feature_names\"])\n",
    "y = pd.DataFrame(data = iris[\"target\"], columns=[\"target\"])\n",
    "\n",
    "# Split our training set and our test set \n",
    "X_train, X_test, y_train, y_test = train_test_split(X, y)\n",
    "\n",
    "# Visualize dataset \n",
    "X_train.head()"
   ]
  },
  {
   "cell_type": "markdown",
   "metadata": {},
   "source": [
    "Now to track your training, what you can do is simply to add:"
   ]
  },
  {
   "cell_type": "code",
   "execution_count": 3,
   "metadata": {},
   "outputs": [],
   "source": [
    "import mlflow\n",
    "mlflow.end_run()  # This is to be sure that now MLFlow run is actually in process"
   ]
  },
  {
   "cell_type": "code",
   "execution_count": 7,
   "metadata": {},
   "outputs": [
    {
     "name": "stdout",
     "output_type": "stream",
     "text": [
      "LogisticRegression model\n",
      "Accuracy: 1.0\n"
     ]
    }
   ],
   "source": [
    "# By using `with` the run end automatically at the end if this scope\n",
    "# We do not need to precise mlflow.end_run()\n",
    "with mlflow.start_run():\n",
    "    # Instanciate and fit the model \n",
    "    lr = LogisticRegression()\n",
    "    lr.fit(X_train.values, y_train.values)\n",
    "\n",
    "    # Store metrics \n",
    "    predicted_qualities = lr.predict(X_test.values)\n",
    "    accuracy = lr.score(X_test.values, y_test.values)\n",
    "\n",
    "    # Print results \n",
    "    print(\"LogisticRegression model\")\n",
    "    print(\"Accuracy: {}\".format(accuracy))"
   ]
  },
  {
   "cell_type": "markdown",
   "metadata": {},
   "source": [
    "Finally, the only thing you have left to do is to visualize the results with MLFlow UI by going onto your terminal and type:\n",
    "\n",
    "```shell \n",
    "$ mlflow ui \n",
    "```\n",
    "\n",
    "This will run a local server (`http://127.0.0.1:5000`) and you should be able to check what happened. In the meantime, you project directory should now look something like this: \n",
    "\n",
    "```\n",
    "├── mlruns\n",
    "│   └── 0\n",
    "│       ├── 0a2b502f674949b4acb8dfce6549a7fb\n",
    "│       │   ├── artifacts\n",
    "│       │   │   └── model\n",
    "│       │   ├── meta.yaml\n",
    "│       │   ├── metrics\n",
    "│       │   ├── params\n",
    "│       │   └── tags\n",
    "│       │       ├── mlflow.log-model.history\n",
    "│       │       ├── mlflow.source.name\n",
    "│       │       ├── mlflow.source.type\n",
    "│       │       └── mlflow.user\n",
    "│       └── meta.yaml\n",
    "└── train.ipynb ← This notebook for example\n",
    "```\n",
    "\n",
    "We will talk about this in the next lecture but it is going to be very useful. "
   ]
  },
  {
   "cell_type": "markdown",
   "metadata": {},
   "source": [
    "## Log Metrics \n",
    "\n",
    "As of now, we don't have much in our MLFLow UI as well as in our project directory. This is because we haven't logged anything yet. We are going to show you how to log a metric first. \n",
    "\n",
    "Do you remember? A metric is something you use to assess the performance of your model. In our case, we use the `accuracy`.\n",
    "\n",
    "To log a metric, we call:\n",
    "\n",
    "```python\n",
    "mlflow.log_metric(\"METRIC_NAME\", metric)\n",
    "```\n",
    "\n",
    "That's all. Here is how it looks in the code above:"
   ]
  },
  {
   "cell_type": "code",
   "execution_count": 8,
   "metadata": {},
   "outputs": [
    {
     "name": "stdout",
     "output_type": "stream",
     "text": [
      "LogisticRegression model\n",
      "Accuracy: 1.0\n"
     ]
    }
   ],
   "source": [
    "with mlflow.start_run():\n",
    "    # Instanciate and fit the model \n",
    "    lr = LogisticRegression()\n",
    "    lr.fit(X_train.values, y_train.values)\n",
    "\n",
    "    # Store metrics \n",
    "    predicted_qualities = lr.predict(X_test.values)\n",
    "    accuracy = lr.score(X_test.values, y_test.values)\n",
    "\n",
    "    # Print results \n",
    "    print(\"LogisticRegression model\")\n",
    "    print(\"Accuracy: {}\".format(accuracy))\n",
    "\n",
    "    # Log Metric \n",
    "    mlflow.log_metric(\"Accuracy\", accuracy)"
   ]
  },
  {
   "cell_type": "markdown",
   "metadata": {},
   "source": [
    "Run this code and log into your console to see the metric appearing in your new run. \n",
    "\n",
    "```shell\n",
    "$ mlflow ui\n",
    "```"
   ]
  },
  {
   "cell_type": "markdown",
   "metadata": {},
   "source": [
    "## Log Parameters \n",
    "\n",
    "You can also log parameters of your model to see which one where useful to improve your model's performance. The same way you would do it with metrics, you can log parameters by using: \n",
    "\n",
    "```python\n",
    "mlflow.log_param(\"PARAM_NAME\", param)\n",
    "```"
   ]
  },
  {
   "cell_type": "code",
   "execution_count": 1,
   "metadata": {},
   "outputs": [
    {
     "ename": "NameError",
     "evalue": "name 'mlflow' is not defined",
     "output_type": "error",
     "traceback": [
      "\u001b[1;31m---------------------------------------------------------------------------\u001b[0m",
      "\u001b[1;31mNameError\u001b[0m                                 Traceback (most recent call last)",
      "\u001b[1;32m<ipython-input-1-4a87ad78a12a>\u001b[0m in \u001b[0;36m<module>\u001b[1;34m\u001b[0m\n\u001b[1;32m----> 1\u001b[1;33m \u001b[1;32mwith\u001b[0m \u001b[0mmlflow\u001b[0m\u001b[1;33m.\u001b[0m\u001b[0mstart_run\u001b[0m\u001b[1;33m(\u001b[0m\u001b[1;33m)\u001b[0m\u001b[1;33m:\u001b[0m\u001b[1;33m\u001b[0m\u001b[1;33m\u001b[0m\u001b[0m\n\u001b[0m\u001b[0;32m      2\u001b[0m     \u001b[1;31m# Specified Parameters\u001b[0m\u001b[1;33m\u001b[0m\u001b[1;33m\u001b[0m\u001b[1;33m\u001b[0m\u001b[0m\n\u001b[0;32m      3\u001b[0m     \u001b[0mc\u001b[0m \u001b[1;33m=\u001b[0m \u001b[1;36m0.5\u001b[0m\u001b[1;33m\u001b[0m\u001b[1;33m\u001b[0m\u001b[0m\n\u001b[0;32m      4\u001b[0m \u001b[1;33m\u001b[0m\u001b[0m\n\u001b[0;32m      5\u001b[0m     \u001b[1;31m# Instanciate and fit the model\u001b[0m\u001b[1;33m\u001b[0m\u001b[1;33m\u001b[0m\u001b[1;33m\u001b[0m\u001b[0m\n",
      "\u001b[1;31mNameError\u001b[0m: name 'mlflow' is not defined"
     ]
    }
   ],
   "source": [
    "with mlflow.start_run():\n",
    "    # Specified Parameters \n",
    "    c = 0.5\n",
    "\n",
    "    # Instanciate and fit the model \n",
    "    lr = LogisticRegression(C=c)\n",
    "    lr.fit(X_train.values, y_train.values)\n",
    "\n",
    "    # Store metrics \n",
    "    predicted_qualities = lr.predict(X_test.values)\n",
    "    accuracy = lr.score(X_test.values, y_test.values)\n",
    "\n",
    "    # Print results \n",
    "    print(\"LogisticRegression model\")\n",
    "    print(\"Accuracy: {}\".format(accuracy))\n",
    "\n",
    "    # Log Metric \n",
    "    mlflow.log_metric(\"Accuracy\", accuracy)\n",
    "\n",
    "    # Log Param\n",
    "    mlflow.log_param(\"C\", c)"
   ]
  },
  {
   "cell_type": "markdown",
   "metadata": {},
   "source": [
    "If you go to your MLFlow UI again, you should see the following screen: \n",
    "\n",
    "![](https://full-stack-assets.s3.eu-west-3.amazonaws.com/images/mlflow-ui-log-params.png)"
   ]
  },
  {
   "cell_type": "markdown",
   "metadata": {},
   "source": [
    "Congratulations! You know how to track your models. This could be useful for your future projects 😉."
   ]
  },
  {
   "cell_type": "markdown",
   "metadata": {},
   "source": [
    "## Resources 📚\n",
    "\n",
    "* <a href=\"https://mlflow.org/docs/latest/tutorials-and-examples/tutorial.html\" target=\"_blank\">Mlflow Tutorial</a>\n",
    "* <a href=\"https://scikit-learn.org/stable/modules/generated/sklearn.linear_model.LogisticRegression.html\" target=\"_blank\">Logistic Regression</a>"
   ]
  }
 ],
 "metadata": {
  "kernelspec": {
   "display_name": "Python 3",
   "language": "python",
   "name": "python3"
  },
  "language_info": {
   "codemirror_mode": {
    "name": "ipython",
    "version": 3
   },
   "file_extension": ".py",
   "mimetype": "text/x-python",
   "name": "python",
   "nbconvert_exporter": "python",
   "pygments_lexer": "ipython3",
   "version": "3.8.6"
  }
 },
 "nbformat": 4,
 "nbformat_minor": 4
}
