{
 "cells": [
  {
   "cell_type": "markdown",
   "metadata": {},
   "source": [
    "# Setup your Conda environment\n",
    "\n",
    "So far we have seen how to create a virtual environment for your project using `virtualenv`. It is not the only package available to create your environment. <a href=\"https://docs.conda.io/en/latest/\" target=\"_blank\">Conda</a> is another useful one.\n",
    "\n",
    "On some operating systems Conda will be easier to use than `virtualenv` _(hey! Windows_ 😉_)_. It is up to you to choose the one that suit you more. However, it is good to know how to use use them both because `virtualenv` is still largely used."
   ]
  },
  {
   "cell_type": "markdown",
   "metadata": {},
   "source": [
    "## Conda\n",
    "\n",
    "Anaconda, Miniconda, Conda... All these tools may appear obscure to you. Let's shed some light on.\n",
    "\n",
    "Conda is a package, dependency and environment manager. Package and dependency manager just like `pip`. It allows you to download and setup the library you need for your project without carrying about what others libraries your library will need to work properly. It is very convenient. Conda is also a environment manager like `virtualenv`. You may realize this now: it allows you to have your own Python interpreter and all the libraries available with one command. It becomes useful when you are working on different project at the same time or if you want to share a project with your mates.\n",
    "\n",
    "Hopefully, you already understand all of that. What about <a href=\"https://docs.conda.io/en/latest/miniconda.html\" target=\"_blank\">Miniconda</a> or the better known <a href=\"https://docs.anaconda.com/\" target=\"_blank\">Anaconda</a>?\n",
    "\n",
    "Anaconda is a package with a lot of already available libraries for data-science. When you setup Anaconda on your computer, you are installing the latest version of Python, with data-science libraries like scikit-learn, Pandas – and many others, and some softwares in order to help you manage all these, like Anaconda Navigator. You have the choice to use Anaconda Navigator to manage your environments or to use the command line.\n",
    "\n",
    "Finally, Miniconda is a lightweight Anaconda. It comes with the basics: Python and some libraries. It is useful if you don't want to install all the softwares coming with Anaconda.\n",
    "\n",
    "> We recommend you to install Anaconda as it comes with a lot of data-science libraries you will have to setup anyway. Also for **Windows** users 👋, it comes with really useful tools like Anaconda Navigator or Anaconda Powershell Prompt (a terminal we are going to use in the following part)."
   ]
  },
  {
   "cell_type": "markdown",
   "metadata": {},
   "source": [
    "## The base environment\n",
    "\n",
    "We assume you already installed Anaconda or Miniconda.\n",
    "\n",
    "Start your terminal (if you are on Windows start Anaconda Powershell Prompt). A new window open, most likely with a white text on a black background. At the beginning of the line you should see something like `(base)`. It means you are already in the conda base environment. If it is not the case you can type inside your prompt:\n",
    "\n",
    "```shell\n",
    "$ conda activate\n",
    "```\n",
    "\n",
    "This command will activate automatically the base environment. This base environment is full of libraries already available: Pandas, numpy, scikit-learn, etc. To be sure of it, start the Python REPL:\n",
    "\n",
    "```shell\n",
    "$ python\n",
    "```\n",
    "\n",
    "And enter `import pandas` for example. If nothing happen, it means pandas has been loaded successfully. You can exit using `ctrl` + `d`."
   ]
  },
  {
   "cell_type": "markdown",
   "metadata": {},
   "source": [
    "## Create your own environment\n",
    "\n",
    "This is great, but `conda` is also able to manage several environments just like `virtualenv`.\n",
    "\n",
    "To create a new enviroment, you need to precise in your terminal:\n",
    "\n",
    "```shell\n",
    "$ conda create -n my_env\n",
    "```\n",
    "\n",
    "It will ask you if you want to proceed, enter `y`. You have a brand new environment! But you are not yet inside (did you notice the `(base)` at the beginning of the line is still there?). You need to activate it to \"enter\" this environment:\n",
    "\n",
    "```shell\n",
    "$ conda activate my_env\n",
    "```\n",
    "\n",
    "If you do again the test of starting Python and importing Pandas, you will have a error this time. Indeed, your environment `my_env` is different from `base`. So you can start to setup the libraries you need."
   ]
  },
  {
   "cell_type": "markdown",
   "metadata": {},
   "source": [
    "## Adding libraries\n",
    "\n",
    "Let's add some useful libraries you are going to need today: `sklearn` and `tensorflow` (for Keras).\n",
    "\n",
    "In a conda environment you have the choice between `conda` or `pip` to install your packages. Sometimes `conda` is more convenient because it takes the weight off your shoulders of having to do installations by hand. This is the case for OpenCV for example which can a hassle to setup with `pip` but not with `conda`.\n",
    "\n",
    "To install scikit-learn you can do:\n",
    "\n",
    "```shell\n",
    "$ conda install scikit-learn\n",
    "```\n",
    "\n",
    "It will ask you for confirmation and that's it! You can install a library in your Conda environment using `pip` too:\n",
    "\n",
    "```shell\n",
    "$ pip install tensorflow\n",
    "```\n",
    "\n",
    "It will work as well! Notice that Conda advises to use official Conda installation whenever possible. But it is okay to use `pip` 🙂."
   ]
  },
  {
   "cell_type": "markdown",
   "metadata": {},
   "source": [
    "## Managing your environments\n",
    "\n",
    "Now you are able to create as many environments you need.\n",
    "\n",
    "To stop an environment you juste need to type:\n",
    "\n",
    "```shell\n",
    "$ conda deactivate\n",
    "```\n",
    "\n",
    "If you want to see all environments currently available on your computer:\n",
    "\n",
    "```shell\n",
    "$ conda env list\n",
    "```\n",
    "\n",
    "When you are inside an environment, you can check the packages available in this one:\n",
    "\n",
    "```shell\n",
    "$ conda list\n",
    "```\n",
    "\n",
    "Finally, when you are done with an environment you can remove it with:\n",
    "\n",
    "```shell\n",
    "$ conda remove -n my_env --all\n",
    "```"
   ]
  },
  {
   "cell_type": "markdown",
   "metadata": {},
   "source": [
    "## Going further\n",
    "\n",
    "Conda is full of features. You can take a look at the <a href=\"https://docs.conda.io/projects/conda/en/latest/user-guide/tasks/manage-environments.html\" target=\"_blank\">managing environments documentation</a> to get a better idea of all the possibility it offers.\n",
    "\n",
    "From now on, it is up to you to use Conda or Virtualenv to create your environment. But _we highly recommend to Windows users to use Conda_ (❗️) as it offers a really good environment to work with. For the others, the choice is up to you."
   ]
  }
 ],
 "metadata": {
  "kernelspec": {
   "display_name": "Python 3",
   "language": "python",
   "name": "python3"
  },
  "language_info": {
   "codemirror_mode": {
    "name": "ipython",
    "version": 3
   },
   "file_extension": ".py",
   "mimetype": "text/x-python",
   "name": "python",
   "nbconvert_exporter": "python",
   "pygments_lexer": "ipython3",
   "version": "3.8.6"
  }
 },
 "nbformat": 4,
 "nbformat_minor": 4
}
