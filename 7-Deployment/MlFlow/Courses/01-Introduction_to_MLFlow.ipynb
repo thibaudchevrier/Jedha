{
 "cells": [
  {
   "cell_type": "markdown",
   "metadata": {},
   "source": [
    "# Introduction to MLFlow \n",
    "\n",
    "<img src=\"https://www.mlflow.org/docs/latest/_static/MLflow-logo-final-black.png\" width=300>\n",
    "\n",
    "## What you will learn in this course?\n",
    "\n",
    "Now that you know a lot about Machine Learning and Deep Learning, you will need to know how to use these in a production environment. Especially what you want to easily track, deploy and monitor your algorithms. That's what <a href=\"https://mlflow.org/\" target=\"_blank\">MLflow</a> is all about!\n",
    "\n",
    "In this course, you will learn:\n",
    "\n",
    "* What is MLFlow and why you should use it\n",
    "* How the API is structured"
   ]
  },
  {
   "cell_type": "markdown",
   "metadata": {},
   "source": [
    "## What is MLFlow?\n",
    "\n",
    "### Machine Learning Workflow\n",
    "\n",
    "MLFlow is an open source library that helps you to deal with your Machine Learning Workflow. Basically, a Machine Learning workflow always look like this:\n",
    "\n",
    "<img src=\"https://full-stack-assets.s3.eu-west-3.amazonaws.com/images/machine-learning-workflow.png\" width=600>"
   ]
  },
  {
   "cell_type": "markdown",
   "metadata": {},
   "source": [
    "As you already know, each part of the process comes with its own set of difficulties. However, one thing that is definitely painful is that you have plenty of different technologies that come into play. And, it can be very hard to make them \"talk with each other\". For example, it can be hard to:\n",
    "\n",
    "- Preprocess data with Spark, \n",
    "- Train a model on TensorFlow,\n",
    "- Deploy it onto SageMaker.\n",
    "\n",
    "Well, MLFlow helps you with this by giving you a standard way of handling your machine learning workflow and therefore making it tech-agnostic!\n",
    "\n",
    "Also MLFlow is great when you are working in team and you need to ship regularly new versions of your model. It forces you to follow good practices and improves processes.\n",
    "\n",
    "With MLFlow, you will be able to: \n",
    "\n",
    "- Track your ML Trainings, metrics and parameters via a very nice UI,\n",
    "- Standardize your training process to outsource it on any machine,\n",
    "- Deploy your models on any technologies. "
   ]
  },
  {
   "cell_type": "markdown",
   "metadata": {},
   "source": [
    "## How the API is structured?\n",
    "\n",
    "MLFlow prefers API to communicate with it. To understand how this library works, let's quickly checkout how it is structured.\n",
    "\n",
    "<img src=\"https://i.ytimg.com/vi/1S8BJM1sAZU/maxresdefault.jpg\" width=600>"
   ]
  },
  {
   "cell_type": "markdown",
   "metadata": {},
   "source": [
    "As you can see, you have a component for each part of the Machine Learning workflow:\n",
    "\n",
    "- MLFlow tracking: used to monitor your trainings, metrics and parameters,\n",
    "- MLFlow project: used to package and standardise your training code to outsource it,\n",
    "- MLFlow models: used to deploy your models on a variety of platform.\n",
    "\n",
    "You have also a new component called MLFlow registry that is used to store machine learning models versions so that you never loose them.\n",
    "\n",
    "<img src=\"https://databricks.com/wp-content/uploads/2020/04/databricks-adds-access-control-to-mlflow-model-registry_01.jpg\" width=600>"
   ]
  },
  {
   "cell_type": "markdown",
   "metadata": {},
   "source": [
    "## Main Advantages of MLFlow \n",
    "\n",
    "The main advantage of MLFlow that we find interesting is that it is completely **open source** and **free**. Therefore, you don't have to stick with one technology to deploy or monitor your ML project.\n",
    "\n",
    "There are plenty of platforms out there that can help you when dealing with any project. Just to name a few: <a href=\"https://www.wandb.com/\" target=\"_blank\">Weight&Biases</a>, <a href=\"https://neptune.ai/\" target=\"_blank\">Neptune.ai</a> or <a href=\"https://valohai.com/\" target=\"_blank\">Valohai</a>. They all work on the same model, just like MLFlow. If you understand MLFlow then you would be good to use those other tools in your future job."
   ]
  },
  {
   "cell_type": "markdown",
   "metadata": {},
   "source": [
    "## Resources \n",
    "\n",
    "* <a href=\"https://mlflow.org/docs/latest/concepts.html\" target=\"_blank\">Concepts</a>\n",
    "* <a href=\"https://www.youtube.com/watch?v=1S8BJM1sAZU\" target=\"_blank\">▶️ Managing the Complete Machine Learning Lifecycle with MLFlow - Thunder Shiviah (Databricks)</a>\n",
    "* <a href=\"https://www.youtube.com/watch?v=859OxXrt_TI\" target=\"_blank\">▶️ MLFlow: An Open Platform to Simplify the Machine Learning Lifecycle</a>\n",
    "* <a href=\"https://databricks.com/fr/product/managed-mlflow\" target=\"_blank\">Managing with MLFlow</a>"
   ]
  }
 ],
 "metadata": {
  "kernelspec": {
   "display_name": "Python 3",
   "language": "python",
   "name": "python3"
  },
  "language_info": {
   "codemirror_mode": {
    "name": "ipython",
    "version": 3
   },
   "file_extension": ".py",
   "mimetype": "text/x-python",
   "name": "python",
   "nbconvert_exporter": "python",
   "pygments_lexer": "ipython3",
   "version": "3.8.6"
  }
 },
 "nbformat": 4,
 "nbformat_minor": 4
}
