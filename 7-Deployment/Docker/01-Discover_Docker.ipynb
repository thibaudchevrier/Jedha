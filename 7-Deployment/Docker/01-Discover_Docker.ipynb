{
 "cells": [
  {
   "cell_type": "markdown",
   "metadata": {
    "colab_type": "text",
    "id": "NO-Xrf7dHz7o"
   },
   "source": [
    "# Ease your deployment workflow with Docker\n",
    "\n",
    "<img src=\"https://full-stack-assets.s3.eu-west-3.amazonaws.com/images/docker-logo.png\" width=250>"
   ]
  },
  {
   "cell_type": "markdown",
   "metadata": {},
   "source": [
    "## What you will learn in this course?\n",
    "\n",
    "Docker is one of the must-know subjects for every data-person working with modern systems and computers. It has been around for less than a decade but has known an impressive growth of adopters. You should be one of them soon enough 😋.\n",
    "\n",
    "In this lecture we are going through some concepts and theory. We will explain:\n",
    "\n",
    "- what is Docker?\n",
    "- what are the differences between a container and a virtual machine?\n",
    "- some core concepts to understand Docker"
   ]
  },
  {
   "cell_type": "markdown",
   "metadata": {
    "colab_type": "text",
    "id": "4ui7pKCahW9g"
   },
   "source": [
    "## What is Docker? 🐳🐳\n",
    "\n",
    "If you've ever tried deploying any application on a server, you know how much of a hassle this can be. Here are just a few problems that can (and often will) occur when moving from your _development environment_ to your _production environment_:\n",
    "\n",
    "* Server's Operating System is not the same (i.e you are working on MacOS, server is Windows or Ubuntu)\n",
    "* Dependencies are not installed \n",
    "* Dependencies are not compatible \n",
    "* ... \n",
    "\n",
    "The goal of Docker is to alleviate these problems by letting you create _containers_.\n",
    "\n",
    "Specifically, Docker lets you package your machine learning model in order to create ready to deploy API. Or, it allows you to create a scheduled job running inside your precisely defined container. Or even, Docker gives you the tool to reproduce the production infrastructure locally.\n",
    "\n",
    "Docker sounds to be the answer to a lot of issues in development and data engineering. Indeed, _it is_. This is why we would like you to tame the animal, supposing anyone can tame a whale...\n",
    "\n",
    "But before diving in deep-sea, let's prepare ourselves with a bit of theory. "
   ]
  },
  {
   "cell_type": "markdown",
   "metadata": {},
   "source": [
    "## Containers versus virtual machine\n",
    "\n",
    "If you knew about Docker already, you may have seen it compared to virtual machines (VM). If not, we are stopping here a little to talk about these concepts."
   ]
  },
  {
   "cell_type": "markdown",
   "metadata": {
    "colab_type": "text",
    "id": "CnWUAB0PiFw0"
   },
   "source": [
    "### Virtual machine\n",
    "\n",
    "The virtual machine can be seen as \"a new computer running inside your computer\". This sentence sounds weird, isn't it? More precisely by running a virtual machine you are allocating hardware resources like RAM, computing power, and so on, to run a new operating system (OS). This OS could be a Linux distribution for example running on your _buddy ol' pal_ Windows. Or the opposite!\n",
    "\n",
    "Virtual machines are quite handy if you need a whole new environment with its drivers (to pilot your hardware) and other freaky programmatic creatures. But, too often, they are heavy to support in memory and they take too much time on booting.\n",
    "\n",
    "They are still massively used in infrastructures. However Docker containers popped up with some interesting features bringing new solutions to problems that VM were unable to solve.\n",
    "\n",
    "To wrap up what we just said, check this diagram: A virtual machine runs on the hardware infrastructure through the hypervisor, is uses a guest operating system attached to it on which you will install the proper environment to run your app.\n",
    "\n",
    "<img src=\"https://full-stack-assets.s3.eu-west-3.amazonaws.com/images/M09-D02-01-002.png\" width=500>"
   ]
  },
  {
   "cell_type": "markdown",
   "metadata": {},
   "source": [
    "### Containers\n",
    "\n",
    "Containers are less heavy weight and run (also tear down) within seconds. It is why they are so cool! Also, they are sharing the same OS. We are not going to dive deep in how much this is awesome, but keep in mind this sharing mechanism allows containers to be less resource-consuming, and faster, and lightweight, and so on.\n",
    "\n",
    "Notice we are not saying that VMs are bad. They are just not suited for some kinds of work, specifically when we just want to run one application.\n",
    "\n",
    "The following schema might help you to see the difference with VM:\n",
    "\n",
    "<img src=\"https://full-stack-assets.s3.eu-west-3.amazonaws.com/images/M09-D02-01-001.png\" width=500>\n",
    "\n",
    "Our containers, which hold our applications, run on Docker sharing resources of the host system. It does a huge difference when it comes to scaling your application horizontally. Containers are faster to scale than VMs.\n",
    "\n",
    "To sum up, containers are a way to package up your code with its dependencies in a standalone, lightweight software that will be compatible with any types of servers."
   ]
  },
  {
   "cell_type": "markdown",
   "metadata": {},
   "source": [
    "## Here comes the Whale\n",
    "\n",
    "It may seems still vague to you. Don't worry. Practicing will strengthen your understanding and those concepts will appear less blurry in your mind.\n",
    "\n",
    "In the following part, we are going to discover what kind of whale we have in front of us. Strictly speaking, we need to talk more about concepts before continuing."
   ]
  },
  {
   "cell_type": "markdown",
   "metadata": {},
   "source": [
    "### Client and server\n",
    "\n",
    "Docker architecture mimics the way how client and server work together. The client communicates to the server in order to get datas or ask the server to do some computing. This is how the web works. Concerning Docker, most of the time the client is your machine and the server is a program called _Docker Daemon_. 😈\n",
    "\n",
    "A daemon is just a piece of software running in the background and listening for instructions. Just like a web server is waiting most of the time for HTTP requests, our daemon waits for command lines requests (even though Docker offers you more managing solutions).\n",
    "\n",
    "<img src=\"https://full-stack-assets.s3.eu-west-3.amazonaws.com/images/docker-client-server-architecture.svg\" width=600>"
   ]
  },
  {
   "cell_type": "markdown",
   "metadata": {},
   "source": [
    "The diagram above can be read from left to right: the _client_ communicates using commands (like `docker build` among many others) to the _Docker daemon_ living in *DOCKER_HOST* which is our _server_. Notice that the *DOCKER_HOST* (i.e. _server_) can actually be running on the same system as the _client_, but on a remote system too.\n",
    "\n",
    "The _Registry_ represents all the cloud services your *DOCKER_HOST* can call in order to find new images."
   ]
  },
  {
   "cell_type": "markdown",
   "metadata": {},
   "source": [
    "### Images\n",
    "\n",
    "Images act as blueprints for building containers. You can imagine images like a building plan used by Docker to create as many containers as required. Those images are read-only but you can create and/or update them using a Dockerfile. We will discuss more about it in the next lecture.\n",
    "\n",
    "Docker heavily relies on these images to optimize its processes. Images are built with many layers which correspond to building blocks. Each time you will change something inside your container, Docker will update only the appropriate building block, everything else is cached from the previous build. Smart, isn't it?"
   ]
  },
  {
   "cell_type": "markdown",
   "metadata": {},
   "source": [
    "### Containers\n",
    "\n",
    "Thus, containers are instances of images. It means you can create as many containers you need from the same image. Do you realize how useful it would be for scaling applications?\n",
    "\n",
    "You can run, stop, create and delete those containers. You are also able to create connections between them or even make them access external networks. Containers are your minions in some ways. They are fulfilling all you desires 😈."
   ]
  },
  {
   "cell_type": "markdown",
   "metadata": {},
   "source": [
    "### Other concepts\n",
    "\n",
    "If you already understand the previous concepts, you are good to go. Still, we would like to briefly talk about some minor concepts with respect to Docker:\n",
    "\n",
    "#### Port\n",
    "\n",
    "You may quickly hear about _port_. A port is a gate to communicate with your Docker (it comes from latin _porta_ which means gate). Ports usage is wider than just Docker. It is a concept used in general networking (for going on the internet for example).\n",
    "\n",
    "#### Volume\n",
    "\n",
    "_Volume_ is a shared folder used to persist data on the container machine. It allows different containers to share this common space.\n",
    "\n",
    "#### Registry\n",
    "\n",
    "Just like Github for your code, a _registry_ is a place where images are stored.\n",
    "\n",
    "\n",
    "#### Docker Hub\n",
    "\n",
    "It is the <a href=\"https://hub.docker.com/\" target=\"_blank\">Docker official web interface</a> that helps you navigate the registry."
   ]
  },
  {
   "cell_type": "markdown",
   "metadata": {
    "colab_type": "text",
    "id": "7ffDfNoT_0BU"
   },
   "source": [
    "## Ready to dive? \n",
    "\n",
    "### Setup Docker\n",
    "\n",
    "You are now equipped to begin your Docker journey. Before setting sail, you need to setup Docker in your machine.\n",
    "\n",
    "The best way to do that is to download [Docker Desktop](https://www.docker.com/products/docker-desktop) and to follow the instructions.\n",
    "\n",
    "Once it is done, do not forget to execute the program so as to use Docker (remember the daemon?).\n",
    "\n",
    "### Create your Docker Hub account\n",
    "\n",
    "If you don't already have an account on Docker Hub, create one on <a href=\"https://hub.docker.com/\" target=\"_blank\">hub.docker.com</a>. It will help you to save your images later on.\n",
    "\n",
    "You are ready to go sailor! See you on the seven seas 🐳."
   ]
  },
  {
   "cell_type": "markdown",
   "metadata": {
    "colab_type": "text",
    "id": "a6e-_SgnH28C"
   },
   "source": [
    "## Resources 📚\n",
    "\n",
    "* <a href=\"https://www.docker.com/resources/what-container\" target=\"_blank\">What is a container?</a>\n",
    "* <a href=\"https://docker-curriculum.com/\" target=\"_blank\">Docker For Beginners</a>\n",
    "* <a href=\"https://hub.docker.com/\" target=\"_blank\">Docker Hub</a>"
   ]
  }
 ],
 "metadata": {
  "colab": {
   "collapsed_sections": [],
   "name": "1. Ease your deployment workflow with Docker.ipynb",
   "provenance": []
  },
  "kernelspec": {
   "display_name": "Python 3",
   "language": "python",
   "name": "python3"
  },
  "language_info": {
   "codemirror_mode": {
    "name": "ipython",
    "version": 3
   },
   "file_extension": ".py",
   "mimetype": "text/x-python",
   "name": "python",
   "nbconvert_exporter": "python",
   "pygments_lexer": "ipython3",
   "version": "3.8.5"
  }
 },
 "nbformat": 4,
 "nbformat_minor": 4
}
