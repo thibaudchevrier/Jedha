{
 "cells": [
  {
   "cell_type": "markdown",
   "metadata": {},
   "source": [
    "# Compose your Dockers"
   ]
  },
  {
   "cell_type": "markdown",
   "metadata": {},
   "source": [
    "## What you will learn in this course\n",
    "\n",
    "We glimpsed it a bit in the previous contents: containers allow you to work inside a network. Creating a set of containers, each one running a different application, is a common practice. You could do that manually, tweaking the ports and network setups, but developers have been there before you and decided to create Docker Compose.\n",
    "\n",
    "In this lecture, we will cover:\n",
    "\n",
    "- what is Docker Compose\n",
    "- how to define your multi-containers application\n",
    "- how to deploy it to Elastic Bean Stalk"
   ]
  },
  {
   "cell_type": "markdown",
   "metadata": {},
   "source": [
    "## What is Docker Compose? 🐳🐳\n",
    "\n",
    "One best practice that is recommended by Docker is to do **1 service for 1 container**. Therefore it won't be unusual for you to create multiple containers that will be linked together to run your application. In this case, you will need to use : Docker Compose. It helps you orchestrate all your services (i.e. containers) within your application. \n",
    "\n",
    "In practice, Docker Compose takes a YAML file as input – which describes your containers and how they connect to each other, and it builds and runs those containers.\n",
    "\n",
    "You do not need to install Docker Compose if you setup Docker Desktop. Otherwise, you can check if Docker Compose is already installed in your machine using this command line in a terminal:\n",
    "\n",
    "```shell\n",
    "$ docker-compose --version\n",
    "docker-compose version 1.27.4, build 40524192\n",
    "```\n",
    "\n",
    "You should see an output similar to the one below. We don't mind about the actual version and build as long as it is not too old."
   ]
  },
  {
   "cell_type": "markdown",
   "metadata": {},
   "source": [
    "## Create a reload counter application 🖱🖱\n",
    "\n",
    "### Setting up\n",
    "\n",
    "The first multi-containers application we are going to build is a reload counter application. Each time we will reload our application game we will increase a counter.\n",
    "\n",
    "In our application we are going to use <a href=\"https://flask.palletsprojects.com/en/1.1.x/\" target=\"_blank\">Flask</a>: a web application library for Python, and <a href=\"https://redis.io/\" target=\"_blank\">Redis</a> which can be seen like a non-persistent database.\n",
    "\n",
    "If you are not already familiar with those two, do not worry. We will talk more about Flask  another day. Keep in mind it is a tool to build websites with Python. Redis is another tool used to store temprorarily datas in the so-called _cache_. Docker Compose will allow us to make them work together in a few lines of code.\n",
    "\n",
    "The following video guides you through the creation steps:"
   ]
  },
  {
   "cell_type": "code",
   "execution_count": 1,
   "metadata": {},
   "outputs": [
    {
     "data": {
      "text/html": [
       "\n",
       "        <iframe\n",
       "            width=\"600\"\n",
       "            height=\"400\"\n",
       "            src=\"https://www.youtube.com/embed/5HD5GhzZiHk\"\n",
       "            frameborder=\"0\"\n",
       "            allowfullscreen\n",
       "        ></iframe>\n",
       "        "
      ],
      "text/plain": [
       "<IPython.lib.display.YouTubeVideo at 0x10c62b820>"
      ]
     },
     "execution_count": 1,
     "metadata": {},
     "output_type": "execute_result"
    }
   ],
   "source": [
    "from IPython.display import YouTubeVideo\n",
    "YouTubeVideo(\"5HD5GhzZiHk\", height=400, width=600)"
   ]
  },
  {
   "cell_type": "markdown",
   "metadata": {},
   "source": [
    "In a nutshell, here are the steps in order to run multiple containers:\n",
    "\n",
    "1. Create a `docker-compose.yml` file \n",
    "2. Within this file, write the different setups you need to have\n",
    "3. Run the `docker-compose up` command on your terminal \n",
    "\n",
    "Aaand, that's it! It is really as easy as it looks."
   ]
  },
  {
   "cell_type": "markdown",
   "metadata": {},
   "source": [
    "### Improving our application\n",
    "\n",
    "We have our shiny application running in its own container. But if you make any changes in the `main.py` it won't be reflected because the files you are editing are not inside the container's namespace. Thus, we would like to make sure that the files we are working on are the same as the files inside the container.\n",
    "\n",
    "This is where volumes come in handy:"
   ]
  },
  {
   "cell_type": "code",
   "execution_count": 2,
   "metadata": {},
   "outputs": [
    {
     "data": {
      "image/jpeg": "[encoded data removed]",
      "text/html": [
       "\n",
       "        <iframe\n",
       "            width=\"600\"\n",
       "            height=\"400\"\n",
       "            src=\"https://www.youtube.com/embed/FIeirR2KNxw\"\n",
       "            frameborder=\"0\"\n",
       "            allowfullscreen\n",
       "        ></iframe>\n",
       "        "
      ],
      "text/plain": [
       "<IPython.lib.display.YouTubeVideo at 0x10c62be50>"
      ]
     },
     "execution_count": 2,
     "metadata": {},
     "output_type": "execute_result"
    }
   ],
   "source": [
    "from IPython.display import YouTubeVideo\n",
    "YouTubeVideo(\"FIeirR2KNxw\", height=400, width=600)"
   ]
  },
  {
   "cell_type": "markdown",
   "metadata": {},
   "source": [
    "## Some hints 💡💡\n",
    "\n",
    "To conclude this lecture, here are some useful hints for running you Docker Compose.\n",
    "\n",
    "### Running your container in the background\n",
    "\n",
    "Running in background means that your terminal won't display the output of your containers. It won't be stuck inside the containers. To do so you can add `-d`, like:\n",
    "\n",
    "```shell\n",
    "$ docker-compose up -d\n",
    "```\n",
    "\n",
    "### See all running containers\n",
    "\n",
    "Do you remember how to see the running containers list? It is the same with `docker-compose`:\n",
    "\n",
    "```shell\n",
    "$ docker-compose ps\n",
    "```\n",
    "\n",
    "### Stop everything\n",
    "\n",
    "You can stop all running containers in background with:\n",
    "\n",
    "```shell\n",
    "$ docker-compose stop\n",
    "```\n",
    "\n",
    "Otherwise, in your terminal, use the keys: `ctrl` + `c`.\n",
    "\n",
    "### What else?\n",
    "\n",
    "Anything you learned with `docker` CLI can be done with `docker-compose`. Instead of an _IMAGE ID_ you would refer to a _SERVICE ID_. You can refer to the <a href=\"https://docs.docker.com/compose/reference/overview/\" target=\"_blank\">documentation</a> in order to find what command suits your needs."
   ]
  },
  {
   "cell_type": "markdown",
   "metadata": {},
   "source": [
    "## Resources 📚📚\n",
    "\n",
    "* <a href=\"https://docs.docker.com/compose/gettingstarted/\" target=\"_blank\">Docker Compose Getting Started</a>\n",
    "* <a href=\"https://testdriven.io/blog/dockerizing-flask-with-postgres-gunicorn-and-nginx/\" target=\"_blank\">Example of a full Flask application</a>"
   ]
  }
 ],
 "metadata": {
  "kernelspec": {
   "display_name": "Python 3",
   "language": "python",
   "name": "python3"
  },
  "language_info": {
   "codemirror_mode": {
    "name": "ipython",
    "version": 3
   },
   "file_extension": ".py",
   "mimetype": "text/x-python",
   "name": "python",
   "nbconvert_exporter": "python",
   "pygments_lexer": "ipython3",
   "version": "3.7.6"
  }
 },
 "nbformat": 4,
 "nbformat_minor": 4
}
