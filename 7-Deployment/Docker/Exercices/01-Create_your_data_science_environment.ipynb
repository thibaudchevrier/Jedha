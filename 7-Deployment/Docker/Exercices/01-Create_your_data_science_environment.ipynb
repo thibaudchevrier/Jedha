{
 "cells": [
  {
   "cell_type": "markdown",
   "metadata": {},
   "source": [
    "# Create your data-science environment\n",
    "\n",
    "In this exercice, we are asking you create your own data-science environment from scratch! At the end of it, you will be able to start a Jupyter Notebook, fit a model (or do whatever data-ish related activity you need to do) while saving your files in your computer.\n",
    "\n",
    "We will provide you a guideline to achieve this, but never forget that there isn't only one way. Your container may be different from your neighbour and it is okay.\n",
    "\n",
    "And last, but not least, this exercice is intended to make you practice Docker by creating your container from a basic image. Some of you will find easier to pull already existing images – and they would be right since they are really good images available all around. But, we ask you to follow the instructions in order to maximizing your learning of Docker."
   ]
  },
  {
   "cell_type": "markdown",
   "metadata": {},
   "source": [
    "## First part\n",
    "\n",
    "In this first part, we are going to play a little bit with Docker."
   ]
  },
  {
   "cell_type": "markdown",
   "metadata": {},
   "source": [
    "1) Create a new folder with a `Dockerfile`."
   ]
  },
  {
   "cell_type": "markdown",
   "metadata": {},
   "source": [
    "2) Find a Python base image to start with on <a href=\"https://hub.docker.com/\" target=\"_blank\">Docker Hub</a>. Start filling your `Dockerfile` with the first instruction `FROM ...`.\n",
    "\n",
    "You can start with version `3.9.0` or `3.8.0`."
   ]
  },
  {
   "cell_type": "markdown",
   "metadata": {},
   "source": [
    "3) Create a `requirements.txt` next to the `Dockerfile`. This simple text file can be used by `pip` (the Python package manager) to bulk install packages.\n",
    "\n",
    "Here is an example of what you could put inside:\n",
    "\n",
    "```text\n",
    "jupyterlab\n",
    "pandas\n",
    "numpy\n",
    "sklearn\n",
    "matplotlib\n",
    "seaborn\n",
    "```\n",
    "\n",
    "Be sure to put at least `jupyterlab`!"
   ]
  },
  {
   "cell_type": "markdown",
   "metadata": {},
   "source": [
    "4) Update the `Dockerfile` so we install all the libraries you put inside `requirements.txt`. Then, build your container. Do not forget to give it a name, it is a good practice,"
   ]
  },
  {
   "cell_type": "markdown",
   "metadata": {},
   "source": [
    "5) Run it. What happens? Nothing? It is normal! For now we haven't set any `CMD` inside the `Dockerfile` nor provided instructions with command line. Find how to run `/bin/bash` inside your container!\n",
    "\n",
    "In order to avoid you some headache with the next questions, we strongly advise you to add the arguments `-p 8888:8888` which map port `8888` to `8888`. This port is actually used by Jupyter Lab to communicate with the client.\n",
    "\n",
    "<details>\n",
    "    <summary>\n",
    "        Stucked?\n",
    "    </summary>\n",
    "    You can add the flags <code>-it</code>.\n",
    "</details>"
   ]
  },
  {
   "cell_type": "markdown",
   "metadata": {},
   "source": [
    "6) You must be in your container's terminal. Create a directory called `notebooks` and `cd` into it."
   ]
  },
  {
   "cell_type": "markdown",
   "metadata": {},
   "source": [
    "7) Finally let's run Jupyter notebook!\n",
    "\n",
    "<details>\n",
    "    <summary>\n",
    "        Stucked?\n",
    "    </summary>\n",
    "    To do this, the base command is <code>jupyter notebook</code>. However if you run it directly like this, it won't work.\n",
    "    <details>\n",
    "        <summary>\n",
    "            Stucked?\n",
    "        </summary>\n",
    "        You need to specify <code>--ip=*</code> flag as well as <code>--port=8888</code>.\n",
    "        <details>\n",
    "            <summary>\n",
    "                Stucked?\n",
    "            </summary>\n",
    "            And finally add the flag <code>--allow-root</code>.\n",
    "        </details>\n",
    "    </details>\n",
    "</details>"
   ]
  },
  {
   "cell_type": "markdown",
   "metadata": {},
   "source": [
    "You should see an output like the following one:\n",
    "\n",
    "```shell\n",
    "[W 14:03:59.578 NotebookApp] WARNING: The notebook server is listening on all IP addresses and not using encryption. This is not recommended.\n",
    "[I 14:03:59.623 NotebookApp] JupyterLab extension loaded from /opt/conda/lib/python3.7/site-packages/jupyterlab\n",
    "[I 14:03:59.623 NotebookApp] JupyterLab application directory is /opt/conda/share/jupyter/lab\n",
    "[I 14:03:59.630 NotebookApp] Serving notebooks from local directory: /opt/notebooks\n",
    "[I 14:03:59.632 NotebookApp] The Jupyter Notebook is running at:\n",
    "[I 14:03:59.635 NotebookApp] http://ced8d85f8136:8888/?token=c59a323f085e6a889b398704e48948de9d752a4987afa721\n",
    "[I 14:03:59.637 NotebookApp]  or http://127.0.0.1:8888/?token=c59a323f085e6a889b398704e48948de9d752a4987afa721\n",
    "[I 14:03:59.639 NotebookApp] Use Control-C to stop this server and shut down all kernels (twice to skip confirmation).\n",
    "[W 14:03:59.651 NotebookApp] No web browser found: could not locate runnable browser.\n",
    "[C 14:03:59.652 NotebookApp] \n",
    "    \n",
    "    To access the notebook, open this file in a browser:\n",
    "        file:///root/.local/share/jupyter/runtime/nbserver-44-open.html\n",
    "    Or copy and paste one of these URLs:\n",
    "        http://ced8d85f8136:8888/?token=c59a323f085e6a889b398704e48948de9d752a4987afa721\n",
    "     or http://127.0.0.1:8888/?token=c59a323f085e6a889b398704e48948de9d752a4987afa721\n",
    "```\n",
    "\n",
    "Copy the second URL and paste it into your browser. It should open Jupyter Lab!"
   ]
  },
  {
   "cell_type": "markdown",
   "metadata": {},
   "source": [
    "## Second part\n",
    "\n",
    "Wouldn't be useful if you were able to start your Jupyter Lab running inside your Docker container in just one command line? Yes!"
   ]
  },
  {
   "cell_type": "markdown",
   "metadata": {},
   "source": [
    "1) Update your `Dockerfile` in order to add the appropriates instructions.\n",
    "\n",
    "<details>\n",
    "    <summary>\n",
    "        Stucked?\n",
    "    </summary>\n",
    "    You can use something like this:\n",
    "    \n",
    "    ```dockerfile\n",
    "    FROM python:3.9.0\n",
    "\n",
    "    COPY requirements.txt .\n",
    "\n",
    "    RUN pip install -r requirements.txt\n",
    "\n",
    "    WORKDIR /notebooks\n",
    "\n",
    "    EXPOSE 8888\n",
    "\n",
    "    CMD jupyter lab --ip=* --port=8888 --allow-root --no-browser\n",
    "    ```\n",
    "</details>"
   ]
  },
  {
   "cell_type": "markdown",
   "metadata": {},
   "source": [
    "2) Build and run you newly updated image.\n",
    "\n",
    "<details>\n",
    "    <summary>\n",
    "        Stucked?\n",
    "    </summary>\n",
    "    You still need to publish the port when running the container using <code>-p 8888:8888</code>.\n",
    "</details>"
   ]
  },
  {
   "cell_type": "markdown",
   "metadata": {},
   "source": [
    "3) You can play with it a bit. Once you are done playing, find a way to stop your container."
   ]
  },
  {
   "cell_type": "markdown",
   "metadata": {},
   "source": [
    "4) We have one thing left to do: create a volume so our notebooks are saved on our computer. To do so you can run your Docker with the parameter `-v`. Can you figure out how to fill this parameter?\n",
    "\n",
    "<details>\n",
    "    <summary>\n",
    "        Stucked?\n",
    "    </summary>\n",
    "    The volume should be precise like this: <code>-v SOURCE:TARGET</code>. Where SOURCE is the folder you want to share from your computer and TARGET is the folder where you can access SOURCE from inside the container.\n",
    "</details>"
   ]
  },
  {
   "cell_type": "markdown",
   "metadata": {},
   "source": [
    "🎇 Congratulations! You have created a full data-science environment that you could run anywhere, even on a remote server if you would like to.\n",
    "\n",
    "If you wish to continue here some suggestions for follow up:\n",
    "\n",
    "- Push your `Dockerfile` to a Github repository where you store all your environments\n",
    "- Add more libraries\n",
    "- Put your container on a remote server"
   ]
  }
 ],
 "metadata": {
  "colab": {
   "name": "1c - Exercice - Dockerize Anaconda.ipynb",
   "provenance": []
  },
  "kernelspec": {
   "display_name": "Python 3",
   "language": "python",
   "name": "python3"
  },
  "language_info": {
   "codemirror_mode": {
    "name": "ipython",
    "version": 3
   },
   "file_extension": ".py",
   "mimetype": "text/x-python",
   "name": "python",
   "nbconvert_exporter": "python",
   "pygments_lexer": "ipython3",
   "version": "3.7.6"
  }
 },
 "nbformat": 4,
 "nbformat_minor": 4
}
