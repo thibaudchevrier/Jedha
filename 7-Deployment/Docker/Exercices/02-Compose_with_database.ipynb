{
 "cells": [
  {
   "cell_type": "markdown",
   "metadata": {},
   "source": [
    "# Creating an application with database system\n",
    "\n",
    "In this exercice we will create an application relying on Postgres database. We already provide you with the application. You mission is to build a multi-container environment with a service running your app and another service running the database."
   ]
  },
  {
   "cell_type": "markdown",
   "metadata": {},
   "source": [
    "## Preliminaries\n",
    "\n",
    "Before we start, we create the app and define which libraries we are going to use.\n",
    "\n",
    "1) First you need to create your working folder. Next, we recommend you to create another folder called `app` where we are going to put the code."
   ]
  },
  {
   "cell_type": "markdown",
   "metadata": {},
   "source": [
    "Copy and paste the following code into a new file `app.py` inside folder `app`:\n",
    "\n",
    "```python\n",
    "import os\n",
    "from flask import Flask\n",
    "from flask_sqlalchemy import SQLAlchemy\n",
    "\n",
    "# Declare our Flask application.\n",
    "app = Flask(__name__)\n",
    "# We attach the database URL to our application. We are using environment\n",
    "# variables.\n",
    "app.config[\"SQLALCHEMY_DATABASE_URI\"] = \"postgresql+psycopg2://{dbuser}:{dbpass}@db/{dbname}\".format(\n",
    "    dbuser=os.environ[\"POSTGRES_USER\"],\n",
    "    dbpass=os.environ[\"POSTGRES_PASSWORD\"],\n",
    "    dbname=os.environ[\"POSTGRES_DB\"]\n",
    ")\n",
    "\n",
    "# Finally we need to initiate a DB instance so Flask can communicate with our\n",
    "# database.\n",
    "db = SQLAlchemy(app)\n",
    "\n",
    "\n",
    "# We are defining a simple table User which store an id and a username.\n",
    "class User(db.Model):\n",
    "    id = db.Column(db.Integer, primary_key=True)\n",
    "    username = db.Column(db.String, unique=True, nullable=False)\n",
    "\n",
    "    def as_dict(self):\n",
    "        return {c.name: getattr(self, c.name) for c in self.__table__.columns}\n",
    "\n",
    "\n",
    "# This function helps us to initialize the database by creating the table and\n",
    "# inserting some datas.\n",
    "def initialize_database():\n",
    "    # Drop all tables in order to have a clean database on restart.\n",
    "    db.drop_all()\n",
    "    # Create tables schemas.\n",
    "    db.create_all()\n",
    "    # Add some usernames. Feel free to add or modify.\n",
    "    db.session.add(User(username=\"Luke Skywalker\"))\n",
    "    db.session.add(User(username=\"Chewbacca\"))\n",
    "    db.session.add(User(username=\"Han Solo\"))\n",
    "    db.session.add(User(username=\"Leia Organa\"))\n",
    "    # Save it to actual database.\n",
    "    db.session.commit()\n",
    "\n",
    "\n",
    "# This is our main route.\n",
    "@app.route(\"/\")\n",
    "def get_all():\n",
    "    # We get all rows from table User.\n",
    "    users = User.query.all()\n",
    "    # We create a list of all user's username.\n",
    "    users_list = [user.username for user in users]\n",
    "    # We are returning a string as output:\n",
    "    string_answer = f\"Username in database are: {users_list}\"\n",
    "    return string_answer\n",
    "\n",
    "\n",
    "if __name__ == \"__main__\":\n",
    "    initialize_database()\n",
    "    app.run(host=\"0.0.0.0\")\n",
    "```\n",
    "\n",
    "Maybe this code is not completely unfamiliar to you. You may have recognized some SQLAlchemy! 🙌\n",
    "\n",
    "Do not bother you with the details. This code is doing some extra work like defining and creating a table. But our application is simple, it outputs every usernames we have in our database:\n",
    "\n",
    "```\n",
    "Username in database are: ['Luke Skywalker', 'Chewbacca', 'Han Solo', 'Leia Organa']\n",
    "```\n",
    "\n",
    "Once you are down, your working should look like this:\n",
    "\n",
    "```\n",
    ".\n",
    "└── app\n",
    "    └── app.py\n",
    "```"
   ]
  },
  {
   "cell_type": "markdown",
   "metadata": {},
   "source": [
    "2) Create a `requirements.txt` in your working directory with the following content:\n",
    "\n",
    "```txt\n",
    "flask\n",
    "flask-sqlalchemy\n",
    "psycopg2-binary\n",
    "```\n",
    "\n",
    "Your working directory should look like:\n",
    "\n",
    "```\n",
    ".\n",
    "├── app\n",
    "│   └── app.py\n",
    "└── requirements.txt\n",
    "```"
   ]
  },
  {
   "cell_type": "markdown",
   "metadata": {},
   "source": [
    "## Let's compose!\n",
    "\n",
    "You could try to run this Flask application as is, using a virtual-environment. But you would quickly stumble upon several problems. First you need to define a bunch of environment variables: `POSTGRES_USER`, `POSTGRES_SERVER` and `POSTGRES_DB`. And most of all, you need to install Postgres on your machine and create the new database by yourself.\n",
    "\n",
    "Using Docker Compose we get rid of these pains. Let's go step by step.\n",
    "\n",
    "3) Create a `Dockerfile` inside your working folder.\n",
    "\n",
    "Here are some hints to fill this `Dockerfile`:\n",
    "\n",
    "- choose an appropriate Python image\n",
    "- you can set the `WORKDIR` to `/app`\n",
    "- the final `CMD` should be `sleep 10s; python app.py` (we add `sleep 10s` because the database take a bit of time to boot up and thus we wait for it)\n",
    "\n",
    "If you are good, you should be able to build your image but not to run it."
   ]
  },
  {
   "cell_type": "markdown",
   "metadata": {},
   "source": [
    "4) Create a `docker-compose.yml` inside your working folder.\n",
    "\n",
    "Your folder should look like:\n",
    "\n",
    "```\n",
    ".\n",
    "├── Dockerfile\n",
    "├── app\n",
    "│   └── app.py\n",
    "├── docker-compose.yml\n",
    "└── requirements.txt\n",
    "```"
   ]
  },
  {
   "cell_type": "markdown",
   "metadata": {},
   "source": [
    "Let's fill this YAML together. The first lines should be:\n",
    "\n",
    "```yaml\n",
    "version: \"3\"\n",
    "services:\n",
    "    ...\n",
    "```\n",
    "\n",
    "a) Add a first service called `db`. Here some hints to succeed:\n",
    "\n",
    "- look at an appropriate image with postgres and indicate it with `image`"
   ]
  },
  {
   "cell_type": "markdown",
   "metadata": {},
   "source": [
    "b) Add a second service called `app`, where:\n",
    "\n",
    "- we build the image from our `Dockerfile`\n",
    "- you can precise to Docker that your application depends on another service with `depends_on`\n",
    "- map the ports! (Flask use port `5000`)"
   ]
  },
  {
   "cell_type": "markdown",
   "metadata": {},
   "source": [
    "c) Last but not least, we talked about environment variables earlier. We recommand you to do as follow: create a `.env` file in your working folder and add:\n",
    "\n",
    "```\n",
    "POSTGRES_USER=flask\n",
    "POSTGRES_PASSWORD=password\n",
    "POSTGRES_DB=flask\n",
    "```\n",
    "\n",
    "Finally add those two lines in both `app` and `db` services:\n",
    "\n",
    "```yaml\n",
    "  ...\n",
    "    env_file:\n",
    "      - .env\n",
    "    ...\n",
    "```\n",
    "\n",
    "Your folder should contain:\n",
    "\n",
    "```\n",
    ".\n",
    "├── .env\n",
    "├── Dockerfile\n",
    "├── app\n",
    "│   └── app.py\n",
    "├── docker-compose.yml\n",
    "└── requirements.txt\n",
    "```"
   ]
  },
  {
   "cell_type": "markdown",
   "metadata": {},
   "source": [
    "5) Let's build and run!\n",
    "\n",
    "You can use `docker-compose up --build` to rebuild before running containers.\n",
    "\n",
    "If everything goes fine, you should see `Username in database are: ['Luke Skywalker', 'Chewbacca', 'Han Solo', 'Leia Organa']` on `http://localhost:5000`.\n",
    "\n",
    "Well done! 🤘"
   ]
  },
  {
   "cell_type": "markdown",
   "metadata": {},
   "source": [
    "6) BONUS – This part is optional.\n",
    "\n",
    "To go further you can:\n",
    "\n",
    "- create a volume in order to change the app.py as you go\n",
    "- push your environment to AWS\n",
    "- play with the application code"
   ]
  }
 ],
 "metadata": {
  "colab": {
   "collapsed_sections": [],
   "name": "1b - Docker PGADMIN.ipynb",
   "provenance": []
  },
  "kernelspec": {
   "display_name": "Python 3",
   "language": "python",
   "name": "python3"
  },
  "language_info": {
   "codemirror_mode": {
    "name": "ipython",
    "version": 3
   },
   "file_extension": ".py",
   "mimetype": "text/x-python",
   "name": "python",
   "nbconvert_exporter": "python",
   "pygments_lexer": "ipython3",
   "version": "3.7.6"
  }
 },
 "nbformat": 4,
 "nbformat_minor": 4
}
