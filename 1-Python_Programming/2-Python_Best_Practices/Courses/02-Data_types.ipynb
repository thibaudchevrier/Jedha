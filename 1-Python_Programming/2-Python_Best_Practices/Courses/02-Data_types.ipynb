{
 "cells": [
  {
   "cell_type": "markdown",
   "metadata": {
    "colab_type": "text",
    "id": "3e_6fglkUdcm"
   },
   "source": [
    "# Data Types"
   ]
  },
  {
   "cell_type": "markdown",
   "metadata": {
    "colab_type": "text",
    "id": "ZHIUhpKSUdcn"
   },
   "source": [
    "## Handle data collections\n",
    "\n",
    "Data collections are objects that allow you to store several types of data at the same time. For example, you can have decimal numbers, strings, and integers in the same data collection. This is very useful to know how to manipulate because you will often deal with data collections as a Data Scientist (and even Web Developer)."
   ]
  },
  {
   "cell_type": "markdown",
   "metadata": {
    "colab_type": "text",
    "id": "6K8hc5slUdco"
   },
   "source": [
    "### Lists\n",
    "\n",
    "\n",
    "#### Definition\n",
    "\n",
    "A list is a mutable data collection, i.e. the collection in the list can be modified. Here is an example:"
   ]
  },
  {
   "cell_type": "code",
   "execution_count": null,
   "metadata": {
    "colab": {},
    "colab_type": "code",
    "id": "6eX3-2QhUdcp"
   },
   "outputs": [],
   "source": [
    "list_1 = [1, 2, 3, 4, 5]"
   ]
  },
  {
   "cell_type": "markdown",
   "metadata": {
    "colab_type": "text",
    "id": "6aMCTUz5Udcu"
   },
   "source": [
    "In this list, we have 5 different items that have the value: 1, 2, 3, 4 and 5 respectively. We can access each item in the list via its index (which corresponds to its position in the list) :"
   ]
  },
  {
   "cell_type": "code",
   "execution_count": null,
   "metadata": {
    "colab": {},
    "colab_type": "code",
    "id": "IozMVTe_Udcu",
    "outputId": "bcac721b-2384-4b6a-977e-905cda602cff",
    "scrolled": true
   },
   "outputs": [
    {
     "name": "stdout",
     "output_type": "stream",
     "text": [
      "4\n"
     ]
    }
   ],
   "source": [
    "print(list_1[3])"
   ]
  },
  {
   "cell_type": "markdown",
   "metadata": {
    "colab_type": "text",
    "id": "mbpEbKoWUdcz"
   },
   "source": [
    "Warning: in python, the numbering of indices always starts at 0!"
   ]
  },
  {
   "cell_type": "markdown",
   "metadata": {
    "colab_type": "text",
    "id": "r27JgtMWUdcz"
   },
   "source": [
    "#### Change items in a list\n",
    "\n",
    "As we said in our introduction, a list is mutable. That is, you can change the items that are already present in the list by specifying the index of the item you want to change. For example, you can specify the index of the item you want to change:"
   ]
  },
  {
   "cell_type": "code",
   "execution_count": null,
   "metadata": {
    "colab": {},
    "colab_type": "code",
    "id": "jji3n3-9Udc0",
    "outputId": "c6001f83-204c-4885-90db-b4c1529a9518"
   },
   "outputs": [
    {
     "name": "stdout",
     "output_type": "stream",
     "text": [
      "[1, 2, 3, 17, 5]\n"
     ]
    }
   ],
   "source": [
    "list_1[3] = 17\n",
    "print(list_1)"
   ]
  },
  {
   "cell_type": "markdown",
   "metadata": {
    "colab_type": "text",
    "id": "5cfIgBLzUdc3"
   },
   "source": [
    "Lists can therefore be useful if you need access to items in the data collection in order to modify them."
   ]
  },
  {
   "cell_type": "markdown",
   "metadata": {
    "colab_type": "text",
    "id": "m_jn1yV1Udc3"
   },
   "source": [
    "#### Add items to a list\n",
    "\n",
    "Items can be added to a list in different ways:\n",
    "\n",
    "\n",
    "*   The operator `+`\n",
    "*   `.append()`\n",
    "*   `.extend()`"
   ]
  },
  {
   "cell_type": "code",
   "execution_count": 1,
   "metadata": {
    "colab": {},
    "colab_type": "code",
    "id": "w_AREg38Udc4",
    "outputId": "18dc5d06-36b3-4b56-a7ed-513fac949f40"
   },
   "outputs": [
    {
     "name": "stdout",
     "output_type": "stream",
     "text": [
      "[1, 2, 3, 4, 5, 'hello']\n"
     ]
    }
   ],
   "source": [
    "list_1 = [1, 2, 3, 4, 5]\n",
    "add_1 = [\"hello\"]\n",
    "list_1 = list_1 + add_1\n",
    "print(list_1)"
   ]
  },
  {
   "cell_type": "code",
   "execution_count": 2,
   "metadata": {
    "colab": {},
    "colab_type": "code",
    "id": "uE1ah6mcUdc7",
    "outputId": "ccb7f83f-3838-4f47-e30f-72b1d0e6ca23"
   },
   "outputs": [
    {
     "name": "stdout",
     "output_type": "stream",
     "text": [
      "[1, 2, 3, 4, 5, 'test']\n"
     ]
    }
   ],
   "source": [
    "# Add of a single element with append\n",
    "list_2 = [1, 2, 3, 4, 5]\n",
    "add_2 = 'test' # with append, we don't need brackets anymore \"[]\"\n",
    "\n",
    "list_2.append(add_2)\n",
    "print(list_2)"
   ]
  },
  {
   "cell_type": "markdown",
   "metadata": {
    "colab_type": "text",
    "id": "_ODYwenRUdc-"
   },
   "source": [
    "The `.append()` function is limited to one item addition. If you want to add several items to a list with this function, the program will consider these several items as a single list, this list becoming a single item added to your first list. See instead an example:"
   ]
  },
  {
   "cell_type": "code",
   "execution_count": null,
   "metadata": {
    "colab": {},
    "colab_type": "code",
    "id": "lUJ5OQloUdc_",
    "outputId": "15204691-f495-4077-be46-6dab351bad7e"
   },
   "outputs": [
    {
     "name": "stdout",
     "output_type": "stream",
     "text": [
      "[1, 2, 3, 4, 5, ['test1', 'test2', 'test3']]\n"
     ]
    }
   ],
   "source": [
    "list_3 = [1, 2, 3, 4, 5]\n",
    "add_3 = ['test1', 'test2', 'test3']\n",
    "list_3.append(add_3)\n",
    "print(list_3)"
   ]
  },
  {
   "cell_type": "markdown",
   "metadata": {
    "colab_type": "text",
    "id": "DbxuqBqvUddD"
   },
   "source": [
    "The `.extend()` function solves this problem by adding each item one by one to the first list. So here it is:"
   ]
  },
  {
   "cell_type": "code",
   "execution_count": null,
   "metadata": {
    "colab": {},
    "colab_type": "code",
    "id": "cM5SWdc9UddD",
    "outputId": "6a258bcf-16a0-40ce-8c7f-b0ee4c872285"
   },
   "outputs": [
    {
     "name": "stdout",
     "output_type": "stream",
     "text": [
      "[1, 2, 3, 4, 5, 'test1', 'test2', 'test3']\n"
     ]
    }
   ],
   "source": [
    "# Add a list to the end of an other (concatenate)\n",
    "list_4 = [1, 2, 3, 4, 5]\n",
    "add_4 = ['test1', 'test2', 'test3']\n",
    "list_4.extend(add_4)\n",
    "print(list_4)"
   ]
  },
  {
   "cell_type": "markdown",
   "metadata": {
    "colab_type": "text",
    "id": "9it3bhyYUddH"
   },
   "source": [
    "#### Remove items from a list\n",
    "\n",
    "The last thing you need to see is how to remove items from a list. There are three ways to do this:\n",
    "*   `del()`\n",
    "*   `.remove()`\n",
    "*   `pop()`\n",
    "\n",
    "In the same way, let's try to understand by example:"
   ]
  },
  {
   "cell_type": "code",
   "execution_count": null,
   "metadata": {
    "colab": {},
    "colab_type": "code",
    "id": "OFwwnr7rUddI",
    "outputId": "0248073f-204f-488d-a988-ec8902dafd32"
   },
   "outputs": [
    {
     "name": "stdout",
     "output_type": "stream",
     "text": [
      "[1, 4]\n"
     ]
    }
   ],
   "source": [
    "list_1 = [1, 2, 4]\n",
    "del(list_1[1])\n",
    "print(list_1)"
   ]
  },
  {
   "cell_type": "code",
   "execution_count": null,
   "metadata": {
    "colab": {},
    "colab_type": "code",
    "id": "PDkiJNguUddL",
    "outputId": "97cd8017-f19a-4a37-c36b-085407d793c4"
   },
   "outputs": [
    {
     "name": "stdout",
     "output_type": "stream",
     "text": [
      "[2, 4]\n"
     ]
    }
   ],
   "source": [
    "list_1 = [1, 2, 4]\n",
    "list_1.remove(1)\n",
    "print(list_1)"
   ]
  },
  {
   "cell_type": "markdown",
   "metadata": {
    "colab_type": "text",
    "id": "YKObTiL6UddO"
   },
   "source": [
    "The main difference between `del()` and `remove()` is that the first function allows you to delete an element via its index, while the second function allows you to delete an element via the value of the element (in this case _1_). Depending on your issues, you may need one more than the other.\n",
    "\n",
    "Warning: the `remove()` function removes only one element at a time. If you have duplicates that you want to remove, use an `while` loop as in the following example:"
   ]
  },
  {
   "cell_type": "code",
   "execution_count": null,
   "metadata": {
    "colab": {},
    "colab_type": "code",
    "id": "SrRrtO2wUddP",
    "outputId": "1ab87766-9179-4eac-9fd6-dfc7b2fbe765"
   },
   "outputs": [
    {
     "name": "stdout",
     "output_type": "stream",
     "text": [
      "[1, 2, 4]\n"
     ]
    }
   ],
   "source": [
    "list_2 = [1, 2, 'to_remove', 4, 'to_remove', 'to_remove']\n",
    "\n",
    "while 'to_remove' in list_2:\n",
    "    list_2.remove('to_remove')\n",
    "print(list_2)"
   ]
  },
  {
   "cell_type": "markdown",
   "metadata": {
    "colab_type": "text",
    "id": "d7OokAS_UddS"
   },
   "source": [
    "The problem with these functions is that the item is deleted and cannot be retrieved. Indeed, it often happens to want to separate an item from a list to reuse it somewhere, or even to want to move this item in the list. In this case, we will use the `pop()` function:"
   ]
  },
  {
   "cell_type": "code",
   "execution_count": null,
   "metadata": {
    "colab": {},
    "colab_type": "code",
    "id": "4TMQoxJpUddT",
    "outputId": "7ea498a7-d0e2-4e95-ff05-6c0f44d6e401"
   },
   "outputs": [
    {
     "name": "stdout",
     "output_type": "stream",
     "text": [
      "4\n",
      "[1, 2]\n"
     ]
    }
   ],
   "source": [
    "list_1 = [1, 2, 4]\n",
    "elem = list_1.pop(2)\n",
    "print(elem)\n",
    "print(list_1)"
   ]
  },
  {
   "cell_type": "markdown",
   "metadata": {
    "colab_type": "text",
    "id": "Ilsnl8QkUddW"
   },
   "source": [
    "### Slices\n",
    "\n",
    "\n",
    "#### Fundamental Principal\n",
    "\n",
    "Very often you may not need a complete list but just a part of it. This is when slices become very useful. Here is an example:"
   ]
  },
  {
   "cell_type": "code",
   "execution_count": 3,
   "metadata": {
    "colab": {
     "base_uri": "https://localhost:8080/",
     "height": 34
    },
    "colab_type": "code",
    "id": "DVsOo8iNUddW",
    "outputId": "934ab30c-b90e-4b12-dec5-d620b8a3c352"
   },
   "outputs": [
    {
     "name": "stdout",
     "output_type": "stream",
     "text": [
      "[8, 9, 10]\n"
     ]
    },
    {
     "data": {
      "text/plain": [
       "\u001b[0;31mSignature:\u001b[0m \u001b[0mlist_1\u001b[0m\u001b[0;34m.\u001b[0m\u001b[0mappend\u001b[0m\u001b[0;34m(\u001b[0m\u001b[0mobject\u001b[0m\u001b[0;34m,\u001b[0m \u001b[0;34m/\u001b[0m\u001b[0;34m)\u001b[0m\u001b[0;34m\u001b[0m\u001b[0;34m\u001b[0m\u001b[0m\n",
       "\u001b[0;31mDocstring:\u001b[0m Append object to the end of the list.\n",
       "\u001b[0;31mType:\u001b[0m      builtin_function_or_method\n"
      ]
     },
     "metadata": {},
     "output_type": "display_data"
    }
   ],
   "source": [
    "list_1 = [1, 2, 3, 4, 5, 6, 7, 8, 9, 10]\n",
    "three_last_items = list_1[7:10]\n",
    "print(three_last_items)\n",
    "\n",
    "?list_1.append"
   ]
  },
  {
   "cell_type": "markdown",
   "metadata": {
    "colab_type": "text",
    "id": "y3G9JK9aUddZ"
   },
   "source": [
    "The structure is therefore as follows:\n",
    "\n",
    "```\n",
    "slice[start_index : end_index]\n",
    "```\n",
    "\n",
    "As well as the `range()` function, `start_index` will be inclued and `end_index` will be excluded from the list.\n",
    "\n",
    "If you don't put anything at the beginning index, the program will choose by default the index 0. Conversely, if you don't put anything at the end index, the program will understand that it must go to the last index in the list:"
   ]
  },
  {
   "cell_type": "code",
   "execution_count": 3,
   "metadata": {
    "colab": {
     "base_uri": "https://localhost:8080/",
     "height": 51
    },
    "colab_type": "code",
    "id": "oabX83nEUdda",
    "outputId": "02b8e860-365e-42f3-8744-2ccd0cf315e3"
   },
   "outputs": [
    {
     "name": "stdout",
     "output_type": "stream",
     "text": [
      "[8, 9, 10]\n",
      "[1, 2, 3]\n"
     ]
    }
   ],
   "source": [
    "three_last_items = list_1[7:]\n",
    "print(three_last_items)\n",
    "\n",
    "three_first_items = list_1[:3]\n",
    "print(three_first_items)"
   ]
  },
  {
   "cell_type": "markdown",
   "metadata": {
    "colab_type": "text",
    "id": "tftC5AOEUddd"
   },
   "source": [
    "#### Slices with negative index\n",
    "\n",
    "Negative indices are useful when you want to count from the end of the list :"
   ]
  },
  {
   "cell_type": "code",
   "execution_count": 4,
   "metadata": {
    "colab": {
     "base_uri": "https://localhost:8080/",
     "height": 51
    },
    "colab_type": "code",
    "id": "hGH7MYQ4Udde",
    "outputId": "822b7e78-3613-4b4e-c01e-5f3b5f470e90"
   },
   "outputs": [
    {
     "name": "stdout",
     "output_type": "stream",
     "text": [
      "[8, 9, 10]\n",
      "[1, 2, 3, 4, 5, 6, 7]\n"
     ]
    }
   ],
   "source": [
    "three_last_items = list_1[-3:]\n",
    "print(three_last_items)\n",
    "\n",
    "three_last_items_excluded = list_1[:-3]\n",
    "print(three_last_items_excluded)"
   ]
  },
  {
   "cell_type": "markdown",
   "metadata": {
    "colab_type": "text",
    "id": "f4xKaBKmUddh"
   },
   "source": [
    "## Dictionaries\n",
    "\n",
    "Dictionaries have a great deal of specificity, which is very useful. They have keys associated with one or more values. You can think of them as \"drawers\" that contain data and on which labels are stuck. Dictionaries are a very common format, which you will encounter when using APIs for example. In a dictionary, it is therefore important to know how to manipulate the keys and the values associated with that key."
   ]
  },
  {
   "cell_type": "code",
   "execution_count": null,
   "metadata": {
    "colab": {},
    "colab_type": "code",
    "id": "xCq5yTvvUddi"
   },
   "outputs": [],
   "source": [
    "# Declare a dictionary with a key 'first_name' and a value 'Antoine'\n",
    "dic1 = {\n",
    "    'first_name': 'Antoine'\n",
    "       }"
   ]
  },
  {
   "cell_type": "markdown",
   "metadata": {
    "colab_type": "text",
    "id": "7avptuQ2Uddl"
   },
   "source": [
    "The dictionary key is the equivalent of the index in the list. It can be used to access the different values:"
   ]
  },
  {
   "cell_type": "code",
   "execution_count": 6,
   "metadata": {
    "colab": {
     "base_uri": "https://localhost:8080/",
     "height": 34
    },
    "colab_type": "code",
    "id": "E49FA1E1Uddm",
    "outputId": "ae50fad7-13c2-4520-ae2a-076dd636c9b6"
   },
   "outputs": [
    {
     "data": {
      "text/plain": [
       "'Antoine'"
      ]
     },
     "execution_count": 6,
     "metadata": {
      "tags": []
     },
     "output_type": "execute_result"
    }
   ],
   "source": [
    "dic1['first_name']"
   ]
  },
  {
   "cell_type": "markdown",
   "metadata": {
    "colab_type": "text",
    "id": "AbfHwS_xUddq"
   },
   "source": [
    "#### Modify / Add a key\n",
    "\n",
    "The way you will modify or add a key works the same way:"
   ]
  },
  {
   "cell_type": "code",
   "execution_count": 7,
   "metadata": {
    "colab": {
     "base_uri": "https://localhost:8080/",
     "height": 34
    },
    "colab_type": "code",
    "id": "zeeU8gNzUddq",
    "outputId": "41bcd96e-cbc7-4c72-e9d1-a928d13febc4"
   },
   "outputs": [
    {
     "name": "stdout",
     "output_type": "stream",
     "text": [
      "{'first_name': 'Charles', 'name': 'Dupont', 'age': 36}\n"
     ]
    }
   ],
   "source": [
    "# We modify the already existing element to the key \"first_name\".\n",
    "dic1['first_name'] = 'Charles'\n",
    "\n",
    "# New elements are added, with the keys 'name' and 'age'.\n",
    "dic1['name'] = 'Dupont'\n",
    "dic1['age'] = 36\n",
    "print(dic1)"
   ]
  },
  {
   "cell_type": "markdown",
   "metadata": {
    "colab_type": "text",
    "id": "Ja9ds3q8Uddt"
   },
   "source": [
    "#### Delete a key\n",
    "\n",
    "A key can be removed using the `del()` function. In the same way as we have seen with the lists:"
   ]
  },
  {
   "cell_type": "code",
   "execution_count": 8,
   "metadata": {
    "colab": {
     "base_uri": "https://localhost:8080/",
     "height": 34
    },
    "colab_type": "code",
    "id": "fOuf5grDUddt",
    "outputId": "6edf7dbd-e517-459c-bda3-53741aea1bd8"
   },
   "outputs": [
    {
     "name": "stdout",
     "output_type": "stream",
     "text": [
      "{'first_name': 'Charles', 'name': 'Dupont'}\n"
     ]
    }
   ],
   "source": [
    "del(dic1['age'])\n",
    "print(dic1)"
   ]
  },
  {
   "cell_type": "markdown",
   "metadata": {
    "colab_type": "text",
    "id": "13Y_mq-mUddv"
   },
   "source": [
    "## Iterate on dictionaries"
   ]
  },
  {
   "cell_type": "markdown",
   "metadata": {
    "colab_type": "text",
    "id": "klIY8ZjyUddw"
   },
   "source": [
    "In a dictionary, you can iterate on keys, values associated with keys, or both. Here are some good methods to know.\n",
    "\n",
    "\n",
    "##### Iterate on the keys of a dictionary"
   ]
  },
  {
   "cell_type": "code",
   "execution_count": 9,
   "metadata": {
    "colab": {
     "base_uri": "https://localhost:8080/",
     "height": 51
    },
    "colab_type": "code",
    "id": "lRJq-nUwUddw",
    "outputId": "8418c1fc-88df-4461-b0e8-b8daf393d831"
   },
   "outputs": [
    {
     "name": "stdout",
     "output_type": "stream",
     "text": [
      "first_name\n",
      "name\n"
     ]
    }
   ],
   "source": [
    "# iterate on keys\n",
    "for key in dic1.keys():\n",
    "    print(key)\n",
    "    \n",
    "# iterate on keys\n",
    "for key in dic1:\n",
    "    print(key)"
   ]
  },
  {
   "cell_type": "markdown",
   "metadata": {
    "colab_type": "text",
    "id": "i0FNXJtMUddy"
   },
   "source": [
    "##### Iterate on dictionary values\n",
    "\n",
    "To iterate on values in a dictionary, the easiest way is to use the `.values()` function:"
   ]
  },
  {
   "cell_type": "code",
   "execution_count": 10,
   "metadata": {
    "colab": {
     "base_uri": "https://localhost:8080/",
     "height": 51
    },
    "colab_type": "code",
    "id": "KFdrxsHeUddz",
    "outputId": "986ae60e-dd89-4d96-c74f-4b13ba7e14c1"
   },
   "outputs": [
    {
     "name": "stdout",
     "output_type": "stream",
     "text": [
      "Charles\n",
      "Dupont\n"
     ]
    }
   ],
   "source": [
    "# iterate on values\n",
    "for val in dic1.values():\n",
    "    print(val)"
   ]
  },
  {
   "cell_type": "markdown",
   "metadata": {
    "colab_type": "text",
    "id": "toIo6F8lUdd1"
   },
   "source": [
    "##### Iterate on keys and values\n",
    "\n",
    "You can also iterate on the key and the value associated with the key at the same time with the `.items()` function. This function will return the key and the value at the same time in the iteration:"
   ]
  },
  {
   "cell_type": "code",
   "execution_count": null,
   "metadata": {
    "colab": {},
    "colab_type": "code",
    "id": "wmWb5ce0Udd2",
    "outputId": "9f4032b9-2824-40f5-aa9e-256095adf87a"
   },
   "outputs": [
    {
     "name": "stdout",
     "output_type": "stream",
     "text": [
      "('prenom', 'Charles')\n",
      "('nom', 'Dupont')\n"
     ]
    }
   ],
   "source": [
    "# iterate on keys and values\n",
    "for item in dic1.items():\n",
    "    print(item)"
   ]
  },
  {
   "cell_type": "markdown",
   "metadata": {
    "colab_type": "text",
    "id": "pYuenIpRUdd6"
   },
   "source": [
    "## Tuples\n",
    "\n",
    "Tuples are, unlike lists, immutable. It often happens that you come across them when you want to manipulate data that should not be changed during the execution of your code. Here's how it's built:"
   ]
  },
  {
   "cell_type": "code",
   "execution_count": 12,
   "metadata": {
    "colab": {
     "base_uri": "https://localhost:8080/",
     "height": 34
    },
    "colab_type": "code",
    "id": "0555R0UCUdd6",
    "outputId": "d1e782c1-82b6-4718-ab33-768918c65f12"
   },
   "outputs": [
    {
     "name": "stdout",
     "output_type": "stream",
     "text": [
      "(1, 2, 3)\n"
     ]
    }
   ],
   "source": [
    "tuple_1 = (1, 2, 3)\n",
    "print(tuple_1)"
   ]
  },
  {
   "cell_type": "markdown",
   "metadata": {
    "colab_type": "text",
    "id": "Pxzzf0rEUdd9"
   },
   "source": [
    "The value of an item in a tuple can be accessed in the same way as the value of an item in a list:"
   ]
  },
  {
   "cell_type": "code",
   "execution_count": 13,
   "metadata": {
    "colab": {
     "base_uri": "https://localhost:8080/",
     "height": 34
    },
    "colab_type": "code",
    "id": "Di2sKDGmUdd9",
    "outputId": "5baf1c9f-f712-4bfc-8733-d3a5891d8992"
   },
   "outputs": [
    {
     "name": "stdout",
     "output_type": "stream",
     "text": [
      "3\n"
     ]
    }
   ],
   "source": [
    "print(tuple_1[2])"
   ]
  },
  {
   "cell_type": "markdown",
   "metadata": {
    "colab_type": "text",
    "id": "5hfcXH5tUdd_"
   },
   "source": [
    "On the other hand, if you try to change the value for a tuple, you get an error:\n"
   ]
  },
  {
   "cell_type": "code",
   "execution_count": 14,
   "metadata": {
    "colab": {
     "base_uri": "https://localhost:8080/",
     "height": 181
    },
    "colab_type": "code",
    "id": "lTPOJK1VUdeA",
    "outputId": "629db205-2cf3-4c68-fbeb-279d7b3c3e40"
   },
   "outputs": [
    {
     "ename": "TypeError",
     "evalue": "ignored",
     "output_type": "error",
     "traceback": [
      "\u001b[0;31m---------------------------------------------------------------------------\u001b[0m",
      "\u001b[0;31mTypeError\u001b[0m                                 Traceback (most recent call last)",
      "\u001b[0;32m<ipython-input-14-e4c03602388f>\u001b[0m in \u001b[0;36m<module>\u001b[0;34m()\u001b[0m\n\u001b[1;32m      1\u001b[0m \u001b[0;31m# A tuple cannot be modified: the code below produces an error\u001b[0m\u001b[0;34m\u001b[0m\u001b[0;34m\u001b[0m\u001b[0;34m\u001b[0m\u001b[0m\n\u001b[0;32m----> 2\u001b[0;31m \u001b[0mtuple_1\u001b[0m\u001b[0;34m[\u001b[0m\u001b[0;36m1\u001b[0m\u001b[0;34m]\u001b[0m \u001b[0;34m=\u001b[0m \u001b[0;36m0\u001b[0m\u001b[0;34m\u001b[0m\u001b[0;34m\u001b[0m\u001b[0m\n\u001b[0m",
      "\u001b[0;31mTypeError\u001b[0m: 'tuple' object does not support item assignment"
     ]
    }
   ],
   "source": [
    "# A tuple cannot be modified: the code below produces an error\n",
    "tuple_1[1] = 0"
   ]
  },
  {
   "cell_type": "markdown",
   "metadata": {
    "colab_type": "text",
    "id": "3ZjRPRr2UdeC"
   },
   "source": [
    "#### Exchanging values with tuples\n",
    "\n",
    "The first interesting thing we can do is exchange values for tuples:"
   ]
  },
  {
   "cell_type": "code",
   "execution_count": 1,
   "metadata": {
    "colab": {},
    "colab_type": "code",
    "id": "1sTpiMsAUdeD"
   },
   "outputs": [],
   "source": [
    "# Exchanging values using tuples\n",
    "a = 100\n",
    "b = 1000\n",
    "\n",
    "(a, b) = (b, a)"
   ]
  },
  {
   "cell_type": "code",
   "execution_count": 16,
   "metadata": {
    "colab": {
     "base_uri": "https://localhost:8080/",
     "height": 34
    },
    "colab_type": "code",
    "id": "Q4FvZ3OoUdeG",
    "outputId": "a1a78519-1b6d-4e33-d307-4cd79e5de838"
   },
   "outputs": [
    {
     "name": "stdout",
     "output_type": "stream",
     "text": [
      "100\n"
     ]
    }
   ],
   "source": [
    "print(b)"
   ]
  },
  {
   "cell_type": "code",
   "execution_count": 17,
   "metadata": {
    "colab": {
     "base_uri": "https://localhost:8080/",
     "height": 34
    },
    "colab_type": "code",
    "id": "W3MODT3aUdeK",
    "outputId": "6f87c24d-d45a-45d4-d2c4-d81b5571a3cc"
   },
   "outputs": [
    {
     "name": "stdout",
     "output_type": "stream",
     "text": [
      "1000\n"
     ]
    }
   ],
   "source": [
    "print(a)"
   ]
  },
  {
   "cell_type": "markdown",
   "metadata": {
    "colab_type": "text",
    "id": "03kjGZRaUdeM"
   },
   "source": [
    "#### Iterate on tuples\n",
    "\n",
    "Let's imagine that we have a list in which each element is a tuple, as in the example below:"
   ]
  },
  {
   "cell_type": "code",
   "execution_count": null,
   "metadata": {
    "colab": {},
    "colab_type": "code",
    "id": "VZS6tx9ZUdeN"
   },
   "outputs": [],
   "source": [
    "liste_tuples = [(\"antoine\", 24), (\"léa\", 22), (\"margaux\",20)]"
   ]
  },
  {
   "cell_type": "markdown",
   "metadata": {
    "colab_type": "text",
    "id": "cVpiD-UXUdeP"
   },
   "source": [
    "It is possible to iterate on each tuple and retrieve first names and ages separately in the following way:"
   ]
  },
  {
   "cell_type": "code",
   "execution_count": 20,
   "metadata": {
    "colab": {
     "base_uri": "https://localhost:8080/",
     "height": 170
    },
    "colab_type": "code",
    "id": "GDRC568xUdeP",
    "outputId": "2a443703-7fde-41fe-fa87-8d33916d764b"
   },
   "outputs": [
    {
     "name": "stdout",
     "output_type": "stream",
     "text": [
      "first_name :  antoine\n",
      "age :  24\n",
      "----------------\n",
      "first_name :  léa\n",
      "age :  22\n",
      "----------------\n",
      "first_name :  margaux\n",
      "age :  20\n",
      "----------------\n"
     ]
    }
   ],
   "source": [
    "for i in liste_tuples : # iterating on each tuple\n",
    "    print('first_name : ' , i[0]) # first tuple's element\n",
    "    print('age : ' , i[1]) # second tuples's element\n",
    "    print('----------------')"
   ]
  },
  {
   "cell_type": "markdown",
   "metadata": {
    "colab_type": "text",
    "id": "W9KLxXpMUdeS"
   },
   "source": [
    "There is a more practical way of doing this, by giving names to each element of the tuple:"
   ]
  },
  {
   "cell_type": "code",
   "execution_count": 21,
   "metadata": {
    "colab": {
     "base_uri": "https://localhost:8080/",
     "height": 170
    },
    "colab_type": "code",
    "id": "o3nwH6CTUdeS",
    "outputId": "72c7c48b-35e4-4b53-f8c3-3b7de84d1a4d"
   },
   "outputs": [
    {
     "name": "stdout",
     "output_type": "stream",
     "text": [
      "first_name :  antoine\n",
      "age :  24\n",
      "----------------\n",
      "first_name :  léa\n",
      "age :  22\n",
      "----------------\n",
      "first_name :  margaux\n",
      "age :  20\n",
      "----------------\n"
     ]
    }
   ],
   "source": [
    "# Here, we give explicit names (first_name, age) to the elements on which we iterate:\n",
    "for first_name, age in liste_tuples :\n",
    "    print('first_name : ' , first_name)\n",
    "    print('age : ' , age)\n",
    "    print('----------------')"
   ]
  },
  {
   "cell_type": "code",
   "execution_count": 1,
   "metadata": {
    "colab": {},
    "colab_type": "code",
    "id": "pvJeyJKApI--"
   },
   "outputs": [
    {
     "name": "stdout",
     "output_type": "stream",
     "text": [
      "numbers: 1.34 and 2.34\n",
      "numbers: 2.34 and 1.34\n"
     ]
    }
   ],
   "source": [
    "# print variables in str\n",
    "\n",
    "str1 = \"numbers: {:.2f} and {:.2f}\".format(1.34, 2.34)\n",
    "str2 = \"numbers: {1:.2f} and {0:.2f}\".format(1.34, 2.34)\n",
    "\n",
    "print(str1)\n",
    "print(str2)"
   ]
  },
  {
   "cell_type": "code",
   "execution_count": 2,
   "metadata": {},
   "outputs": [
    {
     "name": "stdout",
     "output_type": "stream",
     "text": [
      "{'un': 1, 'deux': 2, 'trois': 3, 'quatre': 4}\n"
     ]
    }
   ],
   "source": [
    "dict1 = {\"un\": 1, \"deux\": 2}\n",
    "dict2 = {\"trois\": 3, \"quatre\": 4}\n",
    "merge_dict = {**dict1, **dict2}\n",
    "\n",
    "print(merge_dict)"
   ]
  },
  {
   "cell_type": "code",
   "execution_count": null,
   "metadata": {},
   "outputs": [],
   "source": []
  }
 ],
 "metadata": {
  "colab": {
   "name": "02-Data_types.ipynb",
   "provenance": []
  },
  "kernelspec": {
   "display_name": "Python 3",
   "language": "python",
   "name": "python3"
  },
  "language_info": {
   "codemirror_mode": {
    "name": "ipython",
    "version": 3
   },
   "file_extension": ".py",
   "mimetype": "text/x-python",
   "name": "python",
   "nbconvert_exporter": "python",
   "pygments_lexer": "ipython3",
   "version": "3.8.6"
  }
 },
 "nbformat": 4,
 "nbformat_minor": 4
}
