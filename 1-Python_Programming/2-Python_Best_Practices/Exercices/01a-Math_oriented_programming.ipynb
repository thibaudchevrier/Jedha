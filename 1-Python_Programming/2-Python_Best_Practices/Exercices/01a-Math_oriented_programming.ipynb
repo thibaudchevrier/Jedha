{
 "cells": [
  {
   "cell_type": "markdown",
   "metadata": {
    "colab_type": "text",
    "id": "ARXMbV_Vp5qc"
   },
   "source": [
    "# Mathematically Oriented Programming"
   ]
  },
  {
   "cell_type": "markdown",
   "metadata": {
    "colab_type": "text",
    "id": "1JYqlALqp73y"
   },
   "source": [
    "_Mathematics, in general, we don't like to do it. Especially when it involves repeating operations, over and over again. Let's be real lazy and create a class that will do the operations we want for us._"
   ]
  },
  {
   "cell_type": "markdown",
   "metadata": {
    "colab_type": "text",
    "id": "Lc3ol0PSp98l"
   },
   "source": [
    "1. _Create a class to be called \"math.\"_\n",
    "2. _This class will have no internal attributes, so you don't need to define an init() _\n",
    "3. _Create a method that will compute the square root of any number._\n",
    "4. _Create a method that will calculate the average of any list of numbers._\n",
    "5. _Create a method to find out if a number is even or odd_.\n",
    "6. _Finally, create a method that will give the total sum of a list of numbers._\n"
   ]
  },
  {
   "cell_type": "code",
   "execution_count": 38,
   "metadata": {
    "colab": {
     "base_uri": "https://localhost:8080/",
     "height": 104
    },
    "colab_type": "code",
    "id": "xFLBlgj1pndw",
    "outputId": "44506b62-75cb-416a-895e-848ef632a530"
   },
   "outputs": [],
   "source": [
    "class Math:\n",
    "    \n",
    "    def sqrt(self, number, degree=2):\n",
    "        try:\n",
    "            number = float(number)\n",
    "            if number < 0 or degree <= 0:\n",
    "                raise ValueError(\"No square root for negative numbers\")\n",
    "            result = number ** (1/degree)\n",
    "        except ValueError as e:\n",
    "            print(e)\n",
    "        else:\n",
    "            return result\n",
    "        \n",
    "    def sum_list(self, list_numbers):\n",
    "        try:\n",
    "            sum_list = 0\n",
    "            for element in list_numbers:\n",
    "                sum_list += element\n",
    "        except TypeError as e:\n",
    "            print(e)\n",
    "        else:\n",
    "            return sum_list\n",
    "    \n",
    "    def avg(self, list_numbers):\n",
    "        try:\n",
    "            sum_list = self.sum_list(list_numbers)\n",
    "            if sum_list is None:\n",
    "                raise ValueError\n",
    "        except:\n",
    "            pass\n",
    "        else:\n",
    "            return sum_list/len(list_numbers)\n",
    "    \n",
    "    def is_even(self, number):\n",
    "        try:\n",
    "            even = not(number%2)\n",
    "            if even:\n",
    "                print(\"Number is even\")\n",
    "            else:\n",
    "                print(\"Number is odd\")\n",
    "        except:\n",
    "            print(\"Should be a number !!\")\n",
    "        else:\n",
    "            return even"
   ]
  },
  {
   "cell_type": "code",
   "execution_count": 39,
   "metadata": {},
   "outputs": [
    {
     "name": "stdout",
     "output_type": "stream",
     "text": [
      "No square root for negative numbers\n",
      "could not convert string to float: 'jknzergv'\n",
      "Number is even\n",
      "Number is odd\n",
      "Should be a number !!\n",
      "unsupported operand type(s) for +=: 'int' and 'str'\n",
      "'int' object is not iterable\n",
      "unsupported operand type(s) for +=: 'int' and 'str'\n",
      "Success !!!\n"
     ]
    }
   ],
   "source": [
    "math = Math()\n",
    "assert(math.sqrt(100) == 10)\n",
    "assert(math.sqrt(-10) == None)\n",
    "assert(math.sqrt(\"jknzergv\") == None)\n",
    "assert(math.is_even(24) == True)\n",
    "assert(math.is_even(3) == False)\n",
    "assert(math.is_even(\"test\") == None)\n",
    "assert(math.avg([1, 2, 3]) == 2)\n",
    "assert(math.avg([1, 2, 3, \"test\"]) == None)\n",
    "assert(math.avg(1) == None)\n",
    "assert(math.sum_list([1, 2, 3]) == 6)\n",
    "assert(math.sum_list([1, 2, \"test\"]) == None)\n",
    "\n",
    "print(\"Success !!!\")"
   ]
  },
  {
   "cell_type": "code",
   "execution_count": null,
   "metadata": {},
   "outputs": [],
   "source": []
  }
 ],
 "metadata": {
  "colab": {
   "name": "Programmation Orientée Mathématiques - Exercice S1-3.ipynb",
   "provenance": [],
   "version": "0.3.2"
  },
  "kernelspec": {
   "display_name": "Python 3",
   "language": "python",
   "name": "python3"
  },
  "language_info": {
   "codemirror_mode": {
    "name": "ipython",
    "version": 3
   },
   "file_extension": ".py",
   "mimetype": "text/x-python",
   "name": "python",
   "nbconvert_exporter": "python",
   "pygments_lexer": "ipython3",
   "version": "3.8.5"
  }
 },
 "nbformat": 4,
 "nbformat_minor": 4
}
