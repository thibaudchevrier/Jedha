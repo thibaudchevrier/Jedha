{
 "cells": [
  {
   "cell_type": "markdown",
   "metadata": {
    "colab_type": "text",
    "id": "6cqYL_Y0rfoH"
   },
   "source": [
    "# Imputer"
   ]
  },
  {
   "cell_type": "markdown",
   "metadata": {
    "colab_type": "text",
    "id": "sB61JRG-rj6v"
   },
   "source": [
    "_In data science, it's common for there to be missing values in a dataset. Let's see how we can create a class that will allow us to replace this missing value by the average of the values in the list_"
   ]
  },
  {
   "cell_type": "markdown",
   "metadata": {
    "colab_type": "text",
    "id": "nvclKDGOrlV3"
   },
   "source": [
    "1. _Create a class that we will call Imputer_.\n",
    "2. _To simplify the exercise, we will only deal with lists for the moment._\n",
    "3. _Our class will take an attribute that we will call list_.\n",
    "4. _Create an avg() function that will first remove the missing value and then replace it with the average of the list._"
   ]
  },
  {
   "cell_type": "code",
   "execution_count": 119,
   "metadata": {
    "colab": {
     "base_uri": "https://localhost:8080/",
     "height": 52
    },
    "colab_type": "code",
    "id": "4agC-7RLrQSp",
    "outputId": "c98a0475-d2f7-4e53-e3b3-e45b2c1874ff"
   },
   "outputs": [],
   "source": [
    "class Imputer:\n",
    "    def __init__(self, list_element):\n",
    "        self.list_element = list_element\n",
    "        \n",
    "    def avg(self):\n",
    "        res_list = self.list_element.copy()\n",
    "        list_numbers = [number for number in self.list_element if isinstance(number, (int, float))]\n",
    "        average = sum(list_numbers)/len(list_numbers)\n",
    "        for i, number in enumerate(res_list):\n",
    "            if not isinstance(number, (int, float)):\n",
    "                res_list[i] = average\n",
    "        return res_list"
   ]
  },
  {
   "cell_type": "code",
   "execution_count": 120,
   "metadata": {},
   "outputs": [
    {
     "name": "stdout",
     "output_type": "stream",
     "text": [
      "[3.8, 1, 3, 4, 3.8, 5, 6]\n"
     ]
    }
   ],
   "source": [
    "imputer = Imputer([None, 1, 3, 4, None, 5, 6])\n",
    "print(imputer.avg())"
   ]
  },
  {
   "cell_type": "markdown",
   "metadata": {
    "colab_type": "text",
    "id": "bc7K3aMYr9uH"
   },
   "source": [
    "# Improve Imputer\n",
    "\n",
    "_We have created our Imputer class which works very well for replacing missing values with averages. But, couldn't we also use this class to replace with a median? Try to add a method in Imputer that will allow us to replace the list with either the average or the median._"
   ]
  },
  {
   "cell_type": "code",
   "execution_count": 115,
   "metadata": {
    "colab": {
     "base_uri": "https://localhost:8080/",
     "height": 86
    },
    "colab_type": "code",
    "id": "vWlNZ5nDrqPa",
    "outputId": "b80570c6-7d61-4ee6-8da0-deefadcf6f3e"
   },
   "outputs": [],
   "source": [
    "class Imputer:\n",
    "    def __init__(self, list_element):\n",
    "        self.list_element = list_element\n",
    "        self.list_numbers = [number for number in self.list_element if isinstance(number, (int, float))]\n",
    "        \n",
    "    def replace_missing(self, number):\n",
    "        res_list = self.list_element.copy()\n",
    "        for i, element in enumerate(res_list):\n",
    "            if not isinstance(element, (int, float)):\n",
    "                res_list[i] = number\n",
    "        return res_list\n",
    "    \n",
    "    def avg(self):\n",
    "        average = sum(self.list_numbers)/len(self.list_numbers)\n",
    "        return self.replace_missing(average)\n",
    "                \n",
    "    def median(self):\n",
    "        sorted_list = sorted(self.list_numbers)\n",
    "        size_list = len(self.list_numbers)\n",
    "        middle = size_list//2\n",
    "        if size_list%2:\n",
    "            median = sorted_list[middle]\n",
    "        else:\n",
    "            median = sum(sorted_list[middle-1:middle+1]) / 2    \n",
    "        return self.replace_missing(median)"
   ]
  },
  {
   "cell_type": "code",
   "execution_count": 117,
   "metadata": {
    "colab": {},
    "colab_type": "code",
    "id": "TeloaQ3Ot-M5"
   },
   "outputs": [
    {
     "name": "stdout",
     "output_type": "stream",
     "text": [
      "[8.5, 2, 3, 12, 5, 13, 20, 8.5]\n",
      "[9.166666666666666, 2, 3, 12, 5, 13, 20, 9.166666666666666]\n"
     ]
    }
   ],
   "source": [
    "imputer = Imputer([None, 2, 3, 12, 5, 13, 20, None])\n",
    "print(imputer.median())\n",
    "print(imputer.avg())"
   ]
  }
 ],
 "metadata": {
  "colab": {
   "collapsed_sections": [],
   "name": "Imputer - Exercice S1-3.ipynb",
   "provenance": [],
   "version": "0.3.2"
  },
  "kernelspec": {
   "display_name": "Python 3",
   "language": "python",
   "name": "python3"
  },
  "language_info": {
   "codemirror_mode": {
    "name": "ipython",
    "version": 3
   },
   "file_extension": ".py",
   "mimetype": "text/x-python",
   "name": "python",
   "nbconvert_exporter": "python",
   "pygments_lexer": "ipython3",
   "version": "3.8.5"
  }
 },
 "nbformat": 4,
 "nbformat_minor": 4
}
