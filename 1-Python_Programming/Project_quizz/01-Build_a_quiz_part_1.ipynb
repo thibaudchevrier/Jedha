{
 "cells": [
  {
   "cell_type": "markdown",
   "metadata": {
    "colab_type": "text",
    "id": "FY347VxWs_bJ"
   },
   "source": [
    "# Build a quiz\n",
    "\n",
    "---\n",
    "\n",
    "\n"
   ]
  },
  {
   "cell_type": "markdown",
   "metadata": {},
   "source": [
    "Let's tackle our first project together. Find a partner and start coding a quiz together! Your program should: \n",
    "\n",
    "1. Ask a question to a user via the console \n",
    "2. Verify whether the answer is correct or not \n",
    "3. If the answer is correct, you should print out: \n",
    "\n",
    "    * `Good job! This is the right answer`\n",
    "    * Else it should print out:\n",
    "    * `Too bad! that is not the correct answer`\n",
    "\n",
    "4. Ask three questions following this model. \n",
    "\n",
    "\n",
    "SPECs: \n",
    "\n",
    "* Your program should ask the question again if the user didn't give the right answer up to 3 times\n",
    "* If the user used up all his/her tries, it should print out: `:( you lost the game!`"
   ]
  },
  {
   "cell_type": "code",
   "execution_count": 49,
   "metadata": {
    "colab": {},
    "colab_type": "code",
    "id": "LV_ACPSXs3pg"
   },
   "outputs": [],
   "source": [
    "class Quizz:\n",
    "    \n",
    "    def __init__(self, entries, tries=3):\n",
    "        self.num_questions = len(entries)\n",
    "        self.__entries = dict(entries)\n",
    "        \n",
    "        # Initialize the generator\n",
    "        self.__entries_gen = ((i, question, self.__entries[question]) for i, question in enumerate(self.__entries))\n",
    "        \n",
    "        # Get the first element of the generator\n",
    "        self.__current_element = next(self.__entries_gen)\n",
    "        \n",
    "        # Initialize number of tries\n",
    "        self.__init_tries = tries\n",
    "        self.__current_tries = tries\n",
    "        \n",
    "    def reset_quizz(self):\n",
    "        # Rebuild the generator\n",
    "        self.__entries_gen = ((i, question, self.__entries[question]) for i, question in enumerate(self.__entries))\n",
    "        \n",
    "        # Reinit the number of tries\n",
    "        self.__current_tries = self.__init_tries\n",
    "        \n",
    "        # Get the first element of the generator\n",
    "        self.__current_element = next(self.__entries_gen)\n",
    "        \n",
    "    def get_progress(self):\n",
    "        #get values of the current generator element\n",
    "        i, question, answer = self.__current_element\n",
    "        \n",
    "        if \"?\" not in question:\n",
    "            question += \" ?\"\n",
    "        \n",
    "        print(\"Question %d/%d: %s\" %(i + 1, self.num_questions, question))\n",
    "        print(\"You have %d tries left for this question\" %(self.__current_tries))\n",
    "        print(\"%d Remaining questions\" %(self.num_questions - (i+1)))\n",
    "        \n",
    "    def launch_quizz(self):\n",
    "        #Loop threw the generator\n",
    "        while True:\n",
    "            try:\n",
    "                # Get values of the current generator element\n",
    "                i, question, answer = self.__current_element\n",
    "                print(\"--------------- Question %d/%d ---------------\" %(i + 1, self.num_questions))\n",
    "                \n",
    "                # Get rid of the extra spaces and add a question mark if None in the question\n",
    "                question_displayed = question.strip()\n",
    "                if \"?\" not in question:\n",
    "                    question_displayed += \" ?\"\n",
    "                \n",
    "                # Initialize the user answer\n",
    "                output = None\n",
    "                \n",
    "                # Lower case to allow the answer not to be case sensitive\n",
    "                display_answer = str(answer).strip()\n",
    "                answer = display_answer.lower()\n",
    "                \n",
    "                while output != answer and self.__current_tries != 0:\n",
    "                    # Get the answer of the user\n",
    "                    output = input(question_displayed + \" (P: Pause quizz, R: Restart quizz, Q: Quit quizz)\").strip().lower()\n",
    "                    \n",
    "                    # Execute action depending on user answer\n",
    "                    if output == \"p\": # Pause quizz\n",
    "                        print(\"Quizz paused\")\n",
    "                        return\n",
    "                    elif output in [\"r\", \"q\"]: # Reset or Quit quizz\n",
    "                        # Reset the whole quizz to go back from the beginning\n",
    "                        self.reset_quizz()\n",
    "                        \n",
    "                        if output == \"r\":\n",
    "                            break\n",
    "                        else:\n",
    "                            return\n",
    "                    elif output != answer and self.__current_tries == 1: # Game Over\n",
    "                        print(\":( you lost the game! The answer was %s\" %(display_answer))\n",
    "\n",
    "                        # Reset the whole quizz to go back from the beginning\n",
    "                        self.reset_quizz()\n",
    "                        return\n",
    "                    elif output != answer: # Bad answer\n",
    "                        \n",
    "                        # Decrease number of tries\n",
    "                        self.__current_tries -= 1\n",
    "                        \n",
    "                        print(\"Too bad! that is not the correct answer, you have %d tries left\" %(self.__current_tries))\n",
    "                    elif output == answer: # Good answer\n",
    "                        print(\"Good job! This is the right answer\")\n",
    "                        \n",
    "                        # Reinit the number of tries\n",
    "                        self.__current_tries = self.__init_tries\n",
    "                        \n",
    "                        # Get to the next element\n",
    "                        self.__current_element = next(self.__entries_gen)\n",
    "                        \n",
    "                print(\"\\n\")\n",
    "            except StopIteration:\n",
    "                \n",
    "                # End of the generator, the user won by going threw all the questions\n",
    "                print(\"You've won the game !!!!\")\n",
    "                \n",
    "                # Reset the whole quizz to go back from the beginning to be able to play again\n",
    "                self.reset_quizz()\n",
    "                \n",
    "                # Stop the iteration\n",
    "                break"
   ]
  },
  {
   "cell_type": "code",
   "execution_count": 50,
   "metadata": {},
   "outputs": [],
   "source": [
    "quizz = Quizz({\"Who won the 2020 USA Elections\" :\"Joe Biden\", \n",
    "               \"What's the tallest animal in the world\":\"Giraffe\", \n",
    "               \"What's the tallest building in Paris\": \"Eiffel Tower\"}, 3)"
   ]
  },
  {
   "cell_type": "code",
   "execution_count": 51,
   "metadata": {},
   "outputs": [
    {
     "name": "stdout",
     "output_type": "stream",
     "text": [
      "--------------- Question 1/3 ---------------\n"
     ]
    },
    {
     "name": "stdin",
     "output_type": "stream",
     "text": [
      "Who won the 2020 USA Elections ? (P: Pause quizz, R: Restart quizz, Q: Quit quizz) Joe Biden\n"
     ]
    },
    {
     "name": "stdout",
     "output_type": "stream",
     "text": [
      "Good job! This is the right answer\n",
      "\n",
      "\n",
      "--------------- Question 2/3 ---------------\n"
     ]
    },
    {
     "name": "stdin",
     "output_type": "stream",
     "text": [
      "What's the tallest animal in the world ? (P: Pause quizz, R: Restart quizz, Q: Quit quizz) zefze\n"
     ]
    },
    {
     "name": "stdout",
     "output_type": "stream",
     "text": [
      "Too bad! that is not the correct answer, you have 2 tries left\n"
     ]
    },
    {
     "name": "stdin",
     "output_type": "stream",
     "text": [
      "What's the tallest animal in the world ? (P: Pause quizz, R: Restart quizz, Q: Quit quizz) P\n"
     ]
    },
    {
     "name": "stdout",
     "output_type": "stream",
     "text": [
      "Quizz paused\n"
     ]
    }
   ],
   "source": [
    "quizz.launch_quizz()"
   ]
  },
  {
   "cell_type": "code",
   "execution_count": 52,
   "metadata": {},
   "outputs": [
    {
     "name": "stdout",
     "output_type": "stream",
     "text": [
      "Question 2/3: What's the tallest animal in the world ?\n",
      "You have 2 tries left for this question\n",
      "1 Remaining questions\n"
     ]
    }
   ],
   "source": [
    "quizz.get_progress()"
   ]
  },
  {
   "cell_type": "code",
   "execution_count": 47,
   "metadata": {},
   "outputs": [
    {
     "name": "stdout",
     "output_type": "stream",
     "text": [
      "--------------- Question 2/3 ---------------\n"
     ]
    },
    {
     "name": "stdin",
     "output_type": "stream",
     "text": [
      "What's the tallest animal in the world ? (P: Pause quizz, R: Restart quizz, Q: Quit quizz) Giraffe\n"
     ]
    },
    {
     "name": "stdout",
     "output_type": "stream",
     "text": [
      "Good job! This is the right answer\n",
      "\n",
      "\n",
      "--------------- Question 3/3 ---------------\n"
     ]
    },
    {
     "name": "stdin",
     "output_type": "stream",
     "text": [
      "What's the tallest building in Paris ? (P: Pause quizz, R: Restart quizz, Q: Quit quizz) Eiffel Tower\n"
     ]
    },
    {
     "name": "stdout",
     "output_type": "stream",
     "text": [
      "Good job! This is the right answer\n",
      "You've won the game !!!!\n"
     ]
    }
   ],
   "source": [
    "quizz.launch_quizz()"
   ]
  },
  {
   "cell_type": "code",
   "execution_count": 48,
   "metadata": {},
   "outputs": [
    {
     "name": "stdout",
     "output_type": "stream",
     "text": [
      "--------------- Question 1/3 ---------------\n"
     ]
    },
    {
     "name": "stdin",
     "output_type": "stream",
     "text": [
      "Who won the 2020 USA Elections ? (P: Pause quizz, R: Restart quizz, Q: Quit quizz) oijezf\n"
     ]
    },
    {
     "name": "stdout",
     "output_type": "stream",
     "text": [
      "Too bad! that is not the correct answer, you have 2 tries left\n"
     ]
    },
    {
     "name": "stdin",
     "output_type": "stream",
     "text": [
      "Who won the 2020 USA Elections ? (P: Pause quizz, R: Restart quizz, Q: Quit quizz) Joe Biden\n"
     ]
    },
    {
     "name": "stdout",
     "output_type": "stream",
     "text": [
      "Good job! This is the right answer\n",
      "\n",
      "\n",
      "--------------- Question 2/3 ---------------\n"
     ]
    },
    {
     "name": "stdin",
     "output_type": "stream",
     "text": [
      "What's the tallest animal in the world ? (P: Pause quizz, R: Restart quizz, Q: Quit quizz) P\n"
     ]
    },
    {
     "name": "stdout",
     "output_type": "stream",
     "text": [
      "Quizz paused\n"
     ]
    }
   ],
   "source": [
    "quizz.launch_quizz()"
   ]
  },
  {
   "cell_type": "code",
   "execution_count": null,
   "metadata": {},
   "outputs": [],
   "source": [
    "print(\"COUCOU\")"
   ]
  }
 ],
 "metadata": {
  "colab": {
   "name": "Construire un quiz - S1-1A.ipynb",
   "provenance": [],
   "version": "0.3.2"
  },
  "kernelspec": {
   "display_name": "Python 3",
   "language": "python",
   "name": "python3"
  },
  "language_info": {
   "codemirror_mode": {
    "name": "ipython",
    "version": 3
   },
   "file_extension": ".py",
   "mimetype": "text/x-python",
   "name": "python",
   "nbconvert_exporter": "python",
   "pygments_lexer": "ipython3",
   "version": "3.8.5"
  }
 },
 "nbformat": 4,
 "nbformat_minor": 4
}
