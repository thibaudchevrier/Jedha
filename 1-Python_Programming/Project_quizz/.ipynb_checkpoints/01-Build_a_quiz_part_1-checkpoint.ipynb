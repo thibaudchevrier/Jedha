{
 "cells": [
  {
   "cell_type": "markdown",
   "metadata": {
    "colab_type": "text",
    "id": "FY347VxWs_bJ"
   },
   "source": [
    "# Build a quiz\n",
    "\n",
    "---\n",
    "\n",
    "\n"
   ]
  },
  {
   "cell_type": "markdown",
   "metadata": {},
   "source": [
    "Let's tackle our first project together. Find a partner and start coding a quiz together! Your program should: \n",
    "\n",
    "1. Ask a question to a user via the console \n",
    "2. Verify whether the answer is correct or not \n",
    "3. If the answer is correct, you should print out: \n",
    "\n",
    "    * `Good job! This is the right answer`\n",
    "    * Else it should print out:\n",
    "    * `Too bad! that is not the correct answer`\n",
    "\n",
    "4. Ask three questions following this model. \n",
    "\n",
    "\n",
    "SPECs: \n",
    "\n",
    "* Your program should ask the question again if the user didn't give the right answer up to 3 times\n",
    "* If the user used up all his/her tries, it should print out: `:( you lost the game!`"
   ]
  },
  {
   "cell_type": "code",
   "execution_count": 42,
   "metadata": {
    "colab": {},
    "colab_type": "code",
    "id": "LV_ACPSXs3pg"
   },
   "outputs": [],
   "source": [
    "class Quizz:\n",
    "    \n",
    "    def __init__(self, entries, tries=3):\n",
    "        self.num_questions = len(entries)\n",
    "        self.__entries = dict(entries)\n",
    "        \n",
    "        # Initialize the generator\n",
    "        self.__entries_gen = ((i, question, self.__entries[question]) for i, question in enumerate(self.__entries))\n",
    "        \n",
    "        # Get the first element of the generator\n",
    "        self.__current_element = next(self.__entries_gen)\n",
    "        \n",
    "        # Initialize number of tries\n",
    "        self.__init_tries = tries\n",
    "        self.__current_tries = tries\n",
    "        \n",
    "    def get_quizz_element(self):\n",
    "        proposal = \"\"\n",
    "        i, question, answer = self.__current_element\n",
    "        if type(answer) is tuple:\n",
    "            proposal, answer = answer\n",
    "            proposal = \"\\n\" + proposal\n",
    "        return i, question, proposal, answer\n",
    "        \n",
    "    def reset_quizz(self):\n",
    "        # Rebuild the generator\n",
    "        self.__entries_gen = ((i, question, self.__entries[question]) for i, question in enumerate(self.__entries))\n",
    "        \n",
    "        # Reinit the number of tries\n",
    "        self.__current_tries = self.__init_tries\n",
    "        \n",
    "        # Get the first element of the generator\n",
    "        self.__current_element = next(self.__entries_gen)\n",
    "        \n",
    "    def get_progress(self):\n",
    "        #get values of the current generator element\n",
    "        i, question, proposal, answer = self.get_quizz_element()\n",
    "        \n",
    "        if \"?\" not in question:\n",
    "            question += \" ?\"\n",
    "        \n",
    "        print(\"Question %d/%d: %s\" %(i + 1, self.num_questions, question))\n",
    "        print(\"You have %d tries left for this question\" %(self.__current_tries))\n",
    "        print(\"%d Remaining questions\" %(self.num_questions - (i+1)))\n",
    "        \n",
    "    def reformat_question(self, question):\n",
    "        # Get rid of the extra spaces and add a question mark if None in the question\n",
    "        question_displayed = question.strip()\n",
    "        if \"?\" not in question_displayed:\n",
    "            question_displayed += \" ?\"\n",
    "        return question_displayed\n",
    "    \n",
    "    def reformat_answer(self, answer):\n",
    "        # Lower case to allow the answer not to be case sensitive\n",
    "        display_answer = str(answer).strip()\n",
    "        return display_answer.lower()\n",
    "        \n",
    "    def launch_quizz(self):\n",
    "        #Loop threw the generator\n",
    "        while True:\n",
    "            try:\n",
    "                # Get values of the current generator element\n",
    "                i, question, proposal, answer = self.get_quizz_element()\n",
    "                print(\"--------------- Question %d/%d ---------------\" %(i + 1, self.num_questions))\n",
    "                \n",
    "                # Initialize the user answer\n",
    "                output = None\n",
    "                question = self.reformat_question(question)\n",
    "                formated_answer = self.reformat_answer(answer)\n",
    "                \n",
    "                while output != formated_answer and self.__current_tries != 0:\n",
    "                    # Get the answer of the user\n",
    "                    output = input(question + proposal + \"\\n (P: Pause quizz, R: Restart quizz, Q: Quit quizz)\").strip().lower()\n",
    "                    \n",
    "                    # Execute action depending on user answer\n",
    "                    if output == \"p\": # Pause quizz\n",
    "                        print(\"Quizz paused\")\n",
    "                        return\n",
    "                    elif output in [\"r\", \"q\"]: # Reset or Quit quizz\n",
    "                        # Reset the whole quizz to go back from the beginning\n",
    "                        self.reset_quizz()\n",
    "                        if output == \"r\":\n",
    "                            break\n",
    "                        else:\n",
    "                            return\n",
    "                    elif output != formated_answer and self.__current_tries == 1: # Game Over\n",
    "                        print(\":( you lost the game! The answer was %s\" %(answer))\n",
    "\n",
    "                        # Reset the whole quizz to go back from the beginning\n",
    "                        self.reset_quizz()\n",
    "                        return\n",
    "                    elif output != formated_answer: # Bad answer\n",
    "                        \n",
    "                        # Decrease number of tries\n",
    "                        self.__current_tries -= 1\n",
    "                        \n",
    "                        print(\"Too bad! that is not the correct answer, you have %d tries left\" %(self.__current_tries))\n",
    "                    elif output == formated_answer: # Good answer\n",
    "                        print(\"Good job! This is the right answer\")\n",
    "                        \n",
    "                        # Reinit the number of tries\n",
    "                        self.__current_tries = self.__init_tries\n",
    "                        \n",
    "                        # Get to the next element\n",
    "                        self.__current_element = next(self.__entries_gen)\n",
    "                        \n",
    "                print(\"\\n\")\n",
    "            except StopIteration:\n",
    "                \n",
    "                # End of the generator, the user won by going threw all the questions\n",
    "                print(\"You've won the game !!!!\")\n",
    "                \n",
    "                # Reset the whole quizz to go back from the beginning to be able to play again\n",
    "                self.reset_quizz()\n",
    "                \n",
    "                # Stop the iteration\n",
    "                break"
   ]
  },
  {
   "cell_type": "code",
   "execution_count": 43,
   "metadata": {},
   "outputs": [],
   "source": [
    "quizz_1 = Quizz({\"Who won the 2020 USA Elections\" : (\"1-Joe Biden, 2-Donald Trump\", 1), \n",
    "               \"What's the tallest animal in the world\": \"Giraffe\", \n",
    "               \"What's the tallest building in Paris\": \"Eiffel Tower\"}, 3)"
   ]
  },
  {
   "cell_type": "code",
   "execution_count": 44,
   "metadata": {},
   "outputs": [
    {
     "name": "stdout",
     "output_type": "stream",
     "text": [
      "--------------- Question 1/3 ---------------\n"
     ]
    },
    {
     "name": "stdin",
     "output_type": "stream",
     "text": [
      "Who won the 2020 USA Elections ?\n",
      "1-Joe Biden, 2-Donald Trump\n",
      " (P: Pause quizz, R: Restart quizz, Q: Quit quizz) 1\n"
     ]
    },
    {
     "name": "stdout",
     "output_type": "stream",
     "text": [
      "Good job! This is the right answer\n",
      "\n",
      "\n",
      "--------------- Question 2/3 ---------------\n"
     ]
    },
    {
     "name": "stdin",
     "output_type": "stream",
     "text": [
      "What's the tallest animal in the world ?\n",
      " (P: Pause quizz, R: Restart quizz, Q: Quit quizz) Giraffe\n"
     ]
    },
    {
     "name": "stdout",
     "output_type": "stream",
     "text": [
      "Good job! This is the right answer\n",
      "\n",
      "\n",
      "--------------- Question 3/3 ---------------\n"
     ]
    },
    {
     "name": "stdin",
     "output_type": "stream",
     "text": [
      "What's the tallest building in Paris ?\n",
      " (P: Pause quizz, R: Restart quizz, Q: Quit quizz) Eiffel Tower\n"
     ]
    },
    {
     "name": "stdout",
     "output_type": "stream",
     "text": [
      "Good job! This is the right answer\n",
      "You've won the game !!!!\n"
     ]
    }
   ],
   "source": [
    "quizz_1.launch_quizz()"
   ]
  },
  {
   "cell_type": "code",
   "execution_count": 40,
   "metadata": {},
   "outputs": [
    {
     "name": "stdout",
     "output_type": "stream",
     "text": [
      "Question 2/3: What's the tallest animal in the world ?\n",
      "You have 3 tries left for this question\n",
      "1 Remaining questions\n"
     ]
    }
   ],
   "source": [
    "quizz_1.get_progress()"
   ]
  },
  {
   "cell_type": "code",
   "execution_count": 41,
   "metadata": {},
   "outputs": [
    {
     "name": "stdout",
     "output_type": "stream",
     "text": [
      "--------------- Question 2/3 ---------------\n"
     ]
    },
    {
     "ename": "KeyboardInterrupt",
     "evalue": "Interrupted by user",
     "output_type": "error",
     "traceback": [
      "\u001b[0;31m---------------------------------------------------------------------------\u001b[0m",
      "\u001b[0;31mKeyboardInterrupt\u001b[0m                         Traceback (most recent call last)",
      "\u001b[0;32m<ipython-input-41-b8345029e478>\u001b[0m in \u001b[0;36m<module>\u001b[0;34m\u001b[0m\n\u001b[0;32m----> 1\u001b[0;31m \u001b[0mquizz\u001b[0m\u001b[0;34m.\u001b[0m\u001b[0mlaunch_quizz\u001b[0m\u001b[0;34m(\u001b[0m\u001b[0;34m)\u001b[0m\u001b[0;34m\u001b[0m\u001b[0;34m\u001b[0m\u001b[0m\n\u001b[0m",
      "\u001b[0;32m<ipython-input-37-9ef41e0a7b26>\u001b[0m in \u001b[0;36mlaunch_quizz\u001b[0;34m(self)\u001b[0m\n\u001b[1;32m     71\u001b[0m                 \u001b[0;32mwhile\u001b[0m \u001b[0moutput\u001b[0m \u001b[0;34m!=\u001b[0m \u001b[0mformated_answer\u001b[0m \u001b[0;32mand\u001b[0m \u001b[0mself\u001b[0m\u001b[0;34m.\u001b[0m\u001b[0m__current_tries\u001b[0m \u001b[0;34m!=\u001b[0m \u001b[0;36m0\u001b[0m\u001b[0;34m:\u001b[0m\u001b[0;34m\u001b[0m\u001b[0;34m\u001b[0m\u001b[0m\n\u001b[1;32m     72\u001b[0m                     \u001b[0;31m# Get the answer of the user\u001b[0m\u001b[0;34m\u001b[0m\u001b[0;34m\u001b[0m\u001b[0;34m\u001b[0m\u001b[0m\n\u001b[0;32m---> 73\u001b[0;31m                     \u001b[0moutput\u001b[0m \u001b[0;34m=\u001b[0m \u001b[0minput\u001b[0m\u001b[0;34m(\u001b[0m\u001b[0mquestion\u001b[0m \u001b[0;34m+\u001b[0m \u001b[0mproposal\u001b[0m \u001b[0;34m+\u001b[0m \u001b[0;34m\"\\n (P: Pause quizz, R: Restart quizz, Q: Quit quizz)\"\u001b[0m\u001b[0;34m)\u001b[0m\u001b[0;34m.\u001b[0m\u001b[0mstrip\u001b[0m\u001b[0;34m(\u001b[0m\u001b[0;34m)\u001b[0m\u001b[0;34m.\u001b[0m\u001b[0mlower\u001b[0m\u001b[0;34m(\u001b[0m\u001b[0;34m)\u001b[0m\u001b[0;34m\u001b[0m\u001b[0;34m\u001b[0m\u001b[0m\n\u001b[0m\u001b[1;32m     74\u001b[0m \u001b[0;34m\u001b[0m\u001b[0m\n\u001b[1;32m     75\u001b[0m                     \u001b[0;31m# Execute action depending on user answer\u001b[0m\u001b[0;34m\u001b[0m\u001b[0;34m\u001b[0m\u001b[0;34m\u001b[0m\u001b[0m\n",
      "\u001b[0;32m/opt/conda/lib/python3.8/site-packages/ipykernel/kernelbase.py\u001b[0m in \u001b[0;36mraw_input\u001b[0;34m(self, prompt)\u001b[0m\n\u001b[1;32m    858\u001b[0m                 \u001b[0;34m\"raw_input was called, but this frontend does not support input requests.\"\u001b[0m\u001b[0;34m\u001b[0m\u001b[0;34m\u001b[0m\u001b[0m\n\u001b[1;32m    859\u001b[0m             )\n\u001b[0;32m--> 860\u001b[0;31m         return self._input_request(str(prompt),\n\u001b[0m\u001b[1;32m    861\u001b[0m             \u001b[0mself\u001b[0m\u001b[0;34m.\u001b[0m\u001b[0m_parent_ident\u001b[0m\u001b[0;34m,\u001b[0m\u001b[0;34m\u001b[0m\u001b[0;34m\u001b[0m\u001b[0m\n\u001b[1;32m    862\u001b[0m             \u001b[0mself\u001b[0m\u001b[0;34m.\u001b[0m\u001b[0m_parent_header\u001b[0m\u001b[0;34m,\u001b[0m\u001b[0;34m\u001b[0m\u001b[0;34m\u001b[0m\u001b[0m\n",
      "\u001b[0;32m/opt/conda/lib/python3.8/site-packages/ipykernel/kernelbase.py\u001b[0m in \u001b[0;36m_input_request\u001b[0;34m(self, prompt, ident, parent, password)\u001b[0m\n\u001b[1;32m    902\u001b[0m             \u001b[0;32mexcept\u001b[0m \u001b[0mKeyboardInterrupt\u001b[0m\u001b[0;34m:\u001b[0m\u001b[0;34m\u001b[0m\u001b[0;34m\u001b[0m\u001b[0m\n\u001b[1;32m    903\u001b[0m                 \u001b[0;31m# re-raise KeyboardInterrupt, to truncate traceback\u001b[0m\u001b[0;34m\u001b[0m\u001b[0;34m\u001b[0m\u001b[0;34m\u001b[0m\u001b[0m\n\u001b[0;32m--> 904\u001b[0;31m                 \u001b[0;32mraise\u001b[0m \u001b[0mKeyboardInterrupt\u001b[0m\u001b[0;34m(\u001b[0m\u001b[0;34m\"Interrupted by user\"\u001b[0m\u001b[0;34m)\u001b[0m \u001b[0;32mfrom\u001b[0m \u001b[0;32mNone\u001b[0m\u001b[0;34m\u001b[0m\u001b[0;34m\u001b[0m\u001b[0m\n\u001b[0m\u001b[1;32m    905\u001b[0m             \u001b[0;32mexcept\u001b[0m \u001b[0mException\u001b[0m \u001b[0;32mas\u001b[0m \u001b[0me\u001b[0m\u001b[0;34m:\u001b[0m\u001b[0;34m\u001b[0m\u001b[0;34m\u001b[0m\u001b[0m\n\u001b[1;32m    906\u001b[0m                 \u001b[0mself\u001b[0m\u001b[0;34m.\u001b[0m\u001b[0mlog\u001b[0m\u001b[0;34m.\u001b[0m\u001b[0mwarning\u001b[0m\u001b[0;34m(\u001b[0m\u001b[0;34m\"Invalid Message:\"\u001b[0m\u001b[0;34m,\u001b[0m \u001b[0mexc_info\u001b[0m\u001b[0;34m=\u001b[0m\u001b[0;32mTrue\u001b[0m\u001b[0;34m)\u001b[0m\u001b[0;34m\u001b[0m\u001b[0;34m\u001b[0m\u001b[0m\n",
      "\u001b[0;31mKeyboardInterrupt\u001b[0m: Interrupted by user"
     ]
    }
   ],
   "source": [
    "quizz_1.launch_quizz()"
   ]
  },
  {
   "cell_type": "code",
   "execution_count": 28,
   "metadata": {},
   "outputs": [
    {
     "name": "stdout",
     "output_type": "stream",
     "text": [
      "--------------- Question 1/3 ---------------\n"
     ]
    },
    {
     "name": "stdin",
     "output_type": "stream",
     "text": [
      "Who won the 2020 USA Elections ? (P: Pause quizz, R: Restart quizz, Q: Quit quizz) Q\n"
     ]
    }
   ],
   "source": [
    "quizz_1.launch_quizz()"
   ]
  },
  {
   "cell_type": "code",
   "execution_count": null,
   "metadata": {},
   "outputs": [],
   "source": []
  }
 ],
 "metadata": {
  "colab": {
   "name": "Construire un quiz - S1-1A.ipynb",
   "provenance": [],
   "version": "0.3.2"
  },
  "kernelspec": {
   "display_name": "Python 3",
   "language": "python",
   "name": "python3"
  },
  "language_info": {
   "codemirror_mode": {
    "name": "ipython",
    "version": 3
   },
   "file_extension": ".py",
   "mimetype": "text/x-python",
   "name": "python",
   "nbconvert_exporter": "python",
   "pygments_lexer": "ipython3",
   "version": "3.8.6"
  }
 },
 "nbformat": 4,
 "nbformat_minor": 4
}
