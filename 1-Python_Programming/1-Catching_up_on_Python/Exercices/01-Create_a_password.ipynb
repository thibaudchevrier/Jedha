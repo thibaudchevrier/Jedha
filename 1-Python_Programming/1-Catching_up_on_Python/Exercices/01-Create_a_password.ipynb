{
 "cells": [
  {
   "cell_type": "markdown",
   "metadata": {
    "colab_type": "text",
    "id": "FY347VxWs_bJ"
   },
   "source": [
    "# Create a password\n",
    "\n",
    "---\n",
    "\n",
    "\n"
   ]
  },
  {
   "cell_type": "markdown",
   "metadata": {
    "colab_type": "text",
    "id": "tNmCNKUa0c9-"
   },
   "source": [
    "We would like to create a password for JEDHA\n",
    "\n",
    "    1. Using a WHILE loop, find a way to create a very simple authentication script"
   ]
  },
  {
   "cell_type": "code",
   "execution_count": 3,
   "metadata": {
    "colab": {
     "base_uri": "https://localhost:8080/",
     "height": 35
    },
    "colab_type": "code",
    "id": "adKPQe1Hsi2g",
    "outputId": "11b3e356-10d5-47b0-edae-1e566ea77bb3"
   },
   "outputs": [
    {
     "name": "stdout",
     "output_type": "stream",
     "text": [
      "Entrez votre mot de passe: jv\n",
      "Mot de passe éronné\n",
      "Entrez votre mot de passe: yibgi\n",
      "Mot de passe éronné\n",
      "Entrez votre mot de passe: itsme\n",
      "Welcome !!\n"
     ]
    }
   ],
   "source": [
    "password = \"itsme\"\n",
    "entry = \"\"\n",
    "\n",
    "while password != entry:\n",
    "    entry = input(\"Entrez votre mot de passe: \")\n",
    "    if entry == password:\n",
    "        print(\"Welcome !!\")\n",
    "    else:\n",
    "        print(\"Mot de passe éronné\")"
   ]
  },
  {
   "cell_type": "code",
   "execution_count": 0,
   "metadata": {
    "colab": {},
    "colab_type": "code",
    "id": "LV_ACPSXs3pg"
   },
   "outputs": [],
   "source": []
  }
 ],
 "metadata": {
  "colab": {
   "name": "Faire un mot de passe -- S1-1A.ipynb",
   "provenance": [],
   "version": "0.3.2"
  },
  "kernelspec": {
   "display_name": "Python 3",
   "language": "python",
   "name": "python3"
  },
  "language_info": {
   "codemirror_mode": {
    "name": "ipython",
    "version": 3
   },
   "file_extension": ".py",
   "mimetype": "text/x-python",
   "name": "python",
   "nbconvert_exporter": "python",
   "pygments_lexer": "ipython3",
   "version": "3.7.7"
  }
 },
 "nbformat": 4,
 "nbformat_minor": 1
}
