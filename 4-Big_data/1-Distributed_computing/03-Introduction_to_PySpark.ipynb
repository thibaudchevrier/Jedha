{
 "cells": [
  {
   "cell_type": "markdown",
   "metadata": {},
   "source": [
    "# 03 - Introduction to PySpark\n",
    "\n",
    "## PySpark\n",
    "\n",
    "PySpark is the Python API for Apache Spark.\n",
    "\n",
    "*Notes*\n",
    "\n",
    "*Powerful, but some caveats:*\n",
    "\n",
    "- *Not as exhaustive as other's python libraries for data analysis and modeling (pandas, sklearn, etc..)*\n",
    "- *Will be slower than these on small data*\n",
    "- *Mixed language (harder to debug, common to find resources for Scala and not Python)*\n",
    "\n",
    "---\n",
    "\n",
    "### Debugging PySpark is hard\n",
    "\n",
    "*Notes*\n",
    "\n",
    "- *Debugging Distributed systems is hard*\n",
    "- *Debugging mixed languages is hard*\n",
    "- *Lazy evaluation can be difficult to debug*\n",
    "\n",
    "*PySpark is all of those things. See [Debugging PySpark](https://www.youtube.com/watch?v=McgG09XriEI).*\n",
    "\n",
    "---"
   ]
  },
  {
   "cell_type": "code",
   "execution_count": null,
   "metadata": {},
   "outputs": [],
   "source": []
  }
 ],
 "metadata": {
  "language_info": {
   "codemirror_mode": {
    "name": "ipython",
    "version": 3
   },
   "file_extension": ".py",
   "mimetype": "text/x-python",
   "name": "python",
   "nbconvert_exporter": "python",
   "pygments_lexer": "ipython3",
   "version": 3
  },
  "orig_nbformat": 2
 },
 "nbformat": 4,
 "nbformat_minor": 2
}