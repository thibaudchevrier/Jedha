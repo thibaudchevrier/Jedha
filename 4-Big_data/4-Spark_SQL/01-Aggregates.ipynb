{
 "cells": [
  {
   "cell_type": "code",
   "execution_count": null,
   "metadata": {
    "application/vnd.databricks.v1+cell": {
     "inputWidgets": {},
     "nuid": "808bb7dd-a1f1-4f8c-a674-50728c85d68a",
     "showTitle": false,
     "title": ""
    }
   },
   "outputs": [
    {
     "data": {
      "text/html": [
       "<style scoped>\n",
       "  .ansiout {\n",
       "    display: block;\n",
       "    unicode-bidi: embed;\n",
       "    white-space: pre-wrap;\n",
       "    word-wrap: break-word;\n",
       "    word-break: break-all;\n",
       "    font-family: \"Source Code Pro\", \"Menlo\", monospace;;\n",
       "    font-size: 13px;\n",
       "    color: #555;\n",
       "    margin-left: 4px;\n",
       "    line-height: 19px;\n",
       "  }\n",
       "</style>\n",
       "<div class=\"ansiout\"></div>"
      ]
     },
     "metadata": {
      "application/vnd.databricks.v1+output": {
       "addedWidgets": {},
       "arguments": {},
       "data": "<div class=\"ansiout\"></div>",
       "datasetInfos": [],
       "removedWidgets": [],
       "type": "html"
      }
     },
     "output_type": "display_data"
    }
   ],
   "source": [
    "#import findspark\n",
    "import pyspark\n",
    "\n",
    "#findspark.init()\n",
    "\n",
    "spark = pyspark.sql.SparkSession.builder \\\n",
    "        .master('local') \\\n",
    "        .appName('Aggregates with PySpark') \\\n",
    "        .getOrCreate()\n",
    "\n",
    "sc = spark.sparkContext"
   ]
  },
  {
   "cell_type": "markdown",
   "metadata": {
    "application/vnd.databricks.v1+cell": {
     "inputWidgets": {},
     "nuid": "d9f1aea9-4e6c-475a-a251-204efc41a5ac",
     "showTitle": false,
     "title": ""
    }
   },
   "source": [
    "# Aggregates\n",
    "\n",
    "In this notebook we will be using data from the [UCI Machine Learning Repository](https://archive.ics.uci.edu/ml/datasets/Online%20Retail).  \n",
    "We'll actually use [this version](https://www.kaggle.com/carrie1/ecommerce-data) of the dataset for convenience reasons (csv format)."
   ]
  },
  {
   "cell_type": "code",
   "execution_count": null,
   "metadata": {
    "application/vnd.databricks.v1+cell": {
     "inputWidgets": {},
     "nuid": "21026e05-b499-424a-9073-1b3cefab38e0",
     "showTitle": false,
     "title": ""
    }
   },
   "outputs": [
    {
     "data": {
      "text/html": [
       "<style scoped>\n",
       "  .ansiout {\n",
       "    display: block;\n",
       "    unicode-bidi: embed;\n",
       "    white-space: pre-wrap;\n",
       "    word-wrap: break-word;\n",
       "    word-break: break-all;\n",
       "    font-family: \"Source Code Pro\", \"Menlo\", monospace;;\n",
       "    font-size: 13px;\n",
       "    color: #555;\n",
       "    margin-left: 4px;\n",
       "    line-height: 19px;\n",
       "  }\n",
       "</style>\n",
       "<div class=\"ansiout\">Out[2]: PosixPath(&#39;../../../input/Online-Retail-Dataset/data.csv&#39;)</div>"
      ]
     },
     "metadata": {
      "application/vnd.databricks.v1+output": {
       "addedWidgets": {},
       "arguments": {},
       "data": "<div class=\"ansiout\">Out[2]: PosixPath(&#39;../../../input/Online-Retail-Dataset/data.csv&#39;)</div>",
       "datasetInfos": [],
       "removedWidgets": [],
       "type": "html"
      }
     },
     "output_type": "display_data"
    }
   ],
   "source": [
    "from pathlib import Path\n",
    "INPUT_PATH = Path(*['..'] * 3, 'input', 'Online-Retail-Dataset')\n",
    "filename = 'data.csv'\n",
    "filepath = INPUT_PATH / filename\n",
    "filepath"
   ]
  },
  {
   "cell_type": "code",
   "execution_count": null,
   "metadata": {
    "application/vnd.databricks.v1+cell": {
     "inputWidgets": {},
     "nuid": "b5ee0ceb-3f7d-456f-bf2a-f85ffd6c2068",
     "showTitle": false,
     "title": ""
    }
   },
   "outputs": [
    {
     "data": {
      "text/html": [
       "<style scoped>\n",
       "  .ansiout {\n",
       "    display: block;\n",
       "    unicode-bidi: embed;\n",
       "    white-space: pre-wrap;\n",
       "    word-wrap: break-word;\n",
       "    word-break: break-all;\n",
       "    font-family: \"Source Code Pro\", \"Menlo\", monospace;;\n",
       "    font-size: 13px;\n",
       "    color: #555;\n",
       "    margin-left: 4px;\n",
       "    line-height: 19px;\n",
       "  }\n",
       "</style>\n",
       "<div class=\"ansiout\">root\n",
       "-- InvoiceNo: string (nullable = true)\n",
       "-- StockCode: string (nullable = true)\n",
       "-- Description: string (nullable = true)\n",
       "-- Quantity: integer (nullable = true)\n",
       "-- InvoiceDate: string (nullable = true)\n",
       "-- UnitPrice: double (nullable = true)\n",
       "-- CustomerID: integer (nullable = true)\n",
       "-- Country: string (nullable = true)\n",
       "\n",
       "Shape: (541909, 8)\n",
       "+---------+---------+--------------------+--------+--------------+---------+----------+--------------+\n",
       "InvoiceNo|StockCode|         Description|Quantity|   InvoiceDate|UnitPrice|CustomerID|       Country|\n",
       "+---------+---------+--------------------+--------+--------------+---------+----------+--------------+\n",
       "   536365|   85123A|WHITE HANGING HEA...|       6|12/1/2010 8:26|     2.55|     17850|United Kingdom|\n",
       "   536365|    71053| WHITE METAL LANTERN|       6|12/1/2010 8:26|     3.39|     17850|United Kingdom|\n",
       "   536365|   84406B|CREAM CUPID HEART...|       8|12/1/2010 8:26|     2.75|     17850|United Kingdom|\n",
       "   536365|   84029G|KNITTED UNION FLA...|       6|12/1/2010 8:26|     3.39|     17850|United Kingdom|\n",
       "   536365|   84029E|RED WOOLLY HOTTIE...|       6|12/1/2010 8:26|     3.39|     17850|United Kingdom|\n",
       "+---------+---------+--------------------+--------+--------------+---------+----------+--------------+\n",
       "only showing top 5 rows\n",
       "\n",
       "</div>"
      ]
     },
     "metadata": {
      "application/vnd.databricks.v1+output": {
       "addedWidgets": {},
       "arguments": {},
       "data": "<div class=\"ansiout\">root\n |-- InvoiceNo: string (nullable = true)\n |-- StockCode: string (nullable = true)\n |-- Description: string (nullable = true)\n |-- Quantity: integer (nullable = true)\n |-- InvoiceDate: string (nullable = true)\n |-- UnitPrice: double (nullable = true)\n |-- CustomerID: integer (nullable = true)\n |-- Country: string (nullable = true)\n\nShape: (541909, 8)\n+---------+---------+--------------------+--------+--------------+---------+----------+--------------+\n|InvoiceNo|StockCode|         Description|Quantity|   InvoiceDate|UnitPrice|CustomerID|       Country|\n+---------+---------+--------------------+--------+--------------+---------+----------+--------------+\n|   536365|   85123A|WHITE HANGING HEA...|       6|12/1/2010 8:26|     2.55|     17850|United Kingdom|\n|   536365|    71053| WHITE METAL LANTERN|       6|12/1/2010 8:26|     3.39|     17850|United Kingdom|\n|   536365|   84406B|CREAM CUPID HEART...|       8|12/1/2010 8:26|     2.75|     17850|United Kingdom|\n|   536365|   84029G|KNITTED UNION FLA...|       6|12/1/2010 8:26|     3.39|     17850|United Kingdom|\n|   536365|   84029E|RED WOOLLY HOTTIE...|       6|12/1/2010 8:26|     3.39|     17850|United Kingdom|\n+---------+---------+--------------------+--------+--------------+---------+----------+--------------+\nonly showing top 5 rows\n\n</div>",
       "datasetInfos": [],
       "removedWidgets": [],
       "type": "html"
      }
     },
     "output_type": "display_data"
    }
   ],
   "source": [
    "sales = spark.read.format(\"csv\").options(inferSchema=True, header=True).load(\"dbfs:/FileStore/shared_uploads/thibaudchevrier@gmail.com/data.csv\")\n",
    "sales.printSchema()\n",
    "print(\"Shape:\", (sales.count(), len(sales.columns)))\n",
    "sales.show(5)"
   ]
  },
  {
   "cell_type": "markdown",
   "metadata": {
    "application/vnd.databricks.v1+cell": {
     "inputWidgets": {},
     "nuid": "510f2bf7-80dc-47bf-b824-4d565ece48e5",
     "showTitle": false,
     "title": ""
    }
   },
   "source": [
    "Before we get started, let's import PySpark's SQL functions."
   ]
  },
  {
   "cell_type": "code",
   "execution_count": null,
   "metadata": {
    "application/vnd.databricks.v1+cell": {
     "inputWidgets": {},
     "nuid": "f3e324b0-37e4-4c40-b9bb-b59222ce682e",
     "showTitle": false,
     "title": ""
    }
   },
   "outputs": [
    {
     "data": {
      "text/html": [
       "<style scoped>\n",
       "  .ansiout {\n",
       "    display: block;\n",
       "    unicode-bidi: embed;\n",
       "    white-space: pre-wrap;\n",
       "    word-wrap: break-word;\n",
       "    word-break: break-all;\n",
       "    font-family: \"Source Code Pro\", \"Menlo\", monospace;;\n",
       "    font-size: 13px;\n",
       "    color: #555;\n",
       "    margin-left: 4px;\n",
       "    line-height: 19px;\n",
       "  }\n",
       "</style>\n",
       "<div class=\"ansiout\"></div>"
      ]
     },
     "metadata": {
      "application/vnd.databricks.v1+output": {
       "addedWidgets": {},
       "arguments": {},
       "data": "<div class=\"ansiout\"></div>",
       "datasetInfos": [],
       "removedWidgets": [],
       "type": "html"
      }
     },
     "output_type": "display_data"
    }
   ],
   "source": [
    "from pyspark.sql import functions as F"
   ]
  },
  {
   "cell_type": "markdown",
   "metadata": {
    "application/vnd.databricks.v1+cell": {
     "inputWidgets": {},
     "nuid": "a4db512e-ab0e-4e70-94ee-6e88439be9ea",
     "showTitle": false,
     "title": ""
    }
   },
   "source": [
    "We're **ready to roll!**"
   ]
  },
  {
   "cell_type": "markdown",
   "metadata": {
    "application/vnd.databricks.v1+cell": {
     "inputWidgets": {},
     "nuid": "7a4274bc-72b3-4d82-b590-a22eb93573b4",
     "showTitle": false,
     "title": ""
    }
   },
   "source": [
    "What's the type of `sales.groupBy('CustomerID')`?"
   ]
  },
  {
   "cell_type": "code",
   "execution_count": null,
   "metadata": {
    "application/vnd.databricks.v1+cell": {
     "inputWidgets": {},
     "nuid": "49552346-8f6f-47f1-bdb9-4424b1b26e8d",
     "showTitle": false,
     "title": ""
    }
   },
   "outputs": [
    {
     "data": {
      "text/html": [
       "<style scoped>\n",
       "  .ansiout {\n",
       "    display: block;\n",
       "    unicode-bidi: embed;\n",
       "    white-space: pre-wrap;\n",
       "    word-wrap: break-word;\n",
       "    word-break: break-all;\n",
       "    font-family: \"Source Code Pro\", \"Menlo\", monospace;;\n",
       "    font-size: 13px;\n",
       "    color: #555;\n",
       "    margin-left: 4px;\n",
       "    line-height: 19px;\n",
       "  }\n",
       "</style>\n",
       "<div class=\"ansiout\">Out[7]: pyspark.sql.group.GroupedData</div>"
      ]
     },
     "metadata": {
      "application/vnd.databricks.v1+output": {
       "addedWidgets": {},
       "arguments": {},
       "data": "<div class=\"ansiout\">Out[7]: pyspark.sql.group.GroupedData</div>",
       "datasetInfos": [],
       "removedWidgets": [],
       "type": "html"
      }
     },
     "output_type": "display_data"
    }
   ],
   "source": [
    "type(sales.groupBy('CustomerID'))"
   ]
  },
  {
   "cell_type": "markdown",
   "metadata": {
    "application/vnd.databricks.v1+cell": {
     "inputWidgets": {},
     "nuid": "71d425cc-4439-481b-9d99-9e04969d4aa1",
     "showTitle": false,
     "title": ""
    }
   },
   "source": [
    "A `GroupedData`, here's the link to the [documentation](https://spark.apache.org/docs/2.1.0/api/python/pyspark.sql.html#pyspark.sql.GroupedData).\n",
    "\n",
    "We'll go through what we can do with this."
   ]
  },
  {
   "cell_type": "markdown",
   "metadata": {
    "application/vnd.databricks.v1+cell": {
     "inputWidgets": {},
     "nuid": "4be0d68a-cc93-42f3-92a0-e02c5fb6eb28",
     "showTitle": false,
     "title": ""
    }
   },
   "source": [
    "Compute the average of all numeric columns with `.avg()`"
   ]
  },
  {
   "cell_type": "code",
   "execution_count": null,
   "metadata": {
    "application/vnd.databricks.v1+cell": {
     "inputWidgets": {},
     "nuid": "b79be047-2b3c-4eba-9dd9-713936352041",
     "showTitle": false,
     "title": ""
    }
   },
   "outputs": [
    {
     "data": {
      "text/html": [
       "<style scoped>\n",
       "  .ansiout {\n",
       "    display: block;\n",
       "    unicode-bidi: embed;\n",
       "    white-space: pre-wrap;\n",
       "    word-wrap: break-word;\n",
       "    word-break: break-all;\n",
       "    font-family: \"Source Code Pro\", \"Menlo\", monospace;;\n",
       "    font-size: 13px;\n",
       "    color: #555;\n",
       "    margin-left: 4px;\n",
       "    line-height: 19px;\n",
       "  }\n",
       "</style>\n",
       "<div class=\"ansiout\">+----------+------------------+------------------+---------------+\n",
       "CustomerID|     avg(Quantity)|    avg(UnitPrice)|avg(CustomerID)|\n",
       "+----------+------------------+------------------+---------------+\n",
       "     17420| 8.833333333333334| 3.881333333333332|        17420.0|\n",
       "     16861|            16.625|2.3412500000000005|        16861.0|\n",
       "     16503| 6.593023255813954| 4.198604651162791|        16503.0|\n",
       "     15727|10.149006622516556|3.2481456953642383|        15727.0|\n",
       "     17389|33.169642857142854|5.6855803571428565|        17389.0|\n",
       "+----------+------------------+------------------+---------------+\n",
       "only showing top 5 rows\n",
       "\n",
       "</div>"
      ]
     },
     "metadata": {
      "application/vnd.databricks.v1+output": {
       "addedWidgets": {},
       "arguments": {},
       "data": "<div class=\"ansiout\">+----------+------------------+------------------+---------------+\n|CustomerID|     avg(Quantity)|    avg(UnitPrice)|avg(CustomerID)|\n+----------+------------------+------------------+---------------+\n|     17420| 8.833333333333334| 3.881333333333332|        17420.0|\n|     16861|            16.625|2.3412500000000005|        16861.0|\n|     16503| 6.593023255813954| 4.198604651162791|        16503.0|\n|     15727|10.149006622516556|3.2481456953642383|        15727.0|\n|     17389|33.169642857142854|5.6855803571428565|        17389.0|\n+----------+------------------+------------------+---------------+\nonly showing top 5 rows\n\n</div>",
       "datasetInfos": [],
       "removedWidgets": [],
       "type": "html"
      }
     },
     "output_type": "display_data"
    }
   ],
   "source": [
    "sales.groupBy('CustomerID').avg().show(5)"
   ]
  },
  {
   "cell_type": "markdown",
   "metadata": {
    "application/vnd.databricks.v1+cell": {
     "inputWidgets": {},
     "nuid": "da12c348-7ce3-49ee-b6ef-b1e31fe28e6c",
     "showTitle": false,
     "title": ""
    }
   },
   "source": [
    "`.mean()` is an alias to `.avg()`"
   ]
  },
  {
   "cell_type": "code",
   "execution_count": null,
   "metadata": {
    "application/vnd.databricks.v1+cell": {
     "inputWidgets": {},
     "nuid": "88e474ce-3943-437f-b1fa-08120f4c336f",
     "showTitle": false,
     "title": ""
    }
   },
   "outputs": [
    {
     "data": {
      "text/html": [
       "<style scoped>\n",
       "  .ansiout {\n",
       "    display: block;\n",
       "    unicode-bidi: embed;\n",
       "    white-space: pre-wrap;\n",
       "    word-wrap: break-word;\n",
       "    word-break: break-all;\n",
       "    font-family: \"Source Code Pro\", \"Menlo\", monospace;;\n",
       "    font-size: 13px;\n",
       "    color: #555;\n",
       "    margin-left: 4px;\n",
       "    line-height: 19px;\n",
       "  }\n",
       "</style>\n",
       "<div class=\"ansiout\">+----------+------------------+------------------+---------------+\n",
       "CustomerID|     avg(Quantity)|    avg(UnitPrice)|avg(CustomerID)|\n",
       "+----------+------------------+------------------+---------------+\n",
       "     17420| 8.833333333333334| 3.881333333333332|        17420.0|\n",
       "     16861|            16.625|2.3412500000000005|        16861.0|\n",
       "     16503| 6.593023255813954| 4.198604651162791|        16503.0|\n",
       "     15727|10.149006622516556|3.2481456953642383|        15727.0|\n",
       "     17389|33.169642857142854|5.6855803571428565|        17389.0|\n",
       "     15447| 9.444444444444445|3.1211111111111114|        15447.0|\n",
       "     14450|             6.025|2.7905000000000006|        14450.0|\n",
       "     15100| 9.666666666666666|10.950000000000001|        15100.0|\n",
       "     12471|              15.0| 4.269058380414311|        12471.0|\n",
       "     16916| 3.076923076923077|  2.22041958041958|        16916.0|\n",
       "     14514| 8.068493150684931|3.2264383561643846|        14514.0|\n",
       "     16500|11.181818181818182|             17.12|        16500.0|\n",
       "     12626|10.912052117263844| 2.840390879478826|        12626.0|\n",
       "     18161|              10.0| 3.631604938271605|        18161.0|\n",
       "     15967| 2.511904761904762|2.8676190476190477|        15967.0|\n",
       "     17809|         31.484375|14.018593750000003|        17809.0|\n",
       "     15738|16.857954545454547| 2.118295454545455|        15738.0|\n",
       "     17044|              48.7|3.8419999999999996|        17044.0|\n",
       "     12393|             12.75|         2.2796875|        12393.0|\n",
       "     16791| 2.357142857142857| 2.928975155279503|        16791.0|\n",
       "+----------+------------------+------------------+---------------+\n",
       "only showing top 20 rows\n",
       "\n",
       "</div>"
      ]
     },
     "metadata": {
      "application/vnd.databricks.v1+output": {
       "addedWidgets": {},
       "arguments": {},
       "data": "<div class=\"ansiout\">+----------+------------------+------------------+---------------+\n|CustomerID|     avg(Quantity)|    avg(UnitPrice)|avg(CustomerID)|\n+----------+------------------+------------------+---------------+\n|     17420| 8.833333333333334| 3.881333333333332|        17420.0|\n|     16861|            16.625|2.3412500000000005|        16861.0|\n|     16503| 6.593023255813954| 4.198604651162791|        16503.0|\n|     15727|10.149006622516556|3.2481456953642383|        15727.0|\n|     17389|33.169642857142854|5.6855803571428565|        17389.0|\n|     15447| 9.444444444444445|3.1211111111111114|        15447.0|\n|     14450|             6.025|2.7905000000000006|        14450.0|\n|     15100| 9.666666666666666|10.950000000000001|        15100.0|\n|     12471|              15.0| 4.269058380414311|        12471.0|\n|     16916| 3.076923076923077|  2.22041958041958|        16916.0|\n|     14514| 8.068493150684931|3.2264383561643846|        14514.0|\n|     16500|11.181818181818182|             17.12|        16500.0|\n|     12626|10.912052117263844| 2.840390879478826|        12626.0|\n|     18161|              10.0| 3.631604938271605|        18161.0|\n|     15967| 2.511904761904762|2.8676190476190477|        15967.0|\n|     17809|         31.484375|14.018593750000003|        17809.0|\n|     15738|16.857954545454547| 2.118295454545455|        15738.0|\n|     17044|              48.7|3.8419999999999996|        17044.0|\n|     12393|             12.75|         2.2796875|        12393.0|\n|     16791| 2.357142857142857| 2.928975155279503|        16791.0|\n+----------+------------------+------------------+---------------+\nonly showing top 20 rows\n\n</div>",
       "datasetInfos": [],
       "removedWidgets": [],
       "type": "html"
      }
     },
     "output_type": "display_data"
    }
   ],
   "source": [
    "sales.groupBy('CustomerID').mean().show()"
   ]
  },
  {
   "cell_type": "markdown",
   "metadata": {
    "application/vnd.databricks.v1+cell": {
     "inputWidgets": {},
     "nuid": "9fd81be2-e836-42fb-8571-54b1d4b77307",
     "showTitle": false,
     "title": ""
    }
   },
   "source": [
    "`.sum()`"
   ]
  },
  {
   "cell_type": "code",
   "execution_count": null,
   "metadata": {
    "application/vnd.databricks.v1+cell": {
     "inputWidgets": {},
     "nuid": "54af2bd4-dbb2-4b05-943b-522bad991c1f",
     "showTitle": false,
     "title": ""
    }
   },
   "outputs": [
    {
     "data": {
      "text/html": [
       "<style scoped>\n",
       "  .ansiout {\n",
       "    display: block;\n",
       "    unicode-bidi: embed;\n",
       "    white-space: pre-wrap;\n",
       "    word-wrap: break-word;\n",
       "    word-break: break-all;\n",
       "    font-family: \"Source Code Pro\", \"Menlo\", monospace;;\n",
       "    font-size: 13px;\n",
       "    color: #555;\n",
       "    margin-left: 4px;\n",
       "    line-height: 19px;\n",
       "  }\n",
       "</style>\n",
       "<div class=\"ansiout\">+----------+-------------+------------------+---------------+\n",
       "customerID|sum(Quantity)|    sum(UnitPrice)|sum(CustomerID)|\n",
       "+----------+-------------+------------------+---------------+\n",
       "     17420|          265|116.43999999999997|         522600|\n",
       "     16861|          133|18.730000000000004|         134888|\n",
       "     16503|          567|            361.08|        1419258|\n",
       "     15727|         3065| 980.9399999999999|        4749554|\n",
       "     17389|         7430|           1273.57|        3895136|\n",
       "+----------+-------------+------------------+---------------+\n",
       "only showing top 5 rows\n",
       "\n",
       "</div>"
      ]
     },
     "metadata": {
      "application/vnd.databricks.v1+output": {
       "addedWidgets": {},
       "arguments": {},
       "data": "<div class=\"ansiout\">+----------+-------------+------------------+---------------+\n|customerID|sum(Quantity)|    sum(UnitPrice)|sum(CustomerID)|\n+----------+-------------+------------------+---------------+\n|     17420|          265|116.43999999999997|         522600|\n|     16861|          133|18.730000000000004|         134888|\n|     16503|          567|            361.08|        1419258|\n|     15727|         3065| 980.9399999999999|        4749554|\n|     17389|         7430|           1273.57|        3895136|\n+----------+-------------+------------------+---------------+\nonly showing top 5 rows\n\n</div>",
       "datasetInfos": [],
       "removedWidgets": [],
       "type": "html"
      }
     },
     "output_type": "display_data"
    }
   ],
   "source": [
    "sales.groupBy('customerID').sum().show(5)"
   ]
  },
  {
   "cell_type": "markdown",
   "metadata": {
    "application/vnd.databricks.v1+cell": {
     "inputWidgets": {},
     "nuid": "0179ec9c-66f1-4a6f-b15b-5b8de18a9432",
     "showTitle": false,
     "title": ""
    }
   },
   "source": [
    "We can select a specific column"
   ]
  },
  {
   "cell_type": "code",
   "execution_count": null,
   "metadata": {
    "application/vnd.databricks.v1+cell": {
     "inputWidgets": {},
     "nuid": "249c8dd3-0eb8-479b-86c2-75f1737575d7",
     "showTitle": false,
     "title": ""
    }
   },
   "outputs": [
    {
     "data": {
      "text/html": [
       "<style scoped>\n",
       "  .ansiout {\n",
       "    display: block;\n",
       "    unicode-bidi: embed;\n",
       "    white-space: pre-wrap;\n",
       "    word-wrap: break-word;\n",
       "    word-break: break-all;\n",
       "    font-family: \"Source Code Pro\", \"Menlo\", monospace;;\n",
       "    font-size: 13px;\n",
       "    color: #555;\n",
       "    margin-left: 4px;\n",
       "    line-height: 19px;\n",
       "  }\n",
       "</style>\n",
       "<div class=\"ansiout\">+----------+------------------+\n",
       "customerID|     avg(Quantity)|\n",
       "+----------+------------------+\n",
       "     17420| 8.833333333333334|\n",
       "     16861|            16.625|\n",
       "     16503| 6.593023255813954|\n",
       "     15727|10.149006622516556|\n",
       "     17389|33.169642857142854|\n",
       "+----------+------------------+\n",
       "only showing top 5 rows\n",
       "\n",
       "</div>"
      ]
     },
     "metadata": {
      "application/vnd.databricks.v1+output": {
       "addedWidgets": {},
       "arguments": {},
       "data": "<div class=\"ansiout\">+----------+------------------+\n|customerID|     avg(Quantity)|\n+----------+------------------+\n|     17420| 8.833333333333334|\n|     16861|            16.625|\n|     16503| 6.593023255813954|\n|     15727|10.149006622516556|\n|     17389|33.169642857142854|\n+----------+------------------+\nonly showing top 5 rows\n\n</div>",
       "datasetInfos": [],
       "removedWidgets": [],
       "type": "html"
      }
     },
     "output_type": "display_data"
    }
   ],
   "source": [
    "sales.groupBy('customerID').mean('Quantity').show(5)"
   ]
  },
  {
   "cell_type": "markdown",
   "metadata": {
    "application/vnd.databricks.v1+cell": {
     "inputWidgets": {},
     "nuid": "06b31d97-b818-4e5a-a6a5-34d2671b19da",
     "showTitle": false,
     "title": ""
    }
   },
   "source": [
    "or more"
   ]
  },
  {
   "cell_type": "code",
   "execution_count": null,
   "metadata": {
    "application/vnd.databricks.v1+cell": {
     "inputWidgets": {},
     "nuid": "52eed6b8-478f-4562-8b15-b2bd41827d25",
     "showTitle": false,
     "title": ""
    }
   },
   "outputs": [
    {
     "data": {
      "text/html": [
       "<style scoped>\n",
       "  .ansiout {\n",
       "    display: block;\n",
       "    unicode-bidi: embed;\n",
       "    white-space: pre-wrap;\n",
       "    word-wrap: break-word;\n",
       "    word-break: break-all;\n",
       "    font-family: \"Source Code Pro\", \"Menlo\", monospace;;\n",
       "    font-size: 13px;\n",
       "    color: #555;\n",
       "    margin-left: 4px;\n",
       "    line-height: 19px;\n",
       "  }\n",
       "</style>\n",
       "<div class=\"ansiout\">+----------+------------------+------------------+\n",
       "customerID|     avg(Quantity)|    avg(UnitPrice)|\n",
       "+----------+------------------+------------------+\n",
       "     17420| 8.833333333333334| 3.881333333333332|\n",
       "     16861|            16.625|2.3412500000000005|\n",
       "     16503| 6.593023255813954| 4.198604651162791|\n",
       "     15727|10.149006622516556|3.2481456953642383|\n",
       "     17389|33.169642857142854|5.6855803571428565|\n",
       "+----------+------------------+------------------+\n",
       "only showing top 5 rows\n",
       "\n",
       "</div>"
      ]
     },
     "metadata": {
      "application/vnd.databricks.v1+output": {
       "addedWidgets": {},
       "arguments": {},
       "data": "<div class=\"ansiout\">+----------+------------------+------------------+\n|customerID|     avg(Quantity)|    avg(UnitPrice)|\n+----------+------------------+------------------+\n|     17420| 8.833333333333334| 3.881333333333332|\n|     16861|            16.625|2.3412500000000005|\n|     16503| 6.593023255813954| 4.198604651162791|\n|     15727|10.149006622516556|3.2481456953642383|\n|     17389|33.169642857142854|5.6855803571428565|\n+----------+------------------+------------------+\nonly showing top 5 rows\n\n</div>",
       "datasetInfos": [],
       "removedWidgets": [],
       "type": "html"
      }
     },
     "output_type": "display_data"
    }
   ],
   "source": [
    "sales.groupBy('customerID').mean('Quantity', 'UnitPrice').show(5)"
   ]
  },
  {
   "cell_type": "markdown",
   "metadata": {
    "application/vnd.databricks.v1+cell": {
     "inputWidgets": {},
     "nuid": "86a28907-3e90-4b85-a03f-a3cb25606f27",
     "showTitle": false,
     "title": ""
    }
   },
   "source": [
    "Won't work with a list, a tuple or a generator.  \n",
    "These need to be ***unpacked**."
   ]
  },
  {
   "cell_type": "code",
   "execution_count": null,
   "metadata": {
    "application/vnd.databricks.v1+cell": {
     "inputWidgets": {},
     "nuid": "f37aa08a-605a-4dd1-a61b-6cb6711542c0",
     "showTitle": false,
     "title": ""
    }
   },
   "outputs": [
    {
     "data": {
      "text/html": [
       "<style scoped>\n",
       "  .ansiout {\n",
       "    display: block;\n",
       "    unicode-bidi: embed;\n",
       "    white-space: pre-wrap;\n",
       "    word-wrap: break-word;\n",
       "    word-break: break-all;\n",
       "    font-family: \"Source Code Pro\", \"Menlo\", monospace;;\n",
       "    font-size: 13px;\n",
       "    color: #555;\n",
       "    margin-left: 4px;\n",
       "    line-height: 19px;\n",
       "  }\n",
       "</style>\n",
       "<div class=\"ansiout\">+----------+-------------+------------------+\n",
       "customerID|sum(Quantity)|    sum(UnitPrice)|\n",
       "+----------+-------------+------------------+\n",
       "     17420|          265|116.43999999999997|\n",
       "     16861|          133|18.730000000000004|\n",
       "     16503|          567|            361.08|\n",
       "     15727|         3065| 980.9399999999999|\n",
       "     17389|         7430|           1273.57|\n",
       "+----------+-------------+------------------+\n",
       "only showing top 5 rows\n",
       "\n",
       "</div>"
      ]
     },
     "metadata": {
      "application/vnd.databricks.v1+output": {
       "addedWidgets": {},
       "arguments": {},
       "data": "<div class=\"ansiout\">+----------+-------------+------------------+\n|customerID|sum(Quantity)|    sum(UnitPrice)|\n+----------+-------------+------------------+\n|     17420|          265|116.43999999999997|\n|     16861|          133|18.730000000000004|\n|     16503|          567|            361.08|\n|     15727|         3065| 980.9399999999999|\n|     17389|         7430|           1273.57|\n+----------+-------------+------------------+\nonly showing top 5 rows\n\n</div>",
       "datasetInfos": [],
       "removedWidgets": [],
       "type": "html"
      }
     },
     "output_type": "display_data"
    }
   ],
   "source": [
    "# This will fail without unpacking\n",
    "sales.groupBy('customerID').sum(*('Quantity', 'UnitPrice')).show(5)"
   ]
  },
  {
   "cell_type": "markdown",
   "metadata": {
    "application/vnd.databricks.v1+cell": {
     "inputWidgets": {},
     "nuid": "d65a9c10-20a3-4e50-8f51-26f7efefc07c",
     "showTitle": false,
     "title": ""
    }
   },
   "source": [
    "`count()` is a bit different, it doesn't apply to any column, it count the number of rows in the DataFrame.  \n",
    "This is different from pandas, where `.count()` count the number of non-null values."
   ]
  },
  {
   "cell_type": "code",
   "execution_count": null,
   "metadata": {
    "application/vnd.databricks.v1+cell": {
     "inputWidgets": {},
     "nuid": "79a55626-1eff-4f94-84e0-fa1f5abab93d",
     "showTitle": false,
     "title": ""
    }
   },
   "outputs": [
    {
     "data": {
      "text/html": [
       "<style scoped>\n",
       "  .ansiout {\n",
       "    display: block;\n",
       "    unicode-bidi: embed;\n",
       "    white-space: pre-wrap;\n",
       "    word-wrap: break-word;\n",
       "    word-break: break-all;\n",
       "    font-family: \"Source Code Pro\", \"Menlo\", monospace;;\n",
       "    font-size: 13px;\n",
       "    color: #555;\n",
       "    margin-left: 4px;\n",
       "    line-height: 19px;\n",
       "  }\n",
       "</style>\n",
       "<div class=\"ansiout\">+----------+-----+\n",
       "customerID|count|\n",
       "+----------+-----+\n",
       "     17420|   30|\n",
       "     16861|    8|\n",
       "     16503|   86|\n",
       "     15727|  302|\n",
       "     17389|  224|\n",
       "+----------+-----+\n",
       "only showing top 5 rows\n",
       "\n",
       "</div>"
      ]
     },
     "metadata": {
      "application/vnd.databricks.v1+output": {
       "addedWidgets": {},
       "arguments": {},
       "data": "<div class=\"ansiout\">+----------+-----+\n|customerID|count|\n+----------+-----+\n|     17420|   30|\n|     16861|    8|\n|     16503|   86|\n|     15727|  302|\n|     17389|  224|\n+----------+-----+\nonly showing top 5 rows\n\n</div>",
       "datasetInfos": [],
       "removedWidgets": [],
       "type": "html"
      }
     },
     "output_type": "display_data"
    }
   ],
   "source": [
    "sales.groupBy('customerID').count().show(5)"
   ]
  },
  {
   "cell_type": "markdown",
   "metadata": {
    "application/vnd.databricks.v1+cell": {
     "inputWidgets": {},
     "nuid": "869ac60a-3d07-4873-ad71-3f8d9fc3a0cf",
     "showTitle": false,
     "title": ""
    }
   },
   "source": [
    "Other aggregation functions include: `.max()`, `.min()` and `.pivot()`."
   ]
  },
  {
   "cell_type": "markdown",
   "metadata": {
    "application/vnd.databricks.v1+cell": {
     "inputWidgets": {},
     "nuid": "1152c955-0358-42c0-b311-e5fbefe93b75",
     "showTitle": false,
     "title": ""
    }
   },
   "source": [
    "And a last one: `.agg()`. This one is a bit meta, it will compute the aggregate of a function given as parameter.  \n",
    "From the [Documentation](https://spark.apache.org/docs/2.1.0/api/python/pyspark.sql.html#pyspark.sql.GroupedData.agg)\n",
    "\n",
    "> The available aggregate functions are `avg`, `max`, `min`, `sum`, `count`."
   ]
  },
  {
   "cell_type": "markdown",
   "metadata": {
    "application/vnd.databricks.v1+cell": {
     "inputWidgets": {},
     "nuid": "1d40106e-a67f-4136-afa7-cc5d4542a2cd",
     "showTitle": false,
     "title": ""
    }
   },
   "source": [
    "1. If exprs is a single dict mapping from string to string, then the key is the column to perform aggregation on, and the value is the aggregate function."
   ]
  },
  {
   "cell_type": "code",
   "execution_count": null,
   "metadata": {
    "application/vnd.databricks.v1+cell": {
     "inputWidgets": {},
     "nuid": "617343d6-037c-46e6-863d-53cc2ee03dca",
     "showTitle": false,
     "title": ""
    }
   },
   "outputs": [
    {
     "data": {
      "text/html": [
       "<style scoped>\n",
       "  .ansiout {\n",
       "    display: block;\n",
       "    unicode-bidi: embed;\n",
       "    white-space: pre-wrap;\n",
       "    word-wrap: break-word;\n",
       "    word-break: break-all;\n",
       "    font-family: \"Source Code Pro\", \"Menlo\", monospace;;\n",
       "    font-size: 13px;\n",
       "    color: #555;\n",
       "    margin-left: 4px;\n",
       "    line-height: 19px;\n",
       "  }\n",
       "</style>\n",
       "<div class=\"ansiout\">+----------+------------------+------------------+\n",
       "customerId|    sum(UnitPrice)|     avg(Quantity)|\n",
       "+----------+------------------+------------------+\n",
       "     17420|116.43999999999997| 8.833333333333334|\n",
       "     16861|18.730000000000004|            16.625|\n",
       "     16503|            361.08| 6.593023255813954|\n",
       "     15727| 980.9399999999999|10.149006622516556|\n",
       "     17389|           1273.57|33.169642857142854|\n",
       "+----------+------------------+------------------+\n",
       "only showing top 5 rows\n",
       "\n",
       "</div>"
      ]
     },
     "metadata": {
      "application/vnd.databricks.v1+output": {
       "addedWidgets": {},
       "arguments": {},
       "data": "<div class=\"ansiout\">+----------+------------------+------------------+\n|customerId|    sum(UnitPrice)|     avg(Quantity)|\n+----------+------------------+------------------+\n|     17420|116.43999999999997| 8.833333333333334|\n|     16861|18.730000000000004|            16.625|\n|     16503|            361.08| 6.593023255813954|\n|     15727| 980.9399999999999|10.149006622516556|\n|     17389|           1273.57|33.169642857142854|\n+----------+------------------+------------------+\nonly showing top 5 rows\n\n</div>",
       "datasetInfos": [],
       "removedWidgets": [],
       "type": "html"
      }
     },
     "output_type": "display_data"
    }
   ],
   "source": [
    "agg_dict = {'Quantity': 'mean', 'UnitPrice': 'sum'}\n",
    "sales.groupBy('customerId').agg(agg_dict).show(5)"
   ]
  },
  {
   "cell_type": "markdown",
   "metadata": {
    "application/vnd.databricks.v1+cell": {
     "inputWidgets": {},
     "nuid": "0e268bb1-f464-4117-8097-f07053531898",
     "showTitle": false,
     "title": ""
    }
   },
   "source": [
    "Can use `'*'` if calling `.count()`. But not with others."
   ]
  },
  {
   "cell_type": "code",
   "execution_count": null,
   "metadata": {
    "application/vnd.databricks.v1+cell": {
     "inputWidgets": {},
     "nuid": "73ddda60-a72e-4215-bf57-be6c1c94369a",
     "showTitle": false,
     "title": ""
    }
   },
   "outputs": [
    {
     "data": {
      "text/html": [
       "<style scoped>\n",
       "  .ansiout {\n",
       "    display: block;\n",
       "    unicode-bidi: embed;\n",
       "    white-space: pre-wrap;\n",
       "    word-wrap: break-word;\n",
       "    word-break: break-all;\n",
       "    font-family: \"Source Code Pro\", \"Menlo\", monospace;;\n",
       "    font-size: 13px;\n",
       "    color: #555;\n",
       "    margin-left: 4px;\n",
       "    line-height: 19px;\n",
       "  }\n",
       "</style>\n",
       "<div class=\"ansiout\">+----------+--------+\n",
       "customerId|count(1)|\n",
       "+----------+--------+\n",
       "     17420|      30|\n",
       "     16861|       8|\n",
       "     16503|      86|\n",
       "     15727|     302|\n",
       "     17389|     224|\n",
       "+----------+--------+\n",
       "only showing top 5 rows\n",
       "\n",
       "</div>"
      ]
     },
     "metadata": {
      "application/vnd.databricks.v1+output": {
       "addedWidgets": {},
       "arguments": {},
       "data": "<div class=\"ansiout\">+----------+--------+\n|customerId|count(1)|\n+----------+--------+\n|     17420|      30|\n|     16861|       8|\n|     16503|      86|\n|     15727|     302|\n|     17389|     224|\n+----------+--------+\nonly showing top 5 rows\n\n</div>",
       "datasetInfos": [],
       "removedWidgets": [],
       "type": "html"
      }
     },
     "output_type": "display_data"
    }
   ],
   "source": [
    "sales.groupBy('customerId').agg({'*': 'count'}).show(5)"
   ]
  },
  {
   "cell_type": "markdown",
   "metadata": {
    "application/vnd.databricks.v1+cell": {
     "inputWidgets": {},
     "nuid": "31651947-b10f-4d8f-9758-557106de2ff7",
     "showTitle": false,
     "title": ""
    }
   },
   "source": [
    "2. Alternatively, exprs can also be a \"list\" of aggregate Column expressions.  \n",
    "This requires ***unpacking**"
   ]
  },
  {
   "cell_type": "code",
   "execution_count": null,
   "metadata": {
    "application/vnd.databricks.v1+cell": {
     "inputWidgets": {},
     "nuid": "c8487ba6-22e2-4907-b83d-63dbd550118c",
     "showTitle": false,
     "title": ""
    }
   },
   "outputs": [
    {
     "data": {
      "text/html": [
       "<style scoped>\n",
       "  .ansiout {\n",
       "    display: block;\n",
       "    unicode-bidi: embed;\n",
       "    white-space: pre-wrap;\n",
       "    word-wrap: break-word;\n",
       "    word-break: break-all;\n",
       "    font-family: \"Source Code Pro\", \"Menlo\", monospace;;\n",
       "    font-size: 13px;\n",
       "    color: #555;\n",
       "    margin-left: 4px;\n",
       "    line-height: 19px;\n",
       "  }\n",
       "</style>\n",
       "<div class=\"ansiout\">+----------+------------------+------------------+\n",
       "customerId|     avg(Quantity)|    sum(UnitPrice)|\n",
       "+----------+------------------+------------------+\n",
       "     17420| 8.833333333333334|116.43999999999997|\n",
       "     16861|            16.625|18.730000000000004|\n",
       "     16503| 6.593023255813954|            361.08|\n",
       "     15727|10.149006622516556| 980.9399999999999|\n",
       "     17389|33.169642857142854|           1273.57|\n",
       "     15447| 9.444444444444445|28.090000000000003|\n",
       "     14450|             6.025|111.62000000000002|\n",
       "     15100| 9.666666666666666|              65.7|\n",
       "     12471|              15.0| 2266.869999999999|\n",
       "     16916| 3.076923076923077|            317.52|\n",
       "     14514| 8.068493150684931| 235.5300000000001|\n",
       "     16500|11.181818181818182|            188.32|\n",
       "     12626|10.912052117263844| 871.9999999999995|\n",
       "     18161|              10.0|            294.16|\n",
       "     15967| 2.511904761904762|240.88000000000002|\n",
       "     17809|         31.484375| 897.1900000000002|\n",
       "     15738|16.857954545454547|372.82000000000005|\n",
       "     17044|              48.7|38.419999999999995|\n",
       "     12393|             12.75|             145.9|\n",
       "     16791| 2.357142857142857|            943.13|\n",
       "+----------+------------------+------------------+\n",
       "only showing top 20 rows\n",
       "\n",
       "</div>"
      ]
     },
     "metadata": {
      "application/vnd.databricks.v1+output": {
       "addedWidgets": {},
       "arguments": {},
       "data": "<div class=\"ansiout\">+----------+------------------+------------------+\n|customerId|     avg(Quantity)|    sum(UnitPrice)|\n+----------+------------------+------------------+\n|     17420| 8.833333333333334|116.43999999999997|\n|     16861|            16.625|18.730000000000004|\n|     16503| 6.593023255813954|            361.08|\n|     15727|10.149006622516556| 980.9399999999999|\n|     17389|33.169642857142854|           1273.57|\n|     15447| 9.444444444444445|28.090000000000003|\n|     14450|             6.025|111.62000000000002|\n|     15100| 9.666666666666666|              65.7|\n|     12471|              15.0| 2266.869999999999|\n|     16916| 3.076923076923077|            317.52|\n|     14514| 8.068493150684931| 235.5300000000001|\n|     16500|11.181818181818182|            188.32|\n|     12626|10.912052117263844| 871.9999999999995|\n|     18161|              10.0|            294.16|\n|     15967| 2.511904761904762|240.88000000000002|\n|     17809|         31.484375| 897.1900000000002|\n|     15738|16.857954545454547|372.82000000000005|\n|     17044|              48.7|38.419999999999995|\n|     12393|             12.75|             145.9|\n|     16791| 2.357142857142857|            943.13|\n+----------+------------------+------------------+\nonly showing top 20 rows\n\n</div>",
       "datasetInfos": [],
       "removedWidgets": [],
       "type": "html"
      }
     },
     "output_type": "display_data"
    }
   ],
   "source": [
    "agg_exprs = [F.mean('Quantity'), F.sum('UnitPrice')]\n",
    "sales.groupBy('customerId').agg(*agg_exprs).show()"
   ]
  },
  {
   "cell_type": "markdown",
   "metadata": {
    "application/vnd.databricks.v1+cell": {
     "inputWidgets": {},
     "nuid": "c7ff3555-e93a-4794-8d65-d8ed769dcc51",
     "showTitle": false,
     "title": ""
    }
   },
   "source": [
    "Now, you can alias, and that's because `.alias()` also returns a _Column Expression_."
   ]
  },
  {
   "cell_type": "code",
   "execution_count": null,
   "metadata": {
    "application/vnd.databricks.v1+cell": {
     "inputWidgets": {},
     "nuid": "a55aabb9-1631-4cae-a46f-47b956d977f1",
     "showTitle": false,
     "title": ""
    }
   },
   "outputs": [
    {
     "data": {
      "text/html": [
       "<style scoped>\n",
       "  .ansiout {\n",
       "    display: block;\n",
       "    unicode-bidi: embed;\n",
       "    white-space: pre-wrap;\n",
       "    word-wrap: break-word;\n",
       "    word-break: break-all;\n",
       "    font-family: \"Source Code Pro\", \"Menlo\", monospace;;\n",
       "    font-size: 13px;\n",
       "    color: #555;\n",
       "    margin-left: 4px;\n",
       "    line-height: 19px;\n",
       "  }\n",
       "</style>\n",
       "<div class=\"ansiout\">Out[20]: pyspark.sql.column.Column</div>"
      ]
     },
     "metadata": {
      "application/vnd.databricks.v1+output": {
       "addedWidgets": {},
       "arguments": {},
       "data": "<div class=\"ansiout\">Out[20]: pyspark.sql.column.Column</div>",
       "datasetInfos": [],
       "removedWidgets": [],
       "type": "html"
      }
     },
     "output_type": "display_data"
    }
   ],
   "source": [
    "type(F.mean('Quantity').alias('meanQuantity'))"
   ]
  },
  {
   "cell_type": "code",
   "execution_count": null,
   "metadata": {
    "application/vnd.databricks.v1+cell": {
     "inputWidgets": {},
     "nuid": "6e05c62a-358f-42e1-8a79-2b8bcd0380dc",
     "showTitle": false,
     "title": ""
    }
   },
   "outputs": [
    {
     "data": {
      "text/html": [
       "<style scoped>\n",
       "  .ansiout {\n",
       "    display: block;\n",
       "    unicode-bidi: embed;\n",
       "    white-space: pre-wrap;\n",
       "    word-wrap: break-word;\n",
       "    word-break: break-all;\n",
       "    font-family: \"Source Code Pro\", \"Menlo\", monospace;;\n",
       "    font-size: 13px;\n",
       "    color: #555;\n",
       "    margin-left: 4px;\n",
       "    line-height: 19px;\n",
       "  }\n",
       "</style>\n",
       "<div class=\"ansiout\">+----------+------------------+------------------+\n",
       "customerId|      meanQuantity|        totalPrice|\n",
       "+----------+------------------+------------------+\n",
       "     17420| 8.833333333333334|116.43999999999997|\n",
       "     16861|            16.625|18.730000000000004|\n",
       "     16503| 6.593023255813954|            361.08|\n",
       "     15727|10.149006622516556| 980.9399999999999|\n",
       "     17389|33.169642857142854|           1273.57|\n",
       "+----------+------------------+------------------+\n",
       "only showing top 5 rows\n",
       "\n",
       "</div>"
      ]
     },
     "metadata": {
      "application/vnd.databricks.v1+output": {
       "addedWidgets": {},
       "arguments": {},
       "data": "<div class=\"ansiout\">+----------+------------------+------------------+\n|customerId|      meanQuantity|        totalPrice|\n+----------+------------------+------------------+\n|     17420| 8.833333333333334|116.43999999999997|\n|     16861|            16.625|18.730000000000004|\n|     16503| 6.593023255813954|            361.08|\n|     15727|10.149006622516556| 980.9399999999999|\n|     17389|33.169642857142854|           1273.57|\n+----------+------------------+------------------+\nonly showing top 5 rows\n\n</div>",
       "datasetInfos": [],
       "removedWidgets": [],
       "type": "html"
      }
     },
     "output_type": "display_data"
    }
   ],
   "source": [
    "agg_exprs = [F.mean('Quantity'), F.sum('UnitPrice')]\n",
    "sales.groupBy('customerId').agg(\n",
    "    F.mean('Quantity').alias('meanQuantity'),\n",
    "    F.sum('UnitPrice').alias('totalPrice')\n",
    ").show(5)"
   ]
  }
 ],
 "metadata": {
  "application/vnd.databricks.v1+notebook": {
   "dashboards": [],
   "language": "python",
   "notebookName": "01-Aggregates",
   "notebookOrigID": 2306200648826208,
   "widgets": {}
  },
  "kernelspec": {
   "display_name": "Python 3",
   "language": "python",
   "name": "python3"
  },
  "language_info": {
   "codemirror_mode": {
    "name": "ipython",
    "version": 3
   },
   "file_extension": ".py",
   "mimetype": "text/x-python",
   "name": "python",
   "nbconvert_exporter": "python",
   "pygments_lexer": "ipython3",
   "version": "3.8.6"
  }
 },
 "nbformat": 4,
 "nbformat_minor": 4
}
