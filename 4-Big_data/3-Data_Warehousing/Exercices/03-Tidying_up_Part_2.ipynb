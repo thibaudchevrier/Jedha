{
 "cells": [
  {
   "cell_type": "markdown",
   "metadata": {
    "application/vnd.databricks.v1+cell": {
     "inputWidgets": {},
     "nuid": "5015bbc1-cc14-4e4f-966a-8bfc0b6e9fbb",
     "showTitle": false,
     "title": ""
    }
   },
   "source": [
    "# Tidying up our data - Part 2\n",
    "## Flattening a nested schema"
   ]
  },
  {
   "cell_type": "markdown",
   "metadata": {
    "application/vnd.databricks.v1+cell": {
     "inputWidgets": {},
     "nuid": "030a2ec9-9519-4785-b0b8-8f8fffc0468c",
     "showTitle": false,
     "title": ""
    }
   },
   "source": [
    "As usual, we'll start by loading the data.  \n",
    "Because we expect you to know how to setup things so that you can load data from S3, we're doing it for you now.  \n",
    "Make sure you go through our code and check that you were actually using our best practices."
   ]
  },
  {
   "cell_type": "code",
   "execution_count": null,
   "metadata": {
    "application/vnd.databricks.v1+cell": {
     "inputWidgets": {},
     "nuid": "145ebe2b-edf2-46f1-b07b-b5502ea35ae0",
     "showTitle": false,
     "title": ""
    }
   },
   "outputs": [
    {
     "data": {
      "text/html": [
       "<style scoped>\n",
       "  .ansiout {\n",
       "    display: block;\n",
       "    unicode-bidi: embed;\n",
       "    white-space: pre-wrap;\n",
       "    word-wrap: break-word;\n",
       "    word-break: break-all;\n",
       "    font-family: \"Source Code Pro\", \"Menlo\", monospace;;\n",
       "    font-size: 13px;\n",
       "    color: #555;\n",
       "    margin-left: 4px;\n",
       "    line-height: 19px;\n",
       "  }\n",
       "</style>\n",
       "<div class=\"ansiout\"></div>"
      ]
     },
     "metadata": {
      "application/vnd.databricks.v1+output": {
       "addedWidgets": {},
       "arguments": {},
       "data": "<style scoped>\n  .ansiout {\n    display: block;\n    unicode-bidi: embed;\n    white-space: pre-wrap;\n    word-wrap: break-word;\n    word-break: break-all;\n    font-family: \"Source Code Pro\", \"Menlo\", monospace;;\n    font-size: 13px;\n    color: #555;\n    margin-left: 4px;\n    line-height: 19px;\n  }\n</style>\n<div class=\"ansiout\"></div>",
       "datasetInfos": [],
       "removedWidgets": [],
       "textData": null,
       "type": "htmlSandbox"
      }
     },
     "output_type": "display_data"
    }
   ],
   "source": [
    "import boto3"
   ]
  },
  {
   "cell_type": "code",
   "execution_count": null,
   "metadata": {
    "application/vnd.databricks.v1+cell": {
     "inputWidgets": {},
     "nuid": "ea9992b6-5b78-4cff-a308-dde386e1ca6e",
     "showTitle": false,
     "title": ""
    }
   },
   "outputs": [
    {
     "data": {
      "text/html": [
       "<style scoped>\n",
       "  .ansiout {\n",
       "    display: block;\n",
       "    unicode-bidi: embed;\n",
       "    white-space: pre-wrap;\n",
       "    word-wrap: break-word;\n",
       "    word-break: break-all;\n",
       "    font-family: \"Source Code Pro\", \"Menlo\", monospace;;\n",
       "    font-size: 13px;\n",
       "    color: #555;\n",
       "    margin-left: 4px;\n",
       "    line-height: 19px;\n",
       "  }\n",
       "</style>\n",
       "<div class=\"ansiout\"></div>"
      ]
     },
     "metadata": {
      "application/vnd.databricks.v1+output": {
       "addedWidgets": {},
       "arguments": {},
       "data": "<div class=\"ansiout\"></div>",
       "datasetInfos": [],
       "removedWidgets": [],
       "type": "html"
      }
     },
     "output_type": "display_data"
    }
   ],
   "source": [
    "S3_RESOURCE = 's3'\n",
    "SCHEME = 's3a'\n",
    "ACCESS_KEY_ID = \"ACCESS_KEY_ID\" # cle du compte student\n",
    "SECRET_ACCESS_KEY = \"SECRET_ACCESS_KEY\" # secret key du compte student\n",
    "BUCKET_NAME = \"BUCKET_NAME\"\n",
    "PREFIX = \"Big_Data/YOUTUBE\"\n",
    "# TODO: set BUCKET_NAME and PREFIX\n",
    "### BEGIN STRIP ###\n",
    "\n",
    "### END STRIP ###\n",
    "OUTPUT_PATH = PREFIX + 'interim/'"
   ]
  },
  {
   "cell_type": "code",
   "execution_count": null,
   "metadata": {
    "application/vnd.databricks.v1+cell": {
     "inputWidgets": {},
     "nuid": "6c9cc0f7-4a37-4a5b-b6dd-ba3e4e8051dc",
     "showTitle": false,
     "title": ""
    }
   },
   "outputs": [
    {
     "data": {
      "text/html": [
       "<style scoped>\n",
       "  .ansiout {\n",
       "    display: block;\n",
       "    unicode-bidi: embed;\n",
       "    white-space: pre-wrap;\n",
       "    word-wrap: break-word;\n",
       "    word-break: break-all;\n",
       "    font-family: \"Source Code Pro\", \"Menlo\", monospace;;\n",
       "    font-size: 13px;\n",
       "    color: #555;\n",
       "    margin-left: 4px;\n",
       "    line-height: 19px;\n",
       "  }\n",
       "</style>\n",
       "<div class=\"ansiout\"></div>"
      ]
     },
     "metadata": {
      "application/vnd.databricks.v1+output": {
       "addedWidgets": {},
       "arguments": {},
       "data": "<div class=\"ansiout\"></div>",
       "datasetInfos": [],
       "removedWidgets": [],
       "type": "html"
      }
     },
     "output_type": "display_data"
    }
   ],
   "source": [
    "import boto3\n",
    "\n",
    "# We create a S3 resource and a Bucket from this same resource\n",
    "session = boto3.Session(\n",
    "    region_name='eu-west-3',  # Datacenters located in Paris, FR\n",
    "    aws_access_key_id=ACCESS_KEY_ID,\n",
    "    aws_secret_access_key=SECRET_ACCESS_KEY\n",
    ")"
   ]
  },
  {
   "cell_type": "code",
   "execution_count": null,
   "metadata": {
    "application/vnd.databricks.v1+cell": {
     "inputWidgets": {},
     "nuid": "bb15fba9-7202-4c1e-b7bb-58ceb7a19e47",
     "showTitle": false,
     "title": ""
    }
   },
   "outputs": [
    {
     "data": {
      "text/html": [
       "<style scoped>\n",
       "  .ansiout {\n",
       "    display: block;\n",
       "    unicode-bidi: embed;\n",
       "    white-space: pre-wrap;\n",
       "    word-wrap: break-word;\n",
       "    word-break: break-all;\n",
       "    font-family: \"Source Code Pro\", \"Menlo\", monospace;;\n",
       "    font-size: 13px;\n",
       "    color: #555;\n",
       "    margin-left: 4px;\n",
       "    line-height: 19px;\n",
       "  }\n",
       "</style>\n",
       "<div class=\"ansiout\"></div>"
      ]
     },
     "metadata": {
      "application/vnd.databricks.v1+output": {
       "addedWidgets": {},
       "arguments": {},
       "data": "<div class=\"ansiout\"></div>",
       "datasetInfos": [],
       "removedWidgets": [],
       "type": "html"
      }
     },
     "output_type": "display_data"
    }
   ],
   "source": [
    "# We create a S3 resource and a Bucket from this same resource\n",
    "s3 = session.resource('s3')\n",
    "bucket = s3.Bucket(BUCKET_NAME)"
   ]
  },
  {
   "cell_type": "code",
   "execution_count": null,
   "metadata": {
    "application/vnd.databricks.v1+cell": {
     "inputWidgets": {},
     "nuid": "6dc58804-248f-42a8-8584-4e000cc54672",
     "showTitle": false,
     "title": ""
    }
   },
   "outputs": [
    {
     "data": {
      "text/html": [
       "<style scoped>\n",
       "  .ansiout {\n",
       "    display: block;\n",
       "    unicode-bidi: embed;\n",
       "    white-space: pre-wrap;\n",
       "    word-wrap: break-word;\n",
       "    word-break: break-all;\n",
       "    font-family: \"Source Code Pro\", \"Menlo\", monospace;;\n",
       "    font-size: 13px;\n",
       "    color: #555;\n",
       "    margin-left: 4px;\n",
       "    line-height: 19px;\n",
       "  }\n",
       "</style>\n",
       "<div class=\"ansiout\"></div>"
      ]
     },
     "metadata": {
      "application/vnd.databricks.v1+output": {
       "addedWidgets": {},
       "arguments": {},
       "data": "<style scoped>\n  .ansiout {\n    display: block;\n    unicode-bidi: embed;\n    white-space: pre-wrap;\n    word-wrap: break-word;\n    word-break: break-all;\n    font-family: \"Source Code Pro\", \"Menlo\", monospace;;\n    font-size: 13px;\n    color: #555;\n    margin-left: 4px;\n    line-height: 19px;\n  }\n</style>\n<div class=\"ansiout\"></div>",
       "datasetInfos": [],
       "removedWidgets": [],
       "textData": null,
       "type": "htmlSandbox"
      }
     },
     "output_type": "display_data"
    }
   ],
   "source": [
    "# Just an utility function\n",
    "def get_s3_path(key, bucket_name=BUCKET_NAME, scheme=SCHEME):\n",
    "  return f\"{scheme}://{bucket_name}/{key}\""
   ]
  },
  {
   "cell_type": "code",
   "execution_count": null,
   "metadata": {
    "application/vnd.databricks.v1+cell": {
     "inputWidgets": {},
     "nuid": "89a55e9a-8351-484b-bbd3-cb1d1d7bf431",
     "showTitle": false,
     "title": ""
    }
   },
   "outputs": [
    {
     "data": {
      "text/html": [
       "<style scoped>\n",
       "  .ansiout {\n",
       "    display: block;\n",
       "    unicode-bidi: embed;\n",
       "    white-space: pre-wrap;\n",
       "    word-wrap: break-word;\n",
       "    word-break: break-all;\n",
       "    font-family: \"Source Code Pro\", \"Menlo\", monospace;;\n",
       "    font-size: 13px;\n",
       "    color: #555;\n",
       "    margin-left: 4px;\n",
       "    line-height: 19px;\n",
       "  }\n",
       "</style>\n",
       "<div class=\"ansiout\"></div>"
      ]
     },
     "metadata": {
      "application/vnd.databricks.v1+output": {
       "addedWidgets": {},
       "arguments": {},
       "data": "<style scoped>\n  .ansiout {\n    display: block;\n    unicode-bidi: embed;\n    white-space: pre-wrap;\n    word-wrap: break-word;\n    word-break: break-all;\n    font-family: \"Source Code Pro\", \"Menlo\", monospace;;\n    font-size: 13px;\n    color: #555;\n    margin-left: 4px;\n    line-height: 19px;\n  }\n</style>\n<div class=\"ansiout\"></div>",
       "datasetInfos": [],
       "removedWidgets": [],
       "textData": null,
       "type": "htmlSandbox"
      }
     },
     "output_type": "display_data"
    }
   ],
   "source": [
    "# TODO: create the S3 path\n",
    "### BEGIN STRIP ###\n",
    "\n",
    "### END STRIP ###"
   ]
  },
  {
   "cell_type": "code",
   "execution_count": null,
   "metadata": {
    "application/vnd.databricks.v1+cell": {
     "inputWidgets": {},
     "nuid": "5fc42be4-5089-4fa4-8909-316037af5fa5",
     "showTitle": false,
     "title": ""
    }
   },
   "outputs": [
    {
     "data": {
      "text/html": [
       "<style scoped>\n",
       "  .ansiout {\n",
       "    display: block;\n",
       "    unicode-bidi: embed;\n",
       "    white-space: pre-wrap;\n",
       "    word-wrap: break-word;\n",
       "    word-break: break-all;\n",
       "    font-family: \"Source Code Pro\", \"Menlo\", monospace;;\n",
       "    font-size: 13px;\n",
       "    color: #555;\n",
       "    margin-left: 4px;\n",
       "    line-height: 19px;\n",
       "  }\n",
       "</style>\n",
       "<div class=\"ansiout\">Out[6]: 3907</div>"
      ]
     },
     "metadata": {
      "application/vnd.databricks.v1+output": {
       "addedWidgets": {},
       "arguments": {},
       "data": "<div class=\"ansiout\">Out[6]: 3907</div>",
       "datasetInfos": [],
       "removedWidgets": [],
       "type": "html"
      }
     },
     "output_type": "display_data"
    }
   ],
   "source": [
    "# TODO: load the parquet file into a PySpark DataFrame: `df`\n",
    "# NOTE: as a reminder, parquet is the default file format for loading with PySpark\n",
    "#\n",
    "# TODO: as a sanity check, count the rows in the DataFrame\n",
    "### BEGIN STRIP ###\n",
    "\n",
    "df = spark.read.parquet(\"/tmp/interim.parquet\")\n",
    "df.count()\n",
    "### END STRIP ###"
   ]
  },
  {
   "cell_type": "code",
   "execution_count": null,
   "metadata": {
    "application/vnd.databricks.v1+cell": {
     "inputWidgets": {},
     "nuid": "f07be3d9-dad6-415a-85f9-9d2563242058",
     "showTitle": false,
     "title": ""
    }
   },
   "outputs": [
    {
     "data": {
      "text/html": [
       "<style scoped>\n",
       "  .ansiout {\n",
       "    display: block;\n",
       "    unicode-bidi: embed;\n",
       "    white-space: pre-wrap;\n",
       "    word-wrap: break-word;\n",
       "    word-break: break-all;\n",
       "    font-family: \"Source Code Pro\", \"Menlo\", monospace;;\n",
       "    font-size: 13px;\n",
       "    color: #555;\n",
       "    margin-left: 4px;\n",
       "    line-height: 19px;\n",
       "  }\n",
       "</style>\n",
       "<div class=\"ansiout\">root\n",
       "-- etag: string (nullable = true)\n",
       "-- items: struct (nullable = true)\n",
       "    |-- contentDetails: struct (nullable = true)\n",
       "    |    |-- caption: string (nullable = true)\n",
       "    |    |-- contentRating: struct (nullable = true)\n",
       "    |    |    |-- ytRating: string (nullable = true)\n",
       "    |    |-- definition: string (nullable = true)\n",
       "    |    |-- dimension: string (nullable = true)\n",
       "    |    |-- duration: string (nullable = true)\n",
       "    |    |-- licensedContent: boolean (nullable = true)\n",
       "    |    |-- projection: string (nullable = true)\n",
       "    |    |-- regionRestriction: struct (nullable = true)\n",
       "    |    |    |-- allowed: array (nullable = true)\n",
       "    |    |    |    |-- element: string (containsNull = true)\n",
       "    |    |    |-- blocked: array (nullable = true)\n",
       "    |    |    |    |-- element: string (containsNull = true)\n",
       "    |-- etag: string (nullable = true)\n",
       "    |-- id: string (nullable = true)\n",
       "    |-- kind: string (nullable = true)\n",
       "    |-- snippet: struct (nullable = true)\n",
       "    |    |-- categoryId: string (nullable = true)\n",
       "    |    |-- channelId: string (nullable = true)\n",
       "    |    |-- channelTitle: string (nullable = true)\n",
       "    |    |-- defaultAudioLanguage: string (nullable = true)\n",
       "    |    |-- defaultLanguage: string (nullable = true)\n",
       "    |    |-- description: string (nullable = true)\n",
       "    |    |-- liveBroadcastContent: string (nullable = true)\n",
       "    |    |-- localized: struct (nullable = true)\n",
       "    |    |    |-- description: string (nullable = true)\n",
       "    |    |    |-- title: string (nullable = true)\n",
       "    |    |-- publishedAt: string (nullable = true)\n",
       "    |    |-- tags: array (nullable = true)\n",
       "    |    |    |-- element: string (containsNull = true)\n",
       "    |    |-- thumbnails: struct (nullable = true)\n",
       "    |    |    |-- default: struct (nullable = true)\n",
       "    |    |    |    |-- height: long (nullable = true)\n",
       "    |    |    |    |-- url: string (nullable = true)\n",
       "    |    |    |    |-- width: long (nullable = true)\n",
       "    |    |    |-- high: struct (nullable = true)\n",
       "    |    |    |    |-- height: long (nullable = true)\n",
       "    |    |    |    |-- url: string (nullable = true)\n",
       "    |    |    |    |-- width: long (nullable = true)\n",
       "    |    |    |-- maxres: struct (nullable = true)\n",
       "    |    |    |    |-- height: long (nullable = true)\n",
       "    |    |    |    |-- url: string (nullable = true)\n",
       "    |    |    |    |-- width: long (nullable = true)\n",
       "    |    |    |-- medium: struct (nullable = true)\n",
       "    |    |    |    |-- height: long (nullable = true)\n",
       "    |    |    |    |-- url: string (nullable = true)\n",
       "    |    |    |    |-- width: long (nullable = true)\n",
       "    |    |    |-- standard: struct (nullable = true)\n",
       "    |    |    |    |-- height: long (nullable = true)\n",
       "    |    |    |    |-- url: string (nullable = true)\n",
       "    |    |    |    |-- width: long (nullable = true)\n",
       "    |    |-- title: string (nullable = true)\n",
       "    |-- statistics: struct (nullable = true)\n",
       "    |    |-- commentCount: string (nullable = true)\n",
       "    |    |-- dislikeCount: string (nullable = true)\n",
       "    |    |-- favoriteCount: string (nullable = true)\n",
       "    |    |-- likeCount: string (nullable = true)\n",
       "    |    |-- viewCount: string (nullable = true)\n",
       "    |-- status: struct (nullable = true)\n",
       "    |    |-- embeddable: boolean (nullable = true)\n",
       "    |    |-- license: string (nullable = true)\n",
       "    |    |-- madeForKids: boolean (nullable = true)\n",
       "    |    |-- privacyStatus: string (nullable = true)\n",
       "    |    |-- publicStatsViewable: boolean (nullable = true)\n",
       "    |    |-- uploadStatus: string (nullable = true)\n",
       "    |-- topicDetails: struct (nullable = true)\n",
       "    |    |-- relevantTopicIds: array (nullable = true)\n",
       "    |    |    |-- element: string (containsNull = true)\n",
       "    |    |-- topicCategories: array (nullable = true)\n",
       "    |    |    |-- element: string (containsNull = true)\n",
       "-- kind: string (nullable = true)\n",
       "-- pageInfo: struct (nullable = true)\n",
       "    |-- resultsPerPage: long (nullable = true)\n",
       "    |-- totalResults: long (nullable = true)\n",
       "\n",
       "</div>"
      ]
     },
     "metadata": {
      "application/vnd.databricks.v1+output": {
       "addedWidgets": {},
       "arguments": {},
       "data": "<div class=\"ansiout\">root\n |-- etag: string (nullable = true)\n |-- items: struct (nullable = true)\n |    |-- contentDetails: struct (nullable = true)\n |    |    |-- caption: string (nullable = true)\n |    |    |-- contentRating: struct (nullable = true)\n |    |    |    |-- ytRating: string (nullable = true)\n |    |    |-- definition: string (nullable = true)\n |    |    |-- dimension: string (nullable = true)\n |    |    |-- duration: string (nullable = true)\n |    |    |-- licensedContent: boolean (nullable = true)\n |    |    |-- projection: string (nullable = true)\n |    |    |-- regionRestriction: struct (nullable = true)\n |    |    |    |-- allowed: array (nullable = true)\n |    |    |    |    |-- element: string (containsNull = true)\n |    |    |    |-- blocked: array (nullable = true)\n |    |    |    |    |-- element: string (containsNull = true)\n |    |-- etag: string (nullable = true)\n |    |-- id: string (nullable = true)\n |    |-- kind: string (nullable = true)\n |    |-- snippet: struct (nullable = true)\n |    |    |-- categoryId: string (nullable = true)\n |    |    |-- channelId: string (nullable = true)\n |    |    |-- channelTitle: string (nullable = true)\n |    |    |-- defaultAudioLanguage: string (nullable = true)\n |    |    |-- defaultLanguage: string (nullable = true)\n |    |    |-- description: string (nullable = true)\n |    |    |-- liveBroadcastContent: string (nullable = true)\n |    |    |-- localized: struct (nullable = true)\n |    |    |    |-- description: string (nullable = true)\n |    |    |    |-- title: string (nullable = true)\n |    |    |-- publishedAt: string (nullable = true)\n |    |    |-- tags: array (nullable = true)\n |    |    |    |-- element: string (containsNull = true)\n |    |    |-- thumbnails: struct (nullable = true)\n |    |    |    |-- default: struct (nullable = true)\n |    |    |    |    |-- height: long (nullable = true)\n |    |    |    |    |-- url: string (nullable = true)\n |    |    |    |    |-- width: long (nullable = true)\n |    |    |    |-- high: struct (nullable = true)\n |    |    |    |    |-- height: long (nullable = true)\n |    |    |    |    |-- url: string (nullable = true)\n |    |    |    |    |-- width: long (nullable = true)\n |    |    |    |-- maxres: struct (nullable = true)\n |    |    |    |    |-- height: long (nullable = true)\n |    |    |    |    |-- url: string (nullable = true)\n |    |    |    |    |-- width: long (nullable = true)\n |    |    |    |-- medium: struct (nullable = true)\n |    |    |    |    |-- height: long (nullable = true)\n |    |    |    |    |-- url: string (nullable = true)\n |    |    |    |    |-- width: long (nullable = true)\n |    |    |    |-- standard: struct (nullable = true)\n |    |    |    |    |-- height: long (nullable = true)\n |    |    |    |    |-- url: string (nullable = true)\n |    |    |    |    |-- width: long (nullable = true)\n |    |    |-- title: string (nullable = true)\n |    |-- statistics: struct (nullable = true)\n |    |    |-- commentCount: string (nullable = true)\n |    |    |-- dislikeCount: string (nullable = true)\n |    |    |-- favoriteCount: string (nullable = true)\n |    |    |-- likeCount: string (nullable = true)\n |    |    |-- viewCount: string (nullable = true)\n |    |-- status: struct (nullable = true)\n |    |    |-- embeddable: boolean (nullable = true)\n |    |    |-- license: string (nullable = true)\n |    |    |-- madeForKids: boolean (nullable = true)\n |    |    |-- privacyStatus: string (nullable = true)\n |    |    |-- publicStatsViewable: boolean (nullable = true)\n |    |    |-- uploadStatus: string (nullable = true)\n |    |-- topicDetails: struct (nullable = true)\n |    |    |-- relevantTopicIds: array (nullable = true)\n |    |    |    |-- element: string (containsNull = true)\n |    |    |-- topicCategories: array (nullable = true)\n |    |    |    |-- element: string (containsNull = true)\n |-- kind: string (nullable = true)\n |-- pageInfo: struct (nullable = true)\n |    |-- resultsPerPage: long (nullable = true)\n |    |-- totalResults: long (nullable = true)\n\n</div>",
       "datasetInfos": [],
       "removedWidgets": [],
       "type": "html"
      }
     },
     "output_type": "display_data"
    }
   ],
   "source": [
    "# TODO: print out the schema of the DataFrame\n",
    "### BEGIN STRIP ###\n",
    "df.printSchema()\n",
    "### END STRIP ###"
   ]
  },
  {
   "cell_type": "markdown",
   "metadata": {
    "application/vnd.databricks.v1+cell": {
     "inputWidgets": {},
     "nuid": "fbcd1ebf-b806-45f6-b869-7b8afcef51bd",
     "showTitle": false,
     "title": ""
    }
   },
   "source": [
    "### Working with the schema"
   ]
  },
  {
   "cell_type": "markdown",
   "metadata": {
    "application/vnd.databricks.v1+cell": {
     "inputWidgets": {},
     "nuid": "0a871b35-1f0b-4e8d-8873-63725c61607c",
     "showTitle": false,
     "title": ""
    }
   },
   "source": [
    "We're ready to get started :)\n",
    "\n",
    "Our schema is like a tree, we want to collect all its leaves and put them neatly as columns of our DataFrame.  \n",
    "That's called **flattening a schema** and that's for sure would tidy things up."
   ]
  },
  {
   "cell_type": "markdown",
   "metadata": {
    "application/vnd.databricks.v1+cell": {
     "inputWidgets": {},
     "nuid": "6686b436-0cc9-4816-988e-0d40bdf821ec",
     "showTitle": false,
     "title": ""
    }
   },
   "source": [
    "Let's give it a try with the `title` element, it's actually inside the `items` columns, then into the nested field `snippet`, and finally in the nested subfield `title`.\n",
    "\n",
    "You can do this using the `.getField()` column method, there the [documentation](https://spark.apache.org/docs/latest/api/python/pyspark.sql.html#pyspark.sql.Column.getField)."
   ]
  },
  {
   "cell_type": "code",
   "execution_count": null,
   "metadata": {
    "application/vnd.databricks.v1+cell": {
     "inputWidgets": {},
     "nuid": "55c84fea-8d42-4a07-ab84-02bd18377606",
     "showTitle": false,
     "title": ""
    }
   },
   "outputs": [
    {
     "data": {
      "text/html": [
       "<style scoped>\n",
       "  .ansiout {\n",
       "    display: block;\n",
       "    unicode-bidi: embed;\n",
       "    white-space: pre-wrap;\n",
       "    word-wrap: break-word;\n",
       "    word-break: break-all;\n",
       "    font-family: \"Source Code Pro\", \"Menlo\", monospace;;\n",
       "    font-size: 13px;\n",
       "    color: #555;\n",
       "    margin-left: 4px;\n",
       "    line-height: 19px;\n",
       "  }\n",
       "</style>\n",
       "<div class=\"ansiout\">+--------------------+\n",
       " items.snippet.title|\n",
       "+--------------------+\n",
       "VOLO. &#34;L&#39;air d&#39;un...|\n",
       "Julian Jeweil - A...|\n",
       " Justice - D.A.N.C.E|\n",
       "Gramatik - Tortur...|\n",
       "Ben Howard - Oats...|\n",
       "+--------------------+\n",
       "only showing top 5 rows\n",
       "\n",
       "</div>"
      ]
     },
     "metadata": {
      "application/vnd.databricks.v1+output": {
       "addedWidgets": {},
       "arguments": {},
       "data": "<div class=\"ansiout\">+--------------------+\n| items.snippet.title|\n+--------------------+\n|VOLO. &#34;L&#39;air d&#39;un...|\n|Julian Jeweil - A...|\n| Justice - D.A.N.C.E|\n|Gramatik - Tortur...|\n|Ben Howard - Oats...|\n+--------------------+\nonly showing top 5 rows\n\n</div>",
       "datasetInfos": [],
       "removedWidgets": [],
       "type": "html"
      }
     },
     "output_type": "display_data"
    }
   ],
   "source": [
    "# TODO: select the `title` subfield from the `snippet` subfield in the `items` column\n",
    "#       show the first 5 elements\n",
    "### BEGIN STRIP ###\n",
    "df.select(df.items.snippet.title).show(5)\n",
    "\n",
    "### END STRIP ###"
   ]
  },
  {
   "cell_type": "markdown",
   "metadata": {
    "application/vnd.databricks.v1+cell": {
     "inputWidgets": {},
     "nuid": "9120c3bd-6bc4-4f9f-a46c-d88bacc260d4",
     "showTitle": false,
     "title": ""
    }
   },
   "source": [
    "That's it, easy peasy 🙂.\n",
    "\n",
    "We could just keep doing this for every single leaf of the schema and we're done.\n",
    "\n",
    "I don't know about you, but I think this is incredebly **boring**. Also, what if tomorrow, Youtube adds a new leaf to its API results?\n",
    "\n",
    "Come on, we're programmers, we're **supposed to automate stuff, aren't we?**\n",
    "\n",
    "What we need is a way to build that list of leaves... \n",
    "Not gonna lie, it's not trivial, it's called a tree traversal and this is beyond the scope of this course.\n",
    "\n",
    "Which means we will do this part for you. In the following cell, we've included a function called `walkSchema`. What this functions does, is that it walk the schema of our DataFrame with a nested schema and harvest its leave. Returning them with full path like this `items.snippet.title` as a string.\n",
    "\n",
    "Well, \"returning\", not exactly. But we will see about that later.\n",
    "\n",
    "**[TODO]**\n",
    "Take a look at the function, you're not supposed to understand what it does, this is beyond the scope of this course.  \n",
    "But when you're learning, it's always a good idea to be exposed to new things."
   ]
  },
  {
   "cell_type": "code",
   "execution_count": null,
   "metadata": {
    "application/vnd.databricks.v1+cell": {
     "inputWidgets": {},
     "nuid": "ae57fa0c-4974-4b40-a63a-fc055de9c18b",
     "showTitle": false,
     "title": ""
    }
   },
   "outputs": [
    {
     "data": {
      "text/html": [
       "<style scoped>\n",
       "  .ansiout {\n",
       "    display: block;\n",
       "    unicode-bidi: embed;\n",
       "    white-space: pre-wrap;\n",
       "    word-wrap: break-word;\n",
       "    word-break: break-all;\n",
       "    font-family: \"Source Code Pro\", \"Menlo\", monospace;;\n",
       "    font-size: 13px;\n",
       "    color: #555;\n",
       "    margin-left: 4px;\n",
       "    line-height: 19px;\n",
       "  }\n",
       "</style>\n",
       "<div class=\"ansiout\"></div>"
      ]
     },
     "metadata": {
      "application/vnd.databricks.v1+output": {
       "addedWidgets": {},
       "arguments": {},
       "data": "<div class=\"ansiout\"></div>",
       "datasetInfos": [],
       "removedWidgets": [],
       "type": "html"
      }
     },
     "output_type": "display_data"
    }
   ],
   "source": [
    "from pyspark.sql.types import StructType, StructField\n",
    "from typing import List, Dict, Generator, Union, Callable\n",
    "\n",
    "def walkSchema(schema: Union[StructType, StructField]) -> Generator[str, None, None]:\n",
    "    \"\"\"Traverse a PySpark schema:\n",
    "    \n",
    "    schema: StructType | StructField\n",
    "    \n",
    "    Yield\n",
    "    -----\n",
    "    A generator of strings, the name of each field in the schema\n",
    "    \"\"\"\n",
    "    \n",
    "    def _walk(schema_dct: Dict['str', Union['str', list, dict]],\n",
    "              prefix: str = \"\") -> Generator[str, None, None]:\n",
    "        assert isinstance(prefix, str), \"prefix should be a string\"\n",
    "        \n",
    "        fullName: Callable[str, str] = lambda name: (\n",
    "            name if not prefix else f\"{prefix}.{name}\")\n",
    "        \n",
    "        name = schema_dct.get('name', '')\n",
    "        if schema_dct['type'] == 'struct':\n",
    "            assert 'fields' in schema_dct, (\n",
    "                \"It's a StructType, we should have some fields\")\n",
    "            for field in schema_dct['fields']:\n",
    "                yield from _walk(field, prefix=prefix)\n",
    "        elif isinstance(schema_dct['type'], dict):\n",
    "            assert 'fields' not in schema_dct, (\n",
    "                \"We're missing some keys here\")\n",
    "            yield from _walk(schema_dct['type'], prefix=fullName(name))\n",
    "        elif name:\n",
    "            yield fullName(name)\n",
    "    \n",
    "    yield from _walk(schema.jsonValue())"
   ]
  },
  {
   "cell_type": "markdown",
   "metadata": {
    "application/vnd.databricks.v1+cell": {
     "inputWidgets": {},
     "nuid": "595fec94-9f5f-402e-bf93-04c380b8e49b",
     "showTitle": false,
     "title": ""
    }
   },
   "source": [
    "We will give this function a try, and see how it behaves...  \n",
    "You might have to look into PySpark documentation to learn how to access the schema of a DataFrame."
   ]
  },
  {
   "cell_type": "code",
   "execution_count": null,
   "metadata": {
    "application/vnd.databricks.v1+cell": {
     "inputWidgets": {},
     "nuid": "c27075a1-dcbf-42d1-98c4-c8c4020655ef",
     "showTitle": false,
     "title": ""
    }
   },
   "outputs": [
    {
     "data": {
      "text/html": [
       "<style scoped>\n",
       "  .ansiout {\n",
       "    display: block;\n",
       "    unicode-bidi: embed;\n",
       "    white-space: pre-wrap;\n",
       "    word-wrap: break-word;\n",
       "    word-break: break-all;\n",
       "    font-family: \"Source Code Pro\", \"Menlo\", monospace;;\n",
       "    font-size: 13px;\n",
       "    color: #555;\n",
       "    margin-left: 4px;\n",
       "    line-height: 19px;\n",
       "  }\n",
       "</style>\n",
       "<div class=\"ansiout\">Out[27]: &lt;generator object walkSchema at 0x7f680e790d50&gt;</div>"
      ]
     },
     "metadata": {
      "application/vnd.databricks.v1+output": {
       "addedWidgets": {},
       "arguments": {},
       "data": "<div class=\"ansiout\">Out[27]: &lt;generator object walkSchema at 0x7f680e790d50&gt;</div>",
       "datasetInfos": [],
       "removedWidgets": [],
       "type": "html"
      }
     },
     "output_type": "display_data"
    }
   ],
   "source": [
    "# TODO: call `walkSchema(...)` on our dataframe schema: `col_names`\n",
    "#       then print it out to the screen\n",
    "### BEGIN STRIP ###\n",
    "col_names = walkSchema(df.schema)\n",
    "col_names\n",
    "### END STRIP ###"
   ]
  },
  {
   "cell_type": "markdown",
   "metadata": {
    "application/vnd.databricks.v1+cell": {
     "inputWidgets": {},
     "nuid": "13c540c8-6a6c-48b7-a37b-b22d366642c1",
     "showTitle": false,
     "title": ""
    }
   },
   "source": [
    "You should see an output similar to `<generator object walkSchema at 0x7f9eb0e390c0>`.  \n",
    "It's a Python's generator, you can read more about it [here](https://jeffknupp.com/blog/2013/04/07/improve-your-python-yield-and-generators-explained/).\n",
    "\n",
    "For now, you just have to know, that just like a python's `list`, a `generator` is also `iterable`, which means we can iterate over it with a `for` loop.\n",
    "\n",
    "```\n",
    "for e in my_generator:\n",
    "    # You can access each element of the generator here\n",
    "```\n",
    "\n",
    "We'll give it a try, by printing out the values of our col_names."
   ]
  },
  {
   "cell_type": "code",
   "execution_count": null,
   "metadata": {
    "application/vnd.databricks.v1+cell": {
     "inputWidgets": {},
     "nuid": "1dcf567e-61fa-4a24-98e6-9ae4437306ac",
     "showTitle": false,
     "title": ""
    }
   },
   "outputs": [
    {
     "data": {
      "text/html": [
       "<style scoped>\n",
       "  .ansiout {\n",
       "    display: block;\n",
       "    unicode-bidi: embed;\n",
       "    white-space: pre-wrap;\n",
       "    word-wrap: break-word;\n",
       "    word-break: break-all;\n",
       "    font-family: \"Source Code Pro\", \"Menlo\", monospace;;\n",
       "    font-size: 13px;\n",
       "    color: #555;\n",
       "    margin-left: 4px;\n",
       "    line-height: 19px;\n",
       "  }\n",
       "</style>\n",
       "<div class=\"ansiout\">etag\n",
       "items.contentDetails.caption\n",
       "items.contentDetails.contentRating.ytRating\n",
       "items.contentDetails.definition\n",
       "items.contentDetails.dimension\n",
       "items.contentDetails.duration\n",
       "items.contentDetails.licensedContent\n",
       "items.contentDetails.projection\n",
       "items.etag\n",
       "items.id\n",
       "items.kind\n",
       "items.snippet.categoryId\n",
       "items.snippet.channelId\n",
       "items.snippet.channelTitle\n",
       "items.snippet.defaultAudioLanguage\n",
       "items.snippet.defaultLanguage\n",
       "items.snippet.description\n",
       "items.snippet.liveBroadcastContent\n",
       "items.snippet.localized.description\n",
       "items.snippet.localized.title\n",
       "items.snippet.publishedAt\n",
       "items.snippet.thumbnails.default.height\n",
       "items.snippet.thumbnails.default.url\n",
       "items.snippet.thumbnails.default.width\n",
       "items.snippet.thumbnails.high.height\n",
       "items.snippet.thumbnails.high.url\n",
       "items.snippet.thumbnails.high.width\n",
       "items.snippet.thumbnails.maxres.height\n",
       "items.snippet.thumbnails.maxres.url\n",
       "items.snippet.thumbnails.maxres.width\n",
       "items.snippet.thumbnails.medium.height\n",
       "items.snippet.thumbnails.medium.url\n",
       "items.snippet.thumbnails.medium.width\n",
       "items.snippet.thumbnails.standard.height\n",
       "items.snippet.thumbnails.standard.url\n",
       "items.snippet.thumbnails.standard.width\n",
       "items.snippet.title\n",
       "items.statistics.commentCount\n",
       "items.statistics.dislikeCount\n",
       "items.statistics.favoriteCount\n",
       "items.statistics.likeCount\n",
       "items.statistics.viewCount\n",
       "items.status.embeddable\n",
       "items.status.license\n",
       "items.status.madeForKids\n",
       "items.status.privacyStatus\n",
       "items.status.publicStatsViewable\n",
       "items.status.uploadStatus\n",
       "kind\n",
       "pageInfo.resultsPerPage\n",
       "pageInfo.totalResults\n",
       "</div>"
      ]
     },
     "metadata": {
      "application/vnd.databricks.v1+output": {
       "addedWidgets": {},
       "arguments": {},
       "data": "<div class=\"ansiout\">etag\nitems.contentDetails.caption\nitems.contentDetails.contentRating.ytRating\nitems.contentDetails.definition\nitems.contentDetails.dimension\nitems.contentDetails.duration\nitems.contentDetails.licensedContent\nitems.contentDetails.projection\nitems.etag\nitems.id\nitems.kind\nitems.snippet.categoryId\nitems.snippet.channelId\nitems.snippet.channelTitle\nitems.snippet.defaultAudioLanguage\nitems.snippet.defaultLanguage\nitems.snippet.description\nitems.snippet.liveBroadcastContent\nitems.snippet.localized.description\nitems.snippet.localized.title\nitems.snippet.publishedAt\nitems.snippet.thumbnails.default.height\nitems.snippet.thumbnails.default.url\nitems.snippet.thumbnails.default.width\nitems.snippet.thumbnails.high.height\nitems.snippet.thumbnails.high.url\nitems.snippet.thumbnails.high.width\nitems.snippet.thumbnails.maxres.height\nitems.snippet.thumbnails.maxres.url\nitems.snippet.thumbnails.maxres.width\nitems.snippet.thumbnails.medium.height\nitems.snippet.thumbnails.medium.url\nitems.snippet.thumbnails.medium.width\nitems.snippet.thumbnails.standard.height\nitems.snippet.thumbnails.standard.url\nitems.snippet.thumbnails.standard.width\nitems.snippet.title\nitems.statistics.commentCount\nitems.statistics.dislikeCount\nitems.statistics.favoriteCount\nitems.statistics.likeCount\nitems.statistics.viewCount\nitems.status.embeddable\nitems.status.license\nitems.status.madeForKids\nitems.status.privacyStatus\nitems.status.publicStatsViewable\nitems.status.uploadStatus\nkind\npageInfo.resultsPerPage\npageInfo.totalResults\n</div>",
       "datasetInfos": [],
       "removedWidgets": [],
       "type": "html"
      }
     },
     "output_type": "display_data"
    }
   ],
   "source": [
    "# TODO: iterate over the walked schema\n",
    "# NOTE: give the name `col_name` to the iterating variable\n",
    "### BEGIN STRIP ###\n",
    "for col_name in col_names:\n",
    "  print(col_name)\n",
    "### END STRIP ###"
   ]
  },
  {
   "cell_type": "markdown",
   "metadata": {
    "application/vnd.databricks.v1+cell": {
     "inputWidgets": {},
     "nuid": "24dfa5c7-1d70-41af-9356-888ff5a70160",
     "showTitle": false,
     "title": ""
    }
   },
   "source": [
    "Perfect, that's all the leafs of our schema.  \n",
    "And we can just repeat the work we did with `items.snippet.title` for every column of this list.\n",
    "\n",
    "\n",
    "There are a couple ways to do this, you've got at least 2 options (using standard \"non-functionnal\" python):\n",
    "- build a list comprehension (or unpack the generator) and pass it to a `.select(...)` statement\n",
    "- iterate over the generator, and use `.withColumn(...)`\n",
    "\n",
    "_But our favorite uses a functional approach. It particularly makes sense because Spark is based on Scala, a functionnal language.  \n",
    "If you're interested in this approach, take a look at `reduce` from the `functools` package in Python.  \n",
    "In this simple isolated case, it actually makes things look a bit harder than they should, but it would make it easier to neatly integrate this step in a global pipeline.  \n",
    "**Beware, if you're not familiar with functional programming that will probably feel non-trivial.**_"
   ]
  },
  {
   "cell_type": "code",
   "execution_count": null,
   "metadata": {
    "application/vnd.databricks.v1+cell": {
     "inputWidgets": {},
     "nuid": "e15fe44c-f76d-4f55-a292-a05968cac7d3",
     "showTitle": false,
     "title": ""
    }
   },
   "outputs": [
    {
     "data": {
      "text/html": [
       "<style scoped>\n",
       "  .ansiout {\n",
       "    display: block;\n",
       "    unicode-bidi: embed;\n",
       "    white-space: pre-wrap;\n",
       "    word-wrap: break-word;\n",
       "    word-break: break-all;\n",
       "    font-family: \"Source Code Pro\", \"Menlo\", monospace;;\n",
       "    font-size: 13px;\n",
       "    color: #555;\n",
       "    margin-left: 4px;\n",
       "    line-height: 19px;\n",
       "  }\n",
       "</style>\n",
       "<div class=\"ansiout\">Out[47]: </div>"
      ]
     },
     "metadata": {
      "application/vnd.databricks.v1+output": {
       "addedWidgets": {},
       "arguments": {},
       "data": "<div class=\"ansiout\">Out[47]: </div>",
       "datasetInfos": [],
       "removedWidgets": [],
       "type": "html"
      }
     },
     "output_type": "display_data"
    },
    {
     "data": {
      "text/html": [
       "<div>\n",
       "<style scoped>\n",
       "    .dataframe tbody tr th:only-of-type {\n",
       "        vertical-align: middle;\n",
       "    }\n",
       "\n",
       "    .dataframe tbody tr th {\n",
       "        vertical-align: top;\n",
       "    }\n",
       "\n",
       "    .dataframe thead th {\n",
       "        text-align: right;\n",
       "    }\n",
       "</style>\n",
       "<table border=\"1\" class=\"dataframe\">\n",
       "  <thead>\n",
       "    <tr style=\"text-align: right;\">\n",
       "      <th></th>\n",
       "      <th>etag</th>\n",
       "      <th>kind</th>\n",
       "      <th>pageInfo</th>\n",
       "      <th>items.contentDetails.caption</th>\n",
       "      <th>items.contentDetails.contentRating.ytRating</th>\n",
       "      <th>items.contentDetails.definition</th>\n",
       "      <th>items.contentDetails.dimension</th>\n",
       "      <th>items.contentDetails.duration</th>\n",
       "      <th>items.contentDetails.licensedContent</th>\n",
       "      <th>items.contentDetails.projection</th>\n",
       "      <th>items.etag</th>\n",
       "      <th>items.id</th>\n",
       "      <th>items.kind</th>\n",
       "      <th>items.snippet.categoryId</th>\n",
       "      <th>items.snippet.channelId</th>\n",
       "      <th>items.snippet.channelTitle</th>\n",
       "      <th>items.snippet.defaultAudioLanguage</th>\n",
       "      <th>items.snippet.defaultLanguage</th>\n",
       "      <th>items.snippet.description</th>\n",
       "      <th>items.snippet.liveBroadcastContent</th>\n",
       "      <th>items.snippet.localized.description</th>\n",
       "      <th>items.snippet.localized.title</th>\n",
       "      <th>items.snippet.publishedAt</th>\n",
       "      <th>items.snippet.thumbnails.default.height</th>\n",
       "      <th>items.snippet.thumbnails.default.url</th>\n",
       "      <th>items.snippet.thumbnails.default.width</th>\n",
       "      <th>items.snippet.thumbnails.high.height</th>\n",
       "      <th>items.snippet.thumbnails.high.url</th>\n",
       "      <th>items.snippet.thumbnails.high.width</th>\n",
       "      <th>items.snippet.thumbnails.maxres.height</th>\n",
       "      <th>items.snippet.thumbnails.maxres.url</th>\n",
       "      <th>items.snippet.thumbnails.maxres.width</th>\n",
       "      <th>items.snippet.thumbnails.medium.height</th>\n",
       "      <th>items.snippet.thumbnails.medium.url</th>\n",
       "      <th>items.snippet.thumbnails.medium.width</th>\n",
       "      <th>items.snippet.thumbnails.standard.height</th>\n",
       "      <th>items.snippet.thumbnails.standard.url</th>\n",
       "      <th>items.snippet.thumbnails.standard.width</th>\n",
       "      <th>items.snippet.title</th>\n",
       "      <th>items.statistics.commentCount</th>\n",
       "      <th>items.statistics.dislikeCount</th>\n",
       "      <th>items.statistics.favoriteCount</th>\n",
       "      <th>items.statistics.likeCount</th>\n",
       "      <th>items.statistics.viewCount</th>\n",
       "      <th>items.status.embeddable</th>\n",
       "      <th>items.status.license</th>\n",
       "      <th>items.status.madeForKids</th>\n",
       "      <th>items.status.privacyStatus</th>\n",
       "      <th>items.status.publicStatsViewable</th>\n",
       "      <th>items.status.uploadStatus</th>\n",
       "      <th>pageInfo.resultsPerPage</th>\n",
       "      <th>pageInfo.totalResults</th>\n",
       "    </tr>\n",
       "  </thead>\n",
       "  <tbody>\n",
       "    <tr>\n",
       "      <th>0</th>\n",
       "      <td>U0fncx_GV9jD5SKQr15LMvwuPcs</td>\n",
       "      <td>youtube#videoListResponse</td>\n",
       "      <td>{'resultsPerPage': 38, 'totalResults': 38}</td>\n",
       "      <td>false</td>\n",
       "      <td>None</td>\n",
       "      <td>sd</td>\n",
       "      <td>2d</td>\n",
       "      <td>PT3M33S</td>\n",
       "      <td>True</td>\n",
       "      <td>rectangular</td>\n",
       "      <td>SqP7uUVSol30dxvuScN6JUny6T4</td>\n",
       "      <td>t1l8Z6gLPzo</td>\n",
       "      <td>youtube#video</td>\n",
       "      <td>10</td>\n",
       "      <td>UCUERSOitwgUq_37kGslN96w</td>\n",
       "      <td>VOLO</td>\n",
       "      <td>None</td>\n",
       "      <td>None</td>\n",
       "      <td>Enregistré et mixé par Cyrille PELTIER au \"Kee...</td>\n",
       "      <td>none</td>\n",
       "      <td>Enregistré et mixé par Cyrille PELTIER au \"Kee...</td>\n",
       "      <td>VOLO. \"L'air d'un con\"</td>\n",
       "      <td>2013-07-22T12:09:11Z</td>\n",
       "      <td>90</td>\n",
       "      <td>https://i.ytimg.com/vi/t1l8Z6gLPzo/default.jpg</td>\n",
       "      <td>120</td>\n",
       "      <td>360</td>\n",
       "      <td>https://i.ytimg.com/vi/t1l8Z6gLPzo/hqdefault.jpg</td>\n",
       "      <td>480</td>\n",
       "      <td>NaN</td>\n",
       "      <td>None</td>\n",
       "      <td>NaN</td>\n",
       "      <td>180</td>\n",
       "      <td>https://i.ytimg.com/vi/t1l8Z6gLPzo/mqdefault.jpg</td>\n",
       "      <td>320</td>\n",
       "      <td>480.0</td>\n",
       "      <td>https://i.ytimg.com/vi/t1l8Z6gLPzo/sddefault.jpg</td>\n",
       "      <td>640.0</td>\n",
       "      <td>VOLO. \"L'air d'un con\"</td>\n",
       "      <td>38</td>\n",
       "      <td>26</td>\n",
       "      <td>0</td>\n",
       "      <td>1028</td>\n",
       "      <td>223172</td>\n",
       "      <td>True</td>\n",
       "      <td>youtube</td>\n",
       "      <td>False</td>\n",
       "      <td>public</td>\n",
       "      <td>True</td>\n",
       "      <td>processed</td>\n",
       "      <td>38</td>\n",
       "      <td>38</td>\n",
       "    </tr>\n",
       "    <tr>\n",
       "      <th>1</th>\n",
       "      <td>U0fncx_GV9jD5SKQr15LMvwuPcs</td>\n",
       "      <td>youtube#videoListResponse</td>\n",
       "      <td>{'resultsPerPage': 38, 'totalResults': 38}</td>\n",
       "      <td>false</td>\n",
       "      <td>None</td>\n",
       "      <td>hd</td>\n",
       "      <td>2d</td>\n",
       "      <td>PT7M46S</td>\n",
       "      <td>False</td>\n",
       "      <td>rectangular</td>\n",
       "      <td>m3DnhzTEw9ABiqzBvdasfk5Av_8</td>\n",
       "      <td>we5gzZq5Avg</td>\n",
       "      <td>youtube#video</td>\n",
       "      <td>10</td>\n",
       "      <td>UCson549gpvRhPnJ3Whs5onA</td>\n",
       "      <td>LongWayToDream</td>\n",
       "      <td>None</td>\n",
       "      <td>None</td>\n",
       "      <td>Air Conditionné EP</td>\n",
       "      <td>none</td>\n",
       "      <td>Air Conditionné EP</td>\n",
       "      <td>Julian Jeweil - Air Conditionné</td>\n",
       "      <td>2012-03-17T08:34:30Z</td>\n",
       "      <td>90</td>\n",
       "      <td>https://i.ytimg.com/vi/we5gzZq5Avg/default.jpg</td>\n",
       "      <td>120</td>\n",
       "      <td>360</td>\n",
       "      <td>https://i.ytimg.com/vi/we5gzZq5Avg/hqdefault.jpg</td>\n",
       "      <td>480</td>\n",
       "      <td>720.0</td>\n",
       "      <td>https://i.ytimg.com/vi/we5gzZq5Avg/maxresdefau...</td>\n",
       "      <td>1280.0</td>\n",
       "      <td>180</td>\n",
       "      <td>https://i.ytimg.com/vi/we5gzZq5Avg/mqdefault.jpg</td>\n",
       "      <td>320</td>\n",
       "      <td>480.0</td>\n",
       "      <td>https://i.ytimg.com/vi/we5gzZq5Avg/sddefault.jpg</td>\n",
       "      <td>640.0</td>\n",
       "      <td>Julian Jeweil - Air Conditionné</td>\n",
       "      <td>2</td>\n",
       "      <td>3</td>\n",
       "      <td>0</td>\n",
       "      <td>124</td>\n",
       "      <td>13409</td>\n",
       "      <td>True</td>\n",
       "      <td>youtube</td>\n",
       "      <td>False</td>\n",
       "      <td>public</td>\n",
       "      <td>True</td>\n",
       "      <td>processed</td>\n",
       "      <td>38</td>\n",
       "      <td>38</td>\n",
       "    </tr>\n",
       "    <tr>\n",
       "      <th>2</th>\n",
       "      <td>U0fncx_GV9jD5SKQr15LMvwuPcs</td>\n",
       "      <td>youtube#videoListResponse</td>\n",
       "      <td>{'resultsPerPage': 38, 'totalResults': 38}</td>\n",
       "      <td>false</td>\n",
       "      <td>None</td>\n",
       "      <td>sd</td>\n",
       "      <td>2d</td>\n",
       "      <td>PT3M7S</td>\n",
       "      <td>False</td>\n",
       "      <td>rectangular</td>\n",
       "      <td>zyzs7STAR3NG-_pZe-0nGkbKoqg</td>\n",
       "      <td>49esza4eiK4</td>\n",
       "      <td>youtube#video</td>\n",
       "      <td>10</td>\n",
       "      <td>UCcHYZ8Ez4gG_2bHEuBL8IfQ</td>\n",
       "      <td>Downtown Records</td>\n",
       "      <td>None</td>\n",
       "      <td>None</td>\n",
       "      <td>myspace.com/etjusticepourtous\\r\\n(Downtown / E...</td>\n",
       "      <td>none</td>\n",
       "      <td>myspace.com/etjusticepourtous\\r\\n(Downtown / E...</td>\n",
       "      <td>Justice - D.A.N.C.E</td>\n",
       "      <td>2007-09-08T02:02:07Z</td>\n",
       "      <td>90</td>\n",
       "      <td>https://i.ytimg.com/vi/49esza4eiK4/default.jpg</td>\n",
       "      <td>120</td>\n",
       "      <td>360</td>\n",
       "      <td>https://i.ytimg.com/vi/49esza4eiK4/hqdefault.jpg</td>\n",
       "      <td>480</td>\n",
       "      <td>NaN</td>\n",
       "      <td>None</td>\n",
       "      <td>NaN</td>\n",
       "      <td>180</td>\n",
       "      <td>https://i.ytimg.com/vi/49esza4eiK4/mqdefault.jpg</td>\n",
       "      <td>320</td>\n",
       "      <td>NaN</td>\n",
       "      <td>None</td>\n",
       "      <td>NaN</td>\n",
       "      <td>Justice - D.A.N.C.E</td>\n",
       "      <td>3168</td>\n",
       "      <td>780</td>\n",
       "      <td>0</td>\n",
       "      <td>25540</td>\n",
       "      <td>10106655</td>\n",
       "      <td>True</td>\n",
       "      <td>youtube</td>\n",
       "      <td>False</td>\n",
       "      <td>public</td>\n",
       "      <td>True</td>\n",
       "      <td>processed</td>\n",
       "      <td>38</td>\n",
       "      <td>38</td>\n",
       "    </tr>\n",
       "    <tr>\n",
       "      <th>3</th>\n",
       "      <td>U0fncx_GV9jD5SKQr15LMvwuPcs</td>\n",
       "      <td>youtube#videoListResponse</td>\n",
       "      <td>{'resultsPerPage': 38, 'totalResults': 38}</td>\n",
       "      <td>false</td>\n",
       "      <td>None</td>\n",
       "      <td>hd</td>\n",
       "      <td>2d</td>\n",
       "      <td>PT3M43S</td>\n",
       "      <td>False</td>\n",
       "      <td>rectangular</td>\n",
       "      <td>hX2C15F6fdO5A-stUFMU5Az2PvI</td>\n",
       "      <td>BoO6LfR7ca0</td>\n",
       "      <td>youtube#video</td>\n",
       "      <td>22</td>\n",
       "      <td>UCQ0wLCF7u23gZKJkHFs1Tpg</td>\n",
       "      <td>Music Is Our Drug</td>\n",
       "      <td>None</td>\n",
       "      <td>None</td>\n",
       "      <td>♫ Music Is Our Drug - Spotify Playlist: https:...</td>\n",
       "      <td>none</td>\n",
       "      <td>♫ Music Is Our Drug - Spotify Playlist: https:...</td>\n",
       "      <td>Gramatik - Torture (feat. Eric Krasno)</td>\n",
       "      <td>2014-01-24T12:52:38Z</td>\n",
       "      <td>90</td>\n",
       "      <td>https://i.ytimg.com/vi/BoO6LfR7ca0/default.jpg</td>\n",
       "      <td>120</td>\n",
       "      <td>360</td>\n",
       "      <td>https://i.ytimg.com/vi/BoO6LfR7ca0/hqdefault.jpg</td>\n",
       "      <td>480</td>\n",
       "      <td>720.0</td>\n",
       "      <td>https://i.ytimg.com/vi/BoO6LfR7ca0/maxresdefau...</td>\n",
       "      <td>1280.0</td>\n",
       "      <td>180</td>\n",
       "      <td>https://i.ytimg.com/vi/BoO6LfR7ca0/mqdefault.jpg</td>\n",
       "      <td>320</td>\n",
       "      <td>480.0</td>\n",
       "      <td>https://i.ytimg.com/vi/BoO6LfR7ca0/sddefault.jpg</td>\n",
       "      <td>640.0</td>\n",
       "      <td>Gramatik - Torture (feat. Eric Krasno)</td>\n",
       "      <td>6</td>\n",
       "      <td>0</td>\n",
       "      <td>0</td>\n",
       "      <td>255</td>\n",
       "      <td>29153</td>\n",
       "      <td>True</td>\n",
       "      <td>youtube</td>\n",
       "      <td>False</td>\n",
       "      <td>public</td>\n",
       "      <td>True</td>\n",
       "      <td>processed</td>\n",
       "      <td>38</td>\n",
       "      <td>38</td>\n",
       "    </tr>\n",
       "    <tr>\n",
       "      <th>4</th>\n",
       "      <td>U0fncx_GV9jD5SKQr15LMvwuPcs</td>\n",
       "      <td>youtube#videoListResponse</td>\n",
       "      <td>{'resultsPerPage': 38, 'totalResults': 38}</td>\n",
       "      <td>false</td>\n",
       "      <td>None</td>\n",
       "      <td>hd</td>\n",
       "      <td>2d</td>\n",
       "      <td>PT5M</td>\n",
       "      <td>False</td>\n",
       "      <td>rectangular</td>\n",
       "      <td>rYHoV38PLpMbRuX_zhGTVBKNotw</td>\n",
       "      <td>DaH4W1rY9us</td>\n",
       "      <td>youtube#video</td>\n",
       "      <td>10</td>\n",
       "      <td>UCJsTMPZxYD-Q3kEmL4Qijpg</td>\n",
       "      <td>Harvey Pearson</td>\n",
       "      <td>None</td>\n",
       "      <td>None</td>\n",
       "      <td>Buy The Burgh Island EP now:\\nhttps://itunes.a...</td>\n",
       "      <td>none</td>\n",
       "      <td>Buy The Burgh Island EP now:\\nhttps://itunes.a...</td>\n",
       "      <td>Ben Howard - Oats In The Water</td>\n",
       "      <td>2012-12-02T12:41:13Z</td>\n",
       "      <td>90</td>\n",
       "      <td>https://i.ytimg.com/vi/DaH4W1rY9us/default.jpg</td>\n",
       "      <td>120</td>\n",
       "      <td>360</td>\n",
       "      <td>https://i.ytimg.com/vi/DaH4W1rY9us/hqdefault.jpg</td>\n",
       "      <td>480</td>\n",
       "      <td>720.0</td>\n",
       "      <td>https://i.ytimg.com/vi/DaH4W1rY9us/maxresdefau...</td>\n",
       "      <td>1280.0</td>\n",
       "      <td>180</td>\n",
       "      <td>https://i.ytimg.com/vi/DaH4W1rY9us/mqdefault.jpg</td>\n",
       "      <td>320</td>\n",
       "      <td>480.0</td>\n",
       "      <td>https://i.ytimg.com/vi/DaH4W1rY9us/sddefault.jpg</td>\n",
       "      <td>640.0</td>\n",
       "      <td>Ben Howard - Oats In The Water</td>\n",
       "      <td>5303</td>\n",
       "      <td>1784</td>\n",
       "      <td>0</td>\n",
       "      <td>136033</td>\n",
       "      <td>16488714</td>\n",
       "      <td>True</td>\n",
       "      <td>youtube</td>\n",
       "      <td>False</td>\n",
       "      <td>public</td>\n",
       "      <td>True</td>\n",
       "      <td>processed</td>\n",
       "      <td>38</td>\n",
       "      <td>38</td>\n",
       "    </tr>\n",
       "    <tr>\n",
       "      <th>...</th>\n",
       "      <td>...</td>\n",
       "      <td>...</td>\n",
       "      <td>...</td>\n",
       "      <td>...</td>\n",
       "      <td>...</td>\n",
       "      <td>...</td>\n",
       "      <td>...</td>\n",
       "      <td>...</td>\n",
       "      <td>...</td>\n",
       "      <td>...</td>\n",
       "      <td>...</td>\n",
       "      <td>...</td>\n",
       "      <td>...</td>\n",
       "      <td>...</td>\n",
       "      <td>...</td>\n",
       "      <td>...</td>\n",
       "      <td>...</td>\n",
       "      <td>...</td>\n",
       "      <td>...</td>\n",
       "      <td>...</td>\n",
       "      <td>...</td>\n",
       "      <td>...</td>\n",
       "      <td>...</td>\n",
       "      <td>...</td>\n",
       "      <td>...</td>\n",
       "      <td>...</td>\n",
       "      <td>...</td>\n",
       "      <td>...</td>\n",
       "      <td>...</td>\n",
       "      <td>...</td>\n",
       "      <td>...</td>\n",
       "      <td>...</td>\n",
       "      <td>...</td>\n",
       "      <td>...</td>\n",
       "      <td>...</td>\n",
       "      <td>...</td>\n",
       "      <td>...</td>\n",
       "      <td>...</td>\n",
       "      <td>...</td>\n",
       "      <td>...</td>\n",
       "      <td>...</td>\n",
       "      <td>...</td>\n",
       "      <td>...</td>\n",
       "      <td>...</td>\n",
       "      <td>...</td>\n",
       "      <td>...</td>\n",
       "      <td>...</td>\n",
       "      <td>...</td>\n",
       "      <td>...</td>\n",
       "      <td>...</td>\n",
       "      <td>...</td>\n",
       "      <td>...</td>\n",
       "    </tr>\n",
       "    <tr>\n",
       "      <th>3902</th>\n",
       "      <td>cG4wV6cPEJ6319IKaA81zm0Oj6I</td>\n",
       "      <td>youtube#videoListResponse</td>\n",
       "      <td>{'resultsPerPage': 38, 'totalResults': 38}</td>\n",
       "      <td>false</td>\n",
       "      <td>None</td>\n",
       "      <td>sd</td>\n",
       "      <td>2d</td>\n",
       "      <td>PT5M</td>\n",
       "      <td>False</td>\n",
       "      <td>rectangular</td>\n",
       "      <td>GMmGMlMprluq1aE_CFkCrgGilAk</td>\n",
       "      <td>KoAbMfg9_Uk</td>\n",
       "      <td>youtube#video</td>\n",
       "      <td>10</td>\n",
       "      <td>UCbiAo0krO0BLeHGi900ESew</td>\n",
       "      <td>L01z</td>\n",
       "      <td>None</td>\n",
       "      <td>None</td>\n",
       "      <td>Burial - Unite (dubstep)</td>\n",
       "      <td>none</td>\n",
       "      <td>Burial - Unite (dubstep)</td>\n",
       "      <td>Burial - Unite</td>\n",
       "      <td>2007-06-16T00:18:14Z</td>\n",
       "      <td>90</td>\n",
       "      <td>https://i.ytimg.com/vi/KoAbMfg9_Uk/default.jpg</td>\n",
       "      <td>120</td>\n",
       "      <td>360</td>\n",
       "      <td>https://i.ytimg.com/vi/KoAbMfg9_Uk/hqdefault.jpg</td>\n",
       "      <td>480</td>\n",
       "      <td>NaN</td>\n",
       "      <td>None</td>\n",
       "      <td>NaN</td>\n",
       "      <td>180</td>\n",
       "      <td>https://i.ytimg.com/vi/KoAbMfg9_Uk/mqdefault.jpg</td>\n",
       "      <td>320</td>\n",
       "      <td>NaN</td>\n",
       "      <td>None</td>\n",
       "      <td>NaN</td>\n",
       "      <td>Burial - Unite</td>\n",
       "      <td>None</td>\n",
       "      <td>66</td>\n",
       "      <td>0</td>\n",
       "      <td>2933</td>\n",
       "      <td>854649</td>\n",
       "      <td>True</td>\n",
       "      <td>youtube</td>\n",
       "      <td>False</td>\n",
       "      <td>public</td>\n",
       "      <td>True</td>\n",
       "      <td>processed</td>\n",
       "      <td>38</td>\n",
       "      <td>38</td>\n",
       "    </tr>\n",
       "    <tr>\n",
       "      <th>3903</th>\n",
       "      <td>cG4wV6cPEJ6319IKaA81zm0Oj6I</td>\n",
       "      <td>youtube#videoListResponse</td>\n",
       "      <td>{'resultsPerPage': 38, 'totalResults': 38}</td>\n",
       "      <td>false</td>\n",
       "      <td>None</td>\n",
       "      <td>sd</td>\n",
       "      <td>2d</td>\n",
       "      <td>PT5M47S</td>\n",
       "      <td>False</td>\n",
       "      <td>rectangular</td>\n",
       "      <td>0j4O82Rruwr62QhsLmCH9cRfd28</td>\n",
       "      <td>1gj42R698Ok</td>\n",
       "      <td>youtube#video</td>\n",
       "      <td>10</td>\n",
       "      <td>UCO_Qhg7Via2U6odtb-U-dtQ</td>\n",
       "      <td>roootsman99</td>\n",
       "      <td>None</td>\n",
       "      <td>None</td>\n",
       "      <td></td>\n",
       "      <td>none</td>\n",
       "      <td></td>\n",
       "      <td>lee perry - ketch vampire</td>\n",
       "      <td>2009-02-05T15:46:13Z</td>\n",
       "      <td>90</td>\n",
       "      <td>https://i.ytimg.com/vi/1gj42R698Ok/default.jpg</td>\n",
       "      <td>120</td>\n",
       "      <td>360</td>\n",
       "      <td>https://i.ytimg.com/vi/1gj42R698Ok/hqdefault.jpg</td>\n",
       "      <td>480</td>\n",
       "      <td>NaN</td>\n",
       "      <td>None</td>\n",
       "      <td>NaN</td>\n",
       "      <td>180</td>\n",
       "      <td>https://i.ytimg.com/vi/1gj42R698Ok/mqdefault.jpg</td>\n",
       "      <td>320</td>\n",
       "      <td>NaN</td>\n",
       "      <td>None</td>\n",
       "      <td>NaN</td>\n",
       "      <td>lee perry - ketch vampire</td>\n",
       "      <td>29</td>\n",
       "      <td>5</td>\n",
       "      <td>0</td>\n",
       "      <td>479</td>\n",
       "      <td>77433</td>\n",
       "      <td>True</td>\n",
       "      <td>youtube</td>\n",
       "      <td>False</td>\n",
       "      <td>public</td>\n",
       "      <td>True</td>\n",
       "      <td>processed</td>\n",
       "      <td>38</td>\n",
       "      <td>38</td>\n",
       "    </tr>\n",
       "    <tr>\n",
       "      <th>3904</th>\n",
       "      <td>cG4wV6cPEJ6319IKaA81zm0Oj6I</td>\n",
       "      <td>youtube#videoListResponse</td>\n",
       "      <td>{'resultsPerPage': 38, 'totalResults': 38}</td>\n",
       "      <td>false</td>\n",
       "      <td>None</td>\n",
       "      <td>hd</td>\n",
       "      <td>2d</td>\n",
       "      <td>PT3M29S</td>\n",
       "      <td>True</td>\n",
       "      <td>rectangular</td>\n",
       "      <td>7sWLCFY3yeu8xtpPPiU23FHYQZs</td>\n",
       "      <td>cHfp54PxZ3c</td>\n",
       "      <td>youtube#video</td>\n",
       "      <td>10</td>\n",
       "      <td>UCLf-3768gEw4wA81xLP1c1g</td>\n",
       "      <td>Memphis Industries</td>\n",
       "      <td>en-US</td>\n",
       "      <td>None</td>\n",
       "      <td>Buy on 7\" white vinyl or download: http://po.s...</td>\n",
       "      <td>none</td>\n",
       "      <td>Buy on 7\" white vinyl or download: http://po.s...</td>\n",
       "      <td>Elephant - Shapeshifter</td>\n",
       "      <td>2013-11-20T14:26:22Z</td>\n",
       "      <td>90</td>\n",
       "      <td>https://i.ytimg.com/vi/cHfp54PxZ3c/default.jpg</td>\n",
       "      <td>120</td>\n",
       "      <td>360</td>\n",
       "      <td>https://i.ytimg.com/vi/cHfp54PxZ3c/hqdefault.jpg</td>\n",
       "      <td>480</td>\n",
       "      <td>720.0</td>\n",
       "      <td>https://i.ytimg.com/vi/cHfp54PxZ3c/maxresdefau...</td>\n",
       "      <td>1280.0</td>\n",
       "      <td>180</td>\n",
       "      <td>https://i.ytimg.com/vi/cHfp54PxZ3c/mqdefault.jpg</td>\n",
       "      <td>320</td>\n",
       "      <td>480.0</td>\n",
       "      <td>https://i.ytimg.com/vi/cHfp54PxZ3c/sddefault.jpg</td>\n",
       "      <td>640.0</td>\n",
       "      <td>Elephant - Shapeshifter</td>\n",
       "      <td>74</td>\n",
       "      <td>29</td>\n",
       "      <td>0</td>\n",
       "      <td>1640</td>\n",
       "      <td>167130</td>\n",
       "      <td>True</td>\n",
       "      <td>youtube</td>\n",
       "      <td>False</td>\n",
       "      <td>public</td>\n",
       "      <td>True</td>\n",
       "      <td>processed</td>\n",
       "      <td>38</td>\n",
       "      <td>38</td>\n",
       "    </tr>\n",
       "    <tr>\n",
       "      <th>3905</th>\n",
       "      <td>cG4wV6cPEJ6319IKaA81zm0Oj6I</td>\n",
       "      <td>youtube#videoListResponse</td>\n",
       "      <td>{'resultsPerPage': 38, 'totalResults': 38}</td>\n",
       "      <td>false</td>\n",
       "      <td>None</td>\n",
       "      <td>hd</td>\n",
       "      <td>2d</td>\n",
       "      <td>PT7M45S</td>\n",
       "      <td>False</td>\n",
       "      <td>rectangular</td>\n",
       "      <td>oxN8btERWt9PKA9C1zZQ32eMWOc</td>\n",
       "      <td>7-3i7kBwcxQ</td>\n",
       "      <td>youtube#video</td>\n",
       "      <td>10</td>\n",
       "      <td>UCIVYAXPwmi0dbMxaKi8G2kw</td>\n",
       "      <td>czetaboy</td>\n",
       "      <td>None</td>\n",
       "      <td>None</td>\n",
       "      <td>video from the movie Faster.\\n\\nhttp://youtu.b...</td>\n",
       "      <td>none</td>\n",
       "      <td>video from the movie Faster.\\n\\nhttp://youtu.b...</td>\n",
       "      <td>Dub fx - Flow vs. Rock</td>\n",
       "      <td>2011-02-17T17:10:56Z</td>\n",
       "      <td>90</td>\n",
       "      <td>https://i.ytimg.com/vi/7-3i7kBwcxQ/default.jpg</td>\n",
       "      <td>120</td>\n",
       "      <td>360</td>\n",
       "      <td>https://i.ytimg.com/vi/7-3i7kBwcxQ/hqdefault.jpg</td>\n",
       "      <td>480</td>\n",
       "      <td>720.0</td>\n",
       "      <td>https://i.ytimg.com/vi/7-3i7kBwcxQ/maxresdefau...</td>\n",
       "      <td>1280.0</td>\n",
       "      <td>180</td>\n",
       "      <td>https://i.ytimg.com/vi/7-3i7kBwcxQ/mqdefault.jpg</td>\n",
       "      <td>320</td>\n",
       "      <td>480.0</td>\n",
       "      <td>https://i.ytimg.com/vi/7-3i7kBwcxQ/sddefault.jpg</td>\n",
       "      <td>640.0</td>\n",
       "      <td>Dub fx - Flow vs. Rock</td>\n",
       "      <td>128</td>\n",
       "      <td>78</td>\n",
       "      <td>0</td>\n",
       "      <td>2209</td>\n",
       "      <td>599996</td>\n",
       "      <td>True</td>\n",
       "      <td>youtube</td>\n",
       "      <td>False</td>\n",
       "      <td>public</td>\n",
       "      <td>True</td>\n",
       "      <td>processed</td>\n",
       "      <td>38</td>\n",
       "      <td>38</td>\n",
       "    </tr>\n",
       "    <tr>\n",
       "      <th>3906</th>\n",
       "      <td>cG4wV6cPEJ6319IKaA81zm0Oj6I</td>\n",
       "      <td>youtube#videoListResponse</td>\n",
       "      <td>{'resultsPerPage': 38, 'totalResults': 38}</td>\n",
       "      <td>false</td>\n",
       "      <td>None</td>\n",
       "      <td>sd</td>\n",
       "      <td>2d</td>\n",
       "      <td>PT6M37S</td>\n",
       "      <td>False</td>\n",
       "      <td>rectangular</td>\n",
       "      <td>VB68oljQRV0JNdNcEPTedsxPtRA</td>\n",
       "      <td>uTWZro4mw4w</td>\n",
       "      <td>youtube#video</td>\n",
       "      <td>10</td>\n",
       "      <td>UC5vu-jK6cS3dJ1dzTdpBqXg</td>\n",
       "      <td>endroyd</td>\n",
       "      <td>None</td>\n",
       "      <td>None</td>\n",
       "      <td>blorpmusic.bandcamp.com\\nhttp://facebook.com/b...</td>\n",
       "      <td>none</td>\n",
       "      <td>blorpmusic.bandcamp.com\\nhttp://facebook.com/b...</td>\n",
       "      <td>Gnork - Blorp 93</td>\n",
       "      <td>2013-08-30T15:30:47Z</td>\n",
       "      <td>90</td>\n",
       "      <td>https://i.ytimg.com/vi/uTWZro4mw4w/default.jpg</td>\n",
       "      <td>120</td>\n",
       "      <td>360</td>\n",
       "      <td>https://i.ytimg.com/vi/uTWZro4mw4w/hqdefault.jpg</td>\n",
       "      <td>480</td>\n",
       "      <td>NaN</td>\n",
       "      <td>None</td>\n",
       "      <td>NaN</td>\n",
       "      <td>180</td>\n",
       "      <td>https://i.ytimg.com/vi/uTWZro4mw4w/mqdefault.jpg</td>\n",
       "      <td>320</td>\n",
       "      <td>NaN</td>\n",
       "      <td>None</td>\n",
       "      <td>NaN</td>\n",
       "      <td>Gnork - Blorp 93</td>\n",
       "      <td>101</td>\n",
       "      <td>17</td>\n",
       "      <td>0</td>\n",
       "      <td>3283</td>\n",
       "      <td>156999</td>\n",
       "      <td>True</td>\n",
       "      <td>youtube</td>\n",
       "      <td>False</td>\n",
       "      <td>public</td>\n",
       "      <td>False</td>\n",
       "      <td>processed</td>\n",
       "      <td>38</td>\n",
       "      <td>38</td>\n",
       "    </tr>\n",
       "  </tbody>\n",
       "</table>\n",
       "<p>3907 rows × 52 columns</p>\n",
       "</div>"
      ]
     },
     "metadata": {
      "application/vnd.databricks.v1+output": {
       "addedWidgets": {},
       "arguments": {},
       "data": "<div>\n<style scoped>\n    .dataframe tbody tr th:only-of-type {\n        vertical-align: middle;\n    }\n\n    .dataframe tbody tr th {\n        vertical-align: top;\n    }\n\n    .dataframe thead th {\n        text-align: right;\n    }\n</style>\n<table border=\"1\" class=\"dataframe\">\n  <thead>\n    <tr style=\"text-align: right;\">\n      <th></th>\n      <th>etag</th>\n      <th>kind</th>\n      <th>pageInfo</th>\n      <th>items.contentDetails.caption</th>\n      <th>items.contentDetails.contentRating.ytRating</th>\n      <th>items.contentDetails.definition</th>\n      <th>items.contentDetails.dimension</th>\n      <th>items.contentDetails.duration</th>\n      <th>items.contentDetails.licensedContent</th>\n      <th>items.contentDetails.projection</th>\n      <th>items.etag</th>\n      <th>items.id</th>\n      <th>items.kind</th>\n      <th>items.snippet.categoryId</th>\n      <th>items.snippet.channelId</th>\n      <th>items.snippet.channelTitle</th>\n      <th>items.snippet.defaultAudioLanguage</th>\n      <th>items.snippet.defaultLanguage</th>\n      <th>items.snippet.description</th>\n      <th>items.snippet.liveBroadcastContent</th>\n      <th>items.snippet.localized.description</th>\n      <th>items.snippet.localized.title</th>\n      <th>items.snippet.publishedAt</th>\n      <th>items.snippet.thumbnails.default.height</th>\n      <th>items.snippet.thumbnails.default.url</th>\n      <th>items.snippet.thumbnails.default.width</th>\n      <th>items.snippet.thumbnails.high.height</th>\n      <th>items.snippet.thumbnails.high.url</th>\n      <th>items.snippet.thumbnails.high.width</th>\n      <th>items.snippet.thumbnails.maxres.height</th>\n      <th>items.snippet.thumbnails.maxres.url</th>\n      <th>items.snippet.thumbnails.maxres.width</th>\n      <th>items.snippet.thumbnails.medium.height</th>\n      <th>items.snippet.thumbnails.medium.url</th>\n      <th>items.snippet.thumbnails.medium.width</th>\n      <th>items.snippet.thumbnails.standard.height</th>\n      <th>items.snippet.thumbnails.standard.url</th>\n      <th>items.snippet.thumbnails.standard.width</th>\n      <th>items.snippet.title</th>\n      <th>items.statistics.commentCount</th>\n      <th>items.statistics.dislikeCount</th>\n      <th>items.statistics.favoriteCount</th>\n      <th>items.statistics.likeCount</th>\n      <th>items.statistics.viewCount</th>\n      <th>items.status.embeddable</th>\n      <th>items.status.license</th>\n      <th>items.status.madeForKids</th>\n      <th>items.status.privacyStatus</th>\n      <th>items.status.publicStatsViewable</th>\n      <th>items.status.uploadStatus</th>\n      <th>pageInfo.resultsPerPage</th>\n      <th>pageInfo.totalResults</th>\n    </tr>\n  </thead>\n  <tbody>\n    <tr>\n      <th>0</th>\n      <td>U0fncx_GV9jD5SKQr15LMvwuPcs</td>\n      <td>youtube#videoListResponse</td>\n      <td>{'resultsPerPage': 38, 'totalResults': 38}</td>\n      <td>false</td>\n      <td>None</td>\n      <td>sd</td>\n      <td>2d</td>\n      <td>PT3M33S</td>\n      <td>True</td>\n      <td>rectangular</td>\n      <td>SqP7uUVSol30dxvuScN6JUny6T4</td>\n      <td>t1l8Z6gLPzo</td>\n      <td>youtube#video</td>\n      <td>10</td>\n      <td>UCUERSOitwgUq_37kGslN96w</td>\n      <td>VOLO</td>\n      <td>None</td>\n      <td>None</td>\n      <td>Enregistré et mixé par Cyrille PELTIER au \"Kee...</td>\n      <td>none</td>\n      <td>Enregistré et mixé par Cyrille PELTIER au \"Kee...</td>\n      <td>VOLO. \"L'air d'un con\"</td>\n      <td>2013-07-22T12:09:11Z</td>\n      <td>90</td>\n      <td>https://i.ytimg.com/vi/t1l8Z6gLPzo/default.jpg</td>\n      <td>120</td>\n      <td>360</td>\n      <td>https://i.ytimg.com/vi/t1l8Z6gLPzo/hqdefault.jpg</td>\n      <td>480</td>\n      <td>NaN</td>\n      <td>None</td>\n      <td>NaN</td>\n      <td>180</td>\n      <td>https://i.ytimg.com/vi/t1l8Z6gLPzo/mqdefault.jpg</td>\n      <td>320</td>\n      <td>480.0</td>\n      <td>https://i.ytimg.com/vi/t1l8Z6gLPzo/sddefault.jpg</td>\n      <td>640.0</td>\n      <td>VOLO. \"L'air d'un con\"</td>\n      <td>38</td>\n      <td>26</td>\n      <td>0</td>\n      <td>1028</td>\n      <td>223172</td>\n      <td>True</td>\n      <td>youtube</td>\n      <td>False</td>\n      <td>public</td>\n      <td>True</td>\n      <td>processed</td>\n      <td>38</td>\n      <td>38</td>\n    </tr>\n    <tr>\n      <th>1</th>\n      <td>U0fncx_GV9jD5SKQr15LMvwuPcs</td>\n      <td>youtube#videoListResponse</td>\n      <td>{'resultsPerPage': 38, 'totalResults': 38}</td>\n      <td>false</td>\n      <td>None</td>\n      <td>hd</td>\n      <td>2d</td>\n      <td>PT7M46S</td>\n      <td>False</td>\n      <td>rectangular</td>\n      <td>m3DnhzTEw9ABiqzBvdasfk5Av_8</td>\n      <td>we5gzZq5Avg</td>\n      <td>youtube#video</td>\n      <td>10</td>\n      <td>UCson549gpvRhPnJ3Whs5onA</td>\n      <td>LongWayToDream</td>\n      <td>None</td>\n      <td>None</td>\n      <td>Air Conditionné EP</td>\n      <td>none</td>\n      <td>Air Conditionné EP</td>\n      <td>Julian Jeweil - Air Conditionné</td>\n      <td>2012-03-17T08:34:30Z</td>\n      <td>90</td>\n      <td>https://i.ytimg.com/vi/we5gzZq5Avg/default.jpg</td>\n      <td>120</td>\n      <td>360</td>\n      <td>https://i.ytimg.com/vi/we5gzZq5Avg/hqdefault.jpg</td>\n      <td>480</td>\n      <td>720.0</td>\n      <td>https://i.ytimg.com/vi/we5gzZq5Avg/maxresdefau...</td>\n      <td>1280.0</td>\n      <td>180</td>\n      <td>https://i.ytimg.com/vi/we5gzZq5Avg/mqdefault.jpg</td>\n      <td>320</td>\n      <td>480.0</td>\n      <td>https://i.ytimg.com/vi/we5gzZq5Avg/sddefault.jpg</td>\n      <td>640.0</td>\n      <td>Julian Jeweil - Air Conditionné</td>\n      <td>2</td>\n      <td>3</td>\n      <td>0</td>\n      <td>124</td>\n      <td>13409</td>\n      <td>True</td>\n      <td>youtube</td>\n      <td>False</td>\n      <td>public</td>\n      <td>True</td>\n      <td>processed</td>\n      <td>38</td>\n      <td>38</td>\n    </tr>\n    <tr>\n      <th>2</th>\n      <td>U0fncx_GV9jD5SKQr15LMvwuPcs</td>\n      <td>youtube#videoListResponse</td>\n      <td>{'resultsPerPage': 38, 'totalResults': 38}</td>\n      <td>false</td>\n      <td>None</td>\n      <td>sd</td>\n      <td>2d</td>\n      <td>PT3M7S</td>\n      <td>False</td>\n      <td>rectangular</td>\n      <td>zyzs7STAR3NG-_pZe-0nGkbKoqg</td>\n      <td>49esza4eiK4</td>\n      <td>youtube#video</td>\n      <td>10</td>\n      <td>UCcHYZ8Ez4gG_2bHEuBL8IfQ</td>\n      <td>Downtown Records</td>\n      <td>None</td>\n      <td>None</td>\n      <td>myspace.com/etjusticepourtous\\r\\n(Downtown / E...</td>\n      <td>none</td>\n      <td>myspace.com/etjusticepourtous\\r\\n(Downtown / E...</td>\n      <td>Justice - D.A.N.C.E</td>\n      <td>2007-09-08T02:02:07Z</td>\n      <td>90</td>\n      <td>https://i.ytimg.com/vi/49esza4eiK4/default.jpg</td>\n      <td>120</td>\n      <td>360</td>\n      <td>https://i.ytimg.com/vi/49esza4eiK4/hqdefault.jpg</td>\n      <td>480</td>\n      <td>NaN</td>\n      <td>None</td>\n      <td>NaN</td>\n      <td>180</td>\n      <td>https://i.ytimg.com/vi/49esza4eiK4/mqdefault.jpg</td>\n      <td>320</td>\n      <td>NaN</td>\n      <td>None</td>\n      <td>NaN</td>\n      <td>Justice - D.A.N.C.E</td>\n      <td>3168</td>\n      <td>780</td>\n      <td>0</td>\n      <td>25540</td>\n      <td>10106655</td>\n      <td>True</td>\n      <td>youtube</td>\n      <td>False</td>\n      <td>public</td>\n      <td>True</td>\n      <td>processed</td>\n      <td>38</td>\n      <td>38</td>\n    </tr>\n    <tr>\n      <th>3</th>\n      <td>U0fncx_GV9jD5SKQr15LMvwuPcs</td>\n      <td>youtube#videoListResponse</td>\n      <td>{'resultsPerPage': 38, 'totalResults': 38}</td>\n      <td>false</td>\n      <td>None</td>\n      <td>hd</td>\n      <td>2d</td>\n      <td>PT3M43S</td>\n      <td>False</td>\n      <td>rectangular</td>\n      <td>hX2C15F6fdO5A-stUFMU5Az2PvI</td>\n      <td>BoO6LfR7ca0</td>\n      <td>youtube#video</td>\n      <td>22</td>\n      <td>UCQ0wLCF7u23gZKJkHFs1Tpg</td>\n      <td>Music Is Our Drug</td>\n      <td>None</td>\n      <td>None</td>\n      <td>♫ Music Is Our Drug - Spotify Playlist: https:...</td>\n      <td>none</td>\n      <td>♫ Music Is Our Drug - Spotify Playlist: https:...</td>\n      <td>Gramatik - Torture (feat. Eric Krasno)</td>\n      <td>2014-01-24T12:52:38Z</td>\n      <td>90</td>\n      <td>https://i.ytimg.com/vi/BoO6LfR7ca0/default.jpg</td>\n      <td>120</td>\n      <td>360</td>\n      <td>https://i.ytimg.com/vi/BoO6LfR7ca0/hqdefault.jpg</td>\n      <td>480</td>\n      <td>720.0</td>\n      <td>https://i.ytimg.com/vi/BoO6LfR7ca0/maxresdefau...</td>\n      <td>1280.0</td>\n      <td>180</td>\n      <td>https://i.ytimg.com/vi/BoO6LfR7ca0/mqdefault.jpg</td>\n      <td>320</td>\n      <td>480.0</td>\n      <td>https://i.ytimg.com/vi/BoO6LfR7ca0/sddefault.jpg</td>\n      <td>640.0</td>\n      <td>Gramatik - Torture (feat. Eric Krasno)</td>\n      <td>6</td>\n      <td>0</td>\n      <td>0</td>\n      <td>255</td>\n      <td>29153</td>\n      <td>True</td>\n      <td>youtube</td>\n      <td>False</td>\n      <td>public</td>\n      <td>True</td>\n      <td>processed</td>\n      <td>38</td>\n      <td>38</td>\n    </tr>\n    <tr>\n      <th>4</th>\n      <td>U0fncx_GV9jD5SKQr15LMvwuPcs</td>\n      <td>youtube#videoListResponse</td>\n      <td>{'resultsPerPage': 38, 'totalResults': 38}</td>\n      <td>false</td>\n      <td>None</td>\n      <td>hd</td>\n      <td>2d</td>\n      <td>PT5M</td>\n      <td>False</td>\n      <td>rectangular</td>\n      <td>rYHoV38PLpMbRuX_zhGTVBKNotw</td>\n      <td>DaH4W1rY9us</td>\n      <td>youtube#video</td>\n      <td>10</td>\n      <td>UCJsTMPZxYD-Q3kEmL4Qijpg</td>\n      <td>Harvey Pearson</td>\n      <td>None</td>\n      <td>None</td>\n      <td>Buy The Burgh Island EP now:\\nhttps://itunes.a...</td>\n      <td>none</td>\n      <td>Buy The Burgh Island EP now:\\nhttps://itunes.a...</td>\n      <td>Ben Howard - Oats In The Water</td>\n      <td>2012-12-02T12:41:13Z</td>\n      <td>90</td>\n      <td>https://i.ytimg.com/vi/DaH4W1rY9us/default.jpg</td>\n      <td>120</td>\n      <td>360</td>\n      <td>https://i.ytimg.com/vi/DaH4W1rY9us/hqdefault.jpg</td>\n      <td>480</td>\n      <td>720.0</td>\n      <td>https://i.ytimg.com/vi/DaH4W1rY9us/maxresdefau...</td>\n      <td>1280.0</td>\n      <td>180</td>\n      <td>https://i.ytimg.com/vi/DaH4W1rY9us/mqdefault.jpg</td>\n      <td>320</td>\n      <td>480.0</td>\n      <td>https://i.ytimg.com/vi/DaH4W1rY9us/sddefault.jpg</td>\n      <td>640.0</td>\n      <td>Ben Howard - Oats In The Water</td>\n      <td>5303</td>\n      <td>1784</td>\n      <td>0</td>\n      <td>136033</td>\n      <td>16488714</td>\n      <td>True</td>\n      <td>youtube</td>\n      <td>False</td>\n      <td>public</td>\n      <td>True</td>\n      <td>processed</td>\n      <td>38</td>\n      <td>38</td>\n    </tr>\n    <tr>\n      <th>...</th>\n      <td>...</td>\n      <td>...</td>\n      <td>...</td>\n      <td>...</td>\n      <td>...</td>\n      <td>...</td>\n      <td>...</td>\n      <td>...</td>\n      <td>...</td>\n      <td>...</td>\n      <td>...</td>\n      <td>...</td>\n      <td>...</td>\n      <td>...</td>\n      <td>...</td>\n      <td>...</td>\n      <td>...</td>\n      <td>...</td>\n      <td>...</td>\n      <td>...</td>\n      <td>...</td>\n      <td>...</td>\n      <td>...</td>\n      <td>...</td>\n      <td>...</td>\n      <td>...</td>\n      <td>...</td>\n      <td>...</td>\n      <td>...</td>\n      <td>...</td>\n      <td>...</td>\n      <td>...</td>\n      <td>...</td>\n      <td>...</td>\n      <td>...</td>\n      <td>...</td>\n      <td>...</td>\n      <td>...</td>\n      <td>...</td>\n      <td>...</td>\n      <td>...</td>\n      <td>...</td>\n      <td>...</td>\n      <td>...</td>\n      <td>...</td>\n      <td>...</td>\n      <td>...</td>\n      <td>...</td>\n      <td>...</td>\n      <td>...</td>\n      <td>...</td>\n      <td>...</td>\n    </tr>\n    <tr>\n      <th>3902</th>\n      <td>cG4wV6cPEJ6319IKaA81zm0Oj6I</td>\n      <td>youtube#videoListResponse</td>\n      <td>{'resultsPerPage': 38, 'totalResults': 38}</td>\n      <td>false</td>\n      <td>None</td>\n      <td>sd</td>\n      <td>2d</td>\n      <td>PT5M</td>\n      <td>False</td>\n      <td>rectangular</td>\n      <td>GMmGMlMprluq1aE_CFkCrgGilAk</td>\n      <td>KoAbMfg9_Uk</td>\n      <td>youtube#video</td>\n      <td>10</td>\n      <td>UCbiAo0krO0BLeHGi900ESew</td>\n      <td>L01z</td>\n      <td>None</td>\n      <td>None</td>\n      <td>Burial - Unite (dubstep)</td>\n      <td>none</td>\n      <td>Burial - Unite (dubstep)</td>\n      <td>Burial - Unite</td>\n      <td>2007-06-16T00:18:14Z</td>\n      <td>90</td>\n      <td>https://i.ytimg.com/vi/KoAbMfg9_Uk/default.jpg</td>\n      <td>120</td>\n      <td>360</td>\n      <td>https://i.ytimg.com/vi/KoAbMfg9_Uk/hqdefault.jpg</td>\n      <td>480</td>\n      <td>NaN</td>\n      <td>None</td>\n      <td>NaN</td>\n      <td>180</td>\n      <td>https://i.ytimg.com/vi/KoAbMfg9_Uk/mqdefault.jpg</td>\n      <td>320</td>\n      <td>NaN</td>\n      <td>None</td>\n      <td>NaN</td>\n      <td>Burial - Unite</td>\n      <td>None</td>\n      <td>66</td>\n      <td>0</td>\n      <td>2933</td>\n      <td>854649</td>\n      <td>True</td>\n      <td>youtube</td>\n      <td>False</td>\n      <td>public</td>\n      <td>True</td>\n      <td>processed</td>\n      <td>38</td>\n      <td>38</td>\n    </tr>\n    <tr>\n      <th>3903</th>\n      <td>cG4wV6cPEJ6319IKaA81zm0Oj6I</td>\n      <td>youtube#videoListResponse</td>\n      <td>{'resultsPerPage': 38, 'totalResults': 38}</td>\n      <td>false</td>\n      <td>None</td>\n      <td>sd</td>\n      <td>2d</td>\n      <td>PT5M47S</td>\n      <td>False</td>\n      <td>rectangular</td>\n      <td>0j4O82Rruwr62QhsLmCH9cRfd28</td>\n      <td>1gj42R698Ok</td>\n      <td>youtube#video</td>\n      <td>10</td>\n      <td>UCO_Qhg7Via2U6odtb-U-dtQ</td>\n      <td>roootsman99</td>\n      <td>None</td>\n      <td>None</td>\n      <td></td>\n      <td>none</td>\n      <td></td>\n      <td>lee perry - ketch vampire</td>\n      <td>2009-02-05T15:46:13Z</td>\n      <td>90</td>\n      <td>https://i.ytimg.com/vi/1gj42R698Ok/default.jpg</td>\n      <td>120</td>\n      <td>360</td>\n      <td>https://i.ytimg.com/vi/1gj42R698Ok/hqdefault.jpg</td>\n      <td>480</td>\n      <td>NaN</td>\n      <td>None</td>\n      <td>NaN</td>\n      <td>180</td>\n      <td>https://i.ytimg.com/vi/1gj42R698Ok/mqdefault.jpg</td>\n      <td>320</td>\n      <td>NaN</td>\n      <td>None</td>\n      <td>NaN</td>\n      <td>lee perry - ketch vampire</td>\n      <td>29</td>\n      <td>5</td>\n      <td>0</td>\n      <td>479</td>\n      <td>77433</td>\n      <td>True</td>\n      <td>youtube</td>\n      <td>False</td>\n      <td>public</td>\n      <td>True</td>\n      <td>processed</td>\n      <td>38</td>\n      <td>38</td>\n    </tr>\n    <tr>\n      <th>3904</th>\n      <td>cG4wV6cPEJ6319IKaA81zm0Oj6I</td>\n      <td>youtube#videoListResponse</td>\n      <td>{'resultsPerPage': 38, 'totalResults': 38}</td>\n      <td>false</td>\n      <td>None</td>\n      <td>hd</td>\n      <td>2d</td>\n      <td>PT3M29S</td>\n      <td>True</td>\n      <td>rectangular</td>\n      <td>7sWLCFY3yeu8xtpPPiU23FHYQZs</td>\n      <td>cHfp54PxZ3c</td>\n      <td>youtube#video</td>\n      <td>10</td>\n      <td>UCLf-3768gEw4wA81xLP1c1g</td>\n      <td>Memphis Industries</td>\n      <td>en-US</td>\n      <td>None</td>\n      <td>Buy on 7\" white vinyl or download: http://po.s...</td>\n      <td>none</td>\n      <td>Buy on 7\" white vinyl or download: http://po.s...</td>\n      <td>Elephant - Shapeshifter</td>\n      <td>2013-11-20T14:26:22Z</td>\n      <td>90</td>\n      <td>https://i.ytimg.com/vi/cHfp54PxZ3c/default.jpg</td>\n      <td>120</td>\n      <td>360</td>\n      <td>https://i.ytimg.com/vi/cHfp54PxZ3c/hqdefault.jpg</td>\n      <td>480</td>\n      <td>720.0</td>\n      <td>https://i.ytimg.com/vi/cHfp54PxZ3c/maxresdefau...</td>\n      <td>1280.0</td>\n      <td>180</td>\n      <td>https://i.ytimg.com/vi/cHfp54PxZ3c/mqdefault.jpg</td>\n      <td>320</td>\n      <td>480.0</td>\n      <td>https://i.ytimg.com/vi/cHfp54PxZ3c/sddefault.jpg</td>\n      <td>640.0</td>\n      <td>Elephant - Shapeshifter</td>\n      <td>74</td>\n      <td>29</td>\n      <td>0</td>\n      <td>1640</td>\n      <td>167130</td>\n      <td>True</td>\n      <td>youtube</td>\n      <td>False</td>\n      <td>public</td>\n      <td>True</td>\n      <td>processed</td>\n      <td>38</td>\n      <td>38</td>\n    </tr>\n    <tr>\n      <th>3905</th>\n      <td>cG4wV6cPEJ6319IKaA81zm0Oj6I</td>\n      <td>youtube#videoListResponse</td>\n      <td>{'resultsPerPage': 38, 'totalResults': 38}</td>\n      <td>false</td>\n      <td>None</td>\n      <td>hd</td>\n      <td>2d</td>\n      <td>PT7M45S</td>\n      <td>False</td>\n      <td>rectangular</td>\n      <td>oxN8btERWt9PKA9C1zZQ32eMWOc</td>\n      <td>7-3i7kBwcxQ</td>\n      <td>youtube#video</td>\n      <td>10</td>\n      <td>UCIVYAXPwmi0dbMxaKi8G2kw</td>\n      <td>czetaboy</td>\n      <td>None</td>\n      <td>None</td>\n      <td>video from the movie Faster.\\n\\nhttp://youtu.b...</td>\n      <td>none</td>\n      <td>video from the movie Faster.\\n\\nhttp://youtu.b...</td>\n      <td>Dub fx - Flow vs. Rock</td>\n      <td>2011-02-17T17:10:56Z</td>\n      <td>90</td>\n      <td>https://i.ytimg.com/vi/7-3i7kBwcxQ/default.jpg</td>\n      <td>120</td>\n      <td>360</td>\n      <td>https://i.ytimg.com/vi/7-3i7kBwcxQ/hqdefault.jpg</td>\n      <td>480</td>\n      <td>720.0</td>\n      <td>https://i.ytimg.com/vi/7-3i7kBwcxQ/maxresdefau...</td>\n      <td>1280.0</td>\n      <td>180</td>\n      <td>https://i.ytimg.com/vi/7-3i7kBwcxQ/mqdefault.jpg</td>\n      <td>320</td>\n      <td>480.0</td>\n      <td>https://i.ytimg.com/vi/7-3i7kBwcxQ/sddefault.jpg</td>\n      <td>640.0</td>\n      <td>Dub fx - Flow vs. Rock</td>\n      <td>128</td>\n      <td>78</td>\n      <td>0</td>\n      <td>2209</td>\n      <td>599996</td>\n      <td>True</td>\n      <td>youtube</td>\n      <td>False</td>\n      <td>public</td>\n      <td>True</td>\n      <td>processed</td>\n      <td>38</td>\n      <td>38</td>\n    </tr>\n    <tr>\n      <th>3906</th>\n      <td>cG4wV6cPEJ6319IKaA81zm0Oj6I</td>\n      <td>youtube#videoListResponse</td>\n      <td>{'resultsPerPage': 38, 'totalResults': 38}</td>\n      <td>false</td>\n      <td>None</td>\n      <td>sd</td>\n      <td>2d</td>\n      <td>PT6M37S</td>\n      <td>False</td>\n      <td>rectangular</td>\n      <td>VB68oljQRV0JNdNcEPTedsxPtRA</td>\n      <td>uTWZro4mw4w</td>\n      <td>youtube#video</td>\n      <td>10</td>\n      <td>UC5vu-jK6cS3dJ1dzTdpBqXg</td>\n      <td>endroyd</td>\n      <td>None</td>\n      <td>None</td>\n      <td>blorpmusic.bandcamp.com\\nhttp://facebook.com/b...</td>\n      <td>none</td>\n      <td>blorpmusic.bandcamp.com\\nhttp://facebook.com/b...</td>\n      <td>Gnork - Blorp 93</td>\n      <td>2013-08-30T15:30:47Z</td>\n      <td>90</td>\n      <td>https://i.ytimg.com/vi/uTWZro4mw4w/default.jpg</td>\n      <td>120</td>\n      <td>360</td>\n      <td>https://i.ytimg.com/vi/uTWZro4mw4w/hqdefault.jpg</td>\n      <td>480</td>\n      <td>NaN</td>\n      <td>None</td>\n      <td>NaN</td>\n      <td>180</td>\n      <td>https://i.ytimg.com/vi/uTWZro4mw4w/mqdefault.jpg</td>\n      <td>320</td>\n      <td>NaN</td>\n      <td>None</td>\n      <td>NaN</td>\n      <td>Gnork - Blorp 93</td>\n      <td>101</td>\n      <td>17</td>\n      <td>0</td>\n      <td>3283</td>\n      <td>156999</td>\n      <td>True</td>\n      <td>youtube</td>\n      <td>False</td>\n      <td>public</td>\n      <td>False</td>\n      <td>processed</td>\n      <td>38</td>\n      <td>38</td>\n    </tr>\n  </tbody>\n</table>\n<p>3907 rows × 52 columns</p>\n</div>",
       "datasetInfos": [],
       "removedWidgets": [],
       "textData": null,
       "type": "htmlSandbox"
      }
     },
     "output_type": "display_data"
    }
   ],
   "source": [
    "# TODO: explode th\n",
    "### BEGIN STRIP ###\n",
    "import functools \n",
    "from pyspark.sql import functions as F\n",
    "\n",
    "df_eclate = functools.reduce(lambda temp_df, col_name: temp_df.withColumn(col_name, F.col(col_name)), walkSchema(df.schema), df).drop(\"items\")\n",
    "df_eclate.toPandas()\n",
    "### END STRIP ###"
   ]
  },
  {
   "cell_type": "markdown",
   "metadata": {
    "application/vnd.databricks.v1+cell": {
     "inputWidgets": {},
     "nuid": "3792e1af-2e11-4dbd-8bf5-77a7e749730c",
     "showTitle": false,
     "title": ""
    }
   },
   "source": [
    "How amazing what we can do with a couple lines of well written code, isn't it?"
   ]
  },
  {
   "cell_type": "markdown",
   "metadata": {
    "application/vnd.databricks.v1+cell": {
     "inputWidgets": {},
     "nuid": "a564b42c-4276-4c6c-bb50-ed70bd65e01f",
     "showTitle": false,
     "title": ""
    }
   },
   "source": [
    "Now that we're here, would be a good time to start analyzing the data we got. We will do this in the next assignment."
   ]
  },
  {
   "cell_type": "code",
   "execution_count": null,
   "metadata": {
    "application/vnd.databricks.v1+cell": {
     "inputWidgets": {},
     "nuid": "a945e6b3-5b2d-41fa-b145-97331937d04f",
     "showTitle": false,
     "title": ""
    }
   },
   "outputs": [
    {
     "data": {
      "text/html": [
       "<style scoped>\n",
       "  .ansiout {\n",
       "    display: block;\n",
       "    unicode-bidi: embed;\n",
       "    white-space: pre-wrap;\n",
       "    word-wrap: break-word;\n",
       "    word-break: break-all;\n",
       "    font-family: \"Source Code Pro\", \"Menlo\", monospace;;\n",
       "    font-size: 13px;\n",
       "    color: #555;\n",
       "    margin-left: 4px;\n",
       "    line-height: 19px;\n",
       "  }\n",
       "</style>\n",
       "<div class=\"ansiout\"></div>"
      ]
     },
     "metadata": {
      "application/vnd.databricks.v1+output": {
       "addedWidgets": {},
       "arguments": {},
       "data": "<div class=\"ansiout\"></div>",
       "datasetInfos": [],
       "removedWidgets": [],
       "type": "html"
      }
     },
     "output_type": "display_data"
    }
   ],
   "source": [
    "# TODO: Save the output to S3 as a parquet file\n",
    "### BEGIN STRIP ###\n",
    "df_eclate.write.mode(\"overwrite\").parquet(\"/tmp/youtube_eclate.parquet\")\n",
    "### END STRIP ###"
   ]
  }
 ],
 "metadata": {
  "application/vnd.databricks.v1+notebook": {
   "dashboards": [],
   "language": "python",
   "notebookName": "03-Tidying_up_Part_2",
   "notebookOrigID": 1597076513079462,
   "widgets": {}
  },
  "kernelspec": {
   "display_name": "Python 3",
   "language": "python",
   "name": "python3"
  },
  "language_info": {
   "codemirror_mode": {
    "name": "ipython",
    "version": 3
   },
   "file_extension": ".py",
   "mimetype": "text/x-python",
   "name": "python",
   "nbconvert_exporter": "python",
   "pygments_lexer": "ipython3",
   "version": "3.8.6"
  }
 },
 "nbformat": 4,
 "nbformat_minor": 4
}
