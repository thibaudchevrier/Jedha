{
 "cells": [
  {
   "cell_type": "markdown",
   "metadata": {
    "application/vnd.databricks.v1+cell": {
     "inputWidgets": {},
     "nuid": "36c83a60-413b-4005-9fcf-a9911e33104a",
     "showTitle": false,
     "title": ""
    }
   },
   "source": [
    "# Tidying up our data - Part 1"
   ]
  },
  {
   "cell_type": "markdown",
   "metadata": {
    "application/vnd.databricks.v1+cell": {
     "inputWidgets": {},
     "nuid": "b2b8f714-50e2-481b-9280-7a1ccd77ea0e",
     "showTitle": false,
     "title": ""
    }
   },
   "source": [
    "# Learning objectives\n",
    "\n",
    "- Manipulate deeply nested json and transform it into structured data ready to be loaded onto a Data Warehousing system"
   ]
  },
  {
   "cell_type": "markdown",
   "metadata": {
    "application/vnd.databricks.v1+cell": {
     "inputWidgets": {},
     "nuid": "823d0d1f-163c-48b8-9768-11f4e1d9c2d5",
     "showTitle": false,
     "title": ""
    }
   },
   "source": [
    "## Loading our data from S3"
   ]
  },
  {
   "cell_type": "markdown",
   "metadata": {
    "application/vnd.databricks.v1+cell": {
     "inputWidgets": {},
     "nuid": "6600205d-76c9-4b95-8af0-8aeb31bfbb38",
     "showTitle": false,
     "title": ""
    }
   },
   "source": [
    "Because we expect you to know how to setup things so that you can load data from S3, we're doing it for you now.  \n",
    "Make sure you go through our code and check that you were actually using our best practices.\n",
    "\n",
    "---\n",
    "\n",
    "On a side note, it is **tedious** to have to do this in every notebook, isn't it?  \n",
    "And putting everything into a single notebook isn't a proper solution either.\n",
    "\n",
    "The solution would be to store this configuration into an external file, that's what we would recommend.  \n",
    "_Sadly, DataBricks doesn't work with regular python files, only notebooks..._"
   ]
  },
  {
   "cell_type": "code",
   "execution_count": null,
   "metadata": {
    "application/vnd.databricks.v1+cell": {
     "inputWidgets": {},
     "nuid": "fa845eca-c633-4465-b5f9-cfa94437727d",
     "showTitle": false,
     "title": ""
    }
   },
   "outputs": [
    {
     "data": {
      "text/html": [
       "<style scoped>\n",
       "  .ansiout {\n",
       "    display: block;\n",
       "    unicode-bidi: embed;\n",
       "    white-space: pre-wrap;\n",
       "    word-wrap: break-word;\n",
       "    word-break: break-all;\n",
       "    font-family: \"Source Code Pro\", \"Menlo\", monospace;;\n",
       "    font-size: 13px;\n",
       "    color: #555;\n",
       "    margin-left: 4px;\n",
       "    line-height: 19px;\n",
       "  }\n",
       "</style>\n",
       "<div class=\"ansiout\"></div>"
      ]
     },
     "metadata": {
      "application/vnd.databricks.v1+output": {
       "addedWidgets": {},
       "arguments": {},
       "data": "<div class=\"ansiout\"></div>",
       "datasetInfos": [],
       "removedWidgets": [],
       "type": "html"
      }
     },
     "output_type": "display_data"
    }
   ],
   "source": [
    "S3_RESOURCE = 's3'\n",
    "SCHEME = 's3a'\n",
    "ACCESS_KEY_ID = \"ACCESS_KEY_ID\" # cle du compte student\n",
    "SECRET_ACCESS_KEY = \"SECRET_ACCESS_KEY\" # secret key du compte student\n",
    "BUCKET_NAME = \"BUCKET_NAME\"\n",
    "PREFIX = \"Big_Data/YOUTUBE\""
   ]
  },
  {
   "cell_type": "code",
   "execution_count": null,
   "metadata": {
    "application/vnd.databricks.v1+cell": {
     "inputWidgets": {},
     "nuid": "bcdef12e-5815-40f1-a773-95f7cd1dfa7f",
     "showTitle": false,
     "title": ""
    }
   },
   "outputs": [
    {
     "data": {
      "text/html": [
       "<style scoped>\n",
       "  .ansiout {\n",
       "    display: block;\n",
       "    unicode-bidi: embed;\n",
       "    white-space: pre-wrap;\n",
       "    word-wrap: break-word;\n",
       "    word-break: break-all;\n",
       "    font-family: \"Source Code Pro\", \"Menlo\", monospace;;\n",
       "    font-size: 13px;\n",
       "    color: #555;\n",
       "    margin-left: 4px;\n",
       "    line-height: 19px;\n",
       "  }\n",
       "</style>\n",
       "<div class=\"ansiout\"></div>"
      ]
     },
     "metadata": {
      "application/vnd.databricks.v1+output": {
       "addedWidgets": {},
       "arguments": {},
       "data": "<div class=\"ansiout\"></div>",
       "datasetInfos": [],
       "removedWidgets": [],
       "type": "html"
      }
     },
     "output_type": "display_data"
    }
   ],
   "source": [
    "import boto3\n",
    "\n",
    "# We create a S3 resource and a Bucket from this same resource\n",
    "session = boto3.Session(\n",
    "    region_name='eu-west-3',  # Datacenters located in Paris, FR\n",
    "    aws_access_key_id=ACCESS_KEY_ID,\n",
    "    aws_secret_access_key=SECRET_ACCESS_KEY\n",
    ")\n",
    "s3 = session.resource('s3')\n",
    "bucket = s3.Bucket(BUCKET_NAME)"
   ]
  },
  {
   "cell_type": "markdown",
   "metadata": {
    "application/vnd.databricks.v1+cell": {
     "inputWidgets": {},
     "nuid": "9453cc5c-2318-475e-a87a-786bc649d96d",
     "showTitle": false,
     "title": ""
    }
   },
   "source": [
    "Last time, we worked with one file at a time, that was ok for quick analysis, but for processing, it would be nice to handle all files at once.  \n",
    "We just gotta make sure their schemas is the same or we might run into surprises.  \n",
    "Since all the APIs calls have been made using the same version and settings of the API, we can expect thing to be right, but **always keep an eye open**."
   ]
  },
  {
   "cell_type": "code",
   "execution_count": null,
   "metadata": {
    "application/vnd.databricks.v1+cell": {
     "inputWidgets": {},
     "nuid": "444856c2-eddc-40b8-bd0a-02a99ab90f0e",
     "showTitle": false,
     "title": ""
    }
   },
   "outputs": [
    {
     "data": {
      "text/html": [
       "<style scoped>\n",
       "  .ansiout {\n",
       "    display: block;\n",
       "    unicode-bidi: embed;\n",
       "    white-space: pre-wrap;\n",
       "    word-wrap: break-word;\n",
       "    word-break: break-all;\n",
       "    font-family: \"Source Code Pro\", \"Menlo\", monospace;;\n",
       "    font-size: 13px;\n",
       "    color: #555;\n",
       "    margin-left: 4px;\n",
       "    line-height: 19px;\n",
       "  }\n",
       "</style>\n",
       "<div class=\"ansiout\">s3.ObjectSummary(bucket_name=&#39;full-stack-bigdata-datasets&#39;, key=&#39;Big_Data/YOUTUBE/&#39;)\n",
       "s3.ObjectSummary(bucket_name=&#39;full-stack-bigdata-datasets&#39;, key=&#39;Big_Data/YOUTUBE/8cceb81c-534b-4354-8930-c7950ff5492c/_SUCCESS&#39;)\n",
       "s3.ObjectSummary(bucket_name=&#39;full-stack-bigdata-datasets&#39;, key=&#39;Big_Data/YOUTUBE/8cceb81c-534b-4354-8930-c7950ff5492c/_committed_5739506652000659913&#39;)\n",
       "s3.ObjectSummary(bucket_name=&#39;full-stack-bigdata-datasets&#39;, key=&#39;Big_Data/YOUTUBE/8cceb81c-534b-4354-8930-c7950ff5492c/_started_5739506652000659913&#39;)\n",
       "s3.ObjectSummary(bucket_name=&#39;full-stack-bigdata-datasets&#39;, key=&#39;Big_Data/YOUTUBE/8cceb81c-534b-4354-8930-c7950ff5492c/manifest.json&#39;)\n",
       "s3.ObjectSummary(bucket_name=&#39;full-stack-bigdata-datasets&#39;, key=&#39;Big_Data/YOUTUBE/8cceb81c-534b-4354-8930-c7950ff5492c/part-00000-tid-5739506652000659913-f0c4febb-409e-4b9c-b1ac-1c88875aaaf7-14-1-c000.csv&#39;)\n",
       "s3.ObjectSummary(bucket_name=&#39;full-stack-bigdata-datasets&#39;, key=&#39;Big_Data/YOUTUBE/interim/SS/df_songs_flattened.parquet/_SUCCESS&#39;)\n",
       "s3.ObjectSummary(bucket_name=&#39;full-stack-bigdata-datasets&#39;, key=&#39;Big_Data/YOUTUBE/interim/SS/df_songs_flattened.parquet/_committed_232945649319820793&#39;)\n",
       "s3.ObjectSummary(bucket_name=&#39;full-stack-bigdata-datasets&#39;, key=&#39;Big_Data/YOUTUBE/interim/SS/df_songs_flattened.parquet/_started_232945649319820793&#39;)\n",
       "s3.ObjectSummary(bucket_name=&#39;full-stack-bigdata-datasets&#39;, key=&#39;Big_Data/YOUTUBE/interim/SS/df_songs_flattened.parquet/part-00000-tid-232945649319820793-7dd8fd13-47cd-470e-8753-45c64e44c2b8-387-1-c000.snappy.parquet&#39;)\n",
       "s3.ObjectSummary(bucket_name=&#39;full-stack-bigdata-datasets&#39;, key=&#39;Big_Data/YOUTUBE/interim/SS/items_exploded.parquet/_committed_4074629136918237922&#39;)\n",
       "s3.ObjectSummary(bucket_name=&#39;full-stack-bigdata-datasets&#39;, key=&#39;Big_Data/YOUTUBE/interim/SS/items_exploded.parquet/_committed_5741717508296265154&#39;)\n",
       "s3.ObjectSummary(bucket_name=&#39;full-stack-bigdata-datasets&#39;, key=&#39;Big_Data/YOUTUBE/interim/SS/items_exploded.parquet/_committed_579680027546317307&#39;)\n",
       "s3.ObjectSummary(bucket_name=&#39;full-stack-bigdata-datasets&#39;, key=&#39;Big_Data/YOUTUBE/interim/SS/items_exploded.parquet/_started_579680027546317307&#39;)\n",
       "s3.ObjectSummary(bucket_name=&#39;full-stack-bigdata-datasets&#39;, key=&#39;Big_Data/YOUTUBE/interim/SS/items_exploded.parquet/part-00000-tid-579680027546317307-00c99957-2c62-4b2b-a54d-49ba06c8436c-404-1-c000.snappy.parquet&#39;)\n",
       "s3.ObjectSummary(bucket_name=&#39;full-stack-bigdata-datasets&#39;, key=&#39;Big_Data/YOUTUBE/interim/df_songs_flattened.parquet/_SUCCESS&#39;)\n",
       "s3.ObjectSummary(bucket_name=&#39;full-stack-bigdata-datasets&#39;, key=&#39;Big_Data/YOUTUBE/interim/df_songs_flattened.parquet/_committed_2377028696738576594&#39;)\n",
       "s3.ObjectSummary(bucket_name=&#39;full-stack-bigdata-datasets&#39;, key=&#39;Big_Data/YOUTUBE/interim/df_songs_flattened.parquet/_committed_998868613129258922&#39;)\n",
       "s3.ObjectSummary(bucket_name=&#39;full-stack-bigdata-datasets&#39;, key=&#39;Big_Data/YOUTUBE/interim/df_songs_flattened.parquet/_committed_vacuum5389043483423529704&#39;)\n",
       "s3.ObjectSummary(bucket_name=&#39;full-stack-bigdata-datasets&#39;, key=&#39;Big_Data/YOUTUBE/interim/df_songs_flattened.parquet/_started_998868613129258922&#39;)\n",
       "s3.ObjectSummary(bucket_name=&#39;full-stack-bigdata-datasets&#39;, key=&#39;Big_Data/YOUTUBE/interim/df_songs_flattened.parquet/part-00000-tid-998868613129258922-35122b34-9edf-4f73-96b8-36c5836889a9-9-1-c000.snappy.parquet&#39;)\n",
       "s3.ObjectSummary(bucket_name=&#39;full-stack-bigdata-datasets&#39;, key=&#39;Big_Data/YOUTUBE/items_clean.parquet/_SUCCESS&#39;)\n",
       "s3.ObjectSummary(bucket_name=&#39;full-stack-bigdata-datasets&#39;, key=&#39;Big_Data/YOUTUBE/items_clean.parquet/_committed_320046169583307225&#39;)\n",
       "s3.ObjectSummary(bucket_name=&#39;full-stack-bigdata-datasets&#39;, key=&#39;Big_Data/YOUTUBE/items_clean.parquet/_committed_5024046659186916012&#39;)\n",
       "s3.ObjectSummary(bucket_name=&#39;full-stack-bigdata-datasets&#39;, key=&#39;Big_Data/YOUTUBE/items_clean.parquet/_committed_vacuum5631042629370389926&#39;)\n",
       "s3.ObjectSummary(bucket_name=&#39;full-stack-bigdata-datasets&#39;, key=&#39;Big_Data/YOUTUBE/items_clean.parquet/_started_320046169583307225&#39;)\n",
       "s3.ObjectSummary(bucket_name=&#39;full-stack-bigdata-datasets&#39;, key=&#39;Big_Data/YOUTUBE/items_clean.parquet/part-00000-tid-320046169583307225-0b4ddd00-e368-46bd-94e3-64e9dc99c58f-254-1-c000.snappy.parquet&#39;)\n",
       "s3.ObjectSummary(bucket_name=&#39;full-stack-bigdata-datasets&#39;, key=&#39;Big_Data/YOUTUBE/items_exploded.parquet/_committed_1394013726566622861&#39;)\n",
       "s3.ObjectSummary(bucket_name=&#39;full-stack-bigdata-datasets&#39;, key=&#39;Big_Data/YOUTUBE/items_exploded.parquet/_committed_146051727420879157&#39;)\n",
       "s3.ObjectSummary(bucket_name=&#39;full-stack-bigdata-datasets&#39;, key=&#39;Big_Data/YOUTUBE/items_exploded.parquet/_committed_153802440900729506&#39;)\n",
       "s3.ObjectSummary(bucket_name=&#39;full-stack-bigdata-datasets&#39;, key=&#39;Big_Data/YOUTUBE/items_exploded.parquet/_committed_vacuum5482405522170034834&#39;)\n",
       "s3.ObjectSummary(bucket_name=&#39;full-stack-bigdata-datasets&#39;, key=&#39;Big_Data/YOUTUBE/items_exploded.parquet/_started_1394013726566622861&#39;)\n",
       "s3.ObjectSummary(bucket_name=&#39;full-stack-bigdata-datasets&#39;, key=&#39;Big_Data/YOUTUBE/items_exploded.parquet/_started_146051727420879157&#39;)\n",
       "s3.ObjectSummary(bucket_name=&#39;full-stack-bigdata-datasets&#39;, key=&#39;Big_Data/YOUTUBE/items_exploded.parquet/part-00000-tid-1394013726566622861-b0de1c51-8e4f-45e6-b908-20380d813456-53-1-c000.snappy.parquet&#39;)\n",
       "s3.ObjectSummary(bucket_name=&#39;full-stack-bigdata-datasets&#39;, key=&#39;Big_Data/YOUTUBE/items_selected.parquet/_SUCCESS&#39;)\n",
       "s3.ObjectSummary(bucket_name=&#39;full-stack-bigdata-datasets&#39;, key=&#39;Big_Data/YOUTUBE/items_selected.parquet/_committed_4474333994874872727&#39;)\n",
       "s3.ObjectSummary(bucket_name=&#39;full-stack-bigdata-datasets&#39;, key=&#39;Big_Data/YOUTUBE/items_selected.parquet/_started_4474333994874872727&#39;)\n",
       "s3.ObjectSummary(bucket_name=&#39;full-stack-bigdata-datasets&#39;, key=&#39;Big_Data/YOUTUBE/items_selected.parquet/part-00000-tid-4474333994874872727-753ef171-9f74-4444-8464-2297cf9975ea-12937-1-c000.snappy.parquet&#39;)\n",
       "s3.ObjectSummary(bucket_name=&#39;full-stack-bigdata-datasets&#39;, key=&#39;Big_Data/YOUTUBE/items_tidy.parquet/_committed_7840679691749543804&#39;)\n",
       "s3.ObjectSummary(bucket_name=&#39;full-stack-bigdata-datasets&#39;, key=&#39;Big_Data/YOUTUBE/items_tidy.parquet/_committed_8563993981703904747&#39;)\n",
       "s3.ObjectSummary(bucket_name=&#39;full-stack-bigdata-datasets&#39;, key=&#39;Big_Data/YOUTUBE/items_tidy.parquet/_committed_vacuum8404678393268115207&#39;)\n",
       "s3.ObjectSummary(bucket_name=&#39;full-stack-bigdata-datasets&#39;, key=&#39;Big_Data/YOUTUBE/items_tidy.parquet/_started_8563993981703904747&#39;)\n",
       "s3.ObjectSummary(bucket_name=&#39;full-stack-bigdata-datasets&#39;, key=&#39;Big_Data/YOUTUBE/items_tidy.parquet/part-00000-tid-8563993981703904747-7513b1ab-0ba7-425b-80b2-84fda2971470-21-1-c000.snappy.parquet&#39;)\n",
       "s3.ObjectSummary(bucket_name=&#39;full-stack-bigdata-datasets&#39;, key=&#39;Big_Data/YOUTUBE/songs.json&#39;)\n",
       "s3.ObjectSummary(bucket_name=&#39;full-stack-bigdata-datasets&#39;, key=&#39;Big_Data/YOUTUBE/temp/1dfbf410-9049-476e-b3ea-fda2bace0f91/_SUCCESS&#39;)\n",
       "s3.ObjectSummary(bucket_name=&#39;full-stack-bigdata-datasets&#39;, key=&#39;Big_Data/YOUTUBE/temp/1dfbf410-9049-476e-b3ea-fda2bace0f91/_committed_4009435213617734916&#39;)\n",
       "s3.ObjectSummary(bucket_name=&#39;full-stack-bigdata-datasets&#39;, key=&#39;Big_Data/YOUTUBE/temp/1dfbf410-9049-476e-b3ea-fda2bace0f91/_started_4009435213617734916&#39;)\n",
       "s3.ObjectSummary(bucket_name=&#39;full-stack-bigdata-datasets&#39;, key=&#39;Big_Data/YOUTUBE/temp/1dfbf410-9049-476e-b3ea-fda2bace0f91/manifest.json&#39;)\n",
       "s3.ObjectSummary(bucket_name=&#39;full-stack-bigdata-datasets&#39;, key=&#39;Big_Data/YOUTUBE/temp/1dfbf410-9049-476e-b3ea-fda2bace0f91/part-00000-tid-4009435213617734916-6b8a2fe0-8b2b-440d-8a10-954bc09ecd1a-284-1-c000.avro&#39;)\n",
       "s3.ObjectSummary(bucket_name=&#39;full-stack-bigdata-datasets&#39;, key=&#39;Big_Data/YOUTUBE/temp/3cc25de9-3d4d-4710-9570-497004bae11f/_SUCCESS&#39;)\n",
       "s3.ObjectSummary(bucket_name=&#39;full-stack-bigdata-datasets&#39;, key=&#39;Big_Data/YOUTUBE/temp/3cc25de9-3d4d-4710-9570-497004bae11f/_committed_6617733998918148151&#39;)\n",
       "s3.ObjectSummary(bucket_name=&#39;full-stack-bigdata-datasets&#39;, key=&#39;Big_Data/YOUTUBE/temp/3cc25de9-3d4d-4710-9570-497004bae11f/_started_6617733998918148151&#39;)\n",
       "s3.ObjectSummary(bucket_name=&#39;full-stack-bigdata-datasets&#39;, key=&#39;Big_Data/YOUTUBE/temp/3cc25de9-3d4d-4710-9570-497004bae11f/manifest.json&#39;)\n",
       "s3.ObjectSummary(bucket_name=&#39;full-stack-bigdata-datasets&#39;, key=&#39;Big_Data/YOUTUBE/temp/3cc25de9-3d4d-4710-9570-497004bae11f/part-00000-tid-6617733998918148151-305f9101-82d5-4b70-95f2-4175b2d06f1d-282-1-c000.avro&#39;)\n",
       "s3.ObjectSummary(bucket_name=&#39;full-stack-bigdata-datasets&#39;, key=&#39;Big_Data/YOUTUBE/temp/3f4084b2-6084-423e-95ed-bc19e5f51a4b/_SUCCESS&#39;)\n",
       "s3.ObjectSummary(bucket_name=&#39;full-stack-bigdata-datasets&#39;, key=&#39;Big_Data/YOUTUBE/temp/3f4084b2-6084-423e-95ed-bc19e5f51a4b/_committed_6447201646082884071&#39;)\n",
       "s3.ObjectSummary(bucket_name=&#39;full-stack-bigdata-datasets&#39;, key=&#39;Big_Data/YOUTUBE/temp/3f4084b2-6084-423e-95ed-bc19e5f51a4b/_started_6447201646082884071&#39;)\n",
       "s3.ObjectSummary(bucket_name=&#39;full-stack-bigdata-datasets&#39;, key=&#39;Big_Data/YOUTUBE/temp/3f4084b2-6084-423e-95ed-bc19e5f51a4b/manifest.json&#39;)\n",
       "s3.ObjectSummary(bucket_name=&#39;full-stack-bigdata-datasets&#39;, key=&#39;Big_Data/YOUTUBE/temp/3f4084b2-6084-423e-95ed-bc19e5f51a4b/part-00000-tid-6447201646082884071-bef769c9-58d7-48e5-b1ea-8e2e3125cbad-281-1-c000.avro&#39;)\n",
       "s3.ObjectSummary(bucket_name=&#39;full-stack-bigdata-datasets&#39;, key=&#39;Big_Data/YOUTUBE/temp/dcf68240-ec78-4788-a71f-95837464162f/_SUCCESS&#39;)\n",
       "s3.ObjectSummary(bucket_name=&#39;full-stack-bigdata-datasets&#39;, key=&#39;Big_Data/YOUTUBE/temp/dcf68240-ec78-4788-a71f-95837464162f/_committed_6267941601542587980&#39;)\n",
       "s3.ObjectSummary(bucket_name=&#39;full-stack-bigdata-datasets&#39;, key=&#39;Big_Data/YOUTUBE/temp/dcf68240-ec78-4788-a71f-95837464162f/_started_6267941601542587980&#39;)\n",
       "s3.ObjectSummary(bucket_name=&#39;full-stack-bigdata-datasets&#39;, key=&#39;Big_Data/YOUTUBE/temp/dcf68240-ec78-4788-a71f-95837464162f/manifest.json&#39;)\n",
       "s3.ObjectSummary(bucket_name=&#39;full-stack-bigdata-datasets&#39;, key=&#39;Big_Data/YOUTUBE/temp/dcf68240-ec78-4788-a71f-95837464162f/part-00000-tid-6267941601542587980-ab70b65d-6bc9-4dd5-a910-bcf9cedddcf7-285-1-c000.avro&#39;)\n",
       "s3.ObjectSummary(bucket_name=&#39;full-stack-bigdata-datasets&#39;, key=&#39;Big_Data/YOUTUBE/temp/f34964fd-26b8-4bef-bb76-5bc14464e6c9/_SUCCESS&#39;)\n",
       "s3.ObjectSummary(bucket_name=&#39;full-stack-bigdata-datasets&#39;, key=&#39;Big_Data/YOUTUBE/temp/f34964fd-26b8-4bef-bb76-5bc14464e6c9/_committed_5462006751469274215&#39;)\n",
       "s3.ObjectSummary(bucket_name=&#39;full-stack-bigdata-datasets&#39;, key=&#39;Big_Data/YOUTUBE/temp/f34964fd-26b8-4bef-bb76-5bc14464e6c9/_started_5462006751469274215&#39;)\n",
       "s3.ObjectSummary(bucket_name=&#39;full-stack-bigdata-datasets&#39;, key=&#39;Big_Data/YOUTUBE/temp/f34964fd-26b8-4bef-bb76-5bc14464e6c9/manifest.json&#39;)\n",
       "s3.ObjectSummary(bucket_name=&#39;full-stack-bigdata-datasets&#39;, key=&#39;Big_Data/YOUTUBE/temp/f34964fd-26b8-4bef-bb76-5bc14464e6c9/part-00000-tid-5462006751469274215-7618d8fc-69b7-4e25-a335-413dc20284ea-286-1-c000.avro&#39;)\n",
       "s3.ObjectSummary(bucket_name=&#39;full-stack-bigdata-datasets&#39;, key=&#39;Big_Data/YOUTUBE/temp/fedb6371-0b81-4b72-b87f-90e1cae12939/_SUCCESS&#39;)\n",
       "s3.ObjectSummary(bucket_name=&#39;full-stack-bigdata-datasets&#39;, key=&#39;Big_Data/YOUTUBE/temp/fedb6371-0b81-4b72-b87f-90e1cae12939/_committed_6151888817283459714&#39;)\n",
       "s3.ObjectSummary(bucket_name=&#39;full-stack-bigdata-datasets&#39;, key=&#39;Big_Data/YOUTUBE/temp/fedb6371-0b81-4b72-b87f-90e1cae12939/_started_6151888817283459714&#39;)\n",
       "s3.ObjectSummary(bucket_name=&#39;full-stack-bigdata-datasets&#39;, key=&#39;Big_Data/YOUTUBE/temp/fedb6371-0b81-4b72-b87f-90e1cae12939/manifest.json&#39;)\n",
       "s3.ObjectSummary(bucket_name=&#39;full-stack-bigdata-datasets&#39;, key=&#39;Big_Data/YOUTUBE/temp/fedb6371-0b81-4b72-b87f-90e1cae12939/part-00000-tid-6151888817283459714-cb478dca-fc7a-4fdc-aac5-2384dc405987-283-1-c000.avro&#39;)\n",
       "s3.ObjectSummary(bucket_name=&#39;full-stack-bigdata-datasets&#39;, key=&#39;Big_Data/YOUTUBE/temp/ff05bb3b-c01f-4eab-be3e-9c2d516f1d8c/_SUCCESS&#39;)\n",
       "s3.ObjectSummary(bucket_name=&#39;full-stack-bigdata-datasets&#39;, key=&#39;Big_Data/YOUTUBE/temp/ff05bb3b-c01f-4eab-be3e-9c2d516f1d8c/_committed_8681866223424968602&#39;)\n",
       "s3.ObjectSummary(bucket_name=&#39;full-stack-bigdata-datasets&#39;, key=&#39;Big_Data/YOUTUBE/temp/ff05bb3b-c01f-4eab-be3e-9c2d516f1d8c/_started_8681866223424968602&#39;)\n",
       "s3.ObjectSummary(bucket_name=&#39;full-stack-bigdata-datasets&#39;, key=&#39;Big_Data/YOUTUBE/temp/ff05bb3b-c01f-4eab-be3e-9c2d516f1d8c/manifest.json&#39;)\n",
       "s3.ObjectSummary(bucket_name=&#39;full-stack-bigdata-datasets&#39;, key=&#39;Big_Data/YOUTUBE/temp/ff05bb3b-c01f-4eab-be3e-9c2d516f1d8c/part-00000-tid-8681866223424968602-94351d3b-b0da-4303-847d-75dbf5fc1f38-287-1-c000.avro&#39;)\n",
       "</div>"
      ]
     },
     "metadata": {
      "application/vnd.databricks.v1+output": {
       "addedWidgets": {},
       "arguments": {},
       "data": "<div class=\"ansiout\">s3.ObjectSummary(bucket_name=&#39;full-stack-bigdata-datasets&#39;, key=&#39;Big_Data/YOUTUBE/&#39;)\ns3.ObjectSummary(bucket_name=&#39;full-stack-bigdata-datasets&#39;, key=&#39;Big_Data/YOUTUBE/8cceb81c-534b-4354-8930-c7950ff5492c/_SUCCESS&#39;)\ns3.ObjectSummary(bucket_name=&#39;full-stack-bigdata-datasets&#39;, key=&#39;Big_Data/YOUTUBE/8cceb81c-534b-4354-8930-c7950ff5492c/_committed_5739506652000659913&#39;)\ns3.ObjectSummary(bucket_name=&#39;full-stack-bigdata-datasets&#39;, key=&#39;Big_Data/YOUTUBE/8cceb81c-534b-4354-8930-c7950ff5492c/_started_5739506652000659913&#39;)\ns3.ObjectSummary(bucket_name=&#39;full-stack-bigdata-datasets&#39;, key=&#39;Big_Data/YOUTUBE/8cceb81c-534b-4354-8930-c7950ff5492c/manifest.json&#39;)\ns3.ObjectSummary(bucket_name=&#39;full-stack-bigdata-datasets&#39;, key=&#39;Big_Data/YOUTUBE/8cceb81c-534b-4354-8930-c7950ff5492c/part-00000-tid-5739506652000659913-f0c4febb-409e-4b9c-b1ac-1c88875aaaf7-14-1-c000.csv&#39;)\ns3.ObjectSummary(bucket_name=&#39;full-stack-bigdata-datasets&#39;, key=&#39;Big_Data/YOUTUBE/interim/SS/df_songs_flattened.parquet/_SUCCESS&#39;)\ns3.ObjectSummary(bucket_name=&#39;full-stack-bigdata-datasets&#39;, key=&#39;Big_Data/YOUTUBE/interim/SS/df_songs_flattened.parquet/_committed_232945649319820793&#39;)\ns3.ObjectSummary(bucket_name=&#39;full-stack-bigdata-datasets&#39;, key=&#39;Big_Data/YOUTUBE/interim/SS/df_songs_flattened.parquet/_started_232945649319820793&#39;)\ns3.ObjectSummary(bucket_name=&#39;full-stack-bigdata-datasets&#39;, key=&#39;Big_Data/YOUTUBE/interim/SS/df_songs_flattened.parquet/part-00000-tid-232945649319820793-7dd8fd13-47cd-470e-8753-45c64e44c2b8-387-1-c000.snappy.parquet&#39;)\ns3.ObjectSummary(bucket_name=&#39;full-stack-bigdata-datasets&#39;, key=&#39;Big_Data/YOUTUBE/interim/SS/items_exploded.parquet/_committed_4074629136918237922&#39;)\ns3.ObjectSummary(bucket_name=&#39;full-stack-bigdata-datasets&#39;, key=&#39;Big_Data/YOUTUBE/interim/SS/items_exploded.parquet/_committed_5741717508296265154&#39;)\ns3.ObjectSummary(bucket_name=&#39;full-stack-bigdata-datasets&#39;, key=&#39;Big_Data/YOUTUBE/interim/SS/items_exploded.parquet/_committed_579680027546317307&#39;)\ns3.ObjectSummary(bucket_name=&#39;full-stack-bigdata-datasets&#39;, key=&#39;Big_Data/YOUTUBE/interim/SS/items_exploded.parquet/_started_579680027546317307&#39;)\ns3.ObjectSummary(bucket_name=&#39;full-stack-bigdata-datasets&#39;, key=&#39;Big_Data/YOUTUBE/interim/SS/items_exploded.parquet/part-00000-tid-579680027546317307-00c99957-2c62-4b2b-a54d-49ba06c8436c-404-1-c000.snappy.parquet&#39;)\ns3.ObjectSummary(bucket_name=&#39;full-stack-bigdata-datasets&#39;, key=&#39;Big_Data/YOUTUBE/interim/df_songs_flattened.parquet/_SUCCESS&#39;)\ns3.ObjectSummary(bucket_name=&#39;full-stack-bigdata-datasets&#39;, key=&#39;Big_Data/YOUTUBE/interim/df_songs_flattened.parquet/_committed_2377028696738576594&#39;)\ns3.ObjectSummary(bucket_name=&#39;full-stack-bigdata-datasets&#39;, key=&#39;Big_Data/YOUTUBE/interim/df_songs_flattened.parquet/_committed_998868613129258922&#39;)\ns3.ObjectSummary(bucket_name=&#39;full-stack-bigdata-datasets&#39;, key=&#39;Big_Data/YOUTUBE/interim/df_songs_flattened.parquet/_committed_vacuum5389043483423529704&#39;)\ns3.ObjectSummary(bucket_name=&#39;full-stack-bigdata-datasets&#39;, key=&#39;Big_Data/YOUTUBE/interim/df_songs_flattened.parquet/_started_998868613129258922&#39;)\ns3.ObjectSummary(bucket_name=&#39;full-stack-bigdata-datasets&#39;, key=&#39;Big_Data/YOUTUBE/interim/df_songs_flattened.parquet/part-00000-tid-998868613129258922-35122b34-9edf-4f73-96b8-36c5836889a9-9-1-c000.snappy.parquet&#39;)\ns3.ObjectSummary(bucket_name=&#39;full-stack-bigdata-datasets&#39;, key=&#39;Big_Data/YOUTUBE/items_clean.parquet/_SUCCESS&#39;)\ns3.ObjectSummary(bucket_name=&#39;full-stack-bigdata-datasets&#39;, key=&#39;Big_Data/YOUTUBE/items_clean.parquet/_committed_320046169583307225&#39;)\ns3.ObjectSummary(bucket_name=&#39;full-stack-bigdata-datasets&#39;, key=&#39;Big_Data/YOUTUBE/items_clean.parquet/_committed_5024046659186916012&#39;)\ns3.ObjectSummary(bucket_name=&#39;full-stack-bigdata-datasets&#39;, key=&#39;Big_Data/YOUTUBE/items_clean.parquet/_committed_vacuum5631042629370389926&#39;)\ns3.ObjectSummary(bucket_name=&#39;full-stack-bigdata-datasets&#39;, key=&#39;Big_Data/YOUTUBE/items_clean.parquet/_started_320046169583307225&#39;)\ns3.ObjectSummary(bucket_name=&#39;full-stack-bigdata-datasets&#39;, key=&#39;Big_Data/YOUTUBE/items_clean.parquet/part-00000-tid-320046169583307225-0b4ddd00-e368-46bd-94e3-64e9dc99c58f-254-1-c000.snappy.parquet&#39;)\ns3.ObjectSummary(bucket_name=&#39;full-stack-bigdata-datasets&#39;, key=&#39;Big_Data/YOUTUBE/items_exploded.parquet/_committed_1394013726566622861&#39;)\ns3.ObjectSummary(bucket_name=&#39;full-stack-bigdata-datasets&#39;, key=&#39;Big_Data/YOUTUBE/items_exploded.parquet/_committed_146051727420879157&#39;)\ns3.ObjectSummary(bucket_name=&#39;full-stack-bigdata-datasets&#39;, key=&#39;Big_Data/YOUTUBE/items_exploded.parquet/_committed_153802440900729506&#39;)\ns3.ObjectSummary(bucket_name=&#39;full-stack-bigdata-datasets&#39;, key=&#39;Big_Data/YOUTUBE/items_exploded.parquet/_committed_vacuum5482405522170034834&#39;)\ns3.ObjectSummary(bucket_name=&#39;full-stack-bigdata-datasets&#39;, key=&#39;Big_Data/YOUTUBE/items_exploded.parquet/_started_1394013726566622861&#39;)\ns3.ObjectSummary(bucket_name=&#39;full-stack-bigdata-datasets&#39;, key=&#39;Big_Data/YOUTUBE/items_exploded.parquet/_started_146051727420879157&#39;)\ns3.ObjectSummary(bucket_name=&#39;full-stack-bigdata-datasets&#39;, key=&#39;Big_Data/YOUTUBE/items_exploded.parquet/part-00000-tid-1394013726566622861-b0de1c51-8e4f-45e6-b908-20380d813456-53-1-c000.snappy.parquet&#39;)\ns3.ObjectSummary(bucket_name=&#39;full-stack-bigdata-datasets&#39;, key=&#39;Big_Data/YOUTUBE/items_selected.parquet/_SUCCESS&#39;)\ns3.ObjectSummary(bucket_name=&#39;full-stack-bigdata-datasets&#39;, key=&#39;Big_Data/YOUTUBE/items_selected.parquet/_committed_4474333994874872727&#39;)\ns3.ObjectSummary(bucket_name=&#39;full-stack-bigdata-datasets&#39;, key=&#39;Big_Data/YOUTUBE/items_selected.parquet/_started_4474333994874872727&#39;)\ns3.ObjectSummary(bucket_name=&#39;full-stack-bigdata-datasets&#39;, key=&#39;Big_Data/YOUTUBE/items_selected.parquet/part-00000-tid-4474333994874872727-753ef171-9f74-4444-8464-2297cf9975ea-12937-1-c000.snappy.parquet&#39;)\ns3.ObjectSummary(bucket_name=&#39;full-stack-bigdata-datasets&#39;, key=&#39;Big_Data/YOUTUBE/items_tidy.parquet/_committed_7840679691749543804&#39;)\ns3.ObjectSummary(bucket_name=&#39;full-stack-bigdata-datasets&#39;, key=&#39;Big_Data/YOUTUBE/items_tidy.parquet/_committed_8563993981703904747&#39;)\ns3.ObjectSummary(bucket_name=&#39;full-stack-bigdata-datasets&#39;, key=&#39;Big_Data/YOUTUBE/items_tidy.parquet/_committed_vacuum8404678393268115207&#39;)\ns3.ObjectSummary(bucket_name=&#39;full-stack-bigdata-datasets&#39;, key=&#39;Big_Data/YOUTUBE/items_tidy.parquet/_started_8563993981703904747&#39;)\ns3.ObjectSummary(bucket_name=&#39;full-stack-bigdata-datasets&#39;, key=&#39;Big_Data/YOUTUBE/items_tidy.parquet/part-00000-tid-8563993981703904747-7513b1ab-0ba7-425b-80b2-84fda2971470-21-1-c000.snappy.parquet&#39;)\ns3.ObjectSummary(bucket_name=&#39;full-stack-bigdata-datasets&#39;, key=&#39;Big_Data/YOUTUBE/songs.json&#39;)\ns3.ObjectSummary(bucket_name=&#39;full-stack-bigdata-datasets&#39;, key=&#39;Big_Data/YOUTUBE/temp/1dfbf410-9049-476e-b3ea-fda2bace0f91/_SUCCESS&#39;)\ns3.ObjectSummary(bucket_name=&#39;full-stack-bigdata-datasets&#39;, key=&#39;Big_Data/YOUTUBE/temp/1dfbf410-9049-476e-b3ea-fda2bace0f91/_committed_4009435213617734916&#39;)\ns3.ObjectSummary(bucket_name=&#39;full-stack-bigdata-datasets&#39;, key=&#39;Big_Data/YOUTUBE/temp/1dfbf410-9049-476e-b3ea-fda2bace0f91/_started_4009435213617734916&#39;)\ns3.ObjectSummary(bucket_name=&#39;full-stack-bigdata-datasets&#39;, key=&#39;Big_Data/YOUTUBE/temp/1dfbf410-9049-476e-b3ea-fda2bace0f91/manifest.json&#39;)\ns3.ObjectSummary(bucket_name=&#39;full-stack-bigdata-datasets&#39;, key=&#39;Big_Data/YOUTUBE/temp/1dfbf410-9049-476e-b3ea-fda2bace0f91/part-00000-tid-4009435213617734916-6b8a2fe0-8b2b-440d-8a10-954bc09ecd1a-284-1-c000.avro&#39;)\ns3.ObjectSummary(bucket_name=&#39;full-stack-bigdata-datasets&#39;, key=&#39;Big_Data/YOUTUBE/temp/3cc25de9-3d4d-4710-9570-497004bae11f/_SUCCESS&#39;)\ns3.ObjectSummary(bucket_name=&#39;full-stack-bigdata-datasets&#39;, key=&#39;Big_Data/YOUTUBE/temp/3cc25de9-3d4d-4710-9570-497004bae11f/_committed_6617733998918148151&#39;)\ns3.ObjectSummary(bucket_name=&#39;full-stack-bigdata-datasets&#39;, key=&#39;Big_Data/YOUTUBE/temp/3cc25de9-3d4d-4710-9570-497004bae11f/_started_6617733998918148151&#39;)\ns3.ObjectSummary(bucket_name=&#39;full-stack-bigdata-datasets&#39;, key=&#39;Big_Data/YOUTUBE/temp/3cc25de9-3d4d-4710-9570-497004bae11f/manifest.json&#39;)\ns3.ObjectSummary(bucket_name=&#39;full-stack-bigdata-datasets&#39;, key=&#39;Big_Data/YOUTUBE/temp/3cc25de9-3d4d-4710-9570-497004bae11f/part-00000-tid-6617733998918148151-305f9101-82d5-4b70-95f2-4175b2d06f1d-282-1-c000.avro&#39;)\ns3.ObjectSummary(bucket_name=&#39;full-stack-bigdata-datasets&#39;, key=&#39;Big_Data/YOUTUBE/temp/3f4084b2-6084-423e-95ed-bc19e5f51a4b/_SUCCESS&#39;)\ns3.ObjectSummary(bucket_name=&#39;full-stack-bigdata-datasets&#39;, key=&#39;Big_Data/YOUTUBE/temp/3f4084b2-6084-423e-95ed-bc19e5f51a4b/_committed_6447201646082884071&#39;)\ns3.ObjectSummary(bucket_name=&#39;full-stack-bigdata-datasets&#39;, key=&#39;Big_Data/YOUTUBE/temp/3f4084b2-6084-423e-95ed-bc19e5f51a4b/_started_6447201646082884071&#39;)\ns3.ObjectSummary(bucket_name=&#39;full-stack-bigdata-datasets&#39;, key=&#39;Big_Data/YOUTUBE/temp/3f4084b2-6084-423e-95ed-bc19e5f51a4b/manifest.json&#39;)\ns3.ObjectSummary(bucket_name=&#39;full-stack-bigdata-datasets&#39;, key=&#39;Big_Data/YOUTUBE/temp/3f4084b2-6084-423e-95ed-bc19e5f51a4b/part-00000-tid-6447201646082884071-bef769c9-58d7-48e5-b1ea-8e2e3125cbad-281-1-c000.avro&#39;)\ns3.ObjectSummary(bucket_name=&#39;full-stack-bigdata-datasets&#39;, key=&#39;Big_Data/YOUTUBE/temp/dcf68240-ec78-4788-a71f-95837464162f/_SUCCESS&#39;)\ns3.ObjectSummary(bucket_name=&#39;full-stack-bigdata-datasets&#39;, key=&#39;Big_Data/YOUTUBE/temp/dcf68240-ec78-4788-a71f-95837464162f/_committed_6267941601542587980&#39;)\ns3.ObjectSummary(bucket_name=&#39;full-stack-bigdata-datasets&#39;, key=&#39;Big_Data/YOUTUBE/temp/dcf68240-ec78-4788-a71f-95837464162f/_started_6267941601542587980&#39;)\ns3.ObjectSummary(bucket_name=&#39;full-stack-bigdata-datasets&#39;, key=&#39;Big_Data/YOUTUBE/temp/dcf68240-ec78-4788-a71f-95837464162f/manifest.json&#39;)\ns3.ObjectSummary(bucket_name=&#39;full-stack-bigdata-datasets&#39;, key=&#39;Big_Data/YOUTUBE/temp/dcf68240-ec78-4788-a71f-95837464162f/part-00000-tid-6267941601542587980-ab70b65d-6bc9-4dd5-a910-bcf9cedddcf7-285-1-c000.avro&#39;)\ns3.ObjectSummary(bucket_name=&#39;full-stack-bigdata-datasets&#39;, key=&#39;Big_Data/YOUTUBE/temp/f34964fd-26b8-4bef-bb76-5bc14464e6c9/_SUCCESS&#39;)\ns3.ObjectSummary(bucket_name=&#39;full-stack-bigdata-datasets&#39;, key=&#39;Big_Data/YOUTUBE/temp/f34964fd-26b8-4bef-bb76-5bc14464e6c9/_committed_5462006751469274215&#39;)\ns3.ObjectSummary(bucket_name=&#39;full-stack-bigdata-datasets&#39;, key=&#39;Big_Data/YOUTUBE/temp/f34964fd-26b8-4bef-bb76-5bc14464e6c9/_started_5462006751469274215&#39;)\ns3.ObjectSummary(bucket_name=&#39;full-stack-bigdata-datasets&#39;, key=&#39;Big_Data/YOUTUBE/temp/f34964fd-26b8-4bef-bb76-5bc14464e6c9/manifest.json&#39;)\ns3.ObjectSummary(bucket_name=&#39;full-stack-bigdata-datasets&#39;, key=&#39;Big_Data/YOUTUBE/temp/f34964fd-26b8-4bef-bb76-5bc14464e6c9/part-00000-tid-5462006751469274215-7618d8fc-69b7-4e25-a335-413dc20284ea-286-1-c000.avro&#39;)\ns3.ObjectSummary(bucket_name=&#39;full-stack-bigdata-datasets&#39;, key=&#39;Big_Data/YOUTUBE/temp/fedb6371-0b81-4b72-b87f-90e1cae12939/_SUCCESS&#39;)\ns3.ObjectSummary(bucket_name=&#39;full-stack-bigdata-datasets&#39;, key=&#39;Big_Data/YOUTUBE/temp/fedb6371-0b81-4b72-b87f-90e1cae12939/_committed_6151888817283459714&#39;)\ns3.ObjectSummary(bucket_name=&#39;full-stack-bigdata-datasets&#39;, key=&#39;Big_Data/YOUTUBE/temp/fedb6371-0b81-4b72-b87f-90e1cae12939/_started_6151888817283459714&#39;)\ns3.ObjectSummary(bucket_name=&#39;full-stack-bigdata-datasets&#39;, key=&#39;Big_Data/YOUTUBE/temp/fedb6371-0b81-4b72-b87f-90e1cae12939/manifest.json&#39;)\ns3.ObjectSummary(bucket_name=&#39;full-stack-bigdata-datasets&#39;, key=&#39;Big_Data/YOUTUBE/temp/fedb6371-0b81-4b72-b87f-90e1cae12939/part-00000-tid-6151888817283459714-cb478dca-fc7a-4fdc-aac5-2384dc405987-283-1-c000.avro&#39;)\ns3.ObjectSummary(bucket_name=&#39;full-stack-bigdata-datasets&#39;, key=&#39;Big_Data/YOUTUBE/temp/ff05bb3b-c01f-4eab-be3e-9c2d516f1d8c/_SUCCESS&#39;)\ns3.ObjectSummary(bucket_name=&#39;full-stack-bigdata-datasets&#39;, key=&#39;Big_Data/YOUTUBE/temp/ff05bb3b-c01f-4eab-be3e-9c2d516f1d8c/_committed_8681866223424968602&#39;)\ns3.ObjectSummary(bucket_name=&#39;full-stack-bigdata-datasets&#39;, key=&#39;Big_Data/YOUTUBE/temp/ff05bb3b-c01f-4eab-be3e-9c2d516f1d8c/_started_8681866223424968602&#39;)\ns3.ObjectSummary(bucket_name=&#39;full-stack-bigdata-datasets&#39;, key=&#39;Big_Data/YOUTUBE/temp/ff05bb3b-c01f-4eab-be3e-9c2d516f1d8c/manifest.json&#39;)\ns3.ObjectSummary(bucket_name=&#39;full-stack-bigdata-datasets&#39;, key=&#39;Big_Data/YOUTUBE/temp/ff05bb3b-c01f-4eab-be3e-9c2d516f1d8c/part-00000-tid-8681866223424968602-94351d3b-b0da-4303-847d-75dbf5fc1f38-287-1-c000.avro&#39;)\n</div>",
       "datasetInfos": [],
       "removedWidgets": [],
       "type": "html"
      }
     },
     "output_type": "display_data"
    }
   ],
   "source": [
    "# TODO: print out the list of files inside {BUCKET}/{PREFIX}\n",
    "### BEGIN STRIP ###\n",
    "for bucket_object in bucket.objects.filter(Prefix=PREFIX):\n",
    "    print(bucket_object)\n",
    "### END STRIP ###"
   ]
  },
  {
   "cell_type": "code",
   "execution_count": null,
   "metadata": {
    "application/vnd.databricks.v1+cell": {
     "inputWidgets": {},
     "nuid": "30e2a60a-200a-44ae-b555-7297f9689e5c",
     "showTitle": false,
     "title": ""
    }
   },
   "outputs": [
    {
     "data": {
      "text/html": [
       "<style scoped>\n",
       "  .ansiout {\n",
       "    display: block;\n",
       "    unicode-bidi: embed;\n",
       "    white-space: pre-wrap;\n",
       "    word-wrap: break-word;\n",
       "    word-break: break-all;\n",
       "    font-family: \"Source Code Pro\", \"Menlo\", monospace;;\n",
       "    font-size: 13px;\n",
       "    color: #555;\n",
       "    margin-left: 4px;\n",
       "    line-height: 19px;\n",
       "  }\n",
       "</style>\n",
       "<div class=\"ansiout\"></div>"
      ]
     },
     "metadata": {
      "application/vnd.databricks.v1+output": {
       "addedWidgets": {},
       "arguments": {},
       "data": "<div class=\"ansiout\"></div>",
       "datasetInfos": [],
       "removedWidgets": [],
       "type": "html"
      }
     },
     "output_type": "display_data"
    }
   ],
   "source": [
    "# An utility function\n",
    "def get_s3_path(key, bucket_name=BUCKET_NAME, scheme=S3_RESOURCE):\n",
    "    return f\"{scheme}://{bucket_name}/{key}\""
   ]
  },
  {
   "cell_type": "markdown",
   "metadata": {
    "application/vnd.databricks.v1+cell": {
     "inputWidgets": {},
     "nuid": "dd8b6ef6-9e50-4bef-9c7c-ac1414382092",
     "showTitle": false,
     "title": ""
    }
   },
   "source": [
    "As you can see in the [documentation](https://spark.apache.org/docs/2.1.0/api/python/pyspark.sql.html#pyspark.sql.DataFrameReader.load) for the `.load(...)` method, it accepts as `path` argument, either a string or a list of string.\n",
    "\n",
    "We will pass it the list of all the s3 path we want, using the `get_s3_path` function on keys with PREFIX as a prefix and that ends with `.json.gz`."
   ]
  },
  {
   "cell_type": "code",
   "execution_count": null,
   "metadata": {
    "application/vnd.databricks.v1+cell": {
     "inputWidgets": {},
     "nuid": "0eb131cc-c9d8-4e82-9dd9-43f8e8b43f1c",
     "showTitle": false,
     "title": ""
    }
   },
   "outputs": [
    {
     "data": {
      "text/html": [
       "<style scoped>\n",
       "  .ansiout {\n",
       "    display: block;\n",
       "    unicode-bidi: embed;\n",
       "    white-space: pre-wrap;\n",
       "    word-wrap: break-word;\n",
       "    word-break: break-all;\n",
       "    font-family: \"Source Code Pro\", \"Menlo\", monospace;;\n",
       "    font-size: 13px;\n",
       "    color: #555;\n",
       "    margin-left: 4px;\n",
       "    line-height: 19px;\n",
       "  }\n",
       "</style>\n",
       "<div class=\"ansiout\">Out[46]: [&#39;s3://full-stack-bigdata-datasets/Big_Data/YOUTUBE/8cceb81c-534b-4354-8930-c7950ff5492c/manifest.json&#39;,\n",
       " &#39;s3://full-stack-bigdata-datasets/Big_Data/YOUTUBE/songs.json&#39;,\n",
       " &#39;s3://full-stack-bigdata-datasets/Big_Data/YOUTUBE/temp/1dfbf410-9049-476e-b3ea-fda2bace0f91/manifest.json&#39;,\n",
       " &#39;s3://full-stack-bigdata-datasets/Big_Data/YOUTUBE/temp/3cc25de9-3d4d-4710-9570-497004bae11f/manifest.json&#39;,\n",
       " &#39;s3://full-stack-bigdata-datasets/Big_Data/YOUTUBE/temp/3f4084b2-6084-423e-95ed-bc19e5f51a4b/manifest.json&#39;,\n",
       " &#39;s3://full-stack-bigdata-datasets/Big_Data/YOUTUBE/temp/dcf68240-ec78-4788-a71f-95837464162f/manifest.json&#39;,\n",
       " &#39;s3://full-stack-bigdata-datasets/Big_Data/YOUTUBE/temp/f34964fd-26b8-4bef-bb76-5bc14464e6c9/manifest.json&#39;,\n",
       " &#39;s3://full-stack-bigdata-datasets/Big_Data/YOUTUBE/temp/fedb6371-0b81-4b72-b87f-90e1cae12939/manifest.json&#39;,\n",
       " &#39;s3://full-stack-bigdata-datasets/Big_Data/YOUTUBE/temp/ff05bb3b-c01f-4eab-be3e-9c2d516f1d8c/manifest.json&#39;]</div>"
      ]
     },
     "metadata": {
      "application/vnd.databricks.v1+output": {
       "addedWidgets": {},
       "arguments": {},
       "data": "<div class=\"ansiout\">Out[46]: [&#39;s3://full-stack-bigdata-datasets/Big_Data/YOUTUBE/8cceb81c-534b-4354-8930-c7950ff5492c/manifest.json&#39;,\n &#39;s3://full-stack-bigdata-datasets/Big_Data/YOUTUBE/songs.json&#39;,\n &#39;s3://full-stack-bigdata-datasets/Big_Data/YOUTUBE/temp/1dfbf410-9049-476e-b3ea-fda2bace0f91/manifest.json&#39;,\n &#39;s3://full-stack-bigdata-datasets/Big_Data/YOUTUBE/temp/3cc25de9-3d4d-4710-9570-497004bae11f/manifest.json&#39;,\n &#39;s3://full-stack-bigdata-datasets/Big_Data/YOUTUBE/temp/3f4084b2-6084-423e-95ed-bc19e5f51a4b/manifest.json&#39;,\n &#39;s3://full-stack-bigdata-datasets/Big_Data/YOUTUBE/temp/dcf68240-ec78-4788-a71f-95837464162f/manifest.json&#39;,\n &#39;s3://full-stack-bigdata-datasets/Big_Data/YOUTUBE/temp/f34964fd-26b8-4bef-bb76-5bc14464e6c9/manifest.json&#39;,\n &#39;s3://full-stack-bigdata-datasets/Big_Data/YOUTUBE/temp/fedb6371-0b81-4b72-b87f-90e1cae12939/manifest.json&#39;,\n &#39;s3://full-stack-bigdata-datasets/Big_Data/YOUTUBE/temp/ff05bb3b-c01f-4eab-be3e-9c2d516f1d8c/manifest.json&#39;]</div>",
       "datasetInfos": [],
       "removedWidgets": [],
       "type": "html"
      }
     },
     "output_type": "display_data"
    }
   ],
   "source": [
    "# TODO: create a list of s3 filepaths where keys have the prefix PREFIX and ends with .json.gz\n",
    "### BEGIN STRIP ###\n",
    "jsons = [get_s3_path(bucket_object.key) for bucket_object in bucket.objects.filter(Prefix=PREFIX) if bucket_object.key.endswith('.json')]\n",
    "jsons\n",
    "### END STRIP ###"
   ]
  },
  {
   "cell_type": "code",
   "execution_count": null,
   "metadata": {
    "application/vnd.databricks.v1+cell": {
     "inputWidgets": {},
     "nuid": "5853fa9a-a304-4643-8c45-ad30ff428fde",
     "showTitle": false,
     "title": ""
    }
   },
   "outputs": [
    {
     "data": {
      "text/html": [
       "<style scoped>\n",
       "  .ansiout {\n",
       "    display: block;\n",
       "    unicode-bidi: embed;\n",
       "    white-space: pre-wrap;\n",
       "    word-wrap: break-word;\n",
       "    word-break: break-all;\n",
       "    font-family: \"Source Code Pro\", \"Menlo\", monospace;;\n",
       "    font-size: 13px;\n",
       "    color: #555;\n",
       "    margin-left: 4px;\n",
       "    line-height: 19px;\n",
       "  }\n",
       "</style>\n",
       "<div class=\"ansiout\"></div>"
      ]
     },
     "metadata": {
      "application/vnd.databricks.v1+output": {
       "addedWidgets": {},
       "arguments": {},
       "data": "<div class=\"ansiout\"></div>",
       "datasetInfos": [],
       "removedWidgets": [],
       "type": "html"
      }
     },
     "output_type": "display_data"
    }
   ],
   "source": [
    "# TODO: load all the files into a DataFrame: `df`\n",
    "### BEGIN STRIP ###\n",
    "df = (spark.read.format('json').load(f\"s3://{BUCKET_NAME}/{PREFIX}/songs.json\"))\n",
    "### END STRIP ###"
   ]
  },
  {
   "cell_type": "code",
   "execution_count": null,
   "metadata": {
    "application/vnd.databricks.v1+cell": {
     "inputWidgets": {},
     "nuid": "38932137-e9a4-41aa-89b6-42cec056ce8e",
     "showTitle": false,
     "title": ""
    }
   },
   "outputs": [
    {
     "data": {
      "text/html": [
       "<style scoped>\n",
       "  .ansiout {\n",
       "    display: block;\n",
       "    unicode-bidi: embed;\n",
       "    white-space: pre-wrap;\n",
       "    word-wrap: break-word;\n",
       "    word-break: break-all;\n",
       "    font-family: \"Source Code Pro\", \"Menlo\", monospace;;\n",
       "    font-size: 13px;\n",
       "    color: #555;\n",
       "    margin-left: 4px;\n",
       "    line-height: 19px;\n",
       "  }\n",
       "</style>\n",
       "<div class=\"ansiout\">Out[52]: 100</div>"
      ]
     },
     "metadata": {
      "application/vnd.databricks.v1+output": {
       "addedWidgets": {},
       "arguments": {},
       "data": "<div class=\"ansiout\">Out[52]: 100</div>",
       "datasetInfos": [],
       "removedWidgets": [],
       "type": "html"
      }
     },
     "output_type": "display_data"
    }
   ],
   "source": [
    "# TODO: count the number of rows in your DataFrame, it should be 12627\n",
    "### BEGIN STRIP ###\n",
    "df.count()\n",
    "### END STRIP ###"
   ]
  },
  {
   "cell_type": "markdown",
   "metadata": {
    "application/vnd.databricks.v1+cell": {
     "inputWidgets": {},
     "nuid": "14549761-f950-46ad-92e5-38acab71dd66",
     "showTitle": false,
     "title": ""
    }
   },
   "source": [
    "Looking great! But there's more, what they're not telling you in the documentation is that you can use wildcards in your paths:\n",
    "- `*`: replaces any string\n",
    "- `?`: replaces a single letter\n",
    "\n",
    "In our case, all our file keys are `youtube`, followed by a number, followed by `.json.gz`: like this `youtube13.json.gz`.  \n",
    "Which means, `youtube*.json.gz` will catch all of these.\n",
    "\n",
    "This pattern is called globbing, you can learn about it on [wikipedia](https://en.wikipedia.org/wiki/Glob_(programming) and this is why we will our our variable `filekey_glob`."
   ]
  },
  {
   "cell_type": "code",
   "execution_count": null,
   "metadata": {
    "application/vnd.databricks.v1+cell": {
     "inputWidgets": {},
     "nuid": "433fccc4-d799-4ad8-a161-1fe09e4550ef",
     "showTitle": false,
     "title": ""
    }
   },
   "outputs": [
    {
     "data": {
      "text/html": [
       "<style scoped>\n",
       "  .ansiout {\n",
       "    display: block;\n",
       "    unicode-bidi: embed;\n",
       "    white-space: pre-wrap;\n",
       "    word-wrap: break-word;\n",
       "    word-break: break-all;\n",
       "    font-family: \"Source Code Pro\", \"Menlo\", monospace;;\n",
       "    font-size: 13px;\n",
       "    color: #555;\n",
       "    margin-left: 4px;\n",
       "    line-height: 19px;\n",
       "  }\n",
       "</style>\n",
       "<div class=\"ansiout\">Out[30]: &#39;s3a://nibble-datasets/openwhyd/youtube/youtube*.json.gz&#39;</div>"
      ]
     },
     "metadata": {
      "application/vnd.databricks.v1+output": {
       "addedWidgets": {},
       "arguments": {},
       "data": "<style scoped>\n  .ansiout {\n    display: block;\n    unicode-bidi: embed;\n    white-space: pre-wrap;\n    word-wrap: break-word;\n    word-break: break-all;\n    font-family: \"Source Code Pro\", \"Menlo\", monospace;;\n    font-size: 13px;\n    color: #555;\n    margin-left: 4px;\n    line-height: 19px;\n  }\n</style>\n<div class=\"ansiout\">Out[30]: &#39;s3a://nibble-datasets/openwhyd/youtube/youtube*.json.gz&#39;</div>",
       "datasetInfos": [],
       "removedWidgets": [],
       "textData": null,
       "type": "htmlSandbox"
      }
     },
     "output_type": "display_data"
    }
   ],
   "source": [
    "# TODO: follow previous instructions: `filekey_glob`\n",
    "### BEGIN STRIP ###\n",
    "\n",
    "### END STRIP ###"
   ]
  },
  {
   "cell_type": "code",
   "execution_count": null,
   "metadata": {
    "application/vnd.databricks.v1+cell": {
     "inputWidgets": {},
     "nuid": "b072ede3-513c-4557-ac21-28dd16c758bc",
     "showTitle": false,
     "title": ""
    }
   },
   "outputs": [
    {
     "data": {
      "text/html": [
       "<style scoped>\n",
       "  .ansiout {\n",
       "    display: block;\n",
       "    unicode-bidi: embed;\n",
       "    white-space: pre-wrap;\n",
       "    word-wrap: break-word;\n",
       "    word-break: break-all;\n",
       "    font-family: \"Source Code Pro\", \"Menlo\", monospace;;\n",
       "    font-size: 13px;\n",
       "    color: #555;\n",
       "    margin-left: 4px;\n",
       "    line-height: 19px;\n",
       "  }\n",
       "</style>\n",
       "<div class=\"ansiout\"></div>"
      ]
     },
     "metadata": {
      "application/vnd.databricks.v1+output": {
       "addedWidgets": {},
       "arguments": {},
       "data": "<style scoped>\n  .ansiout {\n    display: block;\n    unicode-bidi: embed;\n    white-space: pre-wrap;\n    word-wrap: break-word;\n    word-break: break-all;\n    font-family: \"Source Code Pro\", \"Menlo\", monospace;;\n    font-size: 13px;\n    color: #555;\n    margin-left: 4px;\n    line-height: 19px;\n  }\n</style>\n<div class=\"ansiout\"></div>",
       "datasetInfos": [],
       "removedWidgets": [],
       "textData": null,
       "type": "htmlSandbox"
      }
     },
     "output_type": "display_data"
    }
   ],
   "source": [
    "# TODO: Using `filekey_glob`, load all the files into a PySpark DataFrame: `df`\n",
    "### BEGIN STRIP ###\n",
    "\n",
    "### END STRIP ###"
   ]
  },
  {
   "cell_type": "markdown",
   "metadata": {
    "application/vnd.databricks.v1+cell": {
     "inputWidgets": {},
     "nuid": "c799e099-a8e4-4cf2-a3b2-ece26abf3b17",
     "showTitle": false,
     "title": ""
    }
   },
   "source": [
    "We'll just check we have the same number of rows with this method"
   ]
  },
  {
   "cell_type": "code",
   "execution_count": null,
   "metadata": {
    "application/vnd.databricks.v1+cell": {
     "inputWidgets": {},
     "nuid": "199cee04-6d88-42dd-9bbf-8cdc825aa1b5",
     "showTitle": false,
     "title": ""
    }
   },
   "outputs": [
    {
     "data": {
      "text/html": [
       "<style scoped>\n",
       "  .ansiout {\n",
       "    display: block;\n",
       "    unicode-bidi: embed;\n",
       "    white-space: pre-wrap;\n",
       "    word-wrap: break-word;\n",
       "    word-break: break-all;\n",
       "    font-family: \"Source Code Pro\", \"Menlo\", monospace;;\n",
       "    font-size: 13px;\n",
       "    color: #555;\n",
       "    margin-left: 4px;\n",
       "    line-height: 19px;\n",
       "  }\n",
       "</style>\n",
       "<div class=\"ansiout\">Out[32]: 12627</div>"
      ]
     },
     "metadata": {
      "application/vnd.databricks.v1+output": {
       "addedWidgets": {},
       "arguments": {},
       "data": "<style scoped>\n  .ansiout {\n    display: block;\n    unicode-bidi: embed;\n    white-space: pre-wrap;\n    word-wrap: break-word;\n    word-break: break-all;\n    font-family: \"Source Code Pro\", \"Menlo\", monospace;;\n    font-size: 13px;\n    color: #555;\n    margin-left: 4px;\n    line-height: 19px;\n  }\n</style>\n<div class=\"ansiout\">Out[32]: 12627</div>",
       "datasetInfos": [],
       "removedWidgets": [],
       "textData": null,
       "type": "htmlSandbox"
      }
     },
     "output_type": "display_data"
    }
   ],
   "source": [
    "# TODO: count the number of rows in the DataFrame\n",
    "### BEGIN STRIP ###\n",
    "\n",
    "### END STRIP ###"
   ]
  },
  {
   "cell_type": "markdown",
   "metadata": {
    "application/vnd.databricks.v1+cell": {
     "inputWidgets": {},
     "nuid": "91e3c72c-2a04-487a-a73d-4efd1e376f36",
     "showTitle": false,
     "title": ""
    }
   },
   "source": [
    "Once again, we should have 12627 rows. **If that's not the case, you have an issue, go back and fix it.**"
   ]
  },
  {
   "cell_type": "markdown",
   "metadata": {
    "application/vnd.databricks.v1+cell": {
     "inputWidgets": {},
     "nuid": "737cb97a-d5d4-401f-9133-f222a0ac0c8f",
     "showTitle": false,
     "title": ""
    }
   },
   "source": [
    "## Tidying up\n",
    "\n",
    "---\n",
    "\n",
    "We have multiple issues with our data.  **It does not look like \"tidy data\" at all.**  \n",
    "First, we have rows within rows...\n",
    "And second, most of the data resides in deeply nested structure within the column items...\n",
    "\n",
    "We will fix the former, then handle the latter in the next notebook."
   ]
  },
  {
   "cell_type": "markdown",
   "metadata": {
    "application/vnd.databricks.v1+cell": {
     "inputWidgets": {},
     "nuid": "235a53f3-e185-40d1-aba9-b0aa1761b271",
     "showTitle": false,
     "title": ""
    }
   },
   "source": [
    "### 1. Fixing the rows\n",
    "Ever heard about `EXPLODE` in SQL?\n",
    "\n",
    "🚧 Need more stuff here. In particular link to documentation for SQL explode.\n",
    "\n",
    "Luckily for us, they're an equivalent in PySpark: `.explode(...)`, here's the link to the [documentation](https://spark.apache.org/docs/2.1.0/api/python/pyspark.sql.html#pyspark.sql.functions.explode).  \n",
    "What `.explode(...)` does, it \"Returns a new row for each element in the given array or map.\"\n",
    "\n",
    "If you remember properly, that's exactly the kind of structures we have in the schema of our DataFrame for the `items` column."
   ]
  },
  {
   "cell_type": "code",
   "execution_count": null,
   "metadata": {
    "application/vnd.databricks.v1+cell": {
     "inputWidgets": {},
     "nuid": "11460bf2-d10c-4f0f-bc5c-55ba3a47efbb",
     "showTitle": false,
     "title": ""
    }
   },
   "outputs": [
    {
     "data": {
      "text/html": [
       "<style scoped>\n",
       "  .ansiout {\n",
       "    display: block;\n",
       "    unicode-bidi: embed;\n",
       "    white-space: pre-wrap;\n",
       "    word-wrap: break-word;\n",
       "    word-break: break-all;\n",
       "    font-family: \"Source Code Pro\", \"Menlo\", monospace;;\n",
       "    font-size: 13px;\n",
       "    color: #555;\n",
       "    margin-left: 4px;\n",
       "    line-height: 19px;\n",
       "  }\n",
       "</style>\n",
       "<div class=\"ansiout\">root\n",
       "-- etag: string (nullable = true)\n",
       "-- items: array (nullable = true)\n",
       "    |-- element: struct (containsNull = true)\n",
       "    |    |-- contentDetails: struct (nullable = true)\n",
       "    |    |    |-- caption: string (nullable = true)\n",
       "    |    |    |-- contentRating: struct (nullable = true)\n",
       "    |    |    |    |-- ytRating: string (nullable = true)\n",
       "    |    |    |-- definition: string (nullable = true)\n",
       "    |    |    |-- dimension: string (nullable = true)\n",
       "    |    |    |-- duration: string (nullable = true)\n",
       "    |    |    |-- licensedContent: boolean (nullable = true)\n",
       "    |    |    |-- projection: string (nullable = true)\n",
       "    |    |    |-- regionRestriction: struct (nullable = true)\n",
       "    |    |    |    |-- allowed: array (nullable = true)\n",
       "    |    |    |    |    |-- element: string (containsNull = true)\n",
       "    |    |    |    |-- blocked: array (nullable = true)\n",
       "    |    |    |    |    |-- element: string (containsNull = true)\n",
       "    |    |-- etag: string (nullable = true)\n",
       "    |    |-- id: string (nullable = true)\n",
       "    |    |-- kind: string (nullable = true)\n",
       "    |    |-- snippet: struct (nullable = true)\n",
       "    |    |    |-- categoryId: string (nullable = true)\n",
       "    |    |    |-- channelId: string (nullable = true)\n",
       "    |    |    |-- channelTitle: string (nullable = true)\n",
       "    |    |    |-- defaultAudioLanguage: string (nullable = true)\n",
       "    |    |    |-- defaultLanguage: string (nullable = true)\n",
       "    |    |    |-- description: string (nullable = true)\n",
       "    |    |    |-- liveBroadcastContent: string (nullable = true)\n",
       "    |    |    |-- localized: struct (nullable = true)\n",
       "    |    |    |    |-- description: string (nullable = true)\n",
       "    |    |    |    |-- title: string (nullable = true)\n",
       "    |    |    |-- publishedAt: string (nullable = true)\n",
       "    |    |    |-- tags: array (nullable = true)\n",
       "    |    |    |    |-- element: string (containsNull = true)\n",
       "    |    |    |-- thumbnails: struct (nullable = true)\n",
       "    |    |    |    |-- default: struct (nullable = true)\n",
       "    |    |    |    |    |-- height: long (nullable = true)\n",
       "    |    |    |    |    |-- url: string (nullable = true)\n",
       "    |    |    |    |    |-- width: long (nullable = true)\n",
       "    |    |    |    |-- high: struct (nullable = true)\n",
       "    |    |    |    |    |-- height: long (nullable = true)\n",
       "    |    |    |    |    |-- url: string (nullable = true)\n",
       "    |    |    |    |    |-- width: long (nullable = true)\n",
       "    |    |    |    |-- maxres: struct (nullable = true)\n",
       "    |    |    |    |    |-- height: long (nullable = true)\n",
       "    |    |    |    |    |-- url: string (nullable = true)\n",
       "    |    |    |    |    |-- width: long (nullable = true)\n",
       "    |    |    |    |-- medium: struct (nullable = true)\n",
       "    |    |    |    |    |-- height: long (nullable = true)\n",
       "    |    |    |    |    |-- url: string (nullable = true)\n",
       "    |    |    |    |    |-- width: long (nullable = true)\n",
       "    |    |    |    |-- standard: struct (nullable = true)\n",
       "    |    |    |    |    |-- height: long (nullable = true)\n",
       "    |    |    |    |    |-- url: string (nullable = true)\n",
       "    |    |    |    |    |-- width: long (nullable = true)\n",
       "    |    |    |-- title: string (nullable = true)\n",
       "    |    |-- statistics: struct (nullable = true)\n",
       "    |    |    |-- commentCount: string (nullable = true)\n",
       "    |    |    |-- dislikeCount: string (nullable = true)\n",
       "    |    |    |-- favoriteCount: string (nullable = true)\n",
       "    |    |    |-- likeCount: string (nullable = true)\n",
       "    |    |    |-- viewCount: string (nullable = true)\n",
       "    |    |-- status: struct (nullable = true)\n",
       "    |    |    |-- embeddable: boolean (nullable = true)\n",
       "    |    |    |-- license: string (nullable = true)\n",
       "    |    |    |-- madeForKids: boolean (nullable = true)\n",
       "    |    |    |-- privacyStatus: string (nullable = true)\n",
       "    |    |    |-- publicStatsViewable: boolean (nullable = true)\n",
       "    |    |    |-- uploadStatus: string (nullable = true)\n",
       "    |    |-- topicDetails: struct (nullable = true)\n",
       "    |    |    |-- relevantTopicIds: array (nullable = true)\n",
       "    |    |    |    |-- element: string (containsNull = true)\n",
       "    |    |    |-- topicCategories: array (nullable = true)\n",
       "    |    |    |    |-- element: string (containsNull = true)\n",
       "-- kind: string (nullable = true)\n",
       "-- pageInfo: struct (nullable = true)\n",
       "    |-- resultsPerPage: long (nullable = true)\n",
       "    |-- totalResults: long (nullable = true)\n",
       "\n",
       "</div>"
      ]
     },
     "metadata": {
      "application/vnd.databricks.v1+output": {
       "addedWidgets": {},
       "arguments": {},
       "data": "<div class=\"ansiout\">root\n |-- etag: string (nullable = true)\n |-- items: array (nullable = true)\n |    |-- element: struct (containsNull = true)\n |    |    |-- contentDetails: struct (nullable = true)\n |    |    |    |-- caption: string (nullable = true)\n |    |    |    |-- contentRating: struct (nullable = true)\n |    |    |    |    |-- ytRating: string (nullable = true)\n |    |    |    |-- definition: string (nullable = true)\n |    |    |    |-- dimension: string (nullable = true)\n |    |    |    |-- duration: string (nullable = true)\n |    |    |    |-- licensedContent: boolean (nullable = true)\n |    |    |    |-- projection: string (nullable = true)\n |    |    |    |-- regionRestriction: struct (nullable = true)\n |    |    |    |    |-- allowed: array (nullable = true)\n |    |    |    |    |    |-- element: string (containsNull = true)\n |    |    |    |    |-- blocked: array (nullable = true)\n |    |    |    |    |    |-- element: string (containsNull = true)\n |    |    |-- etag: string (nullable = true)\n |    |    |-- id: string (nullable = true)\n |    |    |-- kind: string (nullable = true)\n |    |    |-- snippet: struct (nullable = true)\n |    |    |    |-- categoryId: string (nullable = true)\n |    |    |    |-- channelId: string (nullable = true)\n |    |    |    |-- channelTitle: string (nullable = true)\n |    |    |    |-- defaultAudioLanguage: string (nullable = true)\n |    |    |    |-- defaultLanguage: string (nullable = true)\n |    |    |    |-- description: string (nullable = true)\n |    |    |    |-- liveBroadcastContent: string (nullable = true)\n |    |    |    |-- localized: struct (nullable = true)\n |    |    |    |    |-- description: string (nullable = true)\n |    |    |    |    |-- title: string (nullable = true)\n |    |    |    |-- publishedAt: string (nullable = true)\n |    |    |    |-- tags: array (nullable = true)\n |    |    |    |    |-- element: string (containsNull = true)\n |    |    |    |-- thumbnails: struct (nullable = true)\n |    |    |    |    |-- default: struct (nullable = true)\n |    |    |    |    |    |-- height: long (nullable = true)\n |    |    |    |    |    |-- url: string (nullable = true)\n |    |    |    |    |    |-- width: long (nullable = true)\n |    |    |    |    |-- high: struct (nullable = true)\n |    |    |    |    |    |-- height: long (nullable = true)\n |    |    |    |    |    |-- url: string (nullable = true)\n |    |    |    |    |    |-- width: long (nullable = true)\n |    |    |    |    |-- maxres: struct (nullable = true)\n |    |    |    |    |    |-- height: long (nullable = true)\n |    |    |    |    |    |-- url: string (nullable = true)\n |    |    |    |    |    |-- width: long (nullable = true)\n |    |    |    |    |-- medium: struct (nullable = true)\n |    |    |    |    |    |-- height: long (nullable = true)\n |    |    |    |    |    |-- url: string (nullable = true)\n |    |    |    |    |    |-- width: long (nullable = true)\n |    |    |    |    |-- standard: struct (nullable = true)\n |    |    |    |    |    |-- height: long (nullable = true)\n |    |    |    |    |    |-- url: string (nullable = true)\n |    |    |    |    |    |-- width: long (nullable = true)\n |    |    |    |-- title: string (nullable = true)\n |    |    |-- statistics: struct (nullable = true)\n |    |    |    |-- commentCount: string (nullable = true)\n |    |    |    |-- dislikeCount: string (nullable = true)\n |    |    |    |-- favoriteCount: string (nullable = true)\n |    |    |    |-- likeCount: string (nullable = true)\n |    |    |    |-- viewCount: string (nullable = true)\n |    |    |-- status: struct (nullable = true)\n |    |    |    |-- embeddable: boolean (nullable = true)\n |    |    |    |-- license: string (nullable = true)\n |    |    |    |-- madeForKids: boolean (nullable = true)\n |    |    |    |-- privacyStatus: string (nullable = true)\n |    |    |    |-- publicStatsViewable: boolean (nullable = true)\n |    |    |    |-- uploadStatus: string (nullable = true)\n |    |    |-- topicDetails: struct (nullable = true)\n |    |    |    |-- relevantTopicIds: array (nullable = true)\n |    |    |    |    |-- element: string (containsNull = true)\n |    |    |    |-- topicCategories: array (nullable = true)\n |    |    |    |    |-- element: string (containsNull = true)\n |-- kind: string (nullable = true)\n |-- pageInfo: struct (nullable = true)\n |    |-- resultsPerPage: long (nullable = true)\n |    |-- totalResults: long (nullable = true)\n\n</div>",
       "datasetInfos": [],
       "removedWidgets": [],
       "type": "html"
      }
     },
     "output_type": "display_data"
    }
   ],
   "source": [
    "# TODO: print out the schema of `df`\n",
    "### BEGIN STRIP ###\n",
    "df.printSchema()\n",
    "### END STRIP ###"
   ]
  },
  {
   "cell_type": "code",
   "execution_count": null,
   "metadata": {
    "application/vnd.databricks.v1+cell": {
     "inputWidgets": {},
     "nuid": "64e7c1bb-21df-4e6e-8715-ecaf734f3366",
     "showTitle": false,
     "title": ""
    }
   },
   "outputs": [
    {
     "data": {
      "text/html": [
       "<style scoped>\n",
       "  .ansiout {\n",
       "    display: block;\n",
       "    unicode-bidi: embed;\n",
       "    white-space: pre-wrap;\n",
       "    word-wrap: break-word;\n",
       "    word-break: break-all;\n",
       "    font-family: \"Source Code Pro\", \"Menlo\", monospace;;\n",
       "    font-size: 13px;\n",
       "    color: #555;\n",
       "    margin-left: 4px;\n",
       "    line-height: 19px;\n",
       "  }\n",
       "</style>\n",
       "<div class=\"ansiout\"></div>"
      ]
     },
     "metadata": {
      "application/vnd.databricks.v1+output": {
       "addedWidgets": {},
       "arguments": {},
       "data": "<div class=\"ansiout\"></div>",
       "datasetInfos": [],
       "removedWidgets": [],
       "type": "html"
      }
     },
     "output_type": "display_data"
    }
   ],
   "source": [
    "# TODO: import the PySpark SQL functions following usual convention\n",
    "### BEGIN STRIP ###\n",
    "from pyspark.sql import functions as F\n",
    "### END STRIP ###"
   ]
  },
  {
   "cell_type": "code",
   "execution_count": null,
   "metadata": {
    "application/vnd.databricks.v1+cell": {
     "inputWidgets": {},
     "nuid": "126e01d1-1264-4d58-97ba-d4fa3f1504ff",
     "showTitle": false,
     "title": ""
    }
   },
   "outputs": [
    {
     "data": {
      "text/html": [
       "<style scoped>\n",
       "  .ansiout {\n",
       "    display: block;\n",
       "    unicode-bidi: embed;\n",
       "    white-space: pre-wrap;\n",
       "    word-wrap: break-word;\n",
       "    word-break: break-all;\n",
       "    font-family: \"Source Code Pro\", \"Menlo\", monospace;;\n",
       "    font-size: 13px;\n",
       "    color: #555;\n",
       "    margin-left: 4px;\n",
       "    line-height: 19px;\n",
       "  }\n",
       "</style>\n",
       "<div class=\"ansiout\">Out[56]: 3907</div>"
      ]
     },
     "metadata": {
      "application/vnd.databricks.v1+output": {
       "addedWidgets": {},
       "arguments": {},
       "data": "<div class=\"ansiout\">Out[56]: 3907</div>",
       "datasetInfos": [],
       "removedWidgets": [],
       "type": "html"
      }
     },
     "output_type": "display_data"
    }
   ],
   "source": [
    "# TODO: use `.explode(...)` on the `items` column and count the number of results\n",
    "### BEGIN STRIP ###\n",
    "df = df.withColumn('items', F.explode(df.items))\n",
    "df.count()\n",
    "### END STRIP ###"
   ]
  },
  {
   "cell_type": "markdown",
   "metadata": {
    "application/vnd.databricks.v1+cell": {
     "inputWidgets": {},
     "nuid": "47b1f2b4-a11a-44c2-b773-f452b80d1f00",
     "showTitle": false,
     "title": ""
    }
   },
   "source": [
    "If you got 512624 rows, you've made it, congrats! :)  \n",
    "We will use this as our new working DataFrame:\n",
    "- just do the same thing, but this time save into a variable named `items_df`\n",
    "- don't forget to give a proper alias to your newly compute column: `items`\n",
    "- at the end, as a sanity check, make sure we have the right amount of columns in our new DataFrame"
   ]
  },
  {
   "cell_type": "code",
   "execution_count": null,
   "metadata": {
    "application/vnd.databricks.v1+cell": {
     "inputWidgets": {},
     "nuid": "6f1be90f-a648-4cc9-843c-fe4c0af60c58",
     "showTitle": false,
     "title": ""
    }
   },
   "outputs": [
    {
     "data": {
      "text/html": [
       "<style scoped>\n",
       "  .ansiout {\n",
       "    display: block;\n",
       "    unicode-bidi: embed;\n",
       "    white-space: pre-wrap;\n",
       "    word-wrap: break-word;\n",
       "    word-break: break-all;\n",
       "    font-family: \"Source Code Pro\", \"Menlo\", monospace;;\n",
       "    font-size: 13px;\n",
       "    color: #555;\n",
       "    margin-left: 4px;\n",
       "    line-height: 19px;\n",
       "  }\n",
       "</style>\n",
       "<div class=\"ansiout\">Out[57]: 3907</div>"
      ]
     },
     "metadata": {
      "application/vnd.databricks.v1+output": {
       "addedWidgets": {},
       "arguments": {},
       "data": "<div class=\"ansiout\">Out[57]: 3907</div>",
       "datasetInfos": [],
       "removedWidgets": [],
       "type": "html"
      }
     },
     "output_type": "display_data"
    }
   ],
   "source": [
    "# TODO: follow previous instructions\n",
    "### BEGIN STRIP ###\n",
    "df.count()\n",
    "### END STRIP ###"
   ]
  },
  {
   "cell_type": "markdown",
   "metadata": {
    "application/vnd.databricks.v1+cell": {
     "inputWidgets": {},
     "nuid": "388561d2-654b-4c24-b822-fe636daea9f4",
     "showTitle": false,
     "title": ""
    }
   },
   "source": [
    "We're making progress, we now have one row per result (e.g. song)!\n",
    "\n",
    "But each song is a deeply nested structure... We will take care of this in the following notebook."
   ]
  },
  {
   "cell_type": "markdown",
   "metadata": {
    "application/vnd.databricks.v1+cell": {
     "inputWidgets": {},
     "nuid": "8143314f-97b5-45ab-bf0c-538e8b423480",
     "showTitle": false,
     "title": ""
    }
   },
   "source": [
    "### BEGIN STRIP ###\n",
    "\\# TODO: We could tell students to save their work as a parquet file inside a key/folder `interim`\n",
    "We will use Parquet storage in S3 in a \"folder\" called `interim`\n",
    "\n",
    "**Question:** Do we want to do this? It will incur costs and overhead?\n",
    "\n",
    "### END STRIP ###"
   ]
  },
  {
   "cell_type": "code",
   "execution_count": null,
   "metadata": {
    "application/vnd.databricks.v1+cell": {
     "inputWidgets": {},
     "nuid": "02a9a599-1b90-45f2-820a-17c8c1982c91",
     "showTitle": false,
     "title": ""
    }
   },
   "outputs": [
    {
     "data": {
      "text/html": [
       "<style scoped>\n",
       "  .ansiout {\n",
       "    display: block;\n",
       "    unicode-bidi: embed;\n",
       "    white-space: pre-wrap;\n",
       "    word-wrap: break-word;\n",
       "    word-break: break-all;\n",
       "    font-family: \"Source Code Pro\", \"Menlo\", monospace;;\n",
       "    font-size: 13px;\n",
       "    color: #555;\n",
       "    margin-left: 4px;\n",
       "    line-height: 19px;\n",
       "  }\n",
       "</style>\n",
       "<div class=\"ansiout\"></div>"
      ]
     },
     "metadata": {
      "application/vnd.databricks.v1+output": {
       "addedWidgets": {},
       "arguments": {},
       "data": "<div class=\"ansiout\"></div>",
       "datasetInfos": [],
       "removedWidgets": [],
       "type": "html"
      }
     },
     "output_type": "display_data"
    }
   ],
   "source": [
    "# TODO: 🚧 Do we need \n",
    "# TODO: save the DataFrame as a parquet\n",
    "### BEGIN STRIP ###\n",
    "df.write.mode(\"overwrite\").parquet(\"/tmp/interim.parquet\")\n",
    "### END STRIP ###"
   ]
  },
  {
   "cell_type": "markdown",
   "metadata": {
    "application/vnd.databricks.v1+cell": {
     "inputWidgets": {},
     "nuid": "135a33c5-594f-4024-882c-aa708e9d0952",
     "showTitle": false,
     "title": ""
    }
   },
   "source": [
    "## Wrap-up\n",
    "You learned:\n",
    "- how to glob files using wildcards\n",
    "- use `.explode(...)` to split arrays values into their own rows\n",
    "- saving your intermediary data in S3"
   ]
  }
 ],
 "metadata": {
  "application/vnd.databricks.v1+notebook": {
   "dashboards": [],
   "language": "python",
   "notebookName": "02-Tidying_up_Part_1",
   "notebookOrigID": 1597076513079430,
   "widgets": {}
  },
  "kernelspec": {
   "display_name": "Python 3",
   "language": "python",
   "name": "python3"
  },
  "language_info": {
   "codemirror_mode": {
    "name": "ipython",
    "version": 3
   },
   "file_extension": ".py",
   "mimetype": "text/x-python",
   "name": "python",
   "nbconvert_exporter": "python",
   "pygments_lexer": "ipython3",
   "version": "3.8.6"
  }
 },
 "nbformat": 4,
 "nbformat_minor": 4
}
