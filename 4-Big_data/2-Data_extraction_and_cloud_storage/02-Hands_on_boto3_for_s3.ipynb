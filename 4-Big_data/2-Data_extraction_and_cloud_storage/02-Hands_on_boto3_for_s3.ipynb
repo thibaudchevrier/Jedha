{
 "cells": [
  {
   "cell_type": "markdown",
   "metadata": {},
   "source": [
    "# Hands-on `boto3`\n",
    "\n",
    "![welcome](https://source.unsplash.com/IlvyGgSiUKQ)\n",
    "\n",
    "Photo by [@naszymokiem](https://unsplash.com/@naszymokiem)"
   ]
  },
  {
   "cell_type": "markdown",
   "metadata": {},
   "source": [
    "## Resource\n",
    "\n",
    "Resources are an object-oriented way of interacting with your AWS infrastructure. There is one resource for every AWS product (`ec2`, `s3`...). Using resources objects allows you to have a high-level interface to your actual AWS resource, with attributes and methods listed in the appropriate resource's documentation.\n",
    "\n",
    "To create an `s3` resource object, simply do:"
   ]
  },
  {
   "cell_type": "code",
   "execution_count": null,
   "metadata": {},
   "outputs": [],
   "source": [
    "import boto3"
   ]
  },
  {
   "cell_type": "code",
   "execution_count": null,
   "metadata": {},
   "outputs": [],
   "source": [
    "s3 = boto3.resource('s3')\n",
    "s3"
   ]
  },
  {
   "cell_type": "markdown",
   "metadata": {},
   "source": [
    "Given a `s3` resource object, you can easily create a bucket using the `create_bucket()` action associated with the `s3` resource:"
   ]
  },
  {
   "cell_type": "code",
   "execution_count": null,
   "metadata": {},
   "outputs": [],
   "source": [
    "s3.create_bucket('my-bucket-name')"
   ]
  },
  {
   "cell_type": "markdown",
   "metadata": {},
   "source": [
    "To manipulate an object representing a specific S3 bucket, use the `Bucket` sub-resource:"
   ]
  },
  {
   "cell_type": "code",
   "execution_count": null,
   "metadata": {},
   "outputs": [],
   "source": [
    "bucket = s3.Bucket('my-bucket-name')\n",
    "bucket"
   ]
  },
  {
   "cell_type": "markdown",
   "metadata": {},
   "source": [
    "Or to access a given object in your bucket:"
   ]
  },
  {
   "cell_type": "code",
   "execution_count": null,
   "metadata": {},
   "outputs": [],
   "source": [
    "obj = bucket.Object('my-object-key')\n",
    "obj"
   ]
  },
  {
   "cell_type": "code",
   "execution_count": null,
   "metadata": {},
   "outputs": [],
   "source": [
    "# OR\n",
    "obj = s3.Object('my-bucket-name', 'my-object-key')\n",
    "obj"
   ]
  },
  {
   "cell_type": "markdown",
   "metadata": {},
   "source": [
    "To list every objects in a given bucket with the `resource` object, it's as easy as:"
   ]
  },
  {
   "cell_type": "code",
   "execution_count": null,
   "metadata": {},
   "outputs": [],
   "source": [
    "for obj in bucket.objects.all():\n",
    "    print(obj.name)"
   ]
  },
  {
   "cell_type": "markdown",
   "metadata": {},
   "source": [
    "The complete list of actions and sub-resources available for the `s3` resource object are listed [here](https://boto3.amazonaws.com/v1/documentation/api/latest/reference/services/s3.html#service-resource)."
   ]
  },
  {
   "cell_type": "markdown",
   "metadata": {},
   "source": [
    "## Client\n",
    "\n",
    "The `boto3` clients are another way of interacting with your AWS infrastructure. There are lower-level than the equivalent `resource` object, making them a bit harder to manipulate. However, they give you a 100% control over the target resource, contrary to `resource` which only gives you access to the most useful commands and objects.\n",
    "\n",
    "Because of this, for standard operations, we will always prefer using a `resource` object rather than a `client`. \n",
    "\n",
    "To create an s3 client:"
   ]
  },
  {
   "cell_type": "code",
   "execution_count": null,
   "metadata": {},
   "outputs": [],
   "source": [
    "s3_client = boto3.client('s3')\n",
    "s3_client"
   ]
  },
  {
   "cell_type": "markdown",
   "metadata": {},
   "source": [
    "A client gives you access to dozens of methods. For `s3`, the complete list is located [here](https://boto3.amazonaws.com/v1/documentation/api/latest/reference/services/s3.html#client).\n",
    "\n",
    "For instance, to list all the objects contained in a `the-bucket` bucket:"
   ]
  },
  {
   "cell_type": "code",
   "execution_count": null,
   "metadata": {},
   "outputs": [],
   "source": [
    "response = s3_client.list_objects(Bucket='the-bucjet')\n",
    "for obj in response['Contents']:\n",
    "    print(obj['Name'])"
   ]
  },
  {
   "cell_type": "markdown",
   "metadata": {},
   "source": [
    "\n",
    "## AWS Credentials\n",
    "\n",
    "An AWS account being private, there is a need to provide `boto3` information about the credentials to use. As [explained in the docs](), there are several ways to tell `boto3` which credentials to use. The most common are:\n",
    "\n",
    "1. Create a `Session` object with credentials as parameters\n",
    "2. Setting the environment variables `aws_access_key_id` and `aws_secret_access_key`\n",
    "3. Storing credentials in a file called `~/.aws/credentials`\n",
    "\n",
    "Note that these 3 methods are listed in the priority order: for instance, if the environment variables `aws_access_key_id` and `aws_secret_access_key` are set on your system, then `boto3` **will not** look for an `~/.aws/credentials` file. If you gave your credentials in a session that you use to make your AWS calls, `boto3` **will not** look for the environment variables.\n",
    "\n",
    "\n",
    "\n",
    "### The `Session` object"
   ]
  },
  {
   "cell_type": "code",
   "execution_count": null,
   "metadata": {},
   "outputs": [],
   "source": [
    "session = boto3.Session(\n",
    "    region_name='eu-west-3',\n",
    "    aws_access_key_id='my access key',\n",
    "    aws_secret_access_key='my secret'\n",
    ")"
   ]
  },
  {
   "cell_type": "markdown",
   "metadata": {},
   "source": [
    "When you have a `Session` object available, you can use access the `client` and the `resource` object as you would have done, simply accessing the resource or client directly from the `session` object."
   ]
  },
  {
   "cell_type": "code",
   "execution_count": null,
   "metadata": {},
   "outputs": [],
   "source": [
    "s3_client = session.client('s3')\n",
    "s3 = session.resource('s3')"
   ]
  },
  {
   "cell_type": "markdown",
   "metadata": {},
   "source": [
    "When you have access to these objects, the behaviour is 100% equivalent to the ones you would have had directly from `boto3.client()` or `boto3.resource()`. Hence, the documentation is the same."
   ]
  },
  {
   "cell_type": "markdown",
   "metadata": {},
   "source": [
    "## Documentation\n",
    "\n",
    "The `boto3` library is extremely dense. It is impossible to go anywhere without reading its documentation!\n",
    "\n",
    "The [User Guide](https://boto3.amazonaws.com/v1/documentation/api/latest/guide/index.html) gives a nice introduction to the concepts of _resources_, _clients_, _sessions_, etc... Have a look!"
   ]
  }
 ],
 "metadata": {
  "kernelspec": {
   "display_name": "Python 3",
   "language": "python",
   "name": "python3"
  },
  "language_info": {
   "codemirror_mode": {
    "name": "ipython",
    "version": 3
   },
   "file_extension": ".py",
   "mimetype": "text/x-python",
   "name": "python",
   "nbconvert_exporter": "python",
   "pygments_lexer": "ipython3",
   "version": "3.8.6"
  }
 },
 "nbformat": 4,
 "nbformat_minor": 4
}
