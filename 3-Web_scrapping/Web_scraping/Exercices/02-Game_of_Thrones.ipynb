{
 "cells": [
  {
   "cell_type": "markdown",
   "metadata": {
    "colab_type": "text",
    "id": "fSl95NHa4Mi3"
   },
   "source": [
    "# Game of Thrones\n",
    "\n",
    "Are you GoT's fan? Let's test it. Use the API: <a href=\"https://anapioficeandfire.com/\" target=\"_blank\">https://anapioficeandfire.com/</a> to find out more about the show."
   ]
  },
  {
   "cell_type": "markdown",
   "metadata": {
    "colab_type": "text",
    "id": "eQovpyB74PWH"
   },
   "source": [
    "1. Import the following libraries: \n",
    "\n",
    "      * ```requests```\n",
    "      * ```pandas```\n",
    "      * ```json```"
   ]
  },
  {
   "cell_type": "code",
   "execution_count": 30,
   "metadata": {
    "colab": {},
    "colab_type": "code",
    "id": "ynMhSC9p4GsE"
   },
   "outputs": [],
   "source": [
    "import pandas as pd\n",
    "import requests\n",
    "import json"
   ]
  },
  {
   "cell_type": "markdown",
   "metadata": {
    "colab_type": "text",
    "id": "sqtBTZQH4f8X"
   },
   "source": [
    "2. Go to the URL indicated in the description above. Using `requests`, get data on a character in the series. It doesn't matter who the character is."
   ]
  },
  {
   "cell_type": "code",
   "execution_count": 31,
   "metadata": {
    "colab": {
     "base_uri": "https://localhost:8080/",
     "height": 54
    },
    "colab_type": "code",
    "id": "sQRAIy7x4v37",
    "outputId": "312ab2ec-7587-489a-957e-89ad90864c87"
   },
   "outputs": [
    {
     "data": {
      "text/plain": [
       "'{\"url\":\"https://anapioficeandfire.com/api/characters/583\",\"name\":\"Jon Snow\",\"gender\":\"Male\",\"culture\":\"Northmen\",\"born\":\"In 283 AC\",\"died\":\"\",\"titles\":[\"Lord Commander of the Night\\'s Watch\"],\"aliases\":[\"Lord Snow\",\"Ned Stark\\'s Bastard\",\"The Snow of Winterfell\",\"The Crow-Come-Over\",\"The 998th Lord Commander of the Night\\'s Watch\",\"The Bastard of Winterfell\",\"The Black Bastard of the Wall\",\"Lord Crow\"],\"father\":\"\",\"mother\":\"\",\"spouse\":\"\",\"allegiances\":[\"https://anapioficeandfire.com/api/houses/362\"],\"books\":[\"https://anapioficeandfire.com/api/books/5\"],\"povBooks\":[\"https://anapioficeandfire.com/api/books/1\",\"https://anapioficeandfire.com/api/books/2\",\"https://anapioficeandfire.com/api/books/3\",\"https://anapioficeandfire.com/api/books/8\"],\"tvSeries\":[\"Season 1\",\"Season 2\",\"Season 3\",\"Season 4\",\"Season 5\",\"Season 6\"],\"playedBy\":[\"Kit Harington\"]}'"
      ]
     },
     "metadata": {},
     "output_type": "display_data"
    }
   ],
   "source": [
    "page = requests.get('https://anapioficeandfire.com/api/characters/583')\n",
    "display(page.text)"
   ]
  },
  {
   "cell_type": "markdown",
   "metadata": {
    "colab_type": "text",
    "id": "2S-Rci2j45lQ"
   },
   "source": [
    "3. Extract these data in JSON format:"
   ]
  },
  {
   "cell_type": "code",
   "execution_count": 32,
   "metadata": {
    "colab": {
     "base_uri": "https://localhost:8080/",
     "height": 369
    },
    "colab_type": "code",
    "id": "zCelPE_L490H",
    "outputId": "3be53a86-bd9b-445c-e6ef-cf09def6e8f0"
   },
   "outputs": [
    {
     "data": {
      "text/plain": [
       "{'url': 'https://anapioficeandfire.com/api/characters/583',\n",
       " 'name': 'Jon Snow',\n",
       " 'gender': 'Male',\n",
       " 'culture': 'Northmen',\n",
       " 'born': 'In 283 AC',\n",
       " 'died': '',\n",
       " 'titles': [\"Lord Commander of the Night's Watch\"],\n",
       " 'aliases': ['Lord Snow',\n",
       "  \"Ned Stark's Bastard\",\n",
       "  'The Snow of Winterfell',\n",
       "  'The Crow-Come-Over',\n",
       "  \"The 998th Lord Commander of the Night's Watch\",\n",
       "  'The Bastard of Winterfell',\n",
       "  'The Black Bastard of the Wall',\n",
       "  'Lord Crow'],\n",
       " 'father': '',\n",
       " 'mother': '',\n",
       " 'spouse': '',\n",
       " 'allegiances': ['https://anapioficeandfire.com/api/houses/362'],\n",
       " 'books': ['https://anapioficeandfire.com/api/books/5'],\n",
       " 'povBooks': ['https://anapioficeandfire.com/api/books/1',\n",
       "  'https://anapioficeandfire.com/api/books/2',\n",
       "  'https://anapioficeandfire.com/api/books/3',\n",
       "  'https://anapioficeandfire.com/api/books/8'],\n",
       " 'tvSeries': ['Season 1',\n",
       "  'Season 2',\n",
       "  'Season 3',\n",
       "  'Season 4',\n",
       "  'Season 5',\n",
       "  'Season 6'],\n",
       " 'playedBy': ['Kit Harington']}"
      ]
     },
     "metadata": {},
     "output_type": "display_data"
    }
   ],
   "source": [
    "display(page.json())"
   ]
  },
  {
   "cell_type": "markdown",
   "metadata": {
    "colab_type": "text",
    "id": "PucGBhae4_NN"
   },
   "source": [
    "4. Now extract the JSON keys you have obtained and create a DataFrame that will have the JSON keys you extracted as a column.\n",
    "\n",
    "**Hint**: we can use: `r.json().keys()`."
   ]
  },
  {
   "cell_type": "code",
   "execution_count": 33,
   "metadata": {
    "colab": {
     "base_uri": "https://localhost:8080/",
     "height": 68
    },
    "colab_type": "code",
    "id": "ySmWW20P4GuQ",
    "outputId": "798c98c7-7e5c-40eb-b732-e66210644ed6"
   },
   "outputs": [
    {
     "data": {
      "text/plain": [
       "dict_keys(['url', 'name', 'gender', 'culture', 'born', 'died', 'titles', 'aliases', 'father', 'mother', 'spouse', 'allegiances', 'books', 'povBooks', 'tvSeries', 'playedBy'])"
      ]
     },
     "metadata": {},
     "output_type": "display_data"
    },
    {
     "data": {
      "text/html": [
       "<div>\n",
       "<style scoped>\n",
       "    .dataframe tbody tr th:only-of-type {\n",
       "        vertical-align: middle;\n",
       "    }\n",
       "\n",
       "    .dataframe tbody tr th {\n",
       "        vertical-align: top;\n",
       "    }\n",
       "\n",
       "    .dataframe thead th {\n",
       "        text-align: right;\n",
       "    }\n",
       "</style>\n",
       "<table border=\"1\" class=\"dataframe\">\n",
       "  <thead>\n",
       "    <tr style=\"text-align: right;\">\n",
       "      <th></th>\n",
       "      <th>url</th>\n",
       "      <th>name</th>\n",
       "      <th>gender</th>\n",
       "      <th>culture</th>\n",
       "      <th>born</th>\n",
       "      <th>died</th>\n",
       "      <th>titles</th>\n",
       "      <th>aliases</th>\n",
       "      <th>father</th>\n",
       "      <th>mother</th>\n",
       "      <th>spouse</th>\n",
       "      <th>allegiances</th>\n",
       "      <th>books</th>\n",
       "      <th>povBooks</th>\n",
       "      <th>tvSeries</th>\n",
       "      <th>playedBy</th>\n",
       "    </tr>\n",
       "  </thead>\n",
       "  <tbody>\n",
       "  </tbody>\n",
       "</table>\n",
       "</div>"
      ],
      "text/plain": [
       "Empty DataFrame\n",
       "Columns: [url, name, gender, culture, born, died, titles, aliases, father, mother, spouse, allegiances, books, povBooks, tvSeries, playedBy]\n",
       "Index: []"
      ]
     },
     "metadata": {},
     "output_type": "display_data"
    }
   ],
   "source": [
    "columns = page.json().keys()\n",
    "display(columns)\n",
    "datas = pd.DataFrame(columns = columns)\n",
    "display(datas)"
   ]
  },
  {
   "cell_type": "markdown",
   "metadata": {
    "colab_type": "text",
    "id": "vPJWhqcB7bbs"
   },
   "source": [
    "5. Create a loop to extract data from the firsts 150 characters of the series and add them to your DataFrame."
   ]
  },
  {
   "cell_type": "code",
   "execution_count": 34,
   "metadata": {
    "colab": {},
    "colab_type": "code",
    "id": "U4cafYYW4Guk",
    "tags": []
   },
   "outputs": [
    {
     "data": {
      "text/plain": [
       "'1, personnage done'"
      ]
     },
     "metadata": {},
     "output_type": "display_data"
    },
    {
     "data": {
      "text/plain": [
       "'2, personnage done'"
      ]
     },
     "metadata": {},
     "output_type": "display_data"
    },
    {
     "data": {
      "text/plain": [
       "'3, personnage done'"
      ]
     },
     "metadata": {},
     "output_type": "display_data"
    },
    {
     "data": {
      "text/plain": [
       "'4, personnage done'"
      ]
     },
     "metadata": {},
     "output_type": "display_data"
    },
    {
     "data": {
      "text/plain": [
       "'5, personnage done'"
      ]
     },
     "metadata": {},
     "output_type": "display_data"
    },
    {
     "data": {
      "text/plain": [
       "'6, personnage done'"
      ]
     },
     "metadata": {},
     "output_type": "display_data"
    },
    {
     "data": {
      "text/plain": [
       "'7, personnage done'"
      ]
     },
     "metadata": {},
     "output_type": "display_data"
    },
    {
     "data": {
      "text/plain": [
       "'8, personnage done'"
      ]
     },
     "metadata": {},
     "output_type": "display_data"
    },
    {
     "data": {
      "text/plain": [
       "'9, personnage done'"
      ]
     },
     "metadata": {},
     "output_type": "display_data"
    },
    {
     "data": {
      "text/plain": [
       "'10, personnage done'"
      ]
     },
     "metadata": {},
     "output_type": "display_data"
    },
    {
     "data": {
      "text/plain": [
       "'11, personnage done'"
      ]
     },
     "metadata": {},
     "output_type": "display_data"
    },
    {
     "data": {
      "text/plain": [
       "'12, personnage done'"
      ]
     },
     "metadata": {},
     "output_type": "display_data"
    },
    {
     "data": {
      "text/plain": [
       "'13, personnage done'"
      ]
     },
     "metadata": {},
     "output_type": "display_data"
    },
    {
     "data": {
      "text/plain": [
       "'14, personnage done'"
      ]
     },
     "metadata": {},
     "output_type": "display_data"
    },
    {
     "data": {
      "text/plain": [
       "'15, personnage done'"
      ]
     },
     "metadata": {},
     "output_type": "display_data"
    },
    {
     "data": {
      "text/plain": [
       "'16, personnage done'"
      ]
     },
     "metadata": {},
     "output_type": "display_data"
    },
    {
     "data": {
      "text/plain": [
       "'17, personnage done'"
      ]
     },
     "metadata": {},
     "output_type": "display_data"
    },
    {
     "data": {
      "text/plain": [
       "'18, personnage done'"
      ]
     },
     "metadata": {},
     "output_type": "display_data"
    },
    {
     "data": {
      "text/plain": [
       "'19, personnage done'"
      ]
     },
     "metadata": {},
     "output_type": "display_data"
    },
    {
     "data": {
      "text/plain": [
       "'20, personnage done'"
      ]
     },
     "metadata": {},
     "output_type": "display_data"
    },
    {
     "data": {
      "text/plain": [
       "'21, personnage done'"
      ]
     },
     "metadata": {},
     "output_type": "display_data"
    },
    {
     "data": {
      "text/plain": [
       "'22, personnage done'"
      ]
     },
     "metadata": {},
     "output_type": "display_data"
    },
    {
     "data": {
      "text/plain": [
       "'23, personnage done'"
      ]
     },
     "metadata": {},
     "output_type": "display_data"
    },
    {
     "data": {
      "text/plain": [
       "'24, personnage done'"
      ]
     },
     "metadata": {},
     "output_type": "display_data"
    },
    {
     "data": {
      "text/plain": [
       "'25, personnage done'"
      ]
     },
     "metadata": {},
     "output_type": "display_data"
    },
    {
     "data": {
      "text/plain": [
       "'26, personnage done'"
      ]
     },
     "metadata": {},
     "output_type": "display_data"
    },
    {
     "data": {
      "text/plain": [
       "'27, personnage done'"
      ]
     },
     "metadata": {},
     "output_type": "display_data"
    },
    {
     "data": {
      "text/plain": [
       "'28, personnage done'"
      ]
     },
     "metadata": {},
     "output_type": "display_data"
    },
    {
     "data": {
      "text/plain": [
       "'29, personnage done'"
      ]
     },
     "metadata": {},
     "output_type": "display_data"
    },
    {
     "data": {
      "text/plain": [
       "'30, personnage done'"
      ]
     },
     "metadata": {},
     "output_type": "display_data"
    },
    {
     "data": {
      "text/plain": [
       "'31, personnage done'"
      ]
     },
     "metadata": {},
     "output_type": "display_data"
    },
    {
     "data": {
      "text/plain": [
       "'32, personnage done'"
      ]
     },
     "metadata": {},
     "output_type": "display_data"
    },
    {
     "data": {
      "text/plain": [
       "'33, personnage done'"
      ]
     },
     "metadata": {},
     "output_type": "display_data"
    },
    {
     "data": {
      "text/plain": [
       "'34, personnage done'"
      ]
     },
     "metadata": {},
     "output_type": "display_data"
    },
    {
     "data": {
      "text/plain": [
       "'35, personnage done'"
      ]
     },
     "metadata": {},
     "output_type": "display_data"
    },
    {
     "data": {
      "text/plain": [
       "'36, personnage done'"
      ]
     },
     "metadata": {},
     "output_type": "display_data"
    },
    {
     "data": {
      "text/plain": [
       "'37, personnage done'"
      ]
     },
     "metadata": {},
     "output_type": "display_data"
    },
    {
     "data": {
      "text/plain": [
       "'38, personnage done'"
      ]
     },
     "metadata": {},
     "output_type": "display_data"
    },
    {
     "data": {
      "text/plain": [
       "'39, personnage done'"
      ]
     },
     "metadata": {},
     "output_type": "display_data"
    },
    {
     "data": {
      "text/plain": [
       "'40, personnage done'"
      ]
     },
     "metadata": {},
     "output_type": "display_data"
    },
    {
     "data": {
      "text/plain": [
       "'41, personnage done'"
      ]
     },
     "metadata": {},
     "output_type": "display_data"
    },
    {
     "data": {
      "text/plain": [
       "'42, personnage done'"
      ]
     },
     "metadata": {},
     "output_type": "display_data"
    },
    {
     "data": {
      "text/plain": [
       "'43, personnage done'"
      ]
     },
     "metadata": {},
     "output_type": "display_data"
    },
    {
     "data": {
      "text/plain": [
       "'44, personnage done'"
      ]
     },
     "metadata": {},
     "output_type": "display_data"
    },
    {
     "data": {
      "text/plain": [
       "'45, personnage done'"
      ]
     },
     "metadata": {},
     "output_type": "display_data"
    },
    {
     "data": {
      "text/plain": [
       "'46, personnage done'"
      ]
     },
     "metadata": {},
     "output_type": "display_data"
    },
    {
     "data": {
      "text/plain": [
       "'47, personnage done'"
      ]
     },
     "metadata": {},
     "output_type": "display_data"
    },
    {
     "data": {
      "text/plain": [
       "'48, personnage done'"
      ]
     },
     "metadata": {},
     "output_type": "display_data"
    },
    {
     "data": {
      "text/plain": [
       "'49, personnage done'"
      ]
     },
     "metadata": {},
     "output_type": "display_data"
    },
    {
     "data": {
      "text/plain": [
       "'50, personnage done'"
      ]
     },
     "metadata": {},
     "output_type": "display_data"
    },
    {
     "data": {
      "text/plain": [
       "'51, personnage done'"
      ]
     },
     "metadata": {},
     "output_type": "display_data"
    },
    {
     "data": {
      "text/plain": [
       "'52, personnage done'"
      ]
     },
     "metadata": {},
     "output_type": "display_data"
    },
    {
     "data": {
      "text/plain": [
       "'53, personnage done'"
      ]
     },
     "metadata": {},
     "output_type": "display_data"
    },
    {
     "data": {
      "text/plain": [
       "'54, personnage done'"
      ]
     },
     "metadata": {},
     "output_type": "display_data"
    },
    {
     "data": {
      "text/plain": [
       "'55, personnage done'"
      ]
     },
     "metadata": {},
     "output_type": "display_data"
    },
    {
     "data": {
      "text/plain": [
       "'56, personnage done'"
      ]
     },
     "metadata": {},
     "output_type": "display_data"
    },
    {
     "data": {
      "text/plain": [
       "'57, personnage done'"
      ]
     },
     "metadata": {},
     "output_type": "display_data"
    },
    {
     "data": {
      "text/plain": [
       "'58, personnage done'"
      ]
     },
     "metadata": {},
     "output_type": "display_data"
    },
    {
     "data": {
      "text/plain": [
       "'59, personnage done'"
      ]
     },
     "metadata": {},
     "output_type": "display_data"
    },
    {
     "data": {
      "text/plain": [
       "'60, personnage done'"
      ]
     },
     "metadata": {},
     "output_type": "display_data"
    },
    {
     "data": {
      "text/plain": [
       "'61, personnage done'"
      ]
     },
     "metadata": {},
     "output_type": "display_data"
    },
    {
     "data": {
      "text/plain": [
       "'62, personnage done'"
      ]
     },
     "metadata": {},
     "output_type": "display_data"
    },
    {
     "data": {
      "text/plain": [
       "'63, personnage done'"
      ]
     },
     "metadata": {},
     "output_type": "display_data"
    },
    {
     "data": {
      "text/plain": [
       "'64, personnage done'"
      ]
     },
     "metadata": {},
     "output_type": "display_data"
    },
    {
     "data": {
      "text/plain": [
       "'65, personnage done'"
      ]
     },
     "metadata": {},
     "output_type": "display_data"
    },
    {
     "data": {
      "text/plain": [
       "'66, personnage done'"
      ]
     },
     "metadata": {},
     "output_type": "display_data"
    },
    {
     "data": {
      "text/plain": [
       "'67, personnage done'"
      ]
     },
     "metadata": {},
     "output_type": "display_data"
    },
    {
     "data": {
      "text/plain": [
       "'68, personnage done'"
      ]
     },
     "metadata": {},
     "output_type": "display_data"
    },
    {
     "data": {
      "text/plain": [
       "'69, personnage done'"
      ]
     },
     "metadata": {},
     "output_type": "display_data"
    },
    {
     "data": {
      "text/plain": [
       "'70, personnage done'"
      ]
     },
     "metadata": {},
     "output_type": "display_data"
    },
    {
     "data": {
      "text/plain": [
       "'71, personnage done'"
      ]
     },
     "metadata": {},
     "output_type": "display_data"
    },
    {
     "data": {
      "text/plain": [
       "'72, personnage done'"
      ]
     },
     "metadata": {},
     "output_type": "display_data"
    },
    {
     "data": {
      "text/plain": [
       "'73, personnage done'"
      ]
     },
     "metadata": {},
     "output_type": "display_data"
    },
    {
     "data": {
      "text/plain": [
       "'74, personnage done'"
      ]
     },
     "metadata": {},
     "output_type": "display_data"
    },
    {
     "data": {
      "text/plain": [
       "'75, personnage done'"
      ]
     },
     "metadata": {},
     "output_type": "display_data"
    },
    {
     "data": {
      "text/plain": [
       "'76, personnage done'"
      ]
     },
     "metadata": {},
     "output_type": "display_data"
    },
    {
     "data": {
      "text/plain": [
       "'77, personnage done'"
      ]
     },
     "metadata": {},
     "output_type": "display_data"
    },
    {
     "data": {
      "text/plain": [
       "'78, personnage done'"
      ]
     },
     "metadata": {},
     "output_type": "display_data"
    },
    {
     "data": {
      "text/plain": [
       "'79, personnage done'"
      ]
     },
     "metadata": {},
     "output_type": "display_data"
    },
    {
     "data": {
      "text/plain": [
       "'80, personnage done'"
      ]
     },
     "metadata": {},
     "output_type": "display_data"
    },
    {
     "data": {
      "text/plain": [
       "'81, personnage done'"
      ]
     },
     "metadata": {},
     "output_type": "display_data"
    },
    {
     "data": {
      "text/plain": [
       "'82, personnage done'"
      ]
     },
     "metadata": {},
     "output_type": "display_data"
    },
    {
     "data": {
      "text/plain": [
       "'83, personnage done'"
      ]
     },
     "metadata": {},
     "output_type": "display_data"
    },
    {
     "data": {
      "text/plain": [
       "'84, personnage done'"
      ]
     },
     "metadata": {},
     "output_type": "display_data"
    },
    {
     "data": {
      "text/plain": [
       "'85, personnage done'"
      ]
     },
     "metadata": {},
     "output_type": "display_data"
    },
    {
     "data": {
      "text/plain": [
       "'86, personnage done'"
      ]
     },
     "metadata": {},
     "output_type": "display_data"
    },
    {
     "data": {
      "text/plain": [
       "'87, personnage done'"
      ]
     },
     "metadata": {},
     "output_type": "display_data"
    },
    {
     "data": {
      "text/plain": [
       "'88, personnage done'"
      ]
     },
     "metadata": {},
     "output_type": "display_data"
    },
    {
     "data": {
      "text/plain": [
       "'89, personnage done'"
      ]
     },
     "metadata": {},
     "output_type": "display_data"
    },
    {
     "data": {
      "text/plain": [
       "'90, personnage done'"
      ]
     },
     "metadata": {},
     "output_type": "display_data"
    },
    {
     "data": {
      "text/plain": [
       "'91, personnage done'"
      ]
     },
     "metadata": {},
     "output_type": "display_data"
    },
    {
     "data": {
      "text/plain": [
       "'92, personnage done'"
      ]
     },
     "metadata": {},
     "output_type": "display_data"
    },
    {
     "data": {
      "text/plain": [
       "'93, personnage done'"
      ]
     },
     "metadata": {},
     "output_type": "display_data"
    },
    {
     "data": {
      "text/plain": [
       "'94, personnage done'"
      ]
     },
     "metadata": {},
     "output_type": "display_data"
    },
    {
     "data": {
      "text/plain": [
       "'95, personnage done'"
      ]
     },
     "metadata": {},
     "output_type": "display_data"
    },
    {
     "data": {
      "text/plain": [
       "'96, personnage done'"
      ]
     },
     "metadata": {},
     "output_type": "display_data"
    },
    {
     "data": {
      "text/plain": [
       "'97, personnage done'"
      ]
     },
     "metadata": {},
     "output_type": "display_data"
    },
    {
     "data": {
      "text/plain": [
       "'98, personnage done'"
      ]
     },
     "metadata": {},
     "output_type": "display_data"
    },
    {
     "data": {
      "text/plain": [
       "'99, personnage done'"
      ]
     },
     "metadata": {},
     "output_type": "display_data"
    },
    {
     "data": {
      "text/plain": [
       "'100, personnage done'"
      ]
     },
     "metadata": {},
     "output_type": "display_data"
    },
    {
     "data": {
      "text/plain": [
       "'101, personnage done'"
      ]
     },
     "metadata": {},
     "output_type": "display_data"
    },
    {
     "data": {
      "text/plain": [
       "'102, personnage done'"
      ]
     },
     "metadata": {},
     "output_type": "display_data"
    },
    {
     "data": {
      "text/plain": [
       "'103, personnage done'"
      ]
     },
     "metadata": {},
     "output_type": "display_data"
    },
    {
     "data": {
      "text/plain": [
       "'104, personnage done'"
      ]
     },
     "metadata": {},
     "output_type": "display_data"
    },
    {
     "data": {
      "text/plain": [
       "'105, personnage done'"
      ]
     },
     "metadata": {},
     "output_type": "display_data"
    },
    {
     "data": {
      "text/plain": [
       "'106, personnage done'"
      ]
     },
     "metadata": {},
     "output_type": "display_data"
    },
    {
     "data": {
      "text/plain": [
       "'107, personnage done'"
      ]
     },
     "metadata": {},
     "output_type": "display_data"
    },
    {
     "data": {
      "text/plain": [
       "'108, personnage done'"
      ]
     },
     "metadata": {},
     "output_type": "display_data"
    },
    {
     "data": {
      "text/plain": [
       "'109, personnage done'"
      ]
     },
     "metadata": {},
     "output_type": "display_data"
    },
    {
     "data": {
      "text/plain": [
       "'110, personnage done'"
      ]
     },
     "metadata": {},
     "output_type": "display_data"
    },
    {
     "data": {
      "text/plain": [
       "'111, personnage done'"
      ]
     },
     "metadata": {},
     "output_type": "display_data"
    },
    {
     "data": {
      "text/plain": [
       "'112, personnage done'"
      ]
     },
     "metadata": {},
     "output_type": "display_data"
    },
    {
     "data": {
      "text/plain": [
       "'113, personnage done'"
      ]
     },
     "metadata": {},
     "output_type": "display_data"
    },
    {
     "data": {
      "text/plain": [
       "'114, personnage done'"
      ]
     },
     "metadata": {},
     "output_type": "display_data"
    },
    {
     "data": {
      "text/plain": [
       "'115, personnage done'"
      ]
     },
     "metadata": {},
     "output_type": "display_data"
    },
    {
     "data": {
      "text/plain": [
       "'116, personnage done'"
      ]
     },
     "metadata": {},
     "output_type": "display_data"
    },
    {
     "data": {
      "text/plain": [
       "'117, personnage done'"
      ]
     },
     "metadata": {},
     "output_type": "display_data"
    },
    {
     "data": {
      "text/plain": [
       "'118, personnage done'"
      ]
     },
     "metadata": {},
     "output_type": "display_data"
    },
    {
     "data": {
      "text/plain": [
       "'119, personnage done'"
      ]
     },
     "metadata": {},
     "output_type": "display_data"
    },
    {
     "data": {
      "text/plain": [
       "'120, personnage done'"
      ]
     },
     "metadata": {},
     "output_type": "display_data"
    },
    {
     "data": {
      "text/plain": [
       "'121, personnage done'"
      ]
     },
     "metadata": {},
     "output_type": "display_data"
    },
    {
     "data": {
      "text/plain": [
       "'122, personnage done'"
      ]
     },
     "metadata": {},
     "output_type": "display_data"
    },
    {
     "data": {
      "text/plain": [
       "'123, personnage done'"
      ]
     },
     "metadata": {},
     "output_type": "display_data"
    },
    {
     "data": {
      "text/plain": [
       "'124, personnage done'"
      ]
     },
     "metadata": {},
     "output_type": "display_data"
    },
    {
     "data": {
      "text/plain": [
       "'125, personnage done'"
      ]
     },
     "metadata": {},
     "output_type": "display_data"
    },
    {
     "data": {
      "text/plain": [
       "'126, personnage done'"
      ]
     },
     "metadata": {},
     "output_type": "display_data"
    },
    {
     "data": {
      "text/plain": [
       "'127, personnage done'"
      ]
     },
     "metadata": {},
     "output_type": "display_data"
    },
    {
     "data": {
      "text/plain": [
       "'128, personnage done'"
      ]
     },
     "metadata": {},
     "output_type": "display_data"
    },
    {
     "data": {
      "text/plain": [
       "'129, personnage done'"
      ]
     },
     "metadata": {},
     "output_type": "display_data"
    },
    {
     "data": {
      "text/plain": [
       "'130, personnage done'"
      ]
     },
     "metadata": {},
     "output_type": "display_data"
    },
    {
     "data": {
      "text/plain": [
       "'131, personnage done'"
      ]
     },
     "metadata": {},
     "output_type": "display_data"
    },
    {
     "data": {
      "text/plain": [
       "'132, personnage done'"
      ]
     },
     "metadata": {},
     "output_type": "display_data"
    },
    {
     "data": {
      "text/plain": [
       "'133, personnage done'"
      ]
     },
     "metadata": {},
     "output_type": "display_data"
    },
    {
     "data": {
      "text/plain": [
       "'134, personnage done'"
      ]
     },
     "metadata": {},
     "output_type": "display_data"
    },
    {
     "data": {
      "text/plain": [
       "'135, personnage done'"
      ]
     },
     "metadata": {},
     "output_type": "display_data"
    },
    {
     "data": {
      "text/plain": [
       "'136, personnage done'"
      ]
     },
     "metadata": {},
     "output_type": "display_data"
    },
    {
     "data": {
      "text/plain": [
       "'137, personnage done'"
      ]
     },
     "metadata": {},
     "output_type": "display_data"
    },
    {
     "data": {
      "text/plain": [
       "'138, personnage done'"
      ]
     },
     "metadata": {},
     "output_type": "display_data"
    },
    {
     "data": {
      "text/plain": [
       "'139, personnage done'"
      ]
     },
     "metadata": {},
     "output_type": "display_data"
    },
    {
     "data": {
      "text/plain": [
       "'140, personnage done'"
      ]
     },
     "metadata": {},
     "output_type": "display_data"
    },
    {
     "data": {
      "text/plain": [
       "'141, personnage done'"
      ]
     },
     "metadata": {},
     "output_type": "display_data"
    },
    {
     "data": {
      "text/plain": [
       "'142, personnage done'"
      ]
     },
     "metadata": {},
     "output_type": "display_data"
    },
    {
     "data": {
      "text/plain": [
       "'143, personnage done'"
      ]
     },
     "metadata": {},
     "output_type": "display_data"
    },
    {
     "data": {
      "text/plain": [
       "'144, personnage done'"
      ]
     },
     "metadata": {},
     "output_type": "display_data"
    },
    {
     "data": {
      "text/plain": [
       "'145, personnage done'"
      ]
     },
     "metadata": {},
     "output_type": "display_data"
    },
    {
     "data": {
      "text/plain": [
       "'146, personnage done'"
      ]
     },
     "metadata": {},
     "output_type": "display_data"
    },
    {
     "data": {
      "text/plain": [
       "'147, personnage done'"
      ]
     },
     "metadata": {},
     "output_type": "display_data"
    },
    {
     "data": {
      "text/plain": [
       "'148, personnage done'"
      ]
     },
     "metadata": {},
     "output_type": "display_data"
    },
    {
     "data": {
      "text/plain": [
       "'149, personnage done'"
      ]
     },
     "metadata": {},
     "output_type": "display_data"
    },
    {
     "data": {
      "text/plain": [
       "'150, personnage done'"
      ]
     },
     "metadata": {},
     "output_type": "display_data"
    }
   ],
   "source": [
    "for i in range(0, 150):\n",
    "    page = requests.get('https://anapioficeandfire.com/api/characters/' + str(i + 1))\n",
    "    datas.loc[i] = page.json().values()\n",
    "    display(\"%d, personnage done\" %(i + 1))"
   ]
  },
  {
   "cell_type": "code",
   "execution_count": 35,
   "metadata": {
    "colab": {
     "base_uri": "https://localhost:8080/",
     "height": 915
    },
    "colab_type": "code",
    "id": "e1FwbCcqn08r",
    "outputId": "a9e5eb52-2b5f-48b4-ccbd-763e08d33b43"
   },
   "outputs": [
    {
     "data": {
      "text/html": [
       "<div>\n",
       "<style scoped>\n",
       "    .dataframe tbody tr th:only-of-type {\n",
       "        vertical-align: middle;\n",
       "    }\n",
       "\n",
       "    .dataframe tbody tr th {\n",
       "        vertical-align: top;\n",
       "    }\n",
       "\n",
       "    .dataframe thead th {\n",
       "        text-align: right;\n",
       "    }\n",
       "</style>\n",
       "<table border=\"1\" class=\"dataframe\">\n",
       "  <thead>\n",
       "    <tr style=\"text-align: right;\">\n",
       "      <th></th>\n",
       "      <th>url</th>\n",
       "      <th>name</th>\n",
       "      <th>gender</th>\n",
       "      <th>culture</th>\n",
       "      <th>born</th>\n",
       "      <th>died</th>\n",
       "      <th>titles</th>\n",
       "      <th>aliases</th>\n",
       "      <th>father</th>\n",
       "      <th>mother</th>\n",
       "      <th>spouse</th>\n",
       "      <th>allegiances</th>\n",
       "      <th>books</th>\n",
       "      <th>povBooks</th>\n",
       "      <th>tvSeries</th>\n",
       "      <th>playedBy</th>\n",
       "    </tr>\n",
       "  </thead>\n",
       "  <tbody>\n",
       "    <tr>\n",
       "      <th>0</th>\n",
       "      <td>https://www.anapioficeandfire.com/api/characte...</td>\n",
       "      <td></td>\n",
       "      <td>Female</td>\n",
       "      <td>Braavosi</td>\n",
       "      <td></td>\n",
       "      <td></td>\n",
       "      <td>[]</td>\n",
       "      <td>[The Daughter of the Dusk]</td>\n",
       "      <td></td>\n",
       "      <td></td>\n",
       "      <td></td>\n",
       "      <td>[]</td>\n",
       "      <td>[https://www.anapioficeandfire.com/api/books/5]</td>\n",
       "      <td>[]</td>\n",
       "      <td>[]</td>\n",
       "      <td>[]</td>\n",
       "    </tr>\n",
       "    <tr>\n",
       "      <th>1</th>\n",
       "      <td>https://www.anapioficeandfire.com/api/characte...</td>\n",
       "      <td>Walder</td>\n",
       "      <td>Male</td>\n",
       "      <td></td>\n",
       "      <td></td>\n",
       "      <td></td>\n",
       "      <td>[]</td>\n",
       "      <td>[Hodor]</td>\n",
       "      <td></td>\n",
       "      <td></td>\n",
       "      <td></td>\n",
       "      <td>[https://www.anapioficeandfire.com/api/houses/...</td>\n",
       "      <td>[https://www.anapioficeandfire.com/api/books/1...</td>\n",
       "      <td>[]</td>\n",
       "      <td>[Season 1, Season 2, Season 3, Season 4, Seaso...</td>\n",
       "      <td>[Kristian Nairn]</td>\n",
       "    </tr>\n",
       "    <tr>\n",
       "      <th>2</th>\n",
       "      <td>https://www.anapioficeandfire.com/api/characte...</td>\n",
       "      <td></td>\n",
       "      <td>Male</td>\n",
       "      <td></td>\n",
       "      <td></td>\n",
       "      <td></td>\n",
       "      <td>[]</td>\n",
       "      <td>[Lamprey]</td>\n",
       "      <td></td>\n",
       "      <td></td>\n",
       "      <td></td>\n",
       "      <td>[https://www.anapioficeandfire.com/api/houses/15]</td>\n",
       "      <td>[https://www.anapioficeandfire.com/api/books/3]</td>\n",
       "      <td>[]</td>\n",
       "      <td>[]</td>\n",
       "      <td>[]</td>\n",
       "    </tr>\n",
       "    <tr>\n",
       "      <th>3</th>\n",
       "      <td>https://www.anapioficeandfire.com/api/characte...</td>\n",
       "      <td></td>\n",
       "      <td>Female</td>\n",
       "      <td>Braavosi</td>\n",
       "      <td></td>\n",
       "      <td></td>\n",
       "      <td>[]</td>\n",
       "      <td>[The Merling Queen]</td>\n",
       "      <td></td>\n",
       "      <td></td>\n",
       "      <td></td>\n",
       "      <td>[]</td>\n",
       "      <td>[https://www.anapioficeandfire.com/api/books/5...</td>\n",
       "      <td>[]</td>\n",
       "      <td>[]</td>\n",
       "      <td>[]</td>\n",
       "    </tr>\n",
       "    <tr>\n",
       "      <th>4</th>\n",
       "      <td>https://www.anapioficeandfire.com/api/characte...</td>\n",
       "      <td></td>\n",
       "      <td>Male</td>\n",
       "      <td></td>\n",
       "      <td></td>\n",
       "      <td></td>\n",
       "      <td>[]</td>\n",
       "      <td>[Old Crackbones]</td>\n",
       "      <td></td>\n",
       "      <td></td>\n",
       "      <td></td>\n",
       "      <td>[]</td>\n",
       "      <td>[https://www.anapioficeandfire.com/api/books/5]</td>\n",
       "      <td>[]</td>\n",
       "      <td>[]</td>\n",
       "      <td>[]</td>\n",
       "    </tr>\n",
       "    <tr>\n",
       "      <th>...</th>\n",
       "      <td>...</td>\n",
       "      <td>...</td>\n",
       "      <td>...</td>\n",
       "      <td>...</td>\n",
       "      <td>...</td>\n",
       "      <td>...</td>\n",
       "      <td>...</td>\n",
       "      <td>...</td>\n",
       "      <td>...</td>\n",
       "      <td>...</td>\n",
       "      <td>...</td>\n",
       "      <td>...</td>\n",
       "      <td>...</td>\n",
       "      <td>...</td>\n",
       "      <td>...</td>\n",
       "      <td>...</td>\n",
       "    </tr>\n",
       "    <tr>\n",
       "      <th>145</th>\n",
       "      <td>https://www.anapioficeandfire.com/api/characte...</td>\n",
       "      <td>Arwyn Frey</td>\n",
       "      <td>Female</td>\n",
       "      <td></td>\n",
       "      <td>In 285 AC</td>\n",
       "      <td></td>\n",
       "      <td>[]</td>\n",
       "      <td>[]</td>\n",
       "      <td></td>\n",
       "      <td></td>\n",
       "      <td></td>\n",
       "      <td>[https://www.anapioficeandfire.com/api/houses/...</td>\n",
       "      <td>[https://www.anapioficeandfire.com/api/books/2...</td>\n",
       "      <td>[]</td>\n",
       "      <td>[]</td>\n",
       "      <td>[]</td>\n",
       "    </tr>\n",
       "    <tr>\n",
       "      <th>146</th>\n",
       "      <td>https://www.anapioficeandfire.com/api/characte...</td>\n",
       "      <td>Arwyn Oakheart</td>\n",
       "      <td>Female</td>\n",
       "      <td></td>\n",
       "      <td></td>\n",
       "      <td></td>\n",
       "      <td>[Lady of Old Oak]</td>\n",
       "      <td>[]</td>\n",
       "      <td></td>\n",
       "      <td></td>\n",
       "      <td></td>\n",
       "      <td>[https://www.anapioficeandfire.com/api/houses/...</td>\n",
       "      <td>[https://www.anapioficeandfire.com/api/books/1...</td>\n",
       "      <td>[]</td>\n",
       "      <td>[]</td>\n",
       "      <td>[]</td>\n",
       "    </tr>\n",
       "    <tr>\n",
       "      <th>147</th>\n",
       "      <td>https://www.anapioficeandfire.com/api/characte...</td>\n",
       "      <td>Arya Stark</td>\n",
       "      <td>Female</td>\n",
       "      <td>Northmen</td>\n",
       "      <td>In 289 AC, at Winterfell</td>\n",
       "      <td></td>\n",
       "      <td>[Princess]</td>\n",
       "      <td>[Arya Horseface, Arya Underfoot, Arry, Lumpyfa...</td>\n",
       "      <td></td>\n",
       "      <td></td>\n",
       "      <td></td>\n",
       "      <td>[https://www.anapioficeandfire.com/api/houses/...</td>\n",
       "      <td>[]</td>\n",
       "      <td>[https://www.anapioficeandfire.com/api/books/1...</td>\n",
       "      <td>[Season 1, Season 2, Season 3, Season 4, Seaso...</td>\n",
       "      <td>[Maisie Williams]</td>\n",
       "    </tr>\n",
       "    <tr>\n",
       "      <th>148</th>\n",
       "      <td>https://www.anapioficeandfire.com/api/characte...</td>\n",
       "      <td>Arys Oakheart</td>\n",
       "      <td>Male</td>\n",
       "      <td>Reach</td>\n",
       "      <td>At Old Oak</td>\n",
       "      <td>In 300 AC, at the Greenblood</td>\n",
       "      <td>[Ser]</td>\n",
       "      <td>[]</td>\n",
       "      <td></td>\n",
       "      <td></td>\n",
       "      <td></td>\n",
       "      <td>[https://www.anapioficeandfire.com/api/houses/...</td>\n",
       "      <td>[https://www.anapioficeandfire.com/api/books/1...</td>\n",
       "      <td>[https://www.anapioficeandfire.com/api/books/5]</td>\n",
       "      <td>[]</td>\n",
       "      <td>[]</td>\n",
       "    </tr>\n",
       "    <tr>\n",
       "      <th>149</th>\n",
       "      <td>https://www.anapioficeandfire.com/api/characte...</td>\n",
       "      <td>Asha Greyjoy</td>\n",
       "      <td>Female</td>\n",
       "      <td>Ironborn</td>\n",
       "      <td>In 275 AC or 276 AC, at Pyke</td>\n",
       "      <td></td>\n",
       "      <td>[Princess, Captain of the Black Wind, Conquero...</td>\n",
       "      <td>[Esgred, The Kraken's Daughter]</td>\n",
       "      <td></td>\n",
       "      <td></td>\n",
       "      <td>https://www.anapioficeandfire.com/api/characte...</td>\n",
       "      <td>[https://www.anapioficeandfire.com/api/houses/...</td>\n",
       "      <td>[https://www.anapioficeandfire.com/api/books/1...</td>\n",
       "      <td>[https://www.anapioficeandfire.com/api/books/5...</td>\n",
       "      <td>[Season 2, Season 3, Season 4]</td>\n",
       "      <td>[Gemma Whelan]</td>\n",
       "    </tr>\n",
       "  </tbody>\n",
       "</table>\n",
       "<p>150 rows × 16 columns</p>\n",
       "</div>"
      ],
      "text/plain": [
       "                                                   url            name  \\\n",
       "0    https://www.anapioficeandfire.com/api/characte...                   \n",
       "1    https://www.anapioficeandfire.com/api/characte...          Walder   \n",
       "2    https://www.anapioficeandfire.com/api/characte...                   \n",
       "3    https://www.anapioficeandfire.com/api/characte...                   \n",
       "4    https://www.anapioficeandfire.com/api/characte...                   \n",
       "..                                                 ...             ...   \n",
       "145  https://www.anapioficeandfire.com/api/characte...      Arwyn Frey   \n",
       "146  https://www.anapioficeandfire.com/api/characte...  Arwyn Oakheart   \n",
       "147  https://www.anapioficeandfire.com/api/characte...      Arya Stark   \n",
       "148  https://www.anapioficeandfire.com/api/characte...   Arys Oakheart   \n",
       "149  https://www.anapioficeandfire.com/api/characte...    Asha Greyjoy   \n",
       "\n",
       "     gender   culture                          born  \\\n",
       "0    Female  Braavosi                                 \n",
       "1      Male                                           \n",
       "2      Male                                           \n",
       "3    Female  Braavosi                                 \n",
       "4      Male                                           \n",
       "..      ...       ...                           ...   \n",
       "145  Female                               In 285 AC   \n",
       "146  Female                                           \n",
       "147  Female  Northmen      In 289 AC, at Winterfell   \n",
       "148    Male     Reach                    At Old Oak   \n",
       "149  Female  Ironborn  In 275 AC or 276 AC, at Pyke   \n",
       "\n",
       "                             died  \\\n",
       "0                                   \n",
       "1                                   \n",
       "2                                   \n",
       "3                                   \n",
       "4                                   \n",
       "..                            ...   \n",
       "145                                 \n",
       "146                                 \n",
       "147                                 \n",
       "148  In 300 AC, at the Greenblood   \n",
       "149                                 \n",
       "\n",
       "                                                titles  \\\n",
       "0                                                   []   \n",
       "1                                                   []   \n",
       "2                                                   []   \n",
       "3                                                   []   \n",
       "4                                                   []   \n",
       "..                                                 ...   \n",
       "145                                                 []   \n",
       "146                                  [Lady of Old Oak]   \n",
       "147                                         [Princess]   \n",
       "148                                              [Ser]   \n",
       "149  [Princess, Captain of the Black Wind, Conquero...   \n",
       "\n",
       "                                               aliases father mother  \\\n",
       "0                           [The Daughter of the Dusk]                 \n",
       "1                                              [Hodor]                 \n",
       "2                                            [Lamprey]                 \n",
       "3                                  [The Merling Queen]                 \n",
       "4                                     [Old Crackbones]                 \n",
       "..                                                 ...    ...    ...   \n",
       "145                                                 []                 \n",
       "146                                                 []                 \n",
       "147  [Arya Horseface, Arya Underfoot, Arry, Lumpyfa...                 \n",
       "148                                                 []                 \n",
       "149                    [Esgred, The Kraken's Daughter]                 \n",
       "\n",
       "                                                spouse  \\\n",
       "0                                                        \n",
       "1                                                        \n",
       "2                                                        \n",
       "3                                                        \n",
       "4                                                        \n",
       "..                                                 ...   \n",
       "145                                                      \n",
       "146                                                      \n",
       "147                                                      \n",
       "148                                                      \n",
       "149  https://www.anapioficeandfire.com/api/characte...   \n",
       "\n",
       "                                           allegiances  \\\n",
       "0                                                   []   \n",
       "1    [https://www.anapioficeandfire.com/api/houses/...   \n",
       "2    [https://www.anapioficeandfire.com/api/houses/15]   \n",
       "3                                                   []   \n",
       "4                                                   []   \n",
       "..                                                 ...   \n",
       "145  [https://www.anapioficeandfire.com/api/houses/...   \n",
       "146  [https://www.anapioficeandfire.com/api/houses/...   \n",
       "147  [https://www.anapioficeandfire.com/api/houses/...   \n",
       "148  [https://www.anapioficeandfire.com/api/houses/...   \n",
       "149  [https://www.anapioficeandfire.com/api/houses/...   \n",
       "\n",
       "                                                 books  \\\n",
       "0      [https://www.anapioficeandfire.com/api/books/5]   \n",
       "1    [https://www.anapioficeandfire.com/api/books/1...   \n",
       "2      [https://www.anapioficeandfire.com/api/books/3]   \n",
       "3    [https://www.anapioficeandfire.com/api/books/5...   \n",
       "4      [https://www.anapioficeandfire.com/api/books/5]   \n",
       "..                                                 ...   \n",
       "145  [https://www.anapioficeandfire.com/api/books/2...   \n",
       "146  [https://www.anapioficeandfire.com/api/books/1...   \n",
       "147                                                 []   \n",
       "148  [https://www.anapioficeandfire.com/api/books/1...   \n",
       "149  [https://www.anapioficeandfire.com/api/books/1...   \n",
       "\n",
       "                                              povBooks  \\\n",
       "0                                                   []   \n",
       "1                                                   []   \n",
       "2                                                   []   \n",
       "3                                                   []   \n",
       "4                                                   []   \n",
       "..                                                 ...   \n",
       "145                                                 []   \n",
       "146                                                 []   \n",
       "147  [https://www.anapioficeandfire.com/api/books/1...   \n",
       "148    [https://www.anapioficeandfire.com/api/books/5]   \n",
       "149  [https://www.anapioficeandfire.com/api/books/5...   \n",
       "\n",
       "                                              tvSeries           playedBy  \n",
       "0                                                   []                 []  \n",
       "1    [Season 1, Season 2, Season 3, Season 4, Seaso...   [Kristian Nairn]  \n",
       "2                                                   []                 []  \n",
       "3                                                   []                 []  \n",
       "4                                                   []                 []  \n",
       "..                                                 ...                ...  \n",
       "145                                                 []                 []  \n",
       "146                                                 []                 []  \n",
       "147  [Season 1, Season 2, Season 3, Season 4, Seaso...  [Maisie Williams]  \n",
       "148                                                 []                 []  \n",
       "149                     [Season 2, Season 3, Season 4]     [Gemma Whelan]  \n",
       "\n",
       "[150 rows x 16 columns]"
      ]
     },
     "execution_count": 35,
     "metadata": {},
     "output_type": "execute_result"
    }
   ],
   "source": [
    "datas"
   ]
  },
  {
   "cell_type": "code",
   "execution_count": null,
   "metadata": {},
   "outputs": [],
   "source": []
  }
 ],
 "metadata": {
  "colab": {
   "collapsed_sections": [],
   "name": "Game Of Thrones - Exercice SOLUTIONS.ipynb",
   "provenance": []
  },
  "kernelspec": {
   "display_name": "Python 3",
   "language": "python",
   "name": "python3"
  },
  "language_info": {
   "codemirror_mode": {
    "name": "ipython",
    "version": 3
   },
   "file_extension": ".py",
   "mimetype": "text/x-python",
   "name": "python",
   "nbconvert_exporter": "python",
   "pygments_lexer": "ipython3",
   "version": "3.8.6"
  }
 },
 "nbformat": 4,
 "nbformat_minor": 4
}
