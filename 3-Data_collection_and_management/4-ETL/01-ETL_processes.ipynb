{
 "cells": [
  {
   "cell_type": "markdown",
   "metadata": {},
   "source": [
    "# ETL Processes \n",
    "\n",
    "## What you'll learn in this course \n",
    "\n",
    "ETL stands for Extract Transform Load. Simply put, it's a process of extracting data from a source, clean it and load it into a database that we usually call a *Data Warehouse*. In this course, you will learn the following things:\n",
    "\n",
    "* What is an ETL process\n",
    "* Why is it useful \n",
    "\n"
   ]
  },
  {
   "cell_type": "markdown",
   "metadata": {},
   "source": [
    "## What is an ETL Process 🤔🤔\n",
    "\n",
    "ETL stands for Extract Transform Load. Simply put, it's a process of extracting data from a source, clean it and load it into a database that we usually call a *Data Warehouse*. \n",
    "\n",
    "Imagine the following case: \n",
    "\n",
    "*You are using an API that extracts data from a website periodically. This data describes your users behavior and therefore you need to analyze it. However, since your data is not structured, you decided to store it in a datalake like S3. Now, you need to analyze this data and provide a dashboard to your management. However, S3 is not made to do direct analysis on it. Therefore, you need to transform that data into a SQL Database like PostgreSQL.*\n",
    "\n",
    "This example is typical case for an ETL process!"
   ]
  },
  {
   "cell_type": "code",
   "execution_count": null,
   "metadata": {},
   "outputs": [],
   "source": []
  }
 ],
 "metadata": {
  "kernelspec": {
   "display_name": "Python 3",
   "language": "python",
   "name": "python3"
  },
  "language_info": {
   "codemirror_mode": {
    "name": "ipython",
    "version": 3
   },
   "file_extension": ".py",
   "mimetype": "text/x-python",
   "name": "python",
   "nbconvert_exporter": "python",
   "pygments_lexer": "ipython3",
   "version": "3.8.6"
  }
 },
 "nbformat": 4,
 "nbformat_minor": 4
}
