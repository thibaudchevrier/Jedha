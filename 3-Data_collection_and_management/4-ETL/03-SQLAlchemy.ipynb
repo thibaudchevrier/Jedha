{
 "cells": [
  {
   "cell_type": "markdown",
   "metadata": {},
   "source": [
    "# SQLAlchemy"
   ]
  },
  {
   "cell_type": "markdown",
   "metadata": {},
   "source": [
    "\n",
    "If you want to manipulate Databases, it's good for you to know Python library: `sql-alchemy`. In this course, you'll learn: \n",
    "\n",
    "* Read & Write Data with SQL commands\n",
    "* Read data from your datalake and load it to a proper database \n",
    "* Read data from your database and load it to datalake \n",
    "* Use Pandas features to read & write sql database\n"
   ]
  },
  {
   "cell_type": "markdown",
   "metadata": {},
   "source": [
    "## Introduction to SQLAlchemy 🧙‍♂️🧙‍♂️\n",
    "\n",
    "SQLAlchemy is the best way to handle relational databases with python. It is good for you to know the basic principles as you grow as a Data Scientist as you will be handling databases in your career."
   ]
  },
  {
   "cell_type": "markdown",
   "metadata": {},
   "source": [
    "### Structure of the API \n",
    "\n",
    "SQLAlchemy is organized in layers\n",
    "\n",
    "![](https://docs.sqlalchemy.org/en/13/_images/sqla_arch_small.png)"
   ]
  },
  {
   "cell_type": "markdown",
   "metadata": {},
   "source": [
    "You have two ways of handling SQL databases with SQLAlchemy: \n",
    "\n",
    "* ORM: It stands for Object Relation Mapper where you'll be able to communicate with the database and create very flexible models.\n",
    "\n",
    "* SQLAlchemy Core: This layer is more schema-centric and will allow you to very simply access and query your tables. \n",
    "\n",
    "Let's check-out core functionnalities of both these layers."
   ]
  },
  {
   "cell_type": "markdown",
   "metadata": {},
   "source": [
    "### Nota Bene - SQLlite\n",
    "\n",
    "For the rest of this course, we'll be using SQLlite which is a very light version of SQL database that is built-in. Therefore, we won't have to create any production database like PostgreSQL or MySQL. However, please note that SQLlite is NOT made for production and that you'll be using DB (like PostgreSQL or MySQL) in a production environment."
   ]
  },
  {
   "cell_type": "markdown",
   "metadata": {},
   "source": [
    "### ORM \n",
    "\n",
    "ORM uses python classes and instances to create and manipulate databases. Let's see how it works. Before diving into creating tables, let's create a db by connecting to it."
   ]
  },
  {
   "cell_type": "markdown",
   "metadata": {},
   "source": [
    "#### Create a connection"
   ]
  },
  {
   "cell_type": "code",
   "execution_count": 1,
   "metadata": {},
   "outputs": [],
   "source": [
    "from sqlalchemy import create_engine\n",
    "engine = create_engine(\"sqlite:///:memory:\", echo=True)"
   ]
  },
  {
   "cell_type": "markdown",
   "metadata": {},
   "source": [
    "In the above code, we created a \"fake\" database where we'll be using our computer's memory to mimic what a real database would be. \n",
    "\n",
    "NB, if you were to use a production database such as PostgreSQL, you would be using a connection just like this: \n",
    "\n",
    "`postgresql+psycopg2://{dbuser}:{dbpass}@{dbhost}/{dbname}`"
   ]
  },
  {
   "cell_type": "markdown",
   "metadata": {},
   "source": [
    "#### Create a table \n",
    "\n",
    "Let's now create a table. To do so, we'll be using a python class and instanciate it. "
   ]
  },
  {
   "cell_type": "code",
   "execution_count": 2,
   "metadata": {},
   "outputs": [],
   "source": [
    "# Let's instance a declarative base to be able to use our python class\n",
    "from sqlalchemy.ext.declarative import declarative_base\n",
    "Base = declarative_base()\n",
    "\n",
    "# Let's define our table \n",
    "from sqlalchemy import Column, Integer, String \n",
    "class User(Base):\n",
    "    __tablename__ = \"users\"\n",
    "\n",
    "    id = Column(Integer, primary_key=True)\n",
    "    name = Column(String)\n",
    "    fullname = Column(String)\n",
    "    nickname = Column(String)\n",
    "\n",
    "    def __repr__(self):\n",
    "        return \"<User(name='{}', fullname='{}', nickname='{}')>\".format(self.name, self.fullname, self.nickname)"
   ]
  },
  {
   "cell_type": "markdown",
   "metadata": {},
   "source": [
    "Here we represented our table `users` by class. As you can see, it contains 4 columns: \n",
    "\n",
    "* id -> of type Integer\n",
    "* name -> of type String \n",
    "* fullname -> of type String \n",
    "* nickname -> of type String \n",
    "\n",
    "the `__repr__` method simply states how the output will be formated when we'll be calling our attributes. "
   ]
  },
  {
   "cell_type": "markdown",
   "metadata": {},
   "source": [
    "We now need to create our table within our database, we can do this by using the `create_all` method from `Base.metadata` module. "
   ]
  },
  {
   "cell_type": "code",
   "execution_count": 3,
   "metadata": {},
   "outputs": [
    {
     "name": "stdout",
     "output_type": "stream",
     "text": [
      "2021-01-04 17:52:42,990 INFO sqlalchemy.engine.base.Engine SELECT CAST('test plain returns' AS VARCHAR(60)) AS anon_1\n",
      "2021-01-04 17:52:42,991 INFO sqlalchemy.engine.base.Engine ()\n",
      "2021-01-04 17:52:42,992 INFO sqlalchemy.engine.base.Engine SELECT CAST('test unicode returns' AS VARCHAR(60)) AS anon_1\n",
      "2021-01-04 17:52:42,993 INFO sqlalchemy.engine.base.Engine ()\n",
      "2021-01-04 17:52:42,994 INFO sqlalchemy.engine.base.Engine PRAGMA main.table_info(\"users\")\n",
      "2021-01-04 17:52:42,994 INFO sqlalchemy.engine.base.Engine ()\n",
      "2021-01-04 17:52:42,996 INFO sqlalchemy.engine.base.Engine PRAGMA temp.table_info(\"users\")\n",
      "2021-01-04 17:52:42,997 INFO sqlalchemy.engine.base.Engine ()\n",
      "2021-01-04 17:52:42,999 INFO sqlalchemy.engine.base.Engine \n",
      "CREATE TABLE users (\n",
      "\tid INTEGER NOT NULL, \n",
      "\tname VARCHAR, \n",
      "\tfullname VARCHAR, \n",
      "\tnickname VARCHAR, \n",
      "\tPRIMARY KEY (id)\n",
      ")\n",
      "\n",
      "\n",
      "2021-01-04 17:52:43,000 INFO sqlalchemy.engine.base.Engine ()\n",
      "2021-01-04 17:52:43,001 INFO sqlalchemy.engine.base.Engine COMMIT\n"
     ]
    }
   ],
   "source": [
    "Base.metadata.create_all(engine)"
   ]
  },
  {
   "cell_type": "markdown",
   "metadata": {},
   "source": [
    "#### Insert values \n",
    "\n",
    "Let's insert values in our database "
   ]
  },
  {
   "cell_type": "code",
   "execution_count": 5,
   "metadata": {},
   "outputs": [
    {
     "name": "stdout",
     "output_type": "stream",
     "text": [
      "<User(name='ed', fullname='Ed Jones', nickname='edsnickname')>\n",
      "name: ed\n",
      "nickname: edsnickname\n"
     ]
    }
   ],
   "source": [
    "ed_user = User(id=1, name='ed', fullname='Ed Jones', nickname='edsnickname')\n",
    "\n",
    "# Access Full row \n",
    "print(ed_user)\n",
    "\n",
    "# Access ed_user name \n",
    "name = ed_user.name\n",
    "print(\"name: {}\".format(name))\n",
    "\n",
    "# Access ed_user nickname\n",
    "nickname = ed_user.nickname \n",
    "print(\"nickname: {}\".format(nickname))\n"
   ]
  },
  {
   "cell_type": "markdown",
   "metadata": {},
   "source": [
    "We created data! As you can see we can access each column values simply by declaring a `.column_name`. "
   ]
  },
  {
   "cell_type": "markdown",
   "metadata": {},
   "source": [
    "#### Persist values in db \n",
    "\n",
    "Eventhough we created values, we haven't saved it in our database. We can do it by opening a `Session`"
   ]
  },
  {
   "cell_type": "code",
   "execution_count": 10,
   "metadata": {},
   "outputs": [],
   "source": [
    "# Initialize a sessionmaker \n",
    "from sqlalchemy.orm import sessionmaker \n",
    "Session = sessionmaker(bind=engine)"
   ]
  },
  {
   "cell_type": "markdown",
   "metadata": {},
   "source": [
    "Here we created a sessionmaker which will allow us to talk to our database. The `bind` argument takes an `engine` as parameter which corresponds to our database. "
   ]
  },
  {
   "cell_type": "code",
   "execution_count": 11,
   "metadata": {},
   "outputs": [],
   "source": [
    "# Instanciate Session \n",
    "session = Session()\n",
    "\n",
    "# Add values to db \n",
    "session.add(ed_user)\n",
    "\n",
    "# Commit the results \n",
    "session.commit()"
   ]
  },
  {
   "cell_type": "markdown",
   "metadata": {},
   "source": [
    "Good job! We added our first value inside our db 👏👏 Note that it is very important to use the `.commit()` method to actually persist the values you inserted when you called the `.add()` method. "
   ]
  },
  {
   "cell_type": "markdown",
   "metadata": {},
   "source": [
    "#### Query values from a database\n",
    "\n",
    "Now that we have some data inside our database, we can query it simply by using the `session` instance."
   ]
  },
  {
   "cell_type": "code",
   "execution_count": 59,
   "metadata": {},
   "outputs": [
    {
     "name": "stdout",
     "output_type": "stream",
     "text": [
      "2020-06-02 15:11:16,448 INFO sqlalchemy.engine.base.Engine BEGIN (implicit)\n",
      "2020-06-02 15:11:16,450 INFO sqlalchemy.engine.base.Engine SELECT users.id AS users_id, users.name AS users_name, users.fullname AS users_fullname, users.nickname AS users_nickname \n",
      "FROM users\n",
      "2020-06-02 15:11:16,450 INFO sqlalchemy.engine.base.Engine ()\n"
     ]
    },
    {
     "data": {
      "text/plain": [
       "[<User(name='ed', fullname='Ed Jones', nickname='edsnickname')>]"
      ]
     },
     "execution_count": 59,
     "metadata": {},
     "output_type": "execute_result"
    }
   ],
   "source": [
    "# Query our table users\n",
    "user = session.query(User)\n",
    "\n",
    "# Output all the results \n",
    "user.all()"
   ]
  },
  {
   "cell_type": "markdown",
   "metadata": {},
   "source": [
    "You can now also use any SQL statement if you want to run more complex queries"
   ]
  },
  {
   "cell_type": "code",
   "execution_count": 60,
   "metadata": {},
   "outputs": [
    {
     "data": {
      "text/plain": [
       "<sqlalchemy.sql.elements.TextClause object at 0x111910050>"
      ]
     },
     "execution_count": 60,
     "metadata": {},
     "output_type": "execute_result"
    }
   ],
   "source": [
    "from sqlalchemy import text\n",
    "\n",
    "# Create a statement \n",
    "statement = text(\"SELECT * FROM users where name=:name\")\n",
    "statement"
   ]
  },
  {
   "cell_type": "markdown",
   "metadata": {},
   "source": [
    "As you can see, the query looks almost as a real SQL query. The only thing is the `:name` parameter in `where name=:name`.\n",
    "\n",
    "This will allow us to insert values afterwards the following way: "
   ]
  },
  {
   "cell_type": "code",
   "execution_count": 61,
   "metadata": {},
   "outputs": [
    {
     "name": "stdout",
     "output_type": "stream",
     "text": [
      "2020-06-02 15:11:18,954 INFO sqlalchemy.engine.base.Engine SELECT * FROM users where name=?\n",
      "2020-06-02 15:11:18,955 INFO sqlalchemy.engine.base.Engine ('ed',)\n"
     ]
    },
    {
     "data": {
      "text/plain": [
       "[<User(name='ed', fullname='Ed Jones', nickname='edsnickname')>]"
      ]
     },
     "execution_count": 61,
     "metadata": {},
     "output_type": "execute_result"
    }
   ],
   "source": [
    "session.query(User).from_statement(statement).\\\n",
    "                    params(name=\"ed\").\\\n",
    "                    all()"
   ]
  },
  {
   "cell_type": "markdown",
   "metadata": {},
   "source": [
    "As you can see, we used this `params` method that allow you to specify an operator from which you could apply your filter. "
   ]
  },
  {
   "cell_type": "markdown",
   "metadata": {},
   "source": [
    "### SQLAlchemy Core \n",
    "\n",
    "If you don't like classes and the declarative approach. You can use the SQLAlchemy Core layer of the library. Let's start by creating a new database. "
   ]
  },
  {
   "cell_type": "code",
   "execution_count": 12,
   "metadata": {},
   "outputs": [],
   "source": [
    "from sqlalchemy import create_engine\n",
    "engine = create_engine('sqlite:///:memory:', echo=True)"
   ]
  },
  {
   "cell_type": "markdown",
   "metadata": {},
   "source": [
    "#### Create Tables \n",
    "\n",
    "You can simply create tables the following way."
   ]
  },
  {
   "cell_type": "code",
   "execution_count": 13,
   "metadata": {},
   "outputs": [],
   "source": [
    "from sqlalchemy import Table, Column, Integer, String, MetaData, ForeignKey\n",
    "meta = MetaData()\n",
    "students = Table(\n",
    "           'students', meta, \n",
    "           Column('id', Integer, primary_key = True), \n",
    "           Column('name', String), \n",
    "           Column('lastname', String),\n",
    "        )\n",
    "\n",
    "addresses = Table(\n",
    "           'addresses', meta, \n",
    "           Column('id', Integer, primary_key = True), \n",
    "           Column('email_address', String), \n",
    "           Column(\"student_id\", None, ForeignKey(\"students.id\"))\n",
    "        )"
   ]
  },
  {
   "cell_type": "markdown",
   "metadata": {},
   "source": [
    "As you can see, I simply declared two tables with the `Table` class. Pay attention to `meta` as well which basically contain all the metadata (additional information) necessary to create an actual table. \n",
    "\n",
    "Let's now `create_all` tables to actually create them within our database. "
   ]
  },
  {
   "cell_type": "code",
   "execution_count": 14,
   "metadata": {},
   "outputs": [
    {
     "name": "stdout",
     "output_type": "stream",
     "text": [
      "2021-01-04 18:25:47,193 INFO sqlalchemy.engine.base.Engine SELECT CAST('test plain returns' AS VARCHAR(60)) AS anon_1\n",
      "2021-01-04 18:25:47,194 INFO sqlalchemy.engine.base.Engine ()\n",
      "2021-01-04 18:25:47,195 INFO sqlalchemy.engine.base.Engine SELECT CAST('test unicode returns' AS VARCHAR(60)) AS anon_1\n",
      "2021-01-04 18:25:47,196 INFO sqlalchemy.engine.base.Engine ()\n",
      "2021-01-04 18:25:47,197 INFO sqlalchemy.engine.base.Engine PRAGMA main.table_info(\"students\")\n",
      "2021-01-04 18:25:47,198 INFO sqlalchemy.engine.base.Engine ()\n",
      "2021-01-04 18:25:47,200 INFO sqlalchemy.engine.base.Engine PRAGMA temp.table_info(\"students\")\n",
      "2021-01-04 18:25:47,200 INFO sqlalchemy.engine.base.Engine ()\n",
      "2021-01-04 18:25:47,201 INFO sqlalchemy.engine.base.Engine PRAGMA main.table_info(\"addresses\")\n",
      "2021-01-04 18:25:47,202 INFO sqlalchemy.engine.base.Engine ()\n",
      "2021-01-04 18:25:47,203 INFO sqlalchemy.engine.base.Engine PRAGMA temp.table_info(\"addresses\")\n",
      "2021-01-04 18:25:47,203 INFO sqlalchemy.engine.base.Engine ()\n",
      "2021-01-04 18:25:47,205 INFO sqlalchemy.engine.base.Engine \n",
      "CREATE TABLE students (\n",
      "\tid INTEGER NOT NULL, \n",
      "\tname VARCHAR, \n",
      "\tlastname VARCHAR, \n",
      "\tPRIMARY KEY (id)\n",
      ")\n",
      "\n",
      "\n",
      "2021-01-04 18:25:47,206 INFO sqlalchemy.engine.base.Engine ()\n",
      "2021-01-04 18:25:47,207 INFO sqlalchemy.engine.base.Engine COMMIT\n",
      "2021-01-04 18:25:47,208 INFO sqlalchemy.engine.base.Engine \n",
      "CREATE TABLE addresses (\n",
      "\tid INTEGER NOT NULL, \n",
      "\temail_address VARCHAR, \n",
      "\tstudent_id INTEGER, \n",
      "\tPRIMARY KEY (id), \n",
      "\tFOREIGN KEY(student_id) REFERENCES students (id)\n",
      ")\n",
      "\n",
      "\n",
      "2021-01-04 18:25:47,209 INFO sqlalchemy.engine.base.Engine ()\n",
      "2021-01-04 18:25:47,211 INFO sqlalchemy.engine.base.Engine COMMIT\n"
     ]
    }
   ],
   "source": [
    "meta.create_all(engine)"
   ]
  },
  {
   "cell_type": "markdown",
   "metadata": {},
   "source": [
    "#### Insert values\n",
    "\n",
    "If you need to insert values, you can do it the following way  "
   ]
  },
  {
   "cell_type": "code",
   "execution_count": 15,
   "metadata": {},
   "outputs": [
    {
     "data": {
      "text/plain": [
       "<sqlalchemy.sql.dml.Insert object at 0x7efe3e999b20>"
      ]
     },
     "execution_count": 15,
     "metadata": {},
     "output_type": "execute_result"
    }
   ],
   "source": [
    "ins = students.insert().values(id=\"1\", name=\"Jack\", lastname=\"Johnson\")\n",
    "ins"
   ]
  },
  {
   "cell_type": "markdown",
   "metadata": {},
   "source": [
    "This hasn't really inserted values just yet. You will need to first:\n",
    "\n",
    "1. Create a connecion to your db \n",
    "2. Execute the query"
   ]
  },
  {
   "cell_type": "code",
   "execution_count": 16,
   "metadata": {},
   "outputs": [
    {
     "name": "stdout",
     "output_type": "stream",
     "text": [
      "2021-01-04 18:28:16,860 INFO sqlalchemy.engine.base.Engine INSERT INTO students (id, name, lastname) VALUES (?, ?, ?)\n",
      "2021-01-04 18:28:16,862 INFO sqlalchemy.engine.base.Engine ('1', 'Jack', 'Johnson')\n",
      "2021-01-04 18:28:16,863 INFO sqlalchemy.engine.base.Engine COMMIT\n"
     ]
    },
    {
     "data": {
      "text/plain": [
       "<sqlalchemy.engine.result.ResultProxy at 0x7efe4c1744f0>"
      ]
     },
     "execution_count": 16,
     "metadata": {},
     "output_type": "execute_result"
    }
   ],
   "source": [
    "# Connect to the db\n",
    "conn = engine.connect()\n",
    "\n",
    "# Execute the query \n",
    "result = conn.execute(ins)\n",
    "\n",
    "# Always close the connection\n",
    "conn.close()\n",
    "result"
   ]
  },
  {
   "cell_type": "markdown",
   "metadata": {},
   "source": [
    "If you need to insert multiple values, you can do so simply by specifying a list of dictionnaries "
   ]
  },
  {
   "cell_type": "code",
   "execution_count": 17,
   "metadata": {},
   "outputs": [
    {
     "name": "stdout",
     "output_type": "stream",
     "text": [
      "2021-01-04 18:29:54,567 INFO sqlalchemy.engine.base.Engine INSERT INTO addresses (email_address, student_id) VALUES (?, ?)\n",
      "2021-01-04 18:29:54,568 INFO sqlalchemy.engine.base.Engine (('jack@yahoo.com', 1), ('jack@msn.com', 1))\n",
      "2021-01-04 18:29:54,569 INFO sqlalchemy.engine.base.Engine COMMIT\n"
     ]
    }
   ],
   "source": [
    "values = [\n",
    "    {'student_id': 1, 'email_address' : 'jack@yahoo.com'},\n",
    "    {'student_id': 1, 'email_address' : 'jack@msn.com'}\n",
    "]\n",
    "\n",
    "# Better way to handle connection\n",
    "with engine.connect() as conn:\n",
    "    conn.execute(addresses.insert(), values)"
   ]
  },
  {
   "cell_type": "markdown",
   "metadata": {},
   "source": [
    "#### Query values \n",
    "\n",
    "If you need to query your database, you can do it via `text` method and use actual sql queries. "
   ]
  },
  {
   "cell_type": "code",
   "execution_count": 18,
   "metadata": {},
   "outputs": [
    {
     "name": "stdout",
     "output_type": "stream",
     "text": [
      "2021-01-04 18:31:41,924 INFO sqlalchemy.engine.base.Engine SELECT students.id, addresses.id, students.name, addresses.email_address FROM students JOIN addresses ON students.id=addresses.student_id WHERE students.id = 1\n",
      "2021-01-04 18:31:41,926 INFO sqlalchemy.engine.base.Engine ()\n"
     ]
    },
    {
     "name": "stderr",
     "output_type": "stream",
     "text": [
      "/opt/conda/lib/python3.8/site-packages/sqlalchemy/engine/result.py:565: SAWarning: Number of columns in textual SQL (5) is smaller than number of columns requested (4)\n",
      "  util.warn(\n"
     ]
    }
   ],
   "source": [
    "from sqlalchemy.sql import text\n",
    "\n",
    "# Create a statement \n",
    "stmt = text(\"SELECT students.id, addresses.id, students.name, addresses.email_address FROM students \"\n",
    "            \"JOIN addresses ON students.id=addresses.student_id \"\n",
    "            \"WHERE students.id = 1\")\\\n",
    "            .columns(\n",
    "                students.c.id,\n",
    "                addresses.c.id,\n",
    "                addresses.c.student_id,\n",
    "                students.c.name,\n",
    "                addresses.c.email_address\n",
    "            )\n",
    "\n",
    "with engine.connect() as conn:\n",
    "    result = conn.execute(stmt)"
   ]
  },
  {
   "cell_type": "markdown",
   "metadata": {},
   "source": [
    "What is important to notice is: \n",
    "\n",
    "* Each line of the query is represented by a string. If you query needs to be on several lines, you need to add a space (\" \") before going to the next line\n",
    "\n",
    "* The `.columns()` works like a `.format()` method. This is where you will be specifying the names of the columns, you want to insert.\n",
    "\n",
    "* Finally, for each columns we specified `table_name.c.column_name`. This is how would select a column from a given table. "
   ]
  },
  {
   "cell_type": "markdown",
   "metadata": {},
   "source": [
    "Now if you want to check the actual results. You can use the `.fetchall` method that will output the results as a list. "
   ]
  },
  {
   "cell_type": "code",
   "execution_count": 19,
   "metadata": {},
   "outputs": [
    {
     "data": {
      "text/plain": [
       "[(1, 1, 'Jack', 'jack@yahoo.com'), (1, 2, 'Jack', 'jack@msn.com')]"
      ]
     },
     "execution_count": 19,
     "metadata": {},
     "output_type": "execute_result"
    }
   ],
   "source": [
    "result.fetchall()"
   ]
  },
  {
   "cell_type": "markdown",
   "metadata": {},
   "source": [
    "## Simple things out with Pandas 😌😌\n",
    "\n",
    "SQLAlchemy is the fundamental knowledge when dealing with SQL databases. However, there are simpler way to insert and query databases that would work most of the time. And, this is with Pandas. "
   ]
  },
  {
   "cell_type": "markdown",
   "metadata": {},
   "source": [
    "### Read SQL Databases with Pandas \n",
    "\n",
    "Most of the time, you were using pandas with csv files or excel spreadsheets but you can also use this library with sql databases. You would use the `read_sql` method. "
   ]
  },
  {
   "cell_type": "code",
   "execution_count": 97,
   "metadata": {},
   "outputs": [
    {
     "name": "stdout",
     "output_type": "stream",
     "text": [
      "2020-06-02 15:42:43,361 INFO sqlalchemy.engine.base.Engine SELECT students.id, addresses.id, students.name, addresses.email_address FROM students JOIN addresses ON students.id=addresses.student_id WHERE students.id = 1\n",
      "2020-06-02 15:42:43,362 INFO sqlalchemy.engine.base.Engine ()\n"
     ]
    },
    {
     "data": {
      "text/html": [
       "<div>\n",
       "<style scoped>\n",
       "    .dataframe tbody tr th:only-of-type {\n",
       "        vertical-align: middle;\n",
       "    }\n",
       "\n",
       "    .dataframe tbody tr th {\n",
       "        vertical-align: top;\n",
       "    }\n",
       "\n",
       "    .dataframe thead th {\n",
       "        text-align: right;\n",
       "    }\n",
       "</style>\n",
       "<table border=\"1\" class=\"dataframe\">\n",
       "  <thead>\n",
       "    <tr style=\"text-align: right;\">\n",
       "      <th></th>\n",
       "      <th>id</th>\n",
       "      <th>id</th>\n",
       "      <th>name</th>\n",
       "      <th>email_address</th>\n",
       "    </tr>\n",
       "  </thead>\n",
       "  <tbody>\n",
       "    <tr>\n",
       "      <th>0</th>\n",
       "      <td>1</td>\n",
       "      <td>1</td>\n",
       "      <td>Jack</td>\n",
       "      <td>jack@yahoo.com</td>\n",
       "    </tr>\n",
       "    <tr>\n",
       "      <th>1</th>\n",
       "      <td>1</td>\n",
       "      <td>2</td>\n",
       "      <td>Jack</td>\n",
       "      <td>jack@msn.com</td>\n",
       "    </tr>\n",
       "  </tbody>\n",
       "</table>\n",
       "</div>"
      ],
      "text/plain": [
       "   id  id  name   email_address\n",
       "0   1   1  Jack  jack@yahoo.com\n",
       "1   1   2  Jack    jack@msn.com"
      ]
     },
     "execution_count": 97,
     "metadata": {},
     "output_type": "execute_result"
    }
   ],
   "source": [
    "import pandas as pd \n",
    "\n",
    "# Create a statement \n",
    "stmt = text(\"SELECT students.id, addresses.id, students.name, addresses.email_address FROM students \"\n",
    "            \"JOIN addresses ON students.id=addresses.student_id \"\n",
    "            \"WHERE students.id = 1\")\\\n",
    "            .columns(\n",
    "                students.c.id,\n",
    "                addresses.c.id,\n",
    "                addresses.c.student_id,\n",
    "                students.c.name,\n",
    "                addresses.c.email_address\n",
    "            )\n",
    "\n",
    "df = pd.read_sql(\n",
    "        stmt,\n",
    "        engine\n",
    "    )\n",
    "\n",
    "df.head()"
   ]
  },
  {
   "cell_type": "markdown",
   "metadata": {},
   "source": [
    "Now you have a very nice DataFrame that you can easily manipulate! \n",
    "\n",
    "Note that we still used SQLAlchemy as we create a statement `stmt` as well as an `engine` for pandas to be able to create it. "
   ]
  },
  {
   "cell_type": "markdown",
   "metadata": {},
   "source": [
    "### Update your database with Pandas \n",
    "\n",
    "The same way you can read sql, you can also write sql with pandas. "
   ]
  },
  {
   "cell_type": "code",
   "execution_count": 98,
   "metadata": {},
   "outputs": [
    {
     "data": {
      "text/html": [
       "<div>\n",
       "<style scoped>\n",
       "    .dataframe tbody tr th:only-of-type {\n",
       "        vertical-align: middle;\n",
       "    }\n",
       "\n",
       "    .dataframe tbody tr th {\n",
       "        vertical-align: top;\n",
       "    }\n",
       "\n",
       "    .dataframe thead th {\n",
       "        text-align: right;\n",
       "    }\n",
       "</style>\n",
       "<table border=\"1\" class=\"dataframe\">\n",
       "  <thead>\n",
       "    <tr style=\"text-align: right;\">\n",
       "      <th></th>\n",
       "      <th>id</th>\n",
       "      <th>id</th>\n",
       "      <th>name</th>\n",
       "      <th>email_address</th>\n",
       "      <th>great_new_column</th>\n",
       "    </tr>\n",
       "  </thead>\n",
       "  <tbody>\n",
       "    <tr>\n",
       "      <th>0</th>\n",
       "      <td>1</td>\n",
       "      <td>1</td>\n",
       "      <td>Jack</td>\n",
       "      <td>jack@yahoo.com</td>\n",
       "      <td>0</td>\n",
       "    </tr>\n",
       "    <tr>\n",
       "      <th>1</th>\n",
       "      <td>1</td>\n",
       "      <td>2</td>\n",
       "      <td>Jack</td>\n",
       "      <td>jack@msn.com</td>\n",
       "      <td>0</td>\n",
       "    </tr>\n",
       "  </tbody>\n",
       "</table>\n",
       "</div>"
      ],
      "text/plain": [
       "   id  id  name   email_address  great_new_column\n",
       "0   1   1  Jack  jack@yahoo.com                 0\n",
       "1   1   2  Jack    jack@msn.com                 0"
      ]
     },
     "execution_count": 98,
     "metadata": {},
     "output_type": "execute_result"
    }
   ],
   "source": [
    "# Create a new column\n",
    "df[\"great_new_column\"] = 0\n",
    "df.head()"
   ]
  },
  {
   "cell_type": "code",
   "execution_count": 99,
   "metadata": {},
   "outputs": [
    {
     "name": "stdout",
     "output_type": "stream",
     "text": [
      "2020-06-02 15:46:33,460 INFO sqlalchemy.engine.base.Engine PRAGMA main.table_info(\"brand_new_table\")\n",
      "2020-06-02 15:46:33,461 INFO sqlalchemy.engine.base.Engine ()\n",
      "2020-06-02 15:46:33,463 INFO sqlalchemy.engine.base.Engine PRAGMA temp.table_info(\"brand_new_table\")\n",
      "2020-06-02 15:46:33,464 INFO sqlalchemy.engine.base.Engine ()\n",
      "2020-06-02 15:46:33,466 INFO sqlalchemy.engine.base.Engine \n",
      "CREATE TABLE brand_new_table (\n",
      "\t\"index\" BIGINT, \n",
      "\tid BIGINT, \n",
      "\tname TEXT, \n",
      "\temail_address TEXT, \n",
      "\tgreat_new_column BIGINT\n",
      ")\n",
      "\n",
      "\n",
      "2020-06-02 15:46:33,467 INFO sqlalchemy.engine.base.Engine ()\n",
      "2020-06-02 15:46:33,468 INFO sqlalchemy.engine.base.Engine COMMIT\n",
      "2020-06-02 15:46:33,469 INFO sqlalchemy.engine.base.Engine CREATE INDEX ix_brand_new_table_index ON brand_new_table (\"index\")\n",
      "2020-06-02 15:46:33,470 INFO sqlalchemy.engine.base.Engine ()\n",
      "2020-06-02 15:46:33,471 INFO sqlalchemy.engine.base.Engine COMMIT\n",
      "2020-06-02 15:46:33,474 INFO sqlalchemy.engine.base.Engine BEGIN (implicit)\n",
      "2020-06-02 15:46:33,477 INFO sqlalchemy.engine.base.Engine INSERT INTO brand_new_table (\"index\", id, name, email_address, great_new_column) VALUES (?, ?, ?, ?, ?)\n",
      "2020-06-02 15:46:33,478 INFO sqlalchemy.engine.base.Engine ((0, 1, 'Jack', 'jack@yahoo.com', 0), (1, 2, 'Jack', 'jack@msn.com', 0))\n",
      "2020-06-02 15:46:33,479 INFO sqlalchemy.engine.base.Engine COMMIT\n"
     ]
    }
   ],
   "source": [
    "# Push this new dataframe to our sql database\n",
    "df.to_sql(\n",
    "    \"brand_new_table\",\n",
    "    engine\n",
    ")"
   ]
  },
  {
   "cell_type": "code",
   "execution_count": 101,
   "metadata": {},
   "outputs": [
    {
     "name": "stdout",
     "output_type": "stream",
     "text": [
      "2020-06-02 15:47:40,786 INFO sqlalchemy.engine.base.Engine SELECT * FROM brand_new_table\n",
      "2020-06-02 15:47:40,788 INFO sqlalchemy.engine.base.Engine ()\n"
     ]
    },
    {
     "data": {
      "text/plain": [
       "[(0, 1, 'Jack', 'jack@yahoo.com', 0), (1, 2, 'Jack', 'jack@msn.com', 0)]"
      ]
     },
     "execution_count": 101,
     "metadata": {},
     "output_type": "execute_result"
    }
   ],
   "source": [
    "# Let's query it \n",
    "stmt = text(\"SELECT * FROM brand_new_table\")\n",
    "result = conn.execute(stmt)\n",
    "result.fetchall()"
   ]
  },
  {
   "cell_type": "markdown",
   "metadata": {},
   "source": [
    "## Resources \n",
    "\n",
    "* [Introduction to SQLAlchemy](https://www.youtube.com/watch?v=woKYyhLCcnU)\n",
    "* [SQLAlchemy Overview](https://docs.sqlalchemy.org/en/13/intro.html)\n",
    "* [Object Relational Tutorial](https://docs.sqlalchemy.org/en/13/orm/tutorial.html)\n",
    "* [SQL Expression Language Tutorial](https://docs.sqlalchemy.org/en/13/core/tutorial.html)\n",
    "* [Pandas Read SQL](https://pandas.pydata.org/pandas-docs/stable/reference/api/pandas.read_sql.html#pandas.read_sql)\n",
    "* [Pandas To SQL](https://pandas.pydata.org/pandas-docs/stable/reference/api/pandas.DataFrame.to_sql.html)"
   ]
  },
  {
   "cell_type": "code",
   "execution_count": null,
   "metadata": {},
   "outputs": [],
   "source": []
  }
 ],
 "metadata": {
  "kernelspec": {
   "display_name": "Python 3",
   "language": "python",
   "name": "python3"
  },
  "language_info": {
   "codemirror_mode": {
    "name": "ipython",
    "version": 3
   },
   "file_extension": ".py",
   "mimetype": "text/x-python",
   "name": "python",
   "nbconvert_exporter": "python",
   "pygments_lexer": "ipython3",
   "version": "3.8.6"
  }
 },
 "nbformat": 4,
 "nbformat_minor": 4
}
