{
 "cells": [
  {
   "cell_type": "markdown",
   "metadata": {
    "colab_type": "text",
    "id": "OCY7puPh46fo"
   },
   "source": [
    "# Identity Access Management - IAM\n",
    "\n",
    "IAM is an AWS service that lets you create and manage users of your AWS Account. \n",
    "\n",
    "It's important to have a secure way of using your AWS account. When you first create your account, you are logged in as a _super-user_ (or _root user_). This super-user has access to everything within AWS. \n",
    "\n",
    "One common best practice is to use this super-user the least possible and use specific users instead.\n",
    "\n",
    "In this lecture, we're going to setup our AWS account and create a user "
   ]
  },
  {
   "cell_type": "markdown",
   "metadata": {
    "colab_type": "text",
    "id": "FPuGM9tjAKBE"
   },
   "source": [
    "## Create your AWS Account\n",
    "\n",
    "If you didn't already create your AWS account, please follow this tutorial : \n",
    "\n",
    "* [Create your AWS Account](https://aws.amazon.com/premiumsupport/knowledge-center/create-and-activate-aws-account/?nc1=h_ls)\n",
    "\n",
    "Regarding Support Plans, you can choose _basic support_. It will be free of additionnal charges and we most likely won't need to contact AWS for support during our program. \n",
    "\n",
    "You can always change your support plan later if you need it for your company. "
   ]
  },
  {
   "cell_type": "markdown",
   "metadata": {
    "colab_type": "text",
    "id": "LAHl_uvV9avK"
   },
   "source": [
    "## Setup Super User Account"
   ]
  },
  {
   "cell_type": "markdown",
   "metadata": {
    "colab_type": "text",
    "id": "HGs8020IBvWH"
   },
   "source": [
    "Once you created your account, you will need to setup your root user account. Sign-in to your console and then go to : \n",
    "\n",
    "Service > IAM \n",
    "\n",
    "![Texte alternatif…](https://media.giphy.com/media/mEUfQ1LzInaFd1WXF3/giphy.gif)"
   ]
  },
  {
   "cell_type": "markdown",
   "metadata": {
    "colab_type": "text",
    "id": "YXIPUpiVD9PM"
   },
   "source": [
    "Once you're logged in, you should see that you need to complete **5 Steps** in your security Status Section "
   ]
  },
  {
   "cell_type": "markdown",
   "metadata": {
    "colab_type": "text",
    "id": "gxyXCn2_EKAR"
   },
   "source": [
    "![Texte alternatif…](https://drive.google.com/uc?export=view&id=105qOGKy_0b6IVAUSVWFq0QeO1DXPGapi)"
   ]
  },
  {
   "cell_type": "markdown",
   "metadata": {
    "colab_type": "text",
    "id": "KRH4iW4gGQdf"
   },
   "source": [
    "Let's go step by step. Click on `Delete your root access keys` > `manager security credentials`. You should see this page poping up :\n",
    "\n",
    "![Texte alternatif…](https://drive.google.com/uc?export=view&id=1ppCboB2jPOZq50jfLn_CSXN5j_L7yDi3)"
   ]
  },
  {
   "cell_type": "markdown",
   "metadata": {
    "colab_type": "text",
    "id": "NBqX3hNcHWsa"
   },
   "source": [
    "In this page, you can : \n",
    "\n",
    "* Change your password\n",
    "* Use Multi-factor Authentication (MFA) --> Add a new layer of security \n",
    "* Change or delete your access keys \n",
    "* Create Cloud Front key pairs \n",
    "* Create X.509 certificate \n",
    "* Check your account ids \n"
   ]
  },
  {
   "cell_type": "markdown",
   "metadata": {
    "colab_type": "text",
    "id": "SFPbJn9-IVdU"
   },
   "source": [
    "### Delete Root User Access Key"
   ]
  },
  {
   "cell_type": "markdown",
   "metadata": {
    "colab_type": "text",
    "id": "W0wtxq0xH71O"
   },
   "source": [
    "First, let's delete our *root access key*. It's not recommended to use your root access key for your applications. Instead, we'll be creating a new user with specific access and use these access key credentials. \n",
    "\n",
    "![Texte alternatif…](https://media.giphy.com/media/mEtbrFPHvdmzhYpDet/giphy.gif)"
   ]
  },
  {
   "cell_type": "markdown",
   "metadata": {
    "colab_type": "text",
    "id": "0rncblGCJQul"
   },
   "source": [
    "If you go back to your `Dashboard`, you should see that you completed the first step in your Security Status section \n",
    "\n",
    "![](https://drive.google.com/uc?export=view&id=1YpHUA1wFzDR0MWkEdYpKX7Z576BaZ-sR)"
   ]
  },
  {
   "cell_type": "markdown",
   "metadata": {
    "colab_type": "text",
    "id": "LKYQVOp2J6rX"
   },
   "source": [
    "### Activation Multi-Factor Authentification \n",
    "\n",
    "\n",
    "MFA is just an additional layer of security to access your root account. The idea is to add an additional password to access your root account.\n",
    "\n",
    "For our example, we'll be choosing a virtual MFA that is going to be located in our mobile. To be able to do that, you will need to download an authenticator app like Google Authenticator : \n",
    "\n",
    "* [Google Authenticator on Android](https://play.google.com/store/apps/details?id=com.google.android.apps.authenticator2&hl=en)\n",
    "\n",
    "* [Google Authenticator on IOS](https://apps.apple.com/us/app/google-authenticator/id388497605)\n",
    "\n",
    "Now that you downloaded the app, go back to your security credentials page and click on `activate MFA`. \n",
    "\n",
    "* Click on `set up virtual MFA`\n",
    "* Click on `show QR code` and scan it on your app\n",
    "* Type two consecutive MFA codes \n",
    "* Click on `assign MFA`\n",
    "\n",
    "If everything has been done correctly, you should see a confirmation window : \n",
    "\n",
    "![](https://drive.google.com/uc?export=view&id=1vS4FS4Njx2ZG-OjKtg86ZcKZVDLNGdhx)"
   ]
  },
  {
   "cell_type": "markdown",
   "metadata": {
    "colab_type": "text",
    "id": "B5Sq3NfQIVYl"
   },
   "source": [
    "### Create IAM Users\n",
    "\n",
    "Back to your Dashboard, you should see that you completed the second step of your Security Status setup. We now need to create a new user with the appropriate access. \n",
    "\n",
    "Click on `Manage Users` and then `Add Users` at the top left corner just bellow `Ressource Groups`\n",
    "\n",
    "![](https://drive.google.com/uc?export=view&id=1BPU5jXHac4Ac9M83nzo8Ahax8AWpaURZ)"
   ]
  },
  {
   "cell_type": "markdown",
   "metadata": {
    "colab_type": "text",
    "id": "uHHnfUjqKXDL"
   },
   "source": [
    "You should see a *setup user* page where you'll be able to assign : \n",
    "\n",
    "* A username \n",
    "* Programmatic & Console Access \n",
    "* A password \n",
    "\n",
    "NB : Programmatic access lets your user access to AWS products with a SECRET KEY and KEY ID with tools such as SDK (Boto3 for Python). For example, if you need to access S3 via a python program, you would need programmatic access. \n",
    "\n",
    "![](https://drive.google.com/uc?export=view&id=18kvI3Jxaioln9SEaOCGakNFfqDjMyYBq)\n",
    "\n"
   ]
  },
  {
   "cell_type": "markdown",
   "metadata": {
    "colab_type": "text",
    "id": "i_ImTPGZL2hq"
   },
   "source": [
    "**NB**: with the last box (e.g *Require password reset) checked, your user will need to create a new password once she logs into to the console for the first time. \n",
    "\n",
    "\n",
    "Click on `Next: Permissions` and click on `Create Groups`\n",
    "\n",
    "#### What are policies ? \n",
    "\n",
    "Policies correspond to specific access to AWS services. For example, you can set up a policy that gives you *read access only* to S3. You can also give access to only ec2 instances ect.\n",
    "\n",
    "When you create a new user, she will need to have specific access to your AWS products. That's why you need to assign certain policies. \n",
    "\n",
    "#### Policies VS Groups \n",
    "\n",
    "However, since your user will most likely have specific access to a lot of different products, writing specific policies can be time-consuming. That's why AWS created `Groups`. It is simply a pre-configured set of policies that you can attach to a user. \n",
    "\n",
    "\n",
    "For our new user, let's give her Administrative Access \n",
    "\n",
    "![](https://drive.google.com/uc?export=view&id=1xqdacvsN-4fVQkZhVXHvb1VZ66KHFnyO)\n",
    "\n"
   ]
  },
  {
   "cell_type": "markdown",
   "metadata": {
    "colab_type": "text",
    "id": "AZ4aBWV1Nd1-"
   },
   "source": [
    "Give the group a name and click on `Create group`\n",
    "\n",
    "You should now see a group of policies attached to a user\n",
    "\n",
    "![](https://drive.google.com/uc?export=view&id=1SBcoHH-oJPlzPhwHld-sjKDWjvoHB3uk)\n",
    "\n"
   ]
  },
  {
   "cell_type": "markdown",
   "metadata": {
    "colab_type": "text",
    "id": "il35UxJsOQoe"
   },
   "source": [
    "Click on `Next: Tags`\n",
    "\n",
    "If you want to, you can assign tags to your user. This is totally optionnal though.\n",
    "\n",
    "![](https://drive.google.com/uc?export=view&id=1W4PNGD12GYeGflpaCPjVfEjZ9KfWgk9X)\n",
    "\n"
   ]
  },
  {
   "cell_type": "markdown",
   "metadata": {
    "colab_type": "text",
    "id": "bNpsJsEBOwo2"
   },
   "source": [
    "click on `Next: Review` and review what you just created. If everything seems correct to you click on `Create User` and you should see this page : \n",
    "\n",
    "![](https://drive.google.com/uc?export=view&id=1YDHGCOaNx1aW36EVAngHsDdB0ZK2QPhH)\n"
   ]
  },
  {
   "cell_type": "markdown",
   "metadata": {
    "colab_type": "text",
    "id": "J4fhUHnsPUbu"
   },
   "source": [
    "This means that your user has been created ! However, be careful, YOU WILL ONLY SEE THIS PAGE ONCE ! This means that you need to send credentials either over email or download them as a csv so that your user can access to the console. \n",
    "\n"
   ]
  },
  {
   "cell_type": "markdown",
   "metadata": {
    "colab_type": "text",
    "id": "ckJHohUSP2BP"
   },
   "source": [
    "### IAM password policy \n",
    "\n",
    "If you go back on your IAM Dashboad, you should see that we are almost done with your Security Status. We only need to apply a password policy. \n",
    "\n",
    "Click on `Manage Password Policy` > `Set Password Policy`\n",
    "\n",
    "You should see this page : \n",
    "\n",
    "![](https://drive.google.com/uc?export=view&id=15bZ5KvZiMzOJML9k00dajsJMyB01vJEk)\n",
    "\n"
   ]
  },
  {
   "cell_type": "markdown",
   "metadata": {
    "colab_type": "text",
    "id": "w5Vmj_nTQYMq"
   },
   "source": [
    "Check the boxes that you think necessary according to the level of security you need and click on `Save changes`\n",
    "\n",
    "You should now see pop up confirming that your policies has been updated :\n",
    "\n",
    "![](https://drive.google.com/uc?export=view&id=1Xlxaar14_MHsoE8XpAK6PzyMIX4aIIvz)\n",
    "\n"
   ]
  },
  {
   "cell_type": "markdown",
   "metadata": {
    "colab_type": "text",
    "id": "LwkUTydTRXow"
   },
   "source": [
    "If you go back to your Dashboard, you are now all set ! Congrats !! We can now use AWS safely :) "
   ]
  },
  {
   "cell_type": "markdown",
   "metadata": {
    "colab_type": "text",
    "id": "ZFzoNPmgRifj"
   },
   "source": [
    "# Resources \n",
    "\n",
    "* [Getting Set up](https://docs.aws.amazon.com/IAM/latest/UserGuide/getting-set-up.html)\n",
    "\n",
    "* [Get Started](https://docs.aws.amazon.com/IAM/latest/UserGuide/getting-started.html)\n",
    "\n",
    "* [IAM Users](https://docs.aws.amazon.com/IAM/latest/UserGuide/id_users.html)\n",
    "\n",
    "* [IAM Groups](https://docs.aws.amazon.com/IAM/latest/UserGuide/id_groups.html)"
   ]
  },
  {
   "cell_type": "code",
   "execution_count": null,
   "metadata": {
    "colab": {},
    "colab_type": "code",
    "id": "vFahB3OS43HN"
   },
   "outputs": [],
   "source": [
    "  "
   ]
  }
 ],
 "metadata": {
  "colab": {
   "collapsed_sections": [],
   "name": "1. IAM.ipynb",
   "provenance": []
  },
  "kernelspec": {
   "display_name": "Python 3",
   "language": "python",
   "name": "python3"
  },
  "language_info": {
   "codemirror_mode": {
    "name": "ipython",
    "version": 3
   },
   "file_extension": ".py",
   "mimetype": "text/x-python",
   "name": "python",
   "nbconvert_exporter": "python",
   "pygments_lexer": "ipython3",
   "version": "3.8.6"
  }
 },
 "nbformat": 4,
 "nbformat_minor": 4
}
