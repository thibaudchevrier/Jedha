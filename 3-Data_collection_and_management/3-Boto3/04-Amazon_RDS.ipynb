{
 "cells": [
  {
   "cell_type": "markdown",
   "metadata": {
    "colab_type": "text",
    "id": "f8p1Eflwauhs"
   },
   "source": [
    "# Amazon RDS - Relational Database Service\n",
    "\n",
    "## What is RDS\n",
    "\n",
    "As its name suggests, Amazon RDS is a service that handles databases. 👍👍 The cool features are that AWS will provide an easy set up and flexibility. With RDS, you will be able to create a database instance within minutes and scale it up or down very easily ! \n",
    "\n",
    "## What Types of Databases Can I Use ?\n",
    "\n",
    "You can set-up almost any kind of RDBMS (Relational Database Management System) on RDS. Here is a quick view of all the RDBMS available \n",
    "\n",
    "|RDBMS| Description|\n",
    "|-----|-----------|\n",
    "|MySQL| Open Source Engines|\n",
    "|MariaDB| Open Source Engines|\n",
    "|PostgreSQL| Open Source Engines|\n",
    "|Amazon Aurora| Serverless Engines|\n",
    "|Oracle| Commercial Engines|\n",
    "|Microsoft SQL Server| Commercial Engines|\n",
    "\n",
    "## Jargon 📚\n",
    "\n",
    "Before we set-up an instance, let's build a table with a few definition that will help you understand RDS \n",
    "\n",
    "|Word| Defintion|\n",
    "|-----|-----------|\n",
    "|Database Instance| First Block of Amazon RDS. When you'll want to build a database, you'll create a Database Instance.|\n",
    "|Database Engine| This refers to the above table. Databases have engine types such as MySQL, PostgreSQL ect. RDBMS or Engine Type is two interchangeable words|\n",
    "|DB Instance Class| This refers to the computing power you need for your database. You'll setup CPU, Memory Capacity, just like for an EC2 Instance|\n",
    "|Multi AZ| You might want to setup High Availability zones for your instance to prevent any failure. This is what Multi-AZ does|\n",
    "|Primary Host| It's a node that handles queries on your DB|\n",
    "|Read Replicas| It's a replica of your DB that handles only READ queries. This offloads your Primary Host|\n",
    "|Secondary Host| A copy of your Primary Host that is here to prevent failures|\n"
   ]
  },
  {
   "cell_type": "markdown",
   "metadata": {
    "colab_type": "text",
    "id": "yyjDEPeXosWw"
   },
   "source": [
    "## Create an Database Instance \n",
    "\n",
    "Now that we know the basics, let's see how we can create a database instance with RDS.\n",
    "\n",
    "### Create a simple instance\n",
    "\n",
    "> When you create your database choose _Easy create_ in order to select _PostgreSQL_ and _Free tier_.\n",
    "\n",
    "<img src=\"https://full-stack-assets.s3.eu-west-3.amazonaws.com/images/FULL_STACK_24_WEEK/M04-D04-Create_RDS_Select_for_free_tier.png\" alt=\"select easy create\" width=500>"
   ]
  },
  {
   "cell_type": "code",
   "execution_count": null,
   "metadata": {
    "colab": {
     "base_uri": "https://localhost:8080/",
     "height": 421
    },
    "colab_type": "code",
    "executionInfo": {
     "elapsed": 1317,
     "status": "ok",
     "timestamp": 1576402091212,
     "user": {
      "displayName": "Antoine Krajnc",
      "photoUrl": "https://lh3.googleusercontent.com/a-/AAuE7mC4XzNDVGvURzl4T5duDbMr6bUdhkYkDul_37G0OA=s64",
      "userId": "08465960390418158788"
     },
     "user_tz": -60
    },
    "id": "ZsehlL94Y6P1",
    "outputId": "b71ea300-48f0-486d-f047-2a75cbd46b95"
   },
   "outputs": [
    {
     "data": {
      "text/html": [
       "\n",
       "        <iframe\n",
       "            width=\"600\"\n",
       "            height=\"400\"\n",
       "            src=\"https://www.youtube.com/embed/_g5mnUwtTmU\"\n",
       "            frameborder=\"0\"\n",
       "            allowfullscreen\n",
       "        ></iframe>\n",
       "        "
      ],
      "text/plain": [
       "<IPython.lib.display.YouTubeVideo at 0x7fdab87a6e48>"
      ]
     },
     "execution_count": 1,
     "metadata": {
      "tags": []
     },
     "output_type": "execute_result"
    }
   ],
   "source": [
    "from IPython.display import YouTubeVideo\n",
    "YouTubeVideo(\"_g5mnUwtTmU\", height=400, width=600)"
   ]
  },
  {
   "cell_type": "markdown",
   "metadata": {},
   "source": [
    "Since AWS has been updated the _Publicly accessible_ button is under _Additional configuration_ inside _Connectivity_:\n",
    "\n",
    "<img src=\"https://full-stack-assets.s3.eu-west-3.amazonaws.com/images/FULL_STACK_24_WEEK/M04-D04-Public_button.png\" alt=\"public button\" width=500>"
   ]
  },
  {
   "cell_type": "markdown",
   "metadata": {},
   "source": [
    "There is a final step to complete the access to your RDS. First go to your database page and click on the link below _VPC Security groups_:\n",
    "\n",
    "<img src=\"https://full-stack-assets.s3.eu-west-3.amazonaws.com/images/FULL_STACK_24_WEEK/M04-D04-Step_1.png\" alt=\"vpc security group\" width=600>"
   ]
  },
  {
   "cell_type": "markdown",
   "metadata": {},
   "source": [
    "Then click on _Inbound rules_ and _Edit inbound rules_:\n",
    "\n",
    "<img src=\"https://full-stack-assets.s3.eu-west-3.amazonaws.com/images/FULL_STACK_24_WEEK/M04-D04-Step_2.png\" alt=\"edit inbound rules\" width=600></a>"
   ]
  },
  {
   "cell_type": "markdown",
   "metadata": {},
   "source": [
    "Under _Source_ select _Anywhere_ instead of _Custom_:\n",
    "\n",
    "<img src=\"https://full-stack-assets.s3.eu-west-3.amazonaws.com/images/FULL_STACK_24_WEEK/M04-D04-Step_3.png\" alt=\"anywhere\" width=600>"
   ]
  },
  {
   "cell_type": "markdown",
   "metadata": {},
   "source": [
    "Click on _Save rules_ and you are done! The array should look like that:\n",
    "\n",
    "<img src=\"https://full-stack-assets.s3.eu-west-3.amazonaws.com/images/FULL_STACK_24_WEEK/M04-D04-Step_final.png\" alt=\"final look\" width=600>"
   ]
  },
  {
   "cell_type": "markdown",
   "metadata": {},
   "source": [
    "> If you run into some trouble, do not worry. To start over : delete your database, then go to VPC page and delete the VPC and associated subnet. Then you are good to go with a new blank page."
   ]
  },
  {
   "cell_type": "markdown",
   "metadata": {
    "colab_type": "text",
    "id": "WblHyKs-ptD5"
   },
   "source": [
    "🧐🧐 We haven't see how we can create records and query them yet. There are indeed plenty of ways we can do so that we'll see in the exercises. But just to give you an quick overview, here are the tools you can use : \n",
    "\n",
    "  * PGAdmin to handle PostgreSQL DB \n",
    "  * SQL Workbench to handle MySQL DB \n",
    "  * Spark SQL for Big Data \n",
    "  * Hadoop \n",
    "\n",
    "In this video, we used PGAdmin, if you'd like to download and install it on your computer. Here is the link : [Install PGADMIN](https://www.pgadmin.org/download/)"
   ]
  },
  {
   "cell_type": "markdown",
   "metadata": {
    "colab_type": "text",
    "id": "im8HT2EVqfA6"
   },
   "source": [
    "### Scale your DB Instance 🚀🚀\n",
    "\n",
    "As your application or your company is growing, your DB will store more and more data. Therefore, you will need to be able to scale your DB. Let's see how we can do it : "
   ]
  },
  {
   "cell_type": "code",
   "execution_count": null,
   "metadata": {
    "colab": {
     "base_uri": "https://localhost:8080/",
     "height": 421
    },
    "colab_type": "code",
    "executionInfo": {
     "elapsed": 676,
     "status": "ok",
     "timestamp": 1576402092039,
     "user": {
      "displayName": "Antoine Krajnc",
      "photoUrl": "https://lh3.googleusercontent.com/a-/AAuE7mC4XzNDVGvURzl4T5duDbMr6bUdhkYkDul_37G0OA=s64",
      "userId": "08465960390418158788"
     },
     "user_tz": -60
    },
    "id": "TyZ_YlSeph-P",
    "outputId": "1f5c8231-f3d7-4801-ce4d-f6820b96ff6b"
   },
   "outputs": [
    {
     "data": {
      "image/jpeg": "[encoded data removed]",
      "text/html": [
       "\n",
       "        <iframe\n",
       "            width=\"600\"\n",
       "            height=\"400\"\n",
       "            src=\"https://www.youtube.com/embed/S53U2RPbpLA\"\n",
       "            frameborder=\"0\"\n",
       "            allowfullscreen\n",
       "        ></iframe>\n",
       "        "
      ],
      "text/plain": [
       "<IPython.lib.display.YouTubeVideo at 0x7fdab8747908>"
      ]
     },
     "execution_count": 2,
     "metadata": {
      "tags": []
     },
     "output_type": "execute_result"
    }
   ],
   "source": [
    "from IPython.display import YouTubeVideo\n",
    "YouTubeVideo(\"S53U2RPbpLA\", height=400, width=600)"
   ]
  },
  {
   "cell_type": "markdown",
   "metadata": {
    "colab_type": "text",
    "id": "rjnT3wWXsTQb"
   },
   "source": [
    "🧐🧐 Remember that you can scale two things \n",
    "  * DB Instance - You'll provide more computing power to your DB \n",
    "  * Amazon EBS (Storage) - You'll provide more storage to your DB \n",
    "\n",
    "Whereas the first one might be done with some downtime, the second one will be provided immediately "
   ]
  },
  {
   "cell_type": "markdown",
   "metadata": {
    "colab_type": "text",
    "id": "H6tiYIjst080"
   },
   "source": [
    "### Multi-AZ 🌐🌐\n",
    "\n",
    "As we said earlier, Multi-AZ is a way for you to secure your DB by providing a secondary host on another Availability Zone so that you are sure not having any DB shutdown. Let's see how this works : "
   ]
  },
  {
   "cell_type": "code",
   "execution_count": 1,
   "metadata": {
    "colab": {
     "base_uri": "https://localhost:8080/",
     "height": 421
    },
    "colab_type": "code",
    "executionInfo": {
     "elapsed": 1308,
     "status": "ok",
     "timestamp": 1576402094188,
     "user": {
      "displayName": "Antoine Krajnc",
      "photoUrl": "https://lh3.googleusercontent.com/a-/AAuE7mC4XzNDVGvURzl4T5duDbMr6bUdhkYkDul_37G0OA=s64",
      "userId": "08465960390418158788"
     },
     "user_tz": -60
    },
    "id": "yb4G2wqzq-xh",
    "outputId": "040af5dc-38e8-4d78-cc20-febc63644e70"
   },
   "outputs": [
    {
     "data": {
      "image/jpeg": "[encoded data removed]",
      "text/html": [
       "\n",
       "        <iframe\n",
       "            width=\"600\"\n",
       "            height=\"400\"\n",
       "            src=\"https://www.youtube.com/embed/X3jkQ4AjuM8\"\n",
       "            frameborder=\"0\"\n",
       "            allowfullscreen\n",
       "        ></iframe>\n",
       "        "
      ],
      "text/plain": [
       "<IPython.lib.display.YouTubeVideo at 0x7ff6dc2661f0>"
      ]
     },
     "execution_count": 1,
     "metadata": {},
     "output_type": "execute_result"
    }
   ],
   "source": [
    "from IPython.display import YouTubeVideo\n",
    "YouTubeVideo(\"X3jkQ4AjuM8\", height=400, width=600)"
   ]
  },
  {
   "cell_type": "markdown",
   "metadata": {
    "colab_type": "text",
    "id": "N5Pd7n84Plfe"
   },
   "source": [
    "🧐🧐 To check failovers, we used in our terminal : `host -t ns HOSTNAME`\n",
    "This works only on **MAC**. If you want to do the same on Windows, you need to do `nslookup HOSTNAME`"
   ]
  },
  {
   "cell_type": "markdown",
   "metadata": {
    "colab_type": "text",
    "id": "VfDMvuUkuHGP"
   },
   "source": [
    "### Read Replicas \n",
    "\n",
    "As said in the Jargon section of this course, Read Replicas are a way to quickly use READ queries on your DB. This is especially useful when: \n",
    "\n",
    "  * You have a lot of traffic on your app that needs to read your DB \n",
    "  * You need to do a lot of reporting and therefore read your DB often \n",
    "  * When you primary DB is unavailable and you need to have a quick replacement \n",
    "\n",
    "Let's see how we can add Read Replica to a DB Instance "
   ]
  },
  {
   "cell_type": "code",
   "execution_count": null,
   "metadata": {
    "colab": {
     "base_uri": "https://localhost:8080/",
     "height": 421
    },
    "colab_type": "code",
    "executionInfo": {
     "elapsed": 1470,
     "status": "ok",
     "timestamp": 1576402095612,
     "user": {
      "displayName": "Antoine Krajnc",
      "photoUrl": "https://lh3.googleusercontent.com/a-/AAuE7mC4XzNDVGvURzl4T5duDbMr6bUdhkYkDul_37G0OA=s64",
      "userId": "08465960390418158788"
     },
     "user_tz": -60
    },
    "id": "sSO_ZdxiuGcg",
    "outputId": "523d794d-d391-4d4b-da58-b8b8b0e5d458"
   },
   "outputs": [
    {
     "data": {
      "text/html": [
       "\n",
       "        <iframe\n",
       "            width=\"600\"\n",
       "            height=\"400\"\n",
       "            src=\"https://www.youtube.com/embed/WATcKwVyW10\"\n",
       "            frameborder=\"0\"\n",
       "            allowfullscreen\n",
       "        ></iframe>\n",
       "        "
      ],
      "text/plain": [
       "<IPython.lib.display.YouTubeVideo at 0x7fdab87474e0>"
      ]
     },
     "execution_count": 4,
     "metadata": {
      "tags": []
     },
     "output_type": "execute_result"
    }
   ],
   "source": [
    "from IPython.display import YouTubeVideo\n",
    "YouTubeVideo(\"WATcKwVyW10\", height=400, width=600)"
   ]
  },
  {
   "cell_type": "markdown",
   "metadata": {
    "colab_type": "text",
    "id": "RU9iSrbjwfVG"
   },
   "source": [
    "### Backups & Recovery\n",
    "\n",
    "One disaster would be to loose all the data of your DB. To avoid this, we need to do backups. Let's see how we can do that and how we can recover data. "
   ]
  },
  {
   "cell_type": "code",
   "execution_count": null,
   "metadata": {
    "colab": {
     "base_uri": "https://localhost:8080/",
     "height": 421
    },
    "colab_type": "code",
    "executionInfo": {
     "elapsed": 1882,
     "status": "ok",
     "timestamp": 1576402096951,
     "user": {
      "displayName": "Antoine Krajnc",
      "photoUrl": "https://lh3.googleusercontent.com/a-/AAuE7mC4XzNDVGvURzl4T5duDbMr6bUdhkYkDul_37G0OA=s64",
      "userId": "08465960390418158788"
     },
     "user_tz": -60
    },
    "id": "x9TWrwEmvQw2",
    "outputId": "a687c937-a8b1-4fa5-c86e-02fdcb4f56c2"
   },
   "outputs": [
    {
     "data": {
      "text/html": [
       "\n",
       "        <iframe\n",
       "            width=\"600\"\n",
       "            height=\"400\"\n",
       "            src=\"https://www.youtube.com/embed/3il2CHmmEXQ\"\n",
       "            frameborder=\"0\"\n",
       "            allowfullscreen\n",
       "        ></iframe>\n",
       "        "
      ],
      "text/plain": [
       "<IPython.lib.display.YouTubeVideo at 0x7fdab8747748>"
      ]
     },
     "execution_count": 5,
     "metadata": {
      "tags": []
     },
     "output_type": "execute_result"
    }
   ],
   "source": [
    "from IPython.display import YouTubeVideo\n",
    "YouTubeVideo(\"3il2CHmmEXQ\", height=400, width=600)"
   ]
  },
  {
   "cell_type": "markdown",
   "metadata": {
    "colab_type": "text",
    "id": "pAikZ9dTxipI"
   },
   "source": [
    "🧐🧐Your backups are automatically store on an S3 bucket (that isn't available to you). If you need to restore a DB, you will need to re-create a DB instance and give it the same permissions that you provided to your previous. Then you data will be directly uploaded from S3 to your DB  "
   ]
  },
  {
   "cell_type": "markdown",
   "metadata": {
    "colab_type": "text",
    "id": "otABinOSz9XH"
   },
   "source": [
    "## Monitoring RDS 📈📈\n",
    "\n",
    "Finally, once you created a DB Instance, it's pretty useful to know what's going on into it ! \n",
    "\n",
    "As a lot of different AWS products, Monitoring metrics for RDS are created by a service called CloudWatch. \n",
    "\n",
    "Let's see how we can setup some monitoring "
   ]
  },
  {
   "cell_type": "code",
   "execution_count": null,
   "metadata": {
    "colab": {
     "base_uri": "https://localhost:8080/",
     "height": 421
    },
    "colab_type": "code",
    "executionInfo": {
     "elapsed": 1661,
     "status": "ok",
     "timestamp": 1576402098178,
     "user": {
      "displayName": "Antoine Krajnc",
      "photoUrl": "https://lh3.googleusercontent.com/a-/AAuE7mC4XzNDVGvURzl4T5duDbMr6bUdhkYkDul_37G0OA=s64",
      "userId": "08465960390418158788"
     },
     "user_tz": -60
    },
    "id": "Bjc9i204xh53",
    "outputId": "11367c07-ebaa-4c91-8b6d-b3ac74f5554a"
   },
   "outputs": [
    {
     "data": {
      "image/jpeg": "[encoded data removed]",
      "text/html": [
       "\n",
       "        <iframe\n",
       "            width=\"600\"\n",
       "            height=\"400\"\n",
       "            src=\"https://www.youtube.com/embed/kAFCI7Sksl8\"\n",
       "            frameborder=\"0\"\n",
       "            allowfullscreen\n",
       "        ></iframe>\n",
       "        "
      ],
      "text/plain": [
       "<IPython.lib.display.YouTubeVideo at 0x7fdab8747e80>"
      ]
     },
     "execution_count": 6,
     "metadata": {
      "tags": []
     },
     "output_type": "execute_result"
    }
   ],
   "source": [
    "from IPython.display import YouTubeVideo\n",
    "YouTubeVideo(\"kAFCI7Sksl8\", height=400, width=600)"
   ]
  },
  {
   "cell_type": "markdown",
   "metadata": {
    "colab_type": "text",
    "id": "uySSIsMv0ew-"
   },
   "source": [
    "🧐🧐Remember the different metrics you to need to keep an eye on : \n",
    "\n",
    "  * **CPU**: How much calculation power is currently necessary for your DB. Make sure that it's not too high\n",
    "  * **Free Storage Space**: How much space you have left for storage \n",
    "  * **DB Connections**: How many connections there are on your DB \n",
    "  * **Network Traffic**: How much data is being exchanged between client and server\n",
    "  * **IOPS**: For Input/Output operations"
   ]
  },
  {
   "cell_type": "markdown",
   "metadata": {
    "colab_type": "text",
    "id": "XP6U8oK_b_Mt"
   },
   "source": [
    "🚨🚨🚨 We're done with our tutorials. If you followed along, make sure that you delete your resources so that you are not charged additionnal fees 🚨🚨🚨"
   ]
  },
  {
   "cell_type": "markdown",
   "metadata": {
    "colab_type": "text",
    "id": "HqHDZCChKa2i"
   },
   "source": [
    "## Pricing \n",
    "\n",
    "Let's finish this course with pricing tiers so that you have an idea of what it's going to cost you to setup a DB instance.\n",
    "\n",
    "You have 4 pillars that are going to drive your costs : \n",
    "\n",
    "  1. **Instance Types** -- Depending on the instance type and computing power you need, you will be charged more or less \n",
    "  2. **Storage** -- The more storage you need, the more it's going to cost \n",
    "  3. **Backup** -- If you're setup Multi AZ or backups, it will cost you more money \n",
    "  4. **Data Transfer** -- The more data you transfer, the more it's going to cost "
   ]
  },
  {
   "cell_type": "markdown",
   "metadata": {
    "colab_type": "text",
    "id": "rWCpDpfi3VJl"
   },
   "source": [
    "# Resources 🏦\n",
    "\n",
    "* [Amazon RDS Documentation](https://docs.aws.amazon.com/rds/?id=docs_gateway)\n",
    "\n",
    "* [VPC Network & Management Monitoring](https://aws.amazon.com/answers/networking/vpc-network-management-and-monitoring/)\n",
    "\n",
    "* [Monitoring your instances using cloud watch](https://docs.aws.amazon.com/AWSEC2/latest/UserGuide/using-cloudwatch.html)\n",
    "\n",
    "* [Install PGADMIN](https://www.pgadmin.org/download/)"
   ]
  },
  {
   "cell_type": "code",
   "execution_count": null,
   "metadata": {
    "colab": {},
    "colab_type": "code",
    "id": "q-mfUls60cYO"
   },
   "outputs": [],
   "source": []
  }
 ],
 "metadata": {
  "colab": {
   "collapsed_sections": [],
   "name": "1. Amazon RDS.ipynb",
   "provenance": []
  },
  "kernelspec": {
   "display_name": "Python 3",
   "language": "python",
   "name": "python3"
  },
  "language_info": {
   "codemirror_mode": {
    "name": "ipython",
    "version": 3
   },
   "file_extension": ".py",
   "mimetype": "text/x-python",
   "name": "python",
   "nbconvert_exporter": "python",
   "pygments_lexer": "ipython3",
   "version": "3.8.6"
  }
 },
 "nbformat": 4,
 "nbformat_minor": 4
}
