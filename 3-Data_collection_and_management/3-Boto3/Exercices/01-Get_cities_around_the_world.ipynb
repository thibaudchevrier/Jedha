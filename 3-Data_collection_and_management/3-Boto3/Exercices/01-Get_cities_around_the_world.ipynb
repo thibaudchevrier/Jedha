{
 "cells": [
  {
   "cell_type": "markdown",
   "metadata": {
    "colab_type": "text",
    "id": "hxVLQcfegi2z"
   },
   "source": [
    "# Get Cities of The World Quality of Life Data\n",
    "\n",
    "In this exercise, we will try to get scoring information about the quality of life for several cities around the world. 🌍\n",
    "\n",
    "For this exercise, we will be using the following API:\n",
    "\n",
    "- <a href=\"https://developers.teleport.org/api/getting_started/\" target=\"_blank\">Teleport</a>\n",
    "\n",
    "We will also need to use a website called RandomList.com that will give us a random cities around the world to get a scoring. \n",
    "\n",
    "Then we will store the data we got into an S3 Bucket! \n",
    "\n",
    "Quite a project, right? 🥵\n",
    "\n",
    "🥰🥰 You'll learn a lot during this exercise 🥰🥰 \n",
    "\n",
    "So let's go 💪💪💪"
   ]
  },
  {
   "cell_type": "markdown",
   "metadata": {
    "colab_type": "text",
    "id": "aj9WjfGxICJI"
   },
   "source": [
    "## Part 1: Get data for 1 City \n",
    "\n",
    "To simplify this exercise, let's start by trying to scrape data for only 1 city: Paris. In another part, we'll try to get scores for 100 different cities.\n",
    "\n",
    "- Import the library called `requests`:"
   ]
  },
  {
   "cell_type": "code",
   "execution_count": 40,
   "metadata": {
    "colab": {},
    "colab_type": "code",
    "id": "UJOVO8rAduG5"
   },
   "outputs": [],
   "source": [
    "import requests\n",
    "import pandas as pd"
   ]
  },
  {
   "cell_type": "markdown",
   "metadata": {
    "colab_type": "text",
    "id": "q6vYEoJfIghv"
   },
   "source": [
    "* Check teleport's API, to find a way to search information on Paris. Especially, we would need its `geonameid`\n",
    "\n",
    "  * Here is the link for the documentation 👉👉👉 [Teleport API](https://developers.teleport.org/api/getting_started/)"
   ]
  },
  {
   "cell_type": "code",
   "execution_count": 41,
   "metadata": {
    "colab": {
     "base_uri": "https://localhost:8080/",
     "height": 34
    },
    "colab_type": "code",
    "executionInfo": {
     "elapsed": 514,
     "status": "ok",
     "timestamp": 1576164583531,
     "user": {
      "displayName": "Antoine Krajnc",
      "photoUrl": "https://lh3.googleusercontent.com/a-/AAuE7mC4XzNDVGvURzl4T5duDbMr6bUdhkYkDul_37G0OA=s64",
      "userId": "08465960390418158788"
     },
     "user_tz": -60
    },
    "id": "yJUETL9Fhdzf",
    "outputId": "6252424b-7cec-4931-8a14-c7a42e2b24c5"
   },
   "outputs": [],
   "source": [
    "paris_search = requests.get(\"https://api.teleport.org/api/cities/?search=paris\").json()"
   ]
  },
  {
   "cell_type": "markdown",
   "metadata": {
    "colab_type": "text",
    "id": "cSDu5yUfJJRq"
   },
   "source": [
    "ℹ️ℹ️You should get the following result ℹ️ℹ️"
   ]
  },
  {
   "cell_type": "code",
   "execution_count": 42,
   "metadata": {
    "colab": {
     "base_uri": "https://localhost:8080/",
     "height": 1000
    },
    "colab_type": "code",
    "executionInfo": {
     "elapsed": 470,
     "status": "ok",
     "timestamp": 1576164789281,
     "user": {
      "displayName": "Antoine Krajnc",
      "photoUrl": "https://lh3.googleusercontent.com/a-/AAuE7mC4XzNDVGvURzl4T5duDbMr6bUdhkYkDul_37G0OA=s64",
      "userId": "08465960390418158788"
     },
     "user_tz": -60
    },
    "id": "LCckwB39lvPE",
    "outputId": "919402c2-9fdb-49fb-a811-39366a7d0283"
   },
   "outputs": [
    {
     "data": {
      "text/plain": [
       "{'_embedded': {'city:search-results': [{'_links': {'city:item': {'href': 'https://api.teleport.org/api/cities/geonameid:2988507/'}},\n",
       "    'matching_alternate_names': [{'name': 'Paris'},\n",
       "     {'name': 'paris'},\n",
       "     {'name': 'Parisi'}],\n",
       "    'matching_full_name': 'Paris, Île-de-France, France'},\n",
       "   {'_links': {'city:item': {'href': 'https://api.teleport.org/api/cities/geonameid:4717560/'}},\n",
       "    'matching_alternate_names': [{'name': 'Paris'}],\n",
       "    'matching_full_name': 'Paris, Texas, United States'},\n",
       "   {'_links': {'city:item': {'href': 'https://api.teleport.org/api/cities/geonameid:3489854/'}},\n",
       "    'matching_alternate_names': [],\n",
       "    'matching_full_name': 'Kingston, Kingston, Jamaica'},\n",
       "   {'_links': {'city:item': {'href': 'https://api.teleport.org/api/cities/geonameid:966166/'}},\n",
       "    'matching_alternate_names': [{'name': 'Paris'}],\n",
       "    'matching_full_name': 'Parys, Orange Free State, South Africa (Paris)'},\n",
       "   {'_links': {'city:item': {'href': 'https://api.teleport.org/api/cities/geonameid:3489297/'}},\n",
       "    'matching_alternate_names': [],\n",
       "    'matching_full_name': 'New Kingston, St. Andrew, Jamaica'},\n",
       "   {'_links': {'city:item': {'href': 'https://api.teleport.org/api/cities/geonameid:6942553/'}},\n",
       "    'matching_alternate_names': [{'name': 'Paris'}],\n",
       "    'matching_full_name': 'Paris, Ontario, Canada'},\n",
       "   {'_links': {'city:item': {'href': 'https://api.teleport.org/api/cities/geonameid:4647963/'}},\n",
       "    'matching_alternate_names': [{'name': 'Paris'}],\n",
       "    'matching_full_name': 'Paris, Tennessee, United States'},\n",
       "   {'_links': {'city:item': {'href': 'https://api.teleport.org/api/cities/geonameid:4303602/'}},\n",
       "    'matching_alternate_names': [{'name': 'Paris'}],\n",
       "    'matching_full_name': 'Paris, Kentucky, United States'},\n",
       "   {'_links': {'city:item': {'href': 'https://api.teleport.org/api/cities/geonameid:4246659/'}},\n",
       "    'matching_alternate_names': [{'name': 'Paris'}],\n",
       "    'matching_full_name': 'Paris, Illinois, United States'},\n",
       "   {'_links': {'city:item': {'href': 'https://api.teleport.org/api/cities/geonameid:4974617/'}},\n",
       "    'matching_alternate_names': [{'name': 'Paris'},\n",
       "     {'name': 'Paris Hill'},\n",
       "     {'name': 'parisu'}],\n",
       "    'matching_full_name': 'Paris, Maine, United States'},\n",
       "   {'_links': {'city:item': {'href': 'https://api.teleport.org/api/cities/geonameid:8504417/'}},\n",
       "    'matching_alternate_names': [{'name': 'Paris La Defense'}],\n",
       "    'matching_full_name': 'La Defense, Île-de-France, France (Paris La Defense)'},\n",
       "   {'_links': {'city:item': {'href': 'https://api.teleport.org/api/cities/geonameid:1694660/'}},\n",
       "    'matching_alternate_names': [{'name': 'Parista'}],\n",
       "    'matching_full_name': 'Parista, Central Luzon, Philippines'},\n",
       "   {'_links': {'city:item': {'href': 'https://api.teleport.org/api/cities/geonameid:4125402/'}},\n",
       "    'matching_alternate_names': [{'name': 'Paris'}],\n",
       "    'matching_full_name': 'Paris, Arkansas, United States'},\n",
       "   {'_links': {'city:item': {'href': 'https://api.teleport.org/api/cities/geonameid:3488465/'}},\n",
       "    'matching_alternate_names': [],\n",
       "    'matching_full_name': 'Spanish Town, Saint Catherine, Jamaica'},\n",
       "   {'_links': {'city:item': {'href': 'https://api.teleport.org/api/cities/geonameid:3488981/'}},\n",
       "    'matching_alternate_names': [],\n",
       "    'matching_full_name': 'Portmore, Saint Catherine, Jamaica'},\n",
       "   {'_links': {'city:item': {'href': 'https://api.teleport.org/api/cities/geonameid:3489460/'}},\n",
       "    'matching_alternate_names': [],\n",
       "    'matching_full_name': 'Montego Bay, St. James, Jamaica'},\n",
       "   {'_links': {'city:item': {'href': 'https://api.teleport.org/api/cities/geonameid:4225346/'}},\n",
       "    'matching_alternate_names': [{'name': 'Paris'}],\n",
       "    'matching_full_name': 'Swainsboro, Georgia, United States (Paris)'},\n",
       "   {'_links': {'city:item': {'href': 'https://api.teleport.org/api/cities/geonameid:4432542/'}},\n",
       "    'matching_alternate_names': [{'name': 'Paris'}],\n",
       "    'matching_full_name': 'Kosciusko, Mississippi, United States (Paris)'},\n",
       "   {'_links': {'city:item': {'href': 'https://api.teleport.org/api/cities/geonameid:6098747/'}},\n",
       "    'matching_alternate_names': [{'name': 'parisaundo'}],\n",
       "    'matching_full_name': 'Parry Sound, Ontario, Canada (parisaundo)'},\n",
       "   {'_links': {'city:item': {'href': 'https://api.teleport.org/api/cities/geonameid:4402452/'}},\n",
       "    'matching_alternate_names': [{'name': 'Paris'}],\n",
       "    'matching_full_name': 'Paris, Missouri, United States'},\n",
       "   {'_links': {'city:item': {'href': 'https://api.teleport.org/api/cities/geonameid:2999139/'}},\n",
       "    'matching_alternate_names': [{'name': 'Paris-Plage'}],\n",
       "    'matching_full_name': 'Le Touquet-Paris-Plage, Hauts-de-France, France (Paris-Plage)'},\n",
       "   {'_links': {'city:item': {'href': 'https://api.teleport.org/api/cities/geonameid:3489577/'}},\n",
       "    'matching_alternate_names': [],\n",
       "    'matching_full_name': 'Mandeville, Manchester, Jamaica'},\n",
       "   {'_links': {'city:item': {'href': 'https://api.teleport.org/api/cities/geonameid:3489523/'}},\n",
       "    'matching_alternate_names': [],\n",
       "    'matching_full_name': 'May Pen, Clarendon, Jamaica'},\n",
       "   {'_links': {'city:item': {'href': 'https://api.teleport.org/api/cities/geonameid:3489227/'}},\n",
       "    'matching_alternate_names': [],\n",
       "    'matching_full_name': 'Old Harbour, Saint Catherine, Jamaica'},\n",
       "   {'_links': {'city:item': {'href': 'https://api.teleport.org/api/cities/geonameid:5603240/'}},\n",
       "    'matching_alternate_names': [{'name': 'Paris'}],\n",
       "    'matching_full_name': 'Paris, Idaho, United States'}]},\n",
       " '_links': {'curies': [{'href': 'https://developers.teleport.org/api/resources/Location/#!/relations/{rel}/',\n",
       "    'name': 'location',\n",
       "    'templated': True},\n",
       "   {'href': 'https://developers.teleport.org/api/resources/City/#!/relations/{rel}/',\n",
       "    'name': 'city',\n",
       "    'templated': True},\n",
       "   {'href': 'https://developers.teleport.org/api/resources/UrbanArea/#!/relations/{rel}/',\n",
       "    'name': 'ua',\n",
       "    'templated': True},\n",
       "   {'href': 'https://developers.teleport.org/api/resources/Country/#!/relations/{rel}/',\n",
       "    'name': 'country',\n",
       "    'templated': True},\n",
       "   {'href': 'https://developers.teleport.org/api/resources/Admin1Division/#!/relations/{rel}/',\n",
       "    'name': 'a1',\n",
       "    'templated': True},\n",
       "   {'href': 'https://developers.teleport.org/api/resources/Timezone/#!/relations/{rel}/',\n",
       "    'name': 'tz',\n",
       "    'templated': True}],\n",
       "  'self': {'href': 'https://api.teleport.org/api/cities/?search=paris&geohash='}},\n",
       " 'count': 25}"
      ]
     },
     "metadata": {},
     "output_type": "display_data"
    }
   ],
   "source": [
    "display(paris_search)"
   ]
  },
  {
   "cell_type": "markdown",
   "metadata": {
    "colab_type": "text",
    "id": "3GOvxg6AI-kt"
   },
   "source": [
    "* Now that you got the a list of search results, try to isolate Paris' `geonameid`"
   ]
  },
  {
   "cell_type": "code",
   "execution_count": 43,
   "metadata": {
    "colab": {
     "base_uri": "https://localhost:8080/",
     "height": 34
    },
    "colab_type": "code",
    "executionInfo": {
     "elapsed": 527,
     "status": "ok",
     "timestamp": 1576165621157,
     "user": {
      "displayName": "Antoine Krajnc",
      "photoUrl": "https://lh3.googleusercontent.com/a-/AAuE7mC4XzNDVGvURzl4T5duDbMr6bUdhkYkDul_37G0OA=s64",
      "userId": "08465960390418158788"
     },
     "user_tz": -60
    },
    "id": "ovuJoYQxnK_D",
    "outputId": "3847266b-01e8-45fc-f569-14da31ff022a"
   },
   "outputs": [
    {
     "data": {
      "text/plain": [
       "'https://api.teleport.org/api/cities/geonameid:2988507/'"
      ]
     },
     "metadata": {},
     "output_type": "display_data"
    }
   ],
   "source": [
    "def extract_city(json, country):\n",
    "    json = json['_embedded']['city:search-results']\n",
    "    for city in json:\n",
    "        if country.lower() in city['matching_full_name'].lower():\n",
    "            return city[\"_links\"]['city:item']['href']\n",
    "paris_url = extract_city(paris_search, 'France')\n",
    "display(paris_url)"
   ]
  },
  {
   "cell_type": "markdown",
   "metadata": {
    "colab_type": "text",
    "id": "bQsO1QvZJbNj"
   },
   "source": [
    "* Use `requests` to get information about Paris "
   ]
  },
  {
   "cell_type": "code",
   "execution_count": 44,
   "metadata": {
    "colab": {
     "base_uri": "https://localhost:8080/",
     "height": 595
    },
    "colab_type": "code",
    "executionInfo": {
     "elapsed": 454,
     "status": "ok",
     "timestamp": 1576165630383,
     "user": {
      "displayName": "Antoine Krajnc",
      "photoUrl": "https://lh3.googleusercontent.com/a-/AAuE7mC4XzNDVGvURzl4T5duDbMr6bUdhkYkDul_37G0OA=s64",
      "userId": "08465960390418158788"
     },
     "user_tz": -60
    },
    "id": "mFIKzq8Popxm",
    "outputId": "4a0f06dd-ebc9-4b5a-9f65-3d00b43123d9"
   },
   "outputs": [
    {
     "data": {
      "text/plain": [
       "{'_links': {'city:admin1_division': {'href': 'https://api.teleport.org/api/countries/iso_alpha2:FR/admin1_divisions/geonames:11/',\n",
       "   'name': 'Île-de-France'},\n",
       "  'city:alternate-names': {'href': 'https://api.teleport.org/api/cities/geonameid:2988507/alternate_names/'},\n",
       "  'city:country': {'href': 'https://api.teleport.org/api/countries/iso_alpha2:FR/',\n",
       "   'name': 'France'},\n",
       "  'city:timezone': {'href': 'https://api.teleport.org/api/timezones/iana:Europe%2FParis/',\n",
       "   'name': 'Europe/Paris'},\n",
       "  'city:urban_area': {'href': 'https://api.teleport.org/api/urban_areas/slug:paris/',\n",
       "   'name': 'Paris'},\n",
       "  'curies': [{'href': 'https://developers.teleport.org/api/resources/Location/#!/relations/{rel}/',\n",
       "    'name': 'location',\n",
       "    'templated': True},\n",
       "   {'href': 'https://developers.teleport.org/api/resources/City/#!/relations/{rel}/',\n",
       "    'name': 'city',\n",
       "    'templated': True},\n",
       "   {'href': 'https://developers.teleport.org/api/resources/UrbanArea/#!/relations/{rel}/',\n",
       "    'name': 'ua',\n",
       "    'templated': True},\n",
       "   {'href': 'https://developers.teleport.org/api/resources/Country/#!/relations/{rel}/',\n",
       "    'name': 'country',\n",
       "    'templated': True},\n",
       "   {'href': 'https://developers.teleport.org/api/resources/Admin1Division/#!/relations/{rel}/',\n",
       "    'name': 'a1',\n",
       "    'templated': True},\n",
       "   {'href': 'https://developers.teleport.org/api/resources/Timezone/#!/relations/{rel}/',\n",
       "    'name': 'tz',\n",
       "    'templated': True}],\n",
       "  'self': {'href': 'https://api.teleport.org/api/cities/geonameid:2988507/'}},\n",
       " 'full_name': 'Paris, Île-de-France, France',\n",
       " 'geoname_id': 2988507,\n",
       " 'location': {'geohash': 'u09tvmqrep8np02g7x9y',\n",
       "  'latlon': {'latitude': 48.85341, 'longitude': 2.3488}},\n",
       " 'name': 'Paris',\n",
       " 'population': 2138551}"
      ]
     },
     "metadata": {},
     "output_type": "display_data"
    }
   ],
   "source": [
    "paris = requests.get(paris_url).json()\n",
    "display(paris)"
   ]
  },
  {
   "cell_type": "code",
   "execution_count": 45,
   "metadata": {},
   "outputs": [
    {
     "data": {
      "text/plain": [
       "'https://api.teleport.org/api/urban_areas/slug:paris/'"
      ]
     },
     "metadata": {},
     "output_type": "display_data"
    }
   ],
   "source": [
    "paris_ql_url = paris[\"_links\"][\"city:urban_area\"][\"href\"]\n",
    "display(paris_ql_url)"
   ]
  },
  {
   "cell_type": "markdown",
   "metadata": {
    "colab_type": "text",
    "id": "r-n9wjJAJgiZ"
   },
   "source": [
    "* You should now be able to get Paris' quality of life scores "
   ]
  },
  {
   "cell_type": "code",
   "execution_count": 46,
   "metadata": {
    "colab": {
     "base_uri": "https://localhost:8080/",
     "height": 955
    },
    "colab_type": "code",
    "executionInfo": {
     "elapsed": 578,
     "status": "ok",
     "timestamp": 1576165701060,
     "user": {
      "displayName": "Antoine Krajnc",
      "photoUrl": "https://lh3.googleusercontent.com/a-/AAuE7mC4XzNDVGvURzl4T5duDbMr6bUdhkYkDul_37G0OA=s64",
      "userId": "08465960390418158788"
     },
     "user_tz": -60
    },
    "id": "LOCdCGnmxmCl",
    "outputId": "57210ea5-e785-49f8-8490-4ef76d332f6c"
   },
   "outputs": [
    {
     "data": {
      "text/plain": [
       "{'_links': {'curies': [{'href': 'https://developers.teleport.org/api/resources/Location/#!/relations/{rel}/',\n",
       "    'name': 'location',\n",
       "    'templated': True},\n",
       "   {'href': 'https://developers.teleport.org/api/resources/City/#!/relations/{rel}/',\n",
       "    'name': 'city',\n",
       "    'templated': True},\n",
       "   {'href': 'https://developers.teleport.org/api/resources/UrbanArea/#!/relations/{rel}/',\n",
       "    'name': 'ua',\n",
       "    'templated': True},\n",
       "   {'href': 'https://developers.teleport.org/api/resources/Country/#!/relations/{rel}/',\n",
       "    'name': 'country',\n",
       "    'templated': True},\n",
       "   {'href': 'https://developers.teleport.org/api/resources/Admin1Division/#!/relations/{rel}/',\n",
       "    'name': 'a1',\n",
       "    'templated': True},\n",
       "   {'href': 'https://developers.teleport.org/api/resources/Timezone/#!/relations/{rel}/',\n",
       "    'name': 'tz',\n",
       "    'templated': True}],\n",
       "  'self': {'href': 'https://api.teleport.org/api/urban_areas/slug:paris/'},\n",
       "  'ua:admin1-divisions': [{'href': 'https://api.teleport.org/api/countries/iso_alpha2:FR/admin1_divisions/geonames:11/',\n",
       "    'name': 'Île-de-France'},\n",
       "   {'href': 'https://api.teleport.org/api/countries/iso_alpha2:FR/admin1_divisions/geonames:32/',\n",
       "    'name': 'Hauts-de-France'}],\n",
       "  'ua:cities': {'href': 'https://api.teleport.org/api/urban_areas/slug:paris/cities/'},\n",
       "  'ua:continent': {'href': 'https://api.teleport.org/api/continents/geonames:EU/',\n",
       "   'name': 'Europe'},\n",
       "  'ua:countries': [{'href': 'https://api.teleport.org/api/countries/iso_alpha2:FR/',\n",
       "    'name': 'France'}],\n",
       "  'ua:details': {'href': 'https://api.teleport.org/api/urban_areas/slug:paris/details/'},\n",
       "  'ua:identifying-city': {'href': 'https://api.teleport.org/api/cities/geonameid:2988507/',\n",
       "   'name': 'Paris'},\n",
       "  'ua:images': {'href': 'https://api.teleport.org/api/urban_areas/slug:paris/images/'},\n",
       "  'ua:primary-cities': [{'href': 'https://api.teleport.org/api/cities/geonameid:2988507/',\n",
       "    'name': 'Paris'}],\n",
       "  'ua:salaries': {'href': 'https://api.teleport.org/api/urban_areas/slug:paris/salaries/'},\n",
       "  'ua:scores': {'href': 'https://api.teleport.org/api/urban_areas/slug:paris/scores/'}},\n",
       " 'bounding_box': {'latlon': {'east': 2.911,\n",
       "   'north': 49.178,\n",
       "   'south': 48.531,\n",
       "   'west': 1.851}},\n",
       " 'continent': 'Europe',\n",
       " 'full_name': 'Paris, France',\n",
       " 'is_government_partner': False,\n",
       " 'mayor': 'Anne Hidalgo',\n",
       " 'name': 'Paris',\n",
       " 'slug': 'paris',\n",
       " 'teleport_city_url': 'https://teleport.org/cities/paris/',\n",
       " 'ua_id': 'u09tv'}"
      ]
     },
     "metadata": {},
     "output_type": "display_data"
    }
   ],
   "source": [
    "paris_ql = requests.get(paris_ql_url).json()\n",
    "display(paris_ql)"
   ]
  },
  {
   "cell_type": "markdown",
   "metadata": {
    "colab_type": "text",
    "id": "5GstOo4oJnR1"
   },
   "source": [
    "* Use `Pandas` to create a DataFrame where you'll get all the scores for Paris "
   ]
  },
  {
   "cell_type": "code",
   "execution_count": 72,
   "metadata": {},
   "outputs": [
    {
     "data": {
      "text/html": [
       "<div>\n",
       "<style scoped>\n",
       "    .dataframe tbody tr th:only-of-type {\n",
       "        vertical-align: middle;\n",
       "    }\n",
       "\n",
       "    .dataframe tbody tr th {\n",
       "        vertical-align: top;\n",
       "    }\n",
       "\n",
       "    .dataframe thead th {\n",
       "        text-align: right;\n",
       "    }\n",
       "</style>\n",
       "<table border=\"1\" class=\"dataframe\">\n",
       "  <thead>\n",
       "    <tr style=\"text-align: right;\">\n",
       "      <th></th>\n",
       "      <th>color</th>\n",
       "      <th>name</th>\n",
       "      <th>score_out_of_10</th>\n",
       "    </tr>\n",
       "  </thead>\n",
       "  <tbody>\n",
       "    <tr>\n",
       "      <th>0</th>\n",
       "      <td>#f3c32c</td>\n",
       "      <td>Housing</td>\n",
       "      <td>3.5835</td>\n",
       "    </tr>\n",
       "    <tr>\n",
       "      <th>1</th>\n",
       "      <td>#f3d630</td>\n",
       "      <td>Cost of Living</td>\n",
       "      <td>3.6640</td>\n",
       "    </tr>\n",
       "    <tr>\n",
       "      <th>2</th>\n",
       "      <td>#f4eb33</td>\n",
       "      <td>Startups</td>\n",
       "      <td>9.2765</td>\n",
       "    </tr>\n",
       "    <tr>\n",
       "      <th>3</th>\n",
       "      <td>#d2ed31</td>\n",
       "      <td>Venture Capital</td>\n",
       "      <td>7.5130</td>\n",
       "    </tr>\n",
       "    <tr>\n",
       "      <th>4</th>\n",
       "      <td>#7adc29</td>\n",
       "      <td>Travel Connectivity</td>\n",
       "      <td>10.0000</td>\n",
       "    </tr>\n",
       "  </tbody>\n",
       "</table>\n",
       "</div>"
      ],
      "text/plain": [
       "     color                 name  score_out_of_10\n",
       "0  #f3c32c              Housing           3.5835\n",
       "1  #f3d630       Cost of Living           3.6640\n",
       "2  #f4eb33             Startups           9.2765\n",
       "3  #d2ed31      Venture Capital           7.5130\n",
       "4  #7adc29  Travel Connectivity          10.0000"
      ]
     },
     "execution_count": 72,
     "metadata": {},
     "output_type": "execute_result"
    }
   ],
   "source": [
    "scores = requests.get(paris_ql[\"_links\"][\"ua:scores\"][\"href\"]).json()\n",
    "df = pd.DataFrame(scores[\"categories\"])\n",
    "df.head()"
   ]
  },
  {
   "cell_type": "markdown",
   "metadata": {
    "colab_type": "text",
    "id": "dojOEUeYJ3JD"
   },
   "source": [
    "* We now need to upload this DataFrame to S3. Let's first create a Boto3 session \n",
    "  * For the following, refer to the following documentation 👉👉👉 [Boto3](https://boto3.amazonaws.com/v1/documentation/api/latest/reference/services/s3.html)"
   ]
  },
  {
   "cell_type": "code",
   "execution_count": 9,
   "metadata": {},
   "outputs": [
    {
     "name": "stdout",
     "output_type": "stream",
     "text": [
      "Collecting Boto3\n",
      "  Downloading boto3-1.16.43-py2.py3-none-any.whl (130 kB)\n",
      "\u001b[K     |████████████████████████████████| 130 kB 7.9 MB/s eta 0:00:01\n",
      "\u001b[?25hCollecting botocore<1.20.0,>=1.19.43\n",
      "  Downloading botocore-1.19.43-py2.py3-none-any.whl (7.2 MB)\n",
      "\u001b[K     |████████████████████████████████| 7.2 MB 15.5 MB/s eta 0:00:01     |███████▏                        | 1.6 MB 15.5 MB/s eta 0:00:01\n",
      "\u001b[?25hCollecting jmespath<1.0.0,>=0.7.1\n",
      "  Using cached jmespath-0.10.0-py2.py3-none-any.whl (24 kB)\n",
      "Collecting s3transfer<0.4.0,>=0.3.0\n",
      "  Using cached s3transfer-0.3.3-py2.py3-none-any.whl (69 kB)\n",
      "Requirement already satisfied: python-dateutil<3.0.0,>=2.1 in /opt/conda/lib/python3.8/site-packages (from botocore<1.20.0,>=1.19.43->Boto3) (2.8.1)\n",
      "Requirement already satisfied: urllib3<1.27,>=1.25.4; python_version != \"3.4\" in /opt/conda/lib/python3.8/site-packages (from botocore<1.20.0,>=1.19.43->Boto3) (1.25.10)\n",
      "Requirement already satisfied: six>=1.5 in /opt/conda/lib/python3.8/site-packages (from python-dateutil<3.0.0,>=2.1->botocore<1.20.0,>=1.19.43->Boto3) (1.15.0)\n",
      "Installing collected packages: jmespath, botocore, s3transfer, Boto3\n",
      "Successfully installed Boto3-1.16.43 botocore-1.19.43 jmespath-0.10.0 s3transfer-0.3.3\n"
     ]
    }
   ],
   "source": [
    "!pip install Boto3"
   ]
  },
  {
   "cell_type": "code",
   "execution_count": 58,
   "metadata": {
    "colab": {},
    "colab_type": "code",
    "id": "fVnXNqpBx7wT"
   },
   "outputs": [],
   "source": [
    "import boto3"
   ]
  },
  {
   "cell_type": "markdown",
   "metadata": {
    "colab_type": "text",
    "id": "HGVdSWPiKA3K"
   },
   "source": [
    "* Now create a resource session "
   ]
  },
  {
   "cell_type": "code",
   "execution_count": 59,
   "metadata": {
    "colab": {},
    "colab_type": "code",
    "id": "vBXRVTKD0uuf"
   },
   "outputs": [],
   "source": [
    "s3 = boto3.resource(\"s3\")"
   ]
  },
  {
   "cell_type": "markdown",
   "metadata": {
    "colab_type": "text",
    "id": "MgzOgXnVKEa1"
   },
   "source": [
    "* Create a Bucket that you'll call `scoring-cities-in-the-world`"
   ]
  },
  {
   "cell_type": "code",
   "execution_count": 60,
   "metadata": {
    "colab": {},
    "colab_type": "code",
    "id": "L_9qH2LP0zJF"
   },
   "outputs": [
    {
     "data": {
      "text/plain": [
       "s3.Bucket(name='tibo-scoring-cities-in-the-world')"
      ]
     },
     "execution_count": 60,
     "metadata": {},
     "output_type": "execute_result"
    }
   ],
   "source": [
    "s3.create_bucket(Bucket=\"tibo-scoring-cities-in-the-world\")"
   ]
  },
  {
   "cell_type": "markdown",
   "metadata": {
    "colab_type": "text",
    "id": "ik8xbgY1KjEo"
   },
   "source": [
    "* Use `Pandas` to export your DataFrame as a csv file"
   ]
  },
  {
   "cell_type": "code",
   "execution_count": 74,
   "metadata": {
    "colab": {},
    "colab_type": "code",
    "id": "rzw4SThH1XJR"
   },
   "outputs": [],
   "source": [
    "from io import StringIO\n",
    "csv_buffer = StringIO()\n",
    "df.to_csv(csv_buffer, index=False)"
   ]
  },
  {
   "cell_type": "markdown",
   "metadata": {
    "colab_type": "text",
    "id": "ySj6lBOsKow5"
   },
   "source": [
    "* Use `put_object()` function to create an Object within the bucket you just created "
   ]
  },
  {
   "cell_type": "code",
   "execution_count": 75,
   "metadata": {
    "colab": {},
    "colab_type": "code",
    "id": "9VzDwONM2FGT"
   },
   "outputs": [
    {
     "data": {
      "text/plain": [
       "s3.Object(bucket_name='tibo-scoring-cities-in-the-world', key='paris.csv')"
      ]
     },
     "execution_count": 75,
     "metadata": {},
     "output_type": "execute_result"
    }
   ],
   "source": [
    "bucket = s3.Bucket(\"tibo-scoring-cities-in-the-world\")\n",
    "bucket.put_object(Key=\"paris.csv\", Body=csv_buffer.getvalue())"
   ]
  },
  {
   "cell_type": "markdown",
   "metadata": {
    "colab_type": "text",
    "id": "mRTXpA0xKwry"
   },
   "source": [
    "## Get Data For Several Cities \n",
    "\n",
    "😉 Congrats ! 😉 You made it to the second part of the exercise. We now need more data to be able to compare them later. Let's try to find a way to get data for a lot more cities "
   ]
  },
  {
   "cell_type": "markdown",
   "metadata": {
    "colab_type": "text",
    "id": "1lQ_1FlxLijw"
   },
   "source": [
    "* Go on to [this Wikipedia page](https://en.wikipedia.org/wiki/List_of_largest_cities). There you'll find a list of the world's largest cities.\n",
    "  * Use `scrapy` to scrape the city names directly from this page 😎"
   ]
  },
  {
   "cell_type": "markdown",
   "metadata": {},
   "source": [
    "* Read the json file with results from the crawling :"
   ]
  },
  {
   "cell_type": "code",
   "execution_count": 48,
   "metadata": {},
   "outputs": [
    {
     "data": {
      "text/html": [
       "<div>\n",
       "<style scoped>\n",
       "    .dataframe tbody tr th:only-of-type {\n",
       "        vertical-align: middle;\n",
       "    }\n",
       "\n",
       "    .dataframe tbody tr th {\n",
       "        vertical-align: top;\n",
       "    }\n",
       "\n",
       "    .dataframe thead th {\n",
       "        text-align: right;\n",
       "    }\n",
       "</style>\n",
       "<table border=\"1\" class=\"dataframe\">\n",
       "  <thead>\n",
       "    <tr style=\"text-align: right;\">\n",
       "      <th></th>\n",
       "      <th>cities</th>\n",
       "      <th>countries</th>\n",
       "    </tr>\n",
       "  </thead>\n",
       "  <tbody>\n",
       "    <tr>\n",
       "      <th>0</th>\n",
       "      <td>Tokyo</td>\n",
       "      <td>Japan</td>\n",
       "    </tr>\n",
       "    <tr>\n",
       "      <th>1</th>\n",
       "      <td>Delhi</td>\n",
       "      <td>India</td>\n",
       "    </tr>\n",
       "    <tr>\n",
       "      <th>2</th>\n",
       "      <td>Shanghai</td>\n",
       "      <td>China</td>\n",
       "    </tr>\n",
       "    <tr>\n",
       "      <th>3</th>\n",
       "      <td>São Paulo</td>\n",
       "      <td>Brazil</td>\n",
       "    </tr>\n",
       "    <tr>\n",
       "      <th>4</th>\n",
       "      <td>Mexico City</td>\n",
       "      <td>Mexico</td>\n",
       "    </tr>\n",
       "  </tbody>\n",
       "</table>\n",
       "</div>"
      ],
      "text/plain": [
       "        cities countries\n",
       "0        Tokyo     Japan\n",
       "1        Delhi     India\n",
       "2     Shanghai     China\n",
       "3    São Paulo    Brazil\n",
       "4  Mexico City    Mexico"
      ]
     },
     "execution_count": 48,
     "metadata": {},
     "output_type": "execute_result"
    }
   ],
   "source": [
    "cities_df = pd.read_json(\"cities_ranking/cities_ranking.json\")\n",
    "cities_df.head()"
   ]
  },
  {
   "cell_type": "markdown",
   "metadata": {
    "colab_type": "text",
    "id": "ZXoJfW5IM_8M"
   },
   "source": [
    "* Finally, create a loop that will go through each city, search for information and store it to your S3 bucket \n",
    "  * You might get some errors, definitely use the `try: \\ except:` structure \n",
    "  * (It's totally fine if you couldn't get info for all cities) 😌😌"
   ]
  },
  {
   "cell_type": "code",
   "execution_count": 89,
   "metadata": {},
   "outputs": [],
   "source": [
    "def get_city_life_quality(city, country):\n",
    "    city_url = extract_city(requests.get(\"https://api.teleport.org/api/cities/?search=\" + city.lower()).json(), country)\n",
    "    city_dict = requests.get(city_url).json()\n",
    "    city_ql = requests.get(city_dict[\"_links\"][\"city:urban_area\"][\"href\"]).json()\n",
    "    city_score = requests.get(city_ql[\"_links\"][\"ua:scores\"][\"href\"]).json()\n",
    "    csv_buffer = StringIO()\n",
    "    pd.DataFrame(city_score[\"categories\"]).to_csv(csv_buffer, index=False)\n",
    "    bucket = s3.Bucket(\"tibo-scoring-cities-in-the-world\")\n",
    "    bucket.put_object(Key=city.lower().replace(\" \", \"_\").replace(\".\", \"\").replace(\",\", \"\") + \".csv\", Body=csv_buffer.getvalue())"
   ]
  },
  {
   "cell_type": "code",
   "execution_count": 90,
   "metadata": {},
   "outputs": [
    {
     "data": {
      "text/plain": [
       "'Tokyo done!'"
      ]
     },
     "metadata": {},
     "output_type": "display_data"
    },
    {
     "data": {
      "text/plain": [
       "'Delhi done!'"
      ]
     },
     "metadata": {},
     "output_type": "display_data"
    },
    {
     "data": {
      "text/plain": [
       "'Shanghai done!'"
      ]
     },
     "metadata": {},
     "output_type": "display_data"
    },
    {
     "data": {
      "text/plain": [
       "'São Paulo done!'"
      ]
     },
     "metadata": {},
     "output_type": "display_data"
    },
    {
     "data": {
      "text/plain": [
       "'Mexico City done!'"
      ]
     },
     "metadata": {},
     "output_type": "display_data"
    },
    {
     "data": {
      "text/plain": [
       "'Cairo done!'"
      ]
     },
     "metadata": {},
     "output_type": "display_data"
    },
    {
     "data": {
      "text/plain": [
       "'Mumbai done!'"
      ]
     },
     "metadata": {},
     "output_type": "display_data"
    },
    {
     "data": {
      "text/plain": [
       "'Beijing done!'"
      ]
     },
     "metadata": {},
     "output_type": "display_data"
    },
    {
     "data": {
      "text/plain": [
       "\"Couldn't find results for Dhaka\""
      ]
     },
     "metadata": {},
     "output_type": "display_data"
    },
    {
     "data": {
      "text/plain": [
       "'Osaka done!'"
      ]
     },
     "metadata": {},
     "output_type": "display_data"
    },
    {
     "data": {
      "text/plain": [
       "'New York City done!'"
      ]
     },
     "metadata": {},
     "output_type": "display_data"
    },
    {
     "data": {
      "text/plain": [
       "\"Couldn't find results for Karachi\""
      ]
     },
     "metadata": {},
     "output_type": "display_data"
    },
    {
     "data": {
      "text/plain": [
       "'Buenos Aires done!'"
      ]
     },
     "metadata": {},
     "output_type": "display_data"
    },
    {
     "data": {
      "text/plain": [
       "\"Couldn't find results for Chongqing\""
      ]
     },
     "metadata": {},
     "output_type": "display_data"
    },
    {
     "data": {
      "text/plain": [
       "'Istanbul done!'"
      ]
     },
     "metadata": {},
     "output_type": "display_data"
    },
    {
     "data": {
      "text/plain": [
       "\"Couldn't find results for Kolkata\""
      ]
     },
     "metadata": {},
     "output_type": "display_data"
    },
    {
     "data": {
      "text/plain": [
       "'Manila done!'"
      ]
     },
     "metadata": {},
     "output_type": "display_data"
    },
    {
     "data": {
      "text/plain": [
       "'Lagos done!'"
      ]
     },
     "metadata": {},
     "output_type": "display_data"
    },
    {
     "data": {
      "text/plain": [
       "'Rio de Janeiro done!'"
      ]
     },
     "metadata": {},
     "output_type": "display_data"
    },
    {
     "data": {
      "text/plain": [
       "\"Couldn't find results for Tianjin\""
      ]
     },
     "metadata": {},
     "output_type": "display_data"
    },
    {
     "data": {
      "text/plain": [
       "\"Couldn't find results for Kinshasa\""
      ]
     },
     "metadata": {},
     "output_type": "display_data"
    },
    {
     "data": {
      "text/plain": [
       "'Guangzhou done!'"
      ]
     },
     "metadata": {},
     "output_type": "display_data"
    },
    {
     "data": {
      "text/plain": [
       "'Los Angeles done!'"
      ]
     },
     "metadata": {},
     "output_type": "display_data"
    },
    {
     "data": {
      "text/plain": [
       "'Moscow done!'"
      ]
     },
     "metadata": {},
     "output_type": "display_data"
    },
    {
     "data": {
      "text/plain": [
       "'Shenzhen done!'"
      ]
     },
     "metadata": {},
     "output_type": "display_data"
    },
    {
     "data": {
      "text/plain": [
       "\"Couldn't find results for Lahore\""
      ]
     },
     "metadata": {},
     "output_type": "display_data"
    },
    {
     "data": {
      "text/plain": [
       "'Bangalore done!'"
      ]
     },
     "metadata": {},
     "output_type": "display_data"
    },
    {
     "data": {
      "text/plain": [
       "'Paris done!'"
      ]
     },
     "metadata": {},
     "output_type": "display_data"
    },
    {
     "data": {
      "text/plain": [
       "'Bogotá done!'"
      ]
     },
     "metadata": {},
     "output_type": "display_data"
    },
    {
     "data": {
      "text/plain": [
       "'Jakarta done!'"
      ]
     },
     "metadata": {},
     "output_type": "display_data"
    },
    {
     "data": {
      "text/plain": [
       "'Chennai done!'"
      ]
     },
     "metadata": {},
     "output_type": "display_data"
    },
    {
     "data": {
      "text/plain": [
       "'Lima done!'"
      ]
     },
     "metadata": {},
     "output_type": "display_data"
    },
    {
     "data": {
      "text/plain": [
       "'Bangkok done!'"
      ]
     },
     "metadata": {},
     "output_type": "display_data"
    },
    {
     "data": {
      "text/plain": [
       "'Seoul done!'"
      ]
     },
     "metadata": {},
     "output_type": "display_data"
    },
    {
     "data": {
      "text/plain": [
       "\"Couldn't find results for Nagoya\""
      ]
     },
     "metadata": {},
     "output_type": "display_data"
    },
    {
     "data": {
      "text/plain": [
       "'Hyderabad done!'"
      ]
     },
     "metadata": {},
     "output_type": "display_data"
    },
    {
     "data": {
      "text/plain": [
       "'London done!'"
      ]
     },
     "metadata": {},
     "output_type": "display_data"
    },
    {
     "data": {
      "text/plain": [
       "'Tehran done!'"
      ]
     },
     "metadata": {},
     "output_type": "display_data"
    },
    {
     "data": {
      "text/plain": [
       "'Chicago done!'"
      ]
     },
     "metadata": {},
     "output_type": "display_data"
    },
    {
     "data": {
      "text/plain": [
       "\"Couldn't find results for Chengdu\""
      ]
     },
     "metadata": {},
     "output_type": "display_data"
    },
    {
     "data": {
      "text/plain": [
       "\"Couldn't find results for Nanjing\""
      ]
     },
     "metadata": {},
     "output_type": "display_data"
    },
    {
     "data": {
      "text/plain": [
       "\"Couldn't find results for Wuhan\""
      ]
     },
     "metadata": {},
     "output_type": "display_data"
    },
    {
     "data": {
      "text/plain": [
       "'Ho Chi Minh City done!'"
      ]
     },
     "metadata": {},
     "output_type": "display_data"
    },
    {
     "data": {
      "text/plain": [
       "\"Couldn't find results for Luanda\""
      ]
     },
     "metadata": {},
     "output_type": "display_data"
    },
    {
     "data": {
      "text/plain": [
       "\"Couldn't find results for Ahmedabad\""
      ]
     },
     "metadata": {},
     "output_type": "display_data"
    },
    {
     "data": {
      "text/plain": [
       "'Kuala Lumpur done!'"
      ]
     },
     "metadata": {},
     "output_type": "display_data"
    },
    {
     "data": {
      "text/plain": [
       "\"Couldn't find results for Xi'an\""
      ]
     },
     "metadata": {},
     "output_type": "display_data"
    },
    {
     "data": {
      "text/plain": [
       "\"Couldn't find results for Hong Kong\""
      ]
     },
     "metadata": {},
     "output_type": "display_data"
    },
    {
     "data": {
      "text/plain": [
       "'Dongguan done!'"
      ]
     },
     "metadata": {},
     "output_type": "display_data"
    },
    {
     "data": {
      "text/plain": [
       "'Hangzhou done!'"
      ]
     },
     "metadata": {},
     "output_type": "display_data"
    },
    {
     "data": {
      "text/plain": [
       "'Foshan done!'"
      ]
     },
     "metadata": {},
     "output_type": "display_data"
    },
    {
     "data": {
      "text/plain": [
       "\"Couldn't find results for Shenyang\""
      ]
     },
     "metadata": {},
     "output_type": "display_data"
    },
    {
     "data": {
      "text/plain": [
       "'Riyadh done!'"
      ]
     },
     "metadata": {},
     "output_type": "display_data"
    },
    {
     "data": {
      "text/plain": [
       "\"Couldn't find results for Baghdad\""
      ]
     },
     "metadata": {},
     "output_type": "display_data"
    },
    {
     "data": {
      "text/plain": [
       "'Santiago done!'"
      ]
     },
     "metadata": {},
     "output_type": "display_data"
    },
    {
     "data": {
      "text/plain": [
       "\"Couldn't find results for Surat\""
      ]
     },
     "metadata": {},
     "output_type": "display_data"
    },
    {
     "data": {
      "text/plain": [
       "'Madrid done!'"
      ]
     },
     "metadata": {},
     "output_type": "display_data"
    },
    {
     "data": {
      "text/plain": [
       "'Suzhou done!'"
      ]
     },
     "metadata": {},
     "output_type": "display_data"
    },
    {
     "data": {
      "text/plain": [
       "\"Couldn't find results for Pune\""
      ]
     },
     "metadata": {},
     "output_type": "display_data"
    },
    {
     "data": {
      "text/plain": [
       "\"Couldn't find results for Harbin\""
      ]
     },
     "metadata": {},
     "output_type": "display_data"
    },
    {
     "data": {
      "text/plain": [
       "'Houston done!'"
      ]
     },
     "metadata": {},
     "output_type": "display_data"
    },
    {
     "data": {
      "text/plain": [
       "'Dallas done!'"
      ]
     },
     "metadata": {},
     "output_type": "display_data"
    },
    {
     "data": {
      "text/plain": [
       "'Toronto done!'"
      ]
     },
     "metadata": {},
     "output_type": "display_data"
    },
    {
     "data": {
      "text/plain": [
       "'Dar es Salaam done!'"
      ]
     },
     "metadata": {},
     "output_type": "display_data"
    },
    {
     "data": {
      "text/plain": [
       "'Miami done!'"
      ]
     },
     "metadata": {},
     "output_type": "display_data"
    },
    {
     "data": {
      "text/plain": [
       "\"Couldn't find results for Belo Horizonte\""
      ]
     },
     "metadata": {},
     "output_type": "display_data"
    },
    {
     "data": {
      "text/plain": [
       "'Singapore done!'"
      ]
     },
     "metadata": {},
     "output_type": "display_data"
    },
    {
     "data": {
      "text/plain": [
       "'Philadelphia done!'"
      ]
     },
     "metadata": {},
     "output_type": "display_data"
    },
    {
     "data": {
      "text/plain": [
       "'Atlanta done!'"
      ]
     },
     "metadata": {},
     "output_type": "display_data"
    },
    {
     "data": {
      "text/plain": [
       "'Fukuoka done!'"
      ]
     },
     "metadata": {},
     "output_type": "display_data"
    },
    {
     "data": {
      "text/plain": [
       "\"Couldn't find results for Khartoum\""
      ]
     },
     "metadata": {},
     "output_type": "display_data"
    },
    {
     "data": {
      "text/plain": [
       "'Barcelona done!'"
      ]
     },
     "metadata": {},
     "output_type": "display_data"
    },
    {
     "data": {
      "text/plain": [
       "'Johannesburg done!'"
      ]
     },
     "metadata": {},
     "output_type": "display_data"
    },
    {
     "data": {
      "text/plain": [
       "'Saint Petersburg done!'"
      ]
     },
     "metadata": {},
     "output_type": "display_data"
    },
    {
     "data": {
      "text/plain": [
       "\"Couldn't find results for Qingdao\""
      ]
     },
     "metadata": {},
     "output_type": "display_data"
    },
    {
     "data": {
      "text/plain": [
       "\"Couldn't find results for Dalian\""
      ]
     },
     "metadata": {},
     "output_type": "display_data"
    },
    {
     "data": {
      "text/plain": [
       "'Washington, D.C. done!'"
      ]
     },
     "metadata": {},
     "output_type": "display_data"
    },
    {
     "data": {
      "text/plain": [
       "\"Couldn't find results for Yangon\""
      ]
     },
     "metadata": {},
     "output_type": "display_data"
    },
    {
     "data": {
      "text/plain": [
       "\"Couldn't find results for Alexandria\""
      ]
     },
     "metadata": {},
     "output_type": "display_data"
    },
    {
     "data": {
      "text/plain": [
       "\"Couldn't find results for Jinan\""
      ]
     },
     "metadata": {},
     "output_type": "display_data"
    },
    {
     "data": {
      "text/plain": [
       "'Guadalajara done!'"
      ]
     },
     "metadata": {},
     "output_type": "display_data"
    }
   ],
   "source": [
    "bucket.objects.all().delete()\n",
    "for index, row in cities_df.iterrows():\n",
    "    try:\n",
    "        get_city_life_quality(row[\"cities\"], row[\"countries\"])\n",
    "        display(row[\"cities\"] + \" done!\")\n",
    "    except:\n",
    "        display(\"Couldn't find results for \" + row[\"cities\"])"
   ]
  },
  {
   "cell_type": "markdown",
   "metadata": {
    "colab_type": "text",
    "id": "VpoUz9Z2NH0G"
   },
   "source": [
    "🎊🎊🎊 Congratulations, You made it to the end of this exercise !! 🎊🎊🎊🎊"
   ]
  },
  {
   "cell_type": "code",
   "execution_count": 91,
   "metadata": {},
   "outputs": [
    {
     "data": {
      "text/plain": [
       "{'ResponseMetadata': {'RequestId': '8CE5785A5E0E7428',\n",
       "  'HostId': 'jU5YkfSpMAPhJjRiKZwZTZoQzFU4FXqjYMHcvEF2SyhYkKUzu7M1IHCp46s1BITx/pc+2VirG+U=',\n",
       "  'HTTPStatusCode': 204,\n",
       "  'HTTPHeaders': {'x-amz-id-2': 'jU5YkfSpMAPhJjRiKZwZTZoQzFU4FXqjYMHcvEF2SyhYkKUzu7M1IHCp46s1BITx/pc+2VirG+U=',\n",
       "   'x-amz-request-id': '8CE5785A5E0E7428',\n",
       "   'date': 'Sun, 27 Dec 2020 19:28:12 GMT',\n",
       "   'server': 'AmazonS3'},\n",
       "  'RetryAttempts': 0}}"
      ]
     },
     "execution_count": 91,
     "metadata": {},
     "output_type": "execute_result"
    }
   ],
   "source": [
    "bucket.objects.all().delete()\n",
    "bucket.delete()"
   ]
  }
 ],
 "metadata": {
  "colab": {
   "collapsed_sections": [],
   "name": "6b. Solution - Get Cities of The World Quality of Life Data.ipynb",
   "provenance": []
  },
  "kernelspec": {
   "display_name": "Python 3",
   "language": "python",
   "name": "python3"
  },
  "language_info": {
   "codemirror_mode": {
    "name": "ipython",
    "version": 3
   },
   "file_extension": ".py",
   "mimetype": "text/x-python",
   "name": "python",
   "nbconvert_exporter": "python",
   "pygments_lexer": "ipython3",
   "version": "3.8.6"
  }
 },
 "nbformat": 4,
 "nbformat_minor": 4
}
