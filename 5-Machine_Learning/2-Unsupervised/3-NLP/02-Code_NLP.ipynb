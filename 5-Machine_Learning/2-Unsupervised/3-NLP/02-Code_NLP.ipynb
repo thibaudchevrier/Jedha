{
 "cells": [
  {
   "cell_type": "markdown",
   "metadata": {},
   "source": [
    "# NLP - Code"
   ]
  },
  {
   "cell_type": "markdown",
   "metadata": {},
   "source": [
    "## What you will learn in this course 🧐🧐\n",
    "\n",
    "You can perform NLP with a lot of different libraries. Among them are <a href=\"https://scikit-learn.org/stable/\" target=\"_blank\">sklearn</a>, <a href=\"https://spacy.io/\" target=\"_blank\">spaCy</a> and <a href=\"https://www.nltk.org/\" target=\"_blank\">NLTK</a>. In this course we will focus on `sklearn` and `spacy`. You will learn: \n",
    "\n",
    "* How to create `doc` object with `spacy`\n",
    "* How to get tokenize `doc` object with `spacy`\n",
    "* How to stem, lemmatize words using `spacy`\n",
    "* Create TF-IDF using `sklearn`"
   ]
  },
  {
   "cell_type": "markdown",
   "metadata": {
    "colab_type": "text",
    "id": "E410wyV3L9tI"
   },
   "source": [
    "## NLP With Spacy 🚀🚀\n",
    "\n",
    "If you are doing NLP, you will need to use a library that will allow you to manage your different preprocessing needs. `Spacy` is an extremely powerful library for this task. \n",
    "\n",
    "To give you some context, this library has been designed to create an end-to-end NLP tool i.e. from data preprocessing to the deployment of an algorithm. \n",
    "\n",
    "For our needs, we will look at how the library works on the preprocessing part. "
   ]
  },
  {
   "cell_type": "code",
   "execution_count": 1,
   "metadata": {},
   "outputs": [],
   "source": [
    "# Install spacy \n",
    "## -q is for \"quiet\". It removes logs \n",
    "!pip install spacy -q"
   ]
  },
  {
   "cell_type": "code",
   "execution_count": 2,
   "metadata": {
    "colab": {
     "base_uri": "https://localhost:8080/",
     "height": 35
    },
    "colab_type": "code",
    "executionInfo": {
     "elapsed": 3153,
     "status": "ok",
     "timestamp": 1582023129137,
     "user": {
      "displayName": "Antoine Krajnc",
      "photoUrl": "https://lh3.googleusercontent.com/a-/AAuE7mC4XzNDVGvURzl4T5duDbMr6bUdhkYkDul_37G0OA=s64",
      "userId": "08465960390418158788"
     },
     "user_tz": -60
    },
    "id": "DPlCOLZJL2wW",
    "outputId": "3120806a-5d56-4bd8-96b4-50065af4c2ef"
   },
   "outputs": [
    {
     "data": {
      "text/plain": [
       "'2.3.4'"
      ]
     },
     "execution_count": 2,
     "metadata": {},
     "output_type": "execute_result"
    }
   ],
   "source": [
    "# Import spacy, if you don't have it --> !pip install spacy \n",
    "import spacy\n",
    "spacy.__version__"
   ]
  },
  {
   "cell_type": "markdown",
   "metadata": {
    "colab_type": "text",
    "id": "yvxD1FqSMEs3"
   },
   "source": [
    "## Import a Language 🗺️🗺️"
   ]
  },
  {
   "cell_type": "markdown",
   "metadata": {
    "colab_type": "text",
    "id": "ft0D5hps7SJS"
   },
   "source": [
    "First of all, to get started in `spacy`, you will need to import a language. Indeed each language has its own specificities. In fact, you won't be able to have universal preprocessing templates. \n",
    "\n",
    "Let's import English specificities. To do so, you will need to first download a `model` which holds everything you need to apply on your preprocessing. "
   ]
  },
  {
   "cell_type": "code",
   "execution_count": 3,
   "metadata": {},
   "outputs": [
    {
     "name": "stdout",
     "output_type": "stream",
     "text": [
      "\u001b[38;5;2m✔ Download and installation successful\u001b[0m\n",
      "You can now load the model via spacy.load('en_core_web_sm')\n"
     ]
    }
   ],
   "source": [
    "# Download model \n",
    "!python -m spacy download en_core_web_sm -q"
   ]
  },
  {
   "cell_type": "markdown",
   "metadata": {},
   "source": [
    "Now you can simply load your model by importing it.   "
   ]
  },
  {
   "cell_type": "code",
   "execution_count": 4,
   "metadata": {
    "colab": {},
    "colab_type": "code",
    "id": "CNxspFY6MBql"
   },
   "outputs": [],
   "source": [
    "# Import English using en_core_web_sm.load()\n",
    "import en_core_web_sm\n",
    "nlp = en_core_web_sm.load()"
   ]
  },
  {
   "cell_type": "markdown",
   "metadata": {},
   "source": [
    "With `spacy`, you have many languages that you can load. Here they are (extracted from <a href=\"https://spacy.io/usage/models\" target=\"_blank\">`spacy`'s documentation</a>): \n",
    "\n",
    "<table class=\"_59fbd182\"><thead><tr class=\"_8a68569b\"><th class=\"_2e8d2972\">Language</th><th class=\"_2e8d2972\">Code</th><th class=\"_2e8d2972\">Language Data</th><th class=\"_2e8d2972\">Models</th></tr></thead><tbody><tr class=\"_8a68569b\"><td class=\"_5c99da9a\">Chinese</td><td class=\"_5c99da9a\"><code class=\"_1d7c6046\">zh</code></td><td class=\"_5c99da9a\"><a href=\"https://github.com/explosion/spaCy/tree/master/spacy/lang/zh\" class=\"_46224d00 _8609c0be caf1ba1d\" target=\"_blank\" rel=\"noopener nofollow noreferrer\"><code class=\"_1d7c6046\">lang/<!-- -->zh</code><svg width=\"16\" height=\"16\" viewBox=\"0 0 20 20\" class=\"_593c1d19 _83454417 _9b93ebc4\" aria-hidden=\"true\"><path d=\"M5.719 14.75c-0.236 0-0.474-0.083-0.664-0.252l-5.060-4.498 5.341-4.748c0.412-0.365 1.044-0.33 1.411 0.083s0.33 1.045-0.083 1.412l-3.659 3.253 3.378 3.002c0.413 0.367 0.45 0.999 0.083 1.412-0.197 0.223-0.472 0.336-0.747 0.336zM14.664 14.748l5.341-4.748-5.060-4.498c-0.413-0.367-1.045-0.33-1.411 0.083s-0.33 1.045 0.083 1.412l3.378 3.003-3.659 3.252c-0.413 0.367-0.45 0.999-0.083 1.412 0.197 0.223 0.472 0.336 0.747 0.336 0.236 0 0.474-0.083 0.664-0.252zM9.986 16.165l2-12c0.091-0.545-0.277-1.060-0.822-1.151-0.547-0.092-1.061 0.277-1.15 0.822l-2 12c-0.091 0.545 0.277 1.060 0.822 1.151 0.056 0.009 0.11 0.013 0.165 0.013 0.48 0 0.904-0.347 0.985-0.835z\"></path></svg></a></td><td class=\"_5c99da9a\"><a class=\"_46224d00\" href=\"/models/zh\">3<!-- --> <!-- -->models</a></td></tr><tr class=\"_8a68569b\"><td class=\"_5c99da9a\">Danish</td><td class=\"_5c99da9a\"><code class=\"_1d7c6046\">da</code></td><td class=\"_5c99da9a\"><a href=\"https://github.com/explosion/spaCy/tree/master/spacy/lang/da\" class=\"_46224d00 _8609c0be caf1ba1d\" target=\"_blank\" rel=\"noopener nofollow noreferrer\"><code class=\"_1d7c6046\">lang/<!-- -->da</code><svg width=\"16\" height=\"16\" viewBox=\"0 0 20 20\" class=\"_593c1d19 _83454417 _9b93ebc4\" aria-hidden=\"true\"><path d=\"M5.719 14.75c-0.236 0-0.474-0.083-0.664-0.252l-5.060-4.498 5.341-4.748c0.412-0.365 1.044-0.33 1.411 0.083s0.33 1.045-0.083 1.412l-3.659 3.253 3.378 3.002c0.413 0.367 0.45 0.999 0.083 1.412-0.197 0.223-0.472 0.336-0.747 0.336zM14.664 14.748l5.341-4.748-5.060-4.498c-0.413-0.367-1.045-0.33-1.411 0.083s-0.33 1.045 0.083 1.412l3.378 3.003-3.659 3.252c-0.413 0.367-0.45 0.999-0.083 1.412 0.197 0.223 0.472 0.336 0.747 0.336 0.236 0 0.474-0.083 0.664-0.252zM9.986 16.165l2-12c0.091-0.545-0.277-1.060-0.822-1.151-0.547-0.092-1.061 0.277-1.15 0.822l-2 12c-0.091 0.545 0.277 1.060 0.822 1.151 0.056 0.009 0.11 0.013 0.165 0.013 0.48 0 0.904-0.347 0.985-0.835z\"></path></svg></a></td><td class=\"_5c99da9a\"><a class=\"_46224d00\" href=\"/models/da\">3<!-- --> <!-- -->models</a></td></tr><tr class=\"_8a68569b\"><td class=\"_5c99da9a\">Dutch</td><td class=\"_5c99da9a\"><code class=\"_1d7c6046\">nl</code></td><td class=\"_5c99da9a\"><a href=\"https://github.com/explosion/spaCy/tree/master/spacy/lang/nl\" class=\"_46224d00 _8609c0be caf1ba1d\" target=\"_blank\" rel=\"noopener nofollow noreferrer\"><code class=\"_1d7c6046\">lang/<!-- -->nl</code><svg width=\"16\" height=\"16\" viewBox=\"0 0 20 20\" class=\"_593c1d19 _83454417 _9b93ebc4\" aria-hidden=\"true\"><path d=\"M5.719 14.75c-0.236 0-0.474-0.083-0.664-0.252l-5.060-4.498 5.341-4.748c0.412-0.365 1.044-0.33 1.411 0.083s0.33 1.045-0.083 1.412l-3.659 3.253 3.378 3.002c0.413 0.367 0.45 0.999 0.083 1.412-0.197 0.223-0.472 0.336-0.747 0.336zM14.664 14.748l5.341-4.748-5.060-4.498c-0.413-0.367-1.045-0.33-1.411 0.083s-0.33 1.045 0.083 1.412l3.378 3.003-3.659 3.252c-0.413 0.367-0.45 0.999-0.083 1.412 0.197 0.223 0.472 0.336 0.747 0.336 0.236 0 0.474-0.083 0.664-0.252zM9.986 16.165l2-12c0.091-0.545-0.277-1.060-0.822-1.151-0.547-0.092-1.061 0.277-1.15 0.822l-2 12c-0.091 0.545 0.277 1.060 0.822 1.151 0.056 0.009 0.11 0.013 0.165 0.013 0.48 0 0.904-0.347 0.985-0.835z\"></path></svg></a></td><td class=\"_5c99da9a\"><a class=\"_46224d00\" href=\"/models/nl\">3<!-- --> <!-- -->models</a></td></tr><tr class=\"_8a68569b\"><td class=\"_5c99da9a\">English</td><td class=\"_5c99da9a\"><code class=\"_1d7c6046\">en</code></td><td class=\"_5c99da9a\"><a href=\"https://github.com/explosion/spaCy/tree/master/spacy/lang/en\" class=\"_46224d00 _8609c0be caf1ba1d\" target=\"_blank\" rel=\"noopener nofollow noreferrer\"><code class=\"_1d7c6046\">lang/<!-- -->en</code><svg width=\"16\" height=\"16\" viewBox=\"0 0 20 20\" class=\"_593c1d19 _83454417 _9b93ebc4\" aria-hidden=\"true\"><path d=\"M5.719 14.75c-0.236 0-0.474-0.083-0.664-0.252l-5.060-4.498 5.341-4.748c0.412-0.365 1.044-0.33 1.411 0.083s0.33 1.045-0.083 1.412l-3.659 3.253 3.378 3.002c0.413 0.367 0.45 0.999 0.083 1.412-0.197 0.223-0.472 0.336-0.747 0.336zM14.664 14.748l5.341-4.748-5.060-4.498c-0.413-0.367-1.045-0.33-1.411 0.083s-0.33 1.045 0.083 1.412l3.378 3.003-3.659 3.252c-0.413 0.367-0.45 0.999-0.083 1.412 0.197 0.223 0.472 0.336 0.747 0.336 0.236 0 0.474-0.083 0.664-0.252zM9.986 16.165l2-12c0.091-0.545-0.277-1.060-0.822-1.151-0.547-0.092-1.061 0.277-1.15 0.822l-2 12c-0.091 0.545 0.277 1.060 0.822 1.151 0.056 0.009 0.11 0.013 0.165 0.013 0.48 0 0.904-0.347 0.985-0.835z\"></path></svg></a></td><td class=\"_5c99da9a\"><a class=\"_46224d00\" href=\"/models/en\">3<!-- --> <!-- -->models</a></td></tr><tr class=\"_8a68569b\"><td class=\"_5c99da9a\">French</td><td class=\"_5c99da9a\"><code class=\"_1d7c6046\">fr</code></td><td class=\"_5c99da9a\"><a href=\"https://github.com/explosion/spaCy/tree/master/spacy/lang/fr\" class=\"_46224d00 _8609c0be caf1ba1d\" target=\"_blank\" rel=\"noopener nofollow noreferrer\"><code class=\"_1d7c6046\">lang/<!-- -->fr</code><svg width=\"16\" height=\"16\" viewBox=\"0 0 20 20\" class=\"_593c1d19 _83454417 _9b93ebc4\" aria-hidden=\"true\"><path d=\"M5.719 14.75c-0.236 0-0.474-0.083-0.664-0.252l-5.060-4.498 5.341-4.748c0.412-0.365 1.044-0.33 1.411 0.083s0.33 1.045-0.083 1.412l-3.659 3.253 3.378 3.002c0.413 0.367 0.45 0.999 0.083 1.412-0.197 0.223-0.472 0.336-0.747 0.336zM14.664 14.748l5.341-4.748-5.060-4.498c-0.413-0.367-1.045-0.33-1.411 0.083s-0.33 1.045 0.083 1.412l3.378 3.003-3.659 3.252c-0.413 0.367-0.45 0.999-0.083 1.412 0.197 0.223 0.472 0.336 0.747 0.336 0.236 0 0.474-0.083 0.664-0.252zM9.986 16.165l2-12c0.091-0.545-0.277-1.060-0.822-1.151-0.547-0.092-1.061 0.277-1.15 0.822l-2 12c-0.091 0.545 0.277 1.060 0.822 1.151 0.056 0.009 0.11 0.013 0.165 0.013 0.48 0 0.904-0.347 0.985-0.835z\"></path></svg></a></td><td class=\"_5c99da9a\"><a class=\"_46224d00\" href=\"/models/fr\">3<!-- --> <!-- -->models</a></td></tr><tr class=\"_8a68569b\"><td class=\"_5c99da9a\">German</td><td class=\"_5c99da9a\"><code class=\"_1d7c6046\">de</code></td><td class=\"_5c99da9a\"><a href=\"https://github.com/explosion/spaCy/tree/master/spacy/lang/de\" class=\"_46224d00 _8609c0be caf1ba1d\" target=\"_blank\" rel=\"noopener nofollow noreferrer\"><code class=\"_1d7c6046\">lang/<!-- -->de</code><svg width=\"16\" height=\"16\" viewBox=\"0 0 20 20\" class=\"_593c1d19 _83454417 _9b93ebc4\" aria-hidden=\"true\"><path d=\"M5.719 14.75c-0.236 0-0.474-0.083-0.664-0.252l-5.060-4.498 5.341-4.748c0.412-0.365 1.044-0.33 1.411 0.083s0.33 1.045-0.083 1.412l-3.659 3.253 3.378 3.002c0.413 0.367 0.45 0.999 0.083 1.412-0.197 0.223-0.472 0.336-0.747 0.336zM14.664 14.748l5.341-4.748-5.060-4.498c-0.413-0.367-1.045-0.33-1.411 0.083s-0.33 1.045 0.083 1.412l3.378 3.003-3.659 3.252c-0.413 0.367-0.45 0.999-0.083 1.412 0.197 0.223 0.472 0.336 0.747 0.336 0.236 0 0.474-0.083 0.664-0.252zM9.986 16.165l2-12c0.091-0.545-0.277-1.060-0.822-1.151-0.547-0.092-1.061 0.277-1.15 0.822l-2 12c-0.091 0.545 0.277 1.060 0.822 1.151 0.056 0.009 0.11 0.013 0.165 0.013 0.48 0 0.904-0.347 0.985-0.835z\"></path></svg></a></td><td class=\"_5c99da9a\"><a class=\"_46224d00\" href=\"/models/de\">3<!-- --> <!-- -->models</a></td></tr><tr class=\"_8a68569b\"><td class=\"_5c99da9a\">Greek</td><td class=\"_5c99da9a\"><code class=\"_1d7c6046\">el</code></td><td class=\"_5c99da9a\"><a href=\"https://github.com/explosion/spaCy/tree/master/spacy/lang/el\" class=\"_46224d00 _8609c0be caf1ba1d\" target=\"_blank\" rel=\"noopener nofollow noreferrer\"><code class=\"_1d7c6046\">lang/<!-- -->el</code><svg width=\"16\" height=\"16\" viewBox=\"0 0 20 20\" class=\"_593c1d19 _83454417 _9b93ebc4\" aria-hidden=\"true\"><path d=\"M5.719 14.75c-0.236 0-0.474-0.083-0.664-0.252l-5.060-4.498 5.341-4.748c0.412-0.365 1.044-0.33 1.411 0.083s0.33 1.045-0.083 1.412l-3.659 3.253 3.378 3.002c0.413 0.367 0.45 0.999 0.083 1.412-0.197 0.223-0.472 0.336-0.747 0.336zM14.664 14.748l5.341-4.748-5.060-4.498c-0.413-0.367-1.045-0.33-1.411 0.083s-0.33 1.045 0.083 1.412l3.378 3.003-3.659 3.252c-0.413 0.367-0.45 0.999-0.083 1.412 0.197 0.223 0.472 0.336 0.747 0.336 0.236 0 0.474-0.083 0.664-0.252zM9.986 16.165l2-12c0.091-0.545-0.277-1.060-0.822-1.151-0.547-0.092-1.061 0.277-1.15 0.822l-2 12c-0.091 0.545 0.277 1.060 0.822 1.151 0.056 0.009 0.11 0.013 0.165 0.013 0.48 0 0.904-0.347 0.985-0.835z\"></path></svg></a></td><td class=\"_5c99da9a\"><a class=\"_46224d00\" href=\"/models/el\">3<!-- --> <!-- -->models</a></td></tr><tr class=\"_8a68569b\"><td class=\"_5c99da9a\">Italian</td><td class=\"_5c99da9a\"><code class=\"_1d7c6046\">it</code></td><td class=\"_5c99da9a\"><a href=\"https://github.com/explosion/spaCy/tree/master/spacy/lang/it\" class=\"_46224d00 _8609c0be caf1ba1d\" target=\"_blank\" rel=\"noopener nofollow noreferrer\"><code class=\"_1d7c6046\">lang/<!-- -->it</code><svg width=\"16\" height=\"16\" viewBox=\"0 0 20 20\" class=\"_593c1d19 _83454417 _9b93ebc4\" aria-hidden=\"true\"><path d=\"M5.719 14.75c-0.236 0-0.474-0.083-0.664-0.252l-5.060-4.498 5.341-4.748c0.412-0.365 1.044-0.33 1.411 0.083s0.33 1.045-0.083 1.412l-3.659 3.253 3.378 3.002c0.413 0.367 0.45 0.999 0.083 1.412-0.197 0.223-0.472 0.336-0.747 0.336zM14.664 14.748l5.341-4.748-5.060-4.498c-0.413-0.367-1.045-0.33-1.411 0.083s-0.33 1.045 0.083 1.412l3.378 3.003-3.659 3.252c-0.413 0.367-0.45 0.999-0.083 1.412 0.197 0.223 0.472 0.336 0.747 0.336 0.236 0 0.474-0.083 0.664-0.252zM9.986 16.165l2-12c0.091-0.545-0.277-1.060-0.822-1.151-0.547-0.092-1.061 0.277-1.15 0.822l-2 12c-0.091 0.545 0.277 1.060 0.822 1.151 0.056 0.009 0.11 0.013 0.165 0.013 0.48 0 0.904-0.347 0.985-0.835z\"></path></svg></a></td><td class=\"_5c99da9a\"><a class=\"_46224d00\" href=\"/models/it\">3<!-- --> <!-- -->models</a></td></tr><tr class=\"_8a68569b\"><td class=\"_5c99da9a\">Japanese</td><td class=\"_5c99da9a\"><code class=\"_1d7c6046\">ja</code></td><td class=\"_5c99da9a\"><a href=\"https://github.com/explosion/spaCy/tree/master/spacy/lang/ja\" class=\"_46224d00 _8609c0be caf1ba1d\" target=\"_blank\" rel=\"noopener nofollow noreferrer\"><code class=\"_1d7c6046\">lang/<!-- -->ja</code><svg width=\"16\" height=\"16\" viewBox=\"0 0 20 20\" class=\"_593c1d19 _83454417 _9b93ebc4\" aria-hidden=\"true\"><path d=\"M5.719 14.75c-0.236 0-0.474-0.083-0.664-0.252l-5.060-4.498 5.341-4.748c0.412-0.365 1.044-0.33 1.411 0.083s0.33 1.045-0.083 1.412l-3.659 3.253 3.378 3.002c0.413 0.367 0.45 0.999 0.083 1.412-0.197 0.223-0.472 0.336-0.747 0.336zM14.664 14.748l5.341-4.748-5.060-4.498c-0.413-0.367-1.045-0.33-1.411 0.083s-0.33 1.045 0.083 1.412l3.378 3.003-3.659 3.252c-0.413 0.367-0.45 0.999-0.083 1.412 0.197 0.223 0.472 0.336 0.747 0.336 0.236 0 0.474-0.083 0.664-0.252zM9.986 16.165l2-12c0.091-0.545-0.277-1.060-0.822-1.151-0.547-0.092-1.061 0.277-1.15 0.822l-2 12c-0.091 0.545 0.277 1.060 0.822 1.151 0.056 0.009 0.11 0.013 0.165 0.013 0.48 0 0.904-0.347 0.985-0.835z\"></path></svg></a></td><td class=\"_5c99da9a\"><a class=\"_46224d00\" href=\"/models/ja\">3<!-- --> <!-- -->models</a></td></tr><tr class=\"_8a68569b\"><td class=\"_5c99da9a\">Lithuanian</td><td class=\"_5c99da9a\"><code class=\"_1d7c6046\">lt</code></td><td class=\"_5c99da9a\"><a href=\"https://github.com/explosion/spaCy/tree/master/spacy/lang/lt\" class=\"_46224d00 _8609c0be caf1ba1d\" target=\"_blank\" rel=\"noopener nofollow noreferrer\"><code class=\"_1d7c6046\">lang/<!-- -->lt</code><svg width=\"16\" height=\"16\" viewBox=\"0 0 20 20\" class=\"_593c1d19 _83454417 _9b93ebc4\" aria-hidden=\"true\"><path d=\"M5.719 14.75c-0.236 0-0.474-0.083-0.664-0.252l-5.060-4.498 5.341-4.748c0.412-0.365 1.044-0.33 1.411 0.083s0.33 1.045-0.083 1.412l-3.659 3.253 3.378 3.002c0.413 0.367 0.45 0.999 0.083 1.412-0.197 0.223-0.472 0.336-0.747 0.336zM14.664 14.748l5.341-4.748-5.060-4.498c-0.413-0.367-1.045-0.33-1.411 0.083s-0.33 1.045 0.083 1.412l3.378 3.003-3.659 3.252c-0.413 0.367-0.45 0.999-0.083 1.412 0.197 0.223 0.472 0.336 0.747 0.336 0.236 0 0.474-0.083 0.664-0.252zM9.986 16.165l2-12c0.091-0.545-0.277-1.060-0.822-1.151-0.547-0.092-1.061 0.277-1.15 0.822l-2 12c-0.091 0.545 0.277 1.060 0.822 1.151 0.056 0.009 0.11 0.013 0.165 0.013 0.48 0 0.904-0.347 0.985-0.835z\"></path></svg></a></td><td class=\"_5c99da9a\"><a class=\"_46224d00\" href=\"/models/lt\">3<!-- --> <!-- -->models</a></td></tr><tr class=\"_8a68569b\"><td class=\"_5c99da9a\">Multi-language</td><td class=\"_5c99da9a\"><code class=\"_1d7c6046\">xx</code></td><td class=\"_5c99da9a\"><a href=\"https://github.com/explosion/spaCy/tree/master/spacy/lang/xx\" class=\"_46224d00 _8609c0be caf1ba1d\" target=\"_blank\" rel=\"noopener nofollow noreferrer\"><code class=\"_1d7c6046\">lang/<!-- -->xx</code><svg width=\"16\" height=\"16\" viewBox=\"0 0 20 20\" class=\"_593c1d19 _83454417 _9b93ebc4\" aria-hidden=\"true\"><path d=\"M5.719 14.75c-0.236 0-0.474-0.083-0.664-0.252l-5.060-4.498 5.341-4.748c0.412-0.365 1.044-0.33 1.411 0.083s0.33 1.045-0.083 1.412l-3.659 3.253 3.378 3.002c0.413 0.367 0.45 0.999 0.083 1.412-0.197 0.223-0.472 0.336-0.747 0.336zM14.664 14.748l5.341-4.748-5.060-4.498c-0.413-0.367-1.045-0.33-1.411 0.083s-0.33 1.045 0.083 1.412l3.378 3.003-3.659 3.252c-0.413 0.367-0.45 0.999-0.083 1.412 0.197 0.223 0.472 0.336 0.747 0.336 0.236 0 0.474-0.083 0.664-0.252zM9.986 16.165l2-12c0.091-0.545-0.277-1.060-0.822-1.151-0.547-0.092-1.061 0.277-1.15 0.822l-2 12c-0.091 0.545 0.277 1.060 0.822 1.151 0.056 0.009 0.11 0.013 0.165 0.013 0.48 0 0.904-0.347 0.985-0.835z\"></path></svg></a></td><td class=\"_5c99da9a\"><a class=\"_46224d00\" href=\"/models/xx\">1<!-- --> <!-- -->model</a></td></tr><tr class=\"_8a68569b\"><td class=\"_5c99da9a\">Norwegian Bokmål</td><td class=\"_5c99da9a\"><code class=\"_1d7c6046\">nb</code></td><td class=\"_5c99da9a\"><a href=\"https://github.com/explosion/spaCy/tree/master/spacy/lang/nb\" class=\"_46224d00 _8609c0be caf1ba1d\" target=\"_blank\" rel=\"noopener nofollow noreferrer\"><code class=\"_1d7c6046\">lang/<!-- -->nb</code><svg width=\"16\" height=\"16\" viewBox=\"0 0 20 20\" class=\"_593c1d19 _83454417 _9b93ebc4\" aria-hidden=\"true\"><path d=\"M5.719 14.75c-0.236 0-0.474-0.083-0.664-0.252l-5.060-4.498 5.341-4.748c0.412-0.365 1.044-0.33 1.411 0.083s0.33 1.045-0.083 1.412l-3.659 3.253 3.378 3.002c0.413 0.367 0.45 0.999 0.083 1.412-0.197 0.223-0.472 0.336-0.747 0.336zM14.664 14.748l5.341-4.748-5.060-4.498c-0.413-0.367-1.045-0.33-1.411 0.083s-0.33 1.045 0.083 1.412l3.378 3.003-3.659 3.252c-0.413 0.367-0.45 0.999-0.083 1.412 0.197 0.223 0.472 0.336 0.747 0.336 0.236 0 0.474-0.083 0.664-0.252zM9.986 16.165l2-12c0.091-0.545-0.277-1.060-0.822-1.151-0.547-0.092-1.061 0.277-1.15 0.822l-2 12c-0.091 0.545 0.277 1.060 0.822 1.151 0.056 0.009 0.11 0.013 0.165 0.013 0.48 0 0.904-0.347 0.985-0.835z\"></path></svg></a></td><td class=\"_5c99da9a\"><a class=\"_46224d00\" href=\"/models/nb\">3<!-- --> <!-- -->models</a></td></tr><tr class=\"_8a68569b\"><td class=\"_5c99da9a\">Polish</td><td class=\"_5c99da9a\"><code class=\"_1d7c6046\">pl</code></td><td class=\"_5c99da9a\"><a href=\"https://github.com/explosion/spaCy/tree/master/spacy/lang/pl\" class=\"_46224d00 _8609c0be caf1ba1d\" target=\"_blank\" rel=\"noopener nofollow noreferrer\"><code class=\"_1d7c6046\">lang/<!-- -->pl</code><svg width=\"16\" height=\"16\" viewBox=\"0 0 20 20\" class=\"_593c1d19 _83454417 _9b93ebc4\" aria-hidden=\"true\"><path d=\"M5.719 14.75c-0.236 0-0.474-0.083-0.664-0.252l-5.060-4.498 5.341-4.748c0.412-0.365 1.044-0.33 1.411 0.083s0.33 1.045-0.083 1.412l-3.659 3.253 3.378 3.002c0.413 0.367 0.45 0.999 0.083 1.412-0.197 0.223-0.472 0.336-0.747 0.336zM14.664 14.748l5.341-4.748-5.060-4.498c-0.413-0.367-1.045-0.33-1.411 0.083s-0.33 1.045 0.083 1.412l3.378 3.003-3.659 3.252c-0.413 0.367-0.45 0.999-0.083 1.412 0.197 0.223 0.472 0.336 0.747 0.336 0.236 0 0.474-0.083 0.664-0.252zM9.986 16.165l2-12c0.091-0.545-0.277-1.060-0.822-1.151-0.547-0.092-1.061 0.277-1.15 0.822l-2 12c-0.091 0.545 0.277 1.060 0.822 1.151 0.056 0.009 0.11 0.013 0.165 0.013 0.48 0 0.904-0.347 0.985-0.835z\"></path></svg></a></td><td class=\"_5c99da9a\"><a class=\"_46224d00\" href=\"/models/pl\">3<!-- --> <!-- -->models</a></td></tr><tr class=\"_8a68569b\"><td class=\"_5c99da9a\">Portuguese</td><td class=\"_5c99da9a\"><code class=\"_1d7c6046\">pt</code></td><td class=\"_5c99da9a\"><a href=\"https://github.com/explosion/spaCy/tree/master/spacy/lang/pt\" class=\"_46224d00 _8609c0be caf1ba1d\" target=\"_blank\" rel=\"noopener nofollow noreferrer\"><code class=\"_1d7c6046\">lang/<!-- -->pt</code><svg width=\"16\" height=\"16\" viewBox=\"0 0 20 20\" class=\"_593c1d19 _83454417 _9b93ebc4\" aria-hidden=\"true\"><path d=\"M5.719 14.75c-0.236 0-0.474-0.083-0.664-0.252l-5.060-4.498 5.341-4.748c0.412-0.365 1.044-0.33 1.411 0.083s0.33 1.045-0.083 1.412l-3.659 3.253 3.378 3.002c0.413 0.367 0.45 0.999 0.083 1.412-0.197 0.223-0.472 0.336-0.747 0.336zM14.664 14.748l5.341-4.748-5.060-4.498c-0.413-0.367-1.045-0.33-1.411 0.083s-0.33 1.045 0.083 1.412l3.378 3.003-3.659 3.252c-0.413 0.367-0.45 0.999-0.083 1.412 0.197 0.223 0.472 0.336 0.747 0.336 0.236 0 0.474-0.083 0.664-0.252zM9.986 16.165l2-12c0.091-0.545-0.277-1.060-0.822-1.151-0.547-0.092-1.061 0.277-1.15 0.822l-2 12c-0.091 0.545 0.277 1.060 0.822 1.151 0.056 0.009 0.11 0.013 0.165 0.013 0.48 0 0.904-0.347 0.985-0.835z\"></path></svg></a></td><td class=\"_5c99da9a\"><a class=\"_46224d00\" href=\"/models/pt\">3<!-- --> <!-- -->models</a></td></tr><tr class=\"_8a68569b\"><td class=\"_5c99da9a\">Romanian</td><td class=\"_5c99da9a\"><code class=\"_1d7c6046\">ro</code></td><td class=\"_5c99da9a\"><a href=\"https://github.com/explosion/spaCy/tree/master/spacy/lang/ro\" class=\"_46224d00 _8609c0be caf1ba1d\" target=\"_blank\" rel=\"noopener nofollow noreferrer\"><code class=\"_1d7c6046\">lang/<!-- -->ro</code><svg width=\"16\" height=\"16\" viewBox=\"0 0 20 20\" class=\"_593c1d19 _83454417 _9b93ebc4\" aria-hidden=\"true\"><path d=\"M5.719 14.75c-0.236 0-0.474-0.083-0.664-0.252l-5.060-4.498 5.341-4.748c0.412-0.365 1.044-0.33 1.411 0.083s0.33 1.045-0.083 1.412l-3.659 3.253 3.378 3.002c0.413 0.367 0.45 0.999 0.083 1.412-0.197 0.223-0.472 0.336-0.747 0.336zM14.664 14.748l5.341-4.748-5.060-4.498c-0.413-0.367-1.045-0.33-1.411 0.083s-0.33 1.045 0.083 1.412l3.378 3.003-3.659 3.252c-0.413 0.367-0.45 0.999-0.083 1.412 0.197 0.223 0.472 0.336 0.747 0.336 0.236 0 0.474-0.083 0.664-0.252zM9.986 16.165l2-12c0.091-0.545-0.277-1.060-0.822-1.151-0.547-0.092-1.061 0.277-1.15 0.822l-2 12c-0.091 0.545 0.277 1.060 0.822 1.151 0.056 0.009 0.11 0.013 0.165 0.013 0.48 0 0.904-0.347 0.985-0.835z\"></path></svg></a></td><td class=\"_5c99da9a\"><a class=\"_46224d00\" href=\"/models/ro\">3<!-- --> <!-- -->models</a></td></tr><tr class=\"_8a68569b\"><td class=\"_5c99da9a\">Spanish</td><td class=\"_5c99da9a\"><code class=\"_1d7c6046\">es</code></td><td class=\"_5c99da9a\"><a href=\"https://github.com/explosion/spaCy/tree/master/spacy/lang/es\" class=\"_46224d00 _8609c0be caf1ba1d\" target=\"_blank\" rel=\"noopener nofollow noreferrer\"><code class=\"_1d7c6046\">lang/<!-- -->es</code><svg width=\"16\" height=\"16\" viewBox=\"0 0 20 20\" class=\"_593c1d19 _83454417 _9b93ebc4\" aria-hidden=\"true\"><path d=\"M5.719 14.75c-0.236 0-0.474-0.083-0.664-0.252l-5.060-4.498 5.341-4.748c0.412-0.365 1.044-0.33 1.411 0.083s0.33 1.045-0.083 1.412l-3.659 3.253 3.378 3.002c0.413 0.367 0.45 0.999 0.083 1.412-0.197 0.223-0.472 0.336-0.747 0.336zM14.664 14.748l5.341-4.748-5.060-4.498c-0.413-0.367-1.045-0.33-1.411 0.083s-0.33 1.045 0.083 1.412l3.378 3.003-3.659 3.252c-0.413 0.367-0.45 0.999-0.083 1.412 0.197 0.223 0.472 0.336 0.747 0.336 0.236 0 0.474-0.083 0.664-0.252zM9.986 16.165l2-12c0.091-0.545-0.277-1.060-0.822-1.151-0.547-0.092-1.061 0.277-1.15 0.822l-2 12c-0.091 0.545 0.277 1.060 0.822 1.151 0.056 0.009 0.11 0.013 0.165 0.013 0.48 0 0.904-0.347 0.985-0.835z\"></path></svg></a></td><td class=\"_5c99da9a\"><a class=\"_46224d00\" href=\"/models/es\">3<!-- --> <!-- -->models</a></td></tr><tr class=\"_8a68569b\"><td class=\"_5c99da9a\">Afrikaans</td><td class=\"_5c99da9a\"><code class=\"_1d7c6046\">af</code></td><td class=\"_5c99da9a\"><a href=\"https://github.com/explosion/spaCy/tree/master/spacy/lang/af\" class=\"_46224d00 _8609c0be caf1ba1d\" target=\"_blank\" rel=\"noopener nofollow noreferrer\"><code class=\"_1d7c6046\">lang/<!-- -->af</code><svg width=\"16\" height=\"16\" viewBox=\"0 0 20 20\" class=\"_593c1d19 _83454417 _9b93ebc4\" aria-hidden=\"true\"><path d=\"M5.719 14.75c-0.236 0-0.474-0.083-0.664-0.252l-5.060-4.498 5.341-4.748c0.412-0.365 1.044-0.33 1.411 0.083s0.33 1.045-0.083 1.412l-3.659 3.253 3.378 3.002c0.413 0.367 0.45 0.999 0.083 1.412-0.197 0.223-0.472 0.336-0.747 0.336zM14.664 14.748l5.341-4.748-5.060-4.498c-0.413-0.367-1.045-0.33-1.411 0.083s-0.33 1.045 0.083 1.412l3.378 3.003-3.659 3.252c-0.413 0.367-0.45 0.999-0.083 1.412 0.197 0.223 0.472 0.336 0.747 0.336 0.236 0 0.474-0.083 0.664-0.252zM9.986 16.165l2-12c0.091-0.545-0.277-1.060-0.822-1.151-0.547-0.092-1.061 0.277-1.15 0.822l-2 12c-0.091 0.545 0.277 1.060 0.822 1.151 0.056 0.009 0.11 0.013 0.165 0.013 0.48 0 0.904-0.347 0.985-0.835z\"></path></svg></a></td><td class=\"_5c99da9a\"><em>none yet</em></td></tr><tr class=\"_8a68569b\"><td class=\"_5c99da9a\">Albanian</td><td class=\"_5c99da9a\"><code class=\"_1d7c6046\">sq</code></td><td class=\"_5c99da9a\"><a href=\"https://github.com/explosion/spaCy/tree/master/spacy/lang/sq\" class=\"_46224d00 _8609c0be caf1ba1d\" target=\"_blank\" rel=\"noopener nofollow noreferrer\"><code class=\"_1d7c6046\">lang/<!-- -->sq</code><svg width=\"16\" height=\"16\" viewBox=\"0 0 20 20\" class=\"_593c1d19 _83454417 _9b93ebc4\" aria-hidden=\"true\"><path d=\"M5.719 14.75c-0.236 0-0.474-0.083-0.664-0.252l-5.060-4.498 5.341-4.748c0.412-0.365 1.044-0.33 1.411 0.083s0.33 1.045-0.083 1.412l-3.659 3.253 3.378 3.002c0.413 0.367 0.45 0.999 0.083 1.412-0.197 0.223-0.472 0.336-0.747 0.336zM14.664 14.748l5.341-4.748-5.060-4.498c-0.413-0.367-1.045-0.33-1.411 0.083s-0.33 1.045 0.083 1.412l3.378 3.003-3.659 3.252c-0.413 0.367-0.45 0.999-0.083 1.412 0.197 0.223 0.472 0.336 0.747 0.336 0.236 0 0.474-0.083 0.664-0.252zM9.986 16.165l2-12c0.091-0.545-0.277-1.060-0.822-1.151-0.547-0.092-1.061 0.277-1.15 0.822l-2 12c-0.091 0.545 0.277 1.060 0.822 1.151 0.056 0.009 0.11 0.013 0.165 0.013 0.48 0 0.904-0.347 0.985-0.835z\"></path></svg></a></td><td class=\"_5c99da9a\"><em>none yet</em></td></tr><tr class=\"_8a68569b\"><td class=\"_5c99da9a\">Arabic</td><td class=\"_5c99da9a\"><code class=\"_1d7c6046\">ar</code></td><td class=\"_5c99da9a\"><a href=\"https://github.com/explosion/spaCy/tree/master/spacy/lang/ar\" class=\"_46224d00 _8609c0be caf1ba1d\" target=\"_blank\" rel=\"noopener nofollow noreferrer\"><code class=\"_1d7c6046\">lang/<!-- -->ar</code><svg width=\"16\" height=\"16\" viewBox=\"0 0 20 20\" class=\"_593c1d19 _83454417 _9b93ebc4\" aria-hidden=\"true\"><path d=\"M5.719 14.75c-0.236 0-0.474-0.083-0.664-0.252l-5.060-4.498 5.341-4.748c0.412-0.365 1.044-0.33 1.411 0.083s0.33 1.045-0.083 1.412l-3.659 3.253 3.378 3.002c0.413 0.367 0.45 0.999 0.083 1.412-0.197 0.223-0.472 0.336-0.747 0.336zM14.664 14.748l5.341-4.748-5.060-4.498c-0.413-0.367-1.045-0.33-1.411 0.083s-0.33 1.045 0.083 1.412l3.378 3.003-3.659 3.252c-0.413 0.367-0.45 0.999-0.083 1.412 0.197 0.223 0.472 0.336 0.747 0.336 0.236 0 0.474-0.083 0.664-0.252zM9.986 16.165l2-12c0.091-0.545-0.277-1.060-0.822-1.151-0.547-0.092-1.061 0.277-1.15 0.822l-2 12c-0.091 0.545 0.277 1.060 0.822 1.151 0.056 0.009 0.11 0.013 0.165 0.013 0.48 0 0.904-0.347 0.985-0.835z\"></path></svg></a></td><td class=\"_5c99da9a\"><em>none yet</em></td></tr><tr class=\"_8a68569b\"><td class=\"_5c99da9a\">Armenian</td><td class=\"_5c99da9a\"><code class=\"_1d7c6046\">hy</code></td><td class=\"_5c99da9a\"><a href=\"https://github.com/explosion/spaCy/tree/master/spacy/lang/hy\" class=\"_46224d00 _8609c0be caf1ba1d\" target=\"_blank\" rel=\"noopener nofollow noreferrer\"><code class=\"_1d7c6046\">lang/<!-- -->hy</code><svg width=\"16\" height=\"16\" viewBox=\"0 0 20 20\" class=\"_593c1d19 _83454417 _9b93ebc4\" aria-hidden=\"true\"><path d=\"M5.719 14.75c-0.236 0-0.474-0.083-0.664-0.252l-5.060-4.498 5.341-4.748c0.412-0.365 1.044-0.33 1.411 0.083s0.33 1.045-0.083 1.412l-3.659 3.253 3.378 3.002c0.413 0.367 0.45 0.999 0.083 1.412-0.197 0.223-0.472 0.336-0.747 0.336zM14.664 14.748l5.341-4.748-5.060-4.498c-0.413-0.367-1.045-0.33-1.411 0.083s-0.33 1.045 0.083 1.412l3.378 3.003-3.659 3.252c-0.413 0.367-0.45 0.999-0.083 1.412 0.197 0.223 0.472 0.336 0.747 0.336 0.236 0 0.474-0.083 0.664-0.252zM9.986 16.165l2-12c0.091-0.545-0.277-1.060-0.822-1.151-0.547-0.092-1.061 0.277-1.15 0.822l-2 12c-0.091 0.545 0.277 1.060 0.822 1.151 0.056 0.009 0.11 0.013 0.165 0.013 0.48 0 0.904-0.347 0.985-0.835z\"></path></svg></a></td><td class=\"_5c99da9a\"><em>none yet</em></td></tr><tr class=\"_8a68569b\"><td class=\"_5c99da9a\">Basque</td><td class=\"_5c99da9a\"><code class=\"_1d7c6046\">eu</code></td><td class=\"_5c99da9a\"><a href=\"https://github.com/explosion/spaCy/tree/master/spacy/lang/eu\" class=\"_46224d00 _8609c0be caf1ba1d\" target=\"_blank\" rel=\"noopener nofollow noreferrer\"><code class=\"_1d7c6046\">lang/<!-- -->eu</code><svg width=\"16\" height=\"16\" viewBox=\"0 0 20 20\" class=\"_593c1d19 _83454417 _9b93ebc4\" aria-hidden=\"true\"><path d=\"M5.719 14.75c-0.236 0-0.474-0.083-0.664-0.252l-5.060-4.498 5.341-4.748c0.412-0.365 1.044-0.33 1.411 0.083s0.33 1.045-0.083 1.412l-3.659 3.253 3.378 3.002c0.413 0.367 0.45 0.999 0.083 1.412-0.197 0.223-0.472 0.336-0.747 0.336zM14.664 14.748l5.341-4.748-5.060-4.498c-0.413-0.367-1.045-0.33-1.411 0.083s-0.33 1.045 0.083 1.412l3.378 3.003-3.659 3.252c-0.413 0.367-0.45 0.999-0.083 1.412 0.197 0.223 0.472 0.336 0.747 0.336 0.236 0 0.474-0.083 0.664-0.252zM9.986 16.165l2-12c0.091-0.545-0.277-1.060-0.822-1.151-0.547-0.092-1.061 0.277-1.15 0.822l-2 12c-0.091 0.545 0.277 1.060 0.822 1.151 0.056 0.009 0.11 0.013 0.165 0.013 0.48 0 0.904-0.347 0.985-0.835z\"></path></svg></a></td><td class=\"_5c99da9a\"><em>none yet</em></td></tr><tr class=\"_8a68569b\"><td class=\"_5c99da9a\">Bengali</td><td class=\"_5c99da9a\"><code class=\"_1d7c6046\">bn</code></td><td class=\"_5c99da9a\"><a href=\"https://github.com/explosion/spaCy/tree/master/spacy/lang/bn\" class=\"_46224d00 _8609c0be caf1ba1d\" target=\"_blank\" rel=\"noopener nofollow noreferrer\"><code class=\"_1d7c6046\">lang/<!-- -->bn</code><svg width=\"16\" height=\"16\" viewBox=\"0 0 20 20\" class=\"_593c1d19 _83454417 _9b93ebc4\" aria-hidden=\"true\"><path d=\"M5.719 14.75c-0.236 0-0.474-0.083-0.664-0.252l-5.060-4.498 5.341-4.748c0.412-0.365 1.044-0.33 1.411 0.083s0.33 1.045-0.083 1.412l-3.659 3.253 3.378 3.002c0.413 0.367 0.45 0.999 0.083 1.412-0.197 0.223-0.472 0.336-0.747 0.336zM14.664 14.748l5.341-4.748-5.060-4.498c-0.413-0.367-1.045-0.33-1.411 0.083s-0.33 1.045 0.083 1.412l3.378 3.003-3.659 3.252c-0.413 0.367-0.45 0.999-0.083 1.412 0.197 0.223 0.472 0.336 0.747 0.336 0.236 0 0.474-0.083 0.664-0.252zM9.986 16.165l2-12c0.091-0.545-0.277-1.060-0.822-1.151-0.547-0.092-1.061 0.277-1.15 0.822l-2 12c-0.091 0.545 0.277 1.060 0.822 1.151 0.056 0.009 0.11 0.013 0.165 0.013 0.48 0 0.904-0.347 0.985-0.835z\"></path></svg></a></td><td class=\"_5c99da9a\"><em>none yet</em></td></tr><tr class=\"_8a68569b\"><td class=\"_5c99da9a\">Bulgarian</td><td class=\"_5c99da9a\"><code class=\"_1d7c6046\">bg</code></td><td class=\"_5c99da9a\"><a href=\"https://github.com/explosion/spaCy/tree/master/spacy/lang/bg\" class=\"_46224d00 _8609c0be caf1ba1d\" target=\"_blank\" rel=\"noopener nofollow noreferrer\"><code class=\"_1d7c6046\">lang/<!-- -->bg</code><svg width=\"16\" height=\"16\" viewBox=\"0 0 20 20\" class=\"_593c1d19 _83454417 _9b93ebc4\" aria-hidden=\"true\"><path d=\"M5.719 14.75c-0.236 0-0.474-0.083-0.664-0.252l-5.060-4.498 5.341-4.748c0.412-0.365 1.044-0.33 1.411 0.083s0.33 1.045-0.083 1.412l-3.659 3.253 3.378 3.002c0.413 0.367 0.45 0.999 0.083 1.412-0.197 0.223-0.472 0.336-0.747 0.336zM14.664 14.748l5.341-4.748-5.060-4.498c-0.413-0.367-1.045-0.33-1.411 0.083s-0.33 1.045 0.083 1.412l3.378 3.003-3.659 3.252c-0.413 0.367-0.45 0.999-0.083 1.412 0.197 0.223 0.472 0.336 0.747 0.336 0.236 0 0.474-0.083 0.664-0.252zM9.986 16.165l2-12c0.091-0.545-0.277-1.060-0.822-1.151-0.547-0.092-1.061 0.277-1.15 0.822l-2 12c-0.091 0.545 0.277 1.060 0.822 1.151 0.056 0.009 0.11 0.013 0.165 0.013 0.48 0 0.904-0.347 0.985-0.835z\"></path></svg></a></td><td class=\"_5c99da9a\"><em>none yet</em></td></tr><tr class=\"_8a68569b\"><td class=\"_5c99da9a\">Catalan</td><td class=\"_5c99da9a\"><code class=\"_1d7c6046\">ca</code></td><td class=\"_5c99da9a\"><a href=\"https://github.com/explosion/spaCy/tree/master/spacy/lang/ca\" class=\"_46224d00 _8609c0be caf1ba1d\" target=\"_blank\" rel=\"noopener nofollow noreferrer\"><code class=\"_1d7c6046\">lang/<!-- -->ca</code><svg width=\"16\" height=\"16\" viewBox=\"0 0 20 20\" class=\"_593c1d19 _83454417 _9b93ebc4\" aria-hidden=\"true\"><path d=\"M5.719 14.75c-0.236 0-0.474-0.083-0.664-0.252l-5.060-4.498 5.341-4.748c0.412-0.365 1.044-0.33 1.411 0.083s0.33 1.045-0.083 1.412l-3.659 3.253 3.378 3.002c0.413 0.367 0.45 0.999 0.083 1.412-0.197 0.223-0.472 0.336-0.747 0.336zM14.664 14.748l5.341-4.748-5.060-4.498c-0.413-0.367-1.045-0.33-1.411 0.083s-0.33 1.045 0.083 1.412l3.378 3.003-3.659 3.252c-0.413 0.367-0.45 0.999-0.083 1.412 0.197 0.223 0.472 0.336 0.747 0.336 0.236 0 0.474-0.083 0.664-0.252zM9.986 16.165l2-12c0.091-0.545-0.277-1.060-0.822-1.151-0.547-0.092-1.061 0.277-1.15 0.822l-2 12c-0.091 0.545 0.277 1.060 0.822 1.151 0.056 0.009 0.11 0.013 0.165 0.013 0.48 0 0.904-0.347 0.985-0.835z\"></path></svg></a></td><td class=\"_5c99da9a\"><em>none yet</em></td></tr><tr class=\"_8a68569b\"><td class=\"_5c99da9a\">Croatian</td><td class=\"_5c99da9a\"><code class=\"_1d7c6046\">hr</code></td><td class=\"_5c99da9a\"><a href=\"https://github.com/explosion/spaCy/tree/master/spacy/lang/hr\" class=\"_46224d00 _8609c0be caf1ba1d\" target=\"_blank\" rel=\"noopener nofollow noreferrer\"><code class=\"_1d7c6046\">lang/<!-- -->hr</code><svg width=\"16\" height=\"16\" viewBox=\"0 0 20 20\" class=\"_593c1d19 _83454417 _9b93ebc4\" aria-hidden=\"true\"><path d=\"M5.719 14.75c-0.236 0-0.474-0.083-0.664-0.252l-5.060-4.498 5.341-4.748c0.412-0.365 1.044-0.33 1.411 0.083s0.33 1.045-0.083 1.412l-3.659 3.253 3.378 3.002c0.413 0.367 0.45 0.999 0.083 1.412-0.197 0.223-0.472 0.336-0.747 0.336zM14.664 14.748l5.341-4.748-5.060-4.498c-0.413-0.367-1.045-0.33-1.411 0.083s-0.33 1.045 0.083 1.412l3.378 3.003-3.659 3.252c-0.413 0.367-0.45 0.999-0.083 1.412 0.197 0.223 0.472 0.336 0.747 0.336 0.236 0 0.474-0.083 0.664-0.252zM9.986 16.165l2-12c0.091-0.545-0.277-1.060-0.822-1.151-0.547-0.092-1.061 0.277-1.15 0.822l-2 12c-0.091 0.545 0.277 1.060 0.822 1.151 0.056 0.009 0.11 0.013 0.165 0.013 0.48 0 0.904-0.347 0.985-0.835z\"></path></svg></a></td><td class=\"_5c99da9a\"><em>none yet</em></td></tr><tr class=\"_8a68569b\"><td class=\"_5c99da9a\">Czech</td><td class=\"_5c99da9a\"><code class=\"_1d7c6046\">cs</code></td><td class=\"_5c99da9a\"><a href=\"https://github.com/explosion/spaCy/tree/master/spacy/lang/cs\" class=\"_46224d00 _8609c0be caf1ba1d\" target=\"_blank\" rel=\"noopener nofollow noreferrer\"><code class=\"_1d7c6046\">lang/<!-- -->cs</code><svg width=\"16\" height=\"16\" viewBox=\"0 0 20 20\" class=\"_593c1d19 _83454417 _9b93ebc4\" aria-hidden=\"true\"><path d=\"M5.719 14.75c-0.236 0-0.474-0.083-0.664-0.252l-5.060-4.498 5.341-4.748c0.412-0.365 1.044-0.33 1.411 0.083s0.33 1.045-0.083 1.412l-3.659 3.253 3.378 3.002c0.413 0.367 0.45 0.999 0.083 1.412-0.197 0.223-0.472 0.336-0.747 0.336zM14.664 14.748l5.341-4.748-5.060-4.498c-0.413-0.367-1.045-0.33-1.411 0.083s-0.33 1.045 0.083 1.412l3.378 3.003-3.659 3.252c-0.413 0.367-0.45 0.999-0.083 1.412 0.197 0.223 0.472 0.336 0.747 0.336 0.236 0 0.474-0.083 0.664-0.252zM9.986 16.165l2-12c0.091-0.545-0.277-1.060-0.822-1.151-0.547-0.092-1.061 0.277-1.15 0.822l-2 12c-0.091 0.545 0.277 1.060 0.822 1.151 0.056 0.009 0.11 0.013 0.165 0.013 0.48 0 0.904-0.347 0.985-0.835z\"></path></svg></a></td><td class=\"_5c99da9a\"><em>none yet</em></td></tr><tr class=\"_8a68569b\"><td class=\"_5c99da9a\">Estonian</td><td class=\"_5c99da9a\"><code class=\"_1d7c6046\">et</code></td><td class=\"_5c99da9a\"><a href=\"https://github.com/explosion/spaCy/tree/master/spacy/lang/et\" class=\"_46224d00 _8609c0be caf1ba1d\" target=\"_blank\" rel=\"noopener nofollow noreferrer\"><code class=\"_1d7c6046\">lang/<!-- -->et</code><svg width=\"16\" height=\"16\" viewBox=\"0 0 20 20\" class=\"_593c1d19 _83454417 _9b93ebc4\" aria-hidden=\"true\"><path d=\"M5.719 14.75c-0.236 0-0.474-0.083-0.664-0.252l-5.060-4.498 5.341-4.748c0.412-0.365 1.044-0.33 1.411 0.083s0.33 1.045-0.083 1.412l-3.659 3.253 3.378 3.002c0.413 0.367 0.45 0.999 0.083 1.412-0.197 0.223-0.472 0.336-0.747 0.336zM14.664 14.748l5.341-4.748-5.060-4.498c-0.413-0.367-1.045-0.33-1.411 0.083s-0.33 1.045 0.083 1.412l3.378 3.003-3.659 3.252c-0.413 0.367-0.45 0.999-0.083 1.412 0.197 0.223 0.472 0.336 0.747 0.336 0.236 0 0.474-0.083 0.664-0.252zM9.986 16.165l2-12c0.091-0.545-0.277-1.060-0.822-1.151-0.547-0.092-1.061 0.277-1.15 0.822l-2 12c-0.091 0.545 0.277 1.060 0.822 1.151 0.056 0.009 0.11 0.013 0.165 0.013 0.48 0 0.904-0.347 0.985-0.835z\"></path></svg></a></td><td class=\"_5c99da9a\"><em>none yet</em></td></tr><tr class=\"_8a68569b\"><td class=\"_5c99da9a\">Finnish</td><td class=\"_5c99da9a\"><code class=\"_1d7c6046\">fi</code></td><td class=\"_5c99da9a\"><a href=\"https://github.com/explosion/spaCy/tree/master/spacy/lang/fi\" class=\"_46224d00 _8609c0be caf1ba1d\" target=\"_blank\" rel=\"noopener nofollow noreferrer\"><code class=\"_1d7c6046\">lang/<!-- -->fi</code><svg width=\"16\" height=\"16\" viewBox=\"0 0 20 20\" class=\"_593c1d19 _83454417 _9b93ebc4\" aria-hidden=\"true\"><path d=\"M5.719 14.75c-0.236 0-0.474-0.083-0.664-0.252l-5.060-4.498 5.341-4.748c0.412-0.365 1.044-0.33 1.411 0.083s0.33 1.045-0.083 1.412l-3.659 3.253 3.378 3.002c0.413 0.367 0.45 0.999 0.083 1.412-0.197 0.223-0.472 0.336-0.747 0.336zM14.664 14.748l5.341-4.748-5.060-4.498c-0.413-0.367-1.045-0.33-1.411 0.083s-0.33 1.045 0.083 1.412l3.378 3.003-3.659 3.252c-0.413 0.367-0.45 0.999-0.083 1.412 0.197 0.223 0.472 0.336 0.747 0.336 0.236 0 0.474-0.083 0.664-0.252zM9.986 16.165l2-12c0.091-0.545-0.277-1.060-0.822-1.151-0.547-0.092-1.061 0.277-1.15 0.822l-2 12c-0.091 0.545 0.277 1.060 0.822 1.151 0.056 0.009 0.11 0.013 0.165 0.013 0.48 0 0.904-0.347 0.985-0.835z\"></path></svg></a></td><td class=\"_5c99da9a\"><em>none yet</em></td></tr><tr class=\"_8a68569b\"><td class=\"_5c99da9a\">Gujarati</td><td class=\"_5c99da9a\"><code class=\"_1d7c6046\">gu</code></td><td class=\"_5c99da9a\"><a href=\"https://github.com/explosion/spaCy/tree/master/spacy/lang/gu\" class=\"_46224d00 _8609c0be caf1ba1d\" target=\"_blank\" rel=\"noopener nofollow noreferrer\"><code class=\"_1d7c6046\">lang/<!-- -->gu</code><svg width=\"16\" height=\"16\" viewBox=\"0 0 20 20\" class=\"_593c1d19 _83454417 _9b93ebc4\" aria-hidden=\"true\"><path d=\"M5.719 14.75c-0.236 0-0.474-0.083-0.664-0.252l-5.060-4.498 5.341-4.748c0.412-0.365 1.044-0.33 1.411 0.083s0.33 1.045-0.083 1.412l-3.659 3.253 3.378 3.002c0.413 0.367 0.45 0.999 0.083 1.412-0.197 0.223-0.472 0.336-0.747 0.336zM14.664 14.748l5.341-4.748-5.060-4.498c-0.413-0.367-1.045-0.33-1.411 0.083s-0.33 1.045 0.083 1.412l3.378 3.003-3.659 3.252c-0.413 0.367-0.45 0.999-0.083 1.412 0.197 0.223 0.472 0.336 0.747 0.336 0.236 0 0.474-0.083 0.664-0.252zM9.986 16.165l2-12c0.091-0.545-0.277-1.060-0.822-1.151-0.547-0.092-1.061 0.277-1.15 0.822l-2 12c-0.091 0.545 0.277 1.060 0.822 1.151 0.056 0.009 0.11 0.013 0.165 0.013 0.48 0 0.904-0.347 0.985-0.835z\"></path></svg></a></td><td class=\"_5c99da9a\"><em>none yet</em></td></tr><tr class=\"_8a68569b\"><td class=\"_5c99da9a\">Hebrew</td><td class=\"_5c99da9a\"><code class=\"_1d7c6046\">he</code></td><td class=\"_5c99da9a\"><a href=\"https://github.com/explosion/spaCy/tree/master/spacy/lang/he\" class=\"_46224d00 _8609c0be caf1ba1d\" target=\"_blank\" rel=\"noopener nofollow noreferrer\"><code class=\"_1d7c6046\">lang/<!-- -->he</code><svg width=\"16\" height=\"16\" viewBox=\"0 0 20 20\" class=\"_593c1d19 _83454417 _9b93ebc4\" aria-hidden=\"true\"><path d=\"M5.719 14.75c-0.236 0-0.474-0.083-0.664-0.252l-5.060-4.498 5.341-4.748c0.412-0.365 1.044-0.33 1.411 0.083s0.33 1.045-0.083 1.412l-3.659 3.253 3.378 3.002c0.413 0.367 0.45 0.999 0.083 1.412-0.197 0.223-0.472 0.336-0.747 0.336zM14.664 14.748l5.341-4.748-5.060-4.498c-0.413-0.367-1.045-0.33-1.411 0.083s-0.33 1.045 0.083 1.412l3.378 3.003-3.659 3.252c-0.413 0.367-0.45 0.999-0.083 1.412 0.197 0.223 0.472 0.336 0.747 0.336 0.236 0 0.474-0.083 0.664-0.252zM9.986 16.165l2-12c0.091-0.545-0.277-1.060-0.822-1.151-0.547-0.092-1.061 0.277-1.15 0.822l-2 12c-0.091 0.545 0.277 1.060 0.822 1.151 0.056 0.009 0.11 0.013 0.165 0.013 0.48 0 0.904-0.347 0.985-0.835z\"></path></svg></a></td><td class=\"_5c99da9a\"><em>none yet</em></td></tr><tr class=\"_8a68569b\"><td class=\"_5c99da9a\">Hindi</td><td class=\"_5c99da9a\"><code class=\"_1d7c6046\">hi</code></td><td class=\"_5c99da9a\"><a href=\"https://github.com/explosion/spaCy/tree/master/spacy/lang/hi\" class=\"_46224d00 _8609c0be caf1ba1d\" target=\"_blank\" rel=\"noopener nofollow noreferrer\"><code class=\"_1d7c6046\">lang/<!-- -->hi</code><svg width=\"16\" height=\"16\" viewBox=\"0 0 20 20\" class=\"_593c1d19 _83454417 _9b93ebc4\" aria-hidden=\"true\"><path d=\"M5.719 14.75c-0.236 0-0.474-0.083-0.664-0.252l-5.060-4.498 5.341-4.748c0.412-0.365 1.044-0.33 1.411 0.083s0.33 1.045-0.083 1.412l-3.659 3.253 3.378 3.002c0.413 0.367 0.45 0.999 0.083 1.412-0.197 0.223-0.472 0.336-0.747 0.336zM14.664 14.748l5.341-4.748-5.060-4.498c-0.413-0.367-1.045-0.33-1.411 0.083s-0.33 1.045 0.083 1.412l3.378 3.003-3.659 3.252c-0.413 0.367-0.45 0.999-0.083 1.412 0.197 0.223 0.472 0.336 0.747 0.336 0.236 0 0.474-0.083 0.664-0.252zM9.986 16.165l2-12c0.091-0.545-0.277-1.060-0.822-1.151-0.547-0.092-1.061 0.277-1.15 0.822l-2 12c-0.091 0.545 0.277 1.060 0.822 1.151 0.056 0.009 0.11 0.013 0.165 0.013 0.48 0 0.904-0.347 0.985-0.835z\"></path></svg></a></td><td class=\"_5c99da9a\"><em>none yet</em></td></tr><tr class=\"_8a68569b\"><td class=\"_5c99da9a\">Hungarian</td><td class=\"_5c99da9a\"><code class=\"_1d7c6046\">hu</code></td><td class=\"_5c99da9a\"><a href=\"https://github.com/explosion/spaCy/tree/master/spacy/lang/hu\" class=\"_46224d00 _8609c0be caf1ba1d\" target=\"_blank\" rel=\"noopener nofollow noreferrer\"><code class=\"_1d7c6046\">lang/<!-- -->hu</code><svg width=\"16\" height=\"16\" viewBox=\"0 0 20 20\" class=\"_593c1d19 _83454417 _9b93ebc4\" aria-hidden=\"true\"><path d=\"M5.719 14.75c-0.236 0-0.474-0.083-0.664-0.252l-5.060-4.498 5.341-4.748c0.412-0.365 1.044-0.33 1.411 0.083s0.33 1.045-0.083 1.412l-3.659 3.253 3.378 3.002c0.413 0.367 0.45 0.999 0.083 1.412-0.197 0.223-0.472 0.336-0.747 0.336zM14.664 14.748l5.341-4.748-5.060-4.498c-0.413-0.367-1.045-0.33-1.411 0.083s-0.33 1.045 0.083 1.412l3.378 3.003-3.659 3.252c-0.413 0.367-0.45 0.999-0.083 1.412 0.197 0.223 0.472 0.336 0.747 0.336 0.236 0 0.474-0.083 0.664-0.252zM9.986 16.165l2-12c0.091-0.545-0.277-1.060-0.822-1.151-0.547-0.092-1.061 0.277-1.15 0.822l-2 12c-0.091 0.545 0.277 1.060 0.822 1.151 0.056 0.009 0.11 0.013 0.165 0.013 0.48 0 0.904-0.347 0.985-0.835z\"></path></svg></a></td><td class=\"_5c99da9a\"><em>none yet</em></td></tr><tr class=\"_8a68569b\"><td class=\"_5c99da9a\">Icelandic</td><td class=\"_5c99da9a\"><code class=\"_1d7c6046\">is</code></td><td class=\"_5c99da9a\"><a href=\"https://github.com/explosion/spaCy/tree/master/spacy/lang/is\" class=\"_46224d00 _8609c0be caf1ba1d\" target=\"_blank\" rel=\"noopener nofollow noreferrer\"><code class=\"_1d7c6046\">lang/<!-- -->is</code><svg width=\"16\" height=\"16\" viewBox=\"0 0 20 20\" class=\"_593c1d19 _83454417 _9b93ebc4\" aria-hidden=\"true\"><path d=\"M5.719 14.75c-0.236 0-0.474-0.083-0.664-0.252l-5.060-4.498 5.341-4.748c0.412-0.365 1.044-0.33 1.411 0.083s0.33 1.045-0.083 1.412l-3.659 3.253 3.378 3.002c0.413 0.367 0.45 0.999 0.083 1.412-0.197 0.223-0.472 0.336-0.747 0.336zM14.664 14.748l5.341-4.748-5.060-4.498c-0.413-0.367-1.045-0.33-1.411 0.083s-0.33 1.045 0.083 1.412l3.378 3.003-3.659 3.252c-0.413 0.367-0.45 0.999-0.083 1.412 0.197 0.223 0.472 0.336 0.747 0.336 0.236 0 0.474-0.083 0.664-0.252zM9.986 16.165l2-12c0.091-0.545-0.277-1.060-0.822-1.151-0.547-0.092-1.061 0.277-1.15 0.822l-2 12c-0.091 0.545 0.277 1.060 0.822 1.151 0.056 0.009 0.11 0.013 0.165 0.013 0.48 0 0.904-0.347 0.985-0.835z\"></path></svg></a></td><td class=\"_5c99da9a\"><em>none yet</em></td></tr><tr class=\"_8a68569b\"><td class=\"_5c99da9a\">Indonesian</td><td class=\"_5c99da9a\"><code class=\"_1d7c6046\">id</code></td><td class=\"_5c99da9a\"><a href=\"https://github.com/explosion/spaCy/tree/master/spacy/lang/id\" class=\"_46224d00 _8609c0be caf1ba1d\" target=\"_blank\" rel=\"noopener nofollow noreferrer\"><code class=\"_1d7c6046\">lang/<!-- -->id</code><svg width=\"16\" height=\"16\" viewBox=\"0 0 20 20\" class=\"_593c1d19 _83454417 _9b93ebc4\" aria-hidden=\"true\"><path d=\"M5.719 14.75c-0.236 0-0.474-0.083-0.664-0.252l-5.060-4.498 5.341-4.748c0.412-0.365 1.044-0.33 1.411 0.083s0.33 1.045-0.083 1.412l-3.659 3.253 3.378 3.002c0.413 0.367 0.45 0.999 0.083 1.412-0.197 0.223-0.472 0.336-0.747 0.336zM14.664 14.748l5.341-4.748-5.060-4.498c-0.413-0.367-1.045-0.33-1.411 0.083s-0.33 1.045 0.083 1.412l3.378 3.003-3.659 3.252c-0.413 0.367-0.45 0.999-0.083 1.412 0.197 0.223 0.472 0.336 0.747 0.336 0.236 0 0.474-0.083 0.664-0.252zM9.986 16.165l2-12c0.091-0.545-0.277-1.060-0.822-1.151-0.547-0.092-1.061 0.277-1.15 0.822l-2 12c-0.091 0.545 0.277 1.060 0.822 1.151 0.056 0.009 0.11 0.013 0.165 0.013 0.48 0 0.904-0.347 0.985-0.835z\"></path></svg></a></td><td class=\"_5c99da9a\"><em>none yet</em></td></tr><tr class=\"_8a68569b\"><td class=\"_5c99da9a\">Irish</td><td class=\"_5c99da9a\"><code class=\"_1d7c6046\">ga</code></td><td class=\"_5c99da9a\"><a href=\"https://github.com/explosion/spaCy/tree/master/spacy/lang/ga\" class=\"_46224d00 _8609c0be caf1ba1d\" target=\"_blank\" rel=\"noopener nofollow noreferrer\"><code class=\"_1d7c6046\">lang/<!-- -->ga</code><svg width=\"16\" height=\"16\" viewBox=\"0 0 20 20\" class=\"_593c1d19 _83454417 _9b93ebc4\" aria-hidden=\"true\"><path d=\"M5.719 14.75c-0.236 0-0.474-0.083-0.664-0.252l-5.060-4.498 5.341-4.748c0.412-0.365 1.044-0.33 1.411 0.083s0.33 1.045-0.083 1.412l-3.659 3.253 3.378 3.002c0.413 0.367 0.45 0.999 0.083 1.412-0.197 0.223-0.472 0.336-0.747 0.336zM14.664 14.748l5.341-4.748-5.060-4.498c-0.413-0.367-1.045-0.33-1.411 0.083s-0.33 1.045 0.083 1.412l3.378 3.003-3.659 3.252c-0.413 0.367-0.45 0.999-0.083 1.412 0.197 0.223 0.472 0.336 0.747 0.336 0.236 0 0.474-0.083 0.664-0.252zM9.986 16.165l2-12c0.091-0.545-0.277-1.060-0.822-1.151-0.547-0.092-1.061 0.277-1.15 0.822l-2 12c-0.091 0.545 0.277 1.060 0.822 1.151 0.056 0.009 0.11 0.013 0.165 0.013 0.48 0 0.904-0.347 0.985-0.835z\"></path></svg></a></td><td class=\"_5c99da9a\"><em>none yet</em></td></tr><tr class=\"_8a68569b\"><td class=\"_5c99da9a\">Kannada</td><td class=\"_5c99da9a\"><code class=\"_1d7c6046\">kn</code></td><td class=\"_5c99da9a\"><a href=\"https://github.com/explosion/spaCy/tree/master/spacy/lang/kn\" class=\"_46224d00 _8609c0be caf1ba1d\" target=\"_blank\" rel=\"noopener nofollow noreferrer\"><code class=\"_1d7c6046\">lang/<!-- -->kn</code><svg width=\"16\" height=\"16\" viewBox=\"0 0 20 20\" class=\"_593c1d19 _83454417 _9b93ebc4\" aria-hidden=\"true\"><path d=\"M5.719 14.75c-0.236 0-0.474-0.083-0.664-0.252l-5.060-4.498 5.341-4.748c0.412-0.365 1.044-0.33 1.411 0.083s0.33 1.045-0.083 1.412l-3.659 3.253 3.378 3.002c0.413 0.367 0.45 0.999 0.083 1.412-0.197 0.223-0.472 0.336-0.747 0.336zM14.664 14.748l5.341-4.748-5.060-4.498c-0.413-0.367-1.045-0.33-1.411 0.083s-0.33 1.045 0.083 1.412l3.378 3.003-3.659 3.252c-0.413 0.367-0.45 0.999-0.083 1.412 0.197 0.223 0.472 0.336 0.747 0.336 0.236 0 0.474-0.083 0.664-0.252zM9.986 16.165l2-12c0.091-0.545-0.277-1.060-0.822-1.151-0.547-0.092-1.061 0.277-1.15 0.822l-2 12c-0.091 0.545 0.277 1.060 0.822 1.151 0.056 0.009 0.11 0.013 0.165 0.013 0.48 0 0.904-0.347 0.985-0.835z\"></path></svg></a></td><td class=\"_5c99da9a\"><em>none yet</em></td></tr><tr class=\"_8a68569b\"><td class=\"_5c99da9a\">Korean</td><td class=\"_5c99da9a\"><code class=\"_1d7c6046\">ko</code></td><td class=\"_5c99da9a\"><a href=\"https://github.com/explosion/spaCy/tree/master/spacy/lang/ko\" class=\"_46224d00 _8609c0be caf1ba1d\" target=\"_blank\" rel=\"noopener nofollow noreferrer\"><code class=\"_1d7c6046\">lang/<!-- -->ko</code><svg width=\"16\" height=\"16\" viewBox=\"0 0 20 20\" class=\"_593c1d19 _83454417 _9b93ebc4\" aria-hidden=\"true\"><path d=\"M5.719 14.75c-0.236 0-0.474-0.083-0.664-0.252l-5.060-4.498 5.341-4.748c0.412-0.365 1.044-0.33 1.411 0.083s0.33 1.045-0.083 1.412l-3.659 3.253 3.378 3.002c0.413 0.367 0.45 0.999 0.083 1.412-0.197 0.223-0.472 0.336-0.747 0.336zM14.664 14.748l5.341-4.748-5.060-4.498c-0.413-0.367-1.045-0.33-1.411 0.083s-0.33 1.045 0.083 1.412l3.378 3.003-3.659 3.252c-0.413 0.367-0.45 0.999-0.083 1.412 0.197 0.223 0.472 0.336 0.747 0.336 0.236 0 0.474-0.083 0.664-0.252zM9.986 16.165l2-12c0.091-0.545-0.277-1.060-0.822-1.151-0.547-0.092-1.061 0.277-1.15 0.822l-2 12c-0.091 0.545 0.277 1.060 0.822 1.151 0.056 0.009 0.11 0.013 0.165 0.013 0.48 0 0.904-0.347 0.985-0.835z\"></path></svg></a></td><td class=\"_5c99da9a\"><em>none yet</em></td></tr><tr class=\"_8a68569b\"><td class=\"_5c99da9a\">Latvian</td><td class=\"_5c99da9a\"><code class=\"_1d7c6046\">lv</code></td><td class=\"_5c99da9a\"><a href=\"https://github.com/explosion/spaCy/tree/master/spacy/lang/lv\" class=\"_46224d00 _8609c0be caf1ba1d\" target=\"_blank\" rel=\"noopener nofollow noreferrer\"><code class=\"_1d7c6046\">lang/<!-- -->lv</code><svg width=\"16\" height=\"16\" viewBox=\"0 0 20 20\" class=\"_593c1d19 _83454417 _9b93ebc4\" aria-hidden=\"true\"><path d=\"M5.719 14.75c-0.236 0-0.474-0.083-0.664-0.252l-5.060-4.498 5.341-4.748c0.412-0.365 1.044-0.33 1.411 0.083s0.33 1.045-0.083 1.412l-3.659 3.253 3.378 3.002c0.413 0.367 0.45 0.999 0.083 1.412-0.197 0.223-0.472 0.336-0.747 0.336zM14.664 14.748l5.341-4.748-5.060-4.498c-0.413-0.367-1.045-0.33-1.411 0.083s-0.33 1.045 0.083 1.412l3.378 3.003-3.659 3.252c-0.413 0.367-0.45 0.999-0.083 1.412 0.197 0.223 0.472 0.336 0.747 0.336 0.236 0 0.474-0.083 0.664-0.252zM9.986 16.165l2-12c0.091-0.545-0.277-1.060-0.822-1.151-0.547-0.092-1.061 0.277-1.15 0.822l-2 12c-0.091 0.545 0.277 1.060 0.822 1.151 0.056 0.009 0.11 0.013 0.165 0.013 0.48 0 0.904-0.347 0.985-0.835z\"></path></svg></a></td><td class=\"_5c99da9a\"><em>none yet</em></td></tr><tr class=\"_8a68569b\"><td class=\"_5c99da9a\">Ligurian</td><td class=\"_5c99da9a\"><code class=\"_1d7c6046\">lij</code></td><td class=\"_5c99da9a\"><a href=\"https://github.com/explosion/spaCy/tree/master/spacy/lang/lij\" class=\"_46224d00 _8609c0be caf1ba1d\" target=\"_blank\" rel=\"noopener nofollow noreferrer\"><code class=\"_1d7c6046\">lang/<!-- -->lij</code><svg width=\"16\" height=\"16\" viewBox=\"0 0 20 20\" class=\"_593c1d19 _83454417 _9b93ebc4\" aria-hidden=\"true\"><path d=\"M5.719 14.75c-0.236 0-0.474-0.083-0.664-0.252l-5.060-4.498 5.341-4.748c0.412-0.365 1.044-0.33 1.411 0.083s0.33 1.045-0.083 1.412l-3.659 3.253 3.378 3.002c0.413 0.367 0.45 0.999 0.083 1.412-0.197 0.223-0.472 0.336-0.747 0.336zM14.664 14.748l5.341-4.748-5.060-4.498c-0.413-0.367-1.045-0.33-1.411 0.083s-0.33 1.045 0.083 1.412l3.378 3.003-3.659 3.252c-0.413 0.367-0.45 0.999-0.083 1.412 0.197 0.223 0.472 0.336 0.747 0.336 0.236 0 0.474-0.083 0.664-0.252zM9.986 16.165l2-12c0.091-0.545-0.277-1.060-0.822-1.151-0.547-0.092-1.061 0.277-1.15 0.822l-2 12c-0.091 0.545 0.277 1.060 0.822 1.151 0.056 0.009 0.11 0.013 0.165 0.013 0.48 0 0.904-0.347 0.985-0.835z\"></path></svg></a></td><td class=\"_5c99da9a\"><em>none yet</em></td></tr><tr class=\"_8a68569b\"><td class=\"_5c99da9a\">Luxembourgish</td><td class=\"_5c99da9a\"><code class=\"_1d7c6046\">lb</code></td><td class=\"_5c99da9a\"><a href=\"https://github.com/explosion/spaCy/tree/master/spacy/lang/lb\" class=\"_46224d00 _8609c0be caf1ba1d\" target=\"_blank\" rel=\"noopener nofollow noreferrer\"><code class=\"_1d7c6046\">lang/<!-- -->lb</code><svg width=\"16\" height=\"16\" viewBox=\"0 0 20 20\" class=\"_593c1d19 _83454417 _9b93ebc4\" aria-hidden=\"true\"><path d=\"M5.719 14.75c-0.236 0-0.474-0.083-0.664-0.252l-5.060-4.498 5.341-4.748c0.412-0.365 1.044-0.33 1.411 0.083s0.33 1.045-0.083 1.412l-3.659 3.253 3.378 3.002c0.413 0.367 0.45 0.999 0.083 1.412-0.197 0.223-0.472 0.336-0.747 0.336zM14.664 14.748l5.341-4.748-5.060-4.498c-0.413-0.367-1.045-0.33-1.411 0.083s-0.33 1.045 0.083 1.412l3.378 3.003-3.659 3.252c-0.413 0.367-0.45 0.999-0.083 1.412 0.197 0.223 0.472 0.336 0.747 0.336 0.236 0 0.474-0.083 0.664-0.252zM9.986 16.165l2-12c0.091-0.545-0.277-1.060-0.822-1.151-0.547-0.092-1.061 0.277-1.15 0.822l-2 12c-0.091 0.545 0.277 1.060 0.822 1.151 0.056 0.009 0.11 0.013 0.165 0.013 0.48 0 0.904-0.347 0.985-0.835z\"></path></svg></a></td><td class=\"_5c99da9a\"><em>none yet</em></td></tr><tr class=\"_8a68569b\"><td class=\"_5c99da9a\">Macedonian</td><td class=\"_5c99da9a\"><code class=\"_1d7c6046\">mk</code></td><td class=\"_5c99da9a\"><a href=\"https://github.com/explosion/spaCy/tree/master/spacy/lang/mk\" class=\"_46224d00 _8609c0be caf1ba1d\" target=\"_blank\" rel=\"noopener nofollow noreferrer\"><code class=\"_1d7c6046\">lang/<!-- -->mk</code><svg width=\"16\" height=\"16\" viewBox=\"0 0 20 20\" class=\"_593c1d19 _83454417 _9b93ebc4\" aria-hidden=\"true\"><path d=\"M5.719 14.75c-0.236 0-0.474-0.083-0.664-0.252l-5.060-4.498 5.341-4.748c0.412-0.365 1.044-0.33 1.411 0.083s0.33 1.045-0.083 1.412l-3.659 3.253 3.378 3.002c0.413 0.367 0.45 0.999 0.083 1.412-0.197 0.223-0.472 0.336-0.747 0.336zM14.664 14.748l5.341-4.748-5.060-4.498c-0.413-0.367-1.045-0.33-1.411 0.083s-0.33 1.045 0.083 1.412l3.378 3.003-3.659 3.252c-0.413 0.367-0.45 0.999-0.083 1.412 0.197 0.223 0.472 0.336 0.747 0.336 0.236 0 0.474-0.083 0.664-0.252zM9.986 16.165l2-12c0.091-0.545-0.277-1.060-0.822-1.151-0.547-0.092-1.061 0.277-1.15 0.822l-2 12c-0.091 0.545 0.277 1.060 0.822 1.151 0.056 0.009 0.11 0.013 0.165 0.013 0.48 0 0.904-0.347 0.985-0.835z\"></path></svg></a></td><td class=\"_5c99da9a\"><em>none yet</em></td></tr><tr class=\"_8a68569b\"><td class=\"_5c99da9a\">Malayalam</td><td class=\"_5c99da9a\"><code class=\"_1d7c6046\">ml</code></td><td class=\"_5c99da9a\"><a href=\"https://github.com/explosion/spaCy/tree/master/spacy/lang/ml\" class=\"_46224d00 _8609c0be caf1ba1d\" target=\"_blank\" rel=\"noopener nofollow noreferrer\"><code class=\"_1d7c6046\">lang/<!-- -->ml</code><svg width=\"16\" height=\"16\" viewBox=\"0 0 20 20\" class=\"_593c1d19 _83454417 _9b93ebc4\" aria-hidden=\"true\"><path d=\"M5.719 14.75c-0.236 0-0.474-0.083-0.664-0.252l-5.060-4.498 5.341-4.748c0.412-0.365 1.044-0.33 1.411 0.083s0.33 1.045-0.083 1.412l-3.659 3.253 3.378 3.002c0.413 0.367 0.45 0.999 0.083 1.412-0.197 0.223-0.472 0.336-0.747 0.336zM14.664 14.748l5.341-4.748-5.060-4.498c-0.413-0.367-1.045-0.33-1.411 0.083s-0.33 1.045 0.083 1.412l3.378 3.003-3.659 3.252c-0.413 0.367-0.45 0.999-0.083 1.412 0.197 0.223 0.472 0.336 0.747 0.336 0.236 0 0.474-0.083 0.664-0.252zM9.986 16.165l2-12c0.091-0.545-0.277-1.060-0.822-1.151-0.547-0.092-1.061 0.277-1.15 0.822l-2 12c-0.091 0.545 0.277 1.060 0.822 1.151 0.056 0.009 0.11 0.013 0.165 0.013 0.48 0 0.904-0.347 0.985-0.835z\"></path></svg></a></td><td class=\"_5c99da9a\"><em>none yet</em></td></tr><tr class=\"_8a68569b\"><td class=\"_5c99da9a\">Marathi</td><td class=\"_5c99da9a\"><code class=\"_1d7c6046\">mr</code></td><td class=\"_5c99da9a\"><a href=\"https://github.com/explosion/spaCy/tree/master/spacy/lang/mr\" class=\"_46224d00 _8609c0be caf1ba1d\" target=\"_blank\" rel=\"noopener nofollow noreferrer\"><code class=\"_1d7c6046\">lang/<!-- -->mr</code><svg width=\"16\" height=\"16\" viewBox=\"0 0 20 20\" class=\"_593c1d19 _83454417 _9b93ebc4\" aria-hidden=\"true\"><path d=\"M5.719 14.75c-0.236 0-0.474-0.083-0.664-0.252l-5.060-4.498 5.341-4.748c0.412-0.365 1.044-0.33 1.411 0.083s0.33 1.045-0.083 1.412l-3.659 3.253 3.378 3.002c0.413 0.367 0.45 0.999 0.083 1.412-0.197 0.223-0.472 0.336-0.747 0.336zM14.664 14.748l5.341-4.748-5.060-4.498c-0.413-0.367-1.045-0.33-1.411 0.083s-0.33 1.045 0.083 1.412l3.378 3.003-3.659 3.252c-0.413 0.367-0.45 0.999-0.083 1.412 0.197 0.223 0.472 0.336 0.747 0.336 0.236 0 0.474-0.083 0.664-0.252zM9.986 16.165l2-12c0.091-0.545-0.277-1.060-0.822-1.151-0.547-0.092-1.061 0.277-1.15 0.822l-2 12c-0.091 0.545 0.277 1.060 0.822 1.151 0.056 0.009 0.11 0.013 0.165 0.013 0.48 0 0.904-0.347 0.985-0.835z\"></path></svg></a></td><td class=\"_5c99da9a\"><em>none yet</em></td></tr><tr class=\"_8a68569b\"><td class=\"_5c99da9a\">Nepali</td><td class=\"_5c99da9a\"><code class=\"_1d7c6046\">ne</code></td><td class=\"_5c99da9a\"><a href=\"https://github.com/explosion/spaCy/tree/master/spacy/lang/ne\" class=\"_46224d00 _8609c0be caf1ba1d\" target=\"_blank\" rel=\"noopener nofollow noreferrer\"><code class=\"_1d7c6046\">lang/<!-- -->ne</code><svg width=\"16\" height=\"16\" viewBox=\"0 0 20 20\" class=\"_593c1d19 _83454417 _9b93ebc4\" aria-hidden=\"true\"><path d=\"M5.719 14.75c-0.236 0-0.474-0.083-0.664-0.252l-5.060-4.498 5.341-4.748c0.412-0.365 1.044-0.33 1.411 0.083s0.33 1.045-0.083 1.412l-3.659 3.253 3.378 3.002c0.413 0.367 0.45 0.999 0.083 1.412-0.197 0.223-0.472 0.336-0.747 0.336zM14.664 14.748l5.341-4.748-5.060-4.498c-0.413-0.367-1.045-0.33-1.411 0.083s-0.33 1.045 0.083 1.412l3.378 3.003-3.659 3.252c-0.413 0.367-0.45 0.999-0.083 1.412 0.197 0.223 0.472 0.336 0.747 0.336 0.236 0 0.474-0.083 0.664-0.252zM9.986 16.165l2-12c0.091-0.545-0.277-1.060-0.822-1.151-0.547-0.092-1.061 0.277-1.15 0.822l-2 12c-0.091 0.545 0.277 1.060 0.822 1.151 0.056 0.009 0.11 0.013 0.165 0.013 0.48 0 0.904-0.347 0.985-0.835z\"></path></svg></a></td><td class=\"_5c99da9a\"><em>none yet</em></td></tr><tr class=\"_8a68569b\"><td class=\"_5c99da9a\">Persian</td><td class=\"_5c99da9a\"><code class=\"_1d7c6046\">fa</code></td><td class=\"_5c99da9a\"><a href=\"https://github.com/explosion/spaCy/tree/master/spacy/lang/fa\" class=\"_46224d00 _8609c0be caf1ba1d\" target=\"_blank\" rel=\"noopener nofollow noreferrer\"><code class=\"_1d7c6046\">lang/<!-- -->fa</code><svg width=\"16\" height=\"16\" viewBox=\"0 0 20 20\" class=\"_593c1d19 _83454417 _9b93ebc4\" aria-hidden=\"true\"><path d=\"M5.719 14.75c-0.236 0-0.474-0.083-0.664-0.252l-5.060-4.498 5.341-4.748c0.412-0.365 1.044-0.33 1.411 0.083s0.33 1.045-0.083 1.412l-3.659 3.253 3.378 3.002c0.413 0.367 0.45 0.999 0.083 1.412-0.197 0.223-0.472 0.336-0.747 0.336zM14.664 14.748l5.341-4.748-5.060-4.498c-0.413-0.367-1.045-0.33-1.411 0.083s-0.33 1.045 0.083 1.412l3.378 3.003-3.659 3.252c-0.413 0.367-0.45 0.999-0.083 1.412 0.197 0.223 0.472 0.336 0.747 0.336 0.236 0 0.474-0.083 0.664-0.252zM9.986 16.165l2-12c0.091-0.545-0.277-1.060-0.822-1.151-0.547-0.092-1.061 0.277-1.15 0.822l-2 12c-0.091 0.545 0.277 1.060 0.822 1.151 0.056 0.009 0.11 0.013 0.165 0.013 0.48 0 0.904-0.347 0.985-0.835z\"></path></svg></a></td><td class=\"_5c99da9a\"><em>none yet</em></td></tr><tr class=\"_8a68569b\"><td class=\"_5c99da9a\">Russian</td><td class=\"_5c99da9a\"><code class=\"_1d7c6046\">ru</code></td><td class=\"_5c99da9a\"><a href=\"https://github.com/explosion/spaCy/tree/master/spacy/lang/ru\" class=\"_46224d00 _8609c0be caf1ba1d\" target=\"_blank\" rel=\"noopener nofollow noreferrer\"><code class=\"_1d7c6046\">lang/<!-- -->ru</code><svg width=\"16\" height=\"16\" viewBox=\"0 0 20 20\" class=\"_593c1d19 _83454417 _9b93ebc4\" aria-hidden=\"true\"><path d=\"M5.719 14.75c-0.236 0-0.474-0.083-0.664-0.252l-5.060-4.498 5.341-4.748c0.412-0.365 1.044-0.33 1.411 0.083s0.33 1.045-0.083 1.412l-3.659 3.253 3.378 3.002c0.413 0.367 0.45 0.999 0.083 1.412-0.197 0.223-0.472 0.336-0.747 0.336zM14.664 14.748l5.341-4.748-5.060-4.498c-0.413-0.367-1.045-0.33-1.411 0.083s-0.33 1.045 0.083 1.412l3.378 3.003-3.659 3.252c-0.413 0.367-0.45 0.999-0.083 1.412 0.197 0.223 0.472 0.336 0.747 0.336 0.236 0 0.474-0.083 0.664-0.252zM9.986 16.165l2-12c0.091-0.545-0.277-1.060-0.822-1.151-0.547-0.092-1.061 0.277-1.15 0.822l-2 12c-0.091 0.545 0.277 1.060 0.822 1.151 0.056 0.009 0.11 0.013 0.165 0.013 0.48 0 0.904-0.347 0.985-0.835z\"></path></svg></a></td><td class=\"_5c99da9a\"><em>none yet</em></td></tr><tr class=\"_8a68569b\"><td class=\"_5c99da9a\">Serbian</td><td class=\"_5c99da9a\"><code class=\"_1d7c6046\">sr</code></td><td class=\"_5c99da9a\"><a href=\"https://github.com/explosion/spaCy/tree/master/spacy/lang/sr\" class=\"_46224d00 _8609c0be caf1ba1d\" target=\"_blank\" rel=\"noopener nofollow noreferrer\"><code class=\"_1d7c6046\">lang/<!-- -->sr</code><svg width=\"16\" height=\"16\" viewBox=\"0 0 20 20\" class=\"_593c1d19 _83454417 _9b93ebc4\" aria-hidden=\"true\"><path d=\"M5.719 14.75c-0.236 0-0.474-0.083-0.664-0.252l-5.060-4.498 5.341-4.748c0.412-0.365 1.044-0.33 1.411 0.083s0.33 1.045-0.083 1.412l-3.659 3.253 3.378 3.002c0.413 0.367 0.45 0.999 0.083 1.412-0.197 0.223-0.472 0.336-0.747 0.336zM14.664 14.748l5.341-4.748-5.060-4.498c-0.413-0.367-1.045-0.33-1.411 0.083s-0.33 1.045 0.083 1.412l3.378 3.003-3.659 3.252c-0.413 0.367-0.45 0.999-0.083 1.412 0.197 0.223 0.472 0.336 0.747 0.336 0.236 0 0.474-0.083 0.664-0.252zM9.986 16.165l2-12c0.091-0.545-0.277-1.060-0.822-1.151-0.547-0.092-1.061 0.277-1.15 0.822l-2 12c-0.091 0.545 0.277 1.060 0.822 1.151 0.056 0.009 0.11 0.013 0.165 0.013 0.48 0 0.904-0.347 0.985-0.835z\"></path></svg></a></td><td class=\"_5c99da9a\"><em>none yet</em></td></tr><tr class=\"_8a68569b\"><td class=\"_5c99da9a\">Sinhala</td><td class=\"_5c99da9a\"><code class=\"_1d7c6046\">si</code></td><td class=\"_5c99da9a\"><a href=\"https://github.com/explosion/spaCy/tree/master/spacy/lang/si\" class=\"_46224d00 _8609c0be caf1ba1d\" target=\"_blank\" rel=\"noopener nofollow noreferrer\"><code class=\"_1d7c6046\">lang/<!-- -->si</code><svg width=\"16\" height=\"16\" viewBox=\"0 0 20 20\" class=\"_593c1d19 _83454417 _9b93ebc4\" aria-hidden=\"true\"><path d=\"M5.719 14.75c-0.236 0-0.474-0.083-0.664-0.252l-5.060-4.498 5.341-4.748c0.412-0.365 1.044-0.33 1.411 0.083s0.33 1.045-0.083 1.412l-3.659 3.253 3.378 3.002c0.413 0.367 0.45 0.999 0.083 1.412-0.197 0.223-0.472 0.336-0.747 0.336zM14.664 14.748l5.341-4.748-5.060-4.498c-0.413-0.367-1.045-0.33-1.411 0.083s-0.33 1.045 0.083 1.412l3.378 3.003-3.659 3.252c-0.413 0.367-0.45 0.999-0.083 1.412 0.197 0.223 0.472 0.336 0.747 0.336 0.236 0 0.474-0.083 0.664-0.252zM9.986 16.165l2-12c0.091-0.545-0.277-1.060-0.822-1.151-0.547-0.092-1.061 0.277-1.15 0.822l-2 12c-0.091 0.545 0.277 1.060 0.822 1.151 0.056 0.009 0.11 0.013 0.165 0.013 0.48 0 0.904-0.347 0.985-0.835z\"></path></svg></a></td><td class=\"_5c99da9a\"><em>none yet</em></td></tr><tr class=\"_8a68569b\"><td class=\"_5c99da9a\">Slovak</td><td class=\"_5c99da9a\"><code class=\"_1d7c6046\">sk</code></td><td class=\"_5c99da9a\"><a href=\"https://github.com/explosion/spaCy/tree/master/spacy/lang/sk\" class=\"_46224d00 _8609c0be caf1ba1d\" target=\"_blank\" rel=\"noopener nofollow noreferrer\"><code class=\"_1d7c6046\">lang/<!-- -->sk</code><svg width=\"16\" height=\"16\" viewBox=\"0 0 20 20\" class=\"_593c1d19 _83454417 _9b93ebc4\" aria-hidden=\"true\"><path d=\"M5.719 14.75c-0.236 0-0.474-0.083-0.664-0.252l-5.060-4.498 5.341-4.748c0.412-0.365 1.044-0.33 1.411 0.083s0.33 1.045-0.083 1.412l-3.659 3.253 3.378 3.002c0.413 0.367 0.45 0.999 0.083 1.412-0.197 0.223-0.472 0.336-0.747 0.336zM14.664 14.748l5.341-4.748-5.060-4.498c-0.413-0.367-1.045-0.33-1.411 0.083s-0.33 1.045 0.083 1.412l3.378 3.003-3.659 3.252c-0.413 0.367-0.45 0.999-0.083 1.412 0.197 0.223 0.472 0.336 0.747 0.336 0.236 0 0.474-0.083 0.664-0.252zM9.986 16.165l2-12c0.091-0.545-0.277-1.060-0.822-1.151-0.547-0.092-1.061 0.277-1.15 0.822l-2 12c-0.091 0.545 0.277 1.060 0.822 1.151 0.056 0.009 0.11 0.013 0.165 0.013 0.48 0 0.904-0.347 0.985-0.835z\"></path></svg></a></td><td class=\"_5c99da9a\"><em>none yet</em></td></tr><tr class=\"_8a68569b\"><td class=\"_5c99da9a\">Slovenian</td><td class=\"_5c99da9a\"><code class=\"_1d7c6046\">sl</code></td><td class=\"_5c99da9a\"><a href=\"https://github.com/explosion/spaCy/tree/master/spacy/lang/sl\" class=\"_46224d00 _8609c0be caf1ba1d\" target=\"_blank\" rel=\"noopener nofollow noreferrer\"><code class=\"_1d7c6046\">lang/<!-- -->sl</code><svg width=\"16\" height=\"16\" viewBox=\"0 0 20 20\" class=\"_593c1d19 _83454417 _9b93ebc4\" aria-hidden=\"true\"><path d=\"M5.719 14.75c-0.236 0-0.474-0.083-0.664-0.252l-5.060-4.498 5.341-4.748c0.412-0.365 1.044-0.33 1.411 0.083s0.33 1.045-0.083 1.412l-3.659 3.253 3.378 3.002c0.413 0.367 0.45 0.999 0.083 1.412-0.197 0.223-0.472 0.336-0.747 0.336zM14.664 14.748l5.341-4.748-5.060-4.498c-0.413-0.367-1.045-0.33-1.411 0.083s-0.33 1.045 0.083 1.412l3.378 3.003-3.659 3.252c-0.413 0.367-0.45 0.999-0.083 1.412 0.197 0.223 0.472 0.336 0.747 0.336 0.236 0 0.474-0.083 0.664-0.252zM9.986 16.165l2-12c0.091-0.545-0.277-1.060-0.822-1.151-0.547-0.092-1.061 0.277-1.15 0.822l-2 12c-0.091 0.545 0.277 1.060 0.822 1.151 0.056 0.009 0.11 0.013 0.165 0.013 0.48 0 0.904-0.347 0.985-0.835z\"></path></svg></a></td><td class=\"_5c99da9a\"><em>none yet</em></td></tr><tr class=\"_8a68569b\"><td class=\"_5c99da9a\">Swedish</td><td class=\"_5c99da9a\"><code class=\"_1d7c6046\">sv</code></td><td class=\"_5c99da9a\"><a href=\"https://github.com/explosion/spaCy/tree/master/spacy/lang/sv\" class=\"_46224d00 _8609c0be caf1ba1d\" target=\"_blank\" rel=\"noopener nofollow noreferrer\"><code class=\"_1d7c6046\">lang/<!-- -->sv</code><svg width=\"16\" height=\"16\" viewBox=\"0 0 20 20\" class=\"_593c1d19 _83454417 _9b93ebc4\" aria-hidden=\"true\"><path d=\"M5.719 14.75c-0.236 0-0.474-0.083-0.664-0.252l-5.060-4.498 5.341-4.748c0.412-0.365 1.044-0.33 1.411 0.083s0.33 1.045-0.083 1.412l-3.659 3.253 3.378 3.002c0.413 0.367 0.45 0.999 0.083 1.412-0.197 0.223-0.472 0.336-0.747 0.336zM14.664 14.748l5.341-4.748-5.060-4.498c-0.413-0.367-1.045-0.33-1.411 0.083s-0.33 1.045 0.083 1.412l3.378 3.003-3.659 3.252c-0.413 0.367-0.45 0.999-0.083 1.412 0.197 0.223 0.472 0.336 0.747 0.336 0.236 0 0.474-0.083 0.664-0.252zM9.986 16.165l2-12c0.091-0.545-0.277-1.060-0.822-1.151-0.547-0.092-1.061 0.277-1.15 0.822l-2 12c-0.091 0.545 0.277 1.060 0.822 1.151 0.056 0.009 0.11 0.013 0.165 0.013 0.48 0 0.904-0.347 0.985-0.835z\"></path></svg></a></td><td class=\"_5c99da9a\"><em>none yet</em></td></tr><tr class=\"_8a68569b\"><td class=\"_5c99da9a\">Tagalog</td><td class=\"_5c99da9a\"><code class=\"_1d7c6046\">tl</code></td><td class=\"_5c99da9a\"><a href=\"https://github.com/explosion/spaCy/tree/master/spacy/lang/tl\" class=\"_46224d00 _8609c0be caf1ba1d\" target=\"_blank\" rel=\"noopener nofollow noreferrer\"><code class=\"_1d7c6046\">lang/<!-- -->tl</code><svg width=\"16\" height=\"16\" viewBox=\"0 0 20 20\" class=\"_593c1d19 _83454417 _9b93ebc4\" aria-hidden=\"true\"><path d=\"M5.719 14.75c-0.236 0-0.474-0.083-0.664-0.252l-5.060-4.498 5.341-4.748c0.412-0.365 1.044-0.33 1.411 0.083s0.33 1.045-0.083 1.412l-3.659 3.253 3.378 3.002c0.413 0.367 0.45 0.999 0.083 1.412-0.197 0.223-0.472 0.336-0.747 0.336zM14.664 14.748l5.341-4.748-5.060-4.498c-0.413-0.367-1.045-0.33-1.411 0.083s-0.33 1.045 0.083 1.412l3.378 3.003-3.659 3.252c-0.413 0.367-0.45 0.999-0.083 1.412 0.197 0.223 0.472 0.336 0.747 0.336 0.236 0 0.474-0.083 0.664-0.252zM9.986 16.165l2-12c0.091-0.545-0.277-1.060-0.822-1.151-0.547-0.092-1.061 0.277-1.15 0.822l-2 12c-0.091 0.545 0.277 1.060 0.822 1.151 0.056 0.009 0.11 0.013 0.165 0.013 0.48 0 0.904-0.347 0.985-0.835z\"></path></svg></a></td><td class=\"_5c99da9a\"><em>none yet</em></td></tr><tr class=\"_8a68569b\"><td class=\"_5c99da9a\">Tamil</td><td class=\"_5c99da9a\"><code class=\"_1d7c6046\">ta</code></td><td class=\"_5c99da9a\"><a href=\"https://github.com/explosion/spaCy/tree/master/spacy/lang/ta\" class=\"_46224d00 _8609c0be caf1ba1d\" target=\"_blank\" rel=\"noopener nofollow noreferrer\"><code class=\"_1d7c6046\">lang/<!-- -->ta</code><svg width=\"16\" height=\"16\" viewBox=\"0 0 20 20\" class=\"_593c1d19 _83454417 _9b93ebc4\" aria-hidden=\"true\"><path d=\"M5.719 14.75c-0.236 0-0.474-0.083-0.664-0.252l-5.060-4.498 5.341-4.748c0.412-0.365 1.044-0.33 1.411 0.083s0.33 1.045-0.083 1.412l-3.659 3.253 3.378 3.002c0.413 0.367 0.45 0.999 0.083 1.412-0.197 0.223-0.472 0.336-0.747 0.336zM14.664 14.748l5.341-4.748-5.060-4.498c-0.413-0.367-1.045-0.33-1.411 0.083s-0.33 1.045 0.083 1.412l3.378 3.003-3.659 3.252c-0.413 0.367-0.45 0.999-0.083 1.412 0.197 0.223 0.472 0.336 0.747 0.336 0.236 0 0.474-0.083 0.664-0.252zM9.986 16.165l2-12c0.091-0.545-0.277-1.060-0.822-1.151-0.547-0.092-1.061 0.277-1.15 0.822l-2 12c-0.091 0.545 0.277 1.060 0.822 1.151 0.056 0.009 0.11 0.013 0.165 0.013 0.48 0 0.904-0.347 0.985-0.835z\"></path></svg></a></td><td class=\"_5c99da9a\"><em>none yet</em></td></tr><tr class=\"_8a68569b\"><td class=\"_5c99da9a\">Tatar</td><td class=\"_5c99da9a\"><code class=\"_1d7c6046\">tt</code></td><td class=\"_5c99da9a\"><a href=\"https://github.com/explosion/spaCy/tree/master/spacy/lang/tt\" class=\"_46224d00 _8609c0be caf1ba1d\" target=\"_blank\" rel=\"noopener nofollow noreferrer\"><code class=\"_1d7c6046\">lang/<!-- -->tt</code><svg width=\"16\" height=\"16\" viewBox=\"0 0 20 20\" class=\"_593c1d19 _83454417 _9b93ebc4\" aria-hidden=\"true\"><path d=\"M5.719 14.75c-0.236 0-0.474-0.083-0.664-0.252l-5.060-4.498 5.341-4.748c0.412-0.365 1.044-0.33 1.411 0.083s0.33 1.045-0.083 1.412l-3.659 3.253 3.378 3.002c0.413 0.367 0.45 0.999 0.083 1.412-0.197 0.223-0.472 0.336-0.747 0.336zM14.664 14.748l5.341-4.748-5.060-4.498c-0.413-0.367-1.045-0.33-1.411 0.083s-0.33 1.045 0.083 1.412l3.378 3.003-3.659 3.252c-0.413 0.367-0.45 0.999-0.083 1.412 0.197 0.223 0.472 0.336 0.747 0.336 0.236 0 0.474-0.083 0.664-0.252zM9.986 16.165l2-12c0.091-0.545-0.277-1.060-0.822-1.151-0.547-0.092-1.061 0.277-1.15 0.822l-2 12c-0.091 0.545 0.277 1.060 0.822 1.151 0.056 0.009 0.11 0.013 0.165 0.013 0.48 0 0.904-0.347 0.985-0.835z\"></path></svg></a></td><td class=\"_5c99da9a\"><em>none yet</em></td></tr><tr class=\"_8a68569b\"><td class=\"_5c99da9a\">Telugu</td><td class=\"_5c99da9a\"><code class=\"_1d7c6046\">te</code></td><td class=\"_5c99da9a\"><a href=\"https://github.com/explosion/spaCy/tree/master/spacy/lang/te\" class=\"_46224d00 _8609c0be caf1ba1d\" target=\"_blank\" rel=\"noopener nofollow noreferrer\"><code class=\"_1d7c6046\">lang/<!-- -->te</code><svg width=\"16\" height=\"16\" viewBox=\"0 0 20 20\" class=\"_593c1d19 _83454417 _9b93ebc4\" aria-hidden=\"true\"><path d=\"M5.719 14.75c-0.236 0-0.474-0.083-0.664-0.252l-5.060-4.498 5.341-4.748c0.412-0.365 1.044-0.33 1.411 0.083s0.33 1.045-0.083 1.412l-3.659 3.253 3.378 3.002c0.413 0.367 0.45 0.999 0.083 1.412-0.197 0.223-0.472 0.336-0.747 0.336zM14.664 14.748l5.341-4.748-5.060-4.498c-0.413-0.367-1.045-0.33-1.411 0.083s-0.33 1.045 0.083 1.412l3.378 3.003-3.659 3.252c-0.413 0.367-0.45 0.999-0.083 1.412 0.197 0.223 0.472 0.336 0.747 0.336 0.236 0 0.474-0.083 0.664-0.252zM9.986 16.165l2-12c0.091-0.545-0.277-1.060-0.822-1.151-0.547-0.092-1.061 0.277-1.15 0.822l-2 12c-0.091 0.545 0.277 1.060 0.822 1.151 0.056 0.009 0.11 0.013 0.165 0.013 0.48 0 0.904-0.347 0.985-0.835z\"></path></svg></a></td><td class=\"_5c99da9a\"><em>none yet</em></td></tr><tr class=\"_8a68569b\"><td class=\"_5c99da9a\">Thai</td><td class=\"_5c99da9a\"><code class=\"_1d7c6046\">th</code></td><td class=\"_5c99da9a\"><a href=\"https://github.com/explosion/spaCy/tree/master/spacy/lang/th\" class=\"_46224d00 _8609c0be caf1ba1d\" target=\"_blank\" rel=\"noopener nofollow noreferrer\"><code class=\"_1d7c6046\">lang/<!-- -->th</code><svg width=\"16\" height=\"16\" viewBox=\"0 0 20 20\" class=\"_593c1d19 _83454417 _9b93ebc4\" aria-hidden=\"true\"><path d=\"M5.719 14.75c-0.236 0-0.474-0.083-0.664-0.252l-5.060-4.498 5.341-4.748c0.412-0.365 1.044-0.33 1.411 0.083s0.33 1.045-0.083 1.412l-3.659 3.253 3.378 3.002c0.413 0.367 0.45 0.999 0.083 1.412-0.197 0.223-0.472 0.336-0.747 0.336zM14.664 14.748l5.341-4.748-5.060-4.498c-0.413-0.367-1.045-0.33-1.411 0.083s-0.33 1.045 0.083 1.412l3.378 3.003-3.659 3.252c-0.413 0.367-0.45 0.999-0.083 1.412 0.197 0.223 0.472 0.336 0.747 0.336 0.236 0 0.474-0.083 0.664-0.252zM9.986 16.165l2-12c0.091-0.545-0.277-1.060-0.822-1.151-0.547-0.092-1.061 0.277-1.15 0.822l-2 12c-0.091 0.545 0.277 1.060 0.822 1.151 0.056 0.009 0.11 0.013 0.165 0.013 0.48 0 0.904-0.347 0.985-0.835z\"></path></svg></a></td><td class=\"_5c99da9a\"><em>none yet</em></td></tr><tr class=\"_8a68569b\"><td class=\"_5c99da9a\">Turkish</td><td class=\"_5c99da9a\"><code class=\"_1d7c6046\">tr</code></td><td class=\"_5c99da9a\"><a href=\"https://github.com/explosion/spaCy/tree/master/spacy/lang/tr\" class=\"_46224d00 _8609c0be caf1ba1d\" target=\"_blank\" rel=\"noopener nofollow noreferrer\"><code class=\"_1d7c6046\">lang/<!-- -->tr</code><svg width=\"16\" height=\"16\" viewBox=\"0 0 20 20\" class=\"_593c1d19 _83454417 _9b93ebc4\" aria-hidden=\"true\"><path d=\"M5.719 14.75c-0.236 0-0.474-0.083-0.664-0.252l-5.060-4.498 5.341-4.748c0.412-0.365 1.044-0.33 1.411 0.083s0.33 1.045-0.083 1.412l-3.659 3.253 3.378 3.002c0.413 0.367 0.45 0.999 0.083 1.412-0.197 0.223-0.472 0.336-0.747 0.336zM14.664 14.748l5.341-4.748-5.060-4.498c-0.413-0.367-1.045-0.33-1.411 0.083s-0.33 1.045 0.083 1.412l3.378 3.003-3.659 3.252c-0.413 0.367-0.45 0.999-0.083 1.412 0.197 0.223 0.472 0.336 0.747 0.336 0.236 0 0.474-0.083 0.664-0.252zM9.986 16.165l2-12c0.091-0.545-0.277-1.060-0.822-1.151-0.547-0.092-1.061 0.277-1.15 0.822l-2 12c-0.091 0.545 0.277 1.060 0.822 1.151 0.056 0.009 0.11 0.013 0.165 0.013 0.48 0 0.904-0.347 0.985-0.835z\"></path></svg></a></td><td class=\"_5c99da9a\"><em>none yet</em></td></tr><tr class=\"_8a68569b\"><td class=\"_5c99da9a\">Ukrainian</td><td class=\"_5c99da9a\"><code class=\"_1d7c6046\">uk</code></td><td class=\"_5c99da9a\"><a href=\"https://github.com/explosion/spaCy/tree/master/spacy/lang/uk\" class=\"_46224d00 _8609c0be caf1ba1d\" target=\"_blank\" rel=\"noopener nofollow noreferrer\"><code class=\"_1d7c6046\">lang/<!-- -->uk</code><svg width=\"16\" height=\"16\" viewBox=\"0 0 20 20\" class=\"_593c1d19 _83454417 _9b93ebc4\" aria-hidden=\"true\"><path d=\"M5.719 14.75c-0.236 0-0.474-0.083-0.664-0.252l-5.060-4.498 5.341-4.748c0.412-0.365 1.044-0.33 1.411 0.083s0.33 1.045-0.083 1.412l-3.659 3.253 3.378 3.002c0.413 0.367 0.45 0.999 0.083 1.412-0.197 0.223-0.472 0.336-0.747 0.336zM14.664 14.748l5.341-4.748-5.060-4.498c-0.413-0.367-1.045-0.33-1.411 0.083s-0.33 1.045 0.083 1.412l3.378 3.003-3.659 3.252c-0.413 0.367-0.45 0.999-0.083 1.412 0.197 0.223 0.472 0.336 0.747 0.336 0.236 0 0.474-0.083 0.664-0.252zM9.986 16.165l2-12c0.091-0.545-0.277-1.060-0.822-1.151-0.547-0.092-1.061 0.277-1.15 0.822l-2 12c-0.091 0.545 0.277 1.060 0.822 1.151 0.056 0.009 0.11 0.013 0.165 0.013 0.48 0 0.904-0.347 0.985-0.835z\"></path></svg></a></td><td class=\"_5c99da9a\"><em>none yet</em></td></tr><tr class=\"_8a68569b\"><td class=\"_5c99da9a\">Urdu</td><td class=\"_5c99da9a\"><code class=\"_1d7c6046\">ur</code></td><td class=\"_5c99da9a\"><a href=\"https://github.com/explosion/spaCy/tree/master/spacy/lang/ur\" class=\"_46224d00 _8609c0be caf1ba1d\" target=\"_blank\" rel=\"noopener nofollow noreferrer\"><code class=\"_1d7c6046\">lang/<!-- -->ur</code><svg width=\"16\" height=\"16\" viewBox=\"0 0 20 20\" class=\"_593c1d19 _83454417 _9b93ebc4\" aria-hidden=\"true\"><path d=\"M5.719 14.75c-0.236 0-0.474-0.083-0.664-0.252l-5.060-4.498 5.341-4.748c0.412-0.365 1.044-0.33 1.411 0.083s0.33 1.045-0.083 1.412l-3.659 3.253 3.378 3.002c0.413 0.367 0.45 0.999 0.083 1.412-0.197 0.223-0.472 0.336-0.747 0.336zM14.664 14.748l5.341-4.748-5.060-4.498c-0.413-0.367-1.045-0.33-1.411 0.083s-0.33 1.045 0.083 1.412l3.378 3.003-3.659 3.252c-0.413 0.367-0.45 0.999-0.083 1.412 0.197 0.223 0.472 0.336 0.747 0.336 0.236 0 0.474-0.083 0.664-0.252zM9.986 16.165l2-12c0.091-0.545-0.277-1.060-0.822-1.151-0.547-0.092-1.061 0.277-1.15 0.822l-2 12c-0.091 0.545 0.277 1.060 0.822 1.151 0.056 0.009 0.11 0.013 0.165 0.013 0.48 0 0.904-0.347 0.985-0.835z\"></path></svg></a></td><td class=\"_5c99da9a\"><em>none yet</em></td></tr><tr class=\"_8a68569b\"><td class=\"_5c99da9a\">Vietnamese</td><td class=\"_5c99da9a\"><code class=\"_1d7c6046\">vi</code></td><td class=\"_5c99da9a\"><a href=\"https://github.com/explosion/spaCy/tree/master/spacy/lang/vi\" class=\"_46224d00 _8609c0be caf1ba1d\" target=\"_blank\" rel=\"noopener nofollow noreferrer\"><code class=\"_1d7c6046\">lang/<!-- -->vi</code><svg width=\"16\" height=\"16\" viewBox=\"0 0 20 20\" class=\"_593c1d19 _83454417 _9b93ebc4\" aria-hidden=\"true\"><path d=\"M5.719 14.75c-0.236 0-0.474-0.083-0.664-0.252l-5.060-4.498 5.341-4.748c0.412-0.365 1.044-0.33 1.411 0.083s0.33 1.045-0.083 1.412l-3.659 3.253 3.378 3.002c0.413 0.367 0.45 0.999 0.083 1.412-0.197 0.223-0.472 0.336-0.747 0.336zM14.664 14.748l5.341-4.748-5.060-4.498c-0.413-0.367-1.045-0.33-1.411 0.083s-0.33 1.045 0.083 1.412l3.378 3.003-3.659 3.252c-0.413 0.367-0.45 0.999-0.083 1.412 0.197 0.223 0.472 0.336 0.747 0.336 0.236 0 0.474-0.083 0.664-0.252zM9.986 16.165l2-12c0.091-0.545-0.277-1.060-0.822-1.151-0.547-0.092-1.061 0.277-1.15 0.822l-2 12c-0.091 0.545 0.277 1.060 0.822 1.151 0.056 0.009 0.11 0.013 0.165 0.013 0.48 0 0.904-0.347 0.985-0.835z\"></path></svg></a></td><td class=\"_5c99da9a\"><em>none yet</em></td></tr><tr class=\"_8a68569b\"><td class=\"_5c99da9a\">Yoruba</td><td class=\"_5c99da9a\"><code class=\"_1d7c6046\">yo</code></td><td class=\"_5c99da9a\"><a href=\"https://github.com/explosion/spaCy/tree/master/spacy/lang/yo\" class=\"_46224d00 _8609c0be caf1ba1d\" target=\"_blank\" rel=\"noopener nofollow noreferrer\"><code class=\"_1d7c6046\">lang/<!-- -->yo</code><svg width=\"16\" height=\"16\" viewBox=\"0 0 20 20\" class=\"_593c1d19 _83454417 _9b93ebc4\" aria-hidden=\"true\"><path d=\"M5.719 14.75c-0.236 0-0.474-0.083-0.664-0.252l-5.060-4.498 5.341-4.748c0.412-0.365 1.044-0.33 1.411 0.083s0.33 1.045-0.083 1.412l-3.659 3.253 3.378 3.002c0.413 0.367 0.45 0.999 0.083 1.412-0.197 0.223-0.472 0.336-0.747 0.336zM14.664 14.748l5.341-4.748-5.060-4.498c-0.413-0.367-1.045-0.33-1.411 0.083s-0.33 1.045 0.083 1.412l3.378 3.003-3.659 3.252c-0.413 0.367-0.45 0.999-0.083 1.412 0.197 0.223 0.472 0.336 0.747 0.336 0.236 0 0.474-0.083 0.664-0.252zM9.986 16.165l2-12c0.091-0.545-0.277-1.060-0.822-1.151-0.547-0.092-1.061 0.277-1.15 0.822l-2 12c-0.091 0.545 0.277 1.060 0.822 1.151 0.056 0.009 0.11 0.013 0.165 0.013 0.48 0 0.904-0.347 0.985-0.835z\"></path></svg></a></td><td class=\"_5c99da9a\"><em>none yet</em></td></tr></tbody></table>"
   ]
  },
  {
   "cell_type": "markdown",
   "metadata": {},
   "source": [
    "All you will have to do is to do `python -m spacy da_core_web_sm` if you want to import danish model. "
   ]
  },
  {
   "cell_type": "markdown",
   "metadata": {
    "colab_type": "text",
    "id": "h9jnqZJhMQan"
   },
   "source": [
    "## Create a Doc object 📄📄"
   ]
  },
  {
   "cell_type": "markdown",
   "metadata": {
    "colab_type": "text",
    "id": "At6g2RZT7i0_"
   },
   "source": [
    "Once you have imported your language, you can create a `doc` object. This doc is your complete body of text. Once you have instantiated your doc, you will be able to use the full power of `spacy`. "
   ]
  },
  {
   "cell_type": "code",
   "execution_count": 5,
   "metadata": {
    "colab": {
     "base_uri": "https://localhost:8080/",
     "height": 124
    },
    "colab_type": "code",
    "executionInfo": {
     "elapsed": 1058,
     "status": "ok",
     "timestamp": 1581949363086,
     "user": {
      "displayName": "Antoine Krajnc",
      "photoUrl": "https://lh3.googleusercontent.com/a-/AAuE7mC4XzNDVGvURzl4T5duDbMr6bUdhkYkDul_37G0OA=s64",
      "userId": "08465960390418158788"
     },
     "user_tz": -60
    },
    "id": "zJYg4OC-MP6n",
    "outputId": "61609ff2-c7ce-473d-b4d1-3a45871523c5"
   },
   "outputs": [
    {
     "name": "stdout",
     "output_type": "stream",
     "text": [
      "Tokens: ['Hello', 'World', '!', 'Do', \"n't\", 'do', 'this', '.', 'I', 'am', 'superman', 'wherever', 'you', 'are', 'in', 'the', 'world']\n",
      "------------\n",
      "Lemma: ['hello', 'World', '!', 'do', 'not', 'do', 'this', '.', '-PRON-', 'be', 'superman', 'wherever', '-PRON-', 'be', 'in', 'the', 'world']\n",
      "------------\n",
      "Indices: [0, 1, 2, 3, 4, 5, 6, 7, 8, 9, 10, 11, 12, 13, 14, 15, 16]\n",
      "------------\n",
      "Alpha Numeric: [True, True, False, True, False, True, True, False, True, True, True, True, True, True, True, True, True]\n",
      "------------\n",
      "Numbers: [False, False, False, False, False, False, False, False, False, False, False, False, False, False, False, False, False]\n"
     ]
    }
   ],
   "source": [
    "doc = nlp(\"Hello World! Don't do this. I am superman wherever you are in the world\")\n",
    "\n",
    "# Print tokens\n",
    "print(\"Tokens: {}\".format([token.text for token in doc]))\n",
    "print(\"------------\")\n",
    "\n",
    "# Print Lemmatized tokens\n",
    "print(\"Lemma: {}\".format([token.lemma_ for token in doc]))\n",
    "print(\"------------\")\n",
    "\n",
    "# Print Indices of each tokens\n",
    "print(\"Indices: {}\".format([token.i for token in doc]))\n",
    "print(\"------------\")\n",
    "\n",
    "# Print whether tokens are alpha numeric \n",
    "print(\"Alpha Numeric: {}\".format([token.is_alpha for token in doc]))\n",
    "print(\"------------\")\n",
    "\n",
    "# Print whether tokens are numbers\n",
    "print(\"Numbers: {}\".format([token.like_num for token in doc]))"
   ]
  },
  {
   "cell_type": "markdown",
   "metadata": {
    "colab_type": "text",
    "id": "PZ6uIB4u7weu"
   },
   "source": [
    "As you can see above, once we created our `doc`, we were able to extract: \n",
    "\n",
    "* Tokens \n",
    "* Lemmatized tokens\n",
    "* Indices of each token \n",
    "* Booleans that determine whether tokens are words or punctuation (alpha_numeric) \n",
    "* Booleans that determine if the tokens are numbers\n",
    "\n",
    "Powerful, isn't it? 💪"
   ]
  },
  {
   "cell_type": "markdown",
   "metadata": {
    "colab_type": "text",
    "id": "mEB89kN58Rs2"
   },
   "source": [
    "## Stop Words ⛔⛔\n",
    "\n",
    "In NLP, stop words are all the linking words, articles and quantifiers that are widely used in a language but which are not in themselves meaningful.\n",
    "\n",
    "For each language, you have a list of stop words made by spacy. "
   ]
  },
  {
   "cell_type": "code",
   "execution_count": 6,
   "metadata": {
    "colab": {
     "base_uri": "https://localhost:8080/",
     "height": 55
    },
    "colab_type": "code",
    "executionInfo": {
     "elapsed": 493,
     "status": "ok",
     "timestamp": 1581949368857,
     "user": {
      "displayName": "Antoine Krajnc",
      "photoUrl": "https://lh3.googleusercontent.com/a-/AAuE7mC4XzNDVGvURzl4T5duDbMr6bUdhkYkDul_37G0OA=s64",
      "userId": "08465960390418158788"
     },
     "user_tz": -60
    },
    "id": "SFXmpBZWVsYW",
    "outputId": "d7ec8a9c-ab3e-436c-a9f0-3dc32aa8ce54"
   },
   "outputs": [
    {
     "name": "stdout",
     "output_type": "stream",
     "text": [
      "{'who', 'nothing', 'every', '’s', 'amount', 'now', 'just', 'anyhow', 'had', 'they', 'above', 'why', 'the', 'until', 'last', 'beforehand', 'hence', 'himself', 'say', 'besides', 'beside', 'hereafter', 'upon', '’ve', 'if', 'back', 'but', 'put', 'whom', 'hers', 'before', 'became', 'beyond', 'a', 'too', 'part', 'quite', 'whatever', 're', 'was', 'indeed', 'itself', '‘s', 'really', 'fifty', 'enough', 'four', 'moreover', 'their', 'i', 'which', '‘re', 'nevertheless', 'some', 'at', 'both', '‘ll', 'seeming', 'much', '’re', 'any', 'only', 'under', 'my', 'various', '‘m', 'behind', 'from', 'does', 'us', 'between', 'be', 'such', 'hereupon', 'six', 'else', 'show', 'own', 'or', 'using', 'can', 'already', 'third', 'one', 'these', 'few', 'full', 'toward', 'mine', 'formerly', 'whereby', 'although', 'it', 'please', '’ll', 'as', 'therefore', 'none', 'yourselves', 'whither', 'towards', 'so', 'neither', 'how', 'most', 'there', 'me', 'everywhere', \"'ve\", 'bottom', 'onto', \"'re\", 'whereupon', 'thereby', 'yourself', 'what', 'perhaps', 'whenever', '‘ve', 'made', 'due', 'thence', 'hereby', 'am', 'almost', 'have', 'thus', 'must', 'whole', 'we', 'been', 'sometimes', 'each', 'anything', 'latter', 'mostly', 'through', 'regarding', 'see', 'within', 'former', 'cannot', 'less', 'n‘t', 'out', 'name', 'side', 'of', 'empty', '’m', 'his', 'nine', 'eight', 'someone', 'would', 'your', 'except', 'whereas', 'herself', 'among', 'give', 'something', 'top', 'will', 'wherever', '’d', 'others', 'fifteen', 'alone', 'did', 'in', 'other', 'by', 'ca', 'even', 'ever', 'seems', 'against', 'nowhere', 'move', 'somewhere', 'all', 'whose', \"n't\", 'anyway', 'everything', 'still', 'twenty', 'yours', 'nobody', 'latterly', 'wherein', 'with', 'could', 'via', 'for', 'becoming', 'being', 'five', 'more', \"'ll\", 'thru', 'across', 'down', 'ours', 'twelve', 'about', \"'m\", 'anyone', 'afterwards', 'during', 'namely', 'its', 'get', 'do', 'serious', 'thereafter', 'become', 'very', 'either', 'whether', 'eleven', 'seemed', 'further', 'noone', 'whoever', 'otherwise', 'up', 'no', 'three', 'themselves', 'once', 'he', 'when', '‘d', 'elsewhere', 'throughout', 'while', 'becomes', 'and', 'whereafter', 'she', 'meanwhile', 'used', 'well', 'hundred', 'however', 'front', 'two', 'were', 'nor', 'should', 'take', 'first', 'where', 'into', 'ten', 'along', 'forty', 'sometime', 'next', 'therein', 'go', 'since', 'has', 'somehow', 'thereupon', 'whence', 'then', 'her', 'several', 'many', 'here', 'because', 'our', 'also', 'another', 'not', 'him', 'anywhere', 'always', 'everyone', 'after', 'might', 'without', 'make', 'are', 'never', 'same', 'doing', 'though', 'off', 'often', 'keep', 'rather', 'may', 'herein', 'those', 'around', 'together', 'myself', 'that', 'n’t', 'ourselves', \"'s\", 'sixty', 'below', 'again', 'yet', 'them', 'least', 'this', 'than', 'is', 'done', 'on', 'call', 'per', 'amongst', 'to', 'seem', 'you', 'an', \"'d\", 'over', 'unless'}\n"
     ]
    }
   ],
   "source": [
    "# Import english stop words\n",
    "from spacy.lang.en.stop_words import STOP_WORDS\n",
    "\n",
    "# Print stop words\n",
    "print(STOP_WORDS)"
   ]
  },
  {
   "cell_type": "markdown",
   "metadata": {
    "colab_type": "text",
    "id": "wled3-cnNZMe"
   },
   "source": [
    "## WordCloud ☁️☁️"
   ]
  },
  {
   "cell_type": "markdown",
   "metadata": {
    "colab_type": "text",
    "id": "AExMTSMN8qM2"
   },
   "source": [
    "One visualization that we do a lot when doing NLP is to create a word cloud. Although it is not directly a `spacy` method, we thought it was important to show you how to create it via `wordcloud` and `matplotlib`."
   ]
  },
  {
   "cell_type": "code",
   "execution_count": 7,
   "metadata": {},
   "outputs": [],
   "source": [
    "# Install wordcloud if necessary \n",
    "!pip install wordcloud -q"
   ]
  },
  {
   "cell_type": "code",
   "execution_count": 8,
   "metadata": {
    "colab": {},
    "colab_type": "code",
    "id": "Pi0DRf8T9Dnt"
   },
   "outputs": [
    {
     "data": {
      "image/png": "[encoded data removed]",
      "text/plain": [
       "<Figure size 432x288 with 1 Axes>"
      ]
     },
     "metadata": {
      "needs_background": "light"
     },
     "output_type": "display_data"
    }
   ],
   "source": [
    "# Import matplotlib and wordcloud \n",
    "import matplotlib.pyplot as plt\n",
    "import wordcloud\n",
    "\n",
    "# Instanciate WordCloud \n",
    "wd = wordcloud.WordCloud()\n",
    "cloud = wd.generate(doc.text)\n",
    "\n",
    "# Show word cloud with matplotlib \n",
    "plt.imshow(cloud)\n",
    "\n",
    "# Remove trailing logs \n",
    "plt.show()"
   ]
  },
  {
   "cell_type": "markdown",
   "metadata": {
    "colab_type": "text",
    "id": "DIkC-w-782EP"
   },
   "source": [
    "Making a word cloud with stop words can hide important words in a body of text, so here's how you can remove them. "
   ]
  },
  {
   "cell_type": "code",
   "execution_count": 9,
   "metadata": {
    "colab": {
     "base_uri": "https://localhost:8080/",
     "height": 236
    },
    "colab_type": "code",
    "executionInfo": {
     "elapsed": 1302,
     "status": "ok",
     "timestamp": 1581949370852,
     "user": {
      "displayName": "Antoine Krajnc",
      "photoUrl": "https://lh3.googleusercontent.com/a-/AAuE7mC4XzNDVGvURzl4T5duDbMr6bUdhkYkDul_37G0OA=s64",
      "userId": "08465960390418158788"
     },
     "user_tz": -60
    },
    "id": "3fZjHem1Nd5f",
    "outputId": "215d3878-d7ed-435c-e200-5094ff404af4"
   },
   "outputs": [
    {
     "data": {
      "image/png": "[encoded data removed]",
      "text/plain": [
       "<Figure size 432x288 with 1 Axes>"
      ]
     },
     "metadata": {
      "needs_background": "light"
     },
     "output_type": "display_data"
    }
   ],
   "source": [
    "# Instanciate WordCloud with no stop words\n",
    "wd = wordcloud.WordCloud(stopwords=STOP_WORDS)\n",
    "\n",
    "# Generate word cloud \n",
    "cloud = wd.generate(doc.text)\n",
    "\n",
    "# Show with matplotlib \n",
    "plt.imshow(cloud)\n",
    "\n",
    "# Remove trailing log \n",
    "plt.show()"
   ]
  },
  {
   "cell_type": "markdown",
   "metadata": {
    "colab_type": "text",
    "id": "bTGMn8spZGBX"
   },
   "source": [
    "## Visualize 🎨🎨"
   ]
  },
  {
   "cell_type": "markdown",
   "metadata": {
    "colab_type": "text",
    "id": "PRewxnIw8_Es"
   },
   "source": [
    "Finally, an interesting feature of spacy is `displacy` which allows you to see all the relationships between words in a corpus of text. Here's how you can use this visualization."
   ]
  },
  {
   "cell_type": "code",
   "execution_count": 10,
   "metadata": {
    "colab": {
     "base_uri": "https://localhost:8080/",
     "height": 284
    },
    "colab_type": "code",
    "executionInfo": {
     "elapsed": 370,
     "status": "ok",
     "timestamp": 1581949371171,
     "user": {
      "displayName": "Antoine Krajnc",
      "photoUrl": "https://lh3.googleusercontent.com/a-/AAuE7mC4XzNDVGvURzl4T5duDbMr6bUdhkYkDul_37G0OA=s64",
      "userId": "08465960390418158788"
     },
     "user_tz": -60
    },
    "id": "OhpBBKNgZHhD",
    "outputId": "52af76e7-d089-4107-8bd1-0948f8594875"
   },
   "outputs": [
    {
     "data": {
      "text/html": [
       "<span class=\"tex2jax_ignore\"><svg xmlns=\"http://www.w3.org/2000/svg\" xmlns:xlink=\"http://www.w3.org/1999/xlink\" xml:lang=\"en\" id=\"1389f03aa4454e6bab09218feab724f0-0\" class=\"displacy\" width=\"1100\" height=\"242.0\" direction=\"ltr\" style=\"max-width: none; height: 242.0px; color: #000000; background: #ffffff; font-family: Arial; direction: ltr\">\n",
       "<text class=\"displacy-token\" fill=\"currentColor\" text-anchor=\"middle\" y=\"152.0\">\n",
       "    <tspan class=\"displacy-word\" fill=\"currentColor\" x=\"50\">Hello</tspan>\n",
       "    <tspan class=\"displacy-tag\" dy=\"2em\" fill=\"currentColor\" x=\"50\">INTJ</tspan>\n",
       "</text>\n",
       "\n",
       "<text class=\"displacy-token\" fill=\"currentColor\" text-anchor=\"middle\" y=\"152.0\">\n",
       "    <tspan class=\"displacy-word\" fill=\"currentColor\" x=\"120\">World!</tspan>\n",
       "    <tspan class=\"displacy-tag\" dy=\"2em\" fill=\"currentColor\" x=\"120\">PROPN</tspan>\n",
       "</text>\n",
       "\n",
       "<text class=\"displacy-token\" fill=\"currentColor\" text-anchor=\"middle\" y=\"152.0\">\n",
       "    <tspan class=\"displacy-word\" fill=\"currentColor\" x=\"190\">Do</tspan>\n",
       "    <tspan class=\"displacy-tag\" dy=\"2em\" fill=\"currentColor\" x=\"190\">AUX</tspan>\n",
       "</text>\n",
       "\n",
       "<text class=\"displacy-token\" fill=\"currentColor\" text-anchor=\"middle\" y=\"152.0\">\n",
       "    <tspan class=\"displacy-word\" fill=\"currentColor\" x=\"260\">n't</tspan>\n",
       "    <tspan class=\"displacy-tag\" dy=\"2em\" fill=\"currentColor\" x=\"260\">PART</tspan>\n",
       "</text>\n",
       "\n",
       "<text class=\"displacy-token\" fill=\"currentColor\" text-anchor=\"middle\" y=\"152.0\">\n",
       "    <tspan class=\"displacy-word\" fill=\"currentColor\" x=\"330\">do</tspan>\n",
       "    <tspan class=\"displacy-tag\" dy=\"2em\" fill=\"currentColor\" x=\"330\">AUX</tspan>\n",
       "</text>\n",
       "\n",
       "<text class=\"displacy-token\" fill=\"currentColor\" text-anchor=\"middle\" y=\"152.0\">\n",
       "    <tspan class=\"displacy-word\" fill=\"currentColor\" x=\"400\">this.</tspan>\n",
       "    <tspan class=\"displacy-tag\" dy=\"2em\" fill=\"currentColor\" x=\"400\">DET</tspan>\n",
       "</text>\n",
       "\n",
       "<text class=\"displacy-token\" fill=\"currentColor\" text-anchor=\"middle\" y=\"152.0\">\n",
       "    <tspan class=\"displacy-word\" fill=\"currentColor\" x=\"470\">I</tspan>\n",
       "    <tspan class=\"displacy-tag\" dy=\"2em\" fill=\"currentColor\" x=\"470\">PRON</tspan>\n",
       "</text>\n",
       "\n",
       "<text class=\"displacy-token\" fill=\"currentColor\" text-anchor=\"middle\" y=\"152.0\">\n",
       "    <tspan class=\"displacy-word\" fill=\"currentColor\" x=\"540\">am</tspan>\n",
       "    <tspan class=\"displacy-tag\" dy=\"2em\" fill=\"currentColor\" x=\"540\">AUX</tspan>\n",
       "</text>\n",
       "\n",
       "<text class=\"displacy-token\" fill=\"currentColor\" text-anchor=\"middle\" y=\"152.0\">\n",
       "    <tspan class=\"displacy-word\" fill=\"currentColor\" x=\"610\">superman</tspan>\n",
       "    <tspan class=\"displacy-tag\" dy=\"2em\" fill=\"currentColor\" x=\"610\">NOUN</tspan>\n",
       "</text>\n",
       "\n",
       "<text class=\"displacy-token\" fill=\"currentColor\" text-anchor=\"middle\" y=\"152.0\">\n",
       "    <tspan class=\"displacy-word\" fill=\"currentColor\" x=\"680\">wherever</tspan>\n",
       "    <tspan class=\"displacy-tag\" dy=\"2em\" fill=\"currentColor\" x=\"680\">ADV</tspan>\n",
       "</text>\n",
       "\n",
       "<text class=\"displacy-token\" fill=\"currentColor\" text-anchor=\"middle\" y=\"152.0\">\n",
       "    <tspan class=\"displacy-word\" fill=\"currentColor\" x=\"750\">you</tspan>\n",
       "    <tspan class=\"displacy-tag\" dy=\"2em\" fill=\"currentColor\" x=\"750\">PRON</tspan>\n",
       "</text>\n",
       "\n",
       "<text class=\"displacy-token\" fill=\"currentColor\" text-anchor=\"middle\" y=\"152.0\">\n",
       "    <tspan class=\"displacy-word\" fill=\"currentColor\" x=\"820\">are</tspan>\n",
       "    <tspan class=\"displacy-tag\" dy=\"2em\" fill=\"currentColor\" x=\"820\">AUX</tspan>\n",
       "</text>\n",
       "\n",
       "<text class=\"displacy-token\" fill=\"currentColor\" text-anchor=\"middle\" y=\"152.0\">\n",
       "    <tspan class=\"displacy-word\" fill=\"currentColor\" x=\"890\">in</tspan>\n",
       "    <tspan class=\"displacy-tag\" dy=\"2em\" fill=\"currentColor\" x=\"890\">ADP</tspan>\n",
       "</text>\n",
       "\n",
       "<text class=\"displacy-token\" fill=\"currentColor\" text-anchor=\"middle\" y=\"152.0\">\n",
       "    <tspan class=\"displacy-word\" fill=\"currentColor\" x=\"960\">the</tspan>\n",
       "    <tspan class=\"displacy-tag\" dy=\"2em\" fill=\"currentColor\" x=\"960\">DET</tspan>\n",
       "</text>\n",
       "\n",
       "<text class=\"displacy-token\" fill=\"currentColor\" text-anchor=\"middle\" y=\"152.0\">\n",
       "    <tspan class=\"displacy-word\" fill=\"currentColor\" x=\"1030\">world</tspan>\n",
       "    <tspan class=\"displacy-tag\" dy=\"2em\" fill=\"currentColor\" x=\"1030\">NOUN</tspan>\n",
       "</text>\n",
       "\n",
       "<g class=\"displacy-arrow\">\n",
       "    <path class=\"displacy-arc\" id=\"arrow-1389f03aa4454e6bab09218feab724f0-0-0\" stroke-width=\"2px\" d=\"M70,107.0 C70,72.0 110.0,72.0 110.0,107.0\" fill=\"none\" stroke=\"currentColor\"/>\n",
       "    <text dy=\"1.25em\" style=\"font-size: 0.8em; letter-spacing: 1px\">\n",
       "        <textPath xlink:href=\"#arrow-1389f03aa4454e6bab09218feab724f0-0-0\" class=\"displacy-label\" startOffset=\"50%\" side=\"left\" fill=\"currentColor\" text-anchor=\"middle\">compound</textPath>\n",
       "    </text>\n",
       "    <path class=\"displacy-arrowhead\" d=\"M70,109.0 L62,97.0 78,97.0\" fill=\"currentColor\"/>\n",
       "</g>\n",
       "\n",
       "<g class=\"displacy-arrow\">\n",
       "    <path class=\"displacy-arc\" id=\"arrow-1389f03aa4454e6bab09218feab724f0-0-1\" stroke-width=\"2px\" d=\"M210,107.0 C210,37.0 325.0,37.0 325.0,107.0\" fill=\"none\" stroke=\"currentColor\"/>\n",
       "    <text dy=\"1.25em\" style=\"font-size: 0.8em; letter-spacing: 1px\">\n",
       "        <textPath xlink:href=\"#arrow-1389f03aa4454e6bab09218feab724f0-0-1\" class=\"displacy-label\" startOffset=\"50%\" side=\"left\" fill=\"currentColor\" text-anchor=\"middle\">aux</textPath>\n",
       "    </text>\n",
       "    <path class=\"displacy-arrowhead\" d=\"M210,109.0 L202,97.0 218,97.0\" fill=\"currentColor\"/>\n",
       "</g>\n",
       "\n",
       "<g class=\"displacy-arrow\">\n",
       "    <path class=\"displacy-arc\" id=\"arrow-1389f03aa4454e6bab09218feab724f0-0-2\" stroke-width=\"2px\" d=\"M280,107.0 C280,72.0 320.0,72.0 320.0,107.0\" fill=\"none\" stroke=\"currentColor\"/>\n",
       "    <text dy=\"1.25em\" style=\"font-size: 0.8em; letter-spacing: 1px\">\n",
       "        <textPath xlink:href=\"#arrow-1389f03aa4454e6bab09218feab724f0-0-2\" class=\"displacy-label\" startOffset=\"50%\" side=\"left\" fill=\"currentColor\" text-anchor=\"middle\">neg</textPath>\n",
       "    </text>\n",
       "    <path class=\"displacy-arrowhead\" d=\"M280,109.0 L272,97.0 288,97.0\" fill=\"currentColor\"/>\n",
       "</g>\n",
       "\n",
       "<g class=\"displacy-arrow\">\n",
       "    <path class=\"displacy-arc\" id=\"arrow-1389f03aa4454e6bab09218feab724f0-0-3\" stroke-width=\"2px\" d=\"M350,107.0 C350,72.0 390.0,72.0 390.0,107.0\" fill=\"none\" stroke=\"currentColor\"/>\n",
       "    <text dy=\"1.25em\" style=\"font-size: 0.8em; letter-spacing: 1px\">\n",
       "        <textPath xlink:href=\"#arrow-1389f03aa4454e6bab09218feab724f0-0-3\" class=\"displacy-label\" startOffset=\"50%\" side=\"left\" fill=\"currentColor\" text-anchor=\"middle\">dobj</textPath>\n",
       "    </text>\n",
       "    <path class=\"displacy-arrowhead\" d=\"M390.0,109.0 L398.0,97.0 382.0,97.0\" fill=\"currentColor\"/>\n",
       "</g>\n",
       "\n",
       "<g class=\"displacy-arrow\">\n",
       "    <path class=\"displacy-arc\" id=\"arrow-1389f03aa4454e6bab09218feab724f0-0-4\" stroke-width=\"2px\" d=\"M490,107.0 C490,72.0 530.0,72.0 530.0,107.0\" fill=\"none\" stroke=\"currentColor\"/>\n",
       "    <text dy=\"1.25em\" style=\"font-size: 0.8em; letter-spacing: 1px\">\n",
       "        <textPath xlink:href=\"#arrow-1389f03aa4454e6bab09218feab724f0-0-4\" class=\"displacy-label\" startOffset=\"50%\" side=\"left\" fill=\"currentColor\" text-anchor=\"middle\">nsubj</textPath>\n",
       "    </text>\n",
       "    <path class=\"displacy-arrowhead\" d=\"M490,109.0 L482,97.0 498,97.0\" fill=\"currentColor\"/>\n",
       "</g>\n",
       "\n",
       "<g class=\"displacy-arrow\">\n",
       "    <path class=\"displacy-arc\" id=\"arrow-1389f03aa4454e6bab09218feab724f0-0-5\" stroke-width=\"2px\" d=\"M560,107.0 C560,72.0 600.0,72.0 600.0,107.0\" fill=\"none\" stroke=\"currentColor\"/>\n",
       "    <text dy=\"1.25em\" style=\"font-size: 0.8em; letter-spacing: 1px\">\n",
       "        <textPath xlink:href=\"#arrow-1389f03aa4454e6bab09218feab724f0-0-5\" class=\"displacy-label\" startOffset=\"50%\" side=\"left\" fill=\"currentColor\" text-anchor=\"middle\">attr</textPath>\n",
       "    </text>\n",
       "    <path class=\"displacy-arrowhead\" d=\"M600.0,109.0 L608.0,97.0 592.0,97.0\" fill=\"currentColor\"/>\n",
       "</g>\n",
       "\n",
       "<g class=\"displacy-arrow\">\n",
       "    <path class=\"displacy-arc\" id=\"arrow-1389f03aa4454e6bab09218feab724f0-0-6\" stroke-width=\"2px\" d=\"M700,107.0 C700,37.0 815.0,37.0 815.0,107.0\" fill=\"none\" stroke=\"currentColor\"/>\n",
       "    <text dy=\"1.25em\" style=\"font-size: 0.8em; letter-spacing: 1px\">\n",
       "        <textPath xlink:href=\"#arrow-1389f03aa4454e6bab09218feab724f0-0-6\" class=\"displacy-label\" startOffset=\"50%\" side=\"left\" fill=\"currentColor\" text-anchor=\"middle\">advmod</textPath>\n",
       "    </text>\n",
       "    <path class=\"displacy-arrowhead\" d=\"M700,109.0 L692,97.0 708,97.0\" fill=\"currentColor\"/>\n",
       "</g>\n",
       "\n",
       "<g class=\"displacy-arrow\">\n",
       "    <path class=\"displacy-arc\" id=\"arrow-1389f03aa4454e6bab09218feab724f0-0-7\" stroke-width=\"2px\" d=\"M770,107.0 C770,72.0 810.0,72.0 810.0,107.0\" fill=\"none\" stroke=\"currentColor\"/>\n",
       "    <text dy=\"1.25em\" style=\"font-size: 0.8em; letter-spacing: 1px\">\n",
       "        <textPath xlink:href=\"#arrow-1389f03aa4454e6bab09218feab724f0-0-7\" class=\"displacy-label\" startOffset=\"50%\" side=\"left\" fill=\"currentColor\" text-anchor=\"middle\">nsubj</textPath>\n",
       "    </text>\n",
       "    <path class=\"displacy-arrowhead\" d=\"M770,109.0 L762,97.0 778,97.0\" fill=\"currentColor\"/>\n",
       "</g>\n",
       "\n",
       "<g class=\"displacy-arrow\">\n",
       "    <path class=\"displacy-arc\" id=\"arrow-1389f03aa4454e6bab09218feab724f0-0-8\" stroke-width=\"2px\" d=\"M560,107.0 C560,2.0 820.0,2.0 820.0,107.0\" fill=\"none\" stroke=\"currentColor\"/>\n",
       "    <text dy=\"1.25em\" style=\"font-size: 0.8em; letter-spacing: 1px\">\n",
       "        <textPath xlink:href=\"#arrow-1389f03aa4454e6bab09218feab724f0-0-8\" class=\"displacy-label\" startOffset=\"50%\" side=\"left\" fill=\"currentColor\" text-anchor=\"middle\">advcl</textPath>\n",
       "    </text>\n",
       "    <path class=\"displacy-arrowhead\" d=\"M820.0,109.0 L828.0,97.0 812.0,97.0\" fill=\"currentColor\"/>\n",
       "</g>\n",
       "\n",
       "<g class=\"displacy-arrow\">\n",
       "    <path class=\"displacy-arc\" id=\"arrow-1389f03aa4454e6bab09218feab724f0-0-9\" stroke-width=\"2px\" d=\"M840,107.0 C840,72.0 880.0,72.0 880.0,107.0\" fill=\"none\" stroke=\"currentColor\"/>\n",
       "    <text dy=\"1.25em\" style=\"font-size: 0.8em; letter-spacing: 1px\">\n",
       "        <textPath xlink:href=\"#arrow-1389f03aa4454e6bab09218feab724f0-0-9\" class=\"displacy-label\" startOffset=\"50%\" side=\"left\" fill=\"currentColor\" text-anchor=\"middle\">prep</textPath>\n",
       "    </text>\n",
       "    <path class=\"displacy-arrowhead\" d=\"M880.0,109.0 L888.0,97.0 872.0,97.0\" fill=\"currentColor\"/>\n",
       "</g>\n",
       "\n",
       "<g class=\"displacy-arrow\">\n",
       "    <path class=\"displacy-arc\" id=\"arrow-1389f03aa4454e6bab09218feab724f0-0-10\" stroke-width=\"2px\" d=\"M980,107.0 C980,72.0 1020.0,72.0 1020.0,107.0\" fill=\"none\" stroke=\"currentColor\"/>\n",
       "    <text dy=\"1.25em\" style=\"font-size: 0.8em; letter-spacing: 1px\">\n",
       "        <textPath xlink:href=\"#arrow-1389f03aa4454e6bab09218feab724f0-0-10\" class=\"displacy-label\" startOffset=\"50%\" side=\"left\" fill=\"currentColor\" text-anchor=\"middle\">det</textPath>\n",
       "    </text>\n",
       "    <path class=\"displacy-arrowhead\" d=\"M980,109.0 L972,97.0 988,97.0\" fill=\"currentColor\"/>\n",
       "</g>\n",
       "\n",
       "<g class=\"displacy-arrow\">\n",
       "    <path class=\"displacy-arc\" id=\"arrow-1389f03aa4454e6bab09218feab724f0-0-11\" stroke-width=\"2px\" d=\"M910,107.0 C910,37.0 1025.0,37.0 1025.0,107.0\" fill=\"none\" stroke=\"currentColor\"/>\n",
       "    <text dy=\"1.25em\" style=\"font-size: 0.8em; letter-spacing: 1px\">\n",
       "        <textPath xlink:href=\"#arrow-1389f03aa4454e6bab09218feab724f0-0-11\" class=\"displacy-label\" startOffset=\"50%\" side=\"left\" fill=\"currentColor\" text-anchor=\"middle\">pobj</textPath>\n",
       "    </text>\n",
       "    <path class=\"displacy-arrowhead\" d=\"M1025.0,109.0 L1033.0,97.0 1017.0,97.0\" fill=\"currentColor\"/>\n",
       "</g>\n",
       "</svg></span>"
      ],
      "text/plain": [
       "<IPython.core.display.HTML object>"
      ]
     },
     "metadata": {},
     "output_type": "display_data"
    }
   ],
   "source": [
    "# import displacy\n",
    "from spacy import displacy\n",
    "\n",
    "# render displacy\n",
    "displacy.render(doc, style='dep', jupyter=True,options={'distance': 70})"
   ]
  },
  {
   "cell_type": "markdown",
   "metadata": {},
   "source": [
    "## Text Mining with `sklearn` ⛏️⛏️\n",
    "\n",
    "Now that we have tokens and we can easily manipulate our corpus of text, let's now sklearn for advanced text mining technics like `tf-idf`.\n",
    "\n",
    "In terms of process, we will: \n",
    "\n",
    "1. Create an array of documents \n",
    "2. Preprocess text (remove punctuation...)\n",
    "3. Create a Tf-IDF matrix using sklearn"
   ]
  },
  {
   "cell_type": "markdown",
   "metadata": {},
   "source": [
    "### Create an array of documents 💌\n",
    "\n",
    "Let's see with a closer to *real-world* example where we have different documents. We will then create a `pandas` dataframe that includes each documents. "
   ]
  },
  {
   "cell_type": "code",
   "execution_count": 11,
   "metadata": {},
   "outputs": [
    {
     "data": {
      "text/html": [
       "<div>\n",
       "<style scoped>\n",
       "    .dataframe tbody tr th:only-of-type {\n",
       "        vertical-align: middle;\n",
       "    }\n",
       "\n",
       "    .dataframe tbody tr th {\n",
       "        vertical-align: top;\n",
       "    }\n",
       "\n",
       "    .dataframe thead th {\n",
       "        text-align: right;\n",
       "    }\n",
       "</style>\n",
       "<table border=\"1\" class=\"dataframe\">\n",
       "  <thead>\n",
       "    <tr style=\"text-align: right;\">\n",
       "      <th></th>\n",
       "      <th>documents</th>\n",
       "    </tr>\n",
       "  </thead>\n",
       "  <tbody>\n",
       "    <tr>\n",
       "      <th>0</th>\n",
       "      <td>Hello World! Don't do this. I am superman wher...</td>\n",
       "    </tr>\n",
       "    <tr>\n",
       "      <th>1</th>\n",
       "      <td>Do. Or do not. There is no try.</td>\n",
       "    </tr>\n",
       "    <tr>\n",
       "      <th>2</th>\n",
       "      <td>In my experience there is no such thing as luck.</td>\n",
       "    </tr>\n",
       "    <tr>\n",
       "      <th>3</th>\n",
       "      <td>I find your lack of faith disturbing.</td>\n",
       "    </tr>\n",
       "    <tr>\n",
       "      <th>4</th>\n",
       "      <td>I’ve got a bad feeling about this.</td>\n",
       "    </tr>\n",
       "  </tbody>\n",
       "</table>\n",
       "</div>"
      ],
      "text/plain": [
       "                                           documents\n",
       "0  Hello World! Don't do this. I am superman wher...\n",
       "1                    Do. Or do not. There is no try.\n",
       "2   In my experience there is no such thing as luck.\n",
       "3              I find your lack of faith disturbing.\n",
       "4                 I’ve got a bad feeling about this."
      ]
     },
     "execution_count": 11,
     "metadata": {},
     "output_type": "execute_result"
    }
   ],
   "source": [
    "# Create an array of documents \n",
    "doc_1 = \"Hello World! Don't do this. I am superman wherever you are in the world\"\n",
    "doc_2 = \"Do. Or do not. There is no try.\"\n",
    "doc_3 = \"In my experience there is no such thing as luck.\"\n",
    "doc_4 = \"I find your lack of faith disturbing.\"\n",
    "doc_5 = \"I’ve got a bad feeling about this.\"\n",
    "\n",
    "# insert that in a Pandas dataset \n",
    "\n",
    "## importing pandas \n",
    "import pandas as pd \n",
    "\n",
    "## insert documents docs in a DataFrame\n",
    "df = pd.DataFrame()\n",
    "df[\"documents\"] = [doc_1,doc_2,doc_3,doc_4,doc_5]\n",
    "df"
   ]
  },
  {
   "cell_type": "markdown",
   "metadata": {},
   "source": [
    "### Preprocessing text 🧽\n",
    "\n",
    "Now that we have a dataset. Let's go ahead and preprocess it so that we remove punctuation, lower case all characters and remove stop words. "
   ]
  },
  {
   "cell_type": "code",
   "execution_count": 12,
   "metadata": {},
   "outputs": [
    {
     "data": {
      "text/html": [
       "<div>\n",
       "<style scoped>\n",
       "    .dataframe tbody tr th:only-of-type {\n",
       "        vertical-align: middle;\n",
       "    }\n",
       "\n",
       "    .dataframe tbody tr th {\n",
       "        vertical-align: top;\n",
       "    }\n",
       "\n",
       "    .dataframe thead th {\n",
       "        text-align: right;\n",
       "    }\n",
       "</style>\n",
       "<table border=\"1\" class=\"dataframe\">\n",
       "  <thead>\n",
       "    <tr style=\"text-align: right;\">\n",
       "      <th></th>\n",
       "      <th>documents</th>\n",
       "      <th>clean_documents</th>\n",
       "    </tr>\n",
       "  </thead>\n",
       "  <tbody>\n",
       "    <tr>\n",
       "      <th>0</th>\n",
       "      <td>Hello World! Don't do this. I am superman wher...</td>\n",
       "      <td>hello world  don t do this  i am superman wher...</td>\n",
       "    </tr>\n",
       "    <tr>\n",
       "      <th>1</th>\n",
       "      <td>Do. Or do not. There is no try.</td>\n",
       "      <td>do  or do not  there is no try</td>\n",
       "    </tr>\n",
       "    <tr>\n",
       "      <th>2</th>\n",
       "      <td>In my experience there is no such thing as luck.</td>\n",
       "      <td>in my experience there is no such thing as luck</td>\n",
       "    </tr>\n",
       "    <tr>\n",
       "      <th>3</th>\n",
       "      <td>I find your lack of faith disturbing.</td>\n",
       "      <td>i find your lack of faith disturbing</td>\n",
       "    </tr>\n",
       "    <tr>\n",
       "      <th>4</th>\n",
       "      <td>I’ve got a bad feeling about this.</td>\n",
       "      <td>i ve got a bad feeling about this</td>\n",
       "    </tr>\n",
       "  </tbody>\n",
       "</table>\n",
       "</div>"
      ],
      "text/plain": [
       "                                           documents  \\\n",
       "0  Hello World! Don't do this. I am superman wher...   \n",
       "1                    Do. Or do not. There is no try.   \n",
       "2   In my experience there is no such thing as luck.   \n",
       "3              I find your lack of faith disturbing.   \n",
       "4                 I’ve got a bad feeling about this.   \n",
       "\n",
       "                                     clean_documents  \n",
       "0  hello world  don t do this  i am superman wher...  \n",
       "1                    do  or do not  there is no try   \n",
       "2   in my experience there is no such thing as luck   \n",
       "3              i find your lack of faith disturbing   \n",
       "4                 i ve got a bad feeling about this   "
      ]
     },
     "execution_count": 12,
     "metadata": {},
     "output_type": "execute_result"
    }
   ],
   "source": [
    "# Remove punctuation and lower case all doc \n",
    "# We use Regular Expression. More info here --> https://stackoverflow.com/questions/20731966/regex-remove-all-special-characters-except-numbers\n",
    "df['clean_documents'] = df['documents'].str.replace(r\"[^A-Za-z0-9 ]+\", \" \") \n",
    "df['clean_documents'] = df['clean_documents'].fillna('').apply(lambda x: x.lower())\n",
    "df"
   ]
  },
  {
   "cell_type": "code",
   "execution_count": 13,
   "metadata": {},
   "outputs": [
    {
     "data": {
      "text/plain": [
       "0    [hello, world,  , don, t,  , superman, world]\n",
       "1                                      [ ,  , try]\n",
       "2                        [experience, thing, luck]\n",
       "3                     [find, lack, faith, disturb]\n",
       "4                          [ve, get, bad, feeling]\n",
       "Name: clean_documents, dtype: object"
      ]
     },
     "execution_count": 13,
     "metadata": {},
     "output_type": "execute_result"
    }
   ],
   "source": [
    "## Import stop words from spacy \n",
    "from spacy.lang.en.stop_words import STOP_WORDS\n",
    "\n",
    "## Tokenize the cleaned document\n",
    "tokenized_doc = df['clean_documents'].fillna('').apply(lambda x: nlp(x))\n",
    "\n",
    "# remove stop-words\n",
    "tokenized_doc = tokenized_doc.apply(lambda x: [token.lemma_ for token in x if token.text not in STOP_WORDS])\n",
    "tokenized_doc"
   ]
  },
  {
   "cell_type": "code",
   "execution_count": 14,
   "metadata": {},
   "outputs": [
    {
     "data": {
      "text/html": [
       "<div>\n",
       "<style scoped>\n",
       "    .dataframe tbody tr th:only-of-type {\n",
       "        vertical-align: middle;\n",
       "    }\n",
       "\n",
       "    .dataframe tbody tr th {\n",
       "        vertical-align: top;\n",
       "    }\n",
       "\n",
       "    .dataframe thead th {\n",
       "        text-align: right;\n",
       "    }\n",
       "</style>\n",
       "<table border=\"1\" class=\"dataframe\">\n",
       "  <thead>\n",
       "    <tr style=\"text-align: right;\">\n",
       "      <th></th>\n",
       "      <th>documents</th>\n",
       "      <th>clean_documents</th>\n",
       "      <th>clean_token</th>\n",
       "    </tr>\n",
       "  </thead>\n",
       "  <tbody>\n",
       "    <tr>\n",
       "      <th>0</th>\n",
       "      <td>Hello World! Don't do this. I am superman wher...</td>\n",
       "      <td>hello world  don t do this  i am superman wher...</td>\n",
       "      <td>hello world   don t   superman world</td>\n",
       "    </tr>\n",
       "    <tr>\n",
       "      <th>1</th>\n",
       "      <td>Do. Or do not. There is no try.</td>\n",
       "      <td>do  or do not  there is no try</td>\n",
       "      <td>try</td>\n",
       "    </tr>\n",
       "    <tr>\n",
       "      <th>2</th>\n",
       "      <td>In my experience there is no such thing as luck.</td>\n",
       "      <td>in my experience there is no such thing as luck</td>\n",
       "      <td>experience thing luck</td>\n",
       "    </tr>\n",
       "    <tr>\n",
       "      <th>3</th>\n",
       "      <td>I find your lack of faith disturbing.</td>\n",
       "      <td>i find your lack of faith disturbing</td>\n",
       "      <td>find lack faith disturb</td>\n",
       "    </tr>\n",
       "    <tr>\n",
       "      <th>4</th>\n",
       "      <td>I’ve got a bad feeling about this.</td>\n",
       "      <td>i ve got a bad feeling about this</td>\n",
       "      <td>ve get bad feeling</td>\n",
       "    </tr>\n",
       "  </tbody>\n",
       "</table>\n",
       "</div>"
      ],
      "text/plain": [
       "                                           documents  \\\n",
       "0  Hello World! Don't do this. I am superman wher...   \n",
       "1                    Do. Or do not. There is no try.   \n",
       "2   In my experience there is no such thing as luck.   \n",
       "3              I find your lack of faith disturbing.   \n",
       "4                 I’ve got a bad feeling about this.   \n",
       "\n",
       "                                     clean_documents  \\\n",
       "0  hello world  don t do this  i am superman wher...   \n",
       "1                    do  or do not  there is no try    \n",
       "2   in my experience there is no such thing as luck    \n",
       "3              i find your lack of faith disturbing    \n",
       "4                 i ve got a bad feeling about this    \n",
       "\n",
       "                            clean_token  \n",
       "0  hello world   don t   superman world  \n",
       "1                                   try  \n",
       "2                 experience thing luck  \n",
       "3               find lack faith disturb  \n",
       "4                    ve get bad feeling  "
      ]
     },
     "execution_count": 14,
     "metadata": {},
     "output_type": "execute_result"
    }
   ],
   "source": [
    "# add a clean token column \n",
    "df[\"clean_token\"] = [\" \".join(x) for x in tokenized_doc]\n",
    "df.head()"
   ]
  },
  {
   "cell_type": "markdown",
   "metadata": {},
   "source": [
    "### Create TF-IDF matrix 🍍\n",
    "\n",
    "Finally, let's create a tf-idf matrix where we can classify each word's importance. "
   ]
  },
  {
   "cell_type": "code",
   "execution_count": 15,
   "metadata": {},
   "outputs": [
    {
     "data": {
      "text/plain": [
       "array([[0.        , 0.        , 0.37796447, 0.        , 0.        ,\n",
       "        0.        , 0.37796447, 0.        , 0.        , 0.37796447,\n",
       "        0.        , 0.        , 0.        , 0.75592895],\n",
       "       [0.        , 0.        , 0.        , 0.        , 0.        ,\n",
       "        0.        , 0.        , 0.        , 0.        , 0.        ,\n",
       "        0.        , 1.        , 0.        , 0.        ],\n",
       "       [0.        , 0.        , 0.        , 0.57735027, 0.        ,\n",
       "        0.        , 0.        , 0.        , 0.57735027, 0.        ,\n",
       "        0.57735027, 0.        , 0.        , 0.        ],\n",
       "       [0.        , 0.57735027, 0.        , 0.        , 0.57735027,\n",
       "        0.        , 0.        , 0.57735027, 0.        , 0.        ,\n",
       "        0.        , 0.        , 0.        , 0.        ],\n",
       "       [0.57735027, 0.        , 0.        , 0.        , 0.        ,\n",
       "        0.57735027, 0.        , 0.        , 0.        , 0.        ,\n",
       "        0.        , 0.        , 0.57735027, 0.        ]])"
      ]
     },
     "execution_count": 15,
     "metadata": {},
     "output_type": "execute_result"
    }
   ],
   "source": [
    "# Tfidf transformer \n",
    "from sklearn.feature_extraction.text import TfidfVectorizer\n",
    "\n",
    "# TF-IDF vector\n",
    "vectorizer = TfidfVectorizer(stop_words='english')\n",
    "X = vectorizer.fit_transform(df['clean_token'])\n",
    "\n",
    "# X is a generator. We can transform that as an array\n",
    "dense = X.toarray()\n",
    "dense"
   ]
  },
  {
   "cell_type": "code",
   "execution_count": 16,
   "metadata": {
    "scrolled": true
   },
   "outputs": [
    {
     "data": {
      "text/plain": [
       "{'hello': 6,\n",
       " 'world': 13,\n",
       " 'don': 2,\n",
       " 'superman': 9,\n",
       " 'try': 11,\n",
       " 'experience': 3,\n",
       " 'thing': 10,\n",
       " 'luck': 8,\n",
       " 'lack': 7,\n",
       " 'faith': 4,\n",
       " 'disturb': 1,\n",
       " 've': 12,\n",
       " 'bad': 0,\n",
       " 'feeling': 5}"
      ]
     },
     "execution_count": 16,
     "metadata": {},
     "output_type": "execute_result"
    }
   ],
   "source": [
    "# Get tokens for all documents\n",
    "vectorizer.vocabulary_"
   ]
  },
  {
   "cell_type": "code",
   "execution_count": 18,
   "metadata": {
    "scrolled": true
   },
   "outputs": [
    {
     "data": {
      "text/html": [
       "<div>\n",
       "<style scoped>\n",
       "    .dataframe tbody tr th:only-of-type {\n",
       "        vertical-align: middle;\n",
       "    }\n",
       "\n",
       "    .dataframe tbody tr th {\n",
       "        vertical-align: top;\n",
       "    }\n",
       "\n",
       "    .dataframe thead th {\n",
       "        text-align: right;\n",
       "    }\n",
       "</style>\n",
       "<table border=\"1\" class=\"dataframe\">\n",
       "  <thead>\n",
       "    <tr style=\"text-align: right;\">\n",
       "      <th></th>\n",
       "      <th>bad</th>\n",
       "      <th>disturb</th>\n",
       "      <th>don</th>\n",
       "      <th>experience</th>\n",
       "      <th>faith</th>\n",
       "      <th>feeling</th>\n",
       "      <th>hello</th>\n",
       "      <th>lack</th>\n",
       "      <th>luck</th>\n",
       "      <th>superman</th>\n",
       "      <th>thing</th>\n",
       "      <th>try</th>\n",
       "      <th>ve</th>\n",
       "      <th>world</th>\n",
       "    </tr>\n",
       "  </thead>\n",
       "  <tbody>\n",
       "    <tr>\n",
       "      <th>doc_1</th>\n",
       "      <td>0.00000</td>\n",
       "      <td>0.00000</td>\n",
       "      <td>0.377964</td>\n",
       "      <td>0.00000</td>\n",
       "      <td>0.00000</td>\n",
       "      <td>0.00000</td>\n",
       "      <td>0.377964</td>\n",
       "      <td>0.00000</td>\n",
       "      <td>0.00000</td>\n",
       "      <td>0.377964</td>\n",
       "      <td>0.00000</td>\n",
       "      <td>0.0</td>\n",
       "      <td>0.00000</td>\n",
       "      <td>0.755929</td>\n",
       "    </tr>\n",
       "    <tr>\n",
       "      <th>doc_2</th>\n",
       "      <td>0.00000</td>\n",
       "      <td>0.00000</td>\n",
       "      <td>0.000000</td>\n",
       "      <td>0.00000</td>\n",
       "      <td>0.00000</td>\n",
       "      <td>0.00000</td>\n",
       "      <td>0.000000</td>\n",
       "      <td>0.00000</td>\n",
       "      <td>0.00000</td>\n",
       "      <td>0.000000</td>\n",
       "      <td>0.00000</td>\n",
       "      <td>1.0</td>\n",
       "      <td>0.00000</td>\n",
       "      <td>0.000000</td>\n",
       "    </tr>\n",
       "    <tr>\n",
       "      <th>doc_3</th>\n",
       "      <td>0.00000</td>\n",
       "      <td>0.00000</td>\n",
       "      <td>0.000000</td>\n",
       "      <td>0.57735</td>\n",
       "      <td>0.00000</td>\n",
       "      <td>0.00000</td>\n",
       "      <td>0.000000</td>\n",
       "      <td>0.00000</td>\n",
       "      <td>0.57735</td>\n",
       "      <td>0.000000</td>\n",
       "      <td>0.57735</td>\n",
       "      <td>0.0</td>\n",
       "      <td>0.00000</td>\n",
       "      <td>0.000000</td>\n",
       "    </tr>\n",
       "    <tr>\n",
       "      <th>doc_4</th>\n",
       "      <td>0.00000</td>\n",
       "      <td>0.57735</td>\n",
       "      <td>0.000000</td>\n",
       "      <td>0.00000</td>\n",
       "      <td>0.57735</td>\n",
       "      <td>0.00000</td>\n",
       "      <td>0.000000</td>\n",
       "      <td>0.57735</td>\n",
       "      <td>0.00000</td>\n",
       "      <td>0.000000</td>\n",
       "      <td>0.00000</td>\n",
       "      <td>0.0</td>\n",
       "      <td>0.00000</td>\n",
       "      <td>0.000000</td>\n",
       "    </tr>\n",
       "    <tr>\n",
       "      <th>doc_5</th>\n",
       "      <td>0.57735</td>\n",
       "      <td>0.00000</td>\n",
       "      <td>0.000000</td>\n",
       "      <td>0.00000</td>\n",
       "      <td>0.00000</td>\n",
       "      <td>0.57735</td>\n",
       "      <td>0.000000</td>\n",
       "      <td>0.00000</td>\n",
       "      <td>0.00000</td>\n",
       "      <td>0.000000</td>\n",
       "      <td>0.00000</td>\n",
       "      <td>0.0</td>\n",
       "      <td>0.57735</td>\n",
       "      <td>0.000000</td>\n",
       "    </tr>\n",
       "  </tbody>\n",
       "</table>\n",
       "</div>"
      ],
      "text/plain": [
       "           bad  disturb       don  experience    faith  feeling     hello  \\\n",
       "doc_1  0.00000  0.00000  0.377964     0.00000  0.00000  0.00000  0.377964   \n",
       "doc_2  0.00000  0.00000  0.000000     0.00000  0.00000  0.00000  0.000000   \n",
       "doc_3  0.00000  0.00000  0.000000     0.57735  0.00000  0.00000  0.000000   \n",
       "doc_4  0.00000  0.57735  0.000000     0.00000  0.57735  0.00000  0.000000   \n",
       "doc_5  0.57735  0.00000  0.000000     0.00000  0.00000  0.57735  0.000000   \n",
       "\n",
       "          lack     luck  superman    thing  try       ve     world  \n",
       "doc_1  0.00000  0.00000  0.377964  0.00000  0.0  0.00000  0.755929  \n",
       "doc_2  0.00000  0.00000  0.000000  0.00000  1.0  0.00000  0.000000  \n",
       "doc_3  0.00000  0.57735  0.000000  0.57735  0.0  0.00000  0.000000  \n",
       "doc_4  0.57735  0.00000  0.000000  0.00000  0.0  0.00000  0.000000  \n",
       "doc_5  0.00000  0.00000  0.000000  0.00000  0.0  0.57735  0.000000  "
      ]
     },
     "execution_count": 18,
     "metadata": {},
     "output_type": "execute_result"
    }
   ],
   "source": [
    "# Create a tf-idf matrix for each token and each document\n",
    "pd.DataFrame(dense, \n",
    "             columns=[x for x in vectorizer.get_feature_names()], \n",
    "             index=[\"doc_{}\".format(x) for x in range(1, 6)] )"
   ]
  },
  {
   "cell_type": "markdown",
   "metadata": {},
   "source": [
    "Here, we can see that **doc1** is described as a mixing of \"don\", \"hello\", \"superman\", and \"world\", the latter being twice more important as the other ones (because it has been found twice in the document)"
   ]
  },
  {
   "cell_type": "markdown",
   "metadata": {
    "colab_type": "text",
    "id": "fQ8N4H_KWczv"
   },
   "source": [
    "## Resources 📚📚\n",
    "\n",
    "* <a href=\"https://scikit-learn.org/stable/modules/generated/sklearn.feature_extraction.text.TfidfVectorizer.html?highlight=tfidf#sklearn.feature_extraction.text.TfidfVectorizer\" target=\"_blank\">TF-IDF Vectorizer</a>\n",
    "* <a href=\"https://aylien.com/blog/10-common-nlp-terms-explained-for-the-text-analysis-novice\" target=\"_blank\">10 Common NLP Terms Explained for the Text Analysis Novice</a>\n",
    "* [Lemmatizer](https://spacy.io/api/lemmatizer)\n",
    "* [Adding Languages](https://spacy.io/usage/adding-languages#lemmatizer)\n",
    "* [Getting Started with spaCy for Natural Language Processing](https://www.kdnuggets.com/2018/05/getting-started-spacy-natural-language-processing.html)"
   ]
  }
 ],
 "metadata": {
  "colab": {
   "authorship_tag": "ABX9TyPRug/xoB0w3Vnp9Ro21r9L",
   "collapsed_sections": [],
   "name": "NLP with Spacy.ipynb",
   "provenance": []
  },
  "kernelspec": {
   "display_name": "Python 3",
   "language": "python",
   "name": "python3"
  },
  "language_info": {
   "codemirror_mode": {
    "name": "ipython",
    "version": 3
   },
   "file_extension": ".py",
   "mimetype": "text/x-python",
   "name": "python",
   "nbconvert_exporter": "python",
   "pygments_lexer": "ipython3",
   "version": "3.8.6"
  }
 },
 "nbformat": 4,
 "nbformat_minor": 4
}
