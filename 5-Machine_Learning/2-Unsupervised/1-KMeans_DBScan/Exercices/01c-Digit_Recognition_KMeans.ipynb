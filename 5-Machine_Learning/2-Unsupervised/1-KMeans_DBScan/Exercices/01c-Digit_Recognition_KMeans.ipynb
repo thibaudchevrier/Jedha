{
 "cells": [
  {
   "cell_type": "markdown",
   "metadata": {
    "colab_type": "text",
    "id": "fSnU9yCOOUnW"
   },
   "source": [
    "# Digit Recognition \n",
    "\n",
    "You can create very useful clusters without having labeled data. Let's test with MNIST"
   ]
  },
  {
   "cell_type": "markdown",
   "metadata": {
    "colab_type": "text",
    "id": "VNGFxq7KOXBp"
   },
   "source": [
    "0. Import usuals librairies"
   ]
  },
  {
   "cell_type": "code",
   "execution_count": 1,
   "metadata": {
    "colab": {},
    "colab_type": "code",
    "id": "gMN32JWolV9K"
   },
   "outputs": [],
   "source": [
    "import pandas as pd\n",
    "import numpy as np"
   ]
  },
  {
   "cell_type": "markdown",
   "metadata": {
    "colab_type": "text",
    "id": "FIOFUuRFOa5f"
   },
   "source": [
    "1. In Scikit Learn, import _load_digits_"
   ]
  },
  {
   "cell_type": "code",
   "execution_count": 2,
   "metadata": {
    "colab": {},
    "colab_type": "code",
    "id": "DDi9yqDplV9Z"
   },
   "outputs": [],
   "source": [
    "from sklearn.datasets import load_digits\n",
    "\n",
    "X, y = load_digits(return_X_y=True, as_frame=True)"
   ]
  },
  {
   "cell_type": "markdown",
   "metadata": {
    "colab_type": "text",
    "id": "ri6jKvA-Od-1"
   },
   "source": [
    "2. Look at the [Load_digit](https://scikit-learn.org/stable/modules/generated/sklearn.datasets.load_digits.html) documentation and store the numbers in a _numbers_ variable and your target variable in a _target_ variable."
   ]
  },
  {
   "cell_type": "code",
   "execution_count": 3,
   "metadata": {
    "colab": {},
    "colab_type": "code",
    "id": "d-gbMbM_lV9i"
   },
   "outputs": [],
   "source": [
    "numbers = pd.DataFrame(X)\n",
    "target = pd.Series(y)"
   ]
  },
  {
   "cell_type": "markdown",
   "metadata": {
    "colab_type": "text",
    "id": "iN4LkVIPOhoS"
   },
   "source": [
    "3. Tentons de visualiser quelques nombres. Regardez d’abord la taille de votre dataset. Combien de colonnes voyez vous ? \n",
    "\n",
    "Devinez ensuite quelle taille d’image ce nombre de colonnes devraient donner"
   ]
  },
  {
   "cell_type": "code",
   "execution_count": 4,
   "metadata": {
    "colab": {},
    "colab_type": "code",
    "id": "JQNBj4D2lV9m",
    "outputId": "d51f9e33-b576-465e-b9c0-66239104686c"
   },
   "outputs": [
    {
     "name": "stdout",
     "output_type": "stream",
     "text": [
      "(1797, 64), with image size of 8.0 x 8.0\n"
     ]
    }
   ],
   "source": [
    "datas, pixels = numbers.shape\n",
    "print(f\"{datas, pixels}, with image size of {pixels**(0.5)} x {pixels**(0.5)}\")"
   ]
  },
  {
   "cell_type": "markdown",
   "metadata": {
    "colab_type": "text",
    "id": "sJoRk-aLOrL-"
   },
   "source": [
    "4. Now look at the documentation related to [imshow](https://matplotlib.org/api/_as_gen/matplotlib.pyplot.imshow.html) from matplotlib. Try to view a random number. Add as a caption, the number this image corresponds to. Then try to view 10 random numbers in the dataset"
   ]
  },
  {
   "cell_type": "code",
   "execution_count": 10,
   "metadata": {
    "colab": {},
    "colab_type": "code",
    "id": "A7ImzxA2lV9t",
    "outputId": "fc499870-c033-4477-ff00-e6163c7974aa"
   },
   "outputs": [
    {
     "data": {
      "image/png": "[encoded data removed]",
      "text/plain": [
       "<Figure size 1080x432 with 10 Axes>"
      ]
     },
     "metadata": {
      "needs_background": "light"
     },
     "output_type": "display_data"
    }
   ],
   "source": [
    "from matplotlib import pyplot as plt\n",
    "\n",
    "def plot_numbers(df, target, num_sample = 10, num_cols = 5):\n",
    "    \n",
    "    datas, pixels = df.shape\n",
    "    \n",
    "    rand_samp = df.sample(n=num_sample, random_state=1)\n",
    "    \n",
    "    rand_sample= pd.DataFrame({\"images\": rand_samp.apply(lambda x: x.values.reshape(int(pixels**0.5), int(pixels**0.5)), axis=1).sort_index(), \n",
    "                               \"target\": target[target.index.isin(rand_samp.index)]})\n",
    "    \n",
    "    num_lines = int(num_sample / num_cols) + int(num_sample%num_cols != 0)\n",
    "    \n",
    "    f, axes = plt.subplots(num_lines, num_cols,figsize=(15,3*num_lines))\n",
    "\n",
    "    for idx, ax in enumerate(axes.flat):\n",
    "        row = rand_sample.iloc[idx, :]\n",
    "        ax.imshow(row[\"images\"])\n",
    "        ax.set_title(row[\"target\"])\n",
    "\n",
    "    plt.show()\n",
    "    \n",
    "plot_numbers(numbers, target)"
   ]
  },
  {
   "cell_type": "markdown",
   "metadata": {
    "colab_type": "text",
    "id": "hqq_5zd3PTrj"
   },
   "source": [
    "6. Create your KMeans algorithm with the right number of clusters"
   ]
  },
  {
   "cell_type": "code",
   "execution_count": 118,
   "metadata": {
    "colab": {},
    "colab_type": "code",
    "id": "5CvG1flLlV9y"
   },
   "outputs": [],
   "source": [
    "from sklearn.cluster import KMeans\n",
    "\n",
    "kmeans = KMeans(n_clusters= 10, init = \"k-means++\", random_state = 0)\n",
    "clusters = kmeans.fit_predict(numbers)"
   ]
  },
  {
   "cell_type": "markdown",
   "metadata": {
    "colab_type": "text",
    "id": "1rJCh7eiPXaR"
   },
   "source": [
    "7. Let's evaluate our model, calculate the _accuracy_score_ of our predictions by importing the sklearn module. What do you conclude?"
   ]
  },
  {
   "cell_type": "code",
   "execution_count": 205,
   "metadata": {
    "colab": {},
    "colab_type": "code",
    "id": "yuWld3D1lV91"
   },
   "outputs": [
    {
     "name": "stdout",
     "output_type": "stream",
     "text": [
      "              precision    recall  f1-score   support\n",
      "\n",
      "           0       0.01      0.01      0.01       166\n",
      "           1       0.01      0.01      0.01       180\n",
      "           2       0.01      0.02      0.01        91\n",
      "           3       0.01      0.01      0.01       176\n",
      "           4       0.00      0.00      0.00       242\n",
      "           5       0.00      0.00      0.00       179\n",
      "           6       0.00      0.00      0.00       206\n",
      "           7       0.00      0.00      0.00       182\n",
      "           8       0.02      0.03      0.02       149\n",
      "           9       0.01      0.01      0.01       226\n",
      "\n",
      "    accuracy                           0.01      1797\n",
      "   macro avg       0.01      0.01      0.01      1797\n",
      "weighted avg       0.01      0.01      0.01      1797\n",
      "\n"
     ]
    }
   ],
   "source": [
    "from sklearn.metrics import classification_report, confusion_matrix\n",
    "\n",
    "print(classification_report(clusters, target.values))"
   ]
  },
  {
   "cell_type": "markdown",
   "metadata": {
    "colab_type": "text",
    "id": "LCClpxDePh4F"
   },
   "source": [
    "8. Look at the coordinates of the centroids (cf. [cluster_center_](http://lijiancheng0614.github.io/scikit-learn/modules/generated/sklearn.cluster.KMeans.html))"
   ]
  },
  {
   "cell_type": "code",
   "execution_count": 202,
   "metadata": {},
   "outputs": [
    {
     "data": {
      "text/plain": [
       "array([[ 0.00000000e+00,  1.66533454e-16,  3.07228916e-01,\n",
       "         7.16265060e+00,  1.19457831e+01,  1.93373494e+00,\n",
       "         1.50602410e-01,  5.42168675e-02,  2.60208521e-18,\n",
       "         1.20481928e-02,  3.28313253e+00,  1.37951807e+01,\n",
       "         8.46385542e+00,  1.53012048e+00,  9.75903614e-01,\n",
       "         2.77108434e-01,  1.30104261e-18,  6.44578313e-01,\n",
       "         1.07108434e+01,  1.15602410e+01,  4.33734940e+00,\n",
       "         5.25903614e+00,  3.87349398e+00,  3.25301205e-01,\n",
       "         6.02409639e-03,  4.75903614e+00,  1.47590361e+01,\n",
       "         5.86144578e+00,  6.87951807e+00,  1.07530120e+01,\n",
       "         6.21686747e+00,  1.80722892e-02,  0.00000000e+00,\n",
       "         8.92771084e+00,  1.48072289e+01,  9.35542169e+00,\n",
       "         1.28132530e+01,  1.43915663e+01,  5.48192771e+00,\n",
       "         0.00000000e+00,  9.63855422e-02,  6.50602410e+00,\n",
       "         1.16867470e+01,  1.23433735e+01,  1.48373494e+01,\n",
       "         1.07590361e+01,  1.56626506e+00,  2.08166817e-17,\n",
       "         6.02409639e-02,  1.11445783e+00,  3.00000000e+00,\n",
       "         7.77710843e+00,  1.40843373e+01,  4.13253012e+00,\n",
       "         1.80722892e-02,  1.66533454e-16, -1.08420217e-19,\n",
       "         2.40963855e-02,  3.73493976e-01,  7.96385542e+00,\n",
       "         1.23253012e+01,  1.77108434e+00, -4.44089210e-16,\n",
       "        -2.22044605e-16],\n",
       "       [ 0.00000000e+00,  6.00000000e-01,  8.73333333e+00,\n",
       "         1.45388889e+01,  1.39666667e+01,  6.96111111e+00,\n",
       "         5.61111111e-01,  0.00000000e+00,  1.66666667e-02,\n",
       "         4.22222222e+00,  1.26000000e+01,  9.01666667e+00,\n",
       "         1.11777778e+01,  1.19333333e+01,  1.84444444e+00,\n",
       "         1.11111111e-02,  5.55555556e-03,  1.93888889e+00,\n",
       "         3.68888889e+00,  3.56666667e+00,  1.17388889e+01,\n",
       "         9.83888889e+00,  8.61111111e-01,  8.32667268e-17,\n",
       "        -8.67361738e-19,  6.66666667e-02,  1.01111111e+00,\n",
       "         8.30000000e+00,  1.38388889e+01,  6.75000000e+00,\n",
       "         3.27777778e-01, -1.73472348e-18,  0.00000000e+00,\n",
       "         6.11111111e-02,  6.94444444e-01,  4.71666667e+00,\n",
       "         1.17944444e+01,  1.21444444e+01,  2.27777778e+00,\n",
       "         0.00000000e+00, -6.93889390e-18,  4.50000000e-01,\n",
       "         1.56666667e+00,  7.38888889e-01,  4.18333333e+00,\n",
       "         1.23777778e+01,  6.24444444e+00,  5.55555556e-03,\n",
       "         1.73472348e-18,  9.27777778e-01,  7.41666667e+00,\n",
       "         6.54444444e+00,  8.48888889e+00,  1.36666667e+01,\n",
       "         6.02777778e+00,  1.72222222e-01, -4.33680869e-19,\n",
       "         4.72222222e-01,  9.51111111e+00,  1.49055556e+01,\n",
       "         1.41222222e+01,  8.86666667e+00,  1.85555556e+00,\n",
       "         4.11111111e-01],\n",
       "       [ 0.00000000e+00,  1.66533454e-16,  3.29670330e-02,\n",
       "         1.76923077e+00,  1.10549451e+01,  1.24725275e+01,\n",
       "         4.10989011e+00,  2.41758242e-01,  8.67361738e-19,\n",
       "         5.49450549e-02,  1.95604396e+00,  8.89010989e+00,\n",
       "         1.38241758e+01,  1.24175824e+01,  5.09890110e+00,\n",
       "         3.18681319e-01,  4.33680869e-19,  1.60439560e+00,\n",
       "         8.82417582e+00,  1.26593407e+01,  1.21648352e+01,\n",
       "         1.29010989e+01,  3.82417582e+00,  1.42857143e-01,\n",
       "         4.33680869e-19,  3.61538462e+00,  1.21538462e+01,\n",
       "         1.18791209e+01,  1.30109890e+01,  1.35054945e+01,\n",
       "         2.48351648e+00,  8.67361738e-19,  0.00000000e+00,\n",
       "         1.90109890e+00,  6.80219780e+00,  7.25274725e+00,\n",
       "         1.17252747e+01,  1.25384615e+01,  1.82417582e+00,\n",
       "         0.00000000e+00,  3.46944695e-18,  8.02197802e-01,\n",
       "         1.95604396e+00,  3.76923077e+00,  1.16923077e+01,\n",
       "         1.19010989e+01,  1.21978022e+00,  1.04083409e-17,\n",
       "         4.33680869e-18,  6.59340659e-02,  3.18681319e-01,\n",
       "         2.98901099e+00,  1.24285714e+01,  1.17362637e+01,\n",
       "         1.69230769e+00,  0.00000000e+00,  2.16840434e-19,\n",
       "         2.22044605e-16,  1.77635684e-15,  1.85714286e+00,\n",
       "         1.13406593e+01,  1.07802198e+01,  1.72527473e+00,\n",
       "         0.00000000e+00],\n",
       "       [ 0.00000000e+00,  9.37500000e-01,  1.01420455e+01,\n",
       "         1.44204545e+01,  7.79545455e+00,  9.82954545e-01,\n",
       "        -1.11022302e-15,  0.00000000e+00,  2.27272727e-02,\n",
       "         5.22159091e+00,  1.37215909e+01,  1.26022727e+01,\n",
       "         1.16761364e+01,  3.26136364e+00,  1.70454545e-02,\n",
       "        -4.16333634e-17,  1.13636364e-02,  4.59090909e+00,\n",
       "         8.13636364e+00,  6.10227273e+00,  1.21647727e+01,\n",
       "         3.57386364e+00,  1.70454545e-02,  7.63278329e-17,\n",
       "        -6.50521303e-19,  9.94318182e-01,  2.82954545e+00,\n",
       "         6.97727273e+00,  1.25397727e+01,  2.55681818e+00,\n",
       "         3.97727273e-02, -1.30104261e-18,  0.00000000e+00,\n",
       "         4.54545455e-02,  1.56250000e+00,  9.89772727e+00,\n",
       "         1.06875000e+01,  1.44318182e+00, -3.99680289e-15,\n",
       "         0.00000000e+00, -5.20417043e-18,  2.50000000e-01,\n",
       "         4.43181818e+00,  1.11875000e+01,  7.75568182e+00,\n",
       "         2.40909091e+00,  8.46590909e-01,  1.13636364e-02,\n",
       "         0.00000000e+00,  1.18750000e+00,  1.09659091e+01,\n",
       "         1.36931818e+01,  1.18579545e+01,  1.11647727e+01,\n",
       "         7.65909091e+00,  1.09659091e+00, -3.25260652e-19,\n",
       "         9.26136364e-01,  1.03352273e+01,  1.44545455e+01,\n",
       "         1.35170455e+01,  1.23750000e+01,  8.94318182e+00,\n",
       "         2.93750000e+00],\n",
       "       [ 0.00000000e+00,  1.90082645e-01,  6.48347107e+00,\n",
       "         1.25330579e+01,  1.18760331e+01,  5.72727273e+00,\n",
       "         6.81818182e-01,  8.26446281e-03, -6.07153217e-18,\n",
       "         2.57851240e+00,  1.40123967e+01,  9.26446281e+00,\n",
       "         9.43388430e+00,  1.04173554e+01,  1.33057851e+00,\n",
       "         4.13223140e-03, -3.03576608e-18,  4.28512397e+00,\n",
       "         1.29008264e+01,  4.45041322e+00,  6.88429752e+00,\n",
       "         1.12272727e+01,  1.91735537e+00,  1.04083409e-16,\n",
       "        -1.51788304e-18,  2.33057851e+00,  1.05330579e+01,\n",
       "         1.18719008e+01,  1.31900826e+01,  1.22190083e+01,\n",
       "         2.50413223e+00, -3.03576608e-18,  0.00000000e+00,\n",
       "         3.09917355e-01,  3.22727273e+00,  6.01239669e+00,\n",
       "         6.61157025e+00,  1.14586777e+01,  4.37190083e+00,\n",
       "         0.00000000e+00, -1.21430643e-17,  2.19008264e-01,\n",
       "         2.22727273e+00,  1.91735537e+00,  1.57851240e+00,\n",
       "         1.09421488e+01,  6.54545455e+00,  1.65289256e-02,\n",
       "        -1.04083409e-17,  7.64462810e-01,  8.02892562e+00,\n",
       "         5.66528926e+00,  4.79752066e+00,  1.22231405e+01,\n",
       "         6.03719008e+00,  1.15702479e-01, -7.58941521e-19,\n",
       "         1.69421488e-01,  6.40082645e+00,  1.35041322e+01,\n",
       "         1.45000000e+01,  9.95454545e+00,  2.31818182e+00,\n",
       "         1.15702479e-01],\n",
       "       [ 0.00000000e+00,  2.23463687e-02,  4.22905028e+00,\n",
       "         1.31396648e+01,  1.12681564e+01,  2.93854749e+00,\n",
       "         3.35195531e-02,  2.77555756e-17,  2.60208521e-18,\n",
       "         8.82681564e-01,  1.26201117e+01,  1.33687151e+01,\n",
       "         1.14078212e+01,  1.13687151e+01,  9.60893855e-01,\n",
       "        -6.93889390e-17,  1.30104261e-18,  3.72625698e+00,\n",
       "         1.42122905e+01,  5.25139665e+00,  2.10614525e+00,\n",
       "         1.21173184e+01,  3.53072626e+00,  7.63278329e-17,\n",
       "        -6.50521303e-19,  5.29608939e+00,  1.26424581e+01,\n",
       "         2.03351955e+00,  2.29050279e-01,  9.07821229e+00,\n",
       "         6.47486034e+00, -1.30104261e-18,  0.00000000e+00,\n",
       "         5.88268156e+00,  1.14916201e+01,  8.65921788e-01,\n",
       "         3.35195531e-02,  8.81005587e+00,  7.15083799e+00,\n",
       "         0.00000000e+00, -5.20417043e-18,  3.51396648e+00,\n",
       "         1.32849162e+01,  1.65921788e+00,  1.49162011e+00,\n",
       "         1.13519553e+01,  5.84357542e+00,  1.38777878e-17,\n",
       "         3.46944695e-18,  8.04469274e-01,  1.31117318e+01,\n",
       "         9.96089385e+00,  1.03519553e+01,  1.32960894e+01,\n",
       "         2.47486034e+00,  2.23463687e-02, -3.25260652e-19,\n",
       "         5.58659218e-03,  4.19553073e+00,  1.35865922e+01,\n",
       "         1.33407821e+01,  5.48044693e+00,  3.18435754e-01,\n",
       "         1.67597765e-02],\n",
       "       [ 0.00000000e+00,  1.60194175e-01,  4.88834951e+00,\n",
       "         1.28689320e+01,  1.40631068e+01,  1.09805825e+01,\n",
       "         4.98543689e+00,  9.41747573e-01,  2.60208521e-18,\n",
       "         1.12135922e+00,  1.06553398e+01,  1.15145631e+01,\n",
       "         1.04320388e+01,  1.25825243e+01,  5.52427184e+00,\n",
       "         5.38834951e-01,  1.30104261e-18,  1.17961165e+00,\n",
       "         5.45145631e+00,  2.30097087e+00,  6.78640777e+00,\n",
       "         1.15339806e+01,  3.42233010e+00,  1.11650485e-01,\n",
       "        -8.67361738e-19,  9.75728155e-01,  5.04368932e+00,\n",
       "         6.50000000e+00,  1.21553398e+01,  1.21067961e+01,\n",
       "         4.79611650e+00,  4.85436893e-03,  0.00000000e+00,\n",
       "         1.44660194e+00,  8.63592233e+00,  1.30679612e+01,\n",
       "         1.46796117e+01,  1.06893204e+01,  3.93203883e+00,\n",
       "         0.00000000e+00, -6.93889390e-18,  1.08252427e+00,\n",
       "         5.10194175e+00,  1.14611650e+01,  1.10388350e+01,\n",
       "         3.73300971e+00,  5.38834951e-01, -3.46944695e-18,\n",
       "        -1.73472348e-18,  1.01941748e-01,  2.98058252e+00,\n",
       "         1.22572816e+01,  6.39805825e+00,  4.56310680e-01,\n",
       "         9.70873786e-03,  8.32667268e-17, -4.33680869e-19,\n",
       "         1.26213592e-01,  6.09223301e+00,  1.19660194e+01,\n",
       "         2.70388350e+00,  2.86407767e-01,  3.39805825e-02,\n",
       "        -2.22044605e-16],\n",
       "       [ 0.00000000e+00,  1.66533454e-16,  1.15934066e+00,\n",
       "         1.12252747e+01,  9.53296703e+00,  1.41758242e+00,\n",
       "         5.49450549e-03,  0.00000000e+00,  2.60208521e-18,\n",
       "         6.04395604e-02,  7.18131868e+00,  1.45604396e+01,\n",
       "         6.19230769e+00,  8.29670330e-01,  2.74725275e-02,\n",
       "        -6.93889390e-17,  1.30104261e-18,  7.69230769e-01,\n",
       "         1.24560440e+01,  9.47252747e+00,  9.34065934e-01,\n",
       "         1.09890110e-01,  0.00000000e+00,  6.93889390e-17,\n",
       "        -6.50521303e-19,  2.29670330e+00,  1.36208791e+01,\n",
       "         8.09340659e+00,  3.87362637e+00,  1.92857143e+00,\n",
       "         1.04395604e-01, -1.30104261e-18,  0.00000000e+00,\n",
       "         3.52747253e+00,  1.46758242e+01,  1.29175824e+01,\n",
       "         1.22527473e+01,  1.02857143e+01,  2.71978022e+00,\n",
       "         0.00000000e+00, -5.20417043e-18,  1.86813187e+00,\n",
       "         1.45164835e+01,  1.06538462e+01,  5.57692308e+00,\n",
       "         1.01923077e+01,  9.13186813e+00,  2.30769231e-01,\n",
       "         8.67361738e-19,  1.75824176e-01,  1.02857143e+01,\n",
       "         1.26263736e+01,  5.41758242e+00,  1.13241758e+01,\n",
       "         1.08956044e+01,  6.26373626e-01, -3.25260652e-19,\n",
       "         4.44089210e-16,  1.44505495e+00,  1.07362637e+01,\n",
       "         1.50989011e+01,  1.31318681e+01,  4.62087912e+00,\n",
       "         1.70329670e-01],\n",
       "       [ 0.00000000e+00,  1.10738255e+00,  1.00268456e+01,\n",
       "         1.34093960e+01,  1.41610738e+01,  1.25369128e+01,\n",
       "         4.37583893e+00,  4.02684564e-02,  6.71140940e-03,\n",
       "         4.55704698e+00,  1.49328859e+01,  1.25637584e+01,\n",
       "         8.70469799e+00,  7.03355705e+00,  2.47651007e+00,\n",
       "         3.35570470e-02,  1.34228188e-02,  6.07382550e+00,\n",
       "         1.45302013e+01,  5.95302013e+00,  1.97315436e+00,\n",
       "         1.02684564e+00,  2.01342282e-01,  5.55111512e-17,\n",
       "         6.71140940e-03,  5.30201342e+00,  1.43355705e+01,\n",
       "         1.23624161e+01,  7.85906040e+00,  2.26174497e+00,\n",
       "         1.47651007e-01,  4.33680869e-19,  0.00000000e+00,\n",
       "         1.94630872e+00,  8.15436242e+00,  1.00939597e+01,\n",
       "         1.02684564e+01,  5.51006711e+00,  6.37583893e-01,\n",
       "         0.00000000e+00,  1.73472348e-18,  3.02013423e-01,\n",
       "         1.39597315e+00,  4.87248322e+00,  9.87248322e+00,\n",
       "         7.02013423e+00,  7.78523490e-01,  1.73472348e-17,\n",
       "         6.07153217e-18,  8.05369128e-01,  5.06040268e+00,\n",
       "         9.47651007e+00,  1.21275168e+01,  5.27516779e+00,\n",
       "         4.42953020e-01,  8.32667268e-17,  1.08420217e-19,\n",
       "         1.05369128e+00,  1.08926174e+01,  1.45369128e+01,\n",
       "         7.83892617e+00,  1.08724832e+00,  2.01342282e-02,\n",
       "         0.00000000e+00],\n",
       "       [ 0.00000000e+00,  1.10619469e-01,  4.00000000e+00,\n",
       "         1.18893805e+01,  1.23141593e+01,  5.34513274e+00,\n",
       "         4.29203540e-01,  0.00000000e+00,  8.84955752e-03,\n",
       "         8.58407080e-01,  8.29203540e+00,  1.35309735e+01,\n",
       "         1.25840708e+01,  9.90707965e+00,  1.55309735e+00,\n",
       "        -2.77555756e-17,  4.33680869e-19,  1.20796460e+00,\n",
       "         8.39823009e+00,  1.18451327e+01,  1.22522124e+01,\n",
       "         9.49557522e+00,  1.03539823e+00,  8.32667268e-17,\n",
       "        -6.50521303e-19,  9.33628319e-01,  7.23451327e+00,\n",
       "         1.40929204e+01,  1.41681416e+01,  4.98672566e+00,\n",
       "         2.07964602e-01, -1.30104261e-18,  0.00000000e+00,\n",
       "         7.61061947e-01,  7.95575221e+00,  1.47831858e+01,\n",
       "         1.29380531e+01,  2.20353982e+00,  1.76991150e-02,\n",
       "         0.00000000e+00, -5.20417043e-18,  1.23008850e+00,\n",
       "         1.04778761e+01,  1.19823009e+01,  1.20929204e+01,\n",
       "         4.11504425e+00,  2.12389381e-01, -3.46944695e-18,\n",
       "         1.32743363e-02,  8.71681416e-01,  9.59292035e+00,\n",
       "         1.15132743e+01,  1.20000000e+01,  5.66814159e+00,\n",
       "         6.59292035e-01,  4.42477876e-03,  4.42477876e-03,\n",
       "         1.10619469e-01,  4.21681416e+00,  1.20398230e+01,\n",
       "         1.26194690e+01,  4.88938053e+00,  8.05309735e-01,\n",
       "         8.84955752e-03]])"
      ]
     },
     "metadata": {},
     "output_type": "display_data"
    }
   ],
   "source": [
    "display(kmeans.cluster_centers_)"
   ]
  },
  {
   "cell_type": "markdown",
   "metadata": {
    "colab_type": "text",
    "id": "d-NS7L53Plnz"
   },
   "source": [
    "9. Try to visualize each of the centroids and compare them with the different labels. What do you notice?"
   ]
  },
  {
   "cell_type": "code",
   "execution_count": 177,
   "metadata": {
    "colab": {},
    "colab_type": "code",
    "id": "tXpUTbNwlV9_",
    "outputId": "97b0a1f2-5af4-4b79-dd29-5004cdb7a175"
   },
   "outputs": [
    {
     "data": {
      "image/png": "[encoded data removed]",
      "text/plain": [
       "<Figure size 1080x432 with 10 Axes>"
      ]
     },
     "metadata": {
      "needs_background": "light"
     },
     "output_type": "display_data"
    }
   ],
   "source": [
    "df_clusters = pd.Series(clusters)\n",
    "plot_numbers(numbers, df_clusters)"
   ]
  },
  {
   "cell_type": "markdown",
   "metadata": {
    "colab_type": "text",
    "id": "t4i9ctY6Pydc"
   },
   "source": [
    "10. We will try to match our cluster labels with the target values. Here are some clues:\n",
    "\n",
    "    a. Identify the most frequent target value for observations in cluster 1."
   ]
  },
  {
   "cell_type": "code",
   "execution_count": 194,
   "metadata": {
    "colab": {},
    "colab_type": "code",
    "id": "zNTtqjSslV-H"
   },
   "outputs": [
    {
     "data": {
      "text/plain": [
       "3    155\n",
       "2     13\n",
       "9      6\n",
       "8      4\n",
       "5      1\n",
       "1      1\n",
       "Name: target, dtype: int64"
      ]
     },
     "execution_count": 194,
     "metadata": {},
     "output_type": "execute_result"
    }
   ],
   "source": [
    "test = pd.DataFrame({\"target\": target, \"clusters\": df_clusters})\n",
    "test[test[\"clusters\"] == 1][\"target\"].value_counts()"
   ]
  },
  {
   "cell_type": "markdown",
   "metadata": {
    "colab": {},
    "colab_type": "code",
    "id": "wsPiutxxlV-N"
   },
   "source": [
    "b. Programming a loop which allows to create a label vector which contains for each observation the target value corresponding to the cluster to which it belongs.\n",
    "\n",
    "Hint : we must find the mode of each arrays corresponds to the desired cluster\n",
    "\n",
    "You can use ```from scipy.stats import modefrom scipy.stats import mode```"
   ]
  },
  {
   "cell_type": "code",
   "execution_count": 196,
   "metadata": {},
   "outputs": [],
   "source": [
    "from scipy.stats import mode\n",
    "\n",
    "test[\"clusters\"] = test[\"clusters\"].apply(lambda x: mode(test[test[\"clusters\"] == x][\"target\"].values).mode[0])"
   ]
  },
  {
   "cell_type": "markdown",
   "metadata": {
    "colab_type": "text",
    "id": "hlYoXUKZP9Tm"
   },
   "source": [
    "11. Re-evaluate your model. What is your new *accuracy_score*?"
   ]
  },
  {
   "cell_type": "code",
   "execution_count": 200,
   "metadata": {
    "colab": {},
    "colab_type": "code",
    "id": "S-AofajLlV-S",
    "outputId": "8175b34e-250c-420c-95f5-019cb734a8e0"
   },
   "outputs": [
    {
     "name": "stdout",
     "output_type": "stream",
     "text": [
      "              precision    recall  f1-score   support\n",
      "\n",
      "           0       0.99      0.99      0.99       179\n",
      "           1       0.30      0.60      0.40        91\n",
      "           2       0.84      0.84      0.84       176\n",
      "           3       0.85      0.86      0.85       180\n",
      "           4       0.90      0.98      0.94       166\n",
      "           5       0.75      0.91      0.82       149\n",
      "           6       0.98      0.97      0.98       182\n",
      "           7       0.99      0.86      0.92       206\n",
      "           8       0.59      0.45      0.51       226\n",
      "           9       0.77      0.57      0.66       242\n",
      "\n",
      "    accuracy                           0.80      1797\n",
      "   macro avg       0.80      0.80      0.79      1797\n",
      "weighted avg       0.82      0.80      0.80      1797\n",
      "\n"
     ]
    }
   ],
   "source": [
    "print(classification_report(test[\"clusters\"], test[\"target\"]))"
   ]
  },
  {
   "cell_type": "code",
   "execution_count": 201,
   "metadata": {},
   "outputs": [
    {
     "data": {
      "image/png": "[encoded data removed]",
      "text/plain": [
       "<Figure size 1080x432 with 10 Axes>"
      ]
     },
     "metadata": {
      "needs_background": "light"
     },
     "output_type": "display_data"
    }
   ],
   "source": [
    "plot_numbers(numbers, test[\"clusters\"])"
   ]
  },
  {
   "cell_type": "markdown",
   "metadata": {
    "colab_type": "text",
    "id": "Rgv3pdWxQOIg"
   },
   "source": [
    "12. Look at the numbers where our algorithm got it wrong the most via a confusion matrix..."
   ]
  },
  {
   "cell_type": "code",
   "execution_count": 208,
   "metadata": {
    "colab": {},
    "colab_type": "code",
    "id": "Z6g5GmzglV-Z",
    "outputId": "c97237a2-67c4-47a2-a949-f39b1aaa1866"
   },
   "outputs": [
    {
     "data": {
      "image/png": "[encoded data removed]",
      "text/plain": [
       "<Figure size 432x288 with 2 Axes>"
      ]
     },
     "metadata": {
      "needs_background": "light"
     },
     "output_type": "display_data"
    }
   ],
   "source": [
    "sns.heatmap(confusion_matrix(test[\"target\"], test[\"clusters\"]), annot=True, fmt=\"d\")\n",
    "plt.show()"
   ]
  },
  {
   "cell_type": "code",
   "execution_count": 235,
   "metadata": {},
   "outputs": [],
   "source": [
    "kmeans = KMeans(n_clusters= 13, init = \"k-means++\", random_state = 0)\n",
    "clusters = kmeans.fit_predict(numbers)"
   ]
  },
  {
   "cell_type": "code",
   "execution_count": 236,
   "metadata": {},
   "outputs": [],
   "source": [
    "test = pd.DataFrame({\"target\": target, \"clusters\": pd.Series(clusters)})\n",
    "test[\"clusters\"] = test[\"clusters\"].apply(lambda x: mode(test[test[\"clusters\"] == x][\"target\"].values).mode[0])"
   ]
  },
  {
   "cell_type": "code",
   "execution_count": 238,
   "metadata": {},
   "outputs": [
    {
     "name": "stdout",
     "output_type": "stream",
     "text": [
      "              precision    recall  f1-score   support\n",
      "\n",
      "           0       0.99      0.99      0.99       179\n",
      "           1       0.85      0.74      0.79       208\n",
      "           2       0.82      0.84      0.83       173\n",
      "           3       0.85      0.92      0.88       170\n",
      "           4       0.88      0.99      0.93       161\n",
      "           5       0.92      0.91      0.91       184\n",
      "           6       0.97      0.98      0.98       180\n",
      "           7       1.00      0.84      0.91       213\n",
      "           8       0.80      0.85      0.82       163\n",
      "           9       0.78      0.85      0.82       166\n",
      "\n",
      "    accuracy                           0.89      1797\n",
      "   macro avg       0.89      0.89      0.89      1797\n",
      "weighted avg       0.89      0.89      0.89      1797\n",
      "\n"
     ]
    }
   ],
   "source": [
    "print(classification_report(test[\"clusters\"], test[\"target\"]))"
   ]
  },
  {
   "cell_type": "code",
   "execution_count": 257,
   "metadata": {},
   "outputs": [
    {
     "data": {
      "image/png": "[encoded data removed]",
      "text/plain": [
       "<Figure size 1080x432 with 10 Axes>"
      ]
     },
     "metadata": {
      "needs_background": "light"
     },
     "output_type": "display_data"
    }
   ],
   "source": [
    "plot_numbers(numbers, test[\"clusters\"])"
   ]
  },
  {
   "cell_type": "code",
   "execution_count": 258,
   "metadata": {},
   "outputs": [
    {
     "data": {
      "image/png": "[encoded data removed]",
      "text/plain": [
       "<Figure size 432x288 with 2 Axes>"
      ]
     },
     "metadata": {
      "needs_background": "light"
     },
     "output_type": "display_data"
    }
   ],
   "source": [
    "sns.heatmap(confusion_matrix(test[\"target\"], test[\"clusters\"]), annot=True, fmt=\"d\")\n",
    "plt.show()"
   ]
  }
 ],
 "metadata": {
  "colab": {
   "name": "3. Digit Recognition - KMeans Exercice.ipynb",
   "provenance": [],
   "version": "0.3.2"
  },
  "kernelspec": {
   "display_name": "Python 3",
   "language": "python",
   "name": "python3"
  },
  "language_info": {
   "codemirror_mode": {
    "name": "ipython",
    "version": 3
   },
   "file_extension": ".py",
   "mimetype": "text/x-python",
   "name": "python",
   "nbconvert_exporter": "python",
   "pygments_lexer": "ipython3",
   "version": "3.8.5"
  }
 },
 "nbformat": 4,
 "nbformat_minor": 4
}
