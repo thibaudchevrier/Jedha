{
 "cells": [
  {
   "cell_type": "markdown",
   "metadata": {},
   "source": [
    "# DBSCAN\n",
    "\n",
    "## What you'll learn in this course 🧐🧐\n",
    "\n",
    "DBSCAN stands for *Density-Based Spatial Clustering of Applications with Noise*.\n",
    "\n",
    "Contrary to K-Means, **DBSCAN** does not require to initialize a number of cluster in advance. Instead, it uses the concept of <a href=\"https://en.wikipedia.org/wiki/Density\" target=\"_blank\">density</a> to assign observations to a cluster. In this course, you will learn: \n",
    "\n",
    "* How DBSCAN calculates density \n",
    "* What are core-points, border-points and noise (or outliers)\n",
    "* How to choose values for `eps` & `min_sample`\n",
    "* What are the main types of distances you can use to setup your algorithm"
   ]
  },
  {
   "cell_type": "markdown",
   "metadata": {},
   "source": [
    "## Why K-Means fail when dealing with complex clusters shape 🥵🥵\n",
    "\n",
    "K-Means are poorly adapted to situations where clusters we are looking for are not ball-shaped. Let's explain this idea with an example:\n",
    "\n"
   ]
  },
  {
   "cell_type": "code",
   "execution_count": 1,
   "metadata": {},
   "outputs": [
    {
     "data": {
      "text/html": [
       "\n",
       "        <iframe\n",
       "            width=\"640\"\n",
       "            height=\"360\"\n",
       "            src=\"https://player.vimeo.com/video/483621389?frameborder=0&allow=autoplay%3B+fullscreen\"\n",
       "            frameborder=\"0\"\n",
       "            allowfullscreen\n",
       "        ></iframe>\n",
       "        "
      ],
      "text/plain": [
       "<IPython.lib.display.IFrame at 0x7fc7ca2d4430>"
      ]
     },
     "execution_count": 1,
     "metadata": {},
     "output_type": "execute_result"
    }
   ],
   "source": [
    "from IPython.display import IFrame\n",
    "IFrame(\n",
    "    \"https://player.vimeo.com/video/483621389\",\n",
    "    width=\"640\" ,\n",
    "    height=\"360\",\n",
    "    frameborder=\"0\",\n",
    "    allow=\"autoplay; fullscreen\",\n",
    ")"
   ]
  },
  {
   "cell_type": "markdown",
   "metadata": {},
   "source": [
    "### What is Density? 🧑‍🤝‍🧑🧑‍🤝‍🧑\n",
    "\n",
    "The DBSCAN algorithm does not encounter this difficulty because it does not make assumptions about the shape of the clusters it seeks to identify. Instead, it relies on the density of points in the observation space.\n",
    "\n",
    "A very simple definition of _density_: in a given area, it is equal to the number of observations located in that area.\n",
    "\n",
    "From this notion of density, we can define three types of points.\n",
    "\n",
    "*  A **core point** is a point that has more than `min_sample` neighbors within a radius of size `eps` (where $N$ is going to be defined by you)\n",
    "\n",
    "* A **border points** as its name implies are observations at the edge of a cluster, which define its boundary. More precisely it is any point that has less than `min_sample` neighbors within its neighborhood of radius `eps` but has at least one neighbor that is a core point.\n",
    "\n",
    "*  **Noise/outliers** which are simply the points that are neither **Core points** nor **border points**. Concretely they have  less than `min_sample` neighbors within their neighborhood of radius `eps` and none of their neighbors are core points. You can also consider these observations as *outliers*.\n"
   ]
  },
  {
   "cell_type": "markdown",
   "metadata": {},
   "source": [
    "\n",
    "## DBSCAN Algorithm 📠📠\n",
    "\n",
    "DBSCAN algorithm is not complicated at all, it can be described as follows:\n",
    "\n",
    "\n",
    "### **Initialisation:**\n",
    "\n",
    "We list all the observations, none of them have an assigned cluster for the moment.\n",
    "\n",
    "### **Iterations:**\n",
    "\n",
    "As long as all $x_i$ observations are not assigned to a cluster:\n",
    "\n",
    "* If $x_i$ has no assigned cluster:\n",
    "\n",
    "* If $x_i$ is a core point then:\n",
    "\n",
    "* If there is a point in $x_i$'s neighborhood assigned to a cluster $C$ then: we add $x_i$ to the cluster $C$.\n",
    "\n",
    "* Otherwise: we assign $x_i$ to a new cluster $C'$\n",
    "\n",
    "* If $x_i$ is a _border point_ then: we add $x_i$ to the cluster of the closest _core point_.\n",
    "\n",
    "* Otherwise we add $x_i$ to the class *noise*.\n",
    "\n",
    "\n",
    "The algorithm is very handy to solve clustering problems where clusters have complex shape.\n",
    "\n",
    "The only elements that need to be fixed in order to use the algorithm are:\n",
    "\n",
    "* The distance we use to measure the `min_sample` observation space, the minimum number of points needed to define a _core sample_.\n",
    "\n",
    "* the distance between a point and the boundaries of the surrounding neighbourhood also called $epsilon$. "
   ]
  },
  {
   "cell_type": "code",
   "execution_count": 2,
   "metadata": {},
   "outputs": [
    {
     "data": {
      "text/html": [
       "\n",
       "        <iframe\n",
       "            width=\"640\"\n",
       "            height=\"360\"\n",
       "            src=\"https://player.vimeo.com/video/484013858?frameborder=0&allow=autoplay%3B+fullscreen\"\n",
       "            frameborder=\"0\"\n",
       "            allowfullscreen\n",
       "        ></iframe>\n",
       "        "
      ],
      "text/plain": [
       "<IPython.lib.display.IFrame at 0x7fc7ca2d4160>"
      ]
     },
     "execution_count": 2,
     "metadata": {},
     "output_type": "execute_result"
    }
   ],
   "source": [
    "from IPython.display import IFrame\n",
    "IFrame(\n",
    "    \"https://player.vimeo.com/video/484013858\",\n",
    "    width=\"640\" ,\n",
    "    height=\"360\",\n",
    "    frameborder=\"0\",\n",
    "    allow=\"autoplay; fullscreen\",\n",
    ")"
   ]
  },
  {
   "cell_type": "markdown",
   "metadata": {},
   "source": [
    "## How to choose `min_sample` and $epsilon$? 🙈🙈\n",
    "\n",
    "Playing around with `min_sample` and $epsilon$ values will help you understand how the algorithm assigns each observation to a given cluster. Basically, the way you will choose values depends on how *dense* you want your clusters to be: \n",
    "\n",
    "* Low $epsilon$ & High `min_sample` 👉 **High cluster density**\n",
    "* High $epsilon$ & Low `min_sample` 👉 **Low cluster density** \n",
    "* Low $epsilon$ & Low `min_sample` 👉 **High outliers sensitivity** \n",
    "* High $epsilon$ & High `min_sample` 👉 **Low outliers sensitivity** "
   ]
  },
  {
   "cell_type": "code",
   "execution_count": 3,
   "metadata": {},
   "outputs": [
    {
     "data": {
      "text/html": [
       "\n",
       "        <iframe\n",
       "            width=\"640\"\n",
       "            height=\"360\"\n",
       "            src=\"https://player.vimeo.com/video/484014198?frameborder=0&allow=autoplay%3B+fullscreen\"\n",
       "            frameborder=\"0\"\n",
       "            allowfullscreen\n",
       "        ></iframe>\n",
       "        "
      ],
      "text/plain": [
       "<IPython.lib.display.IFrame at 0x7fc7ca2f4550>"
      ]
     },
     "execution_count": 3,
     "metadata": {},
     "output_type": "execute_result"
    }
   ],
   "source": [
    "from IPython.display import IFrame\n",
    "IFrame(\n",
    "    \"https://player.vimeo.com/video/484014198\",\n",
    "    width=\"640\" ,\n",
    "    height=\"360\",\n",
    "    frameborder=\"0\",\n",
    "    allow=\"autoplay; fullscreen\",\n",
    ")"
   ]
  },
  {
   "cell_type": "markdown",
   "metadata": {},
   "source": [
    "## Types of distances 📐📐\n",
    "\n",
    "When using DBSCAN, by default you will use $Euclidean Distances$, which might not be the right fit for your data. Here are a few tips to help you choose"
   ]
  },
  {
   "cell_type": "code",
   "execution_count": 4,
   "metadata": {},
   "outputs": [
    {
     "data": {
      "text/html": [
       "\n",
       "        <iframe\n",
       "            width=\"640\"\n",
       "            height=\"360\"\n",
       "            src=\"https://player.vimeo.com/video/484015727?frameborder=0&allow=autoplay%3B+fullscreen\"\n",
       "            frameborder=\"0\"\n",
       "            allowfullscreen\n",
       "        ></iframe>\n",
       "        "
      ],
      "text/plain": [
       "<IPython.lib.display.IFrame at 0x7fc7ca2f4340>"
      ]
     },
     "execution_count": 4,
     "metadata": {},
     "output_type": "execute_result"
    }
   ],
   "source": [
    "from IPython.display import IFrame\n",
    "IFrame(\n",
    "    \"https://player.vimeo.com/video/484015727\",\n",
    "    width=\"640\" ,\n",
    "    height=\"360\",\n",
    "    frameborder=\"0\",\n",
    "    allow=\"autoplay; fullscreen\",\n",
    ")"
   ]
  },
  {
   "cell_type": "markdown",
   "metadata": {},
   "source": [
    "\n",
    "### DBSCAN Summary ✅\n",
    " \n",
    "<table>\n",
    "<tr>\n",
    "<th>\n",
    "Advantages\n",
    "</th>\n",
    "<th>\n",
    "Flaws\n",
    "</th>\n",
    "</tr>\n",
    "<tr>\n",
    "<td>\n",
    "Ability to recognize clusters regardless of their shape and size. \n",
    "</td>\n",
    "\n",
    "<td>\n",
    "If the density of observations in space varies, or if some coherent clusters are less concentrated than others, then the algorithm will not necessarily recognize them as belonging to one and the same cluster. \n",
    "</td>\n",
    "</tr>\n",
    "\n",
    "<tr> \n",
    "<td>\n",
    "DBSCAN is also an algorithm that predicts the presence of noise in the observations.\n",
    "</td>\n",
    "\n",
    "<td>\n",
    "In very large dimensions, distances between observations tend to increase enormously. This makes it very difficult for the algorithm to identify regions of sufficient concentration to define clusters.\n",
    "</td>\n",
    "\n",
    "</tr>\n",
    "\n",
    "<tr>\n",
    "<td>\n",
    "Non-sensitive to outliers (because it can detect them).\n",
    "</td>\n",
    "\n",
    "<td>\n",
    "Need to choose parameters `min_sample` and $epsilon$ which allow to identify the _core samples._ The choice of these values can be guided by an analysis of the density of the observations in space.\n",
    "</td>\n",
    "</tr>\n",
    "</table>"
   ]
  },
  {
   "cell_type": "markdown",
   "metadata": {},
   "source": [
    "## Resources 📚📚\n",
    "\n",
    "* <a href=\"https://scikit-learn.org/stable/modules/clustering.html#dbscan\" target=\"_blank\">DBSCAN</a>\n",
    "\n",
    "* <a href=\"https://en.wikipedia.org/wiki/Density\" target=\"_blank\">Density</a>"
   ]
  }
 ],
 "metadata": {
  "kernelspec": {
   "display_name": "Python 3",
   "language": "python",
   "name": "python3"
  },
  "language_info": {
   "codemirror_mode": {
    "name": "ipython",
    "version": 3
   },
   "file_extension": ".py",
   "mimetype": "text/x-python",
   "name": "python",
   "nbconvert_exporter": "python",
   "pygments_lexer": "ipython3",
   "version": "3.8.6"
  }
 },
 "nbformat": 4,
 "nbformat_minor": 4
}
