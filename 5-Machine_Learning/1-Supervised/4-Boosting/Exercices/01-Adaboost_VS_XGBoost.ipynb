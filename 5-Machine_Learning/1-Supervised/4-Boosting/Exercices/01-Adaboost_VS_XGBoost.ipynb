{
 "cells": [
  {
   "cell_type": "markdown",
   "metadata": {
    "colab_type": "text",
    "id": "a26eM-s7DdIT"
   },
   "source": [
    "# Adaboost ou XGBoost ?\n",
    "\n",
    "Deux algorithmes de boosting connus sont Adaboost & XGBoost, voyons voir la performance de chacun de ces algorithmes sur le dataset d'AIRBNB Seattle. Notre but va être de prédire le prix d'un appartement en fonction des caractéristiques qu'on nous a donné. "
   ]
  },
  {
   "cell_type": "markdown",
   "metadata": {
    "colab_type": "text",
    "id": "Ghkon517FadZ"
   },
   "source": [
    "1. Importez les librairies usuelles "
   ]
  },
  {
   "cell_type": "code",
   "execution_count": 31,
   "metadata": {
    "colab": {},
    "colab_type": "code",
    "id": "FdJG5u29DVX3"
   },
   "outputs": [],
   "source": [
    "import pandas as pd\n",
    "import seaborn as sns"
   ]
  },
  {
   "cell_type": "markdown",
   "metadata": {
    "colab_type": "text",
    "id": "knSa2bQ1FroR"
   },
   "source": [
    "2. Importez le dataset ```listings.csv```"
   ]
  },
  {
   "cell_type": "code",
   "execution_count": 32,
   "metadata": {
    "colab": {
     "base_uri": "https://localhost:8080/",
     "height": 823
    },
    "colab_type": "code",
    "id": "C1kRekTvF4tA",
    "outputId": "670481ee-22c5-4f16-ad87-3172881cce53"
   },
   "outputs": [
    {
     "data": {
      "text/html": [
       "<div>\n",
       "<style scoped>\n",
       "    .dataframe tbody tr th:only-of-type {\n",
       "        vertical-align: middle;\n",
       "    }\n",
       "\n",
       "    .dataframe tbody tr th {\n",
       "        vertical-align: top;\n",
       "    }\n",
       "\n",
       "    .dataframe thead th {\n",
       "        text-align: right;\n",
       "    }\n",
       "</style>\n",
       "<table border=\"1\" class=\"dataframe\">\n",
       "  <thead>\n",
       "    <tr style=\"text-align: right;\">\n",
       "      <th></th>\n",
       "      <th>listing_url</th>\n",
       "      <th>scrape_id</th>\n",
       "      <th>last_scraped</th>\n",
       "      <th>name</th>\n",
       "      <th>summary</th>\n",
       "      <th>space</th>\n",
       "      <th>description</th>\n",
       "      <th>experiences_offered</th>\n",
       "      <th>neighborhood_overview</th>\n",
       "      <th>notes</th>\n",
       "      <th>...</th>\n",
       "      <th>review_scores_value</th>\n",
       "      <th>requires_license</th>\n",
       "      <th>license</th>\n",
       "      <th>jurisdiction_names</th>\n",
       "      <th>instant_bookable</th>\n",
       "      <th>cancellation_policy</th>\n",
       "      <th>require_guest_profile_picture</th>\n",
       "      <th>require_guest_phone_verification</th>\n",
       "      <th>calculated_host_listings_count</th>\n",
       "      <th>reviews_per_month</th>\n",
       "    </tr>\n",
       "    <tr>\n",
       "      <th>id</th>\n",
       "      <th></th>\n",
       "      <th></th>\n",
       "      <th></th>\n",
       "      <th></th>\n",
       "      <th></th>\n",
       "      <th></th>\n",
       "      <th></th>\n",
       "      <th></th>\n",
       "      <th></th>\n",
       "      <th></th>\n",
       "      <th></th>\n",
       "      <th></th>\n",
       "      <th></th>\n",
       "      <th></th>\n",
       "      <th></th>\n",
       "      <th></th>\n",
       "      <th></th>\n",
       "      <th></th>\n",
       "      <th></th>\n",
       "      <th></th>\n",
       "      <th></th>\n",
       "    </tr>\n",
       "  </thead>\n",
       "  <tbody>\n",
       "    <tr>\n",
       "      <th>241032</th>\n",
       "      <td>https://www.airbnb.com/rooms/241032</td>\n",
       "      <td>20160104002432</td>\n",
       "      <td>2016-01-04</td>\n",
       "      <td>Stylish Queen Anne Apartment</td>\n",
       "      <td>NaN</td>\n",
       "      <td>Make your self at home in this charming one-be...</td>\n",
       "      <td>Make your self at home in this charming one-be...</td>\n",
       "      <td>none</td>\n",
       "      <td>NaN</td>\n",
       "      <td>NaN</td>\n",
       "      <td>...</td>\n",
       "      <td>10.0</td>\n",
       "      <td>f</td>\n",
       "      <td>NaN</td>\n",
       "      <td>WASHINGTON</td>\n",
       "      <td>f</td>\n",
       "      <td>moderate</td>\n",
       "      <td>f</td>\n",
       "      <td>f</td>\n",
       "      <td>2</td>\n",
       "      <td>4.07</td>\n",
       "    </tr>\n",
       "    <tr>\n",
       "      <th>953595</th>\n",
       "      <td>https://www.airbnb.com/rooms/953595</td>\n",
       "      <td>20160104002432</td>\n",
       "      <td>2016-01-04</td>\n",
       "      <td>Bright &amp; Airy Queen Anne Apartment</td>\n",
       "      <td>Chemically sensitive? We've removed the irrita...</td>\n",
       "      <td>Beautiful, hypoallergenic apartment in an extr...</td>\n",
       "      <td>Chemically sensitive? We've removed the irrita...</td>\n",
       "      <td>none</td>\n",
       "      <td>Queen Anne is a wonderful, truly functional vi...</td>\n",
       "      <td>What's up with the free pillows?  Our home was...</td>\n",
       "      <td>...</td>\n",
       "      <td>10.0</td>\n",
       "      <td>f</td>\n",
       "      <td>NaN</td>\n",
       "      <td>WASHINGTON</td>\n",
       "      <td>f</td>\n",
       "      <td>strict</td>\n",
       "      <td>t</td>\n",
       "      <td>t</td>\n",
       "      <td>6</td>\n",
       "      <td>1.48</td>\n",
       "    </tr>\n",
       "    <tr>\n",
       "      <th>3308979</th>\n",
       "      <td>https://www.airbnb.com/rooms/3308979</td>\n",
       "      <td>20160104002432</td>\n",
       "      <td>2016-01-04</td>\n",
       "      <td>New Modern House-Amazing water view</td>\n",
       "      <td>New modern house built in 2013.  Spectacular s...</td>\n",
       "      <td>Our house is modern, light and fresh with a wa...</td>\n",
       "      <td>New modern house built in 2013.  Spectacular s...</td>\n",
       "      <td>none</td>\n",
       "      <td>Upper Queen Anne is a charming neighborhood fu...</td>\n",
       "      <td>Our house is located just 5 short blocks to To...</td>\n",
       "      <td>...</td>\n",
       "      <td>10.0</td>\n",
       "      <td>f</td>\n",
       "      <td>NaN</td>\n",
       "      <td>WASHINGTON</td>\n",
       "      <td>f</td>\n",
       "      <td>strict</td>\n",
       "      <td>f</td>\n",
       "      <td>f</td>\n",
       "      <td>2</td>\n",
       "      <td>1.15</td>\n",
       "    </tr>\n",
       "    <tr>\n",
       "      <th>7421966</th>\n",
       "      <td>https://www.airbnb.com/rooms/7421966</td>\n",
       "      <td>20160104002432</td>\n",
       "      <td>2016-01-04</td>\n",
       "      <td>Queen Anne Chateau</td>\n",
       "      <td>A charming apartment that sits atop Queen Anne...</td>\n",
       "      <td>NaN</td>\n",
       "      <td>A charming apartment that sits atop Queen Anne...</td>\n",
       "      <td>none</td>\n",
       "      <td>NaN</td>\n",
       "      <td>NaN</td>\n",
       "      <td>...</td>\n",
       "      <td>NaN</td>\n",
       "      <td>f</td>\n",
       "      <td>NaN</td>\n",
       "      <td>WASHINGTON</td>\n",
       "      <td>f</td>\n",
       "      <td>flexible</td>\n",
       "      <td>f</td>\n",
       "      <td>f</td>\n",
       "      <td>1</td>\n",
       "      <td>NaN</td>\n",
       "    </tr>\n",
       "    <tr>\n",
       "      <th>278830</th>\n",
       "      <td>https://www.airbnb.com/rooms/278830</td>\n",
       "      <td>20160104002432</td>\n",
       "      <td>2016-01-04</td>\n",
       "      <td>Charming craftsman 3 bdm house</td>\n",
       "      <td>Cozy family craftman house in beautiful neighb...</td>\n",
       "      <td>Cozy family craftman house in beautiful neighb...</td>\n",
       "      <td>Cozy family craftman house in beautiful neighb...</td>\n",
       "      <td>none</td>\n",
       "      <td>We are in the beautiful neighborhood of Queen ...</td>\n",
       "      <td>Belltown</td>\n",
       "      <td>...</td>\n",
       "      <td>9.0</td>\n",
       "      <td>f</td>\n",
       "      <td>NaN</td>\n",
       "      <td>WASHINGTON</td>\n",
       "      <td>f</td>\n",
       "      <td>strict</td>\n",
       "      <td>f</td>\n",
       "      <td>f</td>\n",
       "      <td>1</td>\n",
       "      <td>0.89</td>\n",
       "    </tr>\n",
       "  </tbody>\n",
       "</table>\n",
       "<p>5 rows × 91 columns</p>\n",
       "</div>"
      ],
      "text/plain": [
       "                                  listing_url       scrape_id last_scraped  \\\n",
       "id                                                                           \n",
       "241032    https://www.airbnb.com/rooms/241032  20160104002432   2016-01-04   \n",
       "953595    https://www.airbnb.com/rooms/953595  20160104002432   2016-01-04   \n",
       "3308979  https://www.airbnb.com/rooms/3308979  20160104002432   2016-01-04   \n",
       "7421966  https://www.airbnb.com/rooms/7421966  20160104002432   2016-01-04   \n",
       "278830    https://www.airbnb.com/rooms/278830  20160104002432   2016-01-04   \n",
       "\n",
       "                                        name  \\\n",
       "id                                             \n",
       "241032          Stylish Queen Anne Apartment   \n",
       "953595    Bright & Airy Queen Anne Apartment   \n",
       "3308979  New Modern House-Amazing water view   \n",
       "7421966                   Queen Anne Chateau   \n",
       "278830        Charming craftsman 3 bdm house   \n",
       "\n",
       "                                                   summary  \\\n",
       "id                                                           \n",
       "241032                                                 NaN   \n",
       "953595   Chemically sensitive? We've removed the irrita...   \n",
       "3308979  New modern house built in 2013.  Spectacular s...   \n",
       "7421966  A charming apartment that sits atop Queen Anne...   \n",
       "278830   Cozy family craftman house in beautiful neighb...   \n",
       "\n",
       "                                                     space  \\\n",
       "id                                                           \n",
       "241032   Make your self at home in this charming one-be...   \n",
       "953595   Beautiful, hypoallergenic apartment in an extr...   \n",
       "3308979  Our house is modern, light and fresh with a wa...   \n",
       "7421966                                                NaN   \n",
       "278830   Cozy family craftman house in beautiful neighb...   \n",
       "\n",
       "                                               description  \\\n",
       "id                                                           \n",
       "241032   Make your self at home in this charming one-be...   \n",
       "953595   Chemically sensitive? We've removed the irrita...   \n",
       "3308979  New modern house built in 2013.  Spectacular s...   \n",
       "7421966  A charming apartment that sits atop Queen Anne...   \n",
       "278830   Cozy family craftman house in beautiful neighb...   \n",
       "\n",
       "        experiences_offered  \\\n",
       "id                            \n",
       "241032                 none   \n",
       "953595                 none   \n",
       "3308979                none   \n",
       "7421966                none   \n",
       "278830                 none   \n",
       "\n",
       "                                     neighborhood_overview  \\\n",
       "id                                                           \n",
       "241032                                                 NaN   \n",
       "953595   Queen Anne is a wonderful, truly functional vi...   \n",
       "3308979  Upper Queen Anne is a charming neighborhood fu...   \n",
       "7421966                                                NaN   \n",
       "278830   We are in the beautiful neighborhood of Queen ...   \n",
       "\n",
       "                                                     notes  ...  \\\n",
       "id                                                          ...   \n",
       "241032                                                 NaN  ...   \n",
       "953595   What's up with the free pillows?  Our home was...  ...   \n",
       "3308979  Our house is located just 5 short blocks to To...  ...   \n",
       "7421966                                                NaN  ...   \n",
       "278830                                           Belltown   ...   \n",
       "\n",
       "        review_scores_value requires_license license jurisdiction_names  \\\n",
       "id                                                                        \n",
       "241032                 10.0                f     NaN         WASHINGTON   \n",
       "953595                 10.0                f     NaN         WASHINGTON   \n",
       "3308979                10.0                f     NaN         WASHINGTON   \n",
       "7421966                 NaN                f     NaN         WASHINGTON   \n",
       "278830                  9.0                f     NaN         WASHINGTON   \n",
       "\n",
       "        instant_bookable  cancellation_policy require_guest_profile_picture  \\\n",
       "id                                                                            \n",
       "241032                 f             moderate                             f   \n",
       "953595                 f               strict                             t   \n",
       "3308979                f               strict                             f   \n",
       "7421966                f             flexible                             f   \n",
       "278830                 f               strict                             f   \n",
       "\n",
       "        require_guest_phone_verification calculated_host_listings_count  \\\n",
       "id                                                                        \n",
       "241032                                 f                              2   \n",
       "953595                                 t                              6   \n",
       "3308979                                f                              2   \n",
       "7421966                                f                              1   \n",
       "278830                                 f                              1   \n",
       "\n",
       "        reviews_per_month  \n",
       "id                         \n",
       "241032               4.07  \n",
       "953595               1.48  \n",
       "3308979              1.15  \n",
       "7421966               NaN  \n",
       "278830               0.89  \n",
       "\n",
       "[5 rows x 91 columns]"
      ]
     },
     "execution_count": 32,
     "metadata": {},
     "output_type": "execute_result"
    }
   ],
   "source": [
    "df = pd.read_csv(\"../../src/listings.csv\", index_col=[0])\n",
    "df.head()"
   ]
  },
  {
   "cell_type": "markdown",
   "metadata": {
    "colab_type": "text",
    "id": "5LJvsl16HAEK"
   },
   "source": [
    "3. On a beaucoup de données dans ce dataset. Affichez toutes les colonnes du dataset"
   ]
  },
  {
   "cell_type": "code",
   "execution_count": 33,
   "metadata": {
    "colab": {
     "base_uri": "https://localhost:8080/",
     "height": 1000
    },
    "colab_type": "code",
    "id": "doN6M9FoGmPV",
    "outputId": "63049c8b-a8de-4cc2-b056-0683ceafe31a"
   },
   "outputs": [
    {
     "name": "stdout",
     "output_type": "stream",
     "text": [
      "<class 'pandas.core.frame.DataFrame'>\n",
      "Int64Index: 3818 entries, 241032 to 10208623\n",
      "Data columns (total 91 columns):\n",
      " #   Column                            Non-Null Count  Dtype  \n",
      "---  ------                            --------------  -----  \n",
      " 0   listing_url                       3818 non-null   object \n",
      " 1   scrape_id                         3818 non-null   int64  \n",
      " 2   last_scraped                      3818 non-null   object \n",
      " 3   name                              3818 non-null   object \n",
      " 4   summary                           3641 non-null   object \n",
      " 5   space                             3249 non-null   object \n",
      " 6   description                       3818 non-null   object \n",
      " 7   experiences_offered               3818 non-null   object \n",
      " 8   neighborhood_overview             2786 non-null   object \n",
      " 9   notes                             2212 non-null   object \n",
      " 10  transit                           2884 non-null   object \n",
      " 11  thumbnail_url                     3498 non-null   object \n",
      " 12  medium_url                        3498 non-null   object \n",
      " 13  picture_url                       3818 non-null   object \n",
      " 14  xl_picture_url                    3498 non-null   object \n",
      " 15  host_id                           3818 non-null   int64  \n",
      " 16  host_url                          3818 non-null   object \n",
      " 17  host_name                         3816 non-null   object \n",
      " 18  host_since                        3816 non-null   object \n",
      " 19  host_location                     3810 non-null   object \n",
      " 20  host_about                        2959 non-null   object \n",
      " 21  host_response_time                3295 non-null   object \n",
      " 22  host_response_rate                3295 non-null   object \n",
      " 23  host_acceptance_rate              3045 non-null   object \n",
      " 24  host_is_superhost                 3816 non-null   object \n",
      " 25  host_thumbnail_url                3816 non-null   object \n",
      " 26  host_picture_url                  3816 non-null   object \n",
      " 27  host_neighbourhood                3518 non-null   object \n",
      " 28  host_listings_count               3816 non-null   float64\n",
      " 29  host_total_listings_count         3816 non-null   float64\n",
      " 30  host_verifications                3818 non-null   object \n",
      " 31  host_has_profile_pic              3816 non-null   object \n",
      " 32  host_identity_verified            3816 non-null   object \n",
      " 33  street                            3818 non-null   object \n",
      " 34  neighbourhood                     3402 non-null   object \n",
      " 35  neighbourhood_cleansed            3818 non-null   object \n",
      " 36  neighbourhood_group_cleansed      3818 non-null   object \n",
      " 37  city                              3818 non-null   object \n",
      " 38  state                             3818 non-null   object \n",
      " 39  zipcode                           3811 non-null   object \n",
      " 40  market                            3818 non-null   object \n",
      " 41  smart_location                    3818 non-null   object \n",
      " 42  country_code                      3818 non-null   object \n",
      " 43  country                           3818 non-null   object \n",
      " 44  latitude                          3818 non-null   float64\n",
      " 45  longitude                         3818 non-null   float64\n",
      " 46  is_location_exact                 3818 non-null   object \n",
      " 47  property_type                     3817 non-null   object \n",
      " 48  room_type                         3818 non-null   object \n",
      " 49  accommodates                      3818 non-null   int64  \n",
      " 50  bathrooms                         3802 non-null   float64\n",
      " 51  bedrooms                          3812 non-null   float64\n",
      " 52  beds                              3817 non-null   float64\n",
      " 53  bed_type                          3818 non-null   object \n",
      " 54  amenities                         3818 non-null   object \n",
      " 55  square_feet                       97 non-null     float64\n",
      " 56  price                             3818 non-null   object \n",
      " 57  weekly_price                      2009 non-null   object \n",
      " 58  monthly_price                     1517 non-null   object \n",
      " 59  security_deposit                  1866 non-null   object \n",
      " 60  cleaning_fee                      2788 non-null   object \n",
      " 61  guests_included                   3818 non-null   int64  \n",
      " 62  extra_people                      3818 non-null   object \n",
      " 63  minimum_nights                    3818 non-null   int64  \n",
      " 64  maximum_nights                    3818 non-null   int64  \n",
      " 65  calendar_updated                  3818 non-null   object \n",
      " 66  has_availability                  3818 non-null   object \n",
      " 67  availability_30                   3818 non-null   int64  \n",
      " 68  availability_60                   3818 non-null   int64  \n",
      " 69  availability_90                   3818 non-null   int64  \n",
      " 70  availability_365                  3818 non-null   int64  \n",
      " 71  calendar_last_scraped             3818 non-null   object \n",
      " 72  number_of_reviews                 3818 non-null   int64  \n",
      " 73  first_review                      3191 non-null   object \n",
      " 74  last_review                       3191 non-null   object \n",
      " 75  review_scores_rating              3171 non-null   float64\n",
      " 76  review_scores_accuracy            3160 non-null   float64\n",
      " 77  review_scores_cleanliness         3165 non-null   float64\n",
      " 78  review_scores_checkin             3160 non-null   float64\n",
      " 79  review_scores_communication       3167 non-null   float64\n",
      " 80  review_scores_location            3163 non-null   float64\n",
      " 81  review_scores_value               3162 non-null   float64\n",
      " 82  requires_license                  3818 non-null   object \n",
      " 83  license                           0 non-null      float64\n",
      " 84  jurisdiction_names                3818 non-null   object \n",
      " 85  instant_bookable                  3818 non-null   object \n",
      " 86  cancellation_policy               3818 non-null   object \n",
      " 87  require_guest_profile_picture     3818 non-null   object \n",
      " 88  require_guest_phone_verification  3818 non-null   object \n",
      " 89  calculated_host_listings_count    3818 non-null   int64  \n",
      " 90  reviews_per_month                 3191 non-null   float64\n",
      "dtypes: float64(17), int64(12), object(62)\n",
      "memory usage: 2.7+ MB\n"
     ]
    }
   ],
   "source": [
    "df.info()"
   ]
  },
  {
   "cell_type": "markdown",
   "metadata": {
    "colab_type": "text",
    "id": "8E8c5WQ2HcsS"
   },
   "source": [
    "4. Révisons un peu Seaborn, affichez la distribution des prix dans le dataset "
   ]
  },
  {
   "cell_type": "code",
   "execution_count": 34,
   "metadata": {
    "colab": {
     "base_uri": "https://localhost:8080/",
     "height": 300
    },
    "colab_type": "code",
    "id": "x8UKlpeVHN1K",
    "outputId": "761893f3-52c7-4791-fa1f-5fbd679fc775"
   },
   "outputs": [
    {
     "data": {
      "text/plain": [
       "<seaborn.axisgrid.FacetGrid at 0x7f7e16ac08e0>"
      ]
     },
     "execution_count": 34,
     "metadata": {},
     "output_type": "execute_result"
    },
    {
     "data": {
      "image/png": "[encoded data removed]",
      "text/plain": [
       "<Figure size 360x360 with 1 Axes>"
      ]
     },
     "metadata": {
      "needs_background": "light"
     },
     "output_type": "display_data"
    }
   ],
   "source": [
    "df.price = df.price.str[1:].replace(\",\", \"\", regex=True).astype(float)\n",
    "sns.displot(df.price, kde=True)"
   ]
  },
  {
   "cell_type": "markdown",
   "metadata": {
    "colab_type": "text",
    "id": "kNaR2jK2HsKK"
   },
   "source": [
    "5. Supprimez les outliers pour ne garder que les appartements qui ont un prix inférieur à 400$/nuit "
   ]
  },
  {
   "cell_type": "code",
   "execution_count": 35,
   "metadata": {
    "colab": {
     "base_uri": "https://localhost:8080/",
     "height": 314
    },
    "colab_type": "code",
    "id": "g-cg_QOtHris",
    "outputId": "9c261b24-57c0-4fc9-c6dd-27789d15f665"
   },
   "outputs": [
    {
     "data": {
      "text/html": [
       "<div>\n",
       "<style scoped>\n",
       "    .dataframe tbody tr th:only-of-type {\n",
       "        vertical-align: middle;\n",
       "    }\n",
       "\n",
       "    .dataframe tbody tr th {\n",
       "        vertical-align: top;\n",
       "    }\n",
       "\n",
       "    .dataframe thead th {\n",
       "        text-align: right;\n",
       "    }\n",
       "</style>\n",
       "<table border=\"1\" class=\"dataframe\">\n",
       "  <thead>\n",
       "    <tr style=\"text-align: right;\">\n",
       "      <th></th>\n",
       "      <th>scrape_id</th>\n",
       "      <th>host_id</th>\n",
       "      <th>host_listings_count</th>\n",
       "      <th>host_total_listings_count</th>\n",
       "      <th>latitude</th>\n",
       "      <th>longitude</th>\n",
       "      <th>accommodates</th>\n",
       "      <th>bathrooms</th>\n",
       "      <th>bedrooms</th>\n",
       "      <th>beds</th>\n",
       "      <th>...</th>\n",
       "      <th>review_scores_rating</th>\n",
       "      <th>review_scores_accuracy</th>\n",
       "      <th>review_scores_cleanliness</th>\n",
       "      <th>review_scores_checkin</th>\n",
       "      <th>review_scores_communication</th>\n",
       "      <th>review_scores_location</th>\n",
       "      <th>review_scores_value</th>\n",
       "      <th>license</th>\n",
       "      <th>calculated_host_listings_count</th>\n",
       "      <th>reviews_per_month</th>\n",
       "    </tr>\n",
       "  </thead>\n",
       "  <tbody>\n",
       "    <tr>\n",
       "      <th>count</th>\n",
       "      <td>3.741000e+03</td>\n",
       "      <td>3.741000e+03</td>\n",
       "      <td>3739.000000</td>\n",
       "      <td>3739.000000</td>\n",
       "      <td>3741.000000</td>\n",
       "      <td>3741.000000</td>\n",
       "      <td>3741.000000</td>\n",
       "      <td>3725.000000</td>\n",
       "      <td>3735.000000</td>\n",
       "      <td>3740.000000</td>\n",
       "      <td>...</td>\n",
       "      <td>3112.000000</td>\n",
       "      <td>3101.000000</td>\n",
       "      <td>3106.000000</td>\n",
       "      <td>3101.000000</td>\n",
       "      <td>3108.000000</td>\n",
       "      <td>3104.000000</td>\n",
       "      <td>3103.000000</td>\n",
       "      <td>0.0</td>\n",
       "      <td>3741.000000</td>\n",
       "      <td>3131.00000</td>\n",
       "    </tr>\n",
       "    <tr>\n",
       "      <th>mean</th>\n",
       "      <td>2.016010e+13</td>\n",
       "      <td>1.580045e+07</td>\n",
       "      <td>7.159668</td>\n",
       "      <td>7.159668</td>\n",
       "      <td>47.628835</td>\n",
       "      <td>-122.332958</td>\n",
       "      <td>3.255547</td>\n",
       "      <td>1.230604</td>\n",
       "      <td>1.262115</td>\n",
       "      <td>1.681016</td>\n",
       "      <td>...</td>\n",
       "      <td>94.515746</td>\n",
       "      <td>9.635279</td>\n",
       "      <td>9.553767</td>\n",
       "      <td>9.784908</td>\n",
       "      <td>9.807915</td>\n",
       "      <td>9.607603</td>\n",
       "      <td>9.452143</td>\n",
       "      <td>NaN</td>\n",
       "      <td>2.946004</td>\n",
       "      <td>2.10007</td>\n",
       "    </tr>\n",
       "    <tr>\n",
       "      <th>std</th>\n",
       "      <td>0.000000e+00</td>\n",
       "      <td>1.459317e+07</td>\n",
       "      <td>28.763187</td>\n",
       "      <td>28.763187</td>\n",
       "      <td>0.043323</td>\n",
       "      <td>0.031760</td>\n",
       "      <td>1.841565</td>\n",
       "      <td>0.548142</td>\n",
       "      <td>0.812395</td>\n",
       "      <td>1.039788</td>\n",
       "      <td>...</td>\n",
       "      <td>6.592448</td>\n",
       "      <td>0.700346</td>\n",
       "      <td>0.799259</td>\n",
       "      <td>0.598798</td>\n",
       "      <td>0.571371</td>\n",
       "      <td>0.630123</td>\n",
       "      <td>0.749520</td>\n",
       "      <td>NaN</td>\n",
       "      <td>5.890650</td>\n",
       "      <td>1.82837</td>\n",
       "    </tr>\n",
       "    <tr>\n",
       "      <th>min</th>\n",
       "      <td>2.016010e+13</td>\n",
       "      <td>4.193000e+03</td>\n",
       "      <td>1.000000</td>\n",
       "      <td>1.000000</td>\n",
       "      <td>47.505088</td>\n",
       "      <td>-122.417219</td>\n",
       "      <td>1.000000</td>\n",
       "      <td>0.000000</td>\n",
       "      <td>0.000000</td>\n",
       "      <td>1.000000</td>\n",
       "      <td>...</td>\n",
       "      <td>20.000000</td>\n",
       "      <td>2.000000</td>\n",
       "      <td>3.000000</td>\n",
       "      <td>2.000000</td>\n",
       "      <td>2.000000</td>\n",
       "      <td>4.000000</td>\n",
       "      <td>2.000000</td>\n",
       "      <td>NaN</td>\n",
       "      <td>1.000000</td>\n",
       "      <td>0.02000</td>\n",
       "    </tr>\n",
       "    <tr>\n",
       "      <th>25%</th>\n",
       "      <td>2.016010e+13</td>\n",
       "      <td>3.264544e+06</td>\n",
       "      <td>1.000000</td>\n",
       "      <td>1.000000</td>\n",
       "      <td>47.609070</td>\n",
       "      <td>-122.354142</td>\n",
       "      <td>2.000000</td>\n",
       "      <td>1.000000</td>\n",
       "      <td>1.000000</td>\n",
       "      <td>1.000000</td>\n",
       "      <td>...</td>\n",
       "      <td>93.000000</td>\n",
       "      <td>9.000000</td>\n",
       "      <td>9.000000</td>\n",
       "      <td>10.000000</td>\n",
       "      <td>10.000000</td>\n",
       "      <td>9.000000</td>\n",
       "      <td>9.000000</td>\n",
       "      <td>NaN</td>\n",
       "      <td>1.000000</td>\n",
       "      <td>0.71000</td>\n",
       "    </tr>\n",
       "    <tr>\n",
       "      <th>50%</th>\n",
       "      <td>2.016010e+13</td>\n",
       "      <td>1.055814e+07</td>\n",
       "      <td>1.000000</td>\n",
       "      <td>1.000000</td>\n",
       "      <td>47.623379</td>\n",
       "      <td>-122.328750</td>\n",
       "      <td>2.000000</td>\n",
       "      <td>1.000000</td>\n",
       "      <td>1.000000</td>\n",
       "      <td>1.000000</td>\n",
       "      <td>...</td>\n",
       "      <td>96.000000</td>\n",
       "      <td>10.000000</td>\n",
       "      <td>10.000000</td>\n",
       "      <td>10.000000</td>\n",
       "      <td>10.000000</td>\n",
       "      <td>10.000000</td>\n",
       "      <td>10.000000</td>\n",
       "      <td>NaN</td>\n",
       "      <td>1.000000</td>\n",
       "      <td>1.56000</td>\n",
       "    </tr>\n",
       "    <tr>\n",
       "      <th>75%</th>\n",
       "      <td>2.016010e+13</td>\n",
       "      <td>2.596372e+07</td>\n",
       "      <td>3.000000</td>\n",
       "      <td>3.000000</td>\n",
       "      <td>47.662995</td>\n",
       "      <td>-122.310725</td>\n",
       "      <td>4.000000</td>\n",
       "      <td>1.000000</td>\n",
       "      <td>2.000000</td>\n",
       "      <td>2.000000</td>\n",
       "      <td>...</td>\n",
       "      <td>99.000000</td>\n",
       "      <td>10.000000</td>\n",
       "      <td>10.000000</td>\n",
       "      <td>10.000000</td>\n",
       "      <td>10.000000</td>\n",
       "      <td>10.000000</td>\n",
       "      <td>10.000000</td>\n",
       "      <td>NaN</td>\n",
       "      <td>2.000000</td>\n",
       "      <td>3.03000</td>\n",
       "    </tr>\n",
       "    <tr>\n",
       "      <th>max</th>\n",
       "      <td>2.016010e+13</td>\n",
       "      <td>5.320861e+07</td>\n",
       "      <td>502.000000</td>\n",
       "      <td>502.000000</td>\n",
       "      <td>47.733358</td>\n",
       "      <td>-122.240607</td>\n",
       "      <td>16.000000</td>\n",
       "      <td>8.000000</td>\n",
       "      <td>7.000000</td>\n",
       "      <td>10.000000</td>\n",
       "      <td>...</td>\n",
       "      <td>100.000000</td>\n",
       "      <td>10.000000</td>\n",
       "      <td>10.000000</td>\n",
       "      <td>10.000000</td>\n",
       "      <td>10.000000</td>\n",
       "      <td>10.000000</td>\n",
       "      <td>10.000000</td>\n",
       "      <td>NaN</td>\n",
       "      <td>37.000000</td>\n",
       "      <td>12.15000</td>\n",
       "    </tr>\n",
       "  </tbody>\n",
       "</table>\n",
       "<p>8 rows × 30 columns</p>\n",
       "</div>"
      ],
      "text/plain": [
       "          scrape_id       host_id  host_listings_count  \\\n",
       "count  3.741000e+03  3.741000e+03          3739.000000   \n",
       "mean   2.016010e+13  1.580045e+07             7.159668   \n",
       "std    0.000000e+00  1.459317e+07            28.763187   \n",
       "min    2.016010e+13  4.193000e+03             1.000000   \n",
       "25%    2.016010e+13  3.264544e+06             1.000000   \n",
       "50%    2.016010e+13  1.055814e+07             1.000000   \n",
       "75%    2.016010e+13  2.596372e+07             3.000000   \n",
       "max    2.016010e+13  5.320861e+07           502.000000   \n",
       "\n",
       "       host_total_listings_count     latitude    longitude  accommodates  \\\n",
       "count                3739.000000  3741.000000  3741.000000   3741.000000   \n",
       "mean                    7.159668    47.628835  -122.332958      3.255547   \n",
       "std                    28.763187     0.043323     0.031760      1.841565   \n",
       "min                     1.000000    47.505088  -122.417219      1.000000   \n",
       "25%                     1.000000    47.609070  -122.354142      2.000000   \n",
       "50%                     1.000000    47.623379  -122.328750      2.000000   \n",
       "75%                     3.000000    47.662995  -122.310725      4.000000   \n",
       "max                   502.000000    47.733358  -122.240607     16.000000   \n",
       "\n",
       "         bathrooms     bedrooms         beds  ...  review_scores_rating  \\\n",
       "count  3725.000000  3735.000000  3740.000000  ...           3112.000000   \n",
       "mean      1.230604     1.262115     1.681016  ...             94.515746   \n",
       "std       0.548142     0.812395     1.039788  ...              6.592448   \n",
       "min       0.000000     0.000000     1.000000  ...             20.000000   \n",
       "25%       1.000000     1.000000     1.000000  ...             93.000000   \n",
       "50%       1.000000     1.000000     1.000000  ...             96.000000   \n",
       "75%       1.000000     2.000000     2.000000  ...             99.000000   \n",
       "max       8.000000     7.000000    10.000000  ...            100.000000   \n",
       "\n",
       "       review_scores_accuracy  review_scores_cleanliness  \\\n",
       "count             3101.000000                3106.000000   \n",
       "mean                 9.635279                   9.553767   \n",
       "std                  0.700346                   0.799259   \n",
       "min                  2.000000                   3.000000   \n",
       "25%                  9.000000                   9.000000   \n",
       "50%                 10.000000                  10.000000   \n",
       "75%                 10.000000                  10.000000   \n",
       "max                 10.000000                  10.000000   \n",
       "\n",
       "       review_scores_checkin  review_scores_communication  \\\n",
       "count            3101.000000                  3108.000000   \n",
       "mean                9.784908                     9.807915   \n",
       "std                 0.598798                     0.571371   \n",
       "min                 2.000000                     2.000000   \n",
       "25%                10.000000                    10.000000   \n",
       "50%                10.000000                    10.000000   \n",
       "75%                10.000000                    10.000000   \n",
       "max                10.000000                    10.000000   \n",
       "\n",
       "       review_scores_location  review_scores_value  license  \\\n",
       "count             3104.000000          3103.000000      0.0   \n",
       "mean                 9.607603             9.452143      NaN   \n",
       "std                  0.630123             0.749520      NaN   \n",
       "min                  4.000000             2.000000      NaN   \n",
       "25%                  9.000000             9.000000      NaN   \n",
       "50%                 10.000000            10.000000      NaN   \n",
       "75%                 10.000000            10.000000      NaN   \n",
       "max                 10.000000            10.000000      NaN   \n",
       "\n",
       "       calculated_host_listings_count  reviews_per_month  \n",
       "count                     3741.000000         3131.00000  \n",
       "mean                         2.946004            2.10007  \n",
       "std                          5.890650            1.82837  \n",
       "min                          1.000000            0.02000  \n",
       "25%                          1.000000            0.71000  \n",
       "50%                          1.000000            1.56000  \n",
       "75%                          2.000000            3.03000  \n",
       "max                         37.000000           12.15000  \n",
       "\n",
       "[8 rows x 30 columns]"
      ]
     },
     "execution_count": 35,
     "metadata": {},
     "output_type": "execute_result"
    }
   ],
   "source": [
    "df = df.loc[df[\"price\"] < 400.00,:]\n",
    "df.describe()"
   ]
  },
  {
   "cell_type": "code",
   "execution_count": 36,
   "metadata": {
    "colab": {
     "base_uri": "https://localhost:8080/",
     "height": 300
    },
    "colab_type": "code",
    "id": "TlXdoYUcICeh",
    "outputId": "66ff1e8c-585a-41da-e65a-1d398effaa3c"
   },
   "outputs": [
    {
     "data": {
      "text/plain": [
       "<seaborn.axisgrid.FacetGrid at 0x7f7e187a7160>"
      ]
     },
     "execution_count": 36,
     "metadata": {},
     "output_type": "execute_result"
    },
    {
     "data": {
      "image/png": "[encoded data removed]",
      "text/plain": [
       "<Figure size 360x360 with 1 Axes>"
      ]
     },
     "metadata": {
      "needs_background": "light"
     },
     "output_type": "display_data"
    }
   ],
   "source": [
    "sns.displot(df.price, kde=True)"
   ]
  },
  {
   "cell_type": "markdown",
   "metadata": {
    "colab_type": "text",
    "id": "zvVyEdGWITm-"
   },
   "source": [
    "6. Exprimez le prix en fonction des variables suivantes : \n",
    "\n",
    "- ```room type```\n",
    "- ```beds```\n",
    "- ```property type```"
   ]
  },
  {
   "cell_type": "code",
   "execution_count": 37,
   "metadata": {
    "colab": {
     "base_uri": "https://localhost:8080/",
     "height": 386
    },
    "colab_type": "code",
    "id": "GzrQ8ipAIuvE",
    "outputId": "5dc600f3-d650-4f68-f8bc-8477704e231c"
   },
   "outputs": [
    {
     "data": {
      "text/plain": [
       "<seaborn.axisgrid.FacetGrid at 0x7f7e17ed9520>"
      ]
     },
     "execution_count": 37,
     "metadata": {},
     "output_type": "execute_result"
    },
    {
     "data": {
      "image/png": "[encoded data removed]",
      "text/plain": [
       "<Figure size 360x360 with 1 Axes>"
      ]
     },
     "metadata": {
      "needs_background": "light"
     },
     "output_type": "display_data"
    }
   ],
   "source": [
    "sns.catplot(x=\"room_type\", y=\"price\", data=df, kind=\"bar\")"
   ]
  },
  {
   "cell_type": "code",
   "execution_count": 38,
   "metadata": {
    "colab": {
     "base_uri": "https://localhost:8080/",
     "height": 386
    },
    "colab_type": "code",
    "id": "MNK913pAIyHo",
    "outputId": "674eeec3-460f-4c9e-ebaf-553283398b51"
   },
   "outputs": [
    {
     "data": {
      "text/plain": [
       "<seaborn.axisgrid.FacetGrid at 0x7f7e17f1b8e0>"
      ]
     },
     "execution_count": 38,
     "metadata": {},
     "output_type": "execute_result"
    },
    {
     "data": {
      "image/png": "[encoded data removed]",
      "text/plain": [
       "<Figure size 360x360 with 1 Axes>"
      ]
     },
     "metadata": {
      "needs_background": "light"
     },
     "output_type": "display_data"
    }
   ],
   "source": [
    "sns.catplot(x=\"beds\", y=\"price\", data=df, kind=\"bar\")"
   ]
  },
  {
   "cell_type": "code",
   "execution_count": 39,
   "metadata": {
    "colab": {
     "base_uri": "https://localhost:8080/",
     "height": 727
    },
    "colab_type": "code",
    "id": "xU4EhOOGIEtP",
    "outputId": "287e79a7-190b-4728-a2c3-5a2bff34f5a6"
   },
   "outputs": [
    {
     "data": {
      "text/plain": [
       "<seaborn.axisgrid.FacetGrid at 0x7f7e17dc2790>"
      ]
     },
     "execution_count": 39,
     "metadata": {},
     "output_type": "execute_result"
    },
    {
     "data": {
      "image/png": "[encoded data removed]",
      "text/plain": [
       "<Figure size 1200x360 with 1 Axes>"
      ]
     },
     "metadata": {
      "needs_background": "light"
     },
     "output_type": "display_data"
    }
   ],
   "source": [
    "sns.catplot(x=\"property_type\", y=\"price\", data=df, kind=\"bar\", aspect=30/9)"
   ]
  },
  {
   "cell_type": "markdown",
   "metadata": {
    "colab_type": "text",
    "id": "NRFhjjfPI0_G"
   },
   "source": [
    "7. Séparez la variable cible de votre dataset"
   ]
  },
  {
   "cell_type": "code",
   "execution_count": 40,
   "metadata": {
    "colab": {},
    "colab_type": "code",
    "id": "oy0gwnMkIsb2"
   },
   "outputs": [],
   "source": [
    "target_name = 'price'\n",
    "\n",
    "X = df.loc[:,[c for c in df.columns if c!=target_name]]\n",
    "y = df.loc[:,target_name]"
   ]
  },
  {
   "cell_type": "markdown",
   "metadata": {
    "colab_type": "text",
    "id": "TXGGfGezJnpB"
   },
   "source": [
    "8. Il faut qu'on écrème quelques variables explicatives de notre jeu de données. Commencer par simplement enlever les variables qui expriment un ```id``` quelconque ou urls. On enlèvera également les variables qui contiennent des textes longs comme ```notes```\n",
    "\n",
    "De la même manière, on enlèvera  toutes les variables qui décrivent le prix mensuel ou hebdomadaire comme  ```monthly price```\n",
    "\n",
    "Votre dataset devrait contenir uniquement les variables catégoriques et numériques une fois votre nettoyage fait. \n",
    "\n",
    "A la fin, votre dataset contiendra les variables suivantes : \n",
    "\n",
    "```\n",
    "Index(['experiences_offered', 'host_response_time', 'host_response_rate',\n",
    "       'host_acceptance_rate', 'host_is_superhost', 'host_listings_count',\n",
    "       'host_total_listings_count', 'host_has_profile_pic',\n",
    "       'host_identity_verified', 'neighbourhood_group_cleansed', 'latitude',\n",
    "       'longitude', 'property_type', 'room_type', 'accommodates', 'bathrooms',\n",
    "       'bedrooms', 'beds', 'bed_type', 'security_deposit', 'cleaning_fee',\n",
    "       'guests_included', 'extra_people', 'minimum_nights', 'maximum_nights',\n",
    "       'has_availability', 'availability_30', 'availability_60',\n",
    "       'availability_90', 'availability_365', 'number_of_reviews',\n",
    "       'review_scores_rating', 'review_scores_accuracy',\n",
    "       'review_scores_cleanliness', 'review_scores_checkin',\n",
    "       'review_scores_communication', 'review_scores_location',\n",
    "       'review_scores_value', 'requires_license', 'instant_bookable',\n",
    "       'cancellation_policy', 'require_guest_profile_picture',\n",
    "       'require_guest_phone_verification', 'calculated_host_listings_count',\n",
    "       'reviews_per_month'],\n",
    "      dtype='object')\n",
    "```"
   ]
  },
  {
   "cell_type": "code",
   "execution_count": 41,
   "metadata": {
    "colab": {
     "base_uri": "https://localhost:8080/",
     "height": 1000
    },
    "colab_type": "code",
    "id": "gL9rC1wcovO9",
    "outputId": "e253ca56-2e1d-4d68-d2e7-397ab1a8c004"
   },
   "outputs": [],
   "source": [
    "keep_variables = ['host_response_time', 'host_response_rate',\n",
    "                  'host_acceptance_rate', 'host_is_superhost', 'host_listings_count',\n",
    "                  'host_total_listings_count', 'host_has_profile_pic',\n",
    "                  'host_identity_verified', 'neighbourhood_group_cleansed', 'latitude',\n",
    "                  'longitude', 'property_type', 'room_type', 'accommodates', 'bathrooms',\n",
    "                  'bedrooms', 'beds', 'bed_type', 'security_deposit', 'cleaning_fee',\n",
    "                  'guests_included', 'extra_people', 'minimum_nights', 'maximum_nights',\n",
    "                  'has_availability', 'availability_30', 'availability_60',\n",
    "                  'availability_90', 'availability_365', 'number_of_reviews',\n",
    "                  'review_scores_rating', 'review_scores_accuracy',\n",
    "                  'review_scores_cleanliness', 'review_scores_checkin',\n",
    "                  'review_scores_communication', 'review_scores_location',\n",
    "                  'review_scores_value', 'requires_license', 'instant_bookable',\n",
    "                  'cancellation_policy', 'require_guest_profile_picture',\n",
    "                  'require_guest_phone_verification', 'calculated_host_listings_count',\n",
    "                  'reviews_per_month']\n",
    "\n",
    "X = X[keep_variables]"
   ]
  },
  {
   "cell_type": "markdown",
   "metadata": {
    "colab_type": "text",
    "id": "GjNbwYRfm9Mv"
   },
   "source": [
    "9 Reste-t-il des valeurs manquantes? Certaines peuvent elles être traîtées sans avoir recours à l'interpolation ? Les variables sont elles toutes dans un format adapté ? Si non appliquez des transformations adaptées."
   ]
  },
  {
   "cell_type": "code",
   "execution_count": 42,
   "metadata": {
    "colab": {
     "base_uri": "https://localhost:8080/",
     "height": 814
    },
    "colab_type": "code",
    "id": "oD-kJB3yObA8",
    "outputId": "52a2c496-c0cc-40ad-ac2a-14d7bea17148"
   },
   "outputs": [
    {
     "name": "stdout",
     "output_type": "stream",
     "text": [
      "Percentage of missing values: \n"
     ]
    },
    {
     "data": {
      "text/plain": [
       "security_deposit                    51.617215\n",
       "cleaning_fee                        27.265437\n",
       "host_acceptance_rate                19.887731\n",
       "review_scores_accuracy              17.107725\n",
       "review_scores_checkin               17.107725\n",
       "review_scores_value                 17.054264\n",
       "review_scores_location              17.027533\n",
       "review_scores_cleanliness           16.974071\n",
       "review_scores_communication         16.920609\n",
       "review_scores_rating                16.813686\n",
       "reviews_per_month                   16.305801\n",
       "host_response_rate                  13.552526\n",
       "host_response_time                  13.552526\n",
       "bathrooms                            0.427693\n",
       "bedrooms                             0.160385\n",
       "host_is_superhost                    0.053462\n",
       "host_listings_count                  0.053462\n",
       "host_total_listings_count            0.053462\n",
       "host_has_profile_pic                 0.053462\n",
       "host_identity_verified               0.053462\n",
       "property_type                        0.026731\n",
       "beds                                 0.026731\n",
       "require_guest_phone_verification     0.000000\n",
       "require_guest_profile_picture        0.000000\n",
       "neighbourhood_group_cleansed         0.000000\n",
       "latitude                             0.000000\n",
       "longitude                            0.000000\n",
       "room_type                            0.000000\n",
       "accommodates                         0.000000\n",
       "requires_license                     0.000000\n",
       "number_of_reviews                    0.000000\n",
       "bed_type                             0.000000\n",
       "cancellation_policy                  0.000000\n",
       "instant_bookable                     0.000000\n",
       "guests_included                      0.000000\n",
       "calculated_host_listings_count       0.000000\n",
       "minimum_nights                       0.000000\n",
       "maximum_nights                       0.000000\n",
       "has_availability                     0.000000\n",
       "availability_30                      0.000000\n",
       "availability_60                      0.000000\n",
       "availability_90                      0.000000\n",
       "availability_365                     0.000000\n",
       "extra_people                         0.000000\n",
       "dtype: float64"
      ]
     },
     "metadata": {},
     "output_type": "display_data"
    }
   ],
   "source": [
    "print(\"Percentage of missing values: \")\n",
    "display(((100*X.isnull().sum()/len(X)).sort_values(ascending=False)))"
   ]
  },
  {
   "cell_type": "markdown",
   "metadata": {
    "colab_type": "text",
    "id": "sZ8btETvU_Nr"
   },
   "source": [
    "10. Vérifiez que toutes les variables numériques le sont effectivement bien. (N'oubliez pas de regarder y)"
   ]
  },
  {
   "cell_type": "code",
   "execution_count": 43,
   "metadata": {
    "colab": {},
    "colab_type": "code",
    "id": "NxZbnDngU-9P"
   },
   "outputs": [
    {
     "data": {
      "text/html": [
       "<div>\n",
       "<style scoped>\n",
       "    .dataframe tbody tr th:only-of-type {\n",
       "        vertical-align: middle;\n",
       "    }\n",
       "\n",
       "    .dataframe tbody tr th {\n",
       "        vertical-align: top;\n",
       "    }\n",
       "\n",
       "    .dataframe thead th {\n",
       "        text-align: right;\n",
       "    }\n",
       "</style>\n",
       "<table border=\"1\" class=\"dataframe\">\n",
       "  <thead>\n",
       "    <tr style=\"text-align: right;\">\n",
       "      <th></th>\n",
       "      <th>listing_url</th>\n",
       "      <th>last_scraped</th>\n",
       "      <th>name</th>\n",
       "      <th>summary</th>\n",
       "      <th>space</th>\n",
       "      <th>description</th>\n",
       "      <th>experiences_offered</th>\n",
       "      <th>neighborhood_overview</th>\n",
       "      <th>notes</th>\n",
       "      <th>transit</th>\n",
       "      <th>...</th>\n",
       "      <th>has_availability</th>\n",
       "      <th>calendar_last_scraped</th>\n",
       "      <th>first_review</th>\n",
       "      <th>last_review</th>\n",
       "      <th>requires_license</th>\n",
       "      <th>jurisdiction_names</th>\n",
       "      <th>instant_bookable</th>\n",
       "      <th>cancellation_policy</th>\n",
       "      <th>require_guest_profile_picture</th>\n",
       "      <th>require_guest_phone_verification</th>\n",
       "    </tr>\n",
       "  </thead>\n",
       "  <tbody>\n",
       "    <tr>\n",
       "      <th>count</th>\n",
       "      <td>3741</td>\n",
       "      <td>3741</td>\n",
       "      <td>3741</td>\n",
       "      <td>3566</td>\n",
       "      <td>3182</td>\n",
       "      <td>3741</td>\n",
       "      <td>3741</td>\n",
       "      <td>2730</td>\n",
       "      <td>2165</td>\n",
       "      <td>2826</td>\n",
       "      <td>...</td>\n",
       "      <td>3741</td>\n",
       "      <td>3741</td>\n",
       "      <td>3131</td>\n",
       "      <td>3131</td>\n",
       "      <td>3741</td>\n",
       "      <td>3741</td>\n",
       "      <td>3741</td>\n",
       "      <td>3741</td>\n",
       "      <td>3741</td>\n",
       "      <td>3741</td>\n",
       "    </tr>\n",
       "    <tr>\n",
       "      <th>unique</th>\n",
       "      <td>3741</td>\n",
       "      <td>1</td>\n",
       "      <td>3715</td>\n",
       "      <td>3404</td>\n",
       "      <td>3053</td>\n",
       "      <td>3665</td>\n",
       "      <td>1</td>\n",
       "      <td>2454</td>\n",
       "      <td>1957</td>\n",
       "      <td>2525</td>\n",
       "      <td>...</td>\n",
       "      <td>1</td>\n",
       "      <td>1</td>\n",
       "      <td>979</td>\n",
       "      <td>317</td>\n",
       "      <td>1</td>\n",
       "      <td>1</td>\n",
       "      <td>2</td>\n",
       "      <td>3</td>\n",
       "      <td>2</td>\n",
       "      <td>2</td>\n",
       "    </tr>\n",
       "    <tr>\n",
       "      <th>top</th>\n",
       "      <td>https://www.airbnb.com/rooms/9823290</td>\n",
       "      <td>2016-01-04</td>\n",
       "      <td>Capitol Hill Apartment</td>\n",
       "      <td>This is a modern fully-furnished studio apartm...</td>\n",
       "      <td>*Note: This fall, there will be major renovati...</td>\n",
       "      <td>Our space is a mix of a hostel and a home. We ...</td>\n",
       "      <td>none</td>\n",
       "      <td>Wallingford is a mostly-residential neighborho...</td>\n",
       "      <td>All of our rentals are fully licensed and regu...</td>\n",
       "      <td>Convenient public transportation. The location...</td>\n",
       "      <td>...</td>\n",
       "      <td>t</td>\n",
       "      <td>2016-01-04</td>\n",
       "      <td>2015-09-21</td>\n",
       "      <td>2016-01-02</td>\n",
       "      <td>f</td>\n",
       "      <td>WASHINGTON</td>\n",
       "      <td>f</td>\n",
       "      <td>strict</td>\n",
       "      <td>f</td>\n",
       "      <td>f</td>\n",
       "    </tr>\n",
       "    <tr>\n",
       "      <th>freq</th>\n",
       "      <td>1</td>\n",
       "      <td>3741</td>\n",
       "      <td>3</td>\n",
       "      <td>15</td>\n",
       "      <td>14</td>\n",
       "      <td>10</td>\n",
       "      <td>3741</td>\n",
       "      <td>17</td>\n",
       "      <td>38</td>\n",
       "      <td>31</td>\n",
       "      <td>...</td>\n",
       "      <td>3741</td>\n",
       "      <td>3741</td>\n",
       "      <td>24</td>\n",
       "      <td>94</td>\n",
       "      <td>3741</td>\n",
       "      <td>3741</td>\n",
       "      <td>3158</td>\n",
       "      <td>1365</td>\n",
       "      <td>3426</td>\n",
       "      <td>3372</td>\n",
       "    </tr>\n",
       "  </tbody>\n",
       "</table>\n",
       "<p>4 rows × 61 columns</p>\n",
       "</div>"
      ],
      "text/plain": [
       "                                 listing_url last_scraped  \\\n",
       "count                                   3741         3741   \n",
       "unique                                  3741            1   \n",
       "top     https://www.airbnb.com/rooms/9823290   2016-01-04   \n",
       "freq                                       1         3741   \n",
       "\n",
       "                          name  \\\n",
       "count                     3741   \n",
       "unique                    3715   \n",
       "top     Capitol Hill Apartment   \n",
       "freq                         3   \n",
       "\n",
       "                                                  summary  \\\n",
       "count                                                3566   \n",
       "unique                                               3404   \n",
       "top     This is a modern fully-furnished studio apartm...   \n",
       "freq                                                   15   \n",
       "\n",
       "                                                    space  \\\n",
       "count                                                3182   \n",
       "unique                                               3053   \n",
       "top     *Note: This fall, there will be major renovati...   \n",
       "freq                                                   14   \n",
       "\n",
       "                                              description experiences_offered  \\\n",
       "count                                                3741                3741   \n",
       "unique                                               3665                   1   \n",
       "top     Our space is a mix of a hostel and a home. We ...                none   \n",
       "freq                                                   10                3741   \n",
       "\n",
       "                                    neighborhood_overview  \\\n",
       "count                                                2730   \n",
       "unique                                               2454   \n",
       "top     Wallingford is a mostly-residential neighborho...   \n",
       "freq                                                   17   \n",
       "\n",
       "                                                    notes  \\\n",
       "count                                                2165   \n",
       "unique                                               1957   \n",
       "top     All of our rentals are fully licensed and regu...   \n",
       "freq                                                   38   \n",
       "\n",
       "                                                  transit  ...  \\\n",
       "count                                                2826  ...   \n",
       "unique                                               2525  ...   \n",
       "top     Convenient public transportation. The location...  ...   \n",
       "freq                                                   31  ...   \n",
       "\n",
       "       has_availability calendar_last_scraped first_review last_review  \\\n",
       "count              3741                  3741         3131        3131   \n",
       "unique                1                     1          979         317   \n",
       "top                   t            2016-01-04   2015-09-21  2016-01-02   \n",
       "freq               3741                  3741           24          94   \n",
       "\n",
       "       requires_license jurisdiction_names instant_bookable  \\\n",
       "count              3741               3741             3741   \n",
       "unique                1                  1                2   \n",
       "top                   f         WASHINGTON                f   \n",
       "freq               3741               3741             3158   \n",
       "\n",
       "       cancellation_policy require_guest_profile_picture  \\\n",
       "count                 3741                          3741   \n",
       "unique                   3                             2   \n",
       "top                 strict                             f   \n",
       "freq                  1365                          3426   \n",
       "\n",
       "       require_guest_phone_verification  \n",
       "count                              3741  \n",
       "unique                                2  \n",
       "top                                   f  \n",
       "freq                               3372  \n",
       "\n",
       "[4 rows x 61 columns]"
      ]
     },
     "execution_count": 43,
     "metadata": {},
     "output_type": "execute_result"
    }
   ],
   "source": [
    "df.describe(include='object')  "
   ]
  },
  {
   "cell_type": "code",
   "execution_count": 44,
   "metadata": {
    "colab": {
     "base_uri": "https://localhost:8080/",
     "height": 34
    },
    "colab_type": "code",
    "id": "NA2PQ37st3Lg",
    "outputId": "59d2b981-7c34-4537-fd1d-b2268e8ca52b"
   },
   "outputs": [],
   "source": [
    "column = [\"security_deposit\", \"cleaning_fee\", \"extra_people\"]\n",
    "for col in column:\n",
    "    X[col] = X[col].str[1:].replace(\",\", \"\", regex=True).astype(float)\n",
    "    X[col].fillna(0, inplace=True)"
   ]
  },
  {
   "cell_type": "code",
   "execution_count": 45,
   "metadata": {},
   "outputs": [],
   "source": [
    "column = [\"require_guest_phone_verification\", \"require_guest_profile_picture\", \"instant_bookable\", \"requires_license\", \n",
    "          \"has_availability\", \"host_is_superhost\", \"host_has_profile_pic\", \"host_identity_verified\"]\n",
    "for col in column:\n",
    "    X[col] = (X[col] == \"t\").astype(int)"
   ]
  },
  {
   "cell_type": "code",
   "execution_count": 46,
   "metadata": {},
   "outputs": [],
   "source": [
    "column = [\"host_response_rate\", \"host_acceptance_rate\"]\n",
    "\n",
    "for col in column:\n",
    "    X[col] = X[col].str[:-1].astype(float)/100.0\n",
    "    X[col].fillna(0, inplace=True)"
   ]
  },
  {
   "cell_type": "code",
   "execution_count": 47,
   "metadata": {},
   "outputs": [],
   "source": [
    "X.host_response_time.replace({\"within an hour\":1, \"within a few hours\":2, \"within a day\":3, \"a few days or more\":4}, \n",
    "                              inplace=True)\n",
    "\n",
    "X.cancellation_policy.replace({\"flexible\":1, \"moderate\":2, \"strict\":3, \"a few days or more\":4}, inplace=True)"
   ]
  },
  {
   "cell_type": "markdown",
   "metadata": {
    "colab_type": "text",
    "id": "30Tadd-0VHyI"
   },
   "source": [
    "11. Séparez les variables en deux groupes, les variables numériques d'un côté et les qualitatives de l'autre."
   ]
  },
  {
   "cell_type": "code",
   "execution_count": 48,
   "metadata": {
    "colab": {},
    "colab_type": "code",
    "id": "FceM3INEmcQN"
   },
   "outputs": [],
   "source": [
    "import numpy as np\n",
    "num_col = X.select_dtypes([np.number]).columns\n",
    "name_col = X.select_dtypes(\"object\").columns"
   ]
  },
  {
   "cell_type": "code",
   "execution_count": 49,
   "metadata": {},
   "outputs": [
    {
     "name": "stdout",
     "output_type": "stream",
     "text": [
      "<class 'pandas.core.frame.DataFrame'>\n",
      "Int64Index: 3741 entries, 241032 to 10208623\n",
      "Data columns (total 40 columns):\n",
      " #   Column                            Non-Null Count  Dtype  \n",
      "---  ------                            --------------  -----  \n",
      " 0   host_response_time                3234 non-null   float64\n",
      " 1   host_response_rate                3741 non-null   float64\n",
      " 2   host_acceptance_rate              3741 non-null   float64\n",
      " 3   host_is_superhost                 3741 non-null   int64  \n",
      " 4   host_listings_count               3739 non-null   float64\n",
      " 5   host_total_listings_count         3739 non-null   float64\n",
      " 6   host_has_profile_pic              3741 non-null   int64  \n",
      " 7   host_identity_verified            3741 non-null   int64  \n",
      " 8   latitude                          3741 non-null   float64\n",
      " 9   longitude                         3741 non-null   float64\n",
      " 10  accommodates                      3741 non-null   int64  \n",
      " 11  bathrooms                         3725 non-null   float64\n",
      " 12  bedrooms                          3735 non-null   float64\n",
      " 13  beds                              3740 non-null   float64\n",
      " 14  security_deposit                  3741 non-null   float64\n",
      " 15  cleaning_fee                      3741 non-null   float64\n",
      " 16  guests_included                   3741 non-null   int64  \n",
      " 17  extra_people                      3741 non-null   float64\n",
      " 18  minimum_nights                    3741 non-null   int64  \n",
      " 19  maximum_nights                    3741 non-null   int64  \n",
      " 20  has_availability                  3741 non-null   int64  \n",
      " 21  availability_30                   3741 non-null   int64  \n",
      " 22  availability_60                   3741 non-null   int64  \n",
      " 23  availability_90                   3741 non-null   int64  \n",
      " 24  availability_365                  3741 non-null   int64  \n",
      " 25  number_of_reviews                 3741 non-null   int64  \n",
      " 26  review_scores_rating              3112 non-null   float64\n",
      " 27  review_scores_accuracy            3101 non-null   float64\n",
      " 28  review_scores_cleanliness         3106 non-null   float64\n",
      " 29  review_scores_checkin             3101 non-null   float64\n",
      " 30  review_scores_communication       3108 non-null   float64\n",
      " 31  review_scores_location            3104 non-null   float64\n",
      " 32  review_scores_value               3103 non-null   float64\n",
      " 33  requires_license                  3741 non-null   int64  \n",
      " 34  instant_bookable                  3741 non-null   int64  \n",
      " 35  cancellation_policy               3741 non-null   int64  \n",
      " 36  require_guest_profile_picture     3741 non-null   int64  \n",
      " 37  require_guest_phone_verification  3741 non-null   int64  \n",
      " 38  calculated_host_listings_count    3741 non-null   int64  \n",
      " 39  reviews_per_month                 3131 non-null   float64\n",
      "dtypes: float64(21), int64(19)\n",
      "memory usage: 1.3 MB\n"
     ]
    }
   ],
   "source": [
    "X[num_col].info()"
   ]
  },
  {
   "cell_type": "markdown",
   "metadata": {
    "colab_type": "text",
    "id": "rP8SGhm7VTAn"
   },
   "source": [
    "12. Faites maintenant un ```train_test_split```"
   ]
  },
  {
   "cell_type": "code",
   "execution_count": 50,
   "metadata": {
    "colab": {},
    "colab_type": "code",
    "id": "aQ98aQy9VRtE"
   },
   "outputs": [],
   "source": [
    "from sklearn.model_selection import train_test_split\n",
    "X_train, X_test, y_train, y_test = train_test_split(X, y, test_size=0.2, random_state=0)"
   ]
  },
  {
   "cell_type": "markdown",
   "metadata": {
    "colab_type": "text",
    "id": "XYrAOdySV2Gv"
   },
   "source": [
    "13. Normalisez ```X_train_num``` & ```X_test_num``` et rassemblez les deux groupes de variables"
   ]
  },
  {
   "cell_type": "code",
   "execution_count": 52,
   "metadata": {
    "colab": {},
    "colab_type": "code",
    "id": "6ROdtj0AV08t"
   },
   "outputs": [],
   "source": [
    "from sklearn.pipeline import Pipeline\n",
    "from sklearn.impute import SimpleImputer\n",
    "from sklearn.preprocessing import StandardScaler\n",
    "from sklearn.preprocessing import OneHotEncoder\n",
    "from sklearn.compose import ColumnTransformer\n",
    "\n",
    "numeric_transformer = Pipeline(steps=[\n",
    "    ('imputer', SimpleImputer(strategy='mean')),\n",
    "    ('scaler', StandardScaler())\n",
    "])\n",
    "\n",
    "categorical_transformer = Pipeline(\n",
    "    steps=[\n",
    "    ('imputer', SimpleImputer(strategy='most_frequent')),\n",
    "    ('encoder', OneHotEncoder(drop='first'))\n",
    "])\n",
    "\n",
    "preprocessor = ColumnTransformer(\n",
    "    transformers=[\n",
    "        ('num', numeric_transformer, num_col),\n",
    "        ('cat', categorical_transformer, name_col)\n",
    "    ])\n",
    "\n",
    "X_train = preprocessor.fit_transform(X_train)\n",
    "X_test = preprocessor.transform(X_test)"
   ]
  },
  {
   "cell_type": "markdown",
   "metadata": {
    "colab_type": "text",
    "id": "MpiIAfd3WKFe"
   },
   "source": [
    "15. Entrainez d'abord un modèle d'Adaboost standard et regardez votre score \n"
   ]
  },
  {
   "cell_type": "code",
   "execution_count": 53,
   "metadata": {
    "colab": {
     "base_uri": "https://localhost:8080/",
     "height": 89
    },
    "colab_type": "code",
    "id": "KXuHsNbzWHxl",
    "outputId": "c5052c90-3c96-4c5f-808e-887f4d829c2c"
   },
   "outputs": [
    {
     "data": {
      "text/plain": [
       "0.4354200513410408"
      ]
     },
     "execution_count": 53,
     "metadata": {},
     "output_type": "execute_result"
    }
   ],
   "source": [
    "from sklearn.ensemble import AdaBoostRegressor \n",
    "\n",
    "regressor_ada = AdaBoostRegressor(random_state=0)\n",
    "regressor_ada.fit(X_train, y_train)\n",
    "regressor_ada.score(X_test, y_test)"
   ]
  },
  {
   "cell_type": "code",
   "execution_count": null,
   "metadata": {
    "colab": {
     "base_uri": "https://localhost:8080/",
     "height": 52
    },
    "colab_type": "code",
    "id": "lHb-7kNLuus7",
    "outputId": "b3c26500-3f36-487d-f951-e9972b54e5aa"
   },
   "outputs": [
    {
     "data": {
      "text/plain": [
       "price    122.798935\n",
       "dtype: float64"
      ]
     },
     "execution_count": 36,
     "metadata": {
      "tags": []
     },
     "output_type": "execute_result"
    }
   ],
   "source": []
  },
  {
   "cell_type": "markdown",
   "metadata": {
    "colab_type": "text",
    "id": "lfuWl-O2Wr0w"
   },
   "source": [
    "16. Entrainez ensuite un modèle XGBoost et regardez votre score "
   ]
  },
  {
   "cell_type": "code",
   "execution_count": 54,
   "metadata": {
    "colab": {
     "base_uri": "https://localhost:8080/",
     "height": 52
    },
    "colab_type": "code",
    "id": "FJKss7fQWp5k",
    "outputId": "8bd994a0-99d8-4e9c-9147-9d746ec9c306"
   },
   "outputs": [
    {
     "name": "stdout",
     "output_type": "stream",
     "text": [
      "Collecting xgboost\n",
      "  Downloading xgboost-1.3.3-py3-none-manylinux2010_x86_64.whl (157.5 MB)\n",
      "\u001b[K     |████████████████████████████████| 157.5 MB 46 kB/s s eta 0:00:01  |▏                               | 788 kB 7.1 MB/s eta 0:00:23\n",
      "\u001b[?25hRequirement already satisfied: numpy in /opt/conda/lib/python3.8/site-packages (from xgboost) (1.19.2)\n",
      "Requirement already satisfied: scipy in /opt/conda/lib/python3.8/site-packages (from xgboost) (1.5.2)\n",
      "Installing collected packages: xgboost\n",
      "Successfully installed xgboost-1.3.3\n"
     ]
    }
   ],
   "source": [
    "! pip install xgboost"
   ]
  },
  {
   "cell_type": "code",
   "execution_count": 56,
   "metadata": {},
   "outputs": [
    {
     "data": {
      "text/plain": [
       "0.681206288383623"
      ]
     },
     "execution_count": 56,
     "metadata": {},
     "output_type": "execute_result"
    }
   ],
   "source": [
    "from xgboost import XGBRegressor\n",
    "\n",
    "regressor_xgb = XGBRegressor(random_state=0)\n",
    "regressor_xgb.fit(X_train, y_train)\n",
    "regressor_xgb.score(X_test, y_test)"
   ]
  },
  {
   "cell_type": "markdown",
   "metadata": {
    "colab_type": "text",
    "id": "kIukfdh1XTtf"
   },
   "source": [
    "17. Par défaut, Adaboost prend des decision trees comme modèle a booster. Tentez de mettre une regression linéaire "
   ]
  },
  {
   "cell_type": "code",
   "execution_count": 57,
   "metadata": {
    "colab": {
     "base_uri": "https://localhost:8080/",
     "height": 89
    },
    "colab_type": "code",
    "id": "VPujqr3RW1cb",
    "outputId": "fd871fde-9bd2-42a2-a0dc-dbd7b7a35a3c"
   },
   "outputs": [
    {
     "data": {
      "text/plain": [
       "AdaBoostRegressor(base_estimator=LinearRegression(), random_state=0)"
      ]
     },
     "execution_count": 57,
     "metadata": {},
     "output_type": "execute_result"
    }
   ],
   "source": [
    "from sklearn.linear_model import LinearRegression\n",
    "\n",
    "regressor_ada = AdaBoostRegressor(LinearRegression(), random_state=0)\n",
    "regressor_ada.fit(X_train, y_train)"
   ]
  },
  {
   "cell_type": "code",
   "execution_count": 58,
   "metadata": {
    "colab": {
     "base_uri": "https://localhost:8080/",
     "height": 34
    },
    "colab_type": "code",
    "id": "IzU_mMH4Kx_g",
    "outputId": "b68f2e6d-b619-48e0-bfd0-d31fbc1c0187"
   },
   "outputs": [
    {
     "data": {
      "text/plain": [
       "0.18466020994184829"
      ]
     },
     "execution_count": 58,
     "metadata": {},
     "output_type": "execute_result"
    }
   ],
   "source": [
    "regressor_ada.score(X_test, y_test)"
   ]
  },
  {
   "cell_type": "markdown",
   "metadata": {
    "colab_type": "text",
    "id": "_Sfr_AsxY8Af"
   },
   "source": [
    "18. La régression linéaire n'était pas la meilleure idée mais peut être qu'on peut faire une grid_search sur le ```learning rate``` & ```n_estimators```pour rattraper le score de XGBoost ?"
   ]
  },
  {
   "cell_type": "code",
   "execution_count": 59,
   "metadata": {
    "colab": {
     "base_uri": "https://localhost:8080/",
     "height": 4044
    },
    "colab_type": "code",
    "id": "oRM258DeXqsq",
    "outputId": "ef9fbdb5-7a52-49bd-c058-5a11728315a9"
   },
   "outputs": [
    {
     "data": {
      "text/plain": [
       "GridSearchCV(estimator=AdaBoostRegressor(random_state=0),\n",
       "             param_grid={'learning_rate': [1.0, 0.9, 0.8, 0.7, 0.6, 0.5],\n",
       "                         'n_estimators': [10, 20, 30, 40, 50, 70, 100]})"
      ]
     },
     "execution_count": 59,
     "metadata": {},
     "output_type": "execute_result"
    }
   ],
   "source": [
    "from sklearn.model_selection import GridSearchCV\n",
    "\n",
    "regressor_ada = AdaBoostRegressor(random_state=0)\n",
    "parameters = {'n_estimators':[10, 20, 30, 40, 50, 70, 100],\n",
    "              \"learning_rate\":[1.0, 0.9, 0.8, 0.7, 0.6, 0.5]}\n",
    "\n",
    "regressor_ada_best = GridSearchCV(regressor_ada, parameters)\n",
    "regressor_ada_best.fit(X_train, y_train)"
   ]
  },
  {
   "cell_type": "code",
   "execution_count": 60,
   "metadata": {
    "colab": {
     "base_uri": "https://localhost:8080/",
     "height": 34
    },
    "colab_type": "code",
    "id": "WarZm6v3aJJU",
    "outputId": "9ada71b9-517a-45ed-a6d7-84f9f379d8d2"
   },
   "outputs": [
    {
     "data": {
      "text/plain": [
       "{'learning_rate': 0.5, 'n_estimators': 10}"
      ]
     },
     "execution_count": 60,
     "metadata": {},
     "output_type": "execute_result"
    }
   ],
   "source": [
    "regressor_ada_best.best_params_"
   ]
  },
  {
   "cell_type": "code",
   "execution_count": 64,
   "metadata": {
    "colab": {
     "base_uri": "https://localhost:8080/",
     "height": 34
    },
    "colab_type": "code",
    "id": "FoF7NH52eZAZ",
    "outputId": "6622a3e7-7577-4a8c-e5f6-25148e5cc3af"
   },
   "outputs": [
    {
     "name": "stdout",
     "output_type": "stream",
     "text": [
      "Train score : 0.5741151601224992, Test score : 0.5690416471384887\n"
     ]
    }
   ],
   "source": [
    "print(f\"Train score : {regressor_ada_best.best_estimator_.score(X_train, y_train)}, \"\n",
    "      f\"Test score : {regressor_ada_best.best_estimator_.score(X_test, y_test)}\")"
   ]
  },
  {
   "cell_type": "markdown",
   "metadata": {
    "colab_type": "text",
    "id": "gcyAjIEBfNR3"
   },
   "source": [
    "---> Même avec beaucoup plus d'estimateurs, nous n'arrivons pas au score de XGBoost"
   ]
  }
 ],
 "metadata": {
  "colab": {
   "collapsed_sections": [],
   "name": "Copy of Adaboost ou XGBoost - Exercice SOLUTION.ipynb",
   "provenance": []
  },
  "kernelspec": {
   "display_name": "Python 3",
   "language": "python",
   "name": "python3"
  },
  "language_info": {
   "codemirror_mode": {
    "name": "ipython",
    "version": 3
   },
   "file_extension": ".py",
   "mimetype": "text/x-python",
   "name": "python",
   "nbconvert_exporter": "python",
   "pygments_lexer": "ipython3",
   "version": "3.8.6"
  }
 },
 "nbformat": 4,
 "nbformat_minor": 4
}
