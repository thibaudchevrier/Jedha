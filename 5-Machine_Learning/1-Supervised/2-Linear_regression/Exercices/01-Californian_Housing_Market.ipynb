{
 "cells": [
  {
   "cell_type": "markdown",
   "metadata": {
    "colab_type": "text",
    "id": "Ir8u1QgWOXeZ"
   },
   "source": [
    "# Californian Housing Market\n",
    "\n",
    "\n"
   ]
  },
  {
   "cell_type": "markdown",
   "metadata": {
    "colab_type": "text",
    "id": "yRLimEVTOcQf"
   },
   "source": [
    "In Sklearn, there are datasets that are already pre-recorded that we can use for our purposes to apply Machine Learning algorithms. Let's try to look at the first one with Boston Housing Market."
   ]
  },
  {
   "cell_type": "markdown",
   "metadata": {
    "colab_type": "text",
    "id": "txxsZXhlOyaO"
   },
   "source": [
    "1. Import usual librairies"
   ]
  },
  {
   "cell_type": "code",
   "execution_count": 113,
   "metadata": {
    "colab": {},
    "colab_type": "code",
    "id": "Ier711AbO0Mm"
   },
   "outputs": [],
   "source": [
    "import sklearn\n",
    "import pandas as pd\n",
    "import seaborn as sns\n",
    "from sklearn.model_selection import train_test_split\n",
    "from sklearn.feature_selection import f_regression\n",
    "from sklearn.preprocessing import  OneHotEncoder, StandardScaler, LabelEncoder\n",
    "from sklearn.compose import ColumnTransformer\n",
    "from sklearn.linear_model import LinearRegression\n",
    "from sklearn.metrics import r2_score\n",
    "from sklearn.pipeline import Pipeline"
   ]
  },
  {
   "cell_type": "markdown",
   "metadata": {
    "colab_type": "text",
    "id": "TM4sZrYeOrSq"
   },
   "source": [
    "    2. Use the following lines of code to retrieve California real estate price data:\n",
    "    \n",
    "```\n",
    "from sklearn import datasets\n",
    "data = datasets.california_housing.fetch_california_housing()\n",
    "```"
   ]
  },
  {
   "cell_type": "code",
   "execution_count": 81,
   "metadata": {
    "colab": {},
    "colab_type": "code",
    "id": "7uzNthAuOXOK"
   },
   "outputs": [],
   "source": [
    "from sklearn import datasets\n",
    "X, y = datasets.fetch_california_housing(return_X_y = True, as_frame=True)"
   ]
  },
  {
   "cell_type": "markdown",
   "metadata": {
    "colab_type": "text",
    "id": "u6c9JJFfO-fe"
   },
   "source": [
    "3. Use ONE line of code to get the names of the different explanatory variables."
   ]
  },
  {
   "cell_type": "code",
   "execution_count": 82,
   "metadata": {
    "colab": {
     "base_uri": "https://localhost:8080/",
     "height": 155
    },
    "colab_type": "code",
    "id": "j-fpaqj6NSU-",
    "outputId": "ca4386e0-7800-4c76-e659-1b8da7a41d1a"
   },
   "outputs": [
    {
     "data": {
      "text/plain": [
       "['MedInc',\n",
       " 'HouseAge',\n",
       " 'AveRooms',\n",
       " 'AveBedrms',\n",
       " 'Population',\n",
       " 'AveOccup',\n",
       " 'Latitude',\n",
       " 'Longitude']"
      ]
     },
     "execution_count": 82,
     "metadata": {},
     "output_type": "execute_result"
    }
   ],
   "source": [
    "X.columns.to_list()"
   ]
  },
  {
   "cell_type": "markdown",
   "metadata": {
    "colab_type": "text",
    "id": "hk8aFIWxPWnD"
   },
   "source": [
    "4. We'd prefer to have this data in a DataFrame. Use the Pandas library to find a way to put this data into a DataFrame. \n",
    "\n",
    "You can go more specifically look at the following link: \n",
    "\n",
    "[DataFrame en Pandas](https://pandas.pydata.org/pandas-docs/stable/reference/api/pandas.DataFrame.html)"
   ]
  },
  {
   "cell_type": "code",
   "execution_count": 83,
   "metadata": {
    "colab": {
     "base_uri": "https://localhost:8080/",
     "height": 198
    },
    "colab_type": "code",
    "id": "YJYDTxH1PVF1",
    "outputId": "54be6a0c-6fa7-4ada-92d6-67d3dd09a648"
   },
   "outputs": [
    {
     "data": {
      "text/html": [
       "<div>\n",
       "<style scoped>\n",
       "    .dataframe tbody tr th:only-of-type {\n",
       "        vertical-align: middle;\n",
       "    }\n",
       "\n",
       "    .dataframe tbody tr th {\n",
       "        vertical-align: top;\n",
       "    }\n",
       "\n",
       "    .dataframe thead th {\n",
       "        text-align: right;\n",
       "    }\n",
       "</style>\n",
       "<table border=\"1\" class=\"dataframe\">\n",
       "  <thead>\n",
       "    <tr style=\"text-align: right;\">\n",
       "      <th></th>\n",
       "      <th>MedInc</th>\n",
       "      <th>HouseAge</th>\n",
       "      <th>AveRooms</th>\n",
       "      <th>AveBedrms</th>\n",
       "      <th>Population</th>\n",
       "      <th>AveOccup</th>\n",
       "      <th>Latitude</th>\n",
       "      <th>Longitude</th>\n",
       "      <th>MedHouseVal</th>\n",
       "    </tr>\n",
       "  </thead>\n",
       "  <tbody>\n",
       "    <tr>\n",
       "      <th>0</th>\n",
       "      <td>8.3252</td>\n",
       "      <td>41.0</td>\n",
       "      <td>6.984127</td>\n",
       "      <td>1.023810</td>\n",
       "      <td>322.0</td>\n",
       "      <td>2.555556</td>\n",
       "      <td>37.88</td>\n",
       "      <td>-122.23</td>\n",
       "      <td>4.526</td>\n",
       "    </tr>\n",
       "    <tr>\n",
       "      <th>1</th>\n",
       "      <td>8.3014</td>\n",
       "      <td>21.0</td>\n",
       "      <td>6.238137</td>\n",
       "      <td>0.971880</td>\n",
       "      <td>2401.0</td>\n",
       "      <td>2.109842</td>\n",
       "      <td>37.86</td>\n",
       "      <td>-122.22</td>\n",
       "      <td>3.585</td>\n",
       "    </tr>\n",
       "    <tr>\n",
       "      <th>2</th>\n",
       "      <td>7.2574</td>\n",
       "      <td>52.0</td>\n",
       "      <td>8.288136</td>\n",
       "      <td>1.073446</td>\n",
       "      <td>496.0</td>\n",
       "      <td>2.802260</td>\n",
       "      <td>37.85</td>\n",
       "      <td>-122.24</td>\n",
       "      <td>3.521</td>\n",
       "    </tr>\n",
       "    <tr>\n",
       "      <th>3</th>\n",
       "      <td>5.6431</td>\n",
       "      <td>52.0</td>\n",
       "      <td>5.817352</td>\n",
       "      <td>1.073059</td>\n",
       "      <td>558.0</td>\n",
       "      <td>2.547945</td>\n",
       "      <td>37.85</td>\n",
       "      <td>-122.25</td>\n",
       "      <td>3.413</td>\n",
       "    </tr>\n",
       "    <tr>\n",
       "      <th>4</th>\n",
       "      <td>3.8462</td>\n",
       "      <td>52.0</td>\n",
       "      <td>6.281853</td>\n",
       "      <td>1.081081</td>\n",
       "      <td>565.0</td>\n",
       "      <td>2.181467</td>\n",
       "      <td>37.85</td>\n",
       "      <td>-122.25</td>\n",
       "      <td>3.422</td>\n",
       "    </tr>\n",
       "    <tr>\n",
       "      <th>...</th>\n",
       "      <td>...</td>\n",
       "      <td>...</td>\n",
       "      <td>...</td>\n",
       "      <td>...</td>\n",
       "      <td>...</td>\n",
       "      <td>...</td>\n",
       "      <td>...</td>\n",
       "      <td>...</td>\n",
       "      <td>...</td>\n",
       "    </tr>\n",
       "    <tr>\n",
       "      <th>20635</th>\n",
       "      <td>1.5603</td>\n",
       "      <td>25.0</td>\n",
       "      <td>5.045455</td>\n",
       "      <td>1.133333</td>\n",
       "      <td>845.0</td>\n",
       "      <td>2.560606</td>\n",
       "      <td>39.48</td>\n",
       "      <td>-121.09</td>\n",
       "      <td>0.781</td>\n",
       "    </tr>\n",
       "    <tr>\n",
       "      <th>20636</th>\n",
       "      <td>2.5568</td>\n",
       "      <td>18.0</td>\n",
       "      <td>6.114035</td>\n",
       "      <td>1.315789</td>\n",
       "      <td>356.0</td>\n",
       "      <td>3.122807</td>\n",
       "      <td>39.49</td>\n",
       "      <td>-121.21</td>\n",
       "      <td>0.771</td>\n",
       "    </tr>\n",
       "    <tr>\n",
       "      <th>20637</th>\n",
       "      <td>1.7000</td>\n",
       "      <td>17.0</td>\n",
       "      <td>5.205543</td>\n",
       "      <td>1.120092</td>\n",
       "      <td>1007.0</td>\n",
       "      <td>2.325635</td>\n",
       "      <td>39.43</td>\n",
       "      <td>-121.22</td>\n",
       "      <td>0.923</td>\n",
       "    </tr>\n",
       "    <tr>\n",
       "      <th>20638</th>\n",
       "      <td>1.8672</td>\n",
       "      <td>18.0</td>\n",
       "      <td>5.329513</td>\n",
       "      <td>1.171920</td>\n",
       "      <td>741.0</td>\n",
       "      <td>2.123209</td>\n",
       "      <td>39.43</td>\n",
       "      <td>-121.32</td>\n",
       "      <td>0.847</td>\n",
       "    </tr>\n",
       "    <tr>\n",
       "      <th>20639</th>\n",
       "      <td>2.3886</td>\n",
       "      <td>16.0</td>\n",
       "      <td>5.254717</td>\n",
       "      <td>1.162264</td>\n",
       "      <td>1387.0</td>\n",
       "      <td>2.616981</td>\n",
       "      <td>39.37</td>\n",
       "      <td>-121.24</td>\n",
       "      <td>0.894</td>\n",
       "    </tr>\n",
       "  </tbody>\n",
       "</table>\n",
       "<p>20640 rows × 9 columns</p>\n",
       "</div>"
      ],
      "text/plain": [
       "       MedInc  HouseAge  AveRooms  AveBedrms  Population  AveOccup  Latitude  \\\n",
       "0      8.3252      41.0  6.984127   1.023810       322.0  2.555556     37.88   \n",
       "1      8.3014      21.0  6.238137   0.971880      2401.0  2.109842     37.86   \n",
       "2      7.2574      52.0  8.288136   1.073446       496.0  2.802260     37.85   \n",
       "3      5.6431      52.0  5.817352   1.073059       558.0  2.547945     37.85   \n",
       "4      3.8462      52.0  6.281853   1.081081       565.0  2.181467     37.85   \n",
       "...       ...       ...       ...        ...         ...       ...       ...   \n",
       "20635  1.5603      25.0  5.045455   1.133333       845.0  2.560606     39.48   \n",
       "20636  2.5568      18.0  6.114035   1.315789       356.0  3.122807     39.49   \n",
       "20637  1.7000      17.0  5.205543   1.120092      1007.0  2.325635     39.43   \n",
       "20638  1.8672      18.0  5.329513   1.171920       741.0  2.123209     39.43   \n",
       "20639  2.3886      16.0  5.254717   1.162264      1387.0  2.616981     39.37   \n",
       "\n",
       "       Longitude  MedHouseVal  \n",
       "0        -122.23        4.526  \n",
       "1        -122.22        3.585  \n",
       "2        -122.24        3.521  \n",
       "3        -122.25        3.413  \n",
       "4        -122.25        3.422  \n",
       "...          ...          ...  \n",
       "20635    -121.09        0.781  \n",
       "20636    -121.21        0.771  \n",
       "20637    -121.22        0.923  \n",
       "20638    -121.32        0.847  \n",
       "20639    -121.24        0.894  \n",
       "\n",
       "[20640 rows x 9 columns]"
      ]
     },
     "metadata": {},
     "output_type": "display_data"
    }
   ],
   "source": [
    "df = pd.concat([X, y], axis=1)\n",
    "display(df)"
   ]
  },
  {
   "cell_type": "markdown",
   "metadata": {
    "colab_type": "text",
    "id": "WOUcwmAAROYA"
   },
   "source": [
    "5. Visualize the impact of each variable on price with Seaborn "
   ]
  },
  {
   "cell_type": "markdown",
   "metadata": {
    "colab_type": "text",
    "id": "v6zrqrFlRpoY"
   },
   "source": [
    "a. Make a point cloud to express _Price_ as a function of _MedInc_."
   ]
  },
  {
   "cell_type": "code",
   "execution_count": 84,
   "metadata": {
    "colab": {
     "base_uri": "https://localhost:8080/",
     "height": 386
    },
    "colab_type": "code",
    "id": "iaY0SdCAQjD0",
    "outputId": "f6cf3c22-5ab8-4536-dc27-f1c8474e9af0"
   },
   "outputs": [
    {
     "data": {
      "text/plain": [
       "<AxesSubplot:xlabel='MedInc', ylabel='MedHouseVal'>"
      ]
     },
     "execution_count": 84,
     "metadata": {},
     "output_type": "execute_result"
    },
    {
     "data": {
      "image/png": "[encoded data removed]",
      "text/plain": [
       "<Figure size 432x288 with 1 Axes>"
      ]
     },
     "metadata": {
      "needs_background": "light"
     },
     "output_type": "display_data"
    }
   ],
   "source": [
    "sns.scatterplot(data=df, x=\"MedInc\", y=\"MedHouseVal\")"
   ]
  },
  {
   "cell_type": "markdown",
   "metadata": {
    "colab_type": "text",
    "id": "oozrRP_XSAwe"
   },
   "source": [
    "b. Now look at the influence of the age of the house in relation to the price."
   ]
  },
  {
   "cell_type": "code",
   "execution_count": 85,
   "metadata": {},
   "outputs": [
    {
     "data": {
      "text/plain": [
       "<AxesSubplot:xlabel='HouseAge', ylabel='MedHouseVal'>"
      ]
     },
     "execution_count": 85,
     "metadata": {},
     "output_type": "execute_result"
    },
    {
     "data": {
      "image/png": "[encoded data removed]",
      "text/plain": [
       "<Figure size 432x288 with 1 Axes>"
      ]
     },
     "metadata": {
      "needs_background": "light"
     },
     "output_type": "display_data"
    }
   ],
   "source": [
    "sns.lineplot(data=df, x=\"HouseAge\", y=\"MedHouseVal\")"
   ]
  },
  {
   "cell_type": "markdown",
   "metadata": {
    "colab_type": "text",
    "id": "vO09m2XGei7M"
   },
   "source": [
    "c. Find a way to look at the trend between _AveRooms_ & _Price_."
   ]
  },
  {
   "cell_type": "code",
   "execution_count": 86,
   "metadata": {
    "colab": {
     "base_uri": "https://localhost:8080/",
     "height": 386
    },
    "colab_type": "code",
    "id": "_Oymvr61STJX",
    "outputId": "9a48832c-48c0-4f21-ea93-7c0d09224870"
   },
   "outputs": [
    {
     "data": {
      "text/plain": [
       "<seaborn.axisgrid.FacetGrid at 0x7f5a606a49a0>"
      ]
     },
     "execution_count": 86,
     "metadata": {},
     "output_type": "execute_result"
    },
    {
     "data": {
      "image/png": "[encoded data removed]",
      "text/plain": [
       "<Figure size 360x360 with 1 Axes>"
      ]
     },
     "metadata": {
      "needs_background": "light"
     },
     "output_type": "display_data"
    }
   ],
   "source": [
    "sns.lmplot(data=df, x=\"AveRooms\", y=\"MedHouseVal\")"
   ]
  },
  {
   "cell_type": "markdown",
   "metadata": {
    "colab_type": "text",
    "id": "tZDPnFjSfIRm"
   },
   "source": [
    "d. Do the same with _AveBedrms_ & _Price_."
   ]
  },
  {
   "cell_type": "code",
   "execution_count": 87,
   "metadata": {
    "colab": {
     "base_uri": "https://localhost:8080/",
     "height": 386
    },
    "colab_type": "code",
    "id": "nI6crxaxSYYy",
    "outputId": "b2c6e34f-4f6d-4bf0-8afa-1f56d7fdaeb5"
   },
   "outputs": [
    {
     "data": {
      "text/plain": [
       "<seaborn.axisgrid.FacetGrid at 0x7f5a5ad30df0>"
      ]
     },
     "execution_count": 87,
     "metadata": {},
     "output_type": "execute_result"
    },
    {
     "data": {
      "image/png": "[encoded data removed]",
      "text/plain": [
       "<Figure size 360x360 with 1 Axes>"
      ]
     },
     "metadata": {
      "needs_background": "light"
     },
     "output_type": "display_data"
    }
   ],
   "source": [
    "sns.lmplot(data=df, x=\"AveBedrms\", y=\"MedHouseVal\")"
   ]
  },
  {
   "cell_type": "markdown",
   "metadata": {
    "colab_type": "text",
    "id": "mpkL2Z0PfZ4D"
   },
   "source": [
    "e. Do the same with the population. Simply filter the dataset so that it contains only those values for which the population is less than 15,000."
   ]
  },
  {
   "cell_type": "code",
   "execution_count": 89,
   "metadata": {
    "colab": {
     "base_uri": "https://localhost:8080/",
     "height": 386
    },
    "colab_type": "code",
    "id": "sNhCVJcpT-uh",
    "outputId": "c20cf5e3-dfaa-4b53-a154-3489063a1ba1"
   },
   "outputs": [
    {
     "data": {
      "text/plain": [
       "<seaborn.axisgrid.FacetGrid at 0x7f5a5ac9f100>"
      ]
     },
     "execution_count": 89,
     "metadata": {},
     "output_type": "execute_result"
    },
    {
     "data": {
      "image/png": "[encoded data removed]",
      "text/plain": [
       "<Figure size 360x360 with 1 Axes>"
      ]
     },
     "metadata": {
      "needs_background": "light"
     },
     "output_type": "display_data"
    }
   ],
   "source": [
    "sns.lmplot(data=df.loc[df[\"Population\"] < 15000, :], x=\"Population\", y=\"MedHouseVal\")"
   ]
  },
  {
   "cell_type": "markdown",
   "metadata": {
    "colab_type": "text",
    "id": "tzPY-V8KfkSM"
   },
   "source": [
    "f. Do the same with _AveOccup_. This time filter the column to keep only the values below 100%."
   ]
  },
  {
   "cell_type": "code",
   "execution_count": 90,
   "metadata": {
    "colab": {
     "base_uri": "https://localhost:8080/",
     "height": 386
    },
    "colab_type": "code",
    "id": "s35szTI0fP_o",
    "outputId": "2423eda5-5bb7-4fe6-df91-03d5d10e1da1"
   },
   "outputs": [
    {
     "data": {
      "text/plain": [
       "<seaborn.axisgrid.FacetGrid at 0x7f5a5ab94f40>"
      ]
     },
     "execution_count": 90,
     "metadata": {},
     "output_type": "execute_result"
    },
    {
     "data": {
      "image/png": "[encoded data removed]",
      "text/plain": [
       "<Figure size 360x360 with 1 Axes>"
      ]
     },
     "metadata": {
      "needs_background": "light"
     },
     "output_type": "display_data"
    }
   ],
   "source": [
    "sns.lmplot(data=df.loc[df[\"AveOccup\"] < 100, :], x=\"AveOccup\", y=\"MedHouseVal\")"
   ]
  },
  {
   "cell_type": "markdown",
   "metadata": {
    "colab_type": "text",
    "id": "xY42m782gCdt"
   },
   "source": [
    "6. Cut your dataset in half. You will have $X$ containing the explanatory variables and $y$ containing the target variable."
   ]
  },
  {
   "cell_type": "code",
   "execution_count": null,
   "metadata": {
    "colab": {},
    "colab_type": "code",
    "id": "cS1AeUQ9frHq"
   },
   "outputs": [],
   "source": []
  },
  {
   "cell_type": "markdown",
   "metadata": {
    "colab_type": "text",
    "id": "Bkq-jhumgakY"
   },
   "source": [
    "7. Now separate your dataset into a *train_set* and a *test_set*. We will use scikitlearn for this"
   ]
  },
  {
   "cell_type": "code",
   "execution_count": 91,
   "metadata": {
    "colab": {},
    "colab_type": "code",
    "id": "_TM7BZvsgYza"
   },
   "outputs": [],
   "source": [
    "X_train, X_test, Y_train, Y_test = train_test_split(X, y, test_size=0.2, random_state=0)"
   ]
  },
  {
   "cell_type": "markdown",
   "metadata": {
    "colab_type": "text",
    "id": "vK4ssZlGgyaO"
   },
   "source": [
    "8. In your opinion, is there a need for a standardisation phase? If so, do it via scikitlearn."
   ]
  },
  {
   "cell_type": "code",
   "execution_count": 92,
   "metadata": {
    "colab": {},
    "colab_type": "code",
    "id": "hWw4BppEgnQZ"
   },
   "outputs": [],
   "source": [
    "numeric_transformer = Pipeline(steps=[\n",
    "    ('scaler', StandardScaler())\n",
    "])\n",
    "\n",
    "preprocessor = ColumnTransformer(\n",
    "    transformers=[\n",
    "        ('num', numeric_transformer, X.columns),\n",
    "    ])\n",
    "\n",
    "X_train = preprocessor.fit_transform(X_train)\n",
    "X_test = preprocessor.transform(X_test)"
   ]
  },
  {
   "cell_type": "code",
   "execution_count": 95,
   "metadata": {},
   "outputs": [
    {
     "data": {
      "text/plain": [
       "12069    5.00001\n",
       "15925    2.70000\n",
       "11162    1.96100\n",
       "4904     1.18800\n",
       "4683     2.25000\n",
       "          ...   \n",
       "13123    1.44600\n",
       "19648    1.59400\n",
       "9845     2.89300\n",
       "10799    4.84600\n",
       "2732     0.69400\n",
       "Name: MedHouseVal, Length: 16512, dtype: float64"
      ]
     },
     "execution_count": 95,
     "metadata": {},
     "output_type": "execute_result"
    }
   ],
   "source": [
    "Y_train"
   ]
  },
  {
   "cell_type": "markdown",
   "metadata": {
    "colab_type": "text",
    "id": "4gDLDh5rhJST"
   },
   "source": [
    "9. Create your linear regression model via scikit learn"
   ]
  },
  {
   "cell_type": "code",
   "execution_count": 98,
   "metadata": {
    "colab": {
     "base_uri": "https://localhost:8080/",
     "height": 52
    },
    "colab_type": "code",
    "id": "FW67uyt6hI1v",
    "outputId": "e0252e28-e695-421f-c4ae-3362d3fe1f12"
   },
   "outputs": [
    {
     "name": "stdout",
     "output_type": "stream",
     "text": [
      "Training model...\n",
      "...Done.\n"
     ]
    }
   ],
   "source": [
    "model = LinearRegression()\n",
    "\n",
    "print(\"Training model...\")\n",
    "model.fit(X_train, Y_train) # Training is always done on train set !!\n",
    "print(\"...Done.\")\n",
    "\n",
    "Y_test_pred = model.predict(X_test)"
   ]
  },
  {
   "cell_type": "markdown",
   "metadata": {
    "colab_type": "text",
    "id": "3aF7aAXphcHm"
   },
   "source": [
    "10. Display your R2 score via scikitlearn on your test data. Comment on your score results."
   ]
  },
  {
   "cell_type": "code",
   "execution_count": 99,
   "metadata": {
    "colab": {
     "base_uri": "https://localhost:8080/",
     "height": 35
    },
    "colab_type": "code",
    "id": "jKz61itehbg0",
    "outputId": "efa0b7c3-8c23-4658-89b9-a27dbc2bfc32"
   },
   "outputs": [
    {
     "name": "stdout",
     "output_type": "stream",
     "text": [
      "R2 score on test set :  0.5943232652466204\n"
     ]
    }
   ],
   "source": [
    "print(\"R2 score on test set : \", r2_score(Y_test, Y_test_pred))"
   ]
  },
  {
   "cell_type": "markdown",
   "metadata": {
    "colab_type": "text",
    "id": "BGlJzl83hwbL"
   },
   "source": [
    "11. Display the coefficients of each of the explanatory variables "
   ]
  },
  {
   "cell_type": "code",
   "execution_count": 100,
   "metadata": {
    "colab": {
     "base_uri": "https://localhost:8080/",
     "height": 52
    },
    "colab_type": "code",
    "id": "0K_IfMmvhhIa",
    "outputId": "1f345a6d-f30d-45ae-964c-300a05de2179"
   },
   "outputs": [
    {
     "data": {
      "text/plain": [
       "array([ 0.82624793,  0.1171006 , -0.24891059,  0.29038746, -0.00864349,\n",
       "       -0.03056429, -0.90042112, -0.87058566])"
      ]
     },
     "execution_count": 100,
     "metadata": {},
     "output_type": "execute_result"
    }
   ],
   "source": [
    "model.coef_"
   ]
  },
  {
   "cell_type": "markdown",
   "metadata": {
    "colab_type": "text",
    "id": "V4xUT7bIiBfL"
   },
   "source": [
    "12. Create a DataFrame in which you will have the columns that refer to the right coefficient"
   ]
  },
  {
   "cell_type": "code",
   "execution_count": 166,
   "metadata": {},
   "outputs": [
    {
     "data": {
      "text/html": [
       "<div>\n",
       "<style scoped>\n",
       "    .dataframe tbody tr th:only-of-type {\n",
       "        vertical-align: middle;\n",
       "    }\n",
       "\n",
       "    .dataframe tbody tr th {\n",
       "        vertical-align: top;\n",
       "    }\n",
       "\n",
       "    .dataframe thead th {\n",
       "        text-align: right;\n",
       "    }\n",
       "</style>\n",
       "<table border=\"1\" class=\"dataframe\">\n",
       "  <thead>\n",
       "    <tr style=\"text-align: right;\">\n",
       "      <th></th>\n",
       "      <th>coefficients</th>\n",
       "    </tr>\n",
       "  </thead>\n",
       "  <tbody>\n",
       "    <tr>\n",
       "      <th>MedInc</th>\n",
       "      <td>0.826248</td>\n",
       "    </tr>\n",
       "    <tr>\n",
       "      <th>HouseAge</th>\n",
       "      <td>0.117101</td>\n",
       "    </tr>\n",
       "    <tr>\n",
       "      <th>AveRooms</th>\n",
       "      <td>-0.248911</td>\n",
       "    </tr>\n",
       "    <tr>\n",
       "      <th>AveBedrms</th>\n",
       "      <td>0.290387</td>\n",
       "    </tr>\n",
       "    <tr>\n",
       "      <th>Population</th>\n",
       "      <td>-0.008643</td>\n",
       "    </tr>\n",
       "    <tr>\n",
       "      <th>AveOccup</th>\n",
       "      <td>-0.030564</td>\n",
       "    </tr>\n",
       "    <tr>\n",
       "      <th>Latitude</th>\n",
       "      <td>-0.900421</td>\n",
       "    </tr>\n",
       "    <tr>\n",
       "      <th>Longitude</th>\n",
       "      <td>-0.870586</td>\n",
       "    </tr>\n",
       "  </tbody>\n",
       "</table>\n",
       "</div>"
      ],
      "text/plain": [
       "            coefficients\n",
       "MedInc          0.826248\n",
       "HouseAge        0.117101\n",
       "AveRooms       -0.248911\n",
       "AveBedrms       0.290387\n",
       "Population     -0.008643\n",
       "AveOccup       -0.030564\n",
       "Latitude       -0.900421\n",
       "Longitude      -0.870586"
      ]
     },
     "execution_count": 166,
     "metadata": {},
     "output_type": "execute_result"
    }
   ],
   "source": [
    "coefficients = pd.DataFrame(index=X.columns, data=model.coef_, columns=[\"coefficients\"])\n",
    "coefficients"
   ]
  },
  {
   "cell_type": "markdown",
   "metadata": {
    "colab_type": "text",
    "id": "mqOoZVWhjIEg"
   },
   "source": [
    "13. Order this dataset in descending order. What can you conclude now? "
   ]
  },
  {
   "cell_type": "code",
   "execution_count": 167,
   "metadata": {
    "colab": {
     "base_uri": "https://localhost:8080/",
     "height": 288
    },
    "colab_type": "code",
    "id": "HViGTS1dik_W",
    "outputId": "2894c52b-ba5f-4816-8662-5af8f3fee16b"
   },
   "outputs": [
    {
     "data": {
      "text/html": [
       "<div>\n",
       "<style scoped>\n",
       "    .dataframe tbody tr th:only-of-type {\n",
       "        vertical-align: middle;\n",
       "    }\n",
       "\n",
       "    .dataframe tbody tr th {\n",
       "        vertical-align: top;\n",
       "    }\n",
       "\n",
       "    .dataframe thead th {\n",
       "        text-align: right;\n",
       "    }\n",
       "</style>\n",
       "<table border=\"1\" class=\"dataframe\">\n",
       "  <thead>\n",
       "    <tr style=\"text-align: right;\">\n",
       "      <th></th>\n",
       "      <th>coefficients</th>\n",
       "    </tr>\n",
       "  </thead>\n",
       "  <tbody>\n",
       "    <tr>\n",
       "      <th>Latitude</th>\n",
       "      <td>0.900421</td>\n",
       "    </tr>\n",
       "    <tr>\n",
       "      <th>Longitude</th>\n",
       "      <td>0.870586</td>\n",
       "    </tr>\n",
       "    <tr>\n",
       "      <th>MedInc</th>\n",
       "      <td>0.826248</td>\n",
       "    </tr>\n",
       "    <tr>\n",
       "      <th>AveBedrms</th>\n",
       "      <td>0.290387</td>\n",
       "    </tr>\n",
       "    <tr>\n",
       "      <th>AveRooms</th>\n",
       "      <td>0.248911</td>\n",
       "    </tr>\n",
       "    <tr>\n",
       "      <th>HouseAge</th>\n",
       "      <td>0.117101</td>\n",
       "    </tr>\n",
       "    <tr>\n",
       "      <th>AveOccup</th>\n",
       "      <td>0.030564</td>\n",
       "    </tr>\n",
       "    <tr>\n",
       "      <th>Population</th>\n",
       "      <td>0.008643</td>\n",
       "    </tr>\n",
       "  </tbody>\n",
       "</table>\n",
       "</div>"
      ],
      "text/plain": [
       "            coefficients\n",
       "Latitude        0.900421\n",
       "Longitude       0.870586\n",
       "MedInc          0.826248\n",
       "AveBedrms       0.290387\n",
       "AveRooms        0.248911\n",
       "HouseAge        0.117101\n",
       "AveOccup        0.030564\n",
       "Population      0.008643"
      ]
     },
     "execution_count": 167,
     "metadata": {},
     "output_type": "execute_result"
    }
   ],
   "source": [
    "coefficients.apply(lambda x: abs(x)).sort_values(by=[\"coefficients\"], ascending=False)"
   ]
  },
  {
   "cell_type": "markdown",
   "metadata": {
    "colab_type": "text",
    "id": "U5TUOealjrqh"
   },
   "source": [
    "---> The most influential columns are MedInc, Longitude & Latitude and the number of beds."
   ]
  },
  {
   "cell_type": "markdown",
   "metadata": {
    "colab_type": "text",
    "id": "UvJV4SPvj2uz"
   },
   "source": [
    "14. In general, one avoids looking at the coefficients to determine the importance of features. Instead, we'll use something other than \"f_regression\".\n",
    "\n",
    "Look at the documentation of sckitlearn to try to succeed in setting up this metric."
   ]
  },
  {
   "cell_type": "code",
   "execution_count": 116,
   "metadata": {
    "colab": {
     "base_uri": "https://localhost:8080/",
     "height": 141
    },
    "colab_type": "code",
    "id": "5R72p7JxjZfo",
    "outputId": "85201e00-a015-4a50-eb47-c31df274336a"
   },
   "outputs": [
    {
     "data": {
      "text/plain": [
       "(array([1.52347577e+04, 1.89301566e+02, 4.03339615e+02, 3.26341919e+01,\n",
       "        1.20923205e+01, 1.81838098e+01, 3.43198328e+02, 3.69846043e+01]),\n",
       " array([0.00000000e+00, 7.78267057e-43, 1.18008720e-88, 1.13156847e-08,\n",
       "        5.07602237e-04, 2.01691610e-05, 7.53034411e-76, 1.21688367e-09]))"
      ]
     },
     "execution_count": 116,
     "metadata": {},
     "output_type": "execute_result"
    }
   ],
   "source": [
    "features = f_regression(X_train, Y_train)\n",
    "features"
   ]
  },
  {
   "cell_type": "code",
   "execution_count": 127,
   "metadata": {},
   "outputs": [
    {
     "data": {
      "text/plain": [
       "array([1.52347577e+04, 1.89301566e+02, 4.03339615e+02, 3.26341919e+01,\n",
       "       1.20923205e+01, 1.81838098e+01, 3.43198328e+02, 3.69846043e+01,\n",
       "       0.00000000e+00, 7.78267057e-43, 1.18008720e-88, 1.13156847e-08,\n",
       "       5.07602237e-04, 2.01691610e-05, 7.53034411e-76, 1.21688367e-09])"
      ]
     },
     "execution_count": 127,
     "metadata": {},
     "output_type": "execute_result"
    }
   ],
   "source": [
    "np.concatenate(features)"
   ]
  },
  {
   "cell_type": "markdown",
   "metadata": {
    "colab_type": "text",
    "id": "VgqBshYVnTCE"
   },
   "source": [
    "15. Then put your results in a dataframe so that they can be interpreted."
   ]
  },
  {
   "cell_type": "code",
   "execution_count": 133,
   "metadata": {
    "colab": {
     "base_uri": "https://localhost:8080/",
     "height": 288
    },
    "colab_type": "code",
    "id": "1MHVAohwmka0",
    "outputId": "cbc76243-81ae-426f-c49c-e03b035d6002"
   },
   "outputs": [
    {
     "data": {
      "text/html": [
       "<div>\n",
       "<style scoped>\n",
       "    .dataframe tbody tr th:only-of-type {\n",
       "        vertical-align: middle;\n",
       "    }\n",
       "\n",
       "    .dataframe tbody tr th {\n",
       "        vertical-align: top;\n",
       "    }\n",
       "\n",
       "    .dataframe thead th {\n",
       "        text-align: right;\n",
       "    }\n",
       "</style>\n",
       "<table border=\"1\" class=\"dataframe\">\n",
       "  <thead>\n",
       "    <tr style=\"text-align: right;\">\n",
       "      <th></th>\n",
       "      <th>f-core</th>\n",
       "      <th>p-alue</th>\n",
       "    </tr>\n",
       "  </thead>\n",
       "  <tbody>\n",
       "    <tr>\n",
       "      <th>MedInc</th>\n",
       "      <td>15234.757671</td>\n",
       "      <td>0.000000e+00</td>\n",
       "    </tr>\n",
       "    <tr>\n",
       "      <th>AveRooms</th>\n",
       "      <td>403.339615</td>\n",
       "      <td>1.180087e-88</td>\n",
       "    </tr>\n",
       "    <tr>\n",
       "      <th>Latitude</th>\n",
       "      <td>343.198328</td>\n",
       "      <td>7.530344e-76</td>\n",
       "    </tr>\n",
       "    <tr>\n",
       "      <th>HouseAge</th>\n",
       "      <td>189.301566</td>\n",
       "      <td>7.782671e-43</td>\n",
       "    </tr>\n",
       "    <tr>\n",
       "      <th>Longitude</th>\n",
       "      <td>36.984604</td>\n",
       "      <td>1.216884e-09</td>\n",
       "    </tr>\n",
       "    <tr>\n",
       "      <th>AveBedrms</th>\n",
       "      <td>32.634192</td>\n",
       "      <td>1.131568e-08</td>\n",
       "    </tr>\n",
       "    <tr>\n",
       "      <th>AveOccup</th>\n",
       "      <td>18.183810</td>\n",
       "      <td>2.016916e-05</td>\n",
       "    </tr>\n",
       "    <tr>\n",
       "      <th>Population</th>\n",
       "      <td>12.092320</td>\n",
       "      <td>5.076022e-04</td>\n",
       "    </tr>\n",
       "  </tbody>\n",
       "</table>\n",
       "</div>"
      ],
      "text/plain": [
       "                  f-core        p-alue\n",
       "MedInc      15234.757671  0.000000e+00\n",
       "AveRooms      403.339615  1.180087e-88\n",
       "Latitude      343.198328  7.530344e-76\n",
       "HouseAge      189.301566  7.782671e-43\n",
       "Longitude      36.984604  1.216884e-09\n",
       "AveBedrms      32.634192  1.131568e-08\n",
       "AveOccup       18.183810  2.016916e-05\n",
       "Population     12.092320  5.076022e-04"
      ]
     },
     "execution_count": 133,
     "metadata": {},
     "output_type": "execute_result"
    }
   ],
   "source": [
    "f_score, p_value = features\n",
    "coefficients = pd.DataFrame(index=X.columns, data={'f-core':f_score, 'p-alue':p_value}).sort_values(by = ['f-core'], ascending=False)\n",
    "coefficients"
   ]
  },
  {
   "cell_type": "code",
   "execution_count": 134,
   "metadata": {
    "colab": {
     "base_uri": "https://localhost:8080/",
     "height": 234
    },
    "colab_type": "code",
    "id": "nY68IS-kpfJK",
    "outputId": "40cbf75d-7887-4513-bfac-4b754c05a97f"
   },
   "outputs": [
    {
     "data": {
      "text/plain": [
       "<AxesSubplot:xlabel='f-core'>"
      ]
     },
     "execution_count": 134,
     "metadata": {},
     "output_type": "execute_result"
    },
    {
     "data": {
      "image/png": "[encoded data removed]",
      "text/plain": [
       "<Figure size 432x288 with 1 Axes>"
      ]
     },
     "metadata": {
      "needs_background": "light"
     },
     "output_type": "display_data"
    }
   ],
   "source": [
    "sns.barplot(data=coefficients, x=\"f-core\", y=coefficients.index)"
   ]
  },
  {
   "cell_type": "markdown",
   "metadata": {
    "colab_type": "text",
    "id": "EFVsEtWKpV2c"
   },
   "source": [
    "---> Here we see that the ranking of the features is slightly different. It is on this f-score that we will rely for the rest of the exercises."
   ]
  },
  {
   "cell_type": "markdown",
   "metadata": {
    "colab_type": "text",
    "id": "CJnSgnMQtNTR"
   },
   "source": [
    "**Additional questions**"
   ]
  },
  {
   "cell_type": "markdown",
   "metadata": {
    "colab_type": "text",
    "id": "Tkcn2zD6ByQl"
   },
   "source": [
    "16. Take a sample from your dataset via ``.sample()`` We will take 150 values"
   ]
  },
  {
   "cell_type": "code",
   "execution_count": 153,
   "metadata": {
    "colab": {
     "base_uri": "https://localhost:8080/",
     "height": 198
    },
    "colab_type": "code",
    "id": "WzSB3akIB6OC",
    "outputId": "bbc2dce4-d53a-4456-c65b-3d58c39728db"
   },
   "outputs": [
    {
     "data": {
      "text/html": [
       "<div>\n",
       "<style scoped>\n",
       "    .dataframe tbody tr th:only-of-type {\n",
       "        vertical-align: middle;\n",
       "    }\n",
       "\n",
       "    .dataframe tbody tr th {\n",
       "        vertical-align: top;\n",
       "    }\n",
       "\n",
       "    .dataframe thead th {\n",
       "        text-align: right;\n",
       "    }\n",
       "</style>\n",
       "<table border=\"1\" class=\"dataframe\">\n",
       "  <thead>\n",
       "    <tr style=\"text-align: right;\">\n",
       "      <th></th>\n",
       "      <th>MedInc</th>\n",
       "      <th>HouseAge</th>\n",
       "      <th>AveRooms</th>\n",
       "      <th>AveBedrms</th>\n",
       "      <th>Population</th>\n",
       "      <th>AveOccup</th>\n",
       "      <th>Latitude</th>\n",
       "      <th>Longitude</th>\n",
       "      <th>MedHouseVal</th>\n",
       "    </tr>\n",
       "  </thead>\n",
       "  <tbody>\n",
       "    <tr>\n",
       "      <th>14976</th>\n",
       "      <td>4.3714</td>\n",
       "      <td>23.0</td>\n",
       "      <td>6.202673</td>\n",
       "      <td>1.042316</td>\n",
       "      <td>1456.0</td>\n",
       "      <td>3.242762</td>\n",
       "      <td>32.70</td>\n",
       "      <td>-117.00</td>\n",
       "      <td>1.310</td>\n",
       "    </tr>\n",
       "    <tr>\n",
       "      <th>3844</th>\n",
       "      <td>2.0192</td>\n",
       "      <td>22.0</td>\n",
       "      <td>3.528752</td>\n",
       "      <td>1.158485</td>\n",
       "      <td>3350.0</td>\n",
       "      <td>4.698457</td>\n",
       "      <td>34.18</td>\n",
       "      <td>-118.45</td>\n",
       "      <td>1.583</td>\n",
       "    </tr>\n",
       "    <tr>\n",
       "      <th>243</th>\n",
       "      <td>3.0536</td>\n",
       "      <td>49.0</td>\n",
       "      <td>3.665306</td>\n",
       "      <td>0.995918</td>\n",
       "      <td>779.0</td>\n",
       "      <td>3.179592</td>\n",
       "      <td>37.78</td>\n",
       "      <td>-122.21</td>\n",
       "      <td>1.375</td>\n",
       "    </tr>\n",
       "    <tr>\n",
       "      <th>18675</th>\n",
       "      <td>6.0281</td>\n",
       "      <td>18.0</td>\n",
       "      <td>6.538066</td>\n",
       "      <td>1.131687</td>\n",
       "      <td>2304.0</td>\n",
       "      <td>2.370370</td>\n",
       "      <td>36.96</td>\n",
       "      <td>-121.88</td>\n",
       "      <td>3.211</td>\n",
       "    </tr>\n",
       "    <tr>\n",
       "      <th>13969</th>\n",
       "      <td>2.4308</td>\n",
       "      <td>18.0</td>\n",
       "      <td>9.625344</td>\n",
       "      <td>2.252066</td>\n",
       "      <td>2044.0</td>\n",
       "      <td>2.815427</td>\n",
       "      <td>34.26</td>\n",
       "      <td>-116.85</td>\n",
       "      <td>0.906</td>\n",
       "    </tr>\n",
       "    <tr>\n",
       "      <th>...</th>\n",
       "      <td>...</td>\n",
       "      <td>...</td>\n",
       "      <td>...</td>\n",
       "      <td>...</td>\n",
       "      <td>...</td>\n",
       "      <td>...</td>\n",
       "      <td>...</td>\n",
       "      <td>...</td>\n",
       "      <td>...</td>\n",
       "    </tr>\n",
       "    <tr>\n",
       "      <th>18014</th>\n",
       "      <td>5.2533</td>\n",
       "      <td>22.0</td>\n",
       "      <td>5.257094</td>\n",
       "      <td>1.041273</td>\n",
       "      <td>2983.0</td>\n",
       "      <td>2.564918</td>\n",
       "      <td>37.27</td>\n",
       "      <td>-121.96</td>\n",
       "      <td>2.691</td>\n",
       "    </tr>\n",
       "    <tr>\n",
       "      <th>2416</th>\n",
       "      <td>1.8975</td>\n",
       "      <td>36.0</td>\n",
       "      <td>5.052863</td>\n",
       "      <td>1.077093</td>\n",
       "      <td>1430.0</td>\n",
       "      <td>3.149780</td>\n",
       "      <td>36.60</td>\n",
       "      <td>-119.45</td>\n",
       "      <td>0.609</td>\n",
       "    </tr>\n",
       "    <tr>\n",
       "      <th>7642</th>\n",
       "      <td>4.4015</td>\n",
       "      <td>36.0</td>\n",
       "      <td>4.978125</td>\n",
       "      <td>1.043750</td>\n",
       "      <td>1427.0</td>\n",
       "      <td>4.459375</td>\n",
       "      <td>33.82</td>\n",
       "      <td>-118.27</td>\n",
       "      <td>1.669</td>\n",
       "    </tr>\n",
       "    <tr>\n",
       "      <th>3639</th>\n",
       "      <td>3.8083</td>\n",
       "      <td>41.0</td>\n",
       "      <td>4.618834</td>\n",
       "      <td>0.959641</td>\n",
       "      <td>664.0</td>\n",
       "      <td>2.977578</td>\n",
       "      <td>34.22</td>\n",
       "      <td>-118.44</td>\n",
       "      <td>1.838</td>\n",
       "    </tr>\n",
       "    <tr>\n",
       "      <th>5890</th>\n",
       "      <td>4.0893</td>\n",
       "      <td>16.0</td>\n",
       "      <td>4.610465</td>\n",
       "      <td>1.095930</td>\n",
       "      <td>625.0</td>\n",
       "      <td>1.816860</td>\n",
       "      <td>34.15</td>\n",
       "      <td>-118.34</td>\n",
       "      <td>4.500</td>\n",
       "    </tr>\n",
       "  </tbody>\n",
       "</table>\n",
       "<p>150 rows × 9 columns</p>\n",
       "</div>"
      ],
      "text/plain": [
       "       MedInc  HouseAge  AveRooms  AveBedrms  Population  AveOccup  Latitude  \\\n",
       "14976  4.3714      23.0  6.202673   1.042316      1456.0  3.242762     32.70   \n",
       "3844   2.0192      22.0  3.528752   1.158485      3350.0  4.698457     34.18   \n",
       "243    3.0536      49.0  3.665306   0.995918       779.0  3.179592     37.78   \n",
       "18675  6.0281      18.0  6.538066   1.131687      2304.0  2.370370     36.96   \n",
       "13969  2.4308      18.0  9.625344   2.252066      2044.0  2.815427     34.26   \n",
       "...       ...       ...       ...        ...         ...       ...       ...   \n",
       "18014  5.2533      22.0  5.257094   1.041273      2983.0  2.564918     37.27   \n",
       "2416   1.8975      36.0  5.052863   1.077093      1430.0  3.149780     36.60   \n",
       "7642   4.4015      36.0  4.978125   1.043750      1427.0  4.459375     33.82   \n",
       "3639   3.8083      41.0  4.618834   0.959641       664.0  2.977578     34.22   \n",
       "5890   4.0893      16.0  4.610465   1.095930       625.0  1.816860     34.15   \n",
       "\n",
       "       Longitude  MedHouseVal  \n",
       "14976    -117.00        1.310  \n",
       "3844     -118.45        1.583  \n",
       "243      -122.21        1.375  \n",
       "18675    -121.88        3.211  \n",
       "13969    -116.85        0.906  \n",
       "...          ...          ...  \n",
       "18014    -121.96        2.691  \n",
       "2416     -119.45        0.609  \n",
       "7642     -118.27        1.669  \n",
       "3639     -118.44        1.838  \n",
       "5890     -118.34        4.500  \n",
       "\n",
       "[150 rows x 9 columns]"
      ]
     },
     "execution_count": 153,
     "metadata": {},
     "output_type": "execute_result"
    }
   ],
   "source": [
    "df.sample(150)"
   ]
  },
  {
   "cell_type": "markdown",
   "metadata": {
    "colab_type": "text",
    "id": "iOOcG0C4dFEC"
   },
   "source": [
    "17. Reset the indexes to have a sequence of numbers between 0 and the size of the dataset."
   ]
  },
  {
   "cell_type": "code",
   "execution_count": 154,
   "metadata": {},
   "outputs": [
    {
     "data": {
      "text/html": [
       "<div>\n",
       "<style scoped>\n",
       "    .dataframe tbody tr th:only-of-type {\n",
       "        vertical-align: middle;\n",
       "    }\n",
       "\n",
       "    .dataframe tbody tr th {\n",
       "        vertical-align: top;\n",
       "    }\n",
       "\n",
       "    .dataframe thead th {\n",
       "        text-align: right;\n",
       "    }\n",
       "</style>\n",
       "<table border=\"1\" class=\"dataframe\">\n",
       "  <thead>\n",
       "    <tr style=\"text-align: right;\">\n",
       "      <th></th>\n",
       "      <th>MedInc</th>\n",
       "      <th>HouseAge</th>\n",
       "      <th>AveRooms</th>\n",
       "      <th>AveBedrms</th>\n",
       "      <th>Population</th>\n",
       "      <th>AveOccup</th>\n",
       "      <th>Latitude</th>\n",
       "      <th>Longitude</th>\n",
       "      <th>MedHouseVal</th>\n",
       "    </tr>\n",
       "  </thead>\n",
       "  <tbody>\n",
       "    <tr>\n",
       "      <th>0</th>\n",
       "      <td>2.0043</td>\n",
       "      <td>36.0</td>\n",
       "      <td>5.264151</td>\n",
       "      <td>1.326146</td>\n",
       "      <td>999.0</td>\n",
       "      <td>2.692722</td>\n",
       "      <td>37.97</td>\n",
       "      <td>-121.33</td>\n",
       "      <td>0.90800</td>\n",
       "    </tr>\n",
       "    <tr>\n",
       "      <th>1</th>\n",
       "      <td>10.3983</td>\n",
       "      <td>31.0</td>\n",
       "      <td>7.888889</td>\n",
       "      <td>1.200617</td>\n",
       "      <td>1530.0</td>\n",
       "      <td>2.361111</td>\n",
       "      <td>33.49</td>\n",
       "      <td>-117.73</td>\n",
       "      <td>5.00001</td>\n",
       "    </tr>\n",
       "    <tr>\n",
       "      <th>2</th>\n",
       "      <td>1.0278</td>\n",
       "      <td>15.0</td>\n",
       "      <td>3.693252</td>\n",
       "      <td>1.000000</td>\n",
       "      <td>543.0</td>\n",
       "      <td>1.665644</td>\n",
       "      <td>32.76</td>\n",
       "      <td>-117.02</td>\n",
       "      <td>1.54200</td>\n",
       "    </tr>\n",
       "    <tr>\n",
       "      <th>3</th>\n",
       "      <td>1.6232</td>\n",
       "      <td>7.0</td>\n",
       "      <td>4.993464</td>\n",
       "      <td>1.144880</td>\n",
       "      <td>2049.0</td>\n",
       "      <td>2.232026</td>\n",
       "      <td>34.49</td>\n",
       "      <td>-117.32</td>\n",
       "      <td>0.93400</td>\n",
       "    </tr>\n",
       "    <tr>\n",
       "      <th>4</th>\n",
       "      <td>2.0260</td>\n",
       "      <td>50.0</td>\n",
       "      <td>3.700658</td>\n",
       "      <td>1.059211</td>\n",
       "      <td>616.0</td>\n",
       "      <td>2.026316</td>\n",
       "      <td>37.83</td>\n",
       "      <td>-122.26</td>\n",
       "      <td>1.42500</td>\n",
       "    </tr>\n",
       "    <tr>\n",
       "      <th>...</th>\n",
       "      <td>...</td>\n",
       "      <td>...</td>\n",
       "      <td>...</td>\n",
       "      <td>...</td>\n",
       "      <td>...</td>\n",
       "      <td>...</td>\n",
       "      <td>...</td>\n",
       "      <td>...</td>\n",
       "      <td>...</td>\n",
       "    </tr>\n",
       "    <tr>\n",
       "      <th>145</th>\n",
       "      <td>2.4250</td>\n",
       "      <td>52.0</td>\n",
       "      <td>5.590805</td>\n",
       "      <td>1.137931</td>\n",
       "      <td>928.0</td>\n",
       "      <td>2.133333</td>\n",
       "      <td>39.22</td>\n",
       "      <td>-121.07</td>\n",
       "      <td>1.21100</td>\n",
       "    </tr>\n",
       "    <tr>\n",
       "      <th>146</th>\n",
       "      <td>4.0230</td>\n",
       "      <td>14.0</td>\n",
       "      <td>5.594737</td>\n",
       "      <td>1.091579</td>\n",
       "      <td>2228.0</td>\n",
       "      <td>2.345263</td>\n",
       "      <td>38.42</td>\n",
       "      <td>-122.66</td>\n",
       "      <td>2.08400</td>\n",
       "    </tr>\n",
       "    <tr>\n",
       "      <th>147</th>\n",
       "      <td>4.3783</td>\n",
       "      <td>16.0</td>\n",
       "      <td>6.028612</td>\n",
       "      <td>1.064378</td>\n",
       "      <td>1820.0</td>\n",
       "      <td>2.603720</td>\n",
       "      <td>32.83</td>\n",
       "      <td>-117.10</td>\n",
       "      <td>1.79500</td>\n",
       "    </tr>\n",
       "    <tr>\n",
       "      <th>148</th>\n",
       "      <td>5.0869</td>\n",
       "      <td>23.0</td>\n",
       "      <td>6.419540</td>\n",
       "      <td>1.132184</td>\n",
       "      <td>1535.0</td>\n",
       "      <td>2.940613</td>\n",
       "      <td>34.02</td>\n",
       "      <td>-117.80</td>\n",
       "      <td>2.30600</td>\n",
       "    </tr>\n",
       "    <tr>\n",
       "      <th>149</th>\n",
       "      <td>2.8750</td>\n",
       "      <td>41.0</td>\n",
       "      <td>4.472050</td>\n",
       "      <td>1.009317</td>\n",
       "      <td>1014.0</td>\n",
       "      <td>3.149068</td>\n",
       "      <td>34.21</td>\n",
       "      <td>-118.44</td>\n",
       "      <td>1.68600</td>\n",
       "    </tr>\n",
       "  </tbody>\n",
       "</table>\n",
       "<p>150 rows × 9 columns</p>\n",
       "</div>"
      ],
      "text/plain": [
       "      MedInc  HouseAge  AveRooms  AveBedrms  Population  AveOccup  Latitude  \\\n",
       "0     2.0043      36.0  5.264151   1.326146       999.0  2.692722     37.97   \n",
       "1    10.3983      31.0  7.888889   1.200617      1530.0  2.361111     33.49   \n",
       "2     1.0278      15.0  3.693252   1.000000       543.0  1.665644     32.76   \n",
       "3     1.6232       7.0  4.993464   1.144880      2049.0  2.232026     34.49   \n",
       "4     2.0260      50.0  3.700658   1.059211       616.0  2.026316     37.83   \n",
       "..       ...       ...       ...        ...         ...       ...       ...   \n",
       "145   2.4250      52.0  5.590805   1.137931       928.0  2.133333     39.22   \n",
       "146   4.0230      14.0  5.594737   1.091579      2228.0  2.345263     38.42   \n",
       "147   4.3783      16.0  6.028612   1.064378      1820.0  2.603720     32.83   \n",
       "148   5.0869      23.0  6.419540   1.132184      1535.0  2.940613     34.02   \n",
       "149   2.8750      41.0  4.472050   1.009317      1014.0  3.149068     34.21   \n",
       "\n",
       "     Longitude  MedHouseVal  \n",
       "0      -121.33      0.90800  \n",
       "1      -117.73      5.00001  \n",
       "2      -117.02      1.54200  \n",
       "3      -117.32      0.93400  \n",
       "4      -122.26      1.42500  \n",
       "..         ...          ...  \n",
       "145    -121.07      1.21100  \n",
       "146    -122.66      2.08400  \n",
       "147    -117.10      1.79500  \n",
       "148    -117.80      2.30600  \n",
       "149    -118.44      1.68600  \n",
       "\n",
       "[150 rows x 9 columns]"
      ]
     },
     "execution_count": 154,
     "metadata": {},
     "output_type": "execute_result"
    }
   ],
   "source": [
    "sample = df.sample(150).reset_index(drop=True)\n",
    "sample"
   ]
  },
  {
   "cell_type": "markdown",
   "metadata": {
    "colab_type": "text",
    "id": "_ZQEamsqCADy"
   },
   "source": [
    "18. Use the following help to translate the longitude and latitude of the data to find the cities corresponding to each observation: [geopy](https://pypi.org/project/geopy)"
   ]
  },
  {
   "cell_type": "code",
   "execution_count": 139,
   "metadata": {
    "colab": {
     "base_uri": "https://localhost:8080/",
     "height": 35
    },
    "colab_type": "code",
    "id": "AaHYyq0nqulD",
    "outputId": "fcf07686-fc81-4dfa-aeac-dafc2a8df8c1"
   },
   "outputs": [
    {
     "name": "stdout",
     "output_type": "stream",
     "text": [
      "Collecting geopy\n",
      "  Downloading geopy-2.1.0-py3-none-any.whl (112 kB)\n",
      "\u001b[K     |████████████████████████████████| 112 kB 7.8 MB/s eta 0:00:01\n",
      "\u001b[?25hCollecting geographiclib<2,>=1.49\n",
      "  Downloading geographiclib-1.50-py3-none-any.whl (38 kB)\n",
      "Installing collected packages: geographiclib, geopy\n",
      "Successfully installed geographiclib-1.50 geopy-2.1.0\n"
     ]
    }
   ],
   "source": [
    "!pip install geopy"
   ]
  },
  {
   "cell_type": "code",
   "execution_count": 155,
   "metadata": {
    "colab": {
     "base_uri": "https://localhost:8080/",
     "height": 2628
    },
    "colab_type": "code",
    "id": "zK7bJbWnuvHu",
    "outputId": "ca93a054-6371-493c-df13-c3d5089b4b8c"
   },
   "outputs": [],
   "source": [
    "from geopy.geocoders import Nominatim\n",
    "\n",
    "geolocator = Nominatim(user_agent=\"thibaud_jedha\")\n",
    "sample[\"City\"] = sample.apply(lambda row: geolocator.reverse((row['Latitude'], row['Longitude'])).raw[\"address\"].get('city', 'unknown'), axis=1)"
   ]
  },
  {
   "cell_type": "markdown",
   "metadata": {
    "colab_type": "text",
    "id": "WHbWVsOTikye"
   },
   "source": [
    "19. Trouvez le top 10 des villes qui ont les prix moyens les plus chers"
   ]
  },
  {
   "cell_type": "code",
   "execution_count": 157,
   "metadata": {
    "colab": {
     "base_uri": "https://localhost:8080/",
     "height": 378
    },
    "colab_type": "code",
    "id": "TCby5kV9ikS8",
    "outputId": "039e5904-b669-47af-ba6a-fe90b1ee818a"
   },
   "outputs": [
    {
     "data": {
      "text/html": [
       "<div>\n",
       "<style scoped>\n",
       "    .dataframe tbody tr th:only-of-type {\n",
       "        vertical-align: middle;\n",
       "    }\n",
       "\n",
       "    .dataframe tbody tr th {\n",
       "        vertical-align: top;\n",
       "    }\n",
       "\n",
       "    .dataframe thead th {\n",
       "        text-align: right;\n",
       "    }\n",
       "</style>\n",
       "<table border=\"1\" class=\"dataframe\">\n",
       "  <thead>\n",
       "    <tr style=\"text-align: right;\">\n",
       "      <th></th>\n",
       "      <th>MedInc</th>\n",
       "      <th>HouseAge</th>\n",
       "      <th>AveRooms</th>\n",
       "      <th>AveBedrms</th>\n",
       "      <th>Population</th>\n",
       "      <th>AveOccup</th>\n",
       "      <th>Latitude</th>\n",
       "      <th>Longitude</th>\n",
       "      <th>MedHouseVal</th>\n",
       "    </tr>\n",
       "    <tr>\n",
       "      <th>City</th>\n",
       "      <th></th>\n",
       "      <th></th>\n",
       "      <th></th>\n",
       "      <th></th>\n",
       "      <th></th>\n",
       "      <th></th>\n",
       "      <th></th>\n",
       "      <th></th>\n",
       "      <th></th>\n",
       "    </tr>\n",
       "  </thead>\n",
       "  <tbody>\n",
       "    <tr>\n",
       "      <th>Palo Alto</th>\n",
       "      <td>7.541800</td>\n",
       "      <td>52.00</td>\n",
       "      <td>5.675000</td>\n",
       "      <td>1.095000</td>\n",
       "      <td>441.00</td>\n",
       "      <td>2.205000</td>\n",
       "      <td>37.450</td>\n",
       "      <td>-122.160</td>\n",
       "      <td>4.920000</td>\n",
       "    </tr>\n",
       "    <tr>\n",
       "      <th>Torrance</th>\n",
       "      <td>6.855300</td>\n",
       "      <td>33.00</td>\n",
       "      <td>6.760695</td>\n",
       "      <td>1.056150</td>\n",
       "      <td>2021.00</td>\n",
       "      <td>2.701872</td>\n",
       "      <td>33.810</td>\n",
       "      <td>-118.370</td>\n",
       "      <td>4.822000</td>\n",
       "    </tr>\n",
       "    <tr>\n",
       "      <th>Costa Mesa</th>\n",
       "      <td>6.632000</td>\n",
       "      <td>27.00</td>\n",
       "      <td>5.879218</td>\n",
       "      <td>1.062167</td>\n",
       "      <td>1402.00</td>\n",
       "      <td>2.490231</td>\n",
       "      <td>33.650</td>\n",
       "      <td>-117.900</td>\n",
       "      <td>4.411000</td>\n",
       "    </tr>\n",
       "    <tr>\n",
       "      <th>San Francisco</th>\n",
       "      <td>4.634960</td>\n",
       "      <td>44.80</td>\n",
       "      <td>4.861835</td>\n",
       "      <td>1.066974</td>\n",
       "      <td>1562.60</td>\n",
       "      <td>2.410587</td>\n",
       "      <td>37.770</td>\n",
       "      <td>-122.440</td>\n",
       "      <td>4.149404</td>\n",
       "    </tr>\n",
       "    <tr>\n",
       "      <th>Irvine</th>\n",
       "      <td>7.106900</td>\n",
       "      <td>16.00</td>\n",
       "      <td>7.683636</td>\n",
       "      <td>1.044848</td>\n",
       "      <td>3132.00</td>\n",
       "      <td>3.796364</td>\n",
       "      <td>33.710</td>\n",
       "      <td>-117.790</td>\n",
       "      <td>3.134000</td>\n",
       "    </tr>\n",
       "    <tr>\n",
       "      <th>Thousand Oaks</th>\n",
       "      <td>7.558950</td>\n",
       "      <td>20.50</td>\n",
       "      <td>7.761729</td>\n",
       "      <td>1.038819</td>\n",
       "      <td>913.00</td>\n",
       "      <td>3.188140</td>\n",
       "      <td>34.160</td>\n",
       "      <td>-118.885</td>\n",
       "      <td>3.128000</td>\n",
       "    </tr>\n",
       "    <tr>\n",
       "      <th>Mountain View</th>\n",
       "      <td>5.806000</td>\n",
       "      <td>25.00</td>\n",
       "      <td>5.485893</td>\n",
       "      <td>1.068966</td>\n",
       "      <td>999.00</td>\n",
       "      <td>3.131661</td>\n",
       "      <td>37.400</td>\n",
       "      <td>-122.080</td>\n",
       "      <td>3.087000</td>\n",
       "    </tr>\n",
       "    <tr>\n",
       "      <th>San Rafael</th>\n",
       "      <td>4.200600</td>\n",
       "      <td>33.00</td>\n",
       "      <td>5.047866</td>\n",
       "      <td>1.101644</td>\n",
       "      <td>2031.50</td>\n",
       "      <td>2.131788</td>\n",
       "      <td>37.995</td>\n",
       "      <td>-122.545</td>\n",
       "      <td>2.726500</td>\n",
       "    </tr>\n",
       "    <tr>\n",
       "      <th>San Diego</th>\n",
       "      <td>4.320675</td>\n",
       "      <td>19.25</td>\n",
       "      <td>5.168952</td>\n",
       "      <td>1.014201</td>\n",
       "      <td>1665.75</td>\n",
       "      <td>2.580550</td>\n",
       "      <td>32.845</td>\n",
       "      <td>-117.135</td>\n",
       "      <td>2.601752</td>\n",
       "    </tr>\n",
       "    <tr>\n",
       "      <th>Santa Cruz</th>\n",
       "      <td>4.500000</td>\n",
       "      <td>52.00</td>\n",
       "      <td>6.500000</td>\n",
       "      <td>1.700000</td>\n",
       "      <td>24.00</td>\n",
       "      <td>2.400000</td>\n",
       "      <td>36.960</td>\n",
       "      <td>-122.060</td>\n",
       "      <td>2.583000</td>\n",
       "    </tr>\n",
       "  </tbody>\n",
       "</table>\n",
       "</div>"
      ],
      "text/plain": [
       "                 MedInc  HouseAge  AveRooms  AveBedrms  Population  AveOccup  \\\n",
       "City                                                                           \n",
       "Palo Alto      7.541800     52.00  5.675000   1.095000      441.00  2.205000   \n",
       "Torrance       6.855300     33.00  6.760695   1.056150     2021.00  2.701872   \n",
       "Costa Mesa     6.632000     27.00  5.879218   1.062167     1402.00  2.490231   \n",
       "San Francisco  4.634960     44.80  4.861835   1.066974     1562.60  2.410587   \n",
       "Irvine         7.106900     16.00  7.683636   1.044848     3132.00  3.796364   \n",
       "Thousand Oaks  7.558950     20.50  7.761729   1.038819      913.00  3.188140   \n",
       "Mountain View  5.806000     25.00  5.485893   1.068966      999.00  3.131661   \n",
       "San Rafael     4.200600     33.00  5.047866   1.101644     2031.50  2.131788   \n",
       "San Diego      4.320675     19.25  5.168952   1.014201     1665.75  2.580550   \n",
       "Santa Cruz     4.500000     52.00  6.500000   1.700000       24.00  2.400000   \n",
       "\n",
       "               Latitude  Longitude  MedHouseVal  \n",
       "City                                             \n",
       "Palo Alto        37.450   -122.160     4.920000  \n",
       "Torrance         33.810   -118.370     4.822000  \n",
       "Costa Mesa       33.650   -117.900     4.411000  \n",
       "San Francisco    37.770   -122.440     4.149404  \n",
       "Irvine           33.710   -117.790     3.134000  \n",
       "Thousand Oaks    34.160   -118.885     3.128000  \n",
       "Mountain View    37.400   -122.080     3.087000  \n",
       "San Rafael       37.995   -122.545     2.726500  \n",
       "San Diego        32.845   -117.135     2.601752  \n",
       "Santa Cruz       36.960   -122.060     2.583000  "
      ]
     },
     "execution_count": 157,
     "metadata": {},
     "output_type": "execute_result"
    }
   ],
   "source": [
    "top_cities = sample.groupby(\"City\").mean().sort_values(by=[\"MedHouseVal\"], ascending=False).head(10)\n",
    "top_cities"
   ]
  },
  {
   "cell_type": "markdown",
   "metadata": {
    "colab_type": "text",
    "id": "WTVZXwPRitzg"
   },
   "source": [
    "20. Display this in a graph "
   ]
  },
  {
   "cell_type": "code",
   "execution_count": 164,
   "metadata": {
    "colab": {
     "base_uri": "https://localhost:8080/",
     "height": 907
    },
    "colab_type": "code",
    "id": "DnFohmk7c8eh",
    "outputId": "d830ef98-2389-4552-96dd-d9a3cf71cdcc"
   },
   "outputs": [
    {
     "data": {
      "text/plain": [
       "<AxesSubplot:xlabel='City', ylabel='MedHouseVal'>"
      ]
     },
     "execution_count": 164,
     "metadata": {},
     "output_type": "execute_result"
    },
    {
     "data": {
      "image/png": "[encoded data removed]",
      "text/plain": [
       "<Figure size 1440x720 with 1 Axes>"
      ]
     },
     "metadata": {
      "needs_background": "light"
     },
     "output_type": "display_data"
    }
   ],
   "source": [
    "from matplotlib import pyplot as plt\n",
    "\n",
    "fig_dims = (20, 10)\n",
    "fig, ax = plt.subplots(figsize=fig_dims)\n",
    "sns.barplot(data=top_cities, x=top_cities.index, y=\"MedHouseVal\", ax=ax)"
   ]
  },
  {
   "cell_type": "markdown",
   "metadata": {
    "colab_type": "text",
    "id": "MtfYTfY4i0Bm"
   },
   "source": [
    "21. Redo a linear regression model by including cities as explanatory variables. What score do you find?"
   ]
  },
  {
   "cell_type": "code",
   "execution_count": 179,
   "metadata": {
    "colab": {},
    "colab_type": "code",
    "id": "pqfiHQCli6-I"
   },
   "outputs": [],
   "source": [
    "target_variable = \"MedHouseVal\"\n",
    "\n",
    "X = sample.loc[:, [column for column in sample if column != target_variable]]\n",
    "y = sample.loc[:, [target_variable]]"
   ]
  },
  {
   "cell_type": "code",
   "execution_count": 183,
   "metadata": {
    "colab": {},
    "colab_type": "code",
    "id": "akDvFxiwi9Po"
   },
   "outputs": [],
   "source": [
    "numeric_features = ['MedInc', 'HouseAge', 'AveRooms', 'AveBedrms', 'Population', 'AveOccup', 'Latitude', 'Longitude']\n",
    "numeric_transformer = Pipeline(steps=[\n",
    "    ('scaler', StandardScaler())\n",
    "])\n",
    "\n",
    "categorical_features = ['City'] # Positions of categorical columns in X_train/X_test\n",
    "categorical_transformer = Pipeline(\n",
    "    steps=[\n",
    "    ('encoder', OneHotEncoder(drop='first')) # first column will be dropped to avoid creating correlations between features\n",
    "    ])\n",
    "\n",
    "preprocessor = ColumnTransformer(\n",
    "    transformers=[\n",
    "        ('num', numeric_transformer, numeric_features),\n",
    "        ('cat', categorical_transformer, categorical_features)\n",
    "    ])\n",
    "\n",
    "X = preprocessor.fit_transform(X)\n",
    "\n",
    "X_train, X_test, Y_train, Y_test = train_test_split(X, y, test_size=0.2, random_state=0)"
   ]
  },
  {
   "cell_type": "code",
   "execution_count": 184,
   "metadata": {
    "colab": {},
    "colab_type": "code",
    "id": "uOt2BnKLjLIb"
   },
   "outputs": [
    {
     "name": "stdout",
     "output_type": "stream",
     "text": [
      "Training model...\n",
      "...Done.\n"
     ]
    }
   ],
   "source": [
    "model = LinearRegression()\n",
    "\n",
    "print(\"Training model...\")\n",
    "model.fit(X_train, Y_train) # Training is always done on train set !!\n",
    "print(\"...Done.\")\n",
    "\n",
    "Y_test_pred = model.predict(X_test)"
   ]
  },
  {
   "cell_type": "code",
   "execution_count": 185,
   "metadata": {
    "colab": {
     "base_uri": "https://localhost:8080/",
     "height": 175
    },
    "colab_type": "code",
    "id": "QDvgJjxYjVIw",
    "outputId": "e09bf1fa-a2b1-400b-c647-a01cb9871c18"
   },
   "outputs": [
    {
     "name": "stdout",
     "output_type": "stream",
     "text": [
      "R2 score on test set :  0.6700443887251645\n"
     ]
    }
   ],
   "source": [
    "print(\"R2 score on test set : \", r2_score(Y_test, Y_test_pred))"
   ]
  },
  {
   "cell_type": "markdown",
   "metadata": {
    "colab_type": "text",
    "id": "K-GHNdcApHkZ"
   },
   "source": [
    "22. Our model is generally not as good. Why do you think that is? "
   ]
  },
  {
   "cell_type": "markdown",
   "metadata": {
    "colab_type": "text",
    "id": "sKwuwguRpLa7"
   },
   "source": [
    "----> We have much less data. We'd have to take a bigger sample for our model to have enough to train properly. "
   ]
  }
 ],
 "metadata": {
  "colab": {
   "name": "Californian Housing Market - Exercice.ipynb",
   "provenance": [],
   "version": "0.3.2"
  },
  "kernelspec": {
   "display_name": "Python 3",
   "language": "python",
   "name": "python3"
  },
  "language_info": {
   "codemirror_mode": {
    "name": "ipython",
    "version": 3
   },
   "file_extension": ".py",
   "mimetype": "text/x-python",
   "name": "python",
   "nbconvert_exporter": "python",
   "pygments_lexer": "ipython3",
   "version": "3.8.6"
  }
 },
 "nbformat": 4,
 "nbformat_minor": 4
}
