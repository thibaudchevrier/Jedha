{
 "cells": [
  {
   "cell_type": "markdown",
   "metadata": {},
   "source": [
    "## Random trees / random forest\n",
    "\n",
    "\n",
    "### The essentials\n",
    "\n",
    "\n",
    "## Successive train splits\n",
    "\n",
    "Random trees are models that divide the dataset successively to produce their predictions. At each division step, the model selects the variable and the threshold value which allow to obtain the two sub dataset in which the target variable will be as homogeneous as possible.\n",
    "\n",
    "\n",
    "## Control of bias and variance\n",
    "\n",
    "Decision trees naturally stop dividing the dataset when all branches contain sub datasets in which the target variable is homogeneous (the same value for all observations). This allows accurate prediction of _train_ data, but gives the model a very high variance. In order to reduce the variance, constraints can be imposed on the model, such as giving a minimum number of observations present on the final branches, or limiting the depth of the tree to k successive divisions.\n",
    "\n",
    "\n",
    "## Advantages / disadvantages\n",
    "\n",
    "The main advantage of the random tree is that it allows to define a model combining simplicity (it is basically a set of binary rules: X1 smaller or larger than a value...) and good performance. Indeed, one can approach the training data as close as one wants. The major drawback is that it is a non-continuous model, the predictions take the form of a step function. This is not a big problem for classification, but a bit annoying for regression. Also the model can be imagined as a grid of the space of the explanatory variables, which is not suitable for all forms of problems.\n"
   ]
  },
  {
   "cell_type": "code",
   "execution_count": null,
   "metadata": {},
   "outputs": [],
   "source": []
  }
 ],
 "metadata": {
  "kernelspec": {
   "display_name": "Python 3",
   "language": "python",
   "name": "python3"
  },
  "language_info": {
   "codemirror_mode": {
    "name": "ipython",
    "version": 3
   },
   "file_extension": ".py",
   "mimetype": "text/x-python",
   "name": "python",
   "nbconvert_exporter": "python",
   "pygments_lexer": "ipython3",
   "version": "3.8.6"
  }
 },
 "nbformat": 4,
 "nbformat_minor": 4
}
