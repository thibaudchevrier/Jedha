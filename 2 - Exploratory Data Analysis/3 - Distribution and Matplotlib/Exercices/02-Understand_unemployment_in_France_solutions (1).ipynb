{
 "cells": [
  {
   "cell_type": "markdown",
   "metadata": {
    "colab_type": "text",
    "id": "ZwEXvTBHQpTz"
   },
   "source": [
    "# Understanding unemployment in France \n",
    "\n",
    "Have you ever wondered where the numbers come from when politicians or the media talk about unemployment? Being a subject of interest in Western countries, let's try to understand what is happening in terms of unemployment in France. For this, we have retrieved data from [data.gouv](https://www.insee.fr/fr/statistiques/3555153#consulter). \n",
    "They represent unemployment data in France in 2017."
   ]
  },
  {
   "cell_type": "markdown",
   "metadata": {
    "colab_type": "text",
    "id": "0Y97GFc4QzSX"
   },
   "source": [
    "## Dataset documentation \n",
    "\n",
    "Look at the documentation of the dataset [here](https://www.insee.fr/fr/statistiques/3555153#documentation)"
   ]
  },
  {
   "cell_type": "markdown",
   "metadata": {
    "colab_type": "text",
    "id": "Ovsu2EqEcBO9"
   },
   "source": [
    "* Go to the following link: [Dataset](https://www.insee.fr/fr/statistiques/3555153#consulter) and download the small 9MB dataset. \n",
    "\n",
    "* Using the command `!unzip filename.zip` unzip the file you downloaded. "
   ]
  },
  {
   "cell_type": "code",
   "execution_count": 2,
   "metadata": {
    "colab": {
     "base_uri": "https://localhost:8080/",
     "height": 85
    },
    "colab_type": "code",
    "id": "QAltEGc-P3JT",
    "outputId": "246b7158-66ea-489e-822c-c0b99764489c"
   },
   "outputs": [
    {
     "name": "stdout",
     "output_type": "stream",
     "text": [
      "Archive:  fd_eec17_dbase.zip\n",
      "  inflating: fdeec17.dbf             \n",
      "  inflating: varlist.dbf             \n",
      "  inflating: varmod.dbf              \n"
     ]
    }
   ],
   "source": [
    "!unzip \"fd_eec17_dbase.zip\""
   ]
  },
  {
   "cell_type": "markdown",
   "metadata": {
    "colab_type": "text",
    "id": "s77X1TKKcW3s"
   },
   "source": [
    "* Import librairies\n",
    "  * pandas \n",
    "  * numpy "
   ]
  },
  {
   "cell_type": "code",
   "execution_count": 167,
   "metadata": {
    "colab": {},
    "colab_type": "code",
    "id": "UVrfg-b9QkfB"
   },
   "outputs": [],
   "source": [
    "import pandas as pd \n",
    "import numpy as np"
   ]
  },
  {
   "cell_type": "markdown",
   "metadata": {
    "colab_type": "text",
    "id": "NWOuJ-zCcbcT"
   },
   "source": [
    "* We're going to need to install a library on our notebook to be able to read the files. Use the following command: \n",
    "\n",
    "`!pip install simpledbf`"
   ]
  },
  {
   "cell_type": "code",
   "execution_count": 3,
   "metadata": {
    "colab": {
     "base_uri": "https://localhost:8080/",
     "height": 197
    },
    "colab_type": "code",
    "id": "elOxqN4eQ-MV",
    "outputId": "cd02e7c6-46a6-4ff4-9b3f-9ac3b6952cd1"
   },
   "outputs": [
    {
     "name": "stdout",
     "output_type": "stream",
     "text": [
      "Collecting simpledbf\n",
      "  Downloading simpledbf-0.2.6.tar.gz (17 kB)\n",
      "Building wheels for collected packages: simpledbf\n",
      "  Building wheel for simpledbf (setup.py) ... \u001b[?25ldone\n",
      "\u001b[?25h  Created wheel for simpledbf: filename=simpledbf-0.2.6-py3-none-any.whl size=13792 sha256=84cdf8799fcae2f8cb340b0e729fee726232488fe8e3c505ed691def9fe68a46\n",
      "  Stored in directory: /home/jovyan/.cache/pip/wheels/7c/4a/85/8d25e6dc4d2968a93a5459ed0153fd6f67041cfece137ca9ce\n",
      "Successfully built simpledbf\n",
      "Installing collected packages: simpledbf\n",
      "Successfully installed simpledbf-0.2.6\n"
     ]
    }
   ],
   "source": [
    "!pip install simpledbf"
   ]
  },
  {
   "cell_type": "markdown",
   "metadata": {
    "colab_type": "text",
    "id": "b3PGutLIcnZQ"
   },
   "source": [
    "* Then apply the following code:\n",
    "\n",
    "```\n",
    "from simpledbf import Dbf5\n",
    "dataset = Dbf5(\"fdeec17.dbf\").to_dataframe()\n",
    "dataset.head()\n",
    "```"
   ]
  },
  {
   "cell_type": "code",
   "execution_count": 168,
   "metadata": {
    "colab": {
     "base_uri": "https://localhost:8080/",
     "height": 253
    },
    "colab_type": "code",
    "id": "2gWkIascSXLy",
    "outputId": "10e7e703-edbd-4261-bc0b-29f3d775fbd8"
   },
   "outputs": [
    {
     "data": {
      "text/html": [
       "<div>\n",
       "<style scoped>\n",
       "    .dataframe tbody tr th:only-of-type {\n",
       "        vertical-align: middle;\n",
       "    }\n",
       "\n",
       "    .dataframe tbody tr th {\n",
       "        vertical-align: top;\n",
       "    }\n",
       "\n",
       "    .dataframe thead th {\n",
       "        text-align: right;\n",
       "    }\n",
       "</style>\n",
       "<table border=\"1\" class=\"dataframe\">\n",
       "  <thead>\n",
       "    <tr style=\"text-align: right;\">\n",
       "      <th></th>\n",
       "      <th>ANNEE</th>\n",
       "      <th>TRIM</th>\n",
       "      <th>CATAU2010R</th>\n",
       "      <th>METRODOM</th>\n",
       "      <th>TYPMEN7</th>\n",
       "      <th>AGE3</th>\n",
       "      <th>AGE5</th>\n",
       "      <th>COURED</th>\n",
       "      <th>ENFRED</th>\n",
       "      <th>NFRRED</th>\n",
       "      <th>SEXE</th>\n",
       "      <th>ACTEU</th>\n",
       "      <th>ACTEU6</th>\n",
       "      <th>ACTIF</th>\n",
       "      <th>ACTOP</th>\n",
       "      <th>AIDFAM</th>\n",
       "      <th>ANCCHOM</th>\n",
       "      <th>ANCINACT</th>\n",
       "      <th>CONTACT</th>\n",
       "      <th>CREACCP</th>\n",
       "      <th>DEM</th>\n",
       "      <th>DISPOC</th>\n",
       "      <th>GARDEB</th>\n",
       "      <th>HALOR</th>\n",
       "      <th>INSCONT</th>\n",
       "      <th>MRA</th>\n",
       "      <th>MRB</th>\n",
       "      <th>MRBBIS</th>\n",
       "      <th>MRC</th>\n",
       "      <th>MRD</th>\n",
       "      <th>MRDBIS</th>\n",
       "      <th>MRE</th>\n",
       "      <th>MREC</th>\n",
       "      <th>MRF</th>\n",
       "      <th>MRG</th>\n",
       "      <th>MRGBIS</th>\n",
       "      <th>MRH</th>\n",
       "      <th>MRI</th>\n",
       "      <th>MRJ</th>\n",
       "      <th>MRK</th>\n",
       "      <th>MRL</th>\n",
       "      <th>MRM</th>\n",
       "      <th>MRN</th>\n",
       "      <th>MRO</th>\n",
       "      <th>MRPASSA</th>\n",
       "      <th>MRPASSB</th>\n",
       "      <th>MRPASSC</th>\n",
       "      <th>MRS</th>\n",
       "      <th>NONDIC</th>\n",
       "      <th>NREC</th>\n",
       "      <th>NRECA</th>\n",
       "      <th>NRECB</th>\n",
       "      <th>OCCREF</th>\n",
       "      <th>OFFICC</th>\n",
       "      <th>OFFRE</th>\n",
       "      <th>PASTRA</th>\n",
       "      <th>PASTRB</th>\n",
       "      <th>PASTRF</th>\n",
       "      <th>PERCREV</th>\n",
       "      <th>RABS</th>\n",
       "      <th>RAISNREC</th>\n",
       "      <th>RAISNSOU</th>\n",
       "      <th>RAISPAS</th>\n",
       "      <th>SOU</th>\n",
       "      <th>SOUA</th>\n",
       "      <th>SOUB</th>\n",
       "      <th>SOUC</th>\n",
       "      <th>SOUSEMPL</th>\n",
       "      <th>STCHE</th>\n",
       "      <th>TEMP</th>\n",
       "      <th>TRAREF</th>\n",
       "      <th>TYPCONT</th>\n",
       "      <th>TYPCONTB</th>\n",
       "      <th>CHPUB</th>\n",
       "      <th>CSE</th>\n",
       "      <th>CSER</th>\n",
       "      <th>CSP</th>\n",
       "      <th>CSTOT</th>\n",
       "      <th>CSTOTR</th>\n",
       "      <th>FONCTC</th>\n",
       "      <th>NAFG004UN</th>\n",
       "      <th>NAFG010UN</th>\n",
       "      <th>NAFG017UN</th>\n",
       "      <th>NAFG021UN</th>\n",
       "      <th>NAFG038UN</th>\n",
       "      <th>NAFG088UN</th>\n",
       "      <th>PUB3FP</th>\n",
       "      <th>QPRC</th>\n",
       "      <th>STC</th>\n",
       "      <th>CONTRA</th>\n",
       "      <th>RDET</th>\n",
       "      <th>STAT2</th>\n",
       "      <th>STATOEP</th>\n",
       "      <th>STATUT</th>\n",
       "      <th>STATUTR</th>\n",
       "      <th>TITC</th>\n",
       "      <th>CSTMN</th>\n",
       "      <th>CSTPLC</th>\n",
       "      <th>DISPPLC</th>\n",
       "      <th>DUHAB</th>\n",
       "      <th>GARDEA</th>\n",
       "      <th>HHC6</th>\n",
       "      <th>HORAIC</th>\n",
       "      <th>RAISON</th>\n",
       "      <th>RAISTP</th>\n",
       "      <th>STMN</th>\n",
       "      <th>STPLC</th>\n",
       "      <th>TPPRED</th>\n",
       "      <th>TXTPPRED</th>\n",
       "      <th>ANCENTR4</th>\n",
       "      <th>SITANT</th>\n",
       "      <th>AAC</th>\n",
       "      <th>CSA</th>\n",
       "      <th>NAFANT</th>\n",
       "      <th>NAFANTG004</th>\n",
       "      <th>DIP11</th>\n",
       "      <th>CSTOTPRM</th>\n",
       "      <th>IDENTM</th>\n",
       "      <th>EXTRIAN</th>\n",
       "      <th>EMPNBH</th>\n",
       "      <th>HREC</th>\n",
       "      <th>HHCE</th>\n",
       "      <th>HPLUSA</th>\n",
       "      <th>JOURTR</th>\n",
       "      <th>NBTOTE</th>\n",
       "    </tr>\n",
       "  </thead>\n",
       "  <tbody>\n",
       "    <tr>\n",
       "      <th>0</th>\n",
       "      <td>2017</td>\n",
       "      <td>1</td>\n",
       "      <td>1</td>\n",
       "      <td>1</td>\n",
       "      <td>2</td>\n",
       "      <td>50</td>\n",
       "      <td>50</td>\n",
       "      <td>2</td>\n",
       "      <td>1</td>\n",
       "      <td>1</td>\n",
       "      <td>2</td>\n",
       "      <td>1</td>\n",
       "      <td>1</td>\n",
       "      <td>1</td>\n",
       "      <td>1</td>\n",
       "      <td>NaN</td>\n",
       "      <td>NaN</td>\n",
       "      <td>NaN</td>\n",
       "      <td>NaN</td>\n",
       "      <td>NaN</td>\n",
       "      <td>0</td>\n",
       "      <td>NaN</td>\n",
       "      <td>NaN</td>\n",
       "      <td>2</td>\n",
       "      <td>NaN</td>\n",
       "      <td>NaN</td>\n",
       "      <td>NaN</td>\n",
       "      <td>NaN</td>\n",
       "      <td>NaN</td>\n",
       "      <td>NaN</td>\n",
       "      <td>NaN</td>\n",
       "      <td>NaN</td>\n",
       "      <td>NaN</td>\n",
       "      <td>NaN</td>\n",
       "      <td>NaN</td>\n",
       "      <td>NaN</td>\n",
       "      <td>NaN</td>\n",
       "      <td>NaN</td>\n",
       "      <td>NaN</td>\n",
       "      <td>NaN</td>\n",
       "      <td>NaN</td>\n",
       "      <td>NaN</td>\n",
       "      <td>NaN</td>\n",
       "      <td>NaN</td>\n",
       "      <td>NaN</td>\n",
       "      <td>NaN</td>\n",
       "      <td>NaN</td>\n",
       "      <td>NaN</td>\n",
       "      <td>NaN</td>\n",
       "      <td>NaN</td>\n",
       "      <td>NaN</td>\n",
       "      <td>NaN</td>\n",
       "      <td>2</td>\n",
       "      <td>2</td>\n",
       "      <td>NaN</td>\n",
       "      <td>NaN</td>\n",
       "      <td>NaN</td>\n",
       "      <td>NaN</td>\n",
       "      <td>NaN</td>\n",
       "      <td>NaN</td>\n",
       "      <td>NaN</td>\n",
       "      <td>NaN</td>\n",
       "      <td>NaN</td>\n",
       "      <td>2</td>\n",
       "      <td>2</td>\n",
       "      <td>2</td>\n",
       "      <td>NaN</td>\n",
       "      <td>NaN</td>\n",
       "      <td>NaN</td>\n",
       "      <td>NaN</td>\n",
       "      <td>1</td>\n",
       "      <td>NaN</td>\n",
       "      <td>NaN</td>\n",
       "      <td>2</td>\n",
       "      <td>52</td>\n",
       "      <td>5</td>\n",
       "      <td>52</td>\n",
       "      <td>52</td>\n",
       "      <td>5</td>\n",
       "      <td>9</td>\n",
       "      <td>EV</td>\n",
       "      <td>OQ</td>\n",
       "      <td>OQ</td>\n",
       "      <td>Q</td>\n",
       "      <td>QA</td>\n",
       "      <td>86</td>\n",
       "      <td>3</td>\n",
       "      <td>4</td>\n",
       "      <td>3</td>\n",
       "      <td>1</td>\n",
       "      <td>NaN</td>\n",
       "      <td>2</td>\n",
       "      <td>45</td>\n",
       "      <td>35</td>\n",
       "      <td>5</td>\n",
       "      <td>NaN</td>\n",
       "      <td>NaN</td>\n",
       "      <td>NaN</td>\n",
       "      <td>NaN</td>\n",
       "      <td>6</td>\n",
       "      <td>NaN</td>\n",
       "      <td>4</td>\n",
       "      <td>1</td>\n",
       "      <td>NaN</td>\n",
       "      <td>NaN</td>\n",
       "      <td>2</td>\n",
       "      <td>2</td>\n",
       "      <td>1</td>\n",
       "      <td>NaN</td>\n",
       "      <td>4</td>\n",
       "      <td>1</td>\n",
       "      <td>NaN</td>\n",
       "      <td>NaN</td>\n",
       "      <td>NaN</td>\n",
       "      <td>NaN</td>\n",
       "      <td>30</td>\n",
       "      <td>52</td>\n",
       "      <td>1</td>\n",
       "      <td>263.388752</td>\n",
       "      <td>37.0</td>\n",
       "      <td>NaN</td>\n",
       "      <td>37.0</td>\n",
       "      <td>NaN</td>\n",
       "      <td>5.0</td>\n",
       "      <td>NaN</td>\n",
       "    </tr>\n",
       "    <tr>\n",
       "      <th>1</th>\n",
       "      <td>2017</td>\n",
       "      <td>1</td>\n",
       "      <td>1</td>\n",
       "      <td>1</td>\n",
       "      <td>2</td>\n",
       "      <td>15</td>\n",
       "      <td>15</td>\n",
       "      <td>2</td>\n",
       "      <td>2</td>\n",
       "      <td>1</td>\n",
       "      <td>1</td>\n",
       "      <td>1</td>\n",
       "      <td>1</td>\n",
       "      <td>1</td>\n",
       "      <td>1</td>\n",
       "      <td>NaN</td>\n",
       "      <td>NaN</td>\n",
       "      <td>NaN</td>\n",
       "      <td>NaN</td>\n",
       "      <td>NaN</td>\n",
       "      <td>0</td>\n",
       "      <td>NaN</td>\n",
       "      <td>NaN</td>\n",
       "      <td>2</td>\n",
       "      <td>NaN</td>\n",
       "      <td>NaN</td>\n",
       "      <td>NaN</td>\n",
       "      <td>NaN</td>\n",
       "      <td>NaN</td>\n",
       "      <td>NaN</td>\n",
       "      <td>NaN</td>\n",
       "      <td>NaN</td>\n",
       "      <td>NaN</td>\n",
       "      <td>NaN</td>\n",
       "      <td>NaN</td>\n",
       "      <td>NaN</td>\n",
       "      <td>NaN</td>\n",
       "      <td>NaN</td>\n",
       "      <td>NaN</td>\n",
       "      <td>NaN</td>\n",
       "      <td>NaN</td>\n",
       "      <td>NaN</td>\n",
       "      <td>NaN</td>\n",
       "      <td>NaN</td>\n",
       "      <td>NaN</td>\n",
       "      <td>NaN</td>\n",
       "      <td>NaN</td>\n",
       "      <td>NaN</td>\n",
       "      <td>NaN</td>\n",
       "      <td>NaN</td>\n",
       "      <td>NaN</td>\n",
       "      <td>NaN</td>\n",
       "      <td>2</td>\n",
       "      <td>2</td>\n",
       "      <td>NaN</td>\n",
       "      <td>NaN</td>\n",
       "      <td>NaN</td>\n",
       "      <td>NaN</td>\n",
       "      <td>NaN</td>\n",
       "      <td>NaN</td>\n",
       "      <td>NaN</td>\n",
       "      <td>NaN</td>\n",
       "      <td>NaN</td>\n",
       "      <td>2</td>\n",
       "      <td>2</td>\n",
       "      <td>2</td>\n",
       "      <td>NaN</td>\n",
       "      <td>NaN</td>\n",
       "      <td>NaN</td>\n",
       "      <td>NaN</td>\n",
       "      <td>1</td>\n",
       "      <td>NaN</td>\n",
       "      <td>NaN</td>\n",
       "      <td>1</td>\n",
       "      <td>67</td>\n",
       "      <td>6</td>\n",
       "      <td>67</td>\n",
       "      <td>67</td>\n",
       "      <td>6</td>\n",
       "      <td>1</td>\n",
       "      <td>ET</td>\n",
       "      <td>BE</td>\n",
       "      <td>C1</td>\n",
       "      <td>C</td>\n",
       "      <td>CA</td>\n",
       "      <td>10</td>\n",
       "      <td>4</td>\n",
       "      <td>1</td>\n",
       "      <td>3</td>\n",
       "      <td>2</td>\n",
       "      <td>2</td>\n",
       "      <td>2</td>\n",
       "      <td>33</td>\n",
       "      <td>33</td>\n",
       "      <td>4</td>\n",
       "      <td>NaN</td>\n",
       "      <td>NaN</td>\n",
       "      <td>NaN</td>\n",
       "      <td>NaN</td>\n",
       "      <td>5</td>\n",
       "      <td>NaN</td>\n",
       "      <td>3</td>\n",
       "      <td>2</td>\n",
       "      <td>NaN</td>\n",
       "      <td>NaN</td>\n",
       "      <td>2</td>\n",
       "      <td>2</td>\n",
       "      <td>1</td>\n",
       "      <td>NaN</td>\n",
       "      <td>1</td>\n",
       "      <td>1</td>\n",
       "      <td>NaN</td>\n",
       "      <td>NaN</td>\n",
       "      <td>NaN</td>\n",
       "      <td>NaN</td>\n",
       "      <td>42</td>\n",
       "      <td>52</td>\n",
       "      <td>1</td>\n",
       "      <td>263.388752</td>\n",
       "      <td>32.0</td>\n",
       "      <td>NaN</td>\n",
       "      <td>32.0</td>\n",
       "      <td>NaN</td>\n",
       "      <td>4.0</td>\n",
       "      <td>NaN</td>\n",
       "    </tr>\n",
       "    <tr>\n",
       "      <th>2</th>\n",
       "      <td>2017</td>\n",
       "      <td>1</td>\n",
       "      <td>1</td>\n",
       "      <td>1</td>\n",
       "      <td>2</td>\n",
       "      <td>15</td>\n",
       "      <td>15</td>\n",
       "      <td>2</td>\n",
       "      <td>2</td>\n",
       "      <td>1</td>\n",
       "      <td>2</td>\n",
       "      <td>1</td>\n",
       "      <td>1</td>\n",
       "      <td>1</td>\n",
       "      <td>1</td>\n",
       "      <td>NaN</td>\n",
       "      <td>NaN</td>\n",
       "      <td>NaN</td>\n",
       "      <td>NaN</td>\n",
       "      <td>NaN</td>\n",
       "      <td>0</td>\n",
       "      <td>NaN</td>\n",
       "      <td>NaN</td>\n",
       "      <td>2</td>\n",
       "      <td>NaN</td>\n",
       "      <td>NaN</td>\n",
       "      <td>NaN</td>\n",
       "      <td>NaN</td>\n",
       "      <td>NaN</td>\n",
       "      <td>NaN</td>\n",
       "      <td>NaN</td>\n",
       "      <td>NaN</td>\n",
       "      <td>NaN</td>\n",
       "      <td>NaN</td>\n",
       "      <td>NaN</td>\n",
       "      <td>NaN</td>\n",
       "      <td>NaN</td>\n",
       "      <td>NaN</td>\n",
       "      <td>NaN</td>\n",
       "      <td>NaN</td>\n",
       "      <td>NaN</td>\n",
       "      <td>NaN</td>\n",
       "      <td>NaN</td>\n",
       "      <td>NaN</td>\n",
       "      <td>NaN</td>\n",
       "      <td>NaN</td>\n",
       "      <td>NaN</td>\n",
       "      <td>NaN</td>\n",
       "      <td>NaN</td>\n",
       "      <td>NaN</td>\n",
       "      <td>NaN</td>\n",
       "      <td>NaN</td>\n",
       "      <td>2</td>\n",
       "      <td>2</td>\n",
       "      <td>NaN</td>\n",
       "      <td>NaN</td>\n",
       "      <td>NaN</td>\n",
       "      <td>NaN</td>\n",
       "      <td>NaN</td>\n",
       "      <td>NaN</td>\n",
       "      <td>NaN</td>\n",
       "      <td>NaN</td>\n",
       "      <td>NaN</td>\n",
       "      <td>2</td>\n",
       "      <td>2</td>\n",
       "      <td>2</td>\n",
       "      <td>NaN</td>\n",
       "      <td>NaN</td>\n",
       "      <td>NaN</td>\n",
       "      <td>NaN</td>\n",
       "      <td>1</td>\n",
       "      <td>NaN</td>\n",
       "      <td>NaN</td>\n",
       "      <td>1</td>\n",
       "      <td>47</td>\n",
       "      <td>4</td>\n",
       "      <td>47</td>\n",
       "      <td>47</td>\n",
       "      <td>4</td>\n",
       "      <td>2</td>\n",
       "      <td>EV</td>\n",
       "      <td>KZ</td>\n",
       "      <td>KZ</td>\n",
       "      <td>K</td>\n",
       "      <td>KZ</td>\n",
       "      <td>65</td>\n",
       "      <td>4</td>\n",
       "      <td>3</td>\n",
       "      <td>3</td>\n",
       "      <td>1</td>\n",
       "      <td>NaN</td>\n",
       "      <td>2</td>\n",
       "      <td>35</td>\n",
       "      <td>35</td>\n",
       "      <td>5</td>\n",
       "      <td>NaN</td>\n",
       "      <td>NaN</td>\n",
       "      <td>NaN</td>\n",
       "      <td>NaN</td>\n",
       "      <td>6</td>\n",
       "      <td>NaN</td>\n",
       "      <td>4</td>\n",
       "      <td>2</td>\n",
       "      <td>NaN</td>\n",
       "      <td>NaN</td>\n",
       "      <td>2</td>\n",
       "      <td>2</td>\n",
       "      <td>1</td>\n",
       "      <td>NaN</td>\n",
       "      <td>1</td>\n",
       "      <td>4</td>\n",
       "      <td>NaN</td>\n",
       "      <td>NaN</td>\n",
       "      <td>NaN</td>\n",
       "      <td>NaN</td>\n",
       "      <td>31</td>\n",
       "      <td>52</td>\n",
       "      <td>1</td>\n",
       "      <td>263.388752</td>\n",
       "      <td>38.0</td>\n",
       "      <td>NaN</td>\n",
       "      <td>38.0</td>\n",
       "      <td>NaN</td>\n",
       "      <td>5.0</td>\n",
       "      <td>NaN</td>\n",
       "    </tr>\n",
       "    <tr>\n",
       "      <th>3</th>\n",
       "      <td>2017</td>\n",
       "      <td>3</td>\n",
       "      <td>1</td>\n",
       "      <td>1</td>\n",
       "      <td>2</td>\n",
       "      <td>50</td>\n",
       "      <td>50</td>\n",
       "      <td>2</td>\n",
       "      <td>1</td>\n",
       "      <td>1</td>\n",
       "      <td>2</td>\n",
       "      <td>1</td>\n",
       "      <td>1</td>\n",
       "      <td>1</td>\n",
       "      <td>1</td>\n",
       "      <td>NaN</td>\n",
       "      <td>NaN</td>\n",
       "      <td>NaN</td>\n",
       "      <td>NaN</td>\n",
       "      <td>NaN</td>\n",
       "      <td>0</td>\n",
       "      <td>NaN</td>\n",
       "      <td>NaN</td>\n",
       "      <td>2</td>\n",
       "      <td>NaN</td>\n",
       "      <td>NaN</td>\n",
       "      <td>NaN</td>\n",
       "      <td>NaN</td>\n",
       "      <td>NaN</td>\n",
       "      <td>NaN</td>\n",
       "      <td>NaN</td>\n",
       "      <td>NaN</td>\n",
       "      <td>NaN</td>\n",
       "      <td>NaN</td>\n",
       "      <td>NaN</td>\n",
       "      <td>NaN</td>\n",
       "      <td>NaN</td>\n",
       "      <td>NaN</td>\n",
       "      <td>NaN</td>\n",
       "      <td>NaN</td>\n",
       "      <td>NaN</td>\n",
       "      <td>NaN</td>\n",
       "      <td>NaN</td>\n",
       "      <td>NaN</td>\n",
       "      <td>NaN</td>\n",
       "      <td>NaN</td>\n",
       "      <td>NaN</td>\n",
       "      <td>NaN</td>\n",
       "      <td>NaN</td>\n",
       "      <td>NaN</td>\n",
       "      <td>NaN</td>\n",
       "      <td>NaN</td>\n",
       "      <td>2</td>\n",
       "      <td>2</td>\n",
       "      <td>NaN</td>\n",
       "      <td>NaN</td>\n",
       "      <td>NaN</td>\n",
       "      <td>NaN</td>\n",
       "      <td>NaN</td>\n",
       "      <td>NaN</td>\n",
       "      <td>NaN</td>\n",
       "      <td>NaN</td>\n",
       "      <td>NaN</td>\n",
       "      <td>2</td>\n",
       "      <td>2</td>\n",
       "      <td>2</td>\n",
       "      <td>NaN</td>\n",
       "      <td>NaN</td>\n",
       "      <td>NaN</td>\n",
       "      <td>NaN</td>\n",
       "      <td>1</td>\n",
       "      <td>NaN</td>\n",
       "      <td>NaN</td>\n",
       "      <td>2</td>\n",
       "      <td>52</td>\n",
       "      <td>5</td>\n",
       "      <td>52</td>\n",
       "      <td>52</td>\n",
       "      <td>5</td>\n",
       "      <td>9</td>\n",
       "      <td>EV</td>\n",
       "      <td>OQ</td>\n",
       "      <td>OQ</td>\n",
       "      <td>Q</td>\n",
       "      <td>QA</td>\n",
       "      <td>86</td>\n",
       "      <td>3</td>\n",
       "      <td>4</td>\n",
       "      <td>3</td>\n",
       "      <td>1</td>\n",
       "      <td>NaN</td>\n",
       "      <td>2</td>\n",
       "      <td>45</td>\n",
       "      <td>35</td>\n",
       "      <td>5</td>\n",
       "      <td>NaN</td>\n",
       "      <td>NaN</td>\n",
       "      <td>NaN</td>\n",
       "      <td>NaN</td>\n",
       "      <td>6</td>\n",
       "      <td>NaN</td>\n",
       "      <td>4</td>\n",
       "      <td>1</td>\n",
       "      <td>NaN</td>\n",
       "      <td>NaN</td>\n",
       "      <td>2</td>\n",
       "      <td>2</td>\n",
       "      <td>1</td>\n",
       "      <td>NaN</td>\n",
       "      <td>4</td>\n",
       "      <td>1</td>\n",
       "      <td>NaN</td>\n",
       "      <td>NaN</td>\n",
       "      <td>NaN</td>\n",
       "      <td>NaN</td>\n",
       "      <td>30</td>\n",
       "      <td>52</td>\n",
       "      <td>2</td>\n",
       "      <td>176.893923</td>\n",
       "      <td>37.0</td>\n",
       "      <td>NaN</td>\n",
       "      <td>37.0</td>\n",
       "      <td>NaN</td>\n",
       "      <td>5.0</td>\n",
       "      <td>NaN</td>\n",
       "    </tr>\n",
       "    <tr>\n",
       "      <th>4</th>\n",
       "      <td>2017</td>\n",
       "      <td>3</td>\n",
       "      <td>1</td>\n",
       "      <td>1</td>\n",
       "      <td>2</td>\n",
       "      <td>15</td>\n",
       "      <td>15</td>\n",
       "      <td>2</td>\n",
       "      <td>2</td>\n",
       "      <td>1</td>\n",
       "      <td>1</td>\n",
       "      <td>1</td>\n",
       "      <td>1</td>\n",
       "      <td>1</td>\n",
       "      <td>1</td>\n",
       "      <td>NaN</td>\n",
       "      <td>NaN</td>\n",
       "      <td>NaN</td>\n",
       "      <td>NaN</td>\n",
       "      <td>NaN</td>\n",
       "      <td>0</td>\n",
       "      <td>NaN</td>\n",
       "      <td>NaN</td>\n",
       "      <td>2</td>\n",
       "      <td>NaN</td>\n",
       "      <td>NaN</td>\n",
       "      <td>NaN</td>\n",
       "      <td>NaN</td>\n",
       "      <td>NaN</td>\n",
       "      <td>NaN</td>\n",
       "      <td>NaN</td>\n",
       "      <td>NaN</td>\n",
       "      <td>NaN</td>\n",
       "      <td>NaN</td>\n",
       "      <td>NaN</td>\n",
       "      <td>NaN</td>\n",
       "      <td>NaN</td>\n",
       "      <td>NaN</td>\n",
       "      <td>NaN</td>\n",
       "      <td>NaN</td>\n",
       "      <td>NaN</td>\n",
       "      <td>NaN</td>\n",
       "      <td>NaN</td>\n",
       "      <td>NaN</td>\n",
       "      <td>NaN</td>\n",
       "      <td>NaN</td>\n",
       "      <td>NaN</td>\n",
       "      <td>NaN</td>\n",
       "      <td>NaN</td>\n",
       "      <td>NaN</td>\n",
       "      <td>NaN</td>\n",
       "      <td>NaN</td>\n",
       "      <td>2</td>\n",
       "      <td>2</td>\n",
       "      <td>NaN</td>\n",
       "      <td>NaN</td>\n",
       "      <td>NaN</td>\n",
       "      <td>NaN</td>\n",
       "      <td>NaN</td>\n",
       "      <td>NaN</td>\n",
       "      <td>NaN</td>\n",
       "      <td>NaN</td>\n",
       "      <td>NaN</td>\n",
       "      <td>2</td>\n",
       "      <td>2</td>\n",
       "      <td>2</td>\n",
       "      <td>NaN</td>\n",
       "      <td>NaN</td>\n",
       "      <td>NaN</td>\n",
       "      <td>NaN</td>\n",
       "      <td>1</td>\n",
       "      <td>NaN</td>\n",
       "      <td>NaN</td>\n",
       "      <td>1</td>\n",
       "      <td>67</td>\n",
       "      <td>6</td>\n",
       "      <td>67</td>\n",
       "      <td>67</td>\n",
       "      <td>6</td>\n",
       "      <td>1</td>\n",
       "      <td>ET</td>\n",
       "      <td>BE</td>\n",
       "      <td>C1</td>\n",
       "      <td>C</td>\n",
       "      <td>CA</td>\n",
       "      <td>10</td>\n",
       "      <td>4</td>\n",
       "      <td>1</td>\n",
       "      <td>3</td>\n",
       "      <td>2</td>\n",
       "      <td>2</td>\n",
       "      <td>2</td>\n",
       "      <td>33</td>\n",
       "      <td>33</td>\n",
       "      <td>4</td>\n",
       "      <td>NaN</td>\n",
       "      <td>NaN</td>\n",
       "      <td>NaN</td>\n",
       "      <td>NaN</td>\n",
       "      <td>5</td>\n",
       "      <td>NaN</td>\n",
       "      <td>3</td>\n",
       "      <td>2</td>\n",
       "      <td>NaN</td>\n",
       "      <td>NaN</td>\n",
       "      <td>2</td>\n",
       "      <td>2</td>\n",
       "      <td>1</td>\n",
       "      <td>NaN</td>\n",
       "      <td>1</td>\n",
       "      <td>1</td>\n",
       "      <td>NaN</td>\n",
       "      <td>NaN</td>\n",
       "      <td>NaN</td>\n",
       "      <td>NaN</td>\n",
       "      <td>42</td>\n",
       "      <td>52</td>\n",
       "      <td>2</td>\n",
       "      <td>176.893923</td>\n",
       "      <td>40.0</td>\n",
       "      <td>NaN</td>\n",
       "      <td>32.0</td>\n",
       "      <td>NaN</td>\n",
       "      <td>4.0</td>\n",
       "      <td>NaN</td>\n",
       "    </tr>\n",
       "  </tbody>\n",
       "</table>\n",
       "</div>"
      ],
      "text/plain": [
       "  ANNEE TRIM CATAU2010R METRODOM TYPMEN7 AGE3 AGE5 COURED ENFRED NFRRED SEXE  \\\n",
       "0  2017    1          1        1       2   50   50      2      1      1    2   \n",
       "1  2017    1          1        1       2   15   15      2      2      1    1   \n",
       "2  2017    1          1        1       2   15   15      2      2      1    2   \n",
       "3  2017    3          1        1       2   50   50      2      1      1    2   \n",
       "4  2017    3          1        1       2   15   15      2      2      1    1   \n",
       "\n",
       "  ACTEU ACTEU6 ACTIF ACTOP AIDFAM ANCCHOM ANCINACT CONTACT CREACCP DEM DISPOC  \\\n",
       "0     1      1     1     1    NaN     NaN      NaN     NaN     NaN   0    NaN   \n",
       "1     1      1     1     1    NaN     NaN      NaN     NaN     NaN   0    NaN   \n",
       "2     1      1     1     1    NaN     NaN      NaN     NaN     NaN   0    NaN   \n",
       "3     1      1     1     1    NaN     NaN      NaN     NaN     NaN   0    NaN   \n",
       "4     1      1     1     1    NaN     NaN      NaN     NaN     NaN   0    NaN   \n",
       "\n",
       "  GARDEB HALOR INSCONT  MRA  MRB MRBBIS  MRC  MRD MRDBIS  MRE MREC  MRF  MRG  \\\n",
       "0    NaN     2     NaN  NaN  NaN    NaN  NaN  NaN    NaN  NaN  NaN  NaN  NaN   \n",
       "1    NaN     2     NaN  NaN  NaN    NaN  NaN  NaN    NaN  NaN  NaN  NaN  NaN   \n",
       "2    NaN     2     NaN  NaN  NaN    NaN  NaN  NaN    NaN  NaN  NaN  NaN  NaN   \n",
       "3    NaN     2     NaN  NaN  NaN    NaN  NaN  NaN    NaN  NaN  NaN  NaN  NaN   \n",
       "4    NaN     2     NaN  NaN  NaN    NaN  NaN  NaN    NaN  NaN  NaN  NaN  NaN   \n",
       "\n",
       "  MRGBIS  MRH  MRI  MRJ  MRK  MRL  MRM  MRN  MRO MRPASSA MRPASSB MRPASSC  MRS  \\\n",
       "0    NaN  NaN  NaN  NaN  NaN  NaN  NaN  NaN  NaN     NaN     NaN     NaN  NaN   \n",
       "1    NaN  NaN  NaN  NaN  NaN  NaN  NaN  NaN  NaN     NaN     NaN     NaN  NaN   \n",
       "2    NaN  NaN  NaN  NaN  NaN  NaN  NaN  NaN  NaN     NaN     NaN     NaN  NaN   \n",
       "3    NaN  NaN  NaN  NaN  NaN  NaN  NaN  NaN  NaN     NaN     NaN     NaN  NaN   \n",
       "4    NaN  NaN  NaN  NaN  NaN  NaN  NaN  NaN  NaN     NaN     NaN     NaN  NaN   \n",
       "\n",
       "  NONDIC NREC NRECA NRECB OCCREF OFFICC OFFRE PASTRA PASTRB PASTRF PERCREV  \\\n",
       "0    NaN  NaN   NaN   NaN      2      2   NaN    NaN    NaN    NaN     NaN   \n",
       "1    NaN  NaN   NaN   NaN      2      2   NaN    NaN    NaN    NaN     NaN   \n",
       "2    NaN  NaN   NaN   NaN      2      2   NaN    NaN    NaN    NaN     NaN   \n",
       "3    NaN  NaN   NaN   NaN      2      2   NaN    NaN    NaN    NaN     NaN   \n",
       "4    NaN  NaN   NaN   NaN      2      2   NaN    NaN    NaN    NaN     NaN   \n",
       "\n",
       "  RABS RAISNREC RAISNSOU RAISPAS SOU SOUA SOUB SOUC SOUSEMPL STCHE TEMP  \\\n",
       "0  NaN      NaN      NaN     NaN   2    2    2  NaN      NaN   NaN  NaN   \n",
       "1  NaN      NaN      NaN     NaN   2    2    2  NaN      NaN   NaN  NaN   \n",
       "2  NaN      NaN      NaN     NaN   2    2    2  NaN      NaN   NaN  NaN   \n",
       "3  NaN      NaN      NaN     NaN   2    2    2  NaN      NaN   NaN  NaN   \n",
       "4  NaN      NaN      NaN     NaN   2    2    2  NaN      NaN   NaN  NaN   \n",
       "\n",
       "  TRAREF TYPCONT TYPCONTB CHPUB CSE CSER CSP CSTOT CSTOTR FONCTC NAFG004UN  \\\n",
       "0      1     NaN      NaN     2  52    5  52    52      5      9        EV   \n",
       "1      1     NaN      NaN     1  67    6  67    67      6      1        ET   \n",
       "2      1     NaN      NaN     1  47    4  47    47      4      2        EV   \n",
       "3      1     NaN      NaN     2  52    5  52    52      5      9        EV   \n",
       "4      1     NaN      NaN     1  67    6  67    67      6      1        ET   \n",
       "\n",
       "  NAFG010UN NAFG017UN NAFG021UN NAFG038UN NAFG088UN PUB3FP QPRC STC CONTRA  \\\n",
       "0        OQ        OQ         Q        QA        86      3    4   3      1   \n",
       "1        BE        C1         C        CA        10      4    1   3      2   \n",
       "2        KZ        KZ         K        KZ        65      4    3   3      1   \n",
       "3        OQ        OQ         Q        QA        86      3    4   3      1   \n",
       "4        BE        C1         C        CA        10      4    1   3      2   \n",
       "\n",
       "  RDET STAT2 STATOEP STATUT STATUTR TITC CSTMN CSTPLC DISPPLC DUHAB GARDEA  \\\n",
       "0  NaN     2      45     35       5  NaN   NaN    NaN     NaN     6    NaN   \n",
       "1    2     2      33     33       4  NaN   NaN    NaN     NaN     5    NaN   \n",
       "2  NaN     2      35     35       5  NaN   NaN    NaN     NaN     6    NaN   \n",
       "3  NaN     2      45     35       5  NaN   NaN    NaN     NaN     6    NaN   \n",
       "4    2     2      33     33       4  NaN   NaN    NaN     NaN     5    NaN   \n",
       "\n",
       "  HHC6 HORAIC RAISON RAISTP STMN STPLC TPPRED TXTPPRED ANCENTR4 SITANT  AAC  \\\n",
       "0    4      1    NaN    NaN    2     2      1      NaN        4      1  NaN   \n",
       "1    3      2    NaN    NaN    2     2      1      NaN        1      1  NaN   \n",
       "2    4      2    NaN    NaN    2     2      1      NaN        1      4  NaN   \n",
       "3    4      1    NaN    NaN    2     2      1      NaN        4      1  NaN   \n",
       "4    3      2    NaN    NaN    2     2      1      NaN        1      1  NaN   \n",
       "\n",
       "   CSA NAFANT NAFANTG004 DIP11 CSTOTPRM IDENTM     EXTRIAN  EMPNBH  HREC  \\\n",
       "0  NaN    NaN        NaN    30       52      1  263.388752    37.0   NaN   \n",
       "1  NaN    NaN        NaN    42       52      1  263.388752    32.0   NaN   \n",
       "2  NaN    NaN        NaN    31       52      1  263.388752    38.0   NaN   \n",
       "3  NaN    NaN        NaN    30       52      2  176.893923    37.0   NaN   \n",
       "4  NaN    NaN        NaN    42       52      2  176.893923    40.0   NaN   \n",
       "\n",
       "   HHCE  HPLUSA  JOURTR  NBTOTE  \n",
       "0  37.0     NaN     5.0     NaN  \n",
       "1  32.0     NaN     4.0     NaN  \n",
       "2  38.0     NaN     5.0     NaN  \n",
       "3  37.0     NaN     5.0     NaN  \n",
       "4  32.0     NaN     4.0     NaN  "
      ]
     },
     "execution_count": 168,
     "metadata": {},
     "output_type": "execute_result"
    }
   ],
   "source": [
    "from simpledbf import Dbf5\n",
    "dataset = Dbf5(\"fdeec17.dbf\").to_dataframe()\n",
    "dataset.head()"
   ]
  },
  {
   "cell_type": "code",
   "execution_count": 5,
   "metadata": {
    "colab": {},
    "colab_type": "code",
    "id": "waDEF5_2U9bD"
   },
   "outputs": [],
   "source": [
    "import matplotlib.pyplot as plt"
   ]
  },
  {
   "cell_type": "markdown",
   "metadata": {
    "colab_type": "text",
    "id": "DhqXJDXCY49a"
   },
   "source": [
    "* By doing a [pie-chart](https://matplotlib.org/3.1.1/api/_as_gen/matplotlib.pyplot.pie.html), show the share of unemployed, inactive and employed persons in France from the variable ACTEU. Be careful to make it appear : \n",
    "\n",
    "  * The percentage of each party \n",
    "  * A legend "
   ]
  },
  {
   "cell_type": "markdown",
   "metadata": {},
   "source": [
    "## Analyse du jeu de données\n",
    "Ce dataset est le résultat d'une enquête statistique\n",
    "\n",
    "- Une enquête est une opération qui vise à aller récupérer un échantillon d'une population. On ne possède donc pas la totalité des chiffres sur l'emploi ici.\n",
    "\n",
    "- Néanmoins dans une enquête l'échantillon choisi est supposé être \"représentatif\". C'est-à-dire qu'on va récupérer des données au sein de la population en s'assurant que la distribution des individus soit la même que dans la population globals => On couvre l'ensemble du territoire ainsi que l'ensemble des Métiers possibles. De plus on s'assure d'avoir une répartition en âge et en genre qui soit la même que dans la population globale.\n",
    "\n",
    "- Cet échantillon va ensuite pouvoir être analysé dans le but d'en déduire des caractéristiques sur la population"
   ]
  },
  {
   "cell_type": "code",
   "execution_count": 173,
   "metadata": {},
   "outputs": [
    {
     "name": "stdout",
     "output_type": "stream",
     "text": [
      "(428642, 125)\n"
     ]
    },
    {
     "data": {
      "text/html": [
       "<div>\n",
       "<style scoped>\n",
       "    .dataframe tbody tr th:only-of-type {\n",
       "        vertical-align: middle;\n",
       "    }\n",
       "\n",
       "    .dataframe tbody tr th {\n",
       "        vertical-align: top;\n",
       "    }\n",
       "\n",
       "    .dataframe thead th {\n",
       "        text-align: right;\n",
       "    }\n",
       "</style>\n",
       "<table border=\"1\" class=\"dataframe\">\n",
       "  <thead>\n",
       "    <tr style=\"text-align: right;\">\n",
       "      <th></th>\n",
       "      <th>ANNEE</th>\n",
       "      <th>TRIM</th>\n",
       "      <th>CATAU2010R</th>\n",
       "      <th>METRODOM</th>\n",
       "      <th>TYPMEN7</th>\n",
       "      <th>AGE3</th>\n",
       "      <th>AGE5</th>\n",
       "      <th>COURED</th>\n",
       "      <th>ENFRED</th>\n",
       "      <th>NFRRED</th>\n",
       "      <th>SEXE</th>\n",
       "      <th>ACTEU</th>\n",
       "      <th>ACTEU6</th>\n",
       "      <th>ACTIF</th>\n",
       "      <th>ACTOP</th>\n",
       "      <th>AIDFAM</th>\n",
       "      <th>ANCCHOM</th>\n",
       "      <th>ANCINACT</th>\n",
       "      <th>CONTACT</th>\n",
       "      <th>CREACCP</th>\n",
       "      <th>DEM</th>\n",
       "      <th>DISPOC</th>\n",
       "      <th>GARDEB</th>\n",
       "      <th>HALOR</th>\n",
       "      <th>INSCONT</th>\n",
       "      <th>MRA</th>\n",
       "      <th>MRB</th>\n",
       "      <th>MRBBIS</th>\n",
       "      <th>MRC</th>\n",
       "      <th>MRD</th>\n",
       "      <th>MRDBIS</th>\n",
       "      <th>MRE</th>\n",
       "      <th>MREC</th>\n",
       "      <th>MRF</th>\n",
       "      <th>MRG</th>\n",
       "      <th>MRGBIS</th>\n",
       "      <th>MRH</th>\n",
       "      <th>MRI</th>\n",
       "      <th>MRJ</th>\n",
       "      <th>MRK</th>\n",
       "      <th>MRL</th>\n",
       "      <th>MRM</th>\n",
       "      <th>MRN</th>\n",
       "      <th>MRO</th>\n",
       "      <th>MRPASSA</th>\n",
       "      <th>MRPASSB</th>\n",
       "      <th>MRPASSC</th>\n",
       "      <th>MRS</th>\n",
       "      <th>NONDIC</th>\n",
       "      <th>NREC</th>\n",
       "      <th>NRECA</th>\n",
       "      <th>NRECB</th>\n",
       "      <th>OCCREF</th>\n",
       "      <th>OFFICC</th>\n",
       "      <th>OFFRE</th>\n",
       "      <th>PASTRA</th>\n",
       "      <th>PASTRB</th>\n",
       "      <th>PASTRF</th>\n",
       "      <th>PERCREV</th>\n",
       "      <th>RABS</th>\n",
       "      <th>RAISNREC</th>\n",
       "      <th>RAISNSOU</th>\n",
       "      <th>RAISPAS</th>\n",
       "      <th>SOU</th>\n",
       "      <th>SOUA</th>\n",
       "      <th>SOUB</th>\n",
       "      <th>SOUC</th>\n",
       "      <th>SOUSEMPL</th>\n",
       "      <th>STCHE</th>\n",
       "      <th>TEMP</th>\n",
       "      <th>TRAREF</th>\n",
       "      <th>TYPCONT</th>\n",
       "      <th>TYPCONTB</th>\n",
       "      <th>CHPUB</th>\n",
       "      <th>CSE</th>\n",
       "      <th>CSER</th>\n",
       "      <th>CSP</th>\n",
       "      <th>CSTOT</th>\n",
       "      <th>CSTOTR</th>\n",
       "      <th>FONCTC</th>\n",
       "      <th>NAFG004UN</th>\n",
       "      <th>NAFG010UN</th>\n",
       "      <th>NAFG017UN</th>\n",
       "      <th>NAFG021UN</th>\n",
       "      <th>NAFG038UN</th>\n",
       "      <th>NAFG088UN</th>\n",
       "      <th>PUB3FP</th>\n",
       "      <th>QPRC</th>\n",
       "      <th>STC</th>\n",
       "      <th>CONTRA</th>\n",
       "      <th>RDET</th>\n",
       "      <th>STAT2</th>\n",
       "      <th>STATOEP</th>\n",
       "      <th>STATUT</th>\n",
       "      <th>STATUTR</th>\n",
       "      <th>TITC</th>\n",
       "      <th>CSTMN</th>\n",
       "      <th>CSTPLC</th>\n",
       "      <th>DISPPLC</th>\n",
       "      <th>DUHAB</th>\n",
       "      <th>GARDEA</th>\n",
       "      <th>HHC6</th>\n",
       "      <th>HORAIC</th>\n",
       "      <th>RAISON</th>\n",
       "      <th>RAISTP</th>\n",
       "      <th>STMN</th>\n",
       "      <th>STPLC</th>\n",
       "      <th>TPPRED</th>\n",
       "      <th>TXTPPRED</th>\n",
       "      <th>ANCENTR4</th>\n",
       "      <th>SITANT</th>\n",
       "      <th>AAC</th>\n",
       "      <th>CSA</th>\n",
       "      <th>NAFANT</th>\n",
       "      <th>NAFANTG004</th>\n",
       "      <th>DIP11</th>\n",
       "      <th>CSTOTPRM</th>\n",
       "      <th>IDENTM</th>\n",
       "      <th>EXTRIAN</th>\n",
       "      <th>EMPNBH</th>\n",
       "      <th>HREC</th>\n",
       "      <th>HHCE</th>\n",
       "      <th>HPLUSA</th>\n",
       "      <th>JOURTR</th>\n",
       "      <th>NBTOTE</th>\n",
       "    </tr>\n",
       "  </thead>\n",
       "  <tbody>\n",
       "    <tr>\n",
       "      <th>83</th>\n",
       "      <td>2017</td>\n",
       "      <td>2</td>\n",
       "      <td>1</td>\n",
       "      <td>1</td>\n",
       "      <td>9</td>\n",
       "      <td>15</td>\n",
       "      <td>15</td>\n",
       "      <td>1</td>\n",
       "      <td>2</td>\n",
       "      <td>1</td>\n",
       "      <td>2</td>\n",
       "      <td>3</td>\n",
       "      <td>6</td>\n",
       "      <td>2</td>\n",
       "      <td>2</td>\n",
       "      <td>2</td>\n",
       "      <td>NaN</td>\n",
       "      <td>2</td>\n",
       "      <td>NaN</td>\n",
       "      <td>NaN</td>\n",
       "      <td>0</td>\n",
       "      <td>NaN</td>\n",
       "      <td>NaN</td>\n",
       "      <td>2</td>\n",
       "      <td>NaN</td>\n",
       "      <td>NaN</td>\n",
       "      <td>NaN</td>\n",
       "      <td>NaN</td>\n",
       "      <td>NaN</td>\n",
       "      <td>NaN</td>\n",
       "      <td>NaN</td>\n",
       "      <td>NaN</td>\n",
       "      <td>2</td>\n",
       "      <td>NaN</td>\n",
       "      <td>NaN</td>\n",
       "      <td>NaN</td>\n",
       "      <td>NaN</td>\n",
       "      <td>NaN</td>\n",
       "      <td>NaN</td>\n",
       "      <td>NaN</td>\n",
       "      <td>NaN</td>\n",
       "      <td>NaN</td>\n",
       "      <td>NaN</td>\n",
       "      <td>NaN</td>\n",
       "      <td>NaN</td>\n",
       "      <td>NaN</td>\n",
       "      <td>NaN</td>\n",
       "      <td>NaN</td>\n",
       "      <td>NaN</td>\n",
       "      <td>NaN</td>\n",
       "      <td>NaN</td>\n",
       "      <td>NaN</td>\n",
       "      <td>1</td>\n",
       "      <td>1</td>\n",
       "      <td>2</td>\n",
       "      <td>2</td>\n",
       "      <td>2</td>\n",
       "      <td>2</td>\n",
       "      <td>NaN</td>\n",
       "      <td>NaN</td>\n",
       "      <td>NaN</td>\n",
       "      <td>6</td>\n",
       "      <td>NaN</td>\n",
       "      <td>2</td>\n",
       "      <td>NaN</td>\n",
       "      <td>NaN</td>\n",
       "      <td>2</td>\n",
       "      <td>NaN</td>\n",
       "      <td>NaN</td>\n",
       "      <td>NaN</td>\n",
       "      <td>2</td>\n",
       "      <td>1</td>\n",
       "      <td>1</td>\n",
       "      <td>NaN</td>\n",
       "      <td>NaN</td>\n",
       "      <td>NaN</td>\n",
       "      <td>NaN</td>\n",
       "      <td>78</td>\n",
       "      <td>7</td>\n",
       "      <td>NaN</td>\n",
       "      <td>NaN</td>\n",
       "      <td>NaN</td>\n",
       "      <td>NaN</td>\n",
       "      <td>NaN</td>\n",
       "      <td>NaN</td>\n",
       "      <td>NaN</td>\n",
       "      <td>NaN</td>\n",
       "      <td>NaN</td>\n",
       "      <td>NaN</td>\n",
       "      <td>NaN</td>\n",
       "      <td>NaN</td>\n",
       "      <td>NaN</td>\n",
       "      <td>NaN</td>\n",
       "      <td>NaN</td>\n",
       "      <td>NaN</td>\n",
       "      <td>NaN</td>\n",
       "      <td>NaN</td>\n",
       "      <td>NaN</td>\n",
       "      <td>NaN</td>\n",
       "      <td>NaN</td>\n",
       "      <td>NaN</td>\n",
       "      <td>NaN</td>\n",
       "      <td>NaN</td>\n",
       "      <td>NaN</td>\n",
       "      <td>NaN</td>\n",
       "      <td>NaN</td>\n",
       "      <td>NaN</td>\n",
       "      <td>NaN</td>\n",
       "      <td>NaN</td>\n",
       "      <td>NaN</td>\n",
       "      <td>NaN</td>\n",
       "      <td>1</td>\n",
       "      <td>68</td>\n",
       "      <td>81</td>\n",
       "      <td>EV</td>\n",
       "      <td>60</td>\n",
       "      <td>56</td>\n",
       "      <td>50</td>\n",
       "      <td>143.105789</td>\n",
       "      <td>NaN</td>\n",
       "      <td>NaN</td>\n",
       "      <td>NaN</td>\n",
       "      <td>NaN</td>\n",
       "      <td>NaN</td>\n",
       "      <td>NaN</td>\n",
       "    </tr>\n",
       "    <tr>\n",
       "      <th>84</th>\n",
       "      <td>2017</td>\n",
       "      <td>2</td>\n",
       "      <td>1</td>\n",
       "      <td>1</td>\n",
       "      <td>9</td>\n",
       "      <td>15</td>\n",
       "      <td>15</td>\n",
       "      <td>1</td>\n",
       "      <td>2</td>\n",
       "      <td>1</td>\n",
       "      <td>1</td>\n",
       "      <td>1</td>\n",
       "      <td>1</td>\n",
       "      <td>1</td>\n",
       "      <td>1</td>\n",
       "      <td>NaN</td>\n",
       "      <td>NaN</td>\n",
       "      <td>NaN</td>\n",
       "      <td>NaN</td>\n",
       "      <td>NaN</td>\n",
       "      <td>0</td>\n",
       "      <td>NaN</td>\n",
       "      <td>NaN</td>\n",
       "      <td>2</td>\n",
       "      <td>NaN</td>\n",
       "      <td>NaN</td>\n",
       "      <td>NaN</td>\n",
       "      <td>NaN</td>\n",
       "      <td>NaN</td>\n",
       "      <td>NaN</td>\n",
       "      <td>NaN</td>\n",
       "      <td>NaN</td>\n",
       "      <td>NaN</td>\n",
       "      <td>NaN</td>\n",
       "      <td>NaN</td>\n",
       "      <td>NaN</td>\n",
       "      <td>NaN</td>\n",
       "      <td>NaN</td>\n",
       "      <td>NaN</td>\n",
       "      <td>NaN</td>\n",
       "      <td>NaN</td>\n",
       "      <td>NaN</td>\n",
       "      <td>NaN</td>\n",
       "      <td>NaN</td>\n",
       "      <td>NaN</td>\n",
       "      <td>NaN</td>\n",
       "      <td>NaN</td>\n",
       "      <td>NaN</td>\n",
       "      <td>NaN</td>\n",
       "      <td>NaN</td>\n",
       "      <td>NaN</td>\n",
       "      <td>NaN</td>\n",
       "      <td>2</td>\n",
       "      <td>2</td>\n",
       "      <td>NaN</td>\n",
       "      <td>NaN</td>\n",
       "      <td>NaN</td>\n",
       "      <td>NaN</td>\n",
       "      <td>NaN</td>\n",
       "      <td>NaN</td>\n",
       "      <td>NaN</td>\n",
       "      <td>NaN</td>\n",
       "      <td>NaN</td>\n",
       "      <td>2</td>\n",
       "      <td>2</td>\n",
       "      <td>2</td>\n",
       "      <td>NaN</td>\n",
       "      <td>NaN</td>\n",
       "      <td>NaN</td>\n",
       "      <td>NaN</td>\n",
       "      <td>1</td>\n",
       "      <td>NaN</td>\n",
       "      <td>NaN</td>\n",
       "      <td>1</td>\n",
       "      <td>56</td>\n",
       "      <td>5</td>\n",
       "      <td>56</td>\n",
       "      <td>56</td>\n",
       "      <td>5</td>\n",
       "      <td>NaN</td>\n",
       "      <td>EV</td>\n",
       "      <td>GI</td>\n",
       "      <td>IZ</td>\n",
       "      <td>I</td>\n",
       "      <td>IZ</td>\n",
       "      <td>55</td>\n",
       "      <td>4</td>\n",
       "      <td>9</td>\n",
       "      <td>3</td>\n",
       "      <td>2</td>\n",
       "      <td>2</td>\n",
       "      <td>2</td>\n",
       "      <td>33</td>\n",
       "      <td>33</td>\n",
       "      <td>4</td>\n",
       "      <td>NaN</td>\n",
       "      <td>NaN</td>\n",
       "      <td>NaN</td>\n",
       "      <td>NaN</td>\n",
       "      <td>6</td>\n",
       "      <td>NaN</td>\n",
       "      <td>4</td>\n",
       "      <td>1</td>\n",
       "      <td>NaN</td>\n",
       "      <td>NaN</td>\n",
       "      <td>2</td>\n",
       "      <td>2</td>\n",
       "      <td>1</td>\n",
       "      <td>NaN</td>\n",
       "      <td>1</td>\n",
       "      <td>2</td>\n",
       "      <td>NaN</td>\n",
       "      <td>NaN</td>\n",
       "      <td>NaN</td>\n",
       "      <td>NaN</td>\n",
       "      <td>71</td>\n",
       "      <td>56</td>\n",
       "      <td>50</td>\n",
       "      <td>143.105789</td>\n",
       "      <td>36.0</td>\n",
       "      <td>NaN</td>\n",
       "      <td>35.0</td>\n",
       "      <td>NaN</td>\n",
       "      <td>5.0</td>\n",
       "      <td>NaN</td>\n",
       "    </tr>\n",
       "    <tr>\n",
       "      <th>85</th>\n",
       "      <td>2017</td>\n",
       "      <td>2</td>\n",
       "      <td>1</td>\n",
       "      <td>1</td>\n",
       "      <td>9</td>\n",
       "      <td>50</td>\n",
       "      <td>60</td>\n",
       "      <td>2</td>\n",
       "      <td>1</td>\n",
       "      <td>1</td>\n",
       "      <td>2</td>\n",
       "      <td>3</td>\n",
       "      <td>6</td>\n",
       "      <td>2</td>\n",
       "      <td>2</td>\n",
       "      <td>2</td>\n",
       "      <td>NaN</td>\n",
       "      <td>8</td>\n",
       "      <td>NaN</td>\n",
       "      <td>NaN</td>\n",
       "      <td>0</td>\n",
       "      <td>NaN</td>\n",
       "      <td>NaN</td>\n",
       "      <td>2</td>\n",
       "      <td>NaN</td>\n",
       "      <td>NaN</td>\n",
       "      <td>NaN</td>\n",
       "      <td>NaN</td>\n",
       "      <td>NaN</td>\n",
       "      <td>NaN</td>\n",
       "      <td>NaN</td>\n",
       "      <td>NaN</td>\n",
       "      <td>2</td>\n",
       "      <td>NaN</td>\n",
       "      <td>NaN</td>\n",
       "      <td>NaN</td>\n",
       "      <td>NaN</td>\n",
       "      <td>NaN</td>\n",
       "      <td>NaN</td>\n",
       "      <td>NaN</td>\n",
       "      <td>NaN</td>\n",
       "      <td>NaN</td>\n",
       "      <td>NaN</td>\n",
       "      <td>NaN</td>\n",
       "      <td>NaN</td>\n",
       "      <td>NaN</td>\n",
       "      <td>NaN</td>\n",
       "      <td>NaN</td>\n",
       "      <td>NaN</td>\n",
       "      <td>NaN</td>\n",
       "      <td>NaN</td>\n",
       "      <td>NaN</td>\n",
       "      <td>1</td>\n",
       "      <td>NaN</td>\n",
       "      <td>NaN</td>\n",
       "      <td>2</td>\n",
       "      <td>2</td>\n",
       "      <td>2</td>\n",
       "      <td>NaN</td>\n",
       "      <td>NaN</td>\n",
       "      <td>NaN</td>\n",
       "      <td>5</td>\n",
       "      <td>NaN</td>\n",
       "      <td>2</td>\n",
       "      <td>NaN</td>\n",
       "      <td>NaN</td>\n",
       "      <td>2</td>\n",
       "      <td>NaN</td>\n",
       "      <td>NaN</td>\n",
       "      <td>NaN</td>\n",
       "      <td>2</td>\n",
       "      <td>NaN</td>\n",
       "      <td>NaN</td>\n",
       "      <td>NaN</td>\n",
       "      <td>NaN</td>\n",
       "      <td>NaN</td>\n",
       "      <td>NaN</td>\n",
       "      <td>75</td>\n",
       "      <td>7</td>\n",
       "      <td>NaN</td>\n",
       "      <td>NaN</td>\n",
       "      <td>NaN</td>\n",
       "      <td>NaN</td>\n",
       "      <td>NaN</td>\n",
       "      <td>NaN</td>\n",
       "      <td>NaN</td>\n",
       "      <td>NaN</td>\n",
       "      <td>NaN</td>\n",
       "      <td>NaN</td>\n",
       "      <td>NaN</td>\n",
       "      <td>NaN</td>\n",
       "      <td>NaN</td>\n",
       "      <td>NaN</td>\n",
       "      <td>NaN</td>\n",
       "      <td>NaN</td>\n",
       "      <td>NaN</td>\n",
       "      <td>NaN</td>\n",
       "      <td>NaN</td>\n",
       "      <td>NaN</td>\n",
       "      <td>NaN</td>\n",
       "      <td>NaN</td>\n",
       "      <td>NaN</td>\n",
       "      <td>NaN</td>\n",
       "      <td>NaN</td>\n",
       "      <td>NaN</td>\n",
       "      <td>NaN</td>\n",
       "      <td>NaN</td>\n",
       "      <td>NaN</td>\n",
       "      <td>NaN</td>\n",
       "      <td>NaN</td>\n",
       "      <td>NaN</td>\n",
       "      <td>1</td>\n",
       "      <td>46</td>\n",
       "      <td>73</td>\n",
       "      <td>EV</td>\n",
       "      <td>60</td>\n",
       "      <td>56</td>\n",
       "      <td>50</td>\n",
       "      <td>143.105789</td>\n",
       "      <td>NaN</td>\n",
       "      <td>NaN</td>\n",
       "      <td>NaN</td>\n",
       "      <td>NaN</td>\n",
       "      <td>NaN</td>\n",
       "      <td>NaN</td>\n",
       "    </tr>\n",
       "  </tbody>\n",
       "</table>\n",
       "</div>"
      ],
      "text/plain": [
       "   ANNEE TRIM CATAU2010R METRODOM TYPMEN7 AGE3 AGE5 COURED ENFRED NFRRED SEXE  \\\n",
       "83  2017    2          1        1       9   15   15      1      2      1    2   \n",
       "84  2017    2          1        1       9   15   15      1      2      1    1   \n",
       "85  2017    2          1        1       9   50   60      2      1      1    2   \n",
       "\n",
       "   ACTEU ACTEU6 ACTIF ACTOP AIDFAM ANCCHOM ANCINACT CONTACT CREACCP DEM  \\\n",
       "83     3      6     2     2      2     NaN        2     NaN     NaN   0   \n",
       "84     1      1     1     1    NaN     NaN      NaN     NaN     NaN   0   \n",
       "85     3      6     2     2      2     NaN        8     NaN     NaN   0   \n",
       "\n",
       "   DISPOC GARDEB HALOR INSCONT  MRA  MRB MRBBIS  MRC  MRD MRDBIS  MRE MREC  \\\n",
       "83    NaN    NaN     2     NaN  NaN  NaN    NaN  NaN  NaN    NaN  NaN    2   \n",
       "84    NaN    NaN     2     NaN  NaN  NaN    NaN  NaN  NaN    NaN  NaN  NaN   \n",
       "85    NaN    NaN     2     NaN  NaN  NaN    NaN  NaN  NaN    NaN  NaN    2   \n",
       "\n",
       "    MRF  MRG MRGBIS  MRH  MRI  MRJ  MRK  MRL  MRM  MRN  MRO MRPASSA MRPASSB  \\\n",
       "83  NaN  NaN    NaN  NaN  NaN  NaN  NaN  NaN  NaN  NaN  NaN     NaN     NaN   \n",
       "84  NaN  NaN    NaN  NaN  NaN  NaN  NaN  NaN  NaN  NaN  NaN     NaN     NaN   \n",
       "85  NaN  NaN    NaN  NaN  NaN  NaN  NaN  NaN  NaN  NaN  NaN     NaN     NaN   \n",
       "\n",
       "   MRPASSC  MRS NONDIC NREC NRECA NRECB OCCREF OFFICC OFFRE PASTRA PASTRB  \\\n",
       "83     NaN  NaN    NaN  NaN   NaN   NaN      1      1     2      2      2   \n",
       "84     NaN  NaN    NaN  NaN   NaN   NaN      2      2   NaN    NaN    NaN   \n",
       "85     NaN  NaN    NaN  NaN   NaN   NaN      1    NaN   NaN      2      2   \n",
       "\n",
       "   PASTRF PERCREV RABS RAISNREC RAISNSOU RAISPAS SOU SOUA SOUB SOUC SOUSEMPL  \\\n",
       "83      2     NaN  NaN      NaN        6     NaN   2  NaN  NaN    2      NaN   \n",
       "84    NaN     NaN  NaN      NaN      NaN     NaN   2    2    2  NaN      NaN   \n",
       "85      2     NaN  NaN      NaN        5     NaN   2  NaN  NaN    2      NaN   \n",
       "\n",
       "   STCHE TEMP TRAREF TYPCONT TYPCONTB CHPUB  CSE CSER  CSP CSTOT CSTOTR  \\\n",
       "83   NaN  NaN      2       1        1   NaN  NaN  NaN  NaN    78      7   \n",
       "84   NaN  NaN      1     NaN      NaN     1   56    5   56    56      5   \n",
       "85   NaN  NaN      2     NaN      NaN   NaN  NaN  NaN  NaN    75      7   \n",
       "\n",
       "   FONCTC NAFG004UN NAFG010UN NAFG017UN NAFG021UN NAFG038UN NAFG088UN PUB3FP  \\\n",
       "83    NaN       NaN       NaN       NaN       NaN       NaN       NaN    NaN   \n",
       "84    NaN        EV        GI        IZ         I        IZ        55      4   \n",
       "85    NaN       NaN       NaN       NaN       NaN       NaN       NaN    NaN   \n",
       "\n",
       "   QPRC  STC CONTRA RDET STAT2 STATOEP STATUT STATUTR TITC CSTMN CSTPLC  \\\n",
       "83  NaN  NaN    NaN  NaN   NaN     NaN    NaN     NaN  NaN   NaN    NaN   \n",
       "84    9    3      2    2     2      33     33       4  NaN   NaN    NaN   \n",
       "85  NaN  NaN    NaN  NaN   NaN     NaN    NaN     NaN  NaN   NaN    NaN   \n",
       "\n",
       "   DISPPLC DUHAB GARDEA HHC6 HORAIC RAISON RAISTP STMN STPLC TPPRED TXTPPRED  \\\n",
       "83     NaN   NaN    NaN  NaN    NaN    NaN    NaN  NaN   NaN    NaN      NaN   \n",
       "84     NaN     6    NaN    4      1    NaN    NaN    2     2      1      NaN   \n",
       "85     NaN   NaN    NaN  NaN    NaN    NaN    NaN  NaN   NaN    NaN      NaN   \n",
       "\n",
       "   ANCENTR4 SITANT  AAC  CSA NAFANT NAFANTG004 DIP11 CSTOTPRM IDENTM  \\\n",
       "83      NaN    NaN    1   68     81         EV    60       56     50   \n",
       "84        1      2  NaN  NaN    NaN        NaN    71       56     50   \n",
       "85      NaN    NaN    1   46     73         EV    60       56     50   \n",
       "\n",
       "       EXTRIAN  EMPNBH  HREC  HHCE  HPLUSA  JOURTR  NBTOTE  \n",
       "83  143.105789     NaN   NaN   NaN     NaN     NaN     NaN  \n",
       "84  143.105789    36.0   NaN  35.0     NaN     5.0     NaN  \n",
       "85  143.105789     NaN   NaN   NaN     NaN     NaN     NaN  "
      ]
     },
     "metadata": {},
     "output_type": "display_data"
    },
    {
     "name": "stdout",
     "output_type": "stream",
     "text": [
      "['2017']\n",
      "['1' '3' '2' '4']\n",
      "1    109045\n",
      "2    107835\n",
      "4    107397\n",
      "3    104365\n",
      "Name: TRIM, dtype: int64\n"
     ]
    }
   ],
   "source": [
    "# cette commande permet d'afficher plus de colonnes dans les dataframe, très pratique car souvent coupées\n",
    "import pandas as pd\n",
    "pd.set_option(\"display.max_columns\", 125)\n",
    "\n",
    "# taille de l'échantillon, on voit bien qu'on n'a qu'une sous population (on ne possède même pas 70 000 000 de lignes (population française))\n",
    "print(dataset.shape)\n",
    "\n",
    "# 1 ligne du dataset correspond aux données d'un individu Pour un trimestre de l'année\n",
    "# Un ménage (une adresse) est référencé par la variable IDENTM, il peut donc y avoir plusieurs\n",
    "# individus par ménage\n",
    "display(dataset[dataset[\"IDENTM\"]==\"50\"])\n",
    "\n",
    "# On voit qu'on a les données de 2017\n",
    "print(dataset[\"ANNEE\"].unique())\n",
    "\n",
    "# On voit qu'on a les données sur les 4 trimestres de 2017\n",
    "print(dataset[\"TRIM\"].unique())\n",
    "\n",
    "# Répartition par trimestre\n",
    "print(dataset[\"TRIM\"].value_counts())"
   ]
  },
  {
   "cell_type": "code",
   "execution_count": 6,
   "metadata": {
    "colab": {
     "base_uri": "https://localhost:8080/",
     "height": 34
    },
    "colab_type": "code",
    "id": "b8yj11mxM_Nf",
    "outputId": "b4565567-f00c-4fcb-c04f-41904d86ade3"
   },
   "outputs": [
    {
     "data": {
      "text/plain": [
       "array(['1', '3', '2', nan], dtype=object)"
      ]
     },
     "execution_count": 6,
     "metadata": {},
     "output_type": "execute_result"
    }
   ],
   "source": [
    "# La variable ACTEU renseigne sur l'activité d'un individu.\n",
    "dataset.ACTEU.unique()"
   ]
  },
  {
   "cell_type": "code",
   "execution_count": 33,
   "metadata": {
    "colab": {},
    "colab_type": "code",
    "id": "4h1KGsteaRRO"
   },
   "outputs": [],
   "source": [
    "unemployed = dataset.ACTEU.apply(lambda x: \"employed\" if x==\"1\" \n",
    "                                       else \"unemployed\" if x == \"2\"\n",
    "                                       else \"inactive\" if x==\"3\" \n",
    "                                       else \"NAN\")"
   ]
  },
  {
   "cell_type": "code",
   "execution_count": 50,
   "metadata": {
    "colab": {
     "base_uri": "https://localhost:8080/",
     "height": 102
    },
    "colab_type": "code",
    "id": "tZVEocaXZwVu",
    "outputId": "99c5222a-7831-4cc1-ccdd-ffd46d7dcae1"
   },
   "outputs": [
    {
     "data": {
      "text/plain": [
       "inactive      207520\n",
       "employed      198054\n",
       "unemployed     21864\n",
       "NAN             1204\n",
       "Name: ACTEU, dtype: int64"
      ]
     },
     "execution_count": 50,
     "metadata": {},
     "output_type": "execute_result"
    }
   ],
   "source": [
    "pie_chart_data = unemployed.value_counts()\n",
    "pie_chart_data"
   ]
  },
  {
   "cell_type": "code",
   "execution_count": 51,
   "metadata": {
    "colab": {},
    "colab_type": "code",
    "id": "6wqRy7AddQVe"
   },
   "outputs": [],
   "source": [
    "explode = (0.2,0.2,0.5,0.1)"
   ]
  },
  {
   "cell_type": "code",
   "execution_count": 179,
   "metadata": {
    "colab": {
     "base_uri": "https://localhost:8080/",
     "height": 358
    },
    "colab_type": "code",
    "id": "IQYfutZAY3nA",
    "outputId": "a49b6d8b-e693-4490-8a2f-238189535e92"
   },
   "outputs": [
    {
     "data": {
      "image/png": "[encoded data removed]",
      "text/plain": [
       "<Figure size 432x288 with 1 Axes>"
      ]
     },
     "metadata": {},
     "output_type": "display_data"
    }
   ],
   "source": [
    "fig, ax = plt.subplots()\n",
    "plt.pie(pie_chart_data.values, #labels=pie_chart_data.index,  \n",
    "       autopct='%1.1f%%',\n",
    "       shadow=True, \n",
    "       startangle=90,\n",
    "       explode=explode,\n",
    "       radius=1.5)\n",
    "fig.legend(pie_chart_data.index)\n",
    "plt.show()"
   ]
  },
  {
   "cell_type": "markdown",
   "metadata": {
    "colab_type": "text",
    "id": "WymEmd73g2Wi"
   },
   "source": [
    "---> The unemployment figure seems low and, if we look at the explanation of the *inactive*, it seems to include a lot of people (students, people not looking for work, etc.)."
   ]
  },
  {
   "cell_type": "markdown",
   "metadata": {
    "colab_type": "text",
    "id": "mX9t8VnQhCu0"
   },
   "source": [
    "* Make the same graph on the variable ACTEU6 which is more precise on the type of actives."
   ]
  },
  {
   "cell_type": "code",
   "execution_count": 38,
   "metadata": {
    "colab": {},
    "colab_type": "code",
    "id": "2GvU42xLbQT0"
   },
   "outputs": [],
   "source": [
    "unemployed = dataset.ACTEU6.apply(lambda x:\"employed\" if x==\"1\" \n",
    "                                    else \"unemployed PSERE\" if x == \"3\" \n",
    "                                    else \"other unemployed BIT\" if x==\"4\" \n",
    "                                    else \"student\" if x==\"5\"\n",
    "                                    else \"other inactive (retired included)\" if x==\"6\"\n",
    "                                    else \"NAN\")\n",
    "\n",
    "pie_chart_data = unemployed.value_counts()"
   ]
  },
  {
   "cell_type": "code",
   "execution_count": 165,
   "metadata": {
    "colab": {
     "base_uri": "https://localhost:8080/",
     "height": 138
    },
    "colab_type": "code",
    "id": "2ndmQN-zjSzW",
    "outputId": "e1aa5363-e983-48d2-c672-53e4118569c5"
   },
   "outputs": [
    {
     "data": {
      "text/plain": [
       "inactive      207520\n",
       "employed      198054\n",
       "unemployed     21864\n",
       "NAN             1204\n",
       "Name: ACTEU, dtype: int64"
      ]
     },
     "execution_count": 165,
     "metadata": {},
     "output_type": "execute_result"
    }
   ],
   "source": [
    "pie_chart_data"
   ]
  },
  {
   "cell_type": "code",
   "execution_count": 41,
   "metadata": {
    "colab": {
     "base_uri": "https://localhost:8080/",
     "height": 528
    },
    "colab_type": "code",
    "id": "lmFkR5EBh3gU",
    "outputId": "5522b3fb-a82b-4b63-cc20-fc6bb1e495fb"
   },
   "outputs": [
    {
     "data": {
      "text/plain": [
       "<matplotlib.legend.Legend at 0x7f22239040d0>"
      ]
     },
     "execution_count": 41,
     "metadata": {},
     "output_type": "execute_result"
    },
    {
     "data": {
      "image/png": "[encoded data removed]",
      "text/plain": [
       "<Figure size 720x360 with 1 Axes>"
      ]
     },
     "metadata": {},
     "output_type": "display_data"
    }
   ],
   "source": [
    "fig, ax = plt.subplots(figsize = (10,5))\n",
    "ax.pie(pie_chart_data, \n",
    "       autopct='%1.1f%%',\n",
    "       shadow=True, \n",
    "       startangle=90,\n",
    "       explode = (0.1, 0.1,0.3,0.6,0.8, 1.3),\n",
    "       radius=1.5)\n",
    "fig.legend(pie_chart_data.index, loc=\"lower right\")"
   ]
  },
  {
   "cell_type": "markdown",
   "metadata": {
    "colab_type": "text",
    "id": "EZOe0bmqm8bq"
   },
   "source": [
    "## Taux de chomage\n",
    "\n",
    "By creating a stacked bar chart (https://pythonmatplotlibtips.blogspot.com/2018/11/normalized-stacked-barplot-number-percentage-python-matplotlib.html), compare:\n",
    "\n",
    "Taux de chômage: $\\frac{unemployed}{employed + unemployed}$\n",
    "\n",
    "Chômage total (%de la population): $\\frac{unemployed}{Employed + Inactive + Unemployed}$"
   ]
  },
  {
   "cell_type": "code",
   "execution_count": 180,
   "metadata": {
    "colab": {
     "base_uri": "https://localhost:8080/",
     "height": 102
    },
    "colab_type": "code",
    "id": "mfFcPreepD0Z",
    "outputId": "477d6b48-44cc-475e-c447-fbaf1bbed495"
   },
   "outputs": [
    {
     "data": {
      "text/plain": [
       "inactive      207520\n",
       "employed      198054\n",
       "unemployed     21864\n",
       "NAN             1204\n",
       "Name: ACTEU, dtype: int64"
      ]
     },
     "execution_count": 180,
     "metadata": {},
     "output_type": "execute_result"
    }
   ],
   "source": [
    "# 1. On calcule les volumes\n",
    "unemployed = dataset.ACTEU.apply(lambda x: \n",
    "                                     \"employed\" if x==\"1\"\n",
    "                                     else \"unemployed\" if x == \"2\"\n",
    "                                     else \"inactive\" if x==\"3\"\n",
    "                                     else \"NAN\")\n",
    "\n",
    "chart_data = unemployed.value_counts()\n",
    "chart_data"
   ]
  },
  {
   "cell_type": "code",
   "execution_count": 58,
   "metadata": {
    "colab": {
     "base_uri": "https://localhost:8080/",
     "height": 51
    },
    "colab_type": "code",
    "id": "acS4ybNVpP69",
    "outputId": "f5263aa5-5117-4c15-b3ce-ff6af6d7386e"
   },
   "outputs": [
    {
     "name": "stdout",
     "output_type": "stream",
     "text": [
      "Unemployed ratio\n",
      " [0.09941887430769651, 0.05115127808009583]\n"
     ]
    }
   ],
   "source": [
    "# 2. On calcule les ratios\n",
    "ratio_unemployed_actives = chart_data[2] / (chart_data[1] + chart_data[2])\n",
    "ratio_unemployed_population = chart_data[2] / (chart_data[0] + chart_data[1] + chart_data[2])\n",
    "\n",
    "unemployed_ratios = [ratio_unemployed_actives, ratio_unemployed_population]\n",
    "print(\"Unemployed ratio\\n {}\".format(data))"
   ]
  },
  {
   "cell_type": "code",
   "execution_count": 59,
   "metadata": {
    "colab": {
     "base_uri": "https://localhost:8080/",
     "height": 34
    },
    "colab_type": "code",
    "id": "QEuOlrL-rP-3",
    "outputId": "49b914ee-c26f-4cb0-c980-2a33d7b0101f"
   },
   "outputs": [
    {
     "data": {
      "text/plain": [
       "['taux de chômage sur les actifs', 'taux de chômage sur la population']"
      ]
     },
     "execution_count": 59,
     "metadata": {},
     "output_type": "execute_result"
    }
   ],
   "source": [
    "# We create a legend list with the explanation of the ratios\n",
    "legend = [\"taux de chômage sur les actifs\", \"taux de chômage sur la population\"]\n",
    "legend"
   ]
  },
  {
   "cell_type": "code",
   "execution_count": 82,
   "metadata": {
    "colab": {
     "base_uri": "https://localhost:8080/",
     "height": 282
    },
    "colab_type": "code",
    "id": "HUs4NJTyh7Vo",
    "outputId": "7161b3c1-4845-4a50-b0ad-f23117f73a30"
   },
   "outputs": [
    {
     "data": {
      "image/png": "[encoded data removed]",
      "text/plain": [
       "<Figure size 432x288 with 1 Axes>"
      ]
     },
     "metadata": {
      "needs_background": "light"
     },
     "output_type": "display_data"
    }
   ],
   "source": [
    "# Create two bar charts who will be surperposed\n",
    "## Don't forget to use two ax.bar()\n",
    "## To create legends, we can use ax1.text()\n",
    "## To create a title, we can yse ax1.set_title()\n",
    "\n",
    "# On se définit un graph avec 1 ligne et une colone (1 seul graphe ici donc)\n",
    "plt.subplots(1, 1)\n",
    "\n",
    "## On remplit d'abord les 2 barres avec les taux pour les unemployed\n",
    "plt.bar(legend, \n",
    "        unemployed_ratios,\n",
    "        label=\"unemployed\")\n",
    "\n",
    "## On rajoute par dessus les taux du reste des individus\n",
    "other_ratios = [1-unemployed_ratios[0], 1-unemployed_ratios[1]]\n",
    "plt.bar(legend,\n",
    "        other_ratios, \n",
    "        bottom=data,\n",
    "        label=\"other\")\n",
    "\n",
    "## On ajoute du texte avec la valeur ratios dans les barres pour plus de lisibilité\n",
    "plt.text(legend[0], 0.6, np.round(active_data[0],2), ha=\"center\", va=\"center\")\n",
    "plt.text(legend[0], 0.05, np.round(data[0],2), ha=\"center\", va=\"center\")\n",
    "\n",
    "plt.text(legend[1], 0.6, np.round(active_data[1],2), ha=\"center\", va=\"center\")\n",
    "plt.text(legend[1], 0.025, np.round(data[1],2),ha=\"center\", va=\"center\")\n",
    "\n",
    "plt.legend()\n",
    "plt.title(\"Distribution of the unemployed in relation to the labour force & total population\")\n",
    "\n",
    "plt.show()"
   ]
  },
  {
   "cell_type": "markdown",
   "metadata": {
    "colab_type": "text",
    "id": "imCCe_2byFzg"
   },
   "source": [
    "## Distribution du taux de chômage par age\n",
    "* Recréer un bar chart qui montre les volumes en fonction de l'ancienneté au chômage"
   ]
  },
  {
   "cell_type": "code",
   "execution_count": 182,
   "metadata": {
    "colab": {
     "base_uri": "https://localhost:8080/",
     "height": 190
    },
    "colab_type": "code",
    "id": "LRVh9ARMojIJ",
    "outputId": "1e7a6382-c427-487b-8c72-99d489b8c46a"
   },
   "outputs": [
    {
     "name": "stdout",
     "output_type": "stream",
     "text": [
      "[nan '2' '3' '4' '1' '8' '7' '5' '6']\n"
     ]
    },
    {
     "data": {
      "text/plain": [
       "NAN                                          406904\n",
       "3 years and more                               3906\n",
       "from 6 months to less than 1 year              3648\n",
       "from 1 year to less than 1 and half year       3398\n",
       "from 1 month to less than 3 months             3270\n",
       "from 3 months to less than 6 months            3193\n",
       "from 2 years to less than 3 years              2289\n",
       "from 1 and half year to less than 2 years      1132\n",
       "less than 1 month                               902\n",
       "Name: ANCCHOM, dtype: int64"
      ]
     },
     "execution_count": 182,
     "metadata": {},
     "output_type": "execute_result"
    }
   ],
   "source": [
    "print(dataset[\"ANCCHOM\"].unique())\n",
    "\n",
    "# Rename categories in our column\n",
    "unemployment_time = dataset.ANCCHOM.apply(lambda x: \n",
    "                                           \"less than 1 month\" if x==\"1\" \n",
    "                                           else \"from 1 month to less than 3 months\" if x == \"2\"\n",
    "                                           else \"from 3 months to less than 6 months\" if x==\"3\"\n",
    "                                           else \"from 6 months to less than 1 year\" if x==\"4\"\n",
    "                                           else \"from 1 year to less than 1 and half year\" if x==\"5\"\n",
    "                                           else \"from 1 and half year to less than 2 years\" if x==\"6\"\n",
    "                                           else \"from 2 years to less than 3 years\" if x==\"7\"\n",
    "                                           else \"3 years and more\" if x==\"8\"\n",
    "                                           else \"NAN\")\n",
    "\n",
    "chart_data = unemployment_time.value_counts()\n",
    "chart_data"
   ]
  },
  {
   "cell_type": "code",
   "execution_count": 83,
   "metadata": {
    "colab": {
     "base_uri": "https://localhost:8080/",
     "height": 360
    },
    "colab_type": "code",
    "id": "VBK072x20tcu",
    "outputId": "2838b787-df17-4d01-d33f-0fbbc8ee7e97"
   },
   "outputs": [
    {
     "data": {
      "image/png": "[encoded data removed]",
      "text/plain": [
       "<Figure size 1800x360 with 1 Axes>"
      ]
     },
     "metadata": {
      "needs_background": "light"
     },
     "output_type": "display_data"
    }
   ],
   "source": [
    "# Create bar chart\n",
    "plt.figure(figsize=(25,5))\n",
    "plt.bar(chart_data.index[1:], chart_data.values[1:])\n",
    "plt.xticks(rotation=30)\n",
    "plt.show()"
   ]
  },
  {
   "cell_type": "markdown",
   "metadata": {
    "colab_type": "text",
    "id": "SOZ0dz4k2tMY"
   },
   "source": [
    "* The distribution doesn't look good on the bar chart, try doing it again on a magpie chart. "
   ]
  },
  {
   "cell_type": "code",
   "execution_count": 183,
   "metadata": {
    "colab": {
     "base_uri": "https://localhost:8080/",
     "height": 443
    },
    "colab_type": "code",
    "id": "MA-ApYQu1CK5",
    "outputId": "2dc50791-9d17-4bd1-db33-833e77bcaf67"
   },
   "outputs": [
    {
     "data": {
      "image/png": "[encoded data removed]",
      "text/plain": [
       "<Figure size 720x360 with 1 Axes>"
      ]
     },
     "metadata": {},
     "output_type": "display_data"
    }
   ],
   "source": [
    "plt.figure(figsize=(10,5))\n",
    "\n",
    "plt.pie(chart_data[1:], \n",
    "       autopct='%1.1f%%',\n",
    "       shadow=True, \n",
    "       startangle=90,\n",
    "       radius=1.5\n",
    "       )\n",
    "\n",
    "plt.legend(chart_data.index[1:], \n",
    "           bbox_to_anchor=(2,0), \n",
    "           loc=\"lower right\")\n",
    "\n",
    "plt.title(\"Duration of unemployment\", loc=\"center\", pad=40)\n",
    "plt.show()"
   ]
  },
  {
   "cell_type": "markdown",
   "metadata": {
    "colab_type": "text",
    "id": "8LIfy88y5cnO"
   },
   "source": [
    "## Volumes de demandeurs d'emploi selon inscription à Pôle Emploi\n",
    "\n",
    "* It would be interesting to see the distribution of people registered with Pôle Emploi or an employment agency among these unemployed people. Look at this distribution thanks to the CONTACT column \n",
    "  * Directly remove the NaN from your chart"
   ]
  },
  {
   "cell_type": "code",
   "execution_count": 185,
   "metadata": {
    "colab": {
     "base_uri": "https://localhost:8080/",
     "height": 86
    },
    "colab_type": "code",
    "id": "Xviz1js24gOu",
    "outputId": "b99b648a-29c7-4736-9028-8b42febfec15"
   },
   "outputs": [
    {
     "data": {
      "text/plain": [
       "NAN    399514\n",
       "no      15984\n",
       "yes     13144\n",
       "Name: CONTACT, dtype: int64"
      ]
     },
     "execution_count": 185,
     "metadata": {},
     "output_type": "execute_result"
    }
   ],
   "source": [
    "# Rename categories in our column \n",
    "contact = dataset.CONTACT.apply(lambda x: \n",
    "                                    \"yes\" if x==\"1\" \n",
    "                                    else \"no\" if x == \"2\"\n",
    "                                    else \"NAN\")\n",
    "\n",
    "chart_data = contact.value_counts()\n",
    "chart_data"
   ]
  },
  {
   "cell_type": "code",
   "execution_count": 186,
   "metadata": {
    "colab": {
     "base_uri": "https://localhost:8080/",
     "height": 281
    },
    "colab_type": "code",
    "id": "QfwY4DH26QCV",
    "outputId": "633d42a3-67d6-44dc-b47f-0f0abb4b066d"
   },
   "outputs": [
    {
     "data": {
      "image/png": "[encoded data removed]",
      "text/plain": [
       "<Figure size 432x288 with 1 Axes>"
      ]
     },
     "metadata": {
      "needs_background": "light"
     },
     "output_type": "display_data"
    }
   ],
   "source": [
    "# Create the graph\n",
    "plt.bar(chart_data[1:].index, chart_data[1:].values)\n",
    "plt.title(\"Volume de demandeurs d'emploi inscrits chez Pôle Emploi\")\n",
    "plt.show()"
   ]
  },
  {
   "cell_type": "markdown",
   "metadata": {
    "colab_type": "text",
    "id": "SizUWI_f7pgw"
   },
   "source": [
    "## Distribution des raisons qui poussent à changer de travail\n",
    "* Let's take a look at what pushes French people to change jobs, thanks to the CREACCP column, create a horizontal bar chart that will allow you to know the main reasons why French people change jobs. "
   ]
  },
  {
   "cell_type": "code",
   "execution_count": 147,
   "metadata": {
    "colab": {
     "base_uri": "https://localhost:8080/",
     "height": 255
    },
    "colab_type": "code",
    "id": "XtoXCk5r6jcD",
    "outputId": "a39a4abf-7b69-4632-941d-f2c40be50c11"
   },
   "outputs": [
    {
     "data": {
      "text/plain": [
       "Must or wants to move                                                                       216\n",
       "Wants to become self-employed                                                               354\n",
       "Wants to reduce transport time                                                              598\n",
       "Wants to work at a more suitable or flexible hourly rhythm                                 1102\n",
       "Finds the work atmosphere bad, conflicting work relations                                  1223\n",
       "Wants to change profession or sector                                                       1392\n",
       "Wants to work more hours                                                                   1404\n",
       "risk of losing or about to lose current employment (including end of short contracts)      1582\n",
       "Desires working conditions that are less strenuous or more adapted to one's health         1820\n",
       "wants a more stabiliting job (CDI)                                                         2462\n",
       "wants a more interesting job                                                               2779\n",
       "Wants to increase revenues                                                                 6775\n",
       "NAN                                                                                      406935\n",
       "Name: CREACCP, dtype: int64"
      ]
     },
     "execution_count": 147,
     "metadata": {},
     "output_type": "execute_result"
    }
   ],
   "source": [
    "# Rename categories in our column \n",
    "creaccp = dataset.CREACCP.apply(lambda x: \n",
    "                                \"risk of losing or about to lose current employment (including end of short contracts)\" if x==\"1\" \n",
    "                                else \"wants a more interesting job\" if x == \"2\"\n",
    "                                else \"wants a more stabiliting job (CDI)\" if x == \"3\"\n",
    "                                else \"Wants to work more hours\" if x == \"4\"\n",
    "                                else \"Wants to work at a more suitable or flexible hourly rhythm\" if x == \"5\"\n",
    "                                else \"Desires working conditions that are less strenuous or more adapted to one's health\" if x == \"6\"\n",
    "                                else \"Wants to increase revenues\" if x == \"7\"\n",
    "                                else \"Wants to reduce transport time\" if x == \"8\"\n",
    "                                else \"Must or wants to move\" if x == \"9\"\n",
    "                                else \"Wants to become self-employed\" if x == \"10\"\n",
    "                                else \"Wants to change profession or sector\" if x == \"11\"\n",
    "                                else \"Finds the work atmosphere bad, conflicting work relations\" if x == \"12\"\n",
    "                                else \"NAN\")\n",
    "\n",
    "chart_data = creaccp.value_counts(ascending=True)\n",
    "chart_data"
   ]
  },
  {
   "cell_type": "code",
   "execution_count": 148,
   "metadata": {
    "colab": {
     "base_uri": "https://localhost:8080/",
     "height": 34
    },
    "colab_type": "code",
    "id": "lC71A0zC890B",
    "outputId": "56e48a6f-2a23-404d-ab00-4af2aff8c30c"
   },
   "outputs": [
    {
     "name": "stdout",
     "output_type": "stream",
     "text": [
      "21707\n"
     ]
    }
   ],
   "source": [
    "# We need to do a percentage breakdown \n",
    "# So let's calculate the total distribution of respondents \n",
    "s = np.sum(chart_data.values[:-1])\n",
    "print(s)"
   ]
  },
  {
   "cell_type": "code",
   "execution_count": 149,
   "metadata": {
    "colab": {
     "base_uri": "https://localhost:8080/",
     "height": 34
    },
    "colab_type": "code",
    "id": "fMlBDKUr-m-W",
    "outputId": "c6f1ebe3-f650-4113-b20a-d329d8cb158f"
   },
   "outputs": [
    {
     "data": {
      "text/plain": [
       "[1.0, 1.63, 2.75, 5.08, 5.63, 6.41, 6.47, 7.29, 8.38, 11.34, 12.8, 31.21]"
      ]
     },
     "execution_count": 149,
     "metadata": {},
     "output_type": "execute_result"
    }
   ],
   "source": [
    "# Let us now calculate the distribution of each of the answers\n",
    "breakdown = [np.round(element/s*100,2) for element in chart_data.values[:-1]]\n",
    "breakdown"
   ]
  },
  {
   "cell_type": "code",
   "execution_count": 1,
   "metadata": {
    "colab": {
     "base_uri": "https://localhost:8080/",
     "height": 316
    },
    "colab_type": "code",
    "id": "I3j4qraB-9GU",
    "outputId": "e51e3129-3726-4e7f-f61a-6dc986b80156"
   },
   "outputs": [
    {
     "ename": "NameError",
     "evalue": "name 'plt' is not defined",
     "output_type": "error",
     "traceback": [
      "\u001b[0;31m---------------------------------------------------------------------------\u001b[0m",
      "\u001b[0;31mNameError\u001b[0m                                 Traceback (most recent call last)",
      "\u001b[0;32m<ipython-input-1-68436bf0100e>\u001b[0m in \u001b[0;36m<module>\u001b[0;34m\u001b[0m\n\u001b[1;32m      1\u001b[0m \u001b[0;31m# Create the graph\u001b[0m\u001b[0;34m\u001b[0m\u001b[0;34m\u001b[0m\u001b[0;34m\u001b[0m\u001b[0m\n\u001b[0;32m----> 2\u001b[0;31m \u001b[0mplt\u001b[0m\u001b[0;34m.\u001b[0m\u001b[0mtitle\u001b[0m\u001b[0;34m(\u001b[0m\u001b[0;34m\"ranking of the reasons why French people want to change jobs\"\u001b[0m\u001b[0;34m)\u001b[0m\u001b[0;34m\u001b[0m\u001b[0;34m\u001b[0m\u001b[0m\n\u001b[0m\u001b[1;32m      3\u001b[0m plt.barh(chart_data.index[:-1],\n\u001b[1;32m      4\u001b[0m          breakdown)\n\u001b[1;32m      5\u001b[0m \u001b[0mplt\u001b[0m\u001b[0;34m.\u001b[0m\u001b[0mxlabel\u001b[0m\u001b[0;34m(\u001b[0m\u001b[0;34m\"Percentage Breakdown\"\u001b[0m\u001b[0;34m)\u001b[0m\u001b[0;34m\u001b[0m\u001b[0;34m\u001b[0m\u001b[0m\n",
      "\u001b[0;31mNameError\u001b[0m: name 'plt' is not defined"
     ]
    }
   ],
   "source": [
    "# Create the graph\n",
    "plt.title(\"ranking of the reasons why French people want to change jobs\")\n",
    "plt.barh(chart_data.index[:-1],\n",
    "         breakdown)\n",
    "plt.xlabel(\"Percentage Breakdown\")\n",
    "\n",
    "# Pour rajouter le pourcentage exact sur la figure\n",
    "for i in range(len(breakdown)):\n",
    "    plt.text(breakdown[i], chart_data.index[:-1][i],'{}%'.format(breakdown[i]))\n",
    "\n",
    "plt.show()"
   ]
  },
  {
   "cell_type": "markdown",
   "metadata": {
    "colab_type": "text",
    "id": "u7eu0Y2XDnAF"
   },
   "source": [
    "* Let's end this exercise by looking at the distribution of desired hours for those looking for part-time work. To do this, use the HREC column. \n",
    "\n",
    "  * First try to simply create a histogram without the density function. \n",
    "  * To create the density function, you will need to use the following formula: \n",
    "      ```y = ((1 / (np.sqrt(2 * np.pi) * sigma)) * np.exp(-0.5 * (1 / sigma * (bins - mu))**2))```\n",
    "     \n",
    "     where *mu* is the mean of the distribution and *sigma* is the standard deviation.  You can help yourself with this tutorial [histogram with Density](https://matplotlib.org/3.1.1/gallery/statistics/histogram_features.html)"
   ]
  },
  {
   "cell_type": "code",
   "execution_count": 164,
   "metadata": {},
   "outputs": [
    {
     "data": {
      "image/png": "[encoded data removed]",
      "text/plain": [
       "<Figure size 432x288 with 1 Axes>"
      ]
     },
     "metadata": {
      "needs_background": "light"
     },
     "output_type": "display_data"
    },
    {
     "name": "stderr",
     "output_type": "stream",
     "text": [
      "/opt/conda/lib/python3.8/site-packages/seaborn/distributions.py:2551: FutureWarning: `distplot` is a deprecated function and will be removed in a future version. Please adapt your code to use either `displot` (a figure-level function with similar flexibility) or `histplot` (an axes-level function for histograms).\n",
      "  warnings.warn(msg, FutureWarning)\n"
     ]
    },
    {
     "data": {
      "image/png": "[encoded data removed]",
      "text/plain": [
       "<Figure size 432x288 with 1 Axes>"
      ]
     },
     "metadata": {
      "needs_background": "light"
     },
     "output_type": "display_data"
    }
   ],
   "source": [
    "import seaborn as sns\n",
    "\n",
    "sns.histplot(dataset[\"HREC\"], bins=20)\n",
    "plt.show()\n",
    "sns.distplot(dataset[\"HREC\"], bins=20, kde=True, norm_hist=\"HREC\")\n",
    "plt.show()"
   ]
  },
  {
   "cell_type": "code",
   "execution_count": 188,
   "metadata": {
    "colab": {},
    "colab_type": "code",
    "id": "JSHIceUQEqme"
   },
   "outputs": [
    {
     "data": {
      "text/plain": [
       "54"
      ]
     },
     "execution_count": 188,
     "metadata": {},
     "output_type": "execute_result"
    }
   ],
   "source": [
    "num_bins=len(dataset.HREC.value_counts())\n",
    "num_bins"
   ]
  },
  {
   "cell_type": "code",
   "execution_count": 153,
   "metadata": {
    "colab": {
     "base_uri": "https://localhost:8080/",
     "height": 403
    },
    "colab_type": "code",
    "id": "mRKUaJVZFoUU",
    "outputId": "adb79403-c002-419d-eaa7-811ed0c30a9c"
   },
   "outputs": [
    {
     "data": {
      "text/plain": [
       "Text(0.5, 1.0, 'Histogram of IQ: $\\\\mu=22.38$, $\\\\sigma=8.52$')"
      ]
     },
     "execution_count": 153,
     "metadata": {},
     "output_type": "execute_result"
    },
    {
     "data": {
      "image/png": "[encoded data removed]",
      "text/plain": [
       "<Figure size 432x288 with 1 Axes>"
      ]
     },
     "metadata": {
      "needs_background": "light"
     },
     "output_type": "display_data"
    }
   ],
   "source": [
    "mu = dataset.HREC.mean()  # mean of distribution\n",
    "sigma = dataset.HREC.std()  # standard deviation of distribution\n",
    "\n",
    "fig, ax = plt.subplots()\n",
    "\n",
    "# the histogram of the data\n",
    "n, bins, patches = ax.hist(dataset.HREC, num_bins, density=1)\n",
    "\n",
    "# Formule pour la densité\n",
    "y = ((1 / (np.sqrt(2 * np.pi) * sigma)) *\n",
    "     np.exp(-0.5 * (1 / sigma * (bins - mu))**2))\n",
    "\n",
    "ax.plot(bins, y, '--')\n",
    "ax.set_xlabel('Smarts')\n",
    "ax.set_ylabel('Probability density')\n",
    "ax.set_title(r'Histogram of IQ: $\\mu={}$, $\\sigma={}$'.format(np.round(mu,2), np.round(sigma,2)))"
   ]
  }
 ],
 "metadata": {
  "colab": {
   "collapsed_sections": [],
   "name": "Comprendre le chômage en France -  ANS.ipynb",
   "provenance": []
  },
  "kernelspec": {
   "display_name": "Python 3",
   "language": "python",
   "name": "python3"
  },
  "language_info": {
   "codemirror_mode": {
    "name": "ipython",
    "version": 3
   },
   "file_extension": ".py",
   "mimetype": "text/x-python",
   "name": "python",
   "nbconvert_exporter": "python",
   "pygments_lexer": "ipython3",
   "version": "3.8.6"
  }
 },
 "nbformat": 4,
 "nbformat_minor": 4
}
