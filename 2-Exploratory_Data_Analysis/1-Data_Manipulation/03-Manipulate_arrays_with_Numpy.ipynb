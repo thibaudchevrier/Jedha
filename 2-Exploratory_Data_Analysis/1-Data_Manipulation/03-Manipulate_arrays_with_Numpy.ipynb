{
 "cells": [
  {
   "cell_type": "markdown",
   "metadata": {},
   "source": [
    "# Handling data with Datetime and numpy\n",
    "\n",
    "## What you'll learn in this class\n",
    "\n",
    "Two other essential Data Science libraries are *Datetime* and *Numpy*. We are going to use it during the whole program, so we must take a little time to lay the foundations before starting the next step. The objective of this course is therefore :\n",
    "\n",
    "* Manipulating time data with Datetime\n",
    "* Understand the usefulness of Numpy in tensor manipulation\n",
    "* Create and manipulate tensors via Numpy\n",
    "* Know how to iterate on tensors\n",
    "* Know how to create Numpy masks\n",
    "* Understand what the *form* of a tensor is\n",
    "\n",
    "## Manage time data with _Datetime_\n",
    "\n",
    "You will quite often have to manage time data, including timestamps. And, it can be pretty frustrating at first, because this kind of data doesn't really work the way you're used to."
   ]
  },
  {
   "cell_type": "markdown",
   "metadata": {},
   "source": [
    "### Import librairies"
   ]
  },
  {
   "cell_type": "code",
   "execution_count": null,
   "metadata": {},
   "outputs": [],
   "source": [
    "# We're importing the datetime bookstore # We will then have access to all the classes of this library, \n",
    "# with their attributes and methods\n",
    "import datetime"
   ]
  },
  {
   "cell_type": "markdown",
   "metadata": {},
   "source": [
    "### Methods to know\n",
    "The ```datetime``` library contains a ```datetime``` class. The method ```today()```of this class allows to initialize the attributes to the current date and time.\n",
    "\n",
    "You can then use the ```strftime()```method to read the information contained in the attributes, putting them in the format you want:"
   ]
  },
  {
   "cell_type": "code",
   "execution_count": null,
   "metadata": {
    "scrolled": true
   },
   "outputs": [],
   "source": [
    "today = datetime.datetime.today()\n",
    "print(\"Today is {} and, at the time I wrote this part of the course, it was {}.\"\n",
    "      .format(today.strftime(\"%A %d %B\"), today.strftime(\"%Hh%M\")))"
   ]
  },
  {
   "cell_type": "code",
   "execution_count": null,
   "metadata": {},
   "outputs": [
    {
     "data": {
      "text/plain": [
       "\u001b[0;31mDocstring:\u001b[0m format -> strftime() style string.\n",
       "\u001b[0;31mType:\u001b[0m      builtin_function_or_method\n"
      ]
     },
     "metadata": {},
     "output_type": "display_data"
    }
   ],
   "source": [
    "# For information on how to use a method, use the \"?\"\n",
    "today.strftime?"
   ]
  },
  {
   "cell_type": "markdown",
   "metadata": {},
   "source": [
    "Here, we imported the _datetime_ module and used the _datetime_ class in which, there is the `today()` method which returns the exact date, at the second ready, of today (the time you execute the code).\n",
    "\n",
    "We then rearranged the function to output an intelligible sentence using the `strftime()` method.\n",
    "\n",
    "Here is a simple example of what you can do with this library. Let's see it in a little bit of detail.\n",
    "\n",
    "\n",
    "**datetime ≠ datetime**\n",
    "\n",
    "First of all, we must insist on the fact that there is a difference between the _datetime_ module and the _datetime_ class. This is one thing that can be very confusing but it is NOT an error if we put: `datetime.datetime`.\n",
    "\n",
    "It's just that we called the datetime class which has the same name as the datetime module.\n",
    "\n",
    "\n",
    "### Useful attributes for _Datetime_ are\n",
    "\n",
    "Let's look at some useful attributes, we can for example simply output the day, month, year or even the time of a date. Simply with the following attributes:"
   ]
  },
  {
   "cell_type": "code",
   "execution_count": 4,
   "metadata": {},
   "outputs": [
    {
     "name": "stdout",
     "output_type": "stream",
     "text": [
      "Day :  3\n",
      "Month :  9\n",
      "Year :  2020\n",
      "Hour :  15\n"
     ]
    }
   ],
   "source": [
    "today = datetime.datetime.today()\n",
    "print(\"Day : \", today.day)\n",
    "print(\"Month : \", today.month)\n",
    "print(\"Year : \", today.year)\n",
    "print(\"Hour : \", today.hour)"
   ]
  },
  {
   "cell_type": "markdown",
   "metadata": {},
   "source": [
    "### Most useful methods\n",
    "\n",
    "There are a few useful methods to know about managing dates. We list the main ones\n",
    "\n",
    "\n",
    "### _.date()_ or _.time()_\n",
    "\n",
    "As you know, we manage timestamps with the _datetime_ class, that is, we have the date and time. But sometimes it is useful to have only the time or only the date. That's why we have these two functions:"
   ]
  },
  {
   "cell_type": "code",
   "execution_count": 5,
   "metadata": {},
   "outputs": [
    {
     "name": "stdout",
     "output_type": "stream",
     "text": [
      "Date :  2020-09-03\n",
      "Hour :  15:44:41.248522\n",
      "Number of the week :  3\n"
     ]
    }
   ],
   "source": [
    "# D'autres méthodes utiles de la classe datetime :\n",
    "print(\"Date : \", today.date())\n",
    "print(\"Hour : \", today.time())\n",
    "print(\"Number of the week : \", today.weekday()) # Attention : le lundi correspond au numéro 0"
   ]
  },
  {
   "cell_type": "markdown",
   "metadata": {},
   "source": [
    "#### .replace()\n",
    "\n",
    "We use this function to change a value in the date we have"
   ]
  },
  {
   "cell_type": "code",
   "execution_count": 6,
   "metadata": {},
   "outputs": [
    {
     "name": "stdout",
     "output_type": "stream",
     "text": [
      "2020-05-03\n"
     ]
    }
   ],
   "source": [
    "# Replace value in an attritbut\n",
    "next_month = today.replace(month=5)\n",
    "print(next_month.date())"
   ]
  },
  {
   "cell_type": "markdown",
   "metadata": {},
   "source": [
    "#### .weekday()\n",
    "\n",
    "`.weekday()` return the encoded day of the week:"
   ]
  },
  {
   "cell_type": "code",
   "execution_count": 7,
   "metadata": {},
   "outputs": [
    {
     "name": "stdout",
     "output_type": "stream",
     "text": [
      "3\n"
     ]
    }
   ],
   "source": [
    "week_day = today.weekday()\n",
    "print(week_day)"
   ]
  },
  {
   "cell_type": "markdown",
   "metadata": {},
   "source": [
    "Here, the program returned 5 because it was Saturday. Indeed, Monday is encoded 0, Tuesday 1, Wednesday 2, etc..\n",
    "\n",
    "#### .isoformat()\n",
    "\n",
    "With `.isoformat()`, you will be able to return the date in : AAAA-MM-JJ HH:MM:SS"
   ]
  },
  {
   "cell_type": "code",
   "execution_count": 8,
   "metadata": {},
   "outputs": [
    {
     "data": {
      "text/plain": [
       "'2020-09-03T15:44:41.248522'"
      ]
     },
     "execution_count": 8,
     "metadata": {},
     "output_type": "execute_result"
    }
   ],
   "source": [
    "today.isoformat()"
   ]
  },
  {
   "cell_type": "markdown",
   "metadata": {},
   "source": [
    "#### .strftime()\n",
    "\n",
    "We used this function in the first program. It is indeed very useful because it allows to express the date in a more intelligible way thanks to a precise code in the string. Here is how it can be used in a simple way:"
   ]
  },
  {
   "cell_type": "code",
   "execution_count": 9,
   "metadata": {},
   "outputs": [
    {
     "data": {
      "text/plain": [
       "'03/09/20'"
      ]
     },
     "execution_count": 9,
     "metadata": {},
     "output_type": "execute_result"
    }
   ],
   "source": [
    "today.strftime(\"%d/%m/%y\")"
   ]
  },
  {
   "cell_type": "markdown",
   "metadata": {},
   "source": [
    "In the above example, we have returned the day, month and year in a format we know better: DD/MM/YY and this due to %d, %m, %Y\n",
    "\n",
    "There are plenty of other codes for outputting a date the way you want. We've made an array of them for you to have them all with the datetime_class\n",
    "\n",
    "\n",
    "<table>\n",
    "  <tr>\n",
    "   <td><strong>Write</strong>\n",
    "   </td>\n",
    "   <td><strong>Definition</strong>\n",
    "   </td>\n",
    "   <td><strong>Exemple</strong>\n",
    "   </td>\n",
    "  </tr>\n",
    "  <tr>\n",
    "   <td>%a\n",
    "   </td>\n",
    "   <td>Returns the abbreviated day of the week\n",
    "   </td>\n",
    "   <td>“Mon” / “Tue” / “Wed\n",
    "   </td>\n",
    "  </tr>\n",
    "  <tr>\n",
    "   <td>%A\n",
    "   </td>\n",
    "   <td>Returns the full weekday \"Sunday\" / \"Monday\"\n",
    "   </td>\n",
    "   <td>“Sunday” / “Monday”\n",
    "   </td>\n",
    "  </tr>\n",
    "  <tr>\n",
    "   <td>%d\n",
    "   </td>\n",
    "   <td>Returns the number of the day in the month in digits\n",
    "   </td>\n",
    "   <td>01, 02, 03, 04...\n",
    "   </td>\n",
    "  </tr>\n",
    "  <tr>\n",
    "   <td>%b\n",
    "   </td>\n",
    "   <td>Returns the month of the year in abbreviated form \n",
    "   </td>\n",
    "   <td>“Jan” / “Feb” ...\n",
    "   </td>\n",
    "  </tr>\n",
    "  <tr>\n",
    "   <td>%B\n",
    "   </td>\n",
    "   <td>Returns the full month of the year\n",
    "   </td>\n",
    "   <td>“January” / February”\n",
    "   </td>\n",
    "  </tr>\n",
    "  <tr>\n",
    "   <td>%m\n",
    "   </td>\n",
    "   <td>Returns the month of the year in digits\n",
    "   </td>\n",
    "   <td>01, 02, 03, 04...\n",
    "   </td>\n",
    "  </tr>\n",
    "  <tr>\n",
    "   <td>%y\n",
    "   </td>\n",
    "   <td>Returns the year in two digits\n",
    "   </td>\n",
    "   <td>98, 99, 00, 01\n",
    "   </td>\n",
    "  </tr>\n",
    "  <tr>\n",
    "   <td>%Y\n",
    "   </td>\n",
    "   <td>Returns the year in four digits\n",
    "   </td>\n",
    "   <td>1998, 1999, 2000, 2001\n",
    "   </td>\n",
    "  </tr>\n",
    "  <tr>\n",
    "   <td>%c\n",
    "   </td>\n",
    "   <td>Returns the date and time\n",
    "   </td>\n",
    "   <td>Tue Aug 16 21:30:00 1988\n",
    "   </td>\n",
    "  </tr>\n",
    "  <tr>\n",
    "   <td>%x\n",
    "   </td>\n",
    "   <td>Just return the date\n",
    "   </td>\n",
    "   <td>08/16/88\n",
    "   </td>\n",
    "  </tr>\n",
    "  <tr>\n",
    "   <td>%X\n",
    "   </td>\n",
    "   <td>Just return the time (hour)\n",
    "   </td>\n",
    "   <td>21:30:00\n",
    "   </td>\n",
    "  </tr>\n",
    "  <tr>\n",
    "   <td>%H\n",
    "   </td>\n",
    "   <td>Returns the time in 24hrs format\n",
    "   </td>\n",
    "   <td>“01” ”03” “22”\n",
    "   </td>\n",
    "  </tr>\n",
    "  <tr>\n",
    "   <td>%I\n",
    "   </td>\n",
    "   <td>Returns the time in 12hrs format\n",
    "   </td>\n",
    "   <td>“01” “03” “12”\n",
    "   </td>\n",
    "  </tr>\n",
    "  <tr>\n",
    "   <td>%M\n",
    "   </td>\n",
    "   <td>Returns minutes\n",
    "   </td>\n",
    "   <td>“01” “58” “59” “00”\n",
    "   </td>\n",
    "  </tr>\n",
    "  <tr>\n",
    "   <td>%S\n",
    "   </td>\n",
    "   <td>Returns seconds\n",
    "   </td>\n",
    "   <td>“01” “58” “59” “00”\n",
    "   </td>\n",
    "  </tr>\n",
    "</table>\n",
    "\n",
    "\n",
    "NB: Each time, your console will try to adapt to local formats. If you write \"%A\" and your console knows that you are in France, it will return \"Monday\", \"Tuesday\", etc."
   ]
  },
  {
   "cell_type": "markdown",
   "metadata": {},
   "source": [
    "##### .strptime()\n",
    "\n",
    "To finish with the useful methods, you will often find yourself in the situation where you are reading time data as a string from a file. The `.strptime()` method allows you to read these strings and convert them into datetime objects :"
   ]
  },
  {
   "cell_type": "code",
   "execution_count": 10,
   "metadata": {},
   "outputs": [
    {
     "name": "stdout",
     "output_type": "stream",
     "text": [
      "2018-11-20 18:30:00\n",
      "<class 'datetime.datetime'>\n"
     ]
    }
   ],
   "source": [
    "# Lire une chaîne de caractères et mettre les informations dans un objet datetime\n",
    "stamp = \"20/11/18 18:30\"\n",
    "date = datetime.datetime.strptime(stamp, \"%d/%m/%y %H:%M\")\n",
    "print(date)\n",
    "print(type(date))"
   ]
  },
  {
   "cell_type": "markdown",
   "metadata": {},
   "source": [
    "### Date and time classes"
   ]
  },
  {
   "cell_type": "code",
   "execution_count": 11,
   "metadata": {},
   "outputs": [
    {
     "name": "stdout",
     "output_type": "stream",
     "text": [
      "2018-07-01 19:32:00\n",
      "<class 'datetime.datetime'>\n"
     ]
    }
   ],
   "source": [
    "# Create a time object, create a date object, and combine them to give a datetime object\n",
    "one_hour = datetime.time(19,32,0)\n",
    "one_date = datetime.date(2018,7,1)\n",
    "combined = datetime.datetime.combine(one_date,one_hour)\n",
    "print(combined)\n",
    "print(type(combined))"
   ]
  },
  {
   "cell_type": "markdown",
   "metadata": {},
   "source": [
    "### The timedelta class: doing operations on dates and times\n",
    "\n",
    "We have one more thing to do with the dates. It's how to handle transactions between dates. Well, simply with the _timedelta_ class."
   ]
  },
  {
   "cell_type": "code",
   "execution_count": 12,
   "metadata": {},
   "outputs": [
    {
     "data": {
      "text/plain": [
       "\u001b[0;31mInit signature:\u001b[0m \u001b[0mdatetime\u001b[0m\u001b[0;34m.\u001b[0m\u001b[0mtimedelta\u001b[0m\u001b[0;34m(\u001b[0m\u001b[0mself\u001b[0m\u001b[0;34m,\u001b[0m \u001b[0;34m/\u001b[0m\u001b[0;34m,\u001b[0m \u001b[0;34m*\u001b[0m\u001b[0margs\u001b[0m\u001b[0;34m,\u001b[0m \u001b[0;34m**\u001b[0m\u001b[0mkwargs\u001b[0m\u001b[0;34m)\u001b[0m\u001b[0;34m\u001b[0m\u001b[0;34m\u001b[0m\u001b[0m\n",
       "\u001b[0;31mDocstring:\u001b[0m     \n",
       "Difference between two datetime values.\n",
       "\n",
       "timedelta(days=0, seconds=0, microseconds=0, milliseconds=0, minutes=0, hours=0, weeks=0)\n",
       "\n",
       "All arguments are optional and default to 0.\n",
       "Arguments may be integers or floats, and may be positive or negative.\n",
       "\u001b[0;31mFile:\u001b[0m           ~/anaconda3/lib/python3.8/datetime.py\n",
       "\u001b[0;31mType:\u001b[0m           type\n",
       "\u001b[0;31mSubclasses:\u001b[0m     \n"
      ]
     },
     "metadata": {},
     "output_type": "display_data"
    }
   ],
   "source": [
    "datetime.timedelta?"
   ]
  },
  {
   "cell_type": "code",
   "execution_count": 13,
   "metadata": {},
   "outputs": [],
   "source": [
    "today = datetime.datetime.today()"
   ]
  },
  {
   "cell_type": "code",
   "execution_count": 14,
   "metadata": {},
   "outputs": [
    {
     "name": "stdout",
     "output_type": "stream",
     "text": [
      "2020-08-24 15:44:41.471897\n"
     ]
    }
   ],
   "source": [
    "# Taking 10 days off\n",
    "new_date = today - datetime.timedelta(10)\n",
    "print(new_date)"
   ]
  },
  {
   "cell_type": "markdown",
   "metadata": {},
   "source": [
    "Here is an example of an operation. Here, 10 days have been taken off as of today's date.\n",
    "\n",
    "Generally speaking, _timedelta_ is structured as follows:\n",
    "\n",
    "```python\n",
    "datetime.timedelta(days, seconds, microseconds, milliseconds, minutes, hours, weeks)\n",
    "```\n",
    "\n",
    "For example, if you want to add 2 hours to the date :"
   ]
  },
  {
   "cell_type": "code",
   "execution_count": 15,
   "metadata": {},
   "outputs": [
    {
     "name": "stdout",
     "output_type": "stream",
     "text": [
      "2020-09-03 17:44:41.471897\n"
     ]
    }
   ],
   "source": [
    "# Adding 2 hours\n",
    "new_date2 = today + datetime.timedelta(hours=2)\n",
    "print(new_date2)"
   ]
  },
  {
   "cell_type": "markdown",
   "metadata": {},
   "source": [
    "# Manipulate tensors with numpy\n",
    "\n",
    "Another must-have library in Data Science is *Numpy*. We're going to use it during the whole program, so you have to take some time to lay the foundations before starting the next step. The objective of this course is therefore :\n",
    "\n",
    "* Understand the usefulness of Numpy in the manipulation of tensors\n",
    "* Create and manipulate tensors via Numpy\n",
    "* Know how to iterate on tensors\n",
    "* Know how to create Numpy masks\n",
    "* Understand what the *form* of a tensor is"
   ]
  },
  {
   "cell_type": "code",
   "execution_count": 16,
   "metadata": {},
   "outputs": [],
   "source": [
    "import numpy as np"
   ]
  },
  {
   "cell_type": "markdown",
   "metadata": {},
   "source": [
    "## Create an array\n",
    "\n",
    "### What is a tensor ?\n",
    "\n",
    "A tensor is a generalization of the notion of vector. It is an object of dimension *n* containing numbers. For the small dimensions (0, 1 and 2) a specific name has been given to these objects.\n",
    "\n",
    "**Dimension 0 ==> Scalar**\n",
    "\n",
    "```\n",
    "# Here's a scalar number\n",
    "\n",
    "2\n",
    "```\n",
    "\n",
    "**Dimension 1 ==> Vector**\n",
    "\n",
    "```\n",
    "# Here's a vector\n",
    "\n",
    "[1,\n",
    " 2,\n",
    " 3]\n",
    "```\n",
    "\n",
    "**Dimension 2 ==> Matrix**\n",
    "```\n",
    "# Here's a matrix\n",
    "\n",
    "[[1, 2, 3,\n",
    "  4, 5, 6,\n",
    "  7, 8, 9]]\n",
    "\n",
    "```\n",
    "\n",
    "Beyond two dimensions, we will use the term of *tensor*.\n",
    "\n",
    "### Create a numpy array\n",
    "\n",
    "For create an array, you will use the ```np.array()``` method in wich you will insert an object"
   ]
  },
  {
   "cell_type": "code",
   "execution_count": 17,
   "metadata": {},
   "outputs": [
    {
     "data": {
      "text/plain": [
       "array([1, 2, 3, 4, 5])"
      ]
     },
     "execution_count": 17,
     "metadata": {},
     "output_type": "execute_result"
    }
   ],
   "source": [
    "A = np.array([1,2,3,4,5], dtype=int)\n",
    "A"
   ]
  },
  {
   "cell_type": "markdown",
   "metadata": {},
   "source": [
    "Here, we have specified the `dtype`inside the array but we were not have to. If we do not specify the `dtype`, Numpy will determine the most relevant type."
   ]
  },
  {
   "cell_type": "code",
   "execution_count": 18,
   "metadata": {},
   "outputs": [
    {
     "data": {
      "text/plain": [
       "dtype('int64')"
      ]
     },
     "execution_count": 18,
     "metadata": {},
     "output_type": "execute_result"
    }
   ],
   "source": [
    "# If you don't specify the dtype, numpy will deduce it from the values present in the table\n",
    "my_array = np.array([1,2,3,4])\n",
    "my_array.dtype"
   ]
  },
  {
   "cell_type": "markdown",
   "metadata": {},
   "source": [
    "Above, we created a vector, but we can use `np.array()`for create a matrix or a tensor in the same way"
   ]
  },
  {
   "cell_type": "code",
   "execution_count": 19,
   "metadata": {},
   "outputs": [
    {
     "data": {
      "text/plain": [
       "array([[1, 2, 3],\n",
       "       [4, 5, 6]])"
      ]
     },
     "metadata": {},
     "output_type": "display_data"
    },
    {
     "data": {
      "text/plain": [
       "array([[[ 1,  2,  3],\n",
       "        [ 4,  5,  6]],\n",
       "\n",
       "       [[ 7,  8,  9],\n",
       "        [10, 11, 12]]])"
      ]
     },
     "metadata": {},
     "output_type": "display_data"
    }
   ],
   "source": [
    "# You can use np.array to create a vector, a matrix or a tensor of a higher order:\n",
    "my_matrix = np.array([[1,2,3], \n",
    "                      [4,5,6]])\n",
    "display(my_matrix)\n",
    "\n",
    "my_tensor = np.array([[[1,2,3], \n",
    "                       [4,5,6]],\n",
    "                       [[7,8,9], \n",
    "                       [10,11,12]]])\n",
    "display(my_tensor)"
   ]
  },
  {
   "cell_type": "markdown",
   "metadata": {},
   "source": [
    "### Basics operations\n",
    "\n",
    "#### Classics operations\n",
    "\n",
    "All the classic operations you can imagine in Python work on Numpy :"
   ]
  },
  {
   "cell_type": "code",
   "execution_count": 20,
   "metadata": {},
   "outputs": [
    {
     "data": {
      "text/plain": [
       "array([[3, 1],\n",
       "       [3, 5]])"
      ]
     },
     "metadata": {},
     "output_type": "display_data"
    },
    {
     "data": {
      "text/plain": [
       "array([[-1,  1],\n",
       "       [-3, -3]])"
      ]
     },
     "metadata": {},
     "output_type": "display_data"
    },
    {
     "data": {
      "text/plain": [
       "array([[2, 0],\n",
       "       [0, 4]])"
      ]
     },
     "metadata": {},
     "output_type": "display_data"
    }
   ],
   "source": [
    "# Create two matrices\n",
    "A = np.array([[1,1],\n",
    "              [0,1]])\n",
    "\n",
    "B = np.array([[2,0],\n",
    "              [3,4]])\n",
    "\n",
    "# Addition\n",
    "display(A+B)\n",
    "\n",
    "# Soustraction \n",
    "display(A-B)\n",
    "\n",
    "# Multiplication element by element\n",
    "display(A*B)"
   ]
  },
  {
   "cell_type": "markdown",
   "metadata": {},
   "source": [
    "#### Operations on matrices\n",
    "\n",
    "You also have operations that you will only do on matrices. These include matrix multiplications, also known as \"matrix product\".\n",
    "\n",
    "**CAREFUL:** Do not confuse classical multiplication with matrix multiplication. The former multiplies each of the elements with each other, whereas matrix multiplication works as follows:\n",
    "\n",
    "![](https://www.mathsisfun.com/algebra/images/matrix-multiply-a.svg)\n",
    "\n",
    "then\n",
    "\n",
    "![](https://www.mathsisfun.com/algebra/images/matrix-multiply-b.svg)\n",
    "\n",
    "etc.."
   ]
  },
  {
   "cell_type": "code",
   "execution_count": 21,
   "metadata": {},
   "outputs": [
    {
     "name": "stdout",
     "output_type": "stream",
     "text": [
      "Matrix A: \n",
      "[[1 1]\n",
      " [0 1]]\n",
      "\n",
      "Matrix B: \n",
      "[[2 0]\n",
      " [3 4]]\n",
      "\n",
      "Matrix multiplication of A by B:\n"
     ]
    },
    {
     "data": {
      "text/plain": [
       "array([[5, 4],\n",
       "       [3, 4]])"
      ]
     },
     "metadata": {},
     "output_type": "display_data"
    },
    {
     "name": "stdout",
     "output_type": "stream",
     "text": [
      "Matrix multiplication of A by B (dot method):\n"
     ]
    },
    {
     "data": {
      "text/plain": [
       "array([[5, 4],\n",
       "       [3, 4]])"
      ]
     },
     "metadata": {},
     "output_type": "display_data"
    },
    {
     "name": "stdout",
     "output_type": "stream",
     "text": [
      "Matrix multiplication of B by A:\n"
     ]
    },
    {
     "data": {
      "text/plain": [
       "array([[2, 2],\n",
       "       [3, 7]])"
      ]
     },
     "metadata": {},
     "output_type": "display_data"
    }
   ],
   "source": [
    "print(\"Matrix A: \")\n",
    "print(A)\n",
    "print()\n",
    "\n",
    "print(\"Matrix B: \")\n",
    "print(B)\n",
    "print()\n",
    "\n",
    "# Matrices multiplication\n",
    "print(\"Matrix multiplication of A by B:\")\n",
    "display(A@B)\n",
    "\n",
    "# Another way to do matrix multiplication with numpy:\n",
    "print(\"Matrix multiplication of A by B (dot method):\")\n",
    "display(A.dot(B))\n",
    "\n",
    "# CAREFUL : A@B != B@A ATTENTION : A@B != B@A they say the operation doesn't commute:\n",
    "print(\"Matrix multiplication of B by A:\")\n",
    "display(B@A)"
   ]
  },
  {
   "cell_type": "markdown",
   "metadata": {},
   "source": [
    "### Functions to know in Numpy\n",
    "\n",
    "#### Create matrices of 0s or 1s\n",
    "\n",
    "It is useful to be able to create matrices composed only of 0 or 1. To do this, you can use: ```np.zeros()``` or ```np.ones()```."
   ]
  },
  {
   "cell_type": "code",
   "execution_count": 22,
   "metadata": {},
   "outputs": [
    {
     "data": {
      "text/plain": [
       "array([[0., 0., 0., 0.],\n",
       "       [0., 0., 0., 0.],\n",
       "       [0., 0., 0., 0.]])"
      ]
     },
     "metadata": {},
     "output_type": "display_data"
    },
    {
     "data": {
      "text/plain": [
       "array([[1., 1., 1., 1.],\n",
       "       [1., 1., 1., 1.],\n",
       "       [1., 1., 1., 1.],\n",
       "       [1., 1., 1., 1.],\n",
       "       [1., 1., 1., 1.]])"
      ]
     },
     "metadata": {},
     "output_type": "display_data"
    },
    {
     "data": {
      "text/plain": [
       "array([[[1., 1., 1., 1.],\n",
       "        [1., 1., 1., 1.],\n",
       "        [1., 1., 1., 1.]],\n",
       "\n",
       "       [[1., 1., 1., 1.],\n",
       "        [1., 1., 1., 1.],\n",
       "        [1., 1., 1., 1.]]])"
      ]
     },
     "execution_count": 22,
     "metadata": {},
     "output_type": "execute_result"
    }
   ],
   "source": [
    "# Initialization to 0 (matrix 3x4)\n",
    "display(np.zeros((3,4)))\n",
    "\n",
    "# Initialization to 1 (matrix 5x4)\n",
    "display(np.ones((5,4)))\n",
    "\n",
    "# Third order tensor (equal to 2 matrices 3x4)\n",
    "np.ones((2,3,4))"
   ]
  },
  {
   "cell_type": "markdown",
   "metadata": {},
   "source": [
    "#### Create a list of regularly spaced values\n",
    "We have seen that the `range()` function in python can generate lists of regularly spaced integers. In the same way, the np.arange() method allows to generate lists of values (including decimal numbers):"
   ]
  },
  {
   "cell_type": "code",
   "execution_count": 23,
   "metadata": {},
   "outputs": [
    {
     "data": {
      "text/plain": [
       "\u001b[0;31mDocstring:\u001b[0m\n",
       "arange([start,] stop[, step,], dtype=None)\n",
       "\n",
       "Return evenly spaced values within a given interval.\n",
       "\n",
       "Values are generated within the half-open interval ``[start, stop)``\n",
       "(in other words, the interval including `start` but excluding `stop`).\n",
       "For integer arguments the function is equivalent to the Python built-in\n",
       "`range` function, but returns an ndarray rather than a list.\n",
       "\n",
       "When using a non-integer step, such as 0.1, the results will often not\n",
       "be consistent.  It is better to use `numpy.linspace` for these cases.\n",
       "\n",
       "Parameters\n",
       "----------\n",
       "start : number, optional\n",
       "    Start of interval.  The interval includes this value.  The default\n",
       "    start value is 0.\n",
       "stop : number\n",
       "    End of interval.  The interval does not include this value, except\n",
       "    in some cases where `step` is not an integer and floating point\n",
       "    round-off affects the length of `out`.\n",
       "step : number, optional\n",
       "    Spacing between values.  For any output `out`, this is the distance\n",
       "    between two adjacent values, ``out[i+1] - out[i]``.  The default\n",
       "    step size is 1.  If `step` is specified as a position argument,\n",
       "    `start` must also be given.\n",
       "dtype : dtype\n",
       "    The type of the output array.  If `dtype` is not given, infer the data\n",
       "    type from the other input arguments.\n",
       "\n",
       "Returns\n",
       "-------\n",
       "arange : ndarray\n",
       "    Array of evenly spaced values.\n",
       "\n",
       "    For floating point arguments, the length of the result is\n",
       "    ``ceil((stop - start)/step)``.  Because of floating point overflow,\n",
       "    this rule may result in the last element of `out` being greater\n",
       "    than `stop`.\n",
       "\n",
       "See Also\n",
       "--------\n",
       "numpy.linspace : Evenly spaced numbers with careful handling of endpoints.\n",
       "numpy.ogrid: Arrays of evenly spaced numbers in N-dimensions.\n",
       "numpy.mgrid: Grid-shaped arrays of evenly spaced numbers in N-dimensions.\n",
       "\n",
       "Examples\n",
       "--------\n",
       ">>> np.arange(3)\n",
       "array([0, 1, 2])\n",
       ">>> np.arange(3.0)\n",
       "array([ 0.,  1.,  2.])\n",
       ">>> np.arange(3,7)\n",
       "array([3, 4, 5, 6])\n",
       ">>> np.arange(3,7,2)\n",
       "array([3, 5])\n",
       "\u001b[0;31mType:\u001b[0m      builtin_function_or_method\n"
      ]
     },
     "metadata": {},
     "output_type": "display_data"
    }
   ],
   "source": [
    "np.arange?"
   ]
  },
  {
   "cell_type": "code",
   "execution_count": 24,
   "metadata": {},
   "outputs": [
    {
     "data": {
      "text/plain": [
       "array([3.2, 3.4, 3.6, 3.8, 4. , 4.2, 4.4, 4.6])"
      ]
     },
     "execution_count": 24,
     "metadata": {},
     "output_type": "execute_result"
    }
   ],
   "source": [
    "# Generates a list of numbers from 3.2 to 4.8 excluded with a step of 0.2.\n",
    "np.arange(3.2, 4.8, 0.2)"
   ]
  },
  {
   "cell_type": "markdown",
   "metadata": {},
   "source": [
    "#### Create a list of random numbers\n",
    "\n",
    "The `np.random.randn()` method generates random numbers distributed according to the Normal Law (or Gaussian distribution), so that the values will be centered around 0 with a standard deviation equal to 1: "
   ]
  },
  {
   "cell_type": "code",
   "execution_count": 25,
   "metadata": {},
   "outputs": [
    {
     "data": {
      "text/plain": [
       "\u001b[0;31mDocstring:\u001b[0m\n",
       "randn(d0, d1, ..., dn)\n",
       "\n",
       "Return a sample (or samples) from the \"standard normal\" distribution.\n",
       "\n",
       ".. note::\n",
       "    This is a convenience function for users porting code from Matlab,\n",
       "    and wraps `standard_normal`. That function takes a\n",
       "    tuple to specify the size of the output, which is consistent with\n",
       "    other NumPy functions like `numpy.zeros` and `numpy.ones`.\n",
       "\n",
       ".. note::\n",
       "    New code should use the ``standard_normal`` method of a ``default_rng()``\n",
       "    instance instead; see `random-quick-start`.\n",
       "\n",
       "If positive int_like arguments are provided, `randn` generates an array\n",
       "of shape ``(d0, d1, ..., dn)``, filled\n",
       "with random floats sampled from a univariate \"normal\" (Gaussian)\n",
       "distribution of mean 0 and variance 1. A single float randomly sampled\n",
       "from the distribution is returned if no argument is provided.\n",
       "\n",
       "Parameters\n",
       "----------\n",
       "d0, d1, ..., dn : int, optional\n",
       "    The dimensions of the returned array, must be non-negative.\n",
       "    If no argument is given a single Python float is returned.\n",
       "\n",
       "Returns\n",
       "-------\n",
       "Z : ndarray or float\n",
       "    A ``(d0, d1, ..., dn)``-shaped array of floating-point samples from\n",
       "    the standard normal distribution, or a single such float if\n",
       "    no parameters were supplied.\n",
       "\n",
       "See Also\n",
       "--------\n",
       "standard_normal : Similar, but takes a tuple as its argument.\n",
       "normal : Also accepts mu and sigma arguments.\n",
       "Generator.standard_normal: which should be used for new code.\n",
       "\n",
       "Notes\n",
       "-----\n",
       "For random samples from :math:`N(\\mu, \\sigma^2)`, use:\n",
       "\n",
       "``sigma * np.random.randn(...) + mu``\n",
       "\n",
       "Examples\n",
       "--------\n",
       ">>> np.random.randn()\n",
       "2.1923875335537315  # random\n",
       "\n",
       "Two-by-four array of samples from N(3, 6.25):\n",
       "\n",
       ">>> 3 + 2.5 * np.random.randn(2, 4)\n",
       "array([[-4.49401501,  4.00950034, -1.81814867,  7.29718677],   # random\n",
       "       [ 0.39924804,  4.68456316,  4.99394529,  4.84057254]])  # random\n",
       "\u001b[0;31mType:\u001b[0m      builtin_function_or_method\n"
      ]
     },
     "metadata": {},
     "output_type": "display_data"
    }
   ],
   "source": [
    "np.random.randn?"
   ]
  },
  {
   "cell_type": "code",
   "execution_count": 26,
   "metadata": {},
   "outputs": [
    {
     "data": {
      "text/plain": [
       "array([ 1.05369169,  0.17110182, -0.58628475, -0.49372448,  0.66371934,\n",
       "       -0.64813785, -0.43710923, -2.27709561,  0.47039191,  0.74229575])"
      ]
     },
     "execution_count": 26,
     "metadata": {},
     "output_type": "execute_result"
    }
   ],
   "source": [
    "# Generates 10 normally distributed random numbers\n",
    "np.random.randn(10)"
   ]
  },
  {
   "cell_type": "markdown",
   "metadata": {},
   "source": [
    "The `np.random.randint()` method allow to generate random entiere values, evenly distributed within a given range:"
   ]
  },
  {
   "cell_type": "code",
   "execution_count": 27,
   "metadata": {},
   "outputs": [
    {
     "data": {
      "text/plain": [
       "\u001b[0;31mDocstring:\u001b[0m\n",
       "randint(low, high=None, size=None, dtype=int)\n",
       "\n",
       "Return random integers from `low` (inclusive) to `high` (exclusive).\n",
       "\n",
       "Return random integers from the \"discrete uniform\" distribution of\n",
       "the specified dtype in the \"half-open\" interval [`low`, `high`). If\n",
       "`high` is None (the default), then results are from [0, `low`).\n",
       "\n",
       ".. note::\n",
       "    New code should use the ``integers`` method of a ``default_rng()``\n",
       "    instance instead; see `random-quick-start`.\n",
       "\n",
       "Parameters\n",
       "----------\n",
       "low : int or array-like of ints\n",
       "    Lowest (signed) integers to be drawn from the distribution (unless\n",
       "    ``high=None``, in which case this parameter is one above the\n",
       "    *highest* such integer).\n",
       "high : int or array-like of ints, optional\n",
       "    If provided, one above the largest (signed) integer to be drawn\n",
       "    from the distribution (see above for behavior if ``high=None``).\n",
       "    If array-like, must contain integer values\n",
       "size : int or tuple of ints, optional\n",
       "    Output shape.  If the given shape is, e.g., ``(m, n, k)``, then\n",
       "    ``m * n * k`` samples are drawn.  Default is None, in which case a\n",
       "    single value is returned.\n",
       "dtype : dtype, optional\n",
       "    Desired dtype of the result. Byteorder must be native.\n",
       "    The default value is int.\n",
       "\n",
       "    .. versionadded:: 1.11.0\n",
       "\n",
       "Returns\n",
       "-------\n",
       "out : int or ndarray of ints\n",
       "    `size`-shaped array of random integers from the appropriate\n",
       "    distribution, or a single such random int if `size` not provided.\n",
       "\n",
       "See Also\n",
       "--------\n",
       "random_integers : similar to `randint`, only for the closed\n",
       "    interval [`low`, `high`], and 1 is the lowest value if `high` is\n",
       "    omitted.\n",
       "Generator.integers: which should be used for new code.\n",
       "\n",
       "Examples\n",
       "--------\n",
       ">>> np.random.randint(2, size=10)\n",
       "array([1, 0, 0, 0, 1, 1, 0, 0, 1, 0]) # random\n",
       ">>> np.random.randint(1, size=10)\n",
       "array([0, 0, 0, 0, 0, 0, 0, 0, 0, 0])\n",
       "\n",
       "Generate a 2 x 4 array of ints between 0 and 4, inclusive:\n",
       "\n",
       ">>> np.random.randint(5, size=(2, 4))\n",
       "array([[4, 0, 2, 1], # random\n",
       "       [3, 2, 2, 0]])\n",
       "\n",
       "Generate a 1 x 3 array with 3 different upper bounds\n",
       "\n",
       ">>> np.random.randint(1, [3, 5, 10])\n",
       "array([2, 2, 9]) # random\n",
       "\n",
       "Generate a 1 by 3 array with 3 different lower bounds\n",
       "\n",
       ">>> np.random.randint([1, 5, 7], 10)\n",
       "array([9, 8, 7]) # random\n",
       "\n",
       "Generate a 2 by 4 array using broadcasting with dtype of uint8\n",
       "\n",
       ">>> np.random.randint([1, 3, 5, 7], [[10], [20]], dtype=np.uint8)\n",
       "array([[ 8,  6,  9,  7], # random\n",
       "       [ 1, 16,  9, 12]], dtype=uint8)\n",
       "\u001b[0;31mType:\u001b[0m      builtin_function_or_method\n"
      ]
     },
     "metadata": {},
     "output_type": "display_data"
    }
   ],
   "source": [
    "np.random.randint?"
   ]
  },
  {
   "cell_type": "code",
   "execution_count": 28,
   "metadata": {},
   "outputs": [
    {
     "data": {
      "text/plain": [
       "array([10, 28, 20, 16])"
      ]
     },
     "execution_count": 28,
     "metadata": {},
     "output_type": "execute_result"
    }
   ],
   "source": [
    "# Generates 4 integers between 10 and 30 (considering a uniform distribution)\n",
    "np.random.randint(10, 30, 4)"
   ]
  },
  {
   "cell_type": "markdown",
   "metadata": {},
   "source": [
    "#### Usefull mathematical functions\n",
    "These functions are also used quite often in the world of statistics. You can model them with numpy quite simply:"
   ]
  },
  {
   "cell_type": "code",
   "execution_count": 29,
   "metadata": {},
   "outputs": [
    {
     "data": {
      "text/plain": [
       "10686474581524.463"
      ]
     },
     "execution_count": 29,
     "metadata": {},
     "output_type": "execute_result"
    }
   ],
   "source": [
    "# Exponential\n",
    "np.exp(30)"
   ]
  },
  {
   "cell_type": "code",
   "execution_count": 30,
   "metadata": {},
   "outputs": [
    {
     "data": {
      "text/plain": [
       "3.0"
      ]
     },
     "execution_count": 30,
     "metadata": {},
     "output_type": "execute_result"
    }
   ],
   "source": [
    "# Square\n",
    "np.sqrt(9)"
   ]
  },
  {
   "cell_type": "markdown",
   "metadata": {},
   "source": [
    "### Accessing items in a multidimensional array"
   ]
  },
  {
   "cell_type": "code",
   "execution_count": 31,
   "metadata": {},
   "outputs": [],
   "source": [
    "# Creation of a matrix\n",
    "c = np.array([[  0,  1,  2],            \n",
    "               [ 10, 12, 13],\n",
    "               [100,101,102],\n",
    "               [110,112,113]])"
   ]
  },
  {
   "cell_type": "code",
   "execution_count": 32,
   "metadata": {},
   "outputs": [
    {
     "data": {
      "text/plain": [
       "113"
      ]
     },
     "execution_count": 32,
     "metadata": {},
     "output_type": "execute_result"
    }
   ],
   "source": [
    "c[3, 2] # Accessing to the value contained in the 4th row, 3rd column, is accessed"
   ]
  },
  {
   "cell_type": "code",
   "execution_count": 33,
   "metadata": {},
   "outputs": [],
   "source": [
    "# Creation of a third order tensor (2 matrices superposed) \n",
    "c = np.array( [[[  0,  1,  2],               \n",
    "                 [ 10, 12, 13]],\n",
    "                [[100,101,102],\n",
    "                 [110,112,113]]])"
   ]
  },
  {
   "cell_type": "code",
   "execution_count": 34,
   "metadata": {},
   "outputs": [
    {
     "data": {
      "text/plain": [
       "13"
      ]
     },
     "execution_count": 34,
     "metadata": {},
     "output_type": "execute_result"
    }
   ],
   "source": [
    "c[0, 1, 2] # We access the value contained in the 2nd row, 3rd column of the first matrix"
   ]
  },
  {
   "cell_type": "markdown",
   "metadata": {},
   "source": [
    "### Itérer sur les array"
   ]
  },
  {
   "cell_type": "code",
   "execution_count": 35,
   "metadata": {},
   "outputs": [],
   "source": [
    "# Création d'une matrice\n",
    "c = np.array([[  0,  1,  2],            \n",
    "               [ 10, 12, 13],\n",
    "               [100,101,102],\n",
    "               [110,112,113]])"
   ]
  },
  {
   "cell_type": "markdown",
   "metadata": {},
   "source": [
    "#### Iterate on arrays\n",
    "\n",
    "You can use the `np.flat` attribut to iterate across all the elements in an array:"
   ]
  },
  {
   "cell_type": "code",
   "execution_count": 36,
   "metadata": {},
   "outputs": [
    {
     "name": "stdout",
     "output_type": "stream",
     "text": [
      "0\n",
      "1\n",
      "2\n",
      "10\n",
      "12\n",
      "13\n",
      "100\n",
      "101\n",
      "102\n",
      "110\n",
      "112\n",
      "113\n",
      "\n",
      "----------\n",
      "\n",
      "0\n",
      "1\n",
      "2\n",
      "10\n",
      "12\n",
      "13\n",
      "100\n",
      "101\n",
      "102\n",
      "110\n",
      "112\n",
      "113\n"
     ]
    }
   ],
   "source": [
    "# Iterate on the elements of the matrix\n",
    "\n",
    "# Not recommanded (may be slow):\n",
    "for row in c:\n",
    "    for e in row:\n",
    "        print(e)\n",
    "\n",
    "print()\n",
    "print('----------')\n",
    "print()\n",
    "        \n",
    "# Better:\n",
    "for e in c.flat:\n",
    "    print(e)"
   ]
  },
  {
   "cell_type": "markdown",
   "metadata": {},
   "source": [
    "### Slices\n",
    "In the same way as in pandas, you can use the slices syntax to select a sub-part of the arrays."
   ]
  },
  {
   "cell_type": "code",
   "execution_count": 37,
   "metadata": {},
   "outputs": [
    {
     "name": "stdout",
     "output_type": "stream",
     "text": [
      "[[  0   1   2]\n",
      " [ 10  12  13]\n",
      " [100 101 102]\n",
      " [110 112 113]]\n"
     ]
    }
   ],
   "source": [
    "def f(x, y):\n",
    "    return 10*x+y\n",
    "\n",
    "# Creating an array from the function from above\n",
    "print(c)"
   ]
  },
  {
   "cell_type": "code",
   "execution_count": 38,
   "metadata": {},
   "outputs": [
    {
     "name": "stdout",
     "output_type": "stream",
     "text": [
      "[  1  12 101 112]\n",
      "[  1  12 101 112]\n",
      "\n",
      "----------\n",
      "\n",
      "[[ 10  12  13]\n",
      " [100 101 102]]\n"
     ]
    }
   ],
   "source": [
    "# Slices\n",
    "print(c[0:5, 1])  # every lines of the second column\n",
    "print(c[:, 1])  # every lines of the second column\n",
    "\n",
    "print()\n",
    "print('----------')\n",
    "print()\n",
    "\n",
    "print(c[1:3, : ]) # 2nd and 3rd lines of all columns"
   ]
  },
  {
   "cell_type": "markdown",
   "metadata": {},
   "source": [
    "### Masks\n",
    "Similarly, you can also use masks to select elements from your arrays based on a condition:"
   ]
  },
  {
   "cell_type": "code",
   "execution_count": 39,
   "metadata": {},
   "outputs": [
    {
     "data": {
      "text/plain": [
       "array([[ 0,  1,  2,  3],\n",
       "       [ 4,  5,  6,  7],\n",
       "       [ 8,  9, 10, 11]])"
      ]
     },
     "metadata": {},
     "output_type": "display_data"
    },
    {
     "data": {
      "text/plain": [
       "array([[False, False, False, False],\n",
       "       [False,  True,  True,  True],\n",
       "       [ True,  True,  True,  True]])"
      ]
     },
     "execution_count": 39,
     "metadata": {},
     "output_type": "execute_result"
    }
   ],
   "source": [
    "# Create a table\n",
    "a = np.arange(12).reshape(3,4)\n",
    "display(a)\n",
    "# Create a mask\n",
    "b = a > 4\n",
    "b"
   ]
  },
  {
   "cell_type": "code",
   "execution_count": 40,
   "metadata": {},
   "outputs": [
    {
     "data": {
      "text/plain": [
       "array([ 5,  6,  7,  8,  9, 10, 11])"
      ]
     },
     "execution_count": 40,
     "metadata": {},
     "output_type": "execute_result"
    }
   ],
   "source": [
    "# Use the mask to select elements of the matrix\n",
    "a[b]"
   ]
  },
  {
   "cell_type": "markdown",
   "metadata": {},
   "source": [
    "Only the values for which the mask had the value `True` were shown."
   ]
  },
  {
   "cell_type": "markdown",
   "metadata": {},
   "source": [
    "## Manipulation of the shape of a numpy array\n",
    "\n",
    "Finally, it is good to talk about the *shape* of an array. This is especially useful when manipulating images when you're attacking deep learning.\n",
    "\n",
    "### What is the shape of a numpy array?\n",
    "\n",
    "The *shape* of an array gives us information about its dimension and the number of elements present in each dimension."
   ]
  },
  {
   "cell_type": "code",
   "execution_count": 41,
   "metadata": {},
   "outputs": [
    {
     "data": {
      "text/plain": [
       "(4, 3)"
      ]
     },
     "execution_count": 41,
     "metadata": {},
     "output_type": "execute_result"
    }
   ],
   "source": [
    "# This is the shape of a matrix\n",
    "\n",
    "c = np.array([[  0,  1,  2],            \n",
    "               [ 10, 12, 13],\n",
    "               [100,101,102],\n",
    "               [110,112,113]])\n",
    "\n",
    "c.shape"
   ]
  },
  {
   "cell_type": "code",
   "execution_count": 42,
   "metadata": {},
   "outputs": [
    {
     "data": {
      "text/plain": [
       "2"
      ]
     },
     "execution_count": 42,
     "metadata": {},
     "output_type": "execute_result"
    }
   ],
   "source": [
    "# A matrix is an array of the second dimension (order):\n",
    "len(c.shape)"
   ]
  },
  {
   "cell_type": "code",
   "execution_count": 43,
   "metadata": {},
   "outputs": [
    {
     "data": {
      "text/plain": [
       "1"
      ]
     },
     "execution_count": 43,
     "metadata": {},
     "output_type": "execute_result"
    }
   ],
   "source": [
    "# A vector is an array of the first dimension:\n",
    "v = np.array([1,2,3,4])\n",
    "len(v.shape)"
   ]
  },
  {
   "cell_type": "markdown",
   "metadata": {},
   "source": [
    "### Shape & Reshape\n",
    "\n",
    "Quite often you need to change the shape of a matrix. For example, you might want to invert the rows and columns of your matrix or *flatten* your matrix. You can do this with ``.reshape()```"
   ]
  },
  {
   "cell_type": "code",
   "execution_count": 44,
   "metadata": {},
   "outputs": [
    {
     "data": {
      "text/plain": [
       "array([[  0,   1,   2,  10,  12,  13],\n",
       "       [100, 101, 102, 110, 112, 113]])"
      ]
     },
     "execution_count": 44,
     "metadata": {},
     "output_type": "execute_result"
    }
   ],
   "source": [
    "# Change array's shape with reshape()\n",
    "c = np.array([[  0,  1,  2],            \n",
    "               [ 10, 12, 13],\n",
    "               [100,101,102],\n",
    "               [110,112,113]])\n",
    "\n",
    "c.reshape((2,6)) # Be careful: n_lines x n_column must remain equal to the number of elements present in c"
   ]
  },
  {
   "cell_type": "markdown",
   "metadata": {},
   "source": [
    "You can also *guess* the value inside one of the dimensions of your array by setting the value `-1`."
   ]
  },
  {
   "cell_type": "code",
   "execution_count": 45,
   "metadata": {},
   "outputs": [
    {
     "data": {
      "text/plain": [
       "array([[  0,   1,   2,  10],\n",
       "       [ 12,  13, 100, 101],\n",
       "       [102, 110, 112, 113]])"
      ]
     },
     "execution_count": 45,
     "metadata": {},
     "output_type": "execute_result"
    }
   ],
   "source": [
    "# You can use -1 to let numpy guess the number of rows or the number of columns:\n",
    "c.reshape((-1,4))"
   ]
  },
  {
   "cell_type": "code",
   "execution_count": 46,
   "metadata": {
    "scrolled": true
   },
   "outputs": [
    {
     "data": {
      "text/plain": [
       "array([[  0,   1,   2,  10,  12,  13],\n",
       "       [100, 101, 102, 110, 112, 113]])"
      ]
     },
     "execution_count": 46,
     "metadata": {},
     "output_type": "execute_result"
    }
   ],
   "source": [
    "c.reshape((2,-1))"
   ]
  },
  {
   "cell_type": "markdown",
   "metadata": {},
   "source": [
    "## List of functions grouped by theme\n",
    "\n",
    "We have explained only the main features of Numpy in this course, but if you wish, you can explore the exhaustive list grouped by theme:\n",
    "\n",
    "[Routines](https://docs.scipy.org/doc/numpy/reference/routines.html#routines)"
   ]
  }
 ],
 "metadata": {
  "kernelspec": {
   "display_name": "Python 3",
   "language": "python",
   "name": "python3"
  },
  "language_info": {
   "codemirror_mode": {
    "name": "ipython",
    "version": 3
   },
   "file_extension": ".py",
   "mimetype": "text/x-python",
   "name": "python",
   "nbconvert_exporter": "python",
   "pygments_lexer": "ipython3",
   "version": "3.8.6"
  }
 },
 "nbformat": 4,
 "nbformat_minor": 4
}
