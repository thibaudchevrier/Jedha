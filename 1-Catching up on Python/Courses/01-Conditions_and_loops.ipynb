{
  "cells": [
    {
      "cell_type": "markdown",
      "metadata": {
        "id": "w0-nT-B9-9rp",
        "colab_type": "text"
      },
      "source": [
        "# Python Fundamentals - Mastering conditions & loops"
      ]
    },
    {
      "cell_type": "markdown",
      "metadata": {
        "id": "EHvRSpJo-9rq",
        "colab_type": "text"
      },
      "source": [
        "## What you will learn in this course\n",
        "\n",
        "During this first course of our long journey in Data Science, we will review the fundamentals of Python and especially the concept of loops and conditions. The goal is to give you a solid foundation to move forward more quickly in the future.\n",
        "\n",
        "Here is what we will cover:\n",
        "\n",
        "\n",
        "*   What is an IDE\n",
        "*   What is a console and its main controls?\n",
        "*   Making conditions\n",
        "*   Make a FOR loop\n",
        "*   Make a WHILE loop\n",
        "\n",
        "## Developer's Toolkit\n",
        "\n",
        "### Strolling through your folders with the terminal\n",
        "\n",
        "Very often you will have to tell your console where to find the folders and files you are going to run. That's why you will need to know the main commands that allow you to perform these tasks.\n",
        "\n",
        "\n",
        "WARNING: The commands are sometimes not the same between MAC and PC. You will have to pay attention to this depending on the machine you are going to work on. We are using Mac for writing this course but we will also put the commands for PC.\n",
        "\n",
        "##### `ls` (or `dir` on Windows)\n",
        "\n",
        "This command is used to list everything in the folder you are in. \n",
        "For example:\n",
        "\n",
        "\n",
        "```python\n",
        "MacBook-Air-de-Antoine-2: ONE_FOLDER antoinekrajnc$ ls\n",
        ">>>> files_1.py files_2.py files_3.py\n",
        "```\n",
        "\n",
        "\n",
        "NB : For Windows, this command is not called `ls` but `dir`\n",
        "\n",
        "That's it, this covers the two main commands you need to know in your console. Now let's look at how we can execute code in our console.\n",
        "\n",
        "##### `cd`\n",
        "\n",
        "This command is to change the folder you are in. \n",
        "Here is an example:\n",
        "\n",
        "\n",
        "```python\n",
        "$ cd Desktop\n",
        "```\n",
        "\n",
        "Here we go directly to the _Desktop_ folder on our computer.\n",
        "\n",
        "With `cd` and `ls`, you can walk through all your filesystem in the terminal. We will teach you more terminal commands later.\n",
        "\n",
        "\n",
        "### The REPL\n",
        "\n",
        "We can execute code on our console via our REPL (Read Evaluate Print Loop). To access it, just write the `python` command on your console:\n",
        "\n",
        "\n",
        "```python\n",
        "$ python\n",
        "```\n",
        "\n",
        "\n",
        "You will enter in the REPL. This tool is very handy for testing raw code and for doing quick tests. Let's write a simple program:\n",
        "\n",
        "\n",
        "```python\n",
        "Print(\"Hello World !\")\n",
        ">>> Hello World !\n",
        "```\n",
        "\n",
        "\n",
        "Here is a simple program in our REPL that allows us to write _Hello World_ in our console.\n",
        "\n",
        "However, the REPL has one drawback, it's that you can't change the code easily, which is not convenient because the slightest mistake will require you to rewrite all the code from scratch, which is very frustrating when you've already written 9-10 lines of code. That's why we use what we call a code editor.\n",
        "\n",
        "\n",
        "### A code editor\n",
        "\n",
        "A text editor is where you'll put all your script. You have different types of text editors like Sublime, Pycharm or Notepad++. If you already have a favorite editor, use the one you like. Otherwise, we advise you Atom or Sublime which are generalist and good or Pycharm which is specialized for Python.\n",
        "\n",
        "\n",
        "### What is an IDE ?\n",
        "\n",
        "Very often, instead of using the console and the text editor separately, developers prefer to use what is called an IDE or Integrated Development Environment. They allow you to bring your console and text editor (and sometimes more features) together in a graphical user interface that will help you code more easily.\n",
        "\n",
        "In Data Science, the most commonly used IDEs are Spyder and Jupyter. There is an equivalent of Jupyter installed in a Cloud: [Google Colab](https://colab.research.google.com/notebooks/welcome.ipynb#recent=true).\n",
        "Google Colaboratory has all the advantages of a Jupyter Notebook without you having to install anything locally on your machine !\n",
        "\n",
        "During this program, we will work on a J.U.L.I.E. workspace in which Jupyter and all the tools needed to do Data Science are installed. You will be able to do all the exercises proposed during the course, whatever your operating system (Mac, Windows, Linux), without having to worry about prior installations. The file you are reading (with the .ipynb extension) is in fact a Jupyter notebook."
      ]
    },
    {
      "cell_type": "markdown",
      "metadata": {
        "id": "aN1svLqv-9rr",
        "colab_type": "text"
      },
      "source": [
        "## Building a condition\n",
        "\n",
        "The programming languages all work with the same logical structure. If you understand three basic concepts, you won't have trouble switching from one language to another. These three concepts are: conditions, loops, and functions. We will first focus on conditions and loops. So let's begin:\n",
        "\n",
        "\n",
        "### The structure of a condition"
      ]
    },
    {
      "cell_type": "code",
      "metadata": {
        "id": "ohl2W3WS-9rs",
        "colab_type": "code",
        "colab": {}
      },
      "source": [
        "# Beforehand, we initialize a variable called a, which here is an integer with the value 3\n",
        "a = 3"
      ],
      "execution_count": 1,
      "outputs": []
    },
    {
      "cell_type": "markdown",
      "metadata": {
        "id": "mre8zTbl-9rw",
        "colab_type": "text"
      },
      "source": [
        "#### `if/else`\n",
        "Here's what the structure of a simple condition looks like:\n",
        "\n",
        "\n",
        "```python\n",
        "if condition:\n",
        "    code\n",
        "else:\n",
        "    code\n",
        "```\n",
        "\n",
        "\n",
        "Let's take an example:"
      ]
    },
    {
      "cell_type": "code",
      "metadata": {
        "id": "vhKiTCUv-9rx",
        "colab_type": "code",
        "colab": {
          "base_uri": "https://localhost:8080/",
          "height": 34
        },
        "outputId": "b6776d91-181a-4078-f260-0dc6ac204fb2",
        "tags": []
      },
      "source": [
        "# A different sentence is displayed depending on the value of a\n",
        "if a > 2:\n",
        "    print(\"a is greater than 2\")\n",
        "else:\n",
        "    print(\"a is no more than 2\")"
      ],
      "execution_count": 2,
      "outputs": [
        {
          "output_type": "stream",
          "name": "stdout",
          "text": "a is greater than 2\n"
        }
      ]
    },
    {
      "cell_type": "markdown",
      "metadata": {
        "id": "ZckwL3tp-9r1",
        "colab_type": "text"
      },
      "source": [
        "#### `elif`\n",
        "If you have several possible conditions, you can use `elif`, here is the structure :\n",
        "\n",
        "\n",
        "```python\n",
        "if first_condition:\n",
        "    Code\n",
        "elif second_condition:\n",
        "    Code\n",
        "else:\n",
        "    code\n",
        "```\n",
        "\n",
        "\n",
        "Let's take an example:"
      ]
    },
    {
      "cell_type": "code",
      "metadata": {
        "id": "vc7JJ_Sr-9r2",
        "colab_type": "code",
        "colab": {
          "base_uri": "https://localhost:8080/",
          "height": 34
        },
        "outputId": "adea39be-add7-4ef7-900b-ab5534458cfb",
        "tags": []
      },
      "source": [
        "if a > 3:\n",
        "    print(\"a is strictly superior to 3\")\n",
        "elif a == 3:\n",
        "    print(\"a is equal to 3\")\n",
        "else:\n",
        "    print(\"a is strictly less than 3\")"
      ],
      "execution_count": 3,
      "outputs": [
        {
          "output_type": "stream",
          "name": "stdout",
          "text": "a is equal to 3\n"
        }
      ]
    },
    {
      "cell_type": "markdown",
      "metadata": {
        "id": "w3jQX8FD-9r5",
        "colab_type": "text"
      },
      "source": [
        "### The different operators\n",
        "\n",
        "If you want to create a condition, you need to know the main operators that will allow you to model them. \n",
        "\n",
        "Here is a summary table :\n",
        "\n",
        "\n",
        "<table>\n",
        "  <tr>\n",
        "   <td><strong>Operator</strong>\n",
        "   </td>\n",
        "   <td><strong>Meaning</strong>\n",
        "   </td>\n",
        "  </tr>\n",
        "  <tr>\n",
        "   <td>>\n",
        "   </td>\n",
        "   <td>Strict superior\n",
        "   </td>\n",
        "  </tr>\n",
        "  <tr>\n",
        "   <td><\n",
        "   </td>\n",
        "   <td>Strictly inferior\n",
        "   </td>\n",
        "  </tr>\n",
        "  <tr>\n",
        "   <td>>=\n",
        "   </td>\n",
        "   <td>Superior or equal\n",
        "   </td>\n",
        "  </tr>\n",
        "  <tr>\n",
        "   <td><=\n",
        "   </td>\n",
        "   <td>Inferior or equal\n",
        "   </td>\n",
        "  </tr>\n",
        "  <tr>\n",
        "   <td>==\n",
        "   </td>\n",
        "   <td>Equal to\n",
        "<p>\n",
        "(Be careful to set the double equal otherwise it's as if you were assigning a new value to a variable)\n",
        "   </td>\n",
        "  </tr>\n",
        "  <tr>\n",
        "   <td>!= (or <>)\n",
        "   </td>\n",
        "   <td>Different from\n",
        "   </td>\n",
        "  </tr>\n",
        "</table>"
      ]
    },
    {
      "cell_type": "markdown",
      "metadata": {
        "id": "vb0CSn07-9r6",
        "colab_type": "text"
      },
      "source": [
        "## Make a loop\n",
        "\n",
        "Now let's look at the second fundamental concept in the program: loop building. These loops make it possible to iterate a certain number of times on a program. We do lots of loops in real life too. For example, _As long as I haven't finished my homework, I keep working._ This action could be modeled, in programming, by a loop. So let's see how to write them."
      ]
    },
    {
      "cell_type": "markdown",
      "metadata": {
        "id": "LNM-WPCx-9r6",
        "colab_type": "text"
      },
      "source": [
        "### Loop `for`\n",
        "\n",
        "One of the most commonly used loops is the `for` loop. This loop will allow you to iterate a finite number of times over a program. Here's how it is structured:\n",
        "\n",
        "\n",
        "```python\n",
        "for item in iterator:\n",
        "    code\n",
        "```\n",
        "\n",
        "\n",
        "Let's take a concrete example:"
      ]
    },
    {
      "cell_type": "code",
      "metadata": {
        "id": "nsz6Ba77-9r-",
        "colab_type": "code",
        "colab": {
          "base_uri": "https://localhost:8080/",
          "height": 187
        },
        "outputId": "4ef39f4d-40fb-44a5-e86e-8e1e0421a076",
        "tags": []
      },
      "source": [
        "# Note: the last integer passed in range() is EXCLUDED (here, we stop at 9 and not 10)\n",
        "for i in range(0, 10):\n",
        "    print(\"This is the iteration number \", i)"
      ],
      "execution_count": 4,
      "outputs": [
        {
          "output_type": "stream",
          "name": "stdout",
          "text": "This is the iteration number  0\nThis is the iteration number  1\nThis is the iteration number  2\nThis is the iteration number  3\nThis is the iteration number  4\nThis is the iteration number  5\nThis is the iteration number  6\nThis is the iteration number  7\nThis is the iteration number  8\nThis is the iteration number  9\n"
        }
      ]
    },
    {
      "cell_type": "markdown",
      "metadata": {
        "id": "PdsH4q-e-9sB",
        "colab_type": "text"
      },
      "source": [
        "Here, _i_ takes values from 0 to 9 using the `range()` function.\n",
        "\n",
        "WARNING: when using the `range()` function, the last element, in this example 10, is not included in the `for` loop.\n",
        "\n",
        "You can also iterate on variables:"
      ]
    },
    {
      "cell_type": "code",
      "metadata": {
        "id": "yKLG_-X--9sB",
        "colab_type": "code",
        "colab": {},
        "outputId": "d744d251-7935-4f02-ce61-68aaf7321031",
        "tags": []
      },
      "source": [
        "# Variable a contains a list on which we can iterate:\n",
        "a_list = [\"Hello\", \"My\", \"Name\", \"Is\", \"Michel\"]\n",
        "for i in a_list:\n",
        "    print(i)"
      ],
      "execution_count": 5,
      "outputs": [
        {
          "output_type": "stream",
          "name": "stdout",
          "text": "Hello\nMy\nName\nIs\nMichel\n"
        }
      ]
    },
    {
      "cell_type": "markdown",
      "metadata": {
        "id": "rwzg91WD-9sF",
        "colab_type": "text"
      },
      "source": [
        "### `WHILE` loops\n",
        "The second type of loop is the `while` loop, which allows you to iterate through a program under a certain condition. As long as the condition is verified, the loop runs. Here is the structure:\n",
        "\n",
        "\n",
        "```python\n",
        "while condition:\n",
        "    code\n",
        "```\n",
        "\n",
        "\n",
        "Since the examples often speak for themselves:"
      ]
    },
    {
      "cell_type": "code",
      "metadata": {
        "id": "r0qoM5-N-9sF",
        "colab_type": "code",
        "colab": {},
        "outputId": "7e6354d4-f4a8-4f23-ebb7-143506772ee2",
        "tags": []
      },
      "source": [
        "# The while loops continue to iterate as long as a condition is verified.\n",
        "# Warning: in this example, if you forget to change the value of a at each iteration,\n",
        "# We create an infinite loop, because the condition will always be fulfilled!\n",
        "a = 3\n",
        "while a <= 10:\n",
        "    print(\"a is equal to {}\".format(a))\n",
        "    a += 1"
      ],
      "execution_count": 6,
      "outputs": [
        {
          "output_type": "stream",
          "name": "stdout",
          "text": "a is equal to 3\na is equal to 4\na is equal to 5\na is equal to 6\na is equal to 7\na is equal to 8\na is equal to 9\na is equal to 10\n"
        }
      ]
    },
    {
      "cell_type": "markdown",
      "metadata": {
        "id": "LaFmyviz-9sI",
        "colab_type": "text"
      },
      "source": [
        "Here the loop was executed as long as _a_ was less than 10. We exited the loop from the moment _a_ is equal to 10.\n",
        "\n",
        "WARNING: It is quite possible to create infinite loops with a `while` loop. That is, a loop that never stops. If you are in this case, press _ctrl + c_ in your console and this should stop the program."
      ]
    },
    {
      "cell_type": "markdown",
      "metadata": {
        "id": "Y-to4LtA-9sJ",
        "colab_type": "text"
      },
      "source": [
        "### Difference between `FOR` et `WHILE`\n",
        "\n",
        "The main difference between the WHILE loop and the FOR loop is that, in the former, you don't have to know how many times you are going to iterate in your program. In the second, your number of iterations is finished no matter what. It's important to understand the difference between the two because, depending on your needs, it's quite possible that you'll choose one or the other."
      ]
    },
    {
      "cell_type": "markdown",
      "metadata": {
        "id": "bkiyYKee-9sJ",
        "colab_type": "text"
      },
      "source": [
        "### Leave a loop with `break`\n",
        "You may have to get out of a loop even if it is supposed to continue. For example, _As long as I haven't finished my homework, I continue working EXCEPT if it is after 11:00 pm. This is when _Break_ is very useful. Let's look directly at an example:\n"
      ]
    },
    {
      "cell_type": "code",
      "metadata": {
        "id": "dm2nNXK5-9sK",
        "colab_type": "code",
        "colab": {},
        "outputId": "2d0c3bc6-f38c-4b68-f088-a3aa86af5826",
        "tags": []
      },
      "source": [
        "a = [1,2,3,\"stop\", 4,5,6,7,9]\n",
        "for i in a:\n",
        "    print(i)\n",
        "    if i == \"stop\":\n",
        "        break"
      ],
      "execution_count": 7,
      "outputs": [
        {
          "output_type": "stream",
          "name": "stdout",
          "text": "1\n2\n3\nstop\n"
        }
      ]
    },
    {
      "cell_type": "markdown",
      "metadata": {
        "id": "4qO1LGXi-9sM",
        "colab_type": "text"
      },
      "source": [
        "Here, we stopped as soon as the loop iterated to _stop_."
      ]
    },
    {
      "cell_type": "markdown",
      "metadata": {
        "id": "QaudXF4T-9sN",
        "colab_type": "text"
      },
      "source": [
        "## Resources\n",
        "\n",
        "[Practical Introduction to Python - Antoine Krajnc & Anais Armandy](https://bit.ly/39Vnoqk)\n",
        "\n",
        "[Practical Introduction to Python Workshop](http://bit.ly/2MgPel0)"
      ]
    }
  ],
  "metadata": {
    "kernelspec": {
      "display_name": "Python 3",
      "language": "python",
      "name": "python3"
    },
    "language_info": {
      "codemirror_mode": {
        "name": "ipython",
        "version": 3
      },
      "file_extension": ".py",
      "mimetype": "text/x-python",
      "name": "python",
      "nbconvert_exporter": "python",
      "pygments_lexer": "ipython3",
      "version": "3.7.6"
    },
    "colab": {
      "name": "01-Conditions-and-loops.ipynb",
      "provenance": [],
      "collapsed_sections": []
    }
  },
  "nbformat": 4,
  "nbformat_minor": 0
}