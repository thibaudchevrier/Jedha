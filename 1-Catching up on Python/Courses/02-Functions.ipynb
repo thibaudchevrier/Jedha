{
 "cells": [
  {
   "cell_type": "markdown",
   "metadata": {},
   "source": [
    "# Functions\n",
    "---"
   ]
  },
  {
   "cell_type": "markdown",
   "metadata": {},
   "source": [
    "## What you'll learn in this course \n",
    "\n",
    "* What are functions \n",
    "* Create functions \n",
    "* Use Try / Except "
   ]
  },
  {
   "cell_type": "markdown",
   "metadata": {},
   "source": [
    "## *Why using them ?*\n",
    "\n",
    "In code, we respect the principle of remaining DRY. This acronym means \"Don't Repeat Yourself\". In general, think that if you have two lines of code that repeat exactly, there must surely be another way to write your program more elegantly.\n",
    "\n",
    "Don't forget that you will be reading code more often than you will be writing it. So it is good to follow standards and write elegantly. Just as you wouldn't like to read a novel that has been badly written, no one likes to read badly structured code.\n",
    "\n",
    "That's why functions are very useful. You will be able to write once and for all a sequence of instructions that you \"store\" in a function. Then you can call that function whenever you need to execute that sequence of instructions.\n",
    "\n",
    "\n",
    "## How to write a function ?\n",
    "\n",
    "This is how they are structured :"
   ]
  },
  {
   "cell_type": "code",
   "execution_count": 3,
   "metadata": {},
   "outputs": [],
   "source": [
    "def name_of_the_function(arguments):\n",
    "    instructions \n",
    "    return result # optional: allows to reuse the result of a calculation outside the function"
   ]
  },
  {
   "cell_type": "markdown",
   "metadata": {},
   "source": [
    "A function always starts with a `def` followed by the `name of the function`, and ends with the `arguments` of the function, which represent the variables that will be passed to the function for execution. Then, in the same way as a loop or a condition, you will have to make an indentation and add your code containing the different instructions to be executed when the function is called.\n",
    "\n",
    "Once the function is implemented, you can use it as many times as you want. In the example below, we declare a `square_number()` function that calculates the square of a number and then displays the result on the screen. This function is then called three times, allowing you to re-execute the same instruction sequence without having to rewrite the same code three times. A function always starts with a `def' followed by the `name of the function' and then the `arguments' of the function, which are the variables that are passed to the function for execution. Then, in the same way as a loop or a condition, you will have to make an indentation and add your code containing the different instructions to be executed when the function is called.\n",
    "\n",
    "Once the function is implemented, you can use it as many times as you want. In the example below, we declare a `square_number()` function that calculates the square of a number and then displays the result on the screen. This function is then called three times, allowing you to re-execute the same instruction sequence without having to rewrite the same code three times. This is usually more readable:"
   ]
  },
  {
   "cell_type": "code",
   "execution_count": 4,
   "metadata": {},
   "outputs": [
    {
     "output_type": "stream",
     "name": "stdout",
     "text": "The square of  3  is  9\nThe square of  4  is  16\nThe square of  12  is  144\n"
    }
   ],
   "source": [
    "# Declaration of the function\n",
    "def square_number(number):\n",
    "    result = number**2\n",
    "    print('The square of ', number, ' is ', result)\n",
    "\n",
    "# Calls to the function: The code contained in the function is executed in this step.\n",
    "square_number(3)\n",
    "square_number(4)\n",
    "square_number(12)"
   ]
  },
  {
   "cell_type": "markdown",
   "metadata": {},
   "source": [
    "Optionally, the declaration of the function can end with a `return' instruction, which allows the result of the calculation to be retrieved from the function and reused later in the code. \n",
    "\n",
    "If your function declaration ends with a `return', then you can retrieve the returned variable by writing, when calling the :\n",
    "\n",
    "```\n",
    "res = function_name(argument)\n",
    "```"
   ]
  },
  {
   "cell_type": "code",
   "execution_count": 5,
   "metadata": {},
   "outputs": [
    {
     "output_type": "stream",
     "name": "stdout",
     "text": "The square of  4  is  16\nI can reuse the result of the calculation outside the function, for example by adding 1 :  17\n"
    }
   ],
   "source": [
    "# If you want to retrieve the result of the calculation to reuse it later, you have to add a \"return\".\n",
    "def square_number(number):\n",
    "    result = number**2\n",
    "    print('The square of ', number, ' is ', result)\n",
    "    return result\n",
    "\n",
    "res = square_number(4)\n",
    "print('I can reuse the result of the calculation outside the function, for example by adding 1 : ', res+1)"
   ]
  },
  {
   "cell_type": "markdown",
   "metadata": {},
   "source": [
    "## Multi-argument function\n",
    "\n",
    "A function can take several arguments. We will then write :\n"
   ]
  },
  {
   "cell_type": "code",
   "execution_count": 7,
   "metadata": {},
   "outputs": [],
   "source": [
    "def name_of_the_function(x, y, z):\n",
    "    ### CODE\n",
    "    return x, y, z"
   ]
  },
  {
   "cell_type": "code",
   "execution_count": 6,
   "metadata": {},
   "outputs": [
    {
     "output_type": "stream",
     "name": "stdout",
     "text": "The power 3 of 2 is 8 \nThe power 3 of 2 is 8 \nThe power 3 of 2 is 8 \n"
    }
   ],
   "source": [
    "# A function taking two arguments \"number\" and \"power\"\n",
    "def compute_power(number, power):\n",
    "    result = number**power\n",
    "    print('The power {} of {} is {} '.format(power, number, result)) \n",
    "\n",
    "# Calling the function: pay attention to the order in which you pass the arguments\n",
    "compute_power(2, 3) # here number is worth 2 and power is worth 3\n",
    "\n",
    "# We can take the names of the arguments to be more explicit :\n",
    "compute_power(number = 2, power = 3)\n",
    "# In this case, the order of the arguments no longer matters. :\n",
    "compute_power(power = 3, number = 2) # gives the same result"
   ]
  },
  {
   "cell_type": "markdown",
   "metadata": {},
   "source": [
    "## Add a default argument\n",
    "\n",
    "Sometimes it is useful to have a default argument in your function. That is, if the user has not specified a value for the argument, the function will still take into account a value that you specified before when you built your function."
   ]
  },
  {
   "cell_type": "code",
   "execution_count": 8,
   "metadata": {},
   "outputs": [],
   "source": [
    "# The argument \"power\" will be worth 2 by default if the user does not specify a value :\n",
    "def compute_power(number, power = 2):\n",
    "    result = number**power\n",
    "    print('The power {} of {} is {} '.format(power, number, result))"
   ]
  },
  {
   "cell_type": "code",
   "execution_count": 9,
   "metadata": {},
   "outputs": [
    {
     "output_type": "stream",
     "name": "stdout",
     "text": "The power 2 of 2 is 4 \nThe power 2 of 2 is 4 \nThe power 3 of 2 is 8 \nThe power 3 of 2 is 8 \n"
    }
   ],
   "source": [
    "# Different calls to the function\n",
    "\n",
    "# Call using the default argument power = 2\n",
    "compute_power(2) # we only pass the number value\n",
    "compute_power(number = 2) # equivalent to above but more explicit\n",
    "\n",
    "# If you wish to change the value of power :\n",
    "compute_power(2, 3)\n",
    "compute_power(number = 2, power = 3) # more explicit"
   ]
  },
  {
   "cell_type": "markdown",
   "metadata": {},
   "source": [
    "## Manage exceptions\n",
    "\n",
    "The last thing you need to know about functions are exceptions. In other words: _what do I do when my user does something they're not supposed to do?_\n",
    "\n",
    "Let's take an example of an exception to our square_number() function.  If the user passes a string instead of a number as an argument, python will obviously not be able to calculate the square of a string and this will produce an error :"
   ]
  },
  {
   "cell_type": "code",
   "execution_count": 10,
   "metadata": {},
   "outputs": [
    {
     "output_type": "error",
     "ename": "TypeError",
     "evalue": "unsupported operand type(s) for ** or pow(): 'str' and 'int'",
     "traceback": [
      "\u001b[0;31m---------------------------------------------------------------------------\u001b[0m",
      "\u001b[0;31mTypeError\u001b[0m                                 Traceback (most recent call last)",
      "\u001b[0;32m<ipython-input-10-9342b984f039>\u001b[0m in \u001b[0;36m<module>\u001b[0;34m\u001b[0m\n\u001b[1;32m      4\u001b[0m \u001b[0;34m\u001b[0m\u001b[0m\n\u001b[1;32m      5\u001b[0m \u001b[0;31m# This will produce an error :\u001b[0m\u001b[0;34m\u001b[0m\u001b[0;34m\u001b[0m\u001b[0;34m\u001b[0m\u001b[0m\n\u001b[0;32m----> 6\u001b[0;31m \u001b[0msquare_number\u001b[0m\u001b[0;34m(\u001b[0m\u001b[0;34m\"Hello\"\u001b[0m\u001b[0;34m)\u001b[0m\u001b[0;34m\u001b[0m\u001b[0;34m\u001b[0m\u001b[0m\n\u001b[0m\u001b[1;32m      7\u001b[0m \u001b[0;34m\u001b[0m\u001b[0m\n\u001b[1;32m      8\u001b[0m \u001b[0;31m# As the code has bugged, the following instructions in the cell will never be executed :\u001b[0m\u001b[0;34m\u001b[0m\u001b[0;34m\u001b[0m\u001b[0;34m\u001b[0m\u001b[0m\n",
      "\u001b[0;32m<ipython-input-10-9342b984f039>\u001b[0m in \u001b[0;36msquare_number\u001b[0;34m(number)\u001b[0m\n\u001b[1;32m      1\u001b[0m \u001b[0;32mdef\u001b[0m \u001b[0msquare_number\u001b[0m\u001b[0;34m(\u001b[0m\u001b[0mnumber\u001b[0m\u001b[0;34m)\u001b[0m\u001b[0;34m:\u001b[0m\u001b[0;34m\u001b[0m\u001b[0;34m\u001b[0m\u001b[0m\n\u001b[0;32m----> 2\u001b[0;31m     \u001b[0mresult\u001b[0m \u001b[0;34m=\u001b[0m \u001b[0mnumber\u001b[0m\u001b[0;34m**\u001b[0m\u001b[0;36m2\u001b[0m\u001b[0;34m\u001b[0m\u001b[0;34m\u001b[0m\u001b[0m\n\u001b[0m\u001b[1;32m      3\u001b[0m     \u001b[0;32mreturn\u001b[0m \u001b[0mresult\u001b[0m\u001b[0;34m\u001b[0m\u001b[0;34m\u001b[0m\u001b[0m\n\u001b[1;32m      4\u001b[0m \u001b[0;34m\u001b[0m\u001b[0m\n\u001b[1;32m      5\u001b[0m \u001b[0;31m# This will produce an error :\u001b[0m\u001b[0;34m\u001b[0m\u001b[0;34m\u001b[0m\u001b[0;34m\u001b[0m\u001b[0m\n",
      "\u001b[0;31mTypeError\u001b[0m: unsupported operand type(s) for ** or pow(): 'str' and 'int'"
     ]
    }
   ],
   "source": [
    "def square_number(number):\n",
    "    result = number**2\n",
    "    return result\n",
    "\n",
    "# This will produce an error :\n",
    "square_number(\"Hello\")\n",
    "\n",
    "# As the code has bugged, the following instructions in the cell will never be executed :\n",
    "print(\"this will not display\")"
   ]
  },
  {
   "cell_type": "markdown",
   "metadata": {},
   "source": [
    "You may want to \"handle\" this error (or exception) to prevent it from creating a bug in your code. This is possible in python with the try/except clause:\n",
    "\n",
    "```python\n",
    "try:\n",
    "    error-prone instructions\n",
    "except:\n",
    "    instructions to execute if error (instead of bugging)\n",
    "else:\n",
    "    instructions to be executed if no error\n",
    "```\n",
    "\n",
    "In our example with `square_number()`, this translates as follows:"
   ]
  },
  {
   "cell_type": "code",
   "execution_count": 11,
   "metadata": {},
   "outputs": [
    {
     "output_type": "stream",
     "name": "stdout",
     "text": "This value is not valid. Please enter a number\nWe handled the exception, so python doesn't bug anymore and this sentence will display\n"
    }
   ],
   "source": [
    "def square_number(number):\n",
    "    try:\n",
    "        result = number**2 # will bug if number is a string of characters\n",
    "    except:\n",
    "        # If there is an error, display this sentence instead of bugging :\n",
    "        print(\"This value is not valid. Please enter a number\")\n",
    "    else:\n",
    "        # If there was no error, you can display the result\n",
    "        print('The square of ', number, ' is ', result)\n",
    "        return result\n",
    "\n",
    "# Now, calling the function with a wrong argument will no longer produce a bug. :\n",
    "square_number('hello')\n",
    "\n",
    "print(\"We handled the exception, so python doesn't bug anymore and this sentence will display\")"
   ]
  },
  {
   "cell_type": "markdown",
   "metadata": {},
   "source": [
    "### Manage multiple exceptions\n",
    "\n",
    "It is quite possible that there are several types of errors in your code. All you need to know is the type of errors that can occur and the different blocks of code that need to be executed depending on the error in question.\n",
    "\n",
    "Let's look at an example with a program that will be used to share an addition in equal parts according to the number of people. Take a few minutes to look at the code below the _try_ block:"
   ]
  },
  {
   "cell_type": "code",
   "execution_count": 13,
   "metadata": {},
   "outputs": [],
   "source": [
    "def share_addition():\n",
    "    try:\n",
    "        total_addition = float(input(\"what is the total amount of the bill ?\"))\n",
    "        total_persons = float(input(\"what is the total number of guests ?\"))\n",
    "        amount_per_person = total_addition/total_persons\n",
    "    except ValueError: # happens if the user types something other than numbers.\n",
    "        print('Please recall the function and only give positive numbers.')\n",
    "    except ZeroDivisionError: # happens if the user enters \"0\" as the number of guests.\n",
    "        print('Please call back the function and give a number of guests > 0')\n",
    "    else:\n",
    "        print(\"the amount per person is {:4.2f}\".format(amount_per_person))"
   ]
  },
  {
   "cell_type": "markdown",
   "metadata": {},
   "source": [
    "Here you see that the user is asked to give the total amount of the bill and the total number of people. If the user has to enter values, there are bound to be errors. For example, he can put something other than a number in the bill or in the total number of people or he can put 0 guests in the total number of people.\n",
    "\n",
    "So here are two possible errors called `ValueError` and `ZeroDivisionError.` Hence the code you see. There are, of course, many other types of possible errors in addition to these two. We refer you to the book _Practical Introduction to Python _to see them all._"
   ]
  },
  {
   "cell_type": "code",
   "execution_count": 16,
   "metadata": {},
   "outputs": [
    {
     "output_type": "stream",
     "name": "stdout",
     "text": "the amount per person is 24.68\n"
    }
   ],
   "source": [
    "share_addition()"
   ]
  },
  {
   "cell_type": "code",
   "execution_count": 17,
   "metadata": {},
   "outputs": [
    {
     "output_type": "stream",
     "name": "stdout",
     "text": "Please recall the function and only give positive numbers.\n"
    }
   ],
   "source": [
    "share_addition()"
   ]
  },
  {
   "cell_type": "code",
   "execution_count": 18,
   "metadata": {},
   "outputs": [
    {
     "output_type": "stream",
     "name": "stdout",
     "text": "Please call back the function and give a number of guests > 0\n"
    }
   ],
   "source": [
    "share_addition()"
   ]
  },
  {
   "cell_type": "markdown",
   "metadata": {},
   "source": [
    "### Giving an alias to exceptions\n",
    "You can give an alias to your exceptions so that you can get the standard console message in addition to a custom code for your function. Here is an example:"
   ]
  },
  {
   "cell_type": "code",
   "execution_count": 19,
   "metadata": {},
   "outputs": [],
   "source": [
    "def share_addition():\n",
    "    try:\n",
    "        total_addition = float(input(\"what is the total amount of the bill ?\"))\n",
    "        total_persons = float(input(\"what is the total number of guests ?\"))\n",
    "        amount_per_person = total_addition/total_persons\n",
    "    except ValueError as e: # we use the alias to retrieve the error text.\n",
    "        print(e)\n",
    "    except ZeroDivisionError as e: # we use the alias to retrieve the error text.\n",
    "        print(e)\n",
    "    else:\n",
    "        print(\"the amount per person is {:4.2f}\".format(amount_per_person))"
   ]
  },
  {
   "cell_type": "code",
   "execution_count": 20,
   "metadata": {},
   "outputs": [
    {
     "output_type": "stream",
     "name": "stdout",
     "text": "float division by zero\n"
    }
   ],
   "source": [
    "share_addition()"
   ]
  },
  {
   "cell_type": "markdown",
   "metadata": {},
   "source": [
    "### Create your own exceptions\n",
    "\n",
    "Finally, you can create your own exception when a user can enter values that are not technically wrong in the program but do not make sense for your application. For example, with the addition share function, it should not be possible to enter negative values, even if the program as built above would accept them. In this case, you can use the `raise' statement:\n",
    "\n",
    "```python\n",
    "if (condition_which_must_create_the_mistake):\n",
    "    raise Exception(\"message\")\n",
    "```"
   ]
  },
  {
   "cell_type": "code",
   "execution_count": 21,
   "metadata": {},
   "outputs": [
    {
     "output_type": "stream",
     "name": "stdout",
     "text": "the amount per person is -32.67\n"
    }
   ],
   "source": [
    "# As it stands, our function accepts negative values, which makes no sense. :\n",
    "share_addition()"
   ]
  },
  {
   "cell_type": "code",
   "execution_count": 22,
   "metadata": {},
   "outputs": [],
   "source": [
    "# We use \"raise\" to waive an exception \n",
    "def share_addition():\n",
    "    try:\n",
    "        total_addition = float(input(\"what is the total amount of the bill ?\"))\n",
    "        total_persons = float(input(\"what is the total number of people ?\"))\n",
    "        \n",
    "        if (total_addition < 0) or (total_persons < 0):\n",
    "            raise ValueError()\n",
    "        \n",
    "        amount_per_person = total_addition/total_persons\n",
    "    except ValueError:\n",
    "        print('Please recall the function and only give positive numbers.')\n",
    "    except ZeroDivisionError:\n",
    "        print('Please call back the function and give a number of guests > 0')\n",
    "    else:\n",
    "        print(\"the amount per person is {:4.2f}\".format(amount_per_person))"
   ]
  },
  {
   "cell_type": "code",
   "execution_count": 23,
   "metadata": {},
   "outputs": [
    {
     "output_type": "stream",
     "name": "stdout",
     "text": "Please recall the function and only give positive numbers.\n"
    }
   ],
   "source": [
    "# Now, we can no longer enter negative values\n",
    "share_addition()"
   ]
  },
  {
   "cell_type": "code",
   "execution_count": null,
   "metadata": {},
   "outputs": [],
   "source": []
  }
 ],
 "metadata": {
  "language_info": {
   "codemirror_mode": {
    "name": "ipython",
    "version": 3
   },
   "file_extension": ".py",
   "mimetype": "text/x-python",
   "name": "python",
   "nbconvert_exporter": "python",
   "pygments_lexer": "ipython3",
   "version": "3.7.6-final"
  },
  "orig_nbformat": 2,
  "kernelspec": {
   "name": "python3",
   "display_name": "Python 3"
  }
 },
 "nbformat": 4,
 "nbformat_minor": 2
}