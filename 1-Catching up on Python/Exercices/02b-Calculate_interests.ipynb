{
 "cells": [
  {
   "cell_type": "markdown",
   "metadata": {
    "colab_type": "text",
    "id": "1NCGks54kp_n"
   },
   "source": [
    "# How much do you get for your savings ?"
   ]
  },
  {
   "cell_type": "markdown",
   "metadata": {
    "colab_type": "text",
    "id": "75Xe4f7vksGZ"
   },
   "source": [
    "It is said that if Christopher Columbus had set aside €1 that he had left at 2% interest per year, today his heirs would no longer need to work to live their lives. Let's try to calculate the same thing for our savings. "
   ]
  },
  {
   "cell_type": "markdown",
   "metadata": {
    "colab_type": "text",
    "id": "v4ugjwIakv2c"
   },
   "source": [
    "1. So let's create a function that will allow us to know how much money a user will have in total after a certain number of years.\n",
    "\n",
    "2. The user should be able to call the function which will then ask for :\n",
    "\n",
    "    1. The total amount he wishes to place\n",
    "    2. The number of years he wants to invest his money for\n",
    "    3. The rate of interest to which he is entitled\n",
    "    \n",
    "3. Pay attention to the errors that the user may enter.\n",
    "\n",
    "    4. If he enters a string of characters rather than a number, an error should be displayed.\n",
    "    5. If the user enters negative numbers, an error should also be output.\n",
    "    6. Finally, it is very likely that the user will write the interest rate as a percentage (e.g. 10%). Lift an error if this is the case to prevent him from putting a decimal number.\n",
    "    \n",
    "4. Finally, the program should only show one digit with a maximum of two digits after the decimal point.\n"
   ]
  },
  {
   "cell_type": "code",
   "execution_count": 3,
   "metadata": {
    "colab": {
     "base_uri": "https://localhost:8080/",
     "height": 173
    },
    "colab_type": "code",
    "id": "ovkcocqXkp2k",
    "outputId": "c6b46d9b-3503-4490-f19a-4a7e35194eea"
   },
   "outputs": [],
   "source": [
    "def savings():\n",
    "    try:\n",
    "        amount_placed = float(input(\"Amount wished to place: \"))\n",
    "        if amount_placed < 0:\n",
    "            raise TypeError(\"Number cannot be negative !!\")\n",
    "        years = float(input(\"Years of placement: \"))\n",
    "        if years < 0:\n",
    "            raise TypeError(\"Number cannot be negative !!\")\n",
    "        interest_rate = float(input(\"Rate of interest: \"))\n",
    "        if not(0 <= interest_rate <= 1):\n",
    "            raise TypeError(\"Rate of interest should be a float betwenn 0 and 1 !!\")\n",
    "    except TypeError as e:\n",
    "        raise e\n",
    "    except ValueError:\n",
    "        raise ValueError(\"Input has to be a number !!\")\n",
    "    else:\n",
    "        res = round(amount_placed*(1+interest_rate*years), 2)\n",
    "        print(\"The total amount of money you will have after you deposit %.2f at the end of %.2f years will be %.2f €\" %(amount_placed, years, res))\n",
    "        return res"
   ]
  },
  {
   "cell_type": "code",
   "execution_count": 4,
   "metadata": {
    "colab": {},
    "colab_type": "code",
    "id": "K_2poSknltX4"
   },
   "outputs": [
    {
     "name": "stdout",
     "output_type": "stream",
     "text": [
      "Amount wished to place: kizefh\n"
     ]
    },
    {
     "ename": "ValueError",
     "evalue": "Input has to be a number",
     "output_type": "error",
     "traceback": [
      "\u001b[1;31m---------------------------------------------------------------------------\u001b[0m",
      "\u001b[1;31mValueError\u001b[0m                                Traceback (most recent call last)",
      "\u001b[1;32m<ipython-input-3-2c658c7f9e10>\u001b[0m in \u001b[0;36msavings\u001b[1;34m()\u001b[0m\n\u001b[0;32m      2\u001b[0m     \u001b[1;32mtry\u001b[0m\u001b[1;33m:\u001b[0m\u001b[1;33m\u001b[0m\u001b[1;33m\u001b[0m\u001b[0m\n\u001b[1;32m----> 3\u001b[1;33m         \u001b[0mamount_placed\u001b[0m \u001b[1;33m=\u001b[0m \u001b[0mfloat\u001b[0m\u001b[1;33m(\u001b[0m\u001b[0minput\u001b[0m\u001b[1;33m(\u001b[0m\u001b[1;34m\"Amount wished to place: \"\u001b[0m\u001b[1;33m)\u001b[0m\u001b[1;33m)\u001b[0m\u001b[1;33m\u001b[0m\u001b[1;33m\u001b[0m\u001b[0m\n\u001b[0m\u001b[0;32m      4\u001b[0m         \u001b[1;32mif\u001b[0m \u001b[0mamount_placed\u001b[0m \u001b[1;33m<\u001b[0m \u001b[1;36m0\u001b[0m\u001b[1;33m:\u001b[0m\u001b[1;33m\u001b[0m\u001b[1;33m\u001b[0m\u001b[0m\n",
      "\u001b[1;31mValueError\u001b[0m: could not convert string to float: 'kizefh'",
      "\nDuring handling of the above exception, another exception occurred:\n",
      "\u001b[1;31mValueError\u001b[0m                                Traceback (most recent call last)",
      "\u001b[1;32m<ipython-input-4-134cdf85b14a>\u001b[0m in \u001b[0;36m<module>\u001b[1;34m\u001b[0m\n\u001b[1;32m----> 1\u001b[1;33m \u001b[0msavings\u001b[0m\u001b[1;33m(\u001b[0m\u001b[1;33m)\u001b[0m\u001b[1;33m\u001b[0m\u001b[1;33m\u001b[0m\u001b[0m\n\u001b[0m",
      "\u001b[1;32m<ipython-input-3-2c658c7f9e10>\u001b[0m in \u001b[0;36msavings\u001b[1;34m()\u001b[0m\n\u001b[0;32m     13\u001b[0m         \u001b[1;32mraise\u001b[0m \u001b[0me\u001b[0m\u001b[1;33m\u001b[0m\u001b[1;33m\u001b[0m\u001b[0m\n\u001b[0;32m     14\u001b[0m     \u001b[1;32mexcept\u001b[0m \u001b[0mValueError\u001b[0m\u001b[1;33m:\u001b[0m\u001b[1;33m\u001b[0m\u001b[1;33m\u001b[0m\u001b[0m\n\u001b[1;32m---> 15\u001b[1;33m         \u001b[1;32mraise\u001b[0m \u001b[0mValueError\u001b[0m\u001b[1;33m(\u001b[0m\u001b[1;34m\"Input has to be a number\"\u001b[0m\u001b[1;33m)\u001b[0m\u001b[1;33m\u001b[0m\u001b[1;33m\u001b[0m\u001b[0m\n\u001b[0m\u001b[0;32m     16\u001b[0m     \u001b[1;32melse\u001b[0m\u001b[1;33m:\u001b[0m\u001b[1;33m\u001b[0m\u001b[1;33m\u001b[0m\u001b[0m\n\u001b[0;32m     17\u001b[0m         \u001b[0mres\u001b[0m \u001b[1;33m=\u001b[0m \u001b[0mround\u001b[0m\u001b[1;33m(\u001b[0m\u001b[0mamount_placed\u001b[0m\u001b[1;33m*\u001b[0m\u001b[1;33m(\u001b[0m\u001b[1;36m1\u001b[0m\u001b[1;33m+\u001b[0m\u001b[0minterest_rate\u001b[0m\u001b[1;33m*\u001b[0m\u001b[0myears\u001b[0m\u001b[1;33m)\u001b[0m\u001b[1;33m,\u001b[0m \u001b[1;36m2\u001b[0m\u001b[1;33m)\u001b[0m\u001b[1;33m\u001b[0m\u001b[1;33m\u001b[0m\u001b[0m\n",
      "\u001b[1;31mValueError\u001b[0m: Input has to be a number"
     ]
    }
   ],
   "source": [
    "savings()"
   ]
  },
  {
   "cell_type": "code",
   "execution_count": null,
   "metadata": {},
   "outputs": [],
   "source": []
  },
  {
   "cell_type": "code",
   "execution_count": null,
   "metadata": {},
   "outputs": [],
   "source": []
  }
 ],
 "metadata": {
  "colab": {
   "name": "Fondamentaux Python - Mini Projets S1-2B.ipynb",
   "provenance": [],
   "version": "0.3.2"
  },
  "kernelspec": {
   "display_name": "Python 3",
   "language": "python",
   "name": "python3"
  },
  "language_info": {
   "codemirror_mode": {
    "name": "ipython",
    "version": 3
   },
   "file_extension": ".py",
   "mimetype": "text/x-python",
   "name": "python",
   "nbconvert_exporter": "python",
   "pygments_lexer": "ipython3",
   "version": "3.8.5"
  }
 },
 "nbformat": 4,
 "nbformat_minor": 4
}
